{
 "cells": [
  {
   "cell_type": "markdown",
   "id": "f32b13c8-12fe-48af-b8c7-277daac11190",
   "metadata": {},
   "source": [
    "# 🔎 Extração de Tópicos com BERTopic Padrão\n",
    "\n",
    "Este notebook implementa um pipeline para clusterização de processos judiciais e consulta a LLM dos rotulos dos clusters , utilizando o modelo de tópicos **BERTopic** com redução de dimensionalidade via **UMAP** e clusterização com **HDBSCAN**.\n",
    "\n",
    "---\n",
    "\n",
    "## 📋 Etapas do Processo\n",
    "\n",
    "### 1. **Consulta aos de Dados**\n",
    "Consulta os dados dos processos judiciais que envolvem **Microempreendedores Individuais (MEI)**.\n",
    "\n",
    "### 2. **Modelagem com BERTopic**\n",
    "Para os dados de cada ramo:\n",
    "- Foi utilizado o vetor `vetor_descricao_questoes` a como embeddings já calculados.\n",
    "- Aplicou-se o modelo **BERTopic** com UMAP para redução para 2 dimensões.\n",
    "- Tópicos foram extraídos automaticamente por meio do agrupamento com HDBSCAN.\n",
    "- Cada documento foi rotulado com um número de tópico e os principais termos do grupo.\n",
    "- \n",
    "### 3. **Visualizações diversas**\n",
    "- Apresentadas várioas visualizações nativas ou não do BERTopic para o conjunto de tópicos sema distinção de ramo da justiça, sao \n",
    "\n",
    "\n",
    "## 📌 Objetivo\n",
    "Identificar **temas recorrentes** nos processos judiciais envolvendo MEIs, com o intuito de auxiliar na análise da judicialização de políticas públicas e na tomada de decisão por gestores públicos.\n",
    "\n",
    "### !IMPORTANTE! \n",
    "Necessário usar as bibliotecas nas versões do requirements.txt, leia o README antes.\n"
   ]
  },
  {
   "cell_type": "code",
   "execution_count": 139,
   "id": "5a889806",
   "metadata": {},
   "outputs": [],
   "source": [
    "import psycopg2\n",
    "import pandas as pd\n",
    "import numpy as np\n",
    "from bertopic import BERTopic\n",
    "from sklearn.preprocessing import normalize\n",
    "from umap import UMAP\n",
    "import matplotlib.pyplot as plt\n",
    "import seaborn as sns\n",
    "from collections import Counter\n",
    "import plotly.express as px\n",
    "from hdbscan import HDBSCAN\n",
    "from IPython.display import clear_output\n",
    "import requests\n",
    "import json\n",
    "from psycopg2.extras import Json\n",
    "from sklearn.cluster import KMeans\n",
    "import colorsys\n",
    "import ast\n",
    "from sklearn.metrics.pairwise import cosine_distances\n",
    "import hashlib, colorsys\n",
    "from typing import List, Dict\n",
    "import math\n",
    "np.random.seed(42)"
   ]
  },
  {
   "cell_type": "code",
   "execution_count": 140,
   "id": "19297106",
   "metadata": {},
   "outputs": [],
   "source": [
    "# Função para conectar ao PostgreSQL\n",
    "def get_connection():\n",
    "    return psycopg2.connect(\n",
    "        dbname=\"PROCESSOS\",\n",
    "        user=\"\",\n",
    "        password=\"\",\n",
    "        host=\"localhost\",\n",
    "        port=\"5432\"\n",
    "    )\n",
    "\n",
    "# Função para extrair os dados do banco com filtro opcional por ramo da justiça\n",
    "def get_data():\n",
    "    conn = get_connection()\n",
    "    \n",
    "    # Parte base da query\n",
    "    query = \"\"\"\n",
    "        SELECT proc.id, descricao_caso, questoes_em_discussao, vetor_descricao_questoes, tese, dataajuizamento, ramo_justica, \n",
    "        vetor_descricao_questoes_testes_extracao, vetor_descricao_questoes_teste_plotagem\n",
    "        FROM processos AS proc\n",
    "        LEFT JOIN metadados_datajud AS meta \n",
    "        ON proc.numero_processo_tribunal = meta.numero_processo_tribunal\n",
    "        WHERE descricao_caso IS NOT NULL \n",
    "          AND questoes_em_discussao IS NOT NULL \n",
    "          AND envolve_mei = 'Sim' \n",
    "    \"\"\"\n",
    "    df = pd.read_sql(query, conn)\n",
    "    conn.close()\n",
    "    return df\n",
    "\n",
    "# Função para converter a string dos embeddings para vetor NumPy\n",
    "def convert_embedding_string_to_vector(embedding_string):\n",
    "    return np.array([float(x) for x in embedding_string[1:-1].split(',')])\n",
    "\n",
    "# Variáveis globais para armazenar o token e o horário em que foi gerado\n",
    "token = None\n",
    "last_token_time = 0\n",
    "\n",
    "# Função para obter o token da API\n",
    "def get_token():\n",
    "    client_id = ''\n",
    "    client_secret = ''\n",
    "    result = requests.request('POST', \n",
    "        \"...\", \n",
    "        #\"https://e-api-serprollm.ni.estaleiro.serpro.gov.br/token\",\n",
    "        data={\"grant_type\":\"client_credentials\"}, \n",
    "        auth=(client_id, client_secret))\n",
    "\n",
    "    if result.ok:\n",
    "        return result.json()['access_token']\n",
    "    else:\n",
    "        raise Exception(\"Erro ao obter o token\")\n",
    "\n",
    "# Função para verificar se o token está expirado (renova se necessário)\n",
    "def get_valid_token():\n",
    "    global token, last_token_time\n",
    "    current_time = time.time()\n",
    "    \n",
    "    # Se o token não existe ou já passaram mais de 20 minutos, obtemos um novo\n",
    "    if token is None or (current_time - last_token_time) > 20 * 60:  # 20 minutos em segundos\n",
    "        token = get_token()\n",
    "        last_token_time = current_time\n",
    "        print(\"Novo token obtido.\")\n",
    "\n",
    "    return token\n",
    "\n",
    "# Função para invocar o LLM\n",
    "def invoke(prompt, modelo,token, temperature=0, max_tokens=10000, stream=False):\n",
    "    # Obtém o token válido (renova se necessário)\n",
    "    \n",
    "\n",
    "    payload_data = {\n",
    "        \"model\": modelo,\n",
    "        \"messages\": [{\"role\": \"user\", \"content\": prompt}],\n",
    "        \"temperature\": temperature,\n",
    "        \"max_tokens\": max_tokens,\n",
    "        \"stream\": stream\n",
    "    }\n",
    "\n",
    "    result = requests.request(\"POST\", \n",
    "        '...', \n",
    "\n",
    "        data=json.dumps(payload_data), \n",
    "        headers={\n",
    "            \"Authorization\": f\"Bearer {token}\", \n",
    "            \"Content-Type\":\"application/json\"})\n",
    "\n",
    "    if result.ok:\n",
    "        res = result.json()\n",
    "        resposta = res[\"choices\"][0][\"message\"]['content']\n",
    "        return resposta\n",
    "    else:\n",
    "        print(result.text)\n",
    "\n"
   ]
  },
  {
   "cell_type": "markdown",
   "id": "93212f84-ea74-4b0d-af3e-971d2893e54d",
   "metadata": {},
   "source": [
    "# 📈 Funções de Visualização dos Tópicos\n",
    "\n",
    "Este módulo define funções auxiliares para **visualizar a distribuição e a importância dos tópicos** identificados nos processos judiciais. São utilizadas diferentes formas gráficas para facilitar a análise exploratória dos clusters.\n",
    "\n",
    "---\n",
    "\n",
    "## 📊 `plot_topicos_barras`\n",
    "\n",
    "- Gera um **gráfico de barras (histograma)** com a quantidade de processos por tópico.\n",
    "- Tópicos com maior frequência aparecem no topo.\n",
    "---\n",
    "\n",
    "## 🌳 `plot_treemap_topicos`\n",
    "\n",
    "- Cria um **gráfico de treemap**, onde cada área representa um tópico.\n",
    "- A **área de cada bloco** é proporcional à **quantidade de processos** associados ao tópico.\n",
    "---\n"
   ]
  },
  {
   "cell_type": "code",
   "execution_count": 141,
   "id": "2ad8341c-a888-4759-9dc6-ad908f427bd3",
   "metadata": {},
   "outputs": [],
   "source": [
    "def plot_topicos_barras(\n",
    "    df_topicos,\n",
    "    coluna_topico_num='numero_topico_LLM',\n",
    "    coluna_topico_nome='Tópico LLM',\n",
    "    top_n=10,\n",
    "    incluir_noise=True\n",
    "):\n",
    "    \"\"\"\n",
    "    Plota os top N tópicos mais frequentes em um gráfico de barras.\n",
    "\n",
    "    Parâmetros:\n",
    "    - df_topicos: DataFrame com as colunas dos tópicos (nome e número)\n",
    "    - coluna_topico_num: Nome da coluna com os números dos tópicos\n",
    "    - coluna_topico_nome: Nome da coluna com os nomes/textos dos tópicos\n",
    "    - top_n: Quantidade de tópicos mais frequentes a mostrar\n",
    "    - incluir_noise: Se False, exclui o tópico -1 (ruído)\n",
    "\n",
    "    Retorna:\n",
    "    - None (apenas exibe o gráfico)\n",
    "    \"\"\"\n",
    "\n",
    "    df = df_topicos.copy()\n",
    "\n",
    "    if not incluir_noise:\n",
    "        df = df[df[coluna_topico_num] != -1]\n",
    "\n",
    "    # Agrupa e conta por número e nome\n",
    "    contagem = df.groupby(\n",
    "        [coluna_topico_num, coluna_topico_nome]\n",
    "    ).size().reset_index(name='quantidade')\n",
    "\n",
    "    # Ordena e filtra top N\n",
    "    contagem = contagem.sort_values(by='quantidade', ascending=False).head(top_n)\n",
    "\n",
    "    # Gera rótulo combinando número + nome do tópico\n",
    "    contagem['label'] = contagem[coluna_topico_num].astype(str) + ' - ' + contagem[coluna_topico_nome]\n",
    "\n",
    "    # Plot\n",
    "    plt.figure(figsize=(12, 6))\n",
    "    bars = plt.bar(contagem['label'], contagem['quantidade'], color='skyblue')\n",
    "\n",
    "    # Rótulo em cima das barras\n",
    "    for bar in bars:\n",
    "        height = bar.get_height()\n",
    "        plt.text(bar.get_x() + bar.get_width()/2, height + 1, f'{int(height)}',\n",
    "                 ha='center', va='bottom', fontsize=9, fontweight='bold')\n",
    "\n",
    "    total = df.shape[0]\n",
    "    plt.title(f'Tópicos Mais Frequentes (Top {top_n}) - Total de Registros: {total}', fontsize=14)\n",
    "    plt.xlabel('Tópicos')\n",
    "    plt.ylabel('Quantidade de Documentos')\n",
    "    plt.xticks(rotation=45, ha='right')\n",
    "    plt.tight_layout()\n",
    "    plt.grid(axis='y', linestyle='--', alpha=0.5)\n",
    "    plt.show()\n",
    "\n",
    "\n",
    "\n",
    "def plot_treemap_topicos(\n",
    "    df_topicos,\n",
    "    coluna_topico_num='numero_topico_LLM',\n",
    "    coluna_topico_nome='Tópico LLM',\n",
    "    top_n=15,\n",
    "    incluir_noise=False,\n",
    "    titulo=\"Distribuição dos Tópicos (Treemap)\"\n",
    "):\n",
    "    \"\"\"\n",
    "    Gera um gráfico de árvore (Treemap) para os tópicos mais frequentes.\n",
    "\n",
    "    Parâmetros:\n",
    "    - df_topicos: DataFrame com colunas dos tópicos\n",
    "    - coluna_topico_num: Nome da coluna com número do tópico\n",
    "    - coluna_topico_nome: Nome da coluna com nome/texto do tópico\n",
    "    - top_n: Número de tópicos mais frequentes a exibir\n",
    "    - incluir_noise: Se False, remove o tópico -1 (ruído)\n",
    "    - titulo: Título do gráfico\n",
    "\n",
    "    Retorna:\n",
    "    - Figura do plotly (interativa)\n",
    "    \"\"\"\n",
    "    df = df_topicos.copy()\n",
    "\n",
    "    if not incluir_noise:\n",
    "        df = df[df[coluna_topico_num] != -1]\n",
    "\n",
    "    # Agrupamento e contagem\n",
    "    contagem = df.groupby(\n",
    "        [coluna_topico_num, coluna_topico_nome]\n",
    "    ).size().reset_index(name='quantidade')\n",
    "\n",
    "    # Ordenar pelos mais frequentes\n",
    "    contagem = contagem.sort_values(by='quantidade', ascending=False).head(top_n)\n",
    "\n",
    "    # Nome de exibição: número + descrição resumida\n",
    "    contagem['topico'] = contagem.apply(\n",
    "        lambda row: f\"{row[coluna_topico_num]} - {row[coluna_topico_nome][:40]}...\", axis=1\n",
    "    )\n",
    "\n",
    "    fig = px.treemap(\n",
    "        contagem,\n",
    "        path=['topico'],\n",
    "        values='quantidade',\n",
    "        color='quantidade',\n",
    "        color_continuous_scale='RdBu',\n",
    "        title=f\"{titulo}<br><sup>Total de documentos considerados: {df.shape[0]}</sup>\"\n",
    "    )\n",
    "    \n",
    "    fig.update_traces(\n",
    "        textinfo=\"label+value\",\n",
    "        hovertemplate=\"<b>%{label}</b><br>Quantidade: %{value}<extra></extra>\"\n",
    "    )\n",
    "    fig.show()\n"
   ]
  },
  {
   "cell_type": "markdown",
   "id": "22b07715-9591-499c-9532-70496b481652",
   "metadata": {},
   "source": [
    "# Funções para clusterização e rotulagem\n",
    "\n",
    "Prompt padrão do bertopic, listado abaixo, foi alterado para um prompt mais adequado ao contexto, que será consultado no modelo PixTral 12B\n",
    "\n",
    "\"I have a topic that is described by\n",
    "the following keywords: [KEYWORDS]\n",
    "In this topic, the following\n",
    "documents are a small but\n",
    "representative subset of all\n",
    "documents in the topic: [DOCUMENTS]\n",
    "Based on the information above,\n",
    "please give a description of this\n",
    "topic in the following format:\n",
    "topic: <description>\""
   ]
  },
  {
   "cell_type": "code",
   "execution_count": 142,
   "id": "e2c01dc0-c454-4c85-bf57-60d6daa4b5d0",
   "metadata": {},
   "outputs": [],
   "source": [
    "def rotular_com_llm(documentos, keywords, token, rotulos_existentes):\n",
    "    modelo = 'pixtral-12b'\n",
    "\n",
    "    \n",
    "    prompt = \"\"\"Você é um assistente inteligente de extração de tópicos, especializado em nomear tópicos de forma curta, clara e amigável, com base em textos representativos e palavras-chave. \n",
    "Seu objetivo é criar um **rótulo conciso** que represente o problema central em comum dos conteúdos discutidos no tópico, facilitando a identificação do assunto por usuários finais. \n",
    "\n",
    "Siga as diretrizes abaixo:\n",
    "- Não inclua o termo \"MEI\" no nome do tópico.\n",
    "- O nome deve ter de 1 a 3 palavras.\n",
    "- Não cite nome de pessoas, locais ou instituições.\n",
    "\"\"\"\n",
    "    prompt += \"\\n### Textos amostrados deste tópico:\\n\"\n",
    "    for doc in documentos:\n",
    "        prompt += f\"- {doc}\\n\"\n",
    "\n",
    "    prompt += f\"\\n### Palavras-chave: {keywords}\\n\\n\"\n",
    "    prompt += \"Retorne apenas o nome curto do novo tópico, sem explicações ou pontuação adicional.\\n\"\n",
    "    print(prompt)\n",
    "    resposta = invoke(prompt, modelo, token)\n",
    "   \n",
    "    print(resposta)\n",
    "    \n",
    "    clear_output(wait=True)\n",
    "    return resposta.strip()\n"
   ]
  },
  {
   "cell_type": "code",
   "execution_count": 143,
   "id": "9d561488-892c-4695-a858-dc9aaf2cb681",
   "metadata": {},
   "outputs": [],
   "source": [
    "#Antes de iniciar,limpar todos os dados dos clusters antigos \n",
    "def limpar_clusters(conn):\n",
    "    # Limpa todos os dados de cluster antes de reprocessar\n",
    "    cur_limpa = conn.cursor()\n",
    "    cur_limpa.execute(\"\"\"\n",
    "        UPDATE processos SET \n",
    "            numero_topico_BERTopic_Padrao = NULL,\n",
    "            descricao_topico_BERTopic_Padrao = NULL,\n",
    "            descricao_topico_llm = NULL,\n",
    "            numero_topico_llm = NULL,\n",
    "            proximo_do_centroid = NULL,\n",
    "            coordenadas_umap = NULL,\n",
    "            descricao_curta_cluster = NULL,\n",
    "            descricao_longa_cluster = NULL,\n",
    "            questoes_discussao_cluster = NULL,\n",
    "            solucoes_propostas_cluster = NULL,\n",
    "            teses_cluster = NULL,\n",
    "            descricao_topico_llm_ingles  = NULL,\n",
    "            cor_cluster = NULL\n",
    "    \"\"\")\n",
    "    conn.commit()\n",
    "    cur_limpa.close()\n",
    "    print(\"🧹 Campos de cluster anteriores limpos.\")\n"
   ]
  },
  {
   "cell_type": "markdown",
   "id": "d64ca01f-01e4-43ea-8134-ca599920e876",
   "metadata": {},
   "source": [
    "# Pipeline de Extração de Tópicos — Resumo\n",
    "\n",
    "1. **Preparação dos dados**\n",
    "   - Limpa clusters/atributos anteriores no banco (`limpar_clusters`).\n",
    "   - Concatena `descricao_caso` + `questoes_em_discussao` → **corpus**.\n",
    "   - Lê **embeddings** (`vetor_descricao_questoes_testes_extracao`) e **coordenadas 2D** (`vetor_descricao_questoes_teste_plotagem`) já do banco.\n",
    "   - Converte strings de vetores para `np.ndarray` e aplica **máscara de linhas válidas**.\n",
    "\n",
    "2. **Modelagem BERTopic (sem UMAP interno)**\n",
    "   - Usa `BaseDimensionalityReduction`/`_IdentityDim` para **não reduzir novamente**.\n",
    "   - Treinamento do Bertopic: `fit_transform(corpus_ok, X)` → `topics` (+ `probabilities`).\n",
    "\n",
    "3. **Documentos representativos por tópico**\n",
    "   - Para cada tópico ≠ `-1`:\n",
    "     - Calcula **centróide** no espaço dos embeddings.\n",
    "     - Distância cosseno documento–centróide.\n",
    "     - Marca **N mais próximos** (`é próximo do centroid = 1`).\n",
    "\n",
    "4. **Rotulagem via LLM**\n",
    "   - Coleta textos dos docs mais próximos + **palavras-chave** do BERTopic.\n",
    "   - Chama `rotular_com_llm(...)` → **“Tópico LLM”**.\n",
    "   - Propaga o rótulo LLM a todos os docs do tópico.\n",
    "\n",
    "5. **Mapeamentos finais**\n",
    "   - `numero_topico_BERTopic_Padrao` (ID do BERTopic).\n",
    "   - `descricao_topico_BERTopic_Padrao` (top-5 termos).\n",
    "   - `numero_topico_LLM` a partir do rótulo LLM.\n",
    "   - Define labels no modelo: `topic_model.set_topic_labels(...)`.\n",
    "\n",
    "6. **Persistência no banco (opcional)**\n",
    "   - Se `salvar == 'Sim'`, atualiza por linha válida:\n",
    "     - `numero_topico_BERTopic_Padrao`, `descricao_topico_BERTopic_Padrao`\n",
    "     - `descricao_topico_llm`, `numero_topico_llm`\n",
    "     - `proximo_do_centroid`, `coordenadas_umap`\n",
    "     - `cor_cluster` (usa a existente ou *fallback* do código)\n",
    "   - **Commit** por registro + log progressivo.\n",
    "\n",
    "7. **Saídas**\n",
    "   - Retorna: `df` (atualizado), `topic_model`, `probabilities`, `corpus`, `timestamps`,\n",
    "     `topics`, `reduced_embeddings (Xp)`, `embeddings`.\n",
    "\n",
    "> **Notas**\n",
    "> - As coordenadas de plotagem já vêm do banco: **não há UMAP adicional**.\n",
    "> - Há um gerador de **cores distintas** (HLS + razão áurea) para consistência visual quando necessário.\n"
   ]
  },
  {
   "cell_type": "code",
   "execution_count": 144,
   "id": "b56d5cfd-f39a-46c5-b6e4-c4602349c55e",
   "metadata": {},
   "outputs": [],
   "source": [
    "# # Função usada na redução de dimencionalidade\n",
    "class _IdentityDim:\n",
    "    def fit(self, X, y=None): return self\n",
    "    def transform(self, X): return X\n",
    "\n",
    "# Função principal para extrair tópicos e atualizar o banco\n",
    "def extract_topics_and_update_db(df, salvar='Não'):\n",
    "    conn = get_connection()\n",
    "    limpar_clusters(conn)\n",
    "    n_clusters = 20\n",
    "    frac_docs_por_topico = 0.30  # 30% por tópico\n",
    "    timestamps = pd.to_datetime(df['dataajuizamento'], format=\"%Y-%m-%d\", errors='coerce')\n",
    "\n",
    "    # concatena descrição + questões (vetorizado, seguro p/ NaN)\n",
    "    desc = df['descricao_caso'].astype('string').fillna('').str.strip()\n",
    "    ques = df['questoes_em_discussao'].astype('string').fillna('').str.strip()\n",
    "    \n",
    "    # se ambos existem, junta com quebra de linha; senão usa o que tiver\n",
    "    corpus = pd.Series(\n",
    "        np.where((desc != '') & (ques != ''), desc + '\\n\\n' + ques, desc + ques),\n",
    "        index=df.index,\n",
    "        dtype='object'\n",
    "    )\n",
    "\n",
    "    #-------------RECEBER OS EMBEDDINGS DO BANCO, SEM CALCULAR ------------------\n",
    "    # --- Converte inputs para Series para facilitar filtragem/alinhamento ---\n",
    "    if not isinstance(corpus, (pd.Series, list)):\n",
    "        raise ValueError(\"Passe 'corpus' como pandas Series ou lista de strings.\")\n",
    "    corpus = pd.Series(corpus, dtype=\"object\")\n",
    "\n",
    "    emb_col  = pd.Series(df['vetor_descricao_questoes_testes_extracao'], dtype=\"object\")\n",
    "    plot_col = pd.Series(df['vetor_descricao_questoes_teste_plotagem'], dtype=\"object\")\n",
    "\n",
    "    # >>> Parse: string \"[...]\" -> np.array <<<\n",
    "    def _to_arr(v):\n",
    "        if isinstance(v, (np.ndarray, list, tuple)):\n",
    "            return np.asarray(v, dtype=np.float32)\n",
    "        if isinstance(v, str):\n",
    "            s = v.strip()\n",
    "            if not s:\n",
    "                return None\n",
    "            # tenta lista Python\n",
    "            try:\n",
    "                return np.asarray(ast.literal_eval(s), dtype=np.float32)\n",
    "            except Exception:\n",
    "                # tenta JSON\n",
    "                try:\n",
    "                    return np.asarray(json.loads(s), dtype=np.float32)\n",
    "                except Exception:\n",
    "                    return None\n",
    "        return None\n",
    "\n",
    "    emb_col  = emb_col.apply(_to_arr)\n",
    "    plot_col = plot_col.apply(_to_arr)\n",
    "\n",
    "    # --- Máscaras de validade ---\n",
    "    mask_texto = corpus.fillna(\"\").str.strip().ne(\"\")\n",
    "\n",
    "    def _ok_vec(v, min_len=1):\n",
    "        return isinstance(v, np.ndarray) and v.size >= min_len\n",
    "\n",
    "    mask_emb  = emb_col.apply(lambda v: _ok_vec(v, 1))\n",
    "    mask_plot = plot_col.apply(lambda v: _ok_vec(v, 2) and (np.asarray(v).shape[-1] >= 2))\n",
    "\n",
    "    mask = mask_texto & mask_emb & mask_plot\n",
    "    if mask.sum() == 0:\n",
    "        raise ValueError(\"Nenhuma linha válida após filtrar texto/embeddings/plotagem.\")\n",
    "\n",
    "    if mask.sum() < len(corpus):\n",
    "        print(f\"ℹ️ Removidas {len(corpus) - mask.sum()} linhas inválidas (texto vazio/vetores ausentes).\")\n",
    "\n",
    "    # índices originais que passaram no filtro (para mapear de/para df)\n",
    "    idx_valid = np.flatnonzero(mask.values)\n",
    "\n",
    "    corpus_ok = corpus[mask].tolist()\n",
    "\n",
    "    # Empilha embeddings (N, D) e plotagem (N, 2+)\n",
    "    X  = np.vstack([np.asarray(v, dtype=np.float32) for v in emb_col[mask]])\n",
    "    Xp = np.vstack([np.asarray(v, dtype=np.float32) for v in plot_col[mask]])\n",
    "\n",
    "    # você usa 'embeddings' abaixo; prenda em X\n",
    "    embeddings = X\n",
    "\n",
    "    # --- BERTopic sem UMAP interno (não reduz de novo) ---\n",
    "    try:\n",
    "        dim_model = BaseDimensionalityReduction()   # oficial (não faz nada)\n",
    "    except Exception:\n",
    "        dim_model = _IdentityDim()                  # fallback compatível\n",
    "\n",
    "    topic_model = BERTopic(\n",
    "        verbose=True,\n",
    "        language=\"portuguese\",\n",
    "        umap_model=dim_model,          # NÃO reduz dimensionalidade\n",
    "        calculate_probabilities=False,\n",
    "    )\n",
    "    topics, probabilities = topic_model.fit_transform(corpus_ok, X)\n",
    "    \n",
    "    # =========================\n",
    "    # CORES: utilitários e gerador estável e bem separado por RÓTULO\n",
    "    # =========================\n",
    "\n",
    "    \n",
    "    # Paletas qualitativas consagradas (hex), ordenadas por distinção\n",
    "    PALETTE_KELLY_22 = [\n",
    "        \"#F2F3F4\", \"#222222\", \"#F3C300\", \"#875692\", \"#F38400\", \"#A1CAF1\",\n",
    "        \"#BE0032\", \"#C2B280\", \"#848482\", \"#008856\", \"#E68FAC\", \"#0067A5\",\n",
    "        \"#F99379\", \"#604E97\", \"#F6A600\", \"#B3446C\", \"#DCD300\", \"#882D17\",\n",
    "        \"#8DB600\", \"#654522\", \"#E25822\", \"#2B3D26\"\n",
    "    ]\n",
    "    # Wong 18 (colorblind-friendly)\n",
    "    PALETTE_WONG_18 = [\n",
    "        \"#000000\",\"#E69F00\",\"#56B4E9\",\"#009E73\",\"#F0E442\",\"#0072B2\",\n",
    "        \"#D55E00\",\"#CC79A7\",\"#999999\",\"#117733\",\"#44AA99\",\"#88CCEE\",\n",
    "        \"#DDCC77\",\"#661100\",\"#6699CC\",\"#AA4466\",\"#882255\",\"#DDDDDD\"\n",
    "    ]\n",
    "    # Okabe–Ito 8 (super seguras)\n",
    "    PALETTE_OKABE_ITO_8 = [\n",
    "        \"#000000\",\"#E69F00\",\"#56B4E9\",\"#009E73\",\"#F0E442\",\"#0072B2\",\n",
    "        \"#D55E00\",\"#CC79A7\"\n",
    "    ]\n",
    "    \n",
    "    def _hash_key(s: str) -> int:\n",
    "        return int(hashlib.md5(s.encode(\"utf-8\")).hexdigest(), 16)\n",
    "    \n",
    "    def _golden_fallback(n_needed: int, seed: float = 0.11):\n",
    "        \"\"\"Gera n_needed cores extras em HLS com espaçamento por ângulo áureo.\"\"\"\n",
    "        phi = 0.6180339887498949\n",
    "        L_SEQ = (0.50, 0.65, 0.40)\n",
    "        S_SEQ = (0.90, 0.75)\n",
    "        out = []\n",
    "        for k in range(n_needed):\n",
    "            h = (seed + k * phi) % 1.0\n",
    "            l = L_SEQ[k % len(L_SEQ)]\n",
    "            s = S_SEQ[(k // len(L_SEQ)) % len(S_SEQ)]\n",
    "            r, g, b = colorsys.hls_to_rgb(h, l, s)\n",
    "            out.append(\"#{:02X}{:02X}{:02X}\".format(int(r*255), int(g*255), int(b*255)))\n",
    "        return out\n",
    "    \n",
    "    def build_distinct_color_map(labels: List[str], palette: str = \"kelly\") -> Dict[str, str]:\n",
    "        \"\"\"\n",
    "        Retorna {rótulo: cor_hex} usando paletas qualitativas muito distintas.\n",
    "        palette: \"kelly\" | \"wong\" | \"okabe\"\n",
    "        \"\"\"\n",
    "        # normaliza rótulos\n",
    "        norm = [(lab if lab and str(lab).strip() else \"Tópico indefinido\") for lab in labels]\n",
    "        uniq = sorted(set(norm), key=lambda x: (_hash_key(x), x))  # ordem estável por hash\n",
    "    \n",
    "        # escolhe paleta base\n",
    "        base = PALETTE_KELLY_22 if palette == \"kelly\" else (\n",
    "            PALETTE_WONG_18 if palette == \"wong\" else PALETTE_OKABE_ITO_8\n",
    "        )\n",
    "    \n",
    "        # se precisar de mais cores que a paleta, completa com fallback\n",
    "        if len(uniq) > len(base):\n",
    "            seed = (_hash_key(\"|\".join(uniq)) % 360) / 360.0\n",
    "            extra = _golden_fallback(len(uniq) - len(base), seed=seed)\n",
    "            palette_full = base + extra\n",
    "        else:\n",
    "            palette_full = base\n",
    "    \n",
    "        # mapeia na ordem estável\n",
    "        cmap = {lab: palette_full[i] for i, lab in enumerate(uniq)}\n",
    "        return cmap\n",
    "    # ================== FIM PALLETES + MAPA DE CORES DISTINTAS ==================\n",
    "\n",
    "    # -------------- inicio extração do nome do topico via llm\n",
    "    # Configurar número de documentos mais próximos do centro por tópico\n",
    "    token = get_token()\n",
    "    n_docs_por_topico = 30\n",
    "\n",
    "    # Inicializar as colunas que serão preenchidas\n",
    "    if 'Tópico LLM' not in df.columns:\n",
    "        df['Tópico LLM'] = None\n",
    "    if 'é próximo do centroid' not in df.columns:\n",
    "        df['é próximo do centroid'] = 0\n",
    "\n",
    "    # Para cada tópico válido\n",
    "    topicos_unicos = set(topics)\n",
    "    topicos_validos = [t for t in topicos_unicos if t != -1]\n",
    "\n",
    "    for topico_id in topicos_validos:\n",
    "        idx_topico = np.where(np.array(topics) == topico_id)[0]\n",
    "        embeddings_topico = embeddings[idx_topico]\n",
    "    \n",
    "        # Centroide e distâncias\n",
    "        centroide = np.mean(embeddings_topico, axis=0).reshape(1, -1)\n",
    "        distancias = cosine_distances(embeddings_topico, centroide).flatten()\n",
    "    \n",
    "        # --- NOVO: número de docs por tópico baseado em porcentagem, com limites ---\n",
    "        tam_topico = len(idx_topico)\n",
    "        # candidato pela fração\n",
    "        n_cand = int(math.ceil(frac_docs_por_topico * tam_topico))\n",
    "        # aplica limites: mínimo 15 (ou menos, se o tópico for menor), máximo 100\n",
    "        n_docs_por_topico = min(max(n_cand, 15), 150, tam_topico)\n",
    "    \n",
    "        # Índices dos N documentos mais próximos ao centroide\n",
    "        indices_relativos_proximos = np.argsort(distancias)[:n_docs_por_topico]\n",
    "        indices_absolutos = idx_topico[indices_relativos_proximos]\n",
    "    \n",
    "        # Mapear para índices originais do df\n",
    "        indices_orig = [idx_valid[i] for i in indices_absolutos]\n",
    "    \n",
    "        # Marcar os documentos mais próximos no DataFrame\n",
    "        df.loc[indices_orig, 'é próximo do centroid'] = 1\n",
    "    \n",
    "        # Textos + palavras-chave\n",
    "        docs_topico = corpus.iloc[indices_orig].tolist()\n",
    "        topic_words = topic_model.get_topic(topico_id) or []\n",
    "        palavras_chave = [palavra for palavra, _ in topic_words]\n",
    "    \n",
    "        # Rótulo LLM\n",
    "        rotulo = rotular_com_llm(docs_topico, palavras_chave, token, df['Tópico LLM'])\n",
    "    \n",
    "        # Propaga o rótulo ao tópico\n",
    "        df.loc[[idx_valid[i] for i in idx_topico], 'Tópico LLM'] = rotulo\n",
    "\n",
    "\n",
    "    # =========================\n",
    "    # >>> AQUI: Atribuição de CORES POR RÓTULO LLM (NOVO)\n",
    "    # =========================\n",
    "    # rótulos da execução atual (somente linhas válidas)\n",
    "    rotulos_exec = (\n",
    "        df.loc[idx_valid, \"Tópico LLM\"]\n",
    "          .fillna(\"\")\n",
    "          .astype(str)\n",
    "          .str.strip()\n",
    "          .replace(\"\", \"Tópico indefinido\")\n",
    "    )\n",
    "    # gera mapa determinístico e bem separado\n",
    "    mapa_cor_por_rotulo = build_distinct_color_map(rotulos_exec.tolist())\n",
    "    # aplica a cor do rótulo em cada linha válida\n",
    "    df.loc[idx_valid, \"cor_cluster\"] = rotulos_exec.map(mapa_cor_por_rotulo).values\n",
    "    # =========================\n",
    "    # FIM: cores por rótulo\n",
    "    # =========================\n",
    "\n",
    "    # Tópico numérico e descrição (somente nas linhas válidas)\n",
    "    df.loc[idx_valid, 'numero_topico_BERTopic_Padrao'] = topics\n",
    "    df.loc[idx_valid, 'descricao_topico_BERTopic_Padrao'] = [\n",
    "        ', '.join([word for word, _ in (topic_model.get_topic(topic) or [])[:5]]) if topic != -1 else \"Tópico indefinido\"\n",
    "        for topic in topics\n",
    "    ]\n",
    "\n",
    "    # Geração da coluna numero_topico_LLM\n",
    "    rotulos_validos = df['Tópico LLM'].dropna().unique()\n",
    "    rotulos_validos = [r for r in rotulos_validos if str(r).strip() != '']\n",
    "    mapa_rotulos = {rotulo: i for i, rotulo in enumerate(rotulos_validos)}\n",
    "    df['numero_topico_LLM'] = df['Tópico LLM'].apply(\n",
    "        lambda x: mapa_rotulos.get(x, -1) if pd.notnull(x) and str(x).strip() != '' else -1\n",
    "    )\n",
    "\n",
    "    # Atualiza os rótulos no BERTopic para visualizações futuras\n",
    "    mapa_rotulos_llm = {\n",
    "        topico: df.loc[df['numero_topico_BERTopic_Padrao'] == topico, 'Tópico LLM'].dropna().unique()[0]\n",
    "        for topico in topicos_validos\n",
    "        if len(df.loc[df['numero_topico_BERTopic_Padrao'] == topico, 'Tópico LLM'].dropna().unique()) > 0\n",
    "    }\n",
    "    mapa_rotulos_llm[-1] = \"Tópico indefinido\"\n",
    "    topic_model.set_topic_labels(mapa_rotulos_llm)\n",
    "\n",
    "    # >>> NÃO calcular UMAP: vamos usar as coordenadas já fornecidas em Xp <<<\n",
    "    reduced_embeddings = Xp  # (N_válidas, 2)\n",
    "\n",
    "    if (salvar == 'Sim'):\n",
    "        # Atualizar no banco (apenas linhas válidas, alinhadas ao reduced_embeddings)\n",
    "        conn = get_connection()\n",
    "        total = len(idx_valid)\n",
    "        for j, i_abs in enumerate(idx_valid):\n",
    "            row = df.iloc[i_abs]\n",
    "            cur = conn.cursor()\n",
    "            sql = \"\"\"\n",
    "                UPDATE processos \n",
    "                SET numero_topico_BERTopic_Padrao = %s,\n",
    "                    descricao_topico_BERTopic_Padrao = %s,\n",
    "                    descricao_topico_llm = %s,\n",
    "                    numero_topico_llm = %s,\n",
    "                    proximo_do_centroid = %s,\n",
    "                    coordenadas_umap = %s,\n",
    "                    cor_cluster = %s\n",
    "                WHERE id = %s\n",
    "            \"\"\"\n",
    "\n",
    "            x, y = reduced_embeddings[j]\n",
    "            # sempre tipos nativos\n",
    "            num_top_padrao = None\n",
    "            if pd.notna(row['numero_topico_BERTopic_Padrao']) and int(row['numero_topico_BERTopic_Padrao']) != -1:\n",
    "                num_top_padrao = int(row['numero_topico_BERTopic_Padrao'])\n",
    "\n",
    "            desc_top = str(row['descricao_topico_BERTopic_Padrao']) if pd.notna(row['descricao_topico_BERTopic_Padrao']) else None\n",
    "            desc_llm = (str(row['Tópico LLM']).strip() or None) if pd.notna(row['Tópico LLM']) else None\n",
    "\n",
    "            num_top_llm = None\n",
    "            if pd.notna(row['numero_topico_LLM']) and int(row['numero_topico_LLM']) != -1:\n",
    "                num_top_llm = int(row['numero_topico_LLM'])\n",
    "\n",
    "            prox_centroid = int(row['é próximo do centroid']) if pd.notna(row['é próximo do centroid']) else 0\n",
    "\n",
    "            coordenadas = [float(x), float(y)]\n",
    "            coord_param = coordenadas  # se sua coluna for JSONB, use psycopg2.extras.Json(coordenadas)\n",
    "\n",
    "            # pega a cor já aplicada; se faltar, refaz pelo rótulo (fallback)\n",
    "            if pd.notna(row.get('cor_cluster', None)) and str(row.get('cor_cluster')).strip():\n",
    "                cor_hex = str(row['cor_cluster'])\n",
    "            else:\n",
    "                rotulo_txt = (str(row.get('Tópico LLM', '')).strip() or \"Tópico indefinido\")\n",
    "                cor_hex = mapa_cor_por_rotulo.get(rotulo_txt, \"#B0B0B0\")\n",
    "\n",
    "            params = (\n",
    "                num_top_padrao,\n",
    "                desc_top,\n",
    "                desc_llm,\n",
    "                num_top_llm,\n",
    "                prox_centroid,\n",
    "                coord_param,\n",
    "                cor_hex,              # <-- usa a cor por rótulo\n",
    "                int(row['id'])\n",
    "            )\n",
    "            cur.execute(sql, params)\n",
    "            conn.commit()\n",
    "            cur.close()\n",
    "            clear_output(wait=True)\n",
    "            print(f\"📦 Processo {j+1} de {len(idx_valid)} salvo (ID {int(row['id'])})\")\n",
    "\n",
    "        conn.close()\n",
    "\n",
    "    # Retorno usando as coordenadas já recebidas\n",
    "    reduced_embeddings = Xp\n",
    "    return df, topic_model, probabilities, corpus, timestamps, topics, reduced_embeddings, embeddings\n"
   ]
  },
  {
   "cell_type": "code",
   "execution_count": 145,
   "id": "27ebc29c-0c62-47ed-805c-cddff253801f",
   "metadata": {},
   "outputs": [
    {
     "name": "stdout",
     "output_type": "stream",
     "text": [
      "📦 Processo 11775 de 11775 salvo (ID 10710)\n"
     ]
    }
   ],
   "source": [
    "df =  get_data()\n",
    "df_with_topics, topic_model, probabilities,corpus,timestamps,topics,reduced_embeddings,embeddings = extract_topics_and_update_db(df, salvar = 'Sim')"
   ]
  },
  {
   "cell_type": "code",
   "execution_count": 146,
   "id": "39e63165-c373-43e7-990b-d0c48fe2a1a8",
   "metadata": {},
   "outputs": [
    {
     "name": "stdout",
     "output_type": "stream",
     "text": [
      "Quantidade total de tópicos BERTopic (incluindo -1): 59\n",
      "Quantidade de tópicos BERTopic (válidos): 58\n",
      "Quantidade total de tópicos LLM (incluindo -1): 55\n",
      "Quantidade de tópicos LLM (válidos): 54\n"
     ]
    }
   ],
   "source": [
    "# Conta tópicos válidos (diferentes de -1) do BERTopic\n",
    "n_topicos_bertopic = df_with_topics['numero_topico_BERTopic_Padrao'].nunique()\n",
    "n_topicos_bertopic_validos = df_with_topics[df_with_topics['numero_topico_BERTopic_Padrao'] != -1]['numero_topico_BERTopic_Padrao'].nunique()\n",
    "\n",
    "# Conta tópicos válidos do LLM\n",
    "n_topicos_llm = df_with_topics['numero_topico_LLM'].nunique()\n",
    "n_topicos_llm_validos = df_with_topics[df_with_topics['numero_topico_LLM'] != -1]['numero_topico_LLM'].nunique()\n",
    "\n",
    "# Imprime o resultado\n",
    "print(f\"Quantidade total de tópicos BERTopic (incluindo -1): {n_topicos_bertopic}\")\n",
    "print(f\"Quantidade de tópicos BERTopic (válidos): {n_topicos_bertopic_validos}\")\n",
    "print(f\"Quantidade total de tópicos LLM (incluindo -1): {n_topicos_llm}\")\n",
    "print(f\"Quantidade de tópicos LLM (válidos): {n_topicos_llm_validos}\")\n"
   ]
  },
  {
   "cell_type": "code",
   "execution_count": 147,
   "id": "7b78a9ad-1ea1-40b8-b498-f3d52d65e908",
   "metadata": {},
   "outputs": [
    {
     "data": {
      "text/html": [
       "<div>\n",
       "<style scoped>\n",
       "    .dataframe tbody tr th:only-of-type {\n",
       "        vertical-align: middle;\n",
       "    }\n",
       "\n",
       "    .dataframe tbody tr th {\n",
       "        vertical-align: top;\n",
       "    }\n",
       "\n",
       "    .dataframe thead th {\n",
       "        text-align: right;\n",
       "    }\n",
       "</style>\n",
       "<table border=\"1\" class=\"dataframe\">\n",
       "  <thead>\n",
       "    <tr style=\"text-align: right;\">\n",
       "      <th></th>\n",
       "      <th>id</th>\n",
       "      <th>descricao_caso</th>\n",
       "      <th>questoes_em_discussao</th>\n",
       "      <th>vetor_descricao_questoes</th>\n",
       "      <th>tese</th>\n",
       "      <th>dataajuizamento</th>\n",
       "      <th>ramo_justica</th>\n",
       "      <th>vetor_descricao_questoes_testes_extracao</th>\n",
       "      <th>vetor_descricao_questoes_teste_plotagem</th>\n",
       "      <th>Tópico LLM</th>\n",
       "      <th>é próximo do centroid</th>\n",
       "      <th>cor_cluster</th>\n",
       "      <th>numero_topico_BERTopic_Padrao</th>\n",
       "      <th>descricao_topico_BERTopic_Padrao</th>\n",
       "      <th>numero_topico_LLM</th>\n",
       "    </tr>\n",
       "  </thead>\n",
       "  <tbody>\n",
       "    <tr>\n",
       "      <th>0</th>\n",
       "      <td>47077</td>\n",
       "      <td>Uma pessoa entrou com embargos à execução cont...</td>\n",
       "      <td>Foi discutido se o título executivo preenchia ...</td>\n",
       "      <td>[-0.25154325,-0.24265775,0.48420408,0.08698164...</td>\n",
       "      <td>A cláusula de multa por rescisão unilateral em...</td>\n",
       "      <td>2023-08-25</td>\n",
       "      <td>Justiça Estadual</td>\n",
       "      <td>[8.421827,1.5428829,7.687,6.386847,5.0135374]</td>\n",
       "      <td>[3.7323902,6.549887]</td>\n",
       "      <td>None</td>\n",
       "      <td>0</td>\n",
       "      <td>#DF1F64</td>\n",
       "      <td>-1.0</td>\n",
       "      <td>Tópico indefinido</td>\n",
       "      <td>-1</td>\n",
       "    </tr>\n",
       "    <tr>\n",
       "      <th>1</th>\n",
       "      <td>27882</td>\n",
       "      <td>Angela Maria Miranda, uma microempreendedora i...</td>\n",
       "      <td>Foi discutido se a relação entre as partes era...</td>\n",
       "      <td>[-0.40866718,-0.25491318,0.5138874,0.07471814,...</td>\n",
       "      <td>A relação entre microempreendedores e prestado...</td>\n",
       "      <td>2021-11-25</td>\n",
       "      <td>Justiça Estadual</td>\n",
       "      <td>[8.50996,1.1559459,8.286508,6.2514873,5.1917663]</td>\n",
       "      <td>[4.279174,6.623517]</td>\n",
       "      <td>None</td>\n",
       "      <td>0</td>\n",
       "      <td>#DF1F64</td>\n",
       "      <td>-1.0</td>\n",
       "      <td>Tópico indefinido</td>\n",
       "      <td>-1</td>\n",
       "    </tr>\n",
       "    <tr>\n",
       "      <th>2</th>\n",
       "      <td>13795</td>\n",
       "      <td>Um trabalhador (S. H. B.) entrou com uma ação ...</td>\n",
       "      <td>Foi discutido se o trabalhador realmente era e...</td>\n",
       "      <td>[-0.17097613,-0.13799326,0.6532423,0.095428236...</td>\n",
       "      <td>O tribunal concluiu que o trabalhador prestava...</td>\n",
       "      <td>2022-08-15</td>\n",
       "      <td>Justiça do Trabalho</td>\n",
       "      <td>[10.328582,3.0848265,9.160054,0.8832931,5.047307]</td>\n",
       "      <td>[-3.613416,5.602477]</td>\n",
       "      <td>Vínculo Empregatício</td>\n",
       "      <td>0</td>\n",
       "      <td>#B21983</td>\n",
       "      <td>0.0</td>\n",
       "      <td>trabalhador, vínculo, verbas, empregatício, tr...</td>\n",
       "      <td>0</td>\n",
       "    </tr>\n",
       "    <tr>\n",
       "      <th>3</th>\n",
       "      <td>13897</td>\n",
       "      <td>O caso trata de embargos declaratórios apresen...</td>\n",
       "      <td>Foi discutido se a mera declaração de hipossuf...</td>\n",
       "      <td>[-0.19103809,-0.18698306,0.5067129,0.061796237...</td>\n",
       "      <td>A mera declaração de hipossuficiência econômic...</td>\n",
       "      <td>2023-06-02</td>\n",
       "      <td>Justiça do Trabalho</td>\n",
       "      <td>[9.96549,1.1037167,5.5480347,4.823924,3.2120152]</td>\n",
       "      <td>[2.593704,1.6614494]</td>\n",
       "      <td>None</td>\n",
       "      <td>0</td>\n",
       "      <td>#DF1F64</td>\n",
       "      <td>-1.0</td>\n",
       "      <td>Tópico indefinido</td>\n",
       "      <td>-1</td>\n",
       "    </tr>\n",
       "    <tr>\n",
       "      <th>4</th>\n",
       "      <td>12385</td>\n",
       "      <td>O processo trata de uma sentença prolatada em ...</td>\n",
       "      <td>Foi discutido se o recurso ordinário foi inter...</td>\n",
       "      <td>[-0.28772044,-0.16983889,0.3377584,0.10420877,...</td>\n",
       "      <td>O recurso ordinário deve ser recebido se inter...</td>\n",
       "      <td>2016-08-08</td>\n",
       "      <td>Justiça do Trabalho</td>\n",
       "      <td>[9.165573,0.909424,5.9392433,2.809873,3.376423]</td>\n",
       "      <td>[-1.1044192,2.1279576]</td>\n",
       "      <td>Recursos Trabalhistas</td>\n",
       "      <td>0</td>\n",
       "      <td>#6F62E8</td>\n",
       "      <td>12.0</td>\n",
       "      <td>recurso, interposto, ordinário, parte, depósito</td>\n",
       "      <td>1</td>\n",
       "    </tr>\n",
       "    <tr>\n",
       "      <th>...</th>\n",
       "      <td>...</td>\n",
       "      <td>...</td>\n",
       "      <td>...</td>\n",
       "      <td>...</td>\n",
       "      <td>...</td>\n",
       "      <td>...</td>\n",
       "      <td>...</td>\n",
       "      <td>...</td>\n",
       "      <td>...</td>\n",
       "      <td>...</td>\n",
       "      <td>...</td>\n",
       "      <td>...</td>\n",
       "      <td>...</td>\n",
       "      <td>...</td>\n",
       "      <td>...</td>\n",
       "    </tr>\n",
       "    <tr>\n",
       "      <th>11770</th>\n",
       "      <td>38057</td>\n",
       "      <td>Um cliente comprou um microfone em uma loja e ...</td>\n",
       "      <td>Foi discutido se a loja deveria fornecer os ca...</td>\n",
       "      <td>[-0.37769496,-0.23533307,0.2876998,0.083141826...</td>\n",
       "      <td>A falta de cabos não configura dano moral e a ...</td>\n",
       "      <td>1900-01-01</td>\n",
       "      <td>Justiça Estadual</td>\n",
       "      <td>[8.222743,1.4956017,8.5259075,6.3979235,5.3316...</td>\n",
       "      <td>[4.7032886,6.249698]</td>\n",
       "      <td>None</td>\n",
       "      <td>0</td>\n",
       "      <td>#DF1F64</td>\n",
       "      <td>-1.0</td>\n",
       "      <td>Tópico indefinido</td>\n",
       "      <td>-1</td>\n",
       "    </tr>\n",
       "    <tr>\n",
       "      <th>11771</th>\n",
       "      <td>42608</td>\n",
       "      <td>Um trabalhador alegou que prestou serviços par...</td>\n",
       "      <td>Foi discutido se a contratação por meio de MEI...</td>\n",
       "      <td>[-0.2409752,-0.06780451,0.48069188,0.058734417...</td>\n",
       "      <td>A contratação por meio de MEI não impede o rec...</td>\n",
       "      <td>2024-04-16</td>\n",
       "      <td>Justiça do Trabalho</td>\n",
       "      <td>[10.240221,3.6752665,9.194156,0.883995,6.064355]</td>\n",
       "      <td>[-5.1644425,6.61926]</td>\n",
       "      <td>Vínculo Empregatício</td>\n",
       "      <td>0</td>\n",
       "      <td>#B21983</td>\n",
       "      <td>0.0</td>\n",
       "      <td>trabalhador, vínculo, verbas, empregatício, tr...</td>\n",
       "      <td>0</td>\n",
       "    </tr>\n",
       "    <tr>\n",
       "      <th>11772</th>\n",
       "      <td>23254</td>\n",
       "      <td>Uma empresa MEI (Microempreendedor Individual)...</td>\n",
       "      <td>Foi discutido se a empresa MEI poderia ter dir...</td>\n",
       "      <td>[-0.29174706,-0.2358161,0.3646216,0.12869382,0...</td>\n",
       "      <td>A justiça gratuita, incluindo a isenção de cus...</td>\n",
       "      <td>2017-04-20</td>\n",
       "      <td>Justiça do Trabalho</td>\n",
       "      <td>[10.118056,0.92539775,6.2516446,4.1246214,2.75...</td>\n",
       "      <td>[1.5340252,1.8920774]</td>\n",
       "      <td>Justiça Gratuita</td>\n",
       "      <td>0</td>\n",
       "      <td>#1FDF3A</td>\n",
       "      <td>1.0</td>\n",
       "      <td>justiça, gratuita, hipossuficiência, financeir...</td>\n",
       "      <td>3</td>\n",
       "    </tr>\n",
       "    <tr>\n",
       "      <th>11773</th>\n",
       "      <td>28036</td>\n",
       "      <td>Um trabalhador chamado Lucas Costa do Nascimen...</td>\n",
       "      <td>Foi discutido se o trabalhador tinha vínculo e...</td>\n",
       "      <td>[-0.2925095,-0.14229143,0.4972408,0.08234117,0...</td>\n",
       "      <td>A Justiça do Trabalho não é competente para ju...</td>\n",
       "      <td>2024-07-30</td>\n",
       "      <td>Justiça do Trabalho</td>\n",
       "      <td>[10.419863,3.085156,8.952434,1.0438957,4.8410487]</td>\n",
       "      <td>[-3.331594,5.288169]</td>\n",
       "      <td>Vínculo Empregatício</td>\n",
       "      <td>0</td>\n",
       "      <td>#B21983</td>\n",
       "      <td>0.0</td>\n",
       "      <td>trabalhador, vínculo, verbas, empregatício, tr...</td>\n",
       "      <td>0</td>\n",
       "    </tr>\n",
       "    <tr>\n",
       "      <th>11774</th>\n",
       "      <td>10710</td>\n",
       "      <td>Um MEI que atua no comércio de peças e acessór...</td>\n",
       "      <td>Foi discutido se o MEI tem o direito de consig...</td>\n",
       "      <td>[-0.25405738,-0.2878185,0.31854168,0.17311299,...</td>\n",
       "      <td>O devedor pode consignar o valor da dívida em ...</td>\n",
       "      <td>2021-10-21</td>\n",
       "      <td>Justiça Estadual</td>\n",
       "      <td>[8.349624,0.64342725,7.9483256,6.080339,4.5927...</td>\n",
       "      <td>[3.4297879,6.7605314]</td>\n",
       "      <td>Cobrança de Dívidas Escolares</td>\n",
       "      <td>0</td>\n",
       "      <td>#882D17</td>\n",
       "      <td>22.0</td>\n",
       "      <td>crédito, cessão, valor, instituição, escolares</td>\n",
       "      <td>17</td>\n",
       "    </tr>\n",
       "  </tbody>\n",
       "</table>\n",
       "<p>11775 rows × 15 columns</p>\n",
       "</div>"
      ],
      "text/plain": [
       "          id                                     descricao_caso  \\\n",
       "0      47077  Uma pessoa entrou com embargos à execução cont...   \n",
       "1      27882  Angela Maria Miranda, uma microempreendedora i...   \n",
       "2      13795  Um trabalhador (S. H. B.) entrou com uma ação ...   \n",
       "3      13897  O caso trata de embargos declaratórios apresen...   \n",
       "4      12385  O processo trata de uma sentença prolatada em ...   \n",
       "...      ...                                                ...   \n",
       "11770  38057  Um cliente comprou um microfone em uma loja e ...   \n",
       "11771  42608  Um trabalhador alegou que prestou serviços par...   \n",
       "11772  23254  Uma empresa MEI (Microempreendedor Individual)...   \n",
       "11773  28036  Um trabalhador chamado Lucas Costa do Nascimen...   \n",
       "11774  10710  Um MEI que atua no comércio de peças e acessór...   \n",
       "\n",
       "                                   questoes_em_discussao  \\\n",
       "0      Foi discutido se o título executivo preenchia ...   \n",
       "1      Foi discutido se a relação entre as partes era...   \n",
       "2      Foi discutido se o trabalhador realmente era e...   \n",
       "3      Foi discutido se a mera declaração de hipossuf...   \n",
       "4      Foi discutido se o recurso ordinário foi inter...   \n",
       "...                                                  ...   \n",
       "11770  Foi discutido se a loja deveria fornecer os ca...   \n",
       "11771  Foi discutido se a contratação por meio de MEI...   \n",
       "11772  Foi discutido se a empresa MEI poderia ter dir...   \n",
       "11773  Foi discutido se o trabalhador tinha vínculo e...   \n",
       "11774  Foi discutido se o MEI tem o direito de consig...   \n",
       "\n",
       "                                vetor_descricao_questoes  \\\n",
       "0      [-0.25154325,-0.24265775,0.48420408,0.08698164...   \n",
       "1      [-0.40866718,-0.25491318,0.5138874,0.07471814,...   \n",
       "2      [-0.17097613,-0.13799326,0.6532423,0.095428236...   \n",
       "3      [-0.19103809,-0.18698306,0.5067129,0.061796237...   \n",
       "4      [-0.28772044,-0.16983889,0.3377584,0.10420877,...   \n",
       "...                                                  ...   \n",
       "11770  [-0.37769496,-0.23533307,0.2876998,0.083141826...   \n",
       "11771  [-0.2409752,-0.06780451,0.48069188,0.058734417...   \n",
       "11772  [-0.29174706,-0.2358161,0.3646216,0.12869382,0...   \n",
       "11773  [-0.2925095,-0.14229143,0.4972408,0.08234117,0...   \n",
       "11774  [-0.25405738,-0.2878185,0.31854168,0.17311299,...   \n",
       "\n",
       "                                                    tese dataajuizamento  \\\n",
       "0      A cláusula de multa por rescisão unilateral em...      2023-08-25   \n",
       "1      A relação entre microempreendedores e prestado...      2021-11-25   \n",
       "2      O tribunal concluiu que o trabalhador prestava...      2022-08-15   \n",
       "3      A mera declaração de hipossuficiência econômic...      2023-06-02   \n",
       "4      O recurso ordinário deve ser recebido se inter...      2016-08-08   \n",
       "...                                                  ...             ...   \n",
       "11770  A falta de cabos não configura dano moral e a ...      1900-01-01   \n",
       "11771  A contratação por meio de MEI não impede o rec...      2024-04-16   \n",
       "11772  A justiça gratuita, incluindo a isenção de cus...      2017-04-20   \n",
       "11773  A Justiça do Trabalho não é competente para ju...      2024-07-30   \n",
       "11774  O devedor pode consignar o valor da dívida em ...      2021-10-21   \n",
       "\n",
       "              ramo_justica           vetor_descricao_questoes_testes_extracao  \\\n",
       "0         Justiça Estadual      [8.421827,1.5428829,7.687,6.386847,5.0135374]   \n",
       "1         Justiça Estadual   [8.50996,1.1559459,8.286508,6.2514873,5.1917663]   \n",
       "2      Justiça do Trabalho  [10.328582,3.0848265,9.160054,0.8832931,5.047307]   \n",
       "3      Justiça do Trabalho   [9.96549,1.1037167,5.5480347,4.823924,3.2120152]   \n",
       "4      Justiça do Trabalho    [9.165573,0.909424,5.9392433,2.809873,3.376423]   \n",
       "...                    ...                                                ...   \n",
       "11770     Justiça Estadual  [8.222743,1.4956017,8.5259075,6.3979235,5.3316...   \n",
       "11771  Justiça do Trabalho   [10.240221,3.6752665,9.194156,0.883995,6.064355]   \n",
       "11772  Justiça do Trabalho  [10.118056,0.92539775,6.2516446,4.1246214,2.75...   \n",
       "11773  Justiça do Trabalho  [10.419863,3.085156,8.952434,1.0438957,4.8410487]   \n",
       "11774     Justiça Estadual  [8.349624,0.64342725,7.9483256,6.080339,4.5927...   \n",
       "\n",
       "      vetor_descricao_questoes_teste_plotagem                     Tópico LLM  \\\n",
       "0                        [3.7323902,6.549887]                           None   \n",
       "1                         [4.279174,6.623517]                           None   \n",
       "2                        [-3.613416,5.602477]           Vínculo Empregatício   \n",
       "3                        [2.593704,1.6614494]                           None   \n",
       "4                      [-1.1044192,2.1279576]          Recursos Trabalhistas   \n",
       "...                                       ...                            ...   \n",
       "11770                    [4.7032886,6.249698]                           None   \n",
       "11771                    [-5.1644425,6.61926]           Vínculo Empregatício   \n",
       "11772                   [1.5340252,1.8920774]               Justiça Gratuita   \n",
       "11773                    [-3.331594,5.288169]           Vínculo Empregatício   \n",
       "11774                   [3.4297879,6.7605314]  Cobrança de Dívidas Escolares   \n",
       "\n",
       "       é próximo do centroid cor_cluster  numero_topico_BERTopic_Padrao  \\\n",
       "0                          0     #DF1F64                           -1.0   \n",
       "1                          0     #DF1F64                           -1.0   \n",
       "2                          0     #B21983                            0.0   \n",
       "3                          0     #DF1F64                           -1.0   \n",
       "4                          0     #6F62E8                           12.0   \n",
       "...                      ...         ...                            ...   \n",
       "11770                      0     #DF1F64                           -1.0   \n",
       "11771                      0     #B21983                            0.0   \n",
       "11772                      0     #1FDF3A                            1.0   \n",
       "11773                      0     #B21983                            0.0   \n",
       "11774                      0     #882D17                           22.0   \n",
       "\n",
       "                        descricao_topico_BERTopic_Padrao  numero_topico_LLM  \n",
       "0                                      Tópico indefinido                 -1  \n",
       "1                                      Tópico indefinido                 -1  \n",
       "2      trabalhador, vínculo, verbas, empregatício, tr...                  0  \n",
       "3                                      Tópico indefinido                 -1  \n",
       "4        recurso, interposto, ordinário, parte, depósito                  1  \n",
       "...                                                  ...                ...  \n",
       "11770                                  Tópico indefinido                 -1  \n",
       "11771  trabalhador, vínculo, verbas, empregatício, tr...                  0  \n",
       "11772  justiça, gratuita, hipossuficiência, financeir...                  3  \n",
       "11773  trabalhador, vínculo, verbas, empregatício, tr...                  0  \n",
       "11774     crédito, cessão, valor, instituição, escolares                 17  \n",
       "\n",
       "[11775 rows x 15 columns]"
      ]
     },
     "execution_count": 147,
     "metadata": {},
     "output_type": "execute_result"
    }
   ],
   "source": [
    "df_with_topics"
   ]
  },
  {
   "cell_type": "code",
   "execution_count": 148,
   "id": "fe5d4176",
   "metadata": {},
   "outputs": [
    {
     "data": {
      "application/vnd.plotly.v1+json": {
       "config": {
        "plotlyServerURL": "https://plot.ly"
       },
       "data": [
        {
         "customdata": [
          [
           0,
           "trabalhador | vínculo | verbas | empregatício | trabalho",
           2733
          ],
          [
           1,
           "justiça | gratuita | hipossuficiência | financeira | gratuidade",
           999
          ],
          [
           2,
           "taxas | complementar | taxa | lei | isenção",
           456
          ],
          [
           3,
           "jucesp | registro | junta | comercial | estado",
           364
          ],
          [
           4,
           "nacional | simples | regime | adesão | tributário",
           340
          ],
          [
           5,
           "desemprego | seguro | renda | união | própria",
           275
          ],
          [
           6,
           "conta | danos | morais | valores | banco",
           213
          ],
          [
           7,
           "personalidade | jurídica | desconsideração | bens | patrimônio",
           203
          ],
          [
           8,
           "tempo | aposentadoria | contribuição | períodos | contribuições",
           202
          ],
          [
           9,
           "nome | danos | morais | seu | inadimplentes",
           202
          ],
          [
           10,
           "incapacidade | doença | auxílio | segurado | benefício",
           179
          ],
          [
           11,
           "licitação | edital | licitatório | pregão | certame",
           133
          ],
          [
           12,
           "recurso | interposto | ordinário | parte | depósito",
           106
          ],
          [
           13,
           "depósito | recursal | metade | redução | valor",
           95
          ],
          [
           14,
           "maternidade | salário | inss | benefício | mulher",
           91
          ],
          [
           15,
           "juros | capitalização | banco | bndes | comissão",
           87
          ],
          [
           16,
           "emergencial | auxílio | familiar | união | receber",
           81
          ],
          [
           17,
           "plano | saúde | operadora | contrato | cancelamento",
           79
          ],
          [
           18,
           "deficiência | assistencial | benefício | família | renda",
           73
          ],
          [
           19,
           "prisão | preventiva | paciente | preso | habeas",
           67
          ],
          [
           20,
           "falecido | morte | pensão | óbito | segurado",
           58
          ],
          [
           21,
           "alvará | funcionamento | municipal | licença | estabelecimento",
           53
          ],
          [
           22,
           "crédito | cessão | valor | instituição | escolares",
           52
          ],
          [
           23,
           "conselho | crmv | animais | medicina | veterinária",
           50
          ],
          [
           24,
           "fiscal | nota | documento | negócio | jurídico",
           48
          ],
          [
           25,
           "icms | cobrança | difal | estadual | simples",
           47
          ],
          [
           26,
           "diligências | débito | executórias | confusão | patrimonial",
           47
          ],
          [
           27,
           "porte | pequeno | juizado | especial | microempresa",
           45
          ],
          [
           28,
           "acidente | danos | cessantes | lucros | materiais",
           36
          ],
          [
           29,
           "qualificação | juizado | especial | tributária | porte",
           36
          ],
          [
           30,
           "segurada | facultativa | baixa | renda | autora",
           35
          ],
          [
           31,
           "contador | propor | documentos | nota | juizados",
           34
          ],
          [
           32,
           "diligências | executórias | débito | expropriatórias | reclamado",
           34
          ],
          [
           33,
           "linha | telefonia | operadora | danos | morais",
           31
          ],
          [
           34,
           "833 | bens | exercício | impenhorabilidade | cpc",
           31
          ],
          [
           35,
           "credor | microempresa | extinção | cessionário | processo",
           30
          ],
          [
           36,
           "pena | semiaberto | regime | apenado | externo",
           27
          ],
          [
           37,
           "epp | critérios | nos | enquadrava | cível",
           26
          ],
          [
           38,
           "alimentos | provisórios | mínimo | pai | filha",
           24
          ],
          [
           39,
           "juizado | especial | porte | pequeno | ltda",
           23
          ],
          [
           40,
           "extrajudicial | título | protesto | execução | interesse",
           18
          ],
          [
           41,
           "prisão | liberais | ceplemg | preso | convênio",
           17
          ],
          [
           42,
           "valores | conta | penhora | impenhoráveis | bloqueados",
           17
          ],
          [
           43,
           "juizado | 099 | 95 | especial | sociedades",
           17
          ],
          [
           44,
           "propor | juizado | nesse | ações | lei",
           15
          ],
          [
           45,
           "me | jurídico | negócio | instituição | nota",
           15
          ],
          [
           46,
           "00 | 000 | autor | serviço | pagou",
           15
          ],
          [
           47,
           "benefício | inss | deficiência | assistencial | mora",
           15
          ],
          [
           48,
           "ciacaps | atualizacao | capacitacao | integrado | juizados",
           15
          ],
          [
           49,
           "rural | idade | aposentadoria | inss | agricultura",
           13
          ],
          [
           50,
           "proporcional | cobrança | tipo | previstas | legal",
           13
          ],
          [
           51,
           "citado | réu | intimado | compareceu | audiência",
           12
          ],
          [
           52,
           "embargos | omissão | declaração | acórdão | contradição",
           12
          ],
          [
           53,
           "inviabilidade | financeira | gratuidade | movimentação | comprovem",
           12
          ],
          [
           54,
           "crime | ministério | autoria | público | provas",
           12
          ],
          [
           55,
           "citação | endereço | entregue | postal | válida",
           12
          ],
          [
           56,
           "depósito | recursal | custas | ordinário | recurso",
           11
          ],
          [
           57,
           "doação | eleitoral | doações | limite | acima",
           10
          ]
         ],
         "hovertemplate": "<b>Topic %{customdata[0]}</b><br>%{customdata[1]}<br>Size: %{customdata[2]}",
         "legendgroup": "",
         "marker": {
          "color": "#B0BEC5",
          "line": {
           "color": "DarkSlateGrey",
           "width": 2
          },
          "size": {
           "bdata": "rQrnA8gBbAFUARMB1QDLAMoAygCzAIUAagBfAFsAVwBRAE8ASQBDADoANQA0ADIAMAAvAC8ALQAkACQAIwAiACIAHwAfAB4AGwAaABgAFwASABEAEQARAA8ADwAPAA8ADwANAA0ADAAMAAwADAAMAAsACgA=",
           "dtype": "i2"
          },
          "sizemode": "area",
          "sizeref": 1.708125,
          "symbol": "circle"
         },
         "mode": "markers",
         "name": "",
         "orientation": "v",
         "showlegend": false,
         "type": "scatter",
         "x": {
          "bdata": "6+VYQDfvbUHGcYNAzzc+Qd0ZY0BNly9BJOYzQe+XQMEmnDdBdpM8QUmtLkFHYFxAhYRhQJQcZUCG+yxBJzY2QdOfskGI/C9B5tavQVPTuMCfFCpBMxpuQI+xyL4s6HdAfkvkvpGCbUCGPRpBx8ZEwBGbLUG+tgi/0FQxQeK6qL6uPBpBYB8vQWRgP8Fjepa+AYy0wBcKQ8DDAK9BxfFkwNeLO8BttlrAzS5BwVFlokBKZqJAURR2QZCJLkE6O7FB7GNqwA0BNkG1kYBADVOSvmHyXUHAV3NB5KK3wN4BX0FEMHFBQ0BiQA==",
          "dtype": "f4"
         },
         "xaxis": "x",
         "y": {
          "bdata": "mXJLQdCFgUH3UFXAUhTFQIm8esC8oqnA59K+QPZDLkAofJ/ATZPDQI7ypsAOsSXAQkxJQcBlSEF5QaLATo7CQEbnFkH8Nc9AAnscQSblQ8GK26rAtghBwFDy70CfG1vAc1DVv+0occCOO/w/hpOdwGcMtEBXr+C/qE+jwB2Fxr/TA/w/dpPMQIAiM0D6zuxAZMFBwWp1nsATJh5BoqBzQMkvosBZbWlAU+krQJOVzUBflc1AYZiFQfhPtkCcsRlBLhV5QNwjocBwmFfAdovsQKdeX0F5O4RB9ExDwVNvYEFMJ4NBR50twA==",
          "dtype": "f4"
         },
         "yaxis": "y"
        }
       ],
       "layout": {
        "annotations": [
         {
          "showarrow": false,
          "text": "D1",
          "x": -13.885014867782592,
          "y": 2.562176609039307,
          "yshift": 10
         },
         {
          "showarrow": false,
          "text": "D2",
          "x": 5.896115088462829,
          "xshift": 10,
          "y": 19.20431432723999
         }
        ],
        "height": 650,
        "hoverlabel": {
         "bgcolor": "white",
         "font": {
          "family": "Rockwell",
          "size": 16
         }
        },
        "legend": {
         "itemsizing": "constant",
         "tracegroupgap": 0
        },
        "margin": {
         "t": 60
        },
        "shapes": [
         {
          "line": {
           "color": "#CFD8DC",
           "width": 2
          },
          "type": "line",
          "x0": 5.896115088462829,
          "x1": 5.896115088462829,
          "y0": -14.079961109161378,
          "y1": 19.20431432723999
         },
         {
          "line": {
           "color": "#9E9E9E",
           "width": 2
          },
          "type": "line",
          "x0": -13.885014867782592,
          "x1": 25.67724504470825,
          "y0": 2.562176609039307,
          "y1": 2.562176609039307
         }
        ],
        "sliders": [
         {
          "active": 0,
          "pad": {
           "t": 50
          },
          "steps": [
           {
            "args": [
             {
              "marker.color": [
               [
                "red",
                "#B0BEC5",
                "#B0BEC5",
                "#B0BEC5",
                "#B0BEC5",
                "#B0BEC5",
                "#B0BEC5",
                "#B0BEC5",
                "#B0BEC5",
                "#B0BEC5",
                "#B0BEC5",
                "#B0BEC5",
                "#B0BEC5",
                "#B0BEC5",
                "#B0BEC5",
                "#B0BEC5",
                "#B0BEC5",
                "#B0BEC5",
                "#B0BEC5",
                "#B0BEC5",
                "#B0BEC5",
                "#B0BEC5",
                "#B0BEC5",
                "#B0BEC5",
                "#B0BEC5",
                "#B0BEC5",
                "#B0BEC5",
                "#B0BEC5",
                "#B0BEC5",
                "#B0BEC5",
                "#B0BEC5",
                "#B0BEC5",
                "#B0BEC5",
                "#B0BEC5",
                "#B0BEC5",
                "#B0BEC5",
                "#B0BEC5",
                "#B0BEC5",
                "#B0BEC5",
                "#B0BEC5",
                "#B0BEC5",
                "#B0BEC5",
                "#B0BEC5",
                "#B0BEC5",
                "#B0BEC5",
                "#B0BEC5",
                "#B0BEC5",
                "#B0BEC5",
                "#B0BEC5",
                "#B0BEC5",
                "#B0BEC5",
                "#B0BEC5",
                "#B0BEC5",
                "#B0BEC5",
                "#B0BEC5",
                "#B0BEC5",
                "#B0BEC5",
                "#B0BEC5"
               ]
              ]
             }
            ],
            "label": "Topic 0",
            "method": "update"
           },
           {
            "args": [
             {
              "marker.color": [
               [
                "#B0BEC5",
                "red",
                "#B0BEC5",
                "#B0BEC5",
                "#B0BEC5",
                "#B0BEC5",
                "#B0BEC5",
                "#B0BEC5",
                "#B0BEC5",
                "#B0BEC5",
                "#B0BEC5",
                "#B0BEC5",
                "#B0BEC5",
                "#B0BEC5",
                "#B0BEC5",
                "#B0BEC5",
                "#B0BEC5",
                "#B0BEC5",
                "#B0BEC5",
                "#B0BEC5",
                "#B0BEC5",
                "#B0BEC5",
                "#B0BEC5",
                "#B0BEC5",
                "#B0BEC5",
                "#B0BEC5",
                "#B0BEC5",
                "#B0BEC5",
                "#B0BEC5",
                "#B0BEC5",
                "#B0BEC5",
                "#B0BEC5",
                "#B0BEC5",
                "#B0BEC5",
                "#B0BEC5",
                "#B0BEC5",
                "#B0BEC5",
                "#B0BEC5",
                "#B0BEC5",
                "#B0BEC5",
                "#B0BEC5",
                "#B0BEC5",
                "#B0BEC5",
                "#B0BEC5",
                "#B0BEC5",
                "#B0BEC5",
                "#B0BEC5",
                "#B0BEC5",
                "#B0BEC5",
                "#B0BEC5",
                "#B0BEC5",
                "#B0BEC5",
                "#B0BEC5",
                "#B0BEC5",
                "#B0BEC5",
                "#B0BEC5",
                "#B0BEC5",
                "#B0BEC5"
               ]
              ]
             }
            ],
            "label": "Topic 1",
            "method": "update"
           },
           {
            "args": [
             {
              "marker.color": [
               [
                "#B0BEC5",
                "#B0BEC5",
                "red",
                "#B0BEC5",
                "#B0BEC5",
                "#B0BEC5",
                "#B0BEC5",
                "#B0BEC5",
                "#B0BEC5",
                "#B0BEC5",
                "#B0BEC5",
                "#B0BEC5",
                "#B0BEC5",
                "#B0BEC5",
                "#B0BEC5",
                "#B0BEC5",
                "#B0BEC5",
                "#B0BEC5",
                "#B0BEC5",
                "#B0BEC5",
                "#B0BEC5",
                "#B0BEC5",
                "#B0BEC5",
                "#B0BEC5",
                "#B0BEC5",
                "#B0BEC5",
                "#B0BEC5",
                "#B0BEC5",
                "#B0BEC5",
                "#B0BEC5",
                "#B0BEC5",
                "#B0BEC5",
                "#B0BEC5",
                "#B0BEC5",
                "#B0BEC5",
                "#B0BEC5",
                "#B0BEC5",
                "#B0BEC5",
                "#B0BEC5",
                "#B0BEC5",
                "#B0BEC5",
                "#B0BEC5",
                "#B0BEC5",
                "#B0BEC5",
                "#B0BEC5",
                "#B0BEC5",
                "#B0BEC5",
                "#B0BEC5",
                "#B0BEC5",
                "#B0BEC5",
                "#B0BEC5",
                "#B0BEC5",
                "#B0BEC5",
                "#B0BEC5",
                "#B0BEC5",
                "#B0BEC5",
                "#B0BEC5",
                "#B0BEC5"
               ]
              ]
             }
            ],
            "label": "Topic 2",
            "method": "update"
           },
           {
            "args": [
             {
              "marker.color": [
               [
                "#B0BEC5",
                "#B0BEC5",
                "#B0BEC5",
                "red",
                "#B0BEC5",
                "#B0BEC5",
                "#B0BEC5",
                "#B0BEC5",
                "#B0BEC5",
                "#B0BEC5",
                "#B0BEC5",
                "#B0BEC5",
                "#B0BEC5",
                "#B0BEC5",
                "#B0BEC5",
                "#B0BEC5",
                "#B0BEC5",
                "#B0BEC5",
                "#B0BEC5",
                "#B0BEC5",
                "#B0BEC5",
                "#B0BEC5",
                "#B0BEC5",
                "#B0BEC5",
                "#B0BEC5",
                "#B0BEC5",
                "#B0BEC5",
                "#B0BEC5",
                "#B0BEC5",
                "#B0BEC5",
                "#B0BEC5",
                "#B0BEC5",
                "#B0BEC5",
                "#B0BEC5",
                "#B0BEC5",
                "#B0BEC5",
                "#B0BEC5",
                "#B0BEC5",
                "#B0BEC5",
                "#B0BEC5",
                "#B0BEC5",
                "#B0BEC5",
                "#B0BEC5",
                "#B0BEC5",
                "#B0BEC5",
                "#B0BEC5",
                "#B0BEC5",
                "#B0BEC5",
                "#B0BEC5",
                "#B0BEC5",
                "#B0BEC5",
                "#B0BEC5",
                "#B0BEC5",
                "#B0BEC5",
                "#B0BEC5",
                "#B0BEC5",
                "#B0BEC5",
                "#B0BEC5"
               ]
              ]
             }
            ],
            "label": "Topic 3",
            "method": "update"
           },
           {
            "args": [
             {
              "marker.color": [
               [
                "#B0BEC5",
                "#B0BEC5",
                "#B0BEC5",
                "#B0BEC5",
                "red",
                "#B0BEC5",
                "#B0BEC5",
                "#B0BEC5",
                "#B0BEC5",
                "#B0BEC5",
                "#B0BEC5",
                "#B0BEC5",
                "#B0BEC5",
                "#B0BEC5",
                "#B0BEC5",
                "#B0BEC5",
                "#B0BEC5",
                "#B0BEC5",
                "#B0BEC5",
                "#B0BEC5",
                "#B0BEC5",
                "#B0BEC5",
                "#B0BEC5",
                "#B0BEC5",
                "#B0BEC5",
                "#B0BEC5",
                "#B0BEC5",
                "#B0BEC5",
                "#B0BEC5",
                "#B0BEC5",
                "#B0BEC5",
                "#B0BEC5",
                "#B0BEC5",
                "#B0BEC5",
                "#B0BEC5",
                "#B0BEC5",
                "#B0BEC5",
                "#B0BEC5",
                "#B0BEC5",
                "#B0BEC5",
                "#B0BEC5",
                "#B0BEC5",
                "#B0BEC5",
                "#B0BEC5",
                "#B0BEC5",
                "#B0BEC5",
                "#B0BEC5",
                "#B0BEC5",
                "#B0BEC5",
                "#B0BEC5",
                "#B0BEC5",
                "#B0BEC5",
                "#B0BEC5",
                "#B0BEC5",
                "#B0BEC5",
                "#B0BEC5",
                "#B0BEC5",
                "#B0BEC5"
               ]
              ]
             }
            ],
            "label": "Topic 4",
            "method": "update"
           },
           {
            "args": [
             {
              "marker.color": [
               [
                "#B0BEC5",
                "#B0BEC5",
                "#B0BEC5",
                "#B0BEC5",
                "#B0BEC5",
                "red",
                "#B0BEC5",
                "#B0BEC5",
                "#B0BEC5",
                "#B0BEC5",
                "#B0BEC5",
                "#B0BEC5",
                "#B0BEC5",
                "#B0BEC5",
                "#B0BEC5",
                "#B0BEC5",
                "#B0BEC5",
                "#B0BEC5",
                "#B0BEC5",
                "#B0BEC5",
                "#B0BEC5",
                "#B0BEC5",
                "#B0BEC5",
                "#B0BEC5",
                "#B0BEC5",
                "#B0BEC5",
                "#B0BEC5",
                "#B0BEC5",
                "#B0BEC5",
                "#B0BEC5",
                "#B0BEC5",
                "#B0BEC5",
                "#B0BEC5",
                "#B0BEC5",
                "#B0BEC5",
                "#B0BEC5",
                "#B0BEC5",
                "#B0BEC5",
                "#B0BEC5",
                "#B0BEC5",
                "#B0BEC5",
                "#B0BEC5",
                "#B0BEC5",
                "#B0BEC5",
                "#B0BEC5",
                "#B0BEC5",
                "#B0BEC5",
                "#B0BEC5",
                "#B0BEC5",
                "#B0BEC5",
                "#B0BEC5",
                "#B0BEC5",
                "#B0BEC5",
                "#B0BEC5",
                "#B0BEC5",
                "#B0BEC5",
                "#B0BEC5",
                "#B0BEC5"
               ]
              ]
             }
            ],
            "label": "Topic 5",
            "method": "update"
           },
           {
            "args": [
             {
              "marker.color": [
               [
                "#B0BEC5",
                "#B0BEC5",
                "#B0BEC5",
                "#B0BEC5",
                "#B0BEC5",
                "#B0BEC5",
                "red",
                "#B0BEC5",
                "#B0BEC5",
                "#B0BEC5",
                "#B0BEC5",
                "#B0BEC5",
                "#B0BEC5",
                "#B0BEC5",
                "#B0BEC5",
                "#B0BEC5",
                "#B0BEC5",
                "#B0BEC5",
                "#B0BEC5",
                "#B0BEC5",
                "#B0BEC5",
                "#B0BEC5",
                "#B0BEC5",
                "#B0BEC5",
                "#B0BEC5",
                "#B0BEC5",
                "#B0BEC5",
                "#B0BEC5",
                "#B0BEC5",
                "#B0BEC5",
                "#B0BEC5",
                "#B0BEC5",
                "#B0BEC5",
                "#B0BEC5",
                "#B0BEC5",
                "#B0BEC5",
                "#B0BEC5",
                "#B0BEC5",
                "#B0BEC5",
                "#B0BEC5",
                "#B0BEC5",
                "#B0BEC5",
                "#B0BEC5",
                "#B0BEC5",
                "#B0BEC5",
                "#B0BEC5",
                "#B0BEC5",
                "#B0BEC5",
                "#B0BEC5",
                "#B0BEC5",
                "#B0BEC5",
                "#B0BEC5",
                "#B0BEC5",
                "#B0BEC5",
                "#B0BEC5",
                "#B0BEC5",
                "#B0BEC5",
                "#B0BEC5"
               ]
              ]
             }
            ],
            "label": "Topic 6",
            "method": "update"
           },
           {
            "args": [
             {
              "marker.color": [
               [
                "#B0BEC5",
                "#B0BEC5",
                "#B0BEC5",
                "#B0BEC5",
                "#B0BEC5",
                "#B0BEC5",
                "#B0BEC5",
                "red",
                "#B0BEC5",
                "#B0BEC5",
                "#B0BEC5",
                "#B0BEC5",
                "#B0BEC5",
                "#B0BEC5",
                "#B0BEC5",
                "#B0BEC5",
                "#B0BEC5",
                "#B0BEC5",
                "#B0BEC5",
                "#B0BEC5",
                "#B0BEC5",
                "#B0BEC5",
                "#B0BEC5",
                "#B0BEC5",
                "#B0BEC5",
                "#B0BEC5",
                "#B0BEC5",
                "#B0BEC5",
                "#B0BEC5",
                "#B0BEC5",
                "#B0BEC5",
                "#B0BEC5",
                "#B0BEC5",
                "#B0BEC5",
                "#B0BEC5",
                "#B0BEC5",
                "#B0BEC5",
                "#B0BEC5",
                "#B0BEC5",
                "#B0BEC5",
                "#B0BEC5",
                "#B0BEC5",
                "#B0BEC5",
                "#B0BEC5",
                "#B0BEC5",
                "#B0BEC5",
                "#B0BEC5",
                "#B0BEC5",
                "#B0BEC5",
                "#B0BEC5",
                "#B0BEC5",
                "#B0BEC5",
                "#B0BEC5",
                "#B0BEC5",
                "#B0BEC5",
                "#B0BEC5",
                "#B0BEC5",
                "#B0BEC5"
               ]
              ]
             }
            ],
            "label": "Topic 7",
            "method": "update"
           },
           {
            "args": [
             {
              "marker.color": [
               [
                "#B0BEC5",
                "#B0BEC5",
                "#B0BEC5",
                "#B0BEC5",
                "#B0BEC5",
                "#B0BEC5",
                "#B0BEC5",
                "#B0BEC5",
                "red",
                "#B0BEC5",
                "#B0BEC5",
                "#B0BEC5",
                "#B0BEC5",
                "#B0BEC5",
                "#B0BEC5",
                "#B0BEC5",
                "#B0BEC5",
                "#B0BEC5",
                "#B0BEC5",
                "#B0BEC5",
                "#B0BEC5",
                "#B0BEC5",
                "#B0BEC5",
                "#B0BEC5",
                "#B0BEC5",
                "#B0BEC5",
                "#B0BEC5",
                "#B0BEC5",
                "#B0BEC5",
                "#B0BEC5",
                "#B0BEC5",
                "#B0BEC5",
                "#B0BEC5",
                "#B0BEC5",
                "#B0BEC5",
                "#B0BEC5",
                "#B0BEC5",
                "#B0BEC5",
                "#B0BEC5",
                "#B0BEC5",
                "#B0BEC5",
                "#B0BEC5",
                "#B0BEC5",
                "#B0BEC5",
                "#B0BEC5",
                "#B0BEC5",
                "#B0BEC5",
                "#B0BEC5",
                "#B0BEC5",
                "#B0BEC5",
                "#B0BEC5",
                "#B0BEC5",
                "#B0BEC5",
                "#B0BEC5",
                "#B0BEC5",
                "#B0BEC5",
                "#B0BEC5",
                "#B0BEC5"
               ]
              ]
             }
            ],
            "label": "Topic 8",
            "method": "update"
           },
           {
            "args": [
             {
              "marker.color": [
               [
                "#B0BEC5",
                "#B0BEC5",
                "#B0BEC5",
                "#B0BEC5",
                "#B0BEC5",
                "#B0BEC5",
                "#B0BEC5",
                "#B0BEC5",
                "#B0BEC5",
                "red",
                "#B0BEC5",
                "#B0BEC5",
                "#B0BEC5",
                "#B0BEC5",
                "#B0BEC5",
                "#B0BEC5",
                "#B0BEC5",
                "#B0BEC5",
                "#B0BEC5",
                "#B0BEC5",
                "#B0BEC5",
                "#B0BEC5",
                "#B0BEC5",
                "#B0BEC5",
                "#B0BEC5",
                "#B0BEC5",
                "#B0BEC5",
                "#B0BEC5",
                "#B0BEC5",
                "#B0BEC5",
                "#B0BEC5",
                "#B0BEC5",
                "#B0BEC5",
                "#B0BEC5",
                "#B0BEC5",
                "#B0BEC5",
                "#B0BEC5",
                "#B0BEC5",
                "#B0BEC5",
                "#B0BEC5",
                "#B0BEC5",
                "#B0BEC5",
                "#B0BEC5",
                "#B0BEC5",
                "#B0BEC5",
                "#B0BEC5",
                "#B0BEC5",
                "#B0BEC5",
                "#B0BEC5",
                "#B0BEC5",
                "#B0BEC5",
                "#B0BEC5",
                "#B0BEC5",
                "#B0BEC5",
                "#B0BEC5",
                "#B0BEC5",
                "#B0BEC5",
                "#B0BEC5"
               ]
              ]
             }
            ],
            "label": "Topic 9",
            "method": "update"
           },
           {
            "args": [
             {
              "marker.color": [
               [
                "#B0BEC5",
                "#B0BEC5",
                "#B0BEC5",
                "#B0BEC5",
                "#B0BEC5",
                "#B0BEC5",
                "#B0BEC5",
                "#B0BEC5",
                "#B0BEC5",
                "#B0BEC5",
                "red",
                "#B0BEC5",
                "#B0BEC5",
                "#B0BEC5",
                "#B0BEC5",
                "#B0BEC5",
                "#B0BEC5",
                "#B0BEC5",
                "#B0BEC5",
                "#B0BEC5",
                "#B0BEC5",
                "#B0BEC5",
                "#B0BEC5",
                "#B0BEC5",
                "#B0BEC5",
                "#B0BEC5",
                "#B0BEC5",
                "#B0BEC5",
                "#B0BEC5",
                "#B0BEC5",
                "#B0BEC5",
                "#B0BEC5",
                "#B0BEC5",
                "#B0BEC5",
                "#B0BEC5",
                "#B0BEC5",
                "#B0BEC5",
                "#B0BEC5",
                "#B0BEC5",
                "#B0BEC5",
                "#B0BEC5",
                "#B0BEC5",
                "#B0BEC5",
                "#B0BEC5",
                "#B0BEC5",
                "#B0BEC5",
                "#B0BEC5",
                "#B0BEC5",
                "#B0BEC5",
                "#B0BEC5",
                "#B0BEC5",
                "#B0BEC5",
                "#B0BEC5",
                "#B0BEC5",
                "#B0BEC5",
                "#B0BEC5",
                "#B0BEC5",
                "#B0BEC5"
               ]
              ]
             }
            ],
            "label": "Topic 10",
            "method": "update"
           },
           {
            "args": [
             {
              "marker.color": [
               [
                "#B0BEC5",
                "#B0BEC5",
                "#B0BEC5",
                "#B0BEC5",
                "#B0BEC5",
                "#B0BEC5",
                "#B0BEC5",
                "#B0BEC5",
                "#B0BEC5",
                "#B0BEC5",
                "#B0BEC5",
                "red",
                "#B0BEC5",
                "#B0BEC5",
                "#B0BEC5",
                "#B0BEC5",
                "#B0BEC5",
                "#B0BEC5",
                "#B0BEC5",
                "#B0BEC5",
                "#B0BEC5",
                "#B0BEC5",
                "#B0BEC5",
                "#B0BEC5",
                "#B0BEC5",
                "#B0BEC5",
                "#B0BEC5",
                "#B0BEC5",
                "#B0BEC5",
                "#B0BEC5",
                "#B0BEC5",
                "#B0BEC5",
                "#B0BEC5",
                "#B0BEC5",
                "#B0BEC5",
                "#B0BEC5",
                "#B0BEC5",
                "#B0BEC5",
                "#B0BEC5",
                "#B0BEC5",
                "#B0BEC5",
                "#B0BEC5",
                "#B0BEC5",
                "#B0BEC5",
                "#B0BEC5",
                "#B0BEC5",
                "#B0BEC5",
                "#B0BEC5",
                "#B0BEC5",
                "#B0BEC5",
                "#B0BEC5",
                "#B0BEC5",
                "#B0BEC5",
                "#B0BEC5",
                "#B0BEC5",
                "#B0BEC5",
                "#B0BEC5",
                "#B0BEC5"
               ]
              ]
             }
            ],
            "label": "Topic 11",
            "method": "update"
           },
           {
            "args": [
             {
              "marker.color": [
               [
                "#B0BEC5",
                "#B0BEC5",
                "#B0BEC5",
                "#B0BEC5",
                "#B0BEC5",
                "#B0BEC5",
                "#B0BEC5",
                "#B0BEC5",
                "#B0BEC5",
                "#B0BEC5",
                "#B0BEC5",
                "#B0BEC5",
                "red",
                "#B0BEC5",
                "#B0BEC5",
                "#B0BEC5",
                "#B0BEC5",
                "#B0BEC5",
                "#B0BEC5",
                "#B0BEC5",
                "#B0BEC5",
                "#B0BEC5",
                "#B0BEC5",
                "#B0BEC5",
                "#B0BEC5",
                "#B0BEC5",
                "#B0BEC5",
                "#B0BEC5",
                "#B0BEC5",
                "#B0BEC5",
                "#B0BEC5",
                "#B0BEC5",
                "#B0BEC5",
                "#B0BEC5",
                "#B0BEC5",
                "#B0BEC5",
                "#B0BEC5",
                "#B0BEC5",
                "#B0BEC5",
                "#B0BEC5",
                "#B0BEC5",
                "#B0BEC5",
                "#B0BEC5",
                "#B0BEC5",
                "#B0BEC5",
                "#B0BEC5",
                "#B0BEC5",
                "#B0BEC5",
                "#B0BEC5",
                "#B0BEC5",
                "#B0BEC5",
                "#B0BEC5",
                "#B0BEC5",
                "#B0BEC5",
                "#B0BEC5",
                "#B0BEC5",
                "#B0BEC5",
                "#B0BEC5"
               ]
              ]
             }
            ],
            "label": "Topic 12",
            "method": "update"
           },
           {
            "args": [
             {
              "marker.color": [
               [
                "#B0BEC5",
                "#B0BEC5",
                "#B0BEC5",
                "#B0BEC5",
                "#B0BEC5",
                "#B0BEC5",
                "#B0BEC5",
                "#B0BEC5",
                "#B0BEC5",
                "#B0BEC5",
                "#B0BEC5",
                "#B0BEC5",
                "#B0BEC5",
                "red",
                "#B0BEC5",
                "#B0BEC5",
                "#B0BEC5",
                "#B0BEC5",
                "#B0BEC5",
                "#B0BEC5",
                "#B0BEC5",
                "#B0BEC5",
                "#B0BEC5",
                "#B0BEC5",
                "#B0BEC5",
                "#B0BEC5",
                "#B0BEC5",
                "#B0BEC5",
                "#B0BEC5",
                "#B0BEC5",
                "#B0BEC5",
                "#B0BEC5",
                "#B0BEC5",
                "#B0BEC5",
                "#B0BEC5",
                "#B0BEC5",
                "#B0BEC5",
                "#B0BEC5",
                "#B0BEC5",
                "#B0BEC5",
                "#B0BEC5",
                "#B0BEC5",
                "#B0BEC5",
                "#B0BEC5",
                "#B0BEC5",
                "#B0BEC5",
                "#B0BEC5",
                "#B0BEC5",
                "#B0BEC5",
                "#B0BEC5",
                "#B0BEC5",
                "#B0BEC5",
                "#B0BEC5",
                "#B0BEC5",
                "#B0BEC5",
                "#B0BEC5",
                "#B0BEC5",
                "#B0BEC5"
               ]
              ]
             }
            ],
            "label": "Topic 13",
            "method": "update"
           },
           {
            "args": [
             {
              "marker.color": [
               [
                "#B0BEC5",
                "#B0BEC5",
                "#B0BEC5",
                "#B0BEC5",
                "#B0BEC5",
                "#B0BEC5",
                "#B0BEC5",
                "#B0BEC5",
                "#B0BEC5",
                "#B0BEC5",
                "#B0BEC5",
                "#B0BEC5",
                "#B0BEC5",
                "#B0BEC5",
                "red",
                "#B0BEC5",
                "#B0BEC5",
                "#B0BEC5",
                "#B0BEC5",
                "#B0BEC5",
                "#B0BEC5",
                "#B0BEC5",
                "#B0BEC5",
                "#B0BEC5",
                "#B0BEC5",
                "#B0BEC5",
                "#B0BEC5",
                "#B0BEC5",
                "#B0BEC5",
                "#B0BEC5",
                "#B0BEC5",
                "#B0BEC5",
                "#B0BEC5",
                "#B0BEC5",
                "#B0BEC5",
                "#B0BEC5",
                "#B0BEC5",
                "#B0BEC5",
                "#B0BEC5",
                "#B0BEC5",
                "#B0BEC5",
                "#B0BEC5",
                "#B0BEC5",
                "#B0BEC5",
                "#B0BEC5",
                "#B0BEC5",
                "#B0BEC5",
                "#B0BEC5",
                "#B0BEC5",
                "#B0BEC5",
                "#B0BEC5",
                "#B0BEC5",
                "#B0BEC5",
                "#B0BEC5",
                "#B0BEC5",
                "#B0BEC5",
                "#B0BEC5",
                "#B0BEC5"
               ]
              ]
             }
            ],
            "label": "Topic 14",
            "method": "update"
           },
           {
            "args": [
             {
              "marker.color": [
               [
                "#B0BEC5",
                "#B0BEC5",
                "#B0BEC5",
                "#B0BEC5",
                "#B0BEC5",
                "#B0BEC5",
                "#B0BEC5",
                "#B0BEC5",
                "#B0BEC5",
                "#B0BEC5",
                "#B0BEC5",
                "#B0BEC5",
                "#B0BEC5",
                "#B0BEC5",
                "#B0BEC5",
                "red",
                "#B0BEC5",
                "#B0BEC5",
                "#B0BEC5",
                "#B0BEC5",
                "#B0BEC5",
                "#B0BEC5",
                "#B0BEC5",
                "#B0BEC5",
                "#B0BEC5",
                "#B0BEC5",
                "#B0BEC5",
                "#B0BEC5",
                "#B0BEC5",
                "#B0BEC5",
                "#B0BEC5",
                "#B0BEC5",
                "#B0BEC5",
                "#B0BEC5",
                "#B0BEC5",
                "#B0BEC5",
                "#B0BEC5",
                "#B0BEC5",
                "#B0BEC5",
                "#B0BEC5",
                "#B0BEC5",
                "#B0BEC5",
                "#B0BEC5",
                "#B0BEC5",
                "#B0BEC5",
                "#B0BEC5",
                "#B0BEC5",
                "#B0BEC5",
                "#B0BEC5",
                "#B0BEC5",
                "#B0BEC5",
                "#B0BEC5",
                "#B0BEC5",
                "#B0BEC5",
                "#B0BEC5",
                "#B0BEC5",
                "#B0BEC5",
                "#B0BEC5"
               ]
              ]
             }
            ],
            "label": "Topic 15",
            "method": "update"
           },
           {
            "args": [
             {
              "marker.color": [
               [
                "#B0BEC5",
                "#B0BEC5",
                "#B0BEC5",
                "#B0BEC5",
                "#B0BEC5",
                "#B0BEC5",
                "#B0BEC5",
                "#B0BEC5",
                "#B0BEC5",
                "#B0BEC5",
                "#B0BEC5",
                "#B0BEC5",
                "#B0BEC5",
                "#B0BEC5",
                "#B0BEC5",
                "#B0BEC5",
                "red",
                "#B0BEC5",
                "#B0BEC5",
                "#B0BEC5",
                "#B0BEC5",
                "#B0BEC5",
                "#B0BEC5",
                "#B0BEC5",
                "#B0BEC5",
                "#B0BEC5",
                "#B0BEC5",
                "#B0BEC5",
                "#B0BEC5",
                "#B0BEC5",
                "#B0BEC5",
                "#B0BEC5",
                "#B0BEC5",
                "#B0BEC5",
                "#B0BEC5",
                "#B0BEC5",
                "#B0BEC5",
                "#B0BEC5",
                "#B0BEC5",
                "#B0BEC5",
                "#B0BEC5",
                "#B0BEC5",
                "#B0BEC5",
                "#B0BEC5",
                "#B0BEC5",
                "#B0BEC5",
                "#B0BEC5",
                "#B0BEC5",
                "#B0BEC5",
                "#B0BEC5",
                "#B0BEC5",
                "#B0BEC5",
                "#B0BEC5",
                "#B0BEC5",
                "#B0BEC5",
                "#B0BEC5",
                "#B0BEC5",
                "#B0BEC5"
               ]
              ]
             }
            ],
            "label": "Topic 16",
            "method": "update"
           },
           {
            "args": [
             {
              "marker.color": [
               [
                "#B0BEC5",
                "#B0BEC5",
                "#B0BEC5",
                "#B0BEC5",
                "#B0BEC5",
                "#B0BEC5",
                "#B0BEC5",
                "#B0BEC5",
                "#B0BEC5",
                "#B0BEC5",
                "#B0BEC5",
                "#B0BEC5",
                "#B0BEC5",
                "#B0BEC5",
                "#B0BEC5",
                "#B0BEC5",
                "#B0BEC5",
                "red",
                "#B0BEC5",
                "#B0BEC5",
                "#B0BEC5",
                "#B0BEC5",
                "#B0BEC5",
                "#B0BEC5",
                "#B0BEC5",
                "#B0BEC5",
                "#B0BEC5",
                "#B0BEC5",
                "#B0BEC5",
                "#B0BEC5",
                "#B0BEC5",
                "#B0BEC5",
                "#B0BEC5",
                "#B0BEC5",
                "#B0BEC5",
                "#B0BEC5",
                "#B0BEC5",
                "#B0BEC5",
                "#B0BEC5",
                "#B0BEC5",
                "#B0BEC5",
                "#B0BEC5",
                "#B0BEC5",
                "#B0BEC5",
                "#B0BEC5",
                "#B0BEC5",
                "#B0BEC5",
                "#B0BEC5",
                "#B0BEC5",
                "#B0BEC5",
                "#B0BEC5",
                "#B0BEC5",
                "#B0BEC5",
                "#B0BEC5",
                "#B0BEC5",
                "#B0BEC5",
                "#B0BEC5",
                "#B0BEC5"
               ]
              ]
             }
            ],
            "label": "Topic 17",
            "method": "update"
           },
           {
            "args": [
             {
              "marker.color": [
               [
                "#B0BEC5",
                "#B0BEC5",
                "#B0BEC5",
                "#B0BEC5",
                "#B0BEC5",
                "#B0BEC5",
                "#B0BEC5",
                "#B0BEC5",
                "#B0BEC5",
                "#B0BEC5",
                "#B0BEC5",
                "#B0BEC5",
                "#B0BEC5",
                "#B0BEC5",
                "#B0BEC5",
                "#B0BEC5",
                "#B0BEC5",
                "#B0BEC5",
                "red",
                "#B0BEC5",
                "#B0BEC5",
                "#B0BEC5",
                "#B0BEC5",
                "#B0BEC5",
                "#B0BEC5",
                "#B0BEC5",
                "#B0BEC5",
                "#B0BEC5",
                "#B0BEC5",
                "#B0BEC5",
                "#B0BEC5",
                "#B0BEC5",
                "#B0BEC5",
                "#B0BEC5",
                "#B0BEC5",
                "#B0BEC5",
                "#B0BEC5",
                "#B0BEC5",
                "#B0BEC5",
                "#B0BEC5",
                "#B0BEC5",
                "#B0BEC5",
                "#B0BEC5",
                "#B0BEC5",
                "#B0BEC5",
                "#B0BEC5",
                "#B0BEC5",
                "#B0BEC5",
                "#B0BEC5",
                "#B0BEC5",
                "#B0BEC5",
                "#B0BEC5",
                "#B0BEC5",
                "#B0BEC5",
                "#B0BEC5",
                "#B0BEC5",
                "#B0BEC5",
                "#B0BEC5"
               ]
              ]
             }
            ],
            "label": "Topic 18",
            "method": "update"
           },
           {
            "args": [
             {
              "marker.color": [
               [
                "#B0BEC5",
                "#B0BEC5",
                "#B0BEC5",
                "#B0BEC5",
                "#B0BEC5",
                "#B0BEC5",
                "#B0BEC5",
                "#B0BEC5",
                "#B0BEC5",
                "#B0BEC5",
                "#B0BEC5",
                "#B0BEC5",
                "#B0BEC5",
                "#B0BEC5",
                "#B0BEC5",
                "#B0BEC5",
                "#B0BEC5",
                "#B0BEC5",
                "#B0BEC5",
                "red",
                "#B0BEC5",
                "#B0BEC5",
                "#B0BEC5",
                "#B0BEC5",
                "#B0BEC5",
                "#B0BEC5",
                "#B0BEC5",
                "#B0BEC5",
                "#B0BEC5",
                "#B0BEC5",
                "#B0BEC5",
                "#B0BEC5",
                "#B0BEC5",
                "#B0BEC5",
                "#B0BEC5",
                "#B0BEC5",
                "#B0BEC5",
                "#B0BEC5",
                "#B0BEC5",
                "#B0BEC5",
                "#B0BEC5",
                "#B0BEC5",
                "#B0BEC5",
                "#B0BEC5",
                "#B0BEC5",
                "#B0BEC5",
                "#B0BEC5",
                "#B0BEC5",
                "#B0BEC5",
                "#B0BEC5",
                "#B0BEC5",
                "#B0BEC5",
                "#B0BEC5",
                "#B0BEC5",
                "#B0BEC5",
                "#B0BEC5",
                "#B0BEC5",
                "#B0BEC5"
               ]
              ]
             }
            ],
            "label": "Topic 19",
            "method": "update"
           },
           {
            "args": [
             {
              "marker.color": [
               [
                "#B0BEC5",
                "#B0BEC5",
                "#B0BEC5",
                "#B0BEC5",
                "#B0BEC5",
                "#B0BEC5",
                "#B0BEC5",
                "#B0BEC5",
                "#B0BEC5",
                "#B0BEC5",
                "#B0BEC5",
                "#B0BEC5",
                "#B0BEC5",
                "#B0BEC5",
                "#B0BEC5",
                "#B0BEC5",
                "#B0BEC5",
                "#B0BEC5",
                "#B0BEC5",
                "#B0BEC5",
                "red",
                "#B0BEC5",
                "#B0BEC5",
                "#B0BEC5",
                "#B0BEC5",
                "#B0BEC5",
                "#B0BEC5",
                "#B0BEC5",
                "#B0BEC5",
                "#B0BEC5",
                "#B0BEC5",
                "#B0BEC5",
                "#B0BEC5",
                "#B0BEC5",
                "#B0BEC5",
                "#B0BEC5",
                "#B0BEC5",
                "#B0BEC5",
                "#B0BEC5",
                "#B0BEC5",
                "#B0BEC5",
                "#B0BEC5",
                "#B0BEC5",
                "#B0BEC5",
                "#B0BEC5",
                "#B0BEC5",
                "#B0BEC5",
                "#B0BEC5",
                "#B0BEC5",
                "#B0BEC5",
                "#B0BEC5",
                "#B0BEC5",
                "#B0BEC5",
                "#B0BEC5",
                "#B0BEC5",
                "#B0BEC5",
                "#B0BEC5",
                "#B0BEC5"
               ]
              ]
             }
            ],
            "label": "Topic 20",
            "method": "update"
           },
           {
            "args": [
             {
              "marker.color": [
               [
                "#B0BEC5",
                "#B0BEC5",
                "#B0BEC5",
                "#B0BEC5",
                "#B0BEC5",
                "#B0BEC5",
                "#B0BEC5",
                "#B0BEC5",
                "#B0BEC5",
                "#B0BEC5",
                "#B0BEC5",
                "#B0BEC5",
                "#B0BEC5",
                "#B0BEC5",
                "#B0BEC5",
                "#B0BEC5",
                "#B0BEC5",
                "#B0BEC5",
                "#B0BEC5",
                "#B0BEC5",
                "#B0BEC5",
                "red",
                "#B0BEC5",
                "#B0BEC5",
                "#B0BEC5",
                "#B0BEC5",
                "#B0BEC5",
                "#B0BEC5",
                "#B0BEC5",
                "#B0BEC5",
                "#B0BEC5",
                "#B0BEC5",
                "#B0BEC5",
                "#B0BEC5",
                "#B0BEC5",
                "#B0BEC5",
                "#B0BEC5",
                "#B0BEC5",
                "#B0BEC5",
                "#B0BEC5",
                "#B0BEC5",
                "#B0BEC5",
                "#B0BEC5",
                "#B0BEC5",
                "#B0BEC5",
                "#B0BEC5",
                "#B0BEC5",
                "#B0BEC5",
                "#B0BEC5",
                "#B0BEC5",
                "#B0BEC5",
                "#B0BEC5",
                "#B0BEC5",
                "#B0BEC5",
                "#B0BEC5",
                "#B0BEC5",
                "#B0BEC5",
                "#B0BEC5"
               ]
              ]
             }
            ],
            "label": "Topic 21",
            "method": "update"
           },
           {
            "args": [
             {
              "marker.color": [
               [
                "#B0BEC5",
                "#B0BEC5",
                "#B0BEC5",
                "#B0BEC5",
                "#B0BEC5",
                "#B0BEC5",
                "#B0BEC5",
                "#B0BEC5",
                "#B0BEC5",
                "#B0BEC5",
                "#B0BEC5",
                "#B0BEC5",
                "#B0BEC5",
                "#B0BEC5",
                "#B0BEC5",
                "#B0BEC5",
                "#B0BEC5",
                "#B0BEC5",
                "#B0BEC5",
                "#B0BEC5",
                "#B0BEC5",
                "#B0BEC5",
                "red",
                "#B0BEC5",
                "#B0BEC5",
                "#B0BEC5",
                "#B0BEC5",
                "#B0BEC5",
                "#B0BEC5",
                "#B0BEC5",
                "#B0BEC5",
                "#B0BEC5",
                "#B0BEC5",
                "#B0BEC5",
                "#B0BEC5",
                "#B0BEC5",
                "#B0BEC5",
                "#B0BEC5",
                "#B0BEC5",
                "#B0BEC5",
                "#B0BEC5",
                "#B0BEC5",
                "#B0BEC5",
                "#B0BEC5",
                "#B0BEC5",
                "#B0BEC5",
                "#B0BEC5",
                "#B0BEC5",
                "#B0BEC5",
                "#B0BEC5",
                "#B0BEC5",
                "#B0BEC5",
                "#B0BEC5",
                "#B0BEC5",
                "#B0BEC5",
                "#B0BEC5",
                "#B0BEC5",
                "#B0BEC5"
               ]
              ]
             }
            ],
            "label": "Topic 22",
            "method": "update"
           },
           {
            "args": [
             {
              "marker.color": [
               [
                "#B0BEC5",
                "#B0BEC5",
                "#B0BEC5",
                "#B0BEC5",
                "#B0BEC5",
                "#B0BEC5",
                "#B0BEC5",
                "#B0BEC5",
                "#B0BEC5",
                "#B0BEC5",
                "#B0BEC5",
                "#B0BEC5",
                "#B0BEC5",
                "#B0BEC5",
                "#B0BEC5",
                "#B0BEC5",
                "#B0BEC5",
                "#B0BEC5",
                "#B0BEC5",
                "#B0BEC5",
                "#B0BEC5",
                "#B0BEC5",
                "#B0BEC5",
                "red",
                "#B0BEC5",
                "#B0BEC5",
                "#B0BEC5",
                "#B0BEC5",
                "#B0BEC5",
                "#B0BEC5",
                "#B0BEC5",
                "#B0BEC5",
                "#B0BEC5",
                "#B0BEC5",
                "#B0BEC5",
                "#B0BEC5",
                "#B0BEC5",
                "#B0BEC5",
                "#B0BEC5",
                "#B0BEC5",
                "#B0BEC5",
                "#B0BEC5",
                "#B0BEC5",
                "#B0BEC5",
                "#B0BEC5",
                "#B0BEC5",
                "#B0BEC5",
                "#B0BEC5",
                "#B0BEC5",
                "#B0BEC5",
                "#B0BEC5",
                "#B0BEC5",
                "#B0BEC5",
                "#B0BEC5",
                "#B0BEC5",
                "#B0BEC5",
                "#B0BEC5",
                "#B0BEC5"
               ]
              ]
             }
            ],
            "label": "Topic 23",
            "method": "update"
           },
           {
            "args": [
             {
              "marker.color": [
               [
                "#B0BEC5",
                "#B0BEC5",
                "#B0BEC5",
                "#B0BEC5",
                "#B0BEC5",
                "#B0BEC5",
                "#B0BEC5",
                "#B0BEC5",
                "#B0BEC5",
                "#B0BEC5",
                "#B0BEC5",
                "#B0BEC5",
                "#B0BEC5",
                "#B0BEC5",
                "#B0BEC5",
                "#B0BEC5",
                "#B0BEC5",
                "#B0BEC5",
                "#B0BEC5",
                "#B0BEC5",
                "#B0BEC5",
                "#B0BEC5",
                "#B0BEC5",
                "#B0BEC5",
                "red",
                "#B0BEC5",
                "#B0BEC5",
                "#B0BEC5",
                "#B0BEC5",
                "#B0BEC5",
                "#B0BEC5",
                "#B0BEC5",
                "#B0BEC5",
                "#B0BEC5",
                "#B0BEC5",
                "#B0BEC5",
                "#B0BEC5",
                "#B0BEC5",
                "#B0BEC5",
                "#B0BEC5",
                "#B0BEC5",
                "#B0BEC5",
                "#B0BEC5",
                "#B0BEC5",
                "#B0BEC5",
                "#B0BEC5",
                "#B0BEC5",
                "#B0BEC5",
                "#B0BEC5",
                "#B0BEC5",
                "#B0BEC5",
                "#B0BEC5",
                "#B0BEC5",
                "#B0BEC5",
                "#B0BEC5",
                "#B0BEC5",
                "#B0BEC5",
                "#B0BEC5"
               ]
              ]
             }
            ],
            "label": "Topic 24",
            "method": "update"
           },
           {
            "args": [
             {
              "marker.color": [
               [
                "#B0BEC5",
                "#B0BEC5",
                "#B0BEC5",
                "#B0BEC5",
                "#B0BEC5",
                "#B0BEC5",
                "#B0BEC5",
                "#B0BEC5",
                "#B0BEC5",
                "#B0BEC5",
                "#B0BEC5",
                "#B0BEC5",
                "#B0BEC5",
                "#B0BEC5",
                "#B0BEC5",
                "#B0BEC5",
                "#B0BEC5",
                "#B0BEC5",
                "#B0BEC5",
                "#B0BEC5",
                "#B0BEC5",
                "#B0BEC5",
                "#B0BEC5",
                "#B0BEC5",
                "#B0BEC5",
                "red",
                "#B0BEC5",
                "#B0BEC5",
                "#B0BEC5",
                "#B0BEC5",
                "#B0BEC5",
                "#B0BEC5",
                "#B0BEC5",
                "#B0BEC5",
                "#B0BEC5",
                "#B0BEC5",
                "#B0BEC5",
                "#B0BEC5",
                "#B0BEC5",
                "#B0BEC5",
                "#B0BEC5",
                "#B0BEC5",
                "#B0BEC5",
                "#B0BEC5",
                "#B0BEC5",
                "#B0BEC5",
                "#B0BEC5",
                "#B0BEC5",
                "#B0BEC5",
                "#B0BEC5",
                "#B0BEC5",
                "#B0BEC5",
                "#B0BEC5",
                "#B0BEC5",
                "#B0BEC5",
                "#B0BEC5",
                "#B0BEC5",
                "#B0BEC5"
               ]
              ]
             }
            ],
            "label": "Topic 25",
            "method": "update"
           },
           {
            "args": [
             {
              "marker.color": [
               [
                "#B0BEC5",
                "#B0BEC5",
                "#B0BEC5",
                "#B0BEC5",
                "#B0BEC5",
                "#B0BEC5",
                "#B0BEC5",
                "#B0BEC5",
                "#B0BEC5",
                "#B0BEC5",
                "#B0BEC5",
                "#B0BEC5",
                "#B0BEC5",
                "#B0BEC5",
                "#B0BEC5",
                "#B0BEC5",
                "#B0BEC5",
                "#B0BEC5",
                "#B0BEC5",
                "#B0BEC5",
                "#B0BEC5",
                "#B0BEC5",
                "#B0BEC5",
                "#B0BEC5",
                "#B0BEC5",
                "#B0BEC5",
                "red",
                "#B0BEC5",
                "#B0BEC5",
                "#B0BEC5",
                "#B0BEC5",
                "#B0BEC5",
                "#B0BEC5",
                "#B0BEC5",
                "#B0BEC5",
                "#B0BEC5",
                "#B0BEC5",
                "#B0BEC5",
                "#B0BEC5",
                "#B0BEC5",
                "#B0BEC5",
                "#B0BEC5",
                "#B0BEC5",
                "#B0BEC5",
                "#B0BEC5",
                "#B0BEC5",
                "#B0BEC5",
                "#B0BEC5",
                "#B0BEC5",
                "#B0BEC5",
                "#B0BEC5",
                "#B0BEC5",
                "#B0BEC5",
                "#B0BEC5",
                "#B0BEC5",
                "#B0BEC5",
                "#B0BEC5",
                "#B0BEC5"
               ]
              ]
             }
            ],
            "label": "Topic 26",
            "method": "update"
           },
           {
            "args": [
             {
              "marker.color": [
               [
                "#B0BEC5",
                "#B0BEC5",
                "#B0BEC5",
                "#B0BEC5",
                "#B0BEC5",
                "#B0BEC5",
                "#B0BEC5",
                "#B0BEC5",
                "#B0BEC5",
                "#B0BEC5",
                "#B0BEC5",
                "#B0BEC5",
                "#B0BEC5",
                "#B0BEC5",
                "#B0BEC5",
                "#B0BEC5",
                "#B0BEC5",
                "#B0BEC5",
                "#B0BEC5",
                "#B0BEC5",
                "#B0BEC5",
                "#B0BEC5",
                "#B0BEC5",
                "#B0BEC5",
                "#B0BEC5",
                "#B0BEC5",
                "#B0BEC5",
                "red",
                "#B0BEC5",
                "#B0BEC5",
                "#B0BEC5",
                "#B0BEC5",
                "#B0BEC5",
                "#B0BEC5",
                "#B0BEC5",
                "#B0BEC5",
                "#B0BEC5",
                "#B0BEC5",
                "#B0BEC5",
                "#B0BEC5",
                "#B0BEC5",
                "#B0BEC5",
                "#B0BEC5",
                "#B0BEC5",
                "#B0BEC5",
                "#B0BEC5",
                "#B0BEC5",
                "#B0BEC5",
                "#B0BEC5",
                "#B0BEC5",
                "#B0BEC5",
                "#B0BEC5",
                "#B0BEC5",
                "#B0BEC5",
                "#B0BEC5",
                "#B0BEC5",
                "#B0BEC5",
                "#B0BEC5"
               ]
              ]
             }
            ],
            "label": "Topic 27",
            "method": "update"
           },
           {
            "args": [
             {
              "marker.color": [
               [
                "#B0BEC5",
                "#B0BEC5",
                "#B0BEC5",
                "#B0BEC5",
                "#B0BEC5",
                "#B0BEC5",
                "#B0BEC5",
                "#B0BEC5",
                "#B0BEC5",
                "#B0BEC5",
                "#B0BEC5",
                "#B0BEC5",
                "#B0BEC5",
                "#B0BEC5",
                "#B0BEC5",
                "#B0BEC5",
                "#B0BEC5",
                "#B0BEC5",
                "#B0BEC5",
                "#B0BEC5",
                "#B0BEC5",
                "#B0BEC5",
                "#B0BEC5",
                "#B0BEC5",
                "#B0BEC5",
                "#B0BEC5",
                "#B0BEC5",
                "#B0BEC5",
                "red",
                "#B0BEC5",
                "#B0BEC5",
                "#B0BEC5",
                "#B0BEC5",
                "#B0BEC5",
                "#B0BEC5",
                "#B0BEC5",
                "#B0BEC5",
                "#B0BEC5",
                "#B0BEC5",
                "#B0BEC5",
                "#B0BEC5",
                "#B0BEC5",
                "#B0BEC5",
                "#B0BEC5",
                "#B0BEC5",
                "#B0BEC5",
                "#B0BEC5",
                "#B0BEC5",
                "#B0BEC5",
                "#B0BEC5",
                "#B0BEC5",
                "#B0BEC5",
                "#B0BEC5",
                "#B0BEC5",
                "#B0BEC5",
                "#B0BEC5",
                "#B0BEC5",
                "#B0BEC5"
               ]
              ]
             }
            ],
            "label": "Topic 28",
            "method": "update"
           },
           {
            "args": [
             {
              "marker.color": [
               [
                "#B0BEC5",
                "#B0BEC5",
                "#B0BEC5",
                "#B0BEC5",
                "#B0BEC5",
                "#B0BEC5",
                "#B0BEC5",
                "#B0BEC5",
                "#B0BEC5",
                "#B0BEC5",
                "#B0BEC5",
                "#B0BEC5",
                "#B0BEC5",
                "#B0BEC5",
                "#B0BEC5",
                "#B0BEC5",
                "#B0BEC5",
                "#B0BEC5",
                "#B0BEC5",
                "#B0BEC5",
                "#B0BEC5",
                "#B0BEC5",
                "#B0BEC5",
                "#B0BEC5",
                "#B0BEC5",
                "#B0BEC5",
                "#B0BEC5",
                "#B0BEC5",
                "#B0BEC5",
                "red",
                "#B0BEC5",
                "#B0BEC5",
                "#B0BEC5",
                "#B0BEC5",
                "#B0BEC5",
                "#B0BEC5",
                "#B0BEC5",
                "#B0BEC5",
                "#B0BEC5",
                "#B0BEC5",
                "#B0BEC5",
                "#B0BEC5",
                "#B0BEC5",
                "#B0BEC5",
                "#B0BEC5",
                "#B0BEC5",
                "#B0BEC5",
                "#B0BEC5",
                "#B0BEC5",
                "#B0BEC5",
                "#B0BEC5",
                "#B0BEC5",
                "#B0BEC5",
                "#B0BEC5",
                "#B0BEC5",
                "#B0BEC5",
                "#B0BEC5",
                "#B0BEC5"
               ]
              ]
             }
            ],
            "label": "Topic 29",
            "method": "update"
           },
           {
            "args": [
             {
              "marker.color": [
               [
                "#B0BEC5",
                "#B0BEC5",
                "#B0BEC5",
                "#B0BEC5",
                "#B0BEC5",
                "#B0BEC5",
                "#B0BEC5",
                "#B0BEC5",
                "#B0BEC5",
                "#B0BEC5",
                "#B0BEC5",
                "#B0BEC5",
                "#B0BEC5",
                "#B0BEC5",
                "#B0BEC5",
                "#B0BEC5",
                "#B0BEC5",
                "#B0BEC5",
                "#B0BEC5",
                "#B0BEC5",
                "#B0BEC5",
                "#B0BEC5",
                "#B0BEC5",
                "#B0BEC5",
                "#B0BEC5",
                "#B0BEC5",
                "#B0BEC5",
                "#B0BEC5",
                "#B0BEC5",
                "#B0BEC5",
                "red",
                "#B0BEC5",
                "#B0BEC5",
                "#B0BEC5",
                "#B0BEC5",
                "#B0BEC5",
                "#B0BEC5",
                "#B0BEC5",
                "#B0BEC5",
                "#B0BEC5",
                "#B0BEC5",
                "#B0BEC5",
                "#B0BEC5",
                "#B0BEC5",
                "#B0BEC5",
                "#B0BEC5",
                "#B0BEC5",
                "#B0BEC5",
                "#B0BEC5",
                "#B0BEC5",
                "#B0BEC5",
                "#B0BEC5",
                "#B0BEC5",
                "#B0BEC5",
                "#B0BEC5",
                "#B0BEC5",
                "#B0BEC5",
                "#B0BEC5"
               ]
              ]
             }
            ],
            "label": "Topic 30",
            "method": "update"
           },
           {
            "args": [
             {
              "marker.color": [
               [
                "#B0BEC5",
                "#B0BEC5",
                "#B0BEC5",
                "#B0BEC5",
                "#B0BEC5",
                "#B0BEC5",
                "#B0BEC5",
                "#B0BEC5",
                "#B0BEC5",
                "#B0BEC5",
                "#B0BEC5",
                "#B0BEC5",
                "#B0BEC5",
                "#B0BEC5",
                "#B0BEC5",
                "#B0BEC5",
                "#B0BEC5",
                "#B0BEC5",
                "#B0BEC5",
                "#B0BEC5",
                "#B0BEC5",
                "#B0BEC5",
                "#B0BEC5",
                "#B0BEC5",
                "#B0BEC5",
                "#B0BEC5",
                "#B0BEC5",
                "#B0BEC5",
                "#B0BEC5",
                "#B0BEC5",
                "#B0BEC5",
                "red",
                "#B0BEC5",
                "#B0BEC5",
                "#B0BEC5",
                "#B0BEC5",
                "#B0BEC5",
                "#B0BEC5",
                "#B0BEC5",
                "#B0BEC5",
                "#B0BEC5",
                "#B0BEC5",
                "#B0BEC5",
                "#B0BEC5",
                "#B0BEC5",
                "#B0BEC5",
                "#B0BEC5",
                "#B0BEC5",
                "#B0BEC5",
                "#B0BEC5",
                "#B0BEC5",
                "#B0BEC5",
                "#B0BEC5",
                "#B0BEC5",
                "#B0BEC5",
                "#B0BEC5",
                "#B0BEC5",
                "#B0BEC5"
               ]
              ]
             }
            ],
            "label": "Topic 31",
            "method": "update"
           },
           {
            "args": [
             {
              "marker.color": [
               [
                "#B0BEC5",
                "#B0BEC5",
                "#B0BEC5",
                "#B0BEC5",
                "#B0BEC5",
                "#B0BEC5",
                "#B0BEC5",
                "#B0BEC5",
                "#B0BEC5",
                "#B0BEC5",
                "#B0BEC5",
                "#B0BEC5",
                "#B0BEC5",
                "#B0BEC5",
                "#B0BEC5",
                "#B0BEC5",
                "#B0BEC5",
                "#B0BEC5",
                "#B0BEC5",
                "#B0BEC5",
                "#B0BEC5",
                "#B0BEC5",
                "#B0BEC5",
                "#B0BEC5",
                "#B0BEC5",
                "#B0BEC5",
                "#B0BEC5",
                "#B0BEC5",
                "#B0BEC5",
                "#B0BEC5",
                "#B0BEC5",
                "#B0BEC5",
                "red",
                "#B0BEC5",
                "#B0BEC5",
                "#B0BEC5",
                "#B0BEC5",
                "#B0BEC5",
                "#B0BEC5",
                "#B0BEC5",
                "#B0BEC5",
                "#B0BEC5",
                "#B0BEC5",
                "#B0BEC5",
                "#B0BEC5",
                "#B0BEC5",
                "#B0BEC5",
                "#B0BEC5",
                "#B0BEC5",
                "#B0BEC5",
                "#B0BEC5",
                "#B0BEC5",
                "#B0BEC5",
                "#B0BEC5",
                "#B0BEC5",
                "#B0BEC5",
                "#B0BEC5",
                "#B0BEC5"
               ]
              ]
             }
            ],
            "label": "Topic 32",
            "method": "update"
           },
           {
            "args": [
             {
              "marker.color": [
               [
                "#B0BEC5",
                "#B0BEC5",
                "#B0BEC5",
                "#B0BEC5",
                "#B0BEC5",
                "#B0BEC5",
                "#B0BEC5",
                "#B0BEC5",
                "#B0BEC5",
                "#B0BEC5",
                "#B0BEC5",
                "#B0BEC5",
                "#B0BEC5",
                "#B0BEC5",
                "#B0BEC5",
                "#B0BEC5",
                "#B0BEC5",
                "#B0BEC5",
                "#B0BEC5",
                "#B0BEC5",
                "#B0BEC5",
                "#B0BEC5",
                "#B0BEC5",
                "#B0BEC5",
                "#B0BEC5",
                "#B0BEC5",
                "#B0BEC5",
                "#B0BEC5",
                "#B0BEC5",
                "#B0BEC5",
                "#B0BEC5",
                "#B0BEC5",
                "#B0BEC5",
                "red",
                "#B0BEC5",
                "#B0BEC5",
                "#B0BEC5",
                "#B0BEC5",
                "#B0BEC5",
                "#B0BEC5",
                "#B0BEC5",
                "#B0BEC5",
                "#B0BEC5",
                "#B0BEC5",
                "#B0BEC5",
                "#B0BEC5",
                "#B0BEC5",
                "#B0BEC5",
                "#B0BEC5",
                "#B0BEC5",
                "#B0BEC5",
                "#B0BEC5",
                "#B0BEC5",
                "#B0BEC5",
                "#B0BEC5",
                "#B0BEC5",
                "#B0BEC5",
                "#B0BEC5"
               ]
              ]
             }
            ],
            "label": "Topic 33",
            "method": "update"
           },
           {
            "args": [
             {
              "marker.color": [
               [
                "#B0BEC5",
                "#B0BEC5",
                "#B0BEC5",
                "#B0BEC5",
                "#B0BEC5",
                "#B0BEC5",
                "#B0BEC5",
                "#B0BEC5",
                "#B0BEC5",
                "#B0BEC5",
                "#B0BEC5",
                "#B0BEC5",
                "#B0BEC5",
                "#B0BEC5",
                "#B0BEC5",
                "#B0BEC5",
                "#B0BEC5",
                "#B0BEC5",
                "#B0BEC5",
                "#B0BEC5",
                "#B0BEC5",
                "#B0BEC5",
                "#B0BEC5",
                "#B0BEC5",
                "#B0BEC5",
                "#B0BEC5",
                "#B0BEC5",
                "#B0BEC5",
                "#B0BEC5",
                "#B0BEC5",
                "#B0BEC5",
                "#B0BEC5",
                "#B0BEC5",
                "#B0BEC5",
                "red",
                "#B0BEC5",
                "#B0BEC5",
                "#B0BEC5",
                "#B0BEC5",
                "#B0BEC5",
                "#B0BEC5",
                "#B0BEC5",
                "#B0BEC5",
                "#B0BEC5",
                "#B0BEC5",
                "#B0BEC5",
                "#B0BEC5",
                "#B0BEC5",
                "#B0BEC5",
                "#B0BEC5",
                "#B0BEC5",
                "#B0BEC5",
                "#B0BEC5",
                "#B0BEC5",
                "#B0BEC5",
                "#B0BEC5",
                "#B0BEC5",
                "#B0BEC5"
               ]
              ]
             }
            ],
            "label": "Topic 34",
            "method": "update"
           },
           {
            "args": [
             {
              "marker.color": [
               [
                "#B0BEC5",
                "#B0BEC5",
                "#B0BEC5",
                "#B0BEC5",
                "#B0BEC5",
                "#B0BEC5",
                "#B0BEC5",
                "#B0BEC5",
                "#B0BEC5",
                "#B0BEC5",
                "#B0BEC5",
                "#B0BEC5",
                "#B0BEC5",
                "#B0BEC5",
                "#B0BEC5",
                "#B0BEC5",
                "#B0BEC5",
                "#B0BEC5",
                "#B0BEC5",
                "#B0BEC5",
                "#B0BEC5",
                "#B0BEC5",
                "#B0BEC5",
                "#B0BEC5",
                "#B0BEC5",
                "#B0BEC5",
                "#B0BEC5",
                "#B0BEC5",
                "#B0BEC5",
                "#B0BEC5",
                "#B0BEC5",
                "#B0BEC5",
                "#B0BEC5",
                "#B0BEC5",
                "#B0BEC5",
                "red",
                "#B0BEC5",
                "#B0BEC5",
                "#B0BEC5",
                "#B0BEC5",
                "#B0BEC5",
                "#B0BEC5",
                "#B0BEC5",
                "#B0BEC5",
                "#B0BEC5",
                "#B0BEC5",
                "#B0BEC5",
                "#B0BEC5",
                "#B0BEC5",
                "#B0BEC5",
                "#B0BEC5",
                "#B0BEC5",
                "#B0BEC5",
                "#B0BEC5",
                "#B0BEC5",
                "#B0BEC5",
                "#B0BEC5",
                "#B0BEC5"
               ]
              ]
             }
            ],
            "label": "Topic 35",
            "method": "update"
           },
           {
            "args": [
             {
              "marker.color": [
               [
                "#B0BEC5",
                "#B0BEC5",
                "#B0BEC5",
                "#B0BEC5",
                "#B0BEC5",
                "#B0BEC5",
                "#B0BEC5",
                "#B0BEC5",
                "#B0BEC5",
                "#B0BEC5",
                "#B0BEC5",
                "#B0BEC5",
                "#B0BEC5",
                "#B0BEC5",
                "#B0BEC5",
                "#B0BEC5",
                "#B0BEC5",
                "#B0BEC5",
                "#B0BEC5",
                "#B0BEC5",
                "#B0BEC5",
                "#B0BEC5",
                "#B0BEC5",
                "#B0BEC5",
                "#B0BEC5",
                "#B0BEC5",
                "#B0BEC5",
                "#B0BEC5",
                "#B0BEC5",
                "#B0BEC5",
                "#B0BEC5",
                "#B0BEC5",
                "#B0BEC5",
                "#B0BEC5",
                "#B0BEC5",
                "#B0BEC5",
                "red",
                "#B0BEC5",
                "#B0BEC5",
                "#B0BEC5",
                "#B0BEC5",
                "#B0BEC5",
                "#B0BEC5",
                "#B0BEC5",
                "#B0BEC5",
                "#B0BEC5",
                "#B0BEC5",
                "#B0BEC5",
                "#B0BEC5",
                "#B0BEC5",
                "#B0BEC5",
                "#B0BEC5",
                "#B0BEC5",
                "#B0BEC5",
                "#B0BEC5",
                "#B0BEC5",
                "#B0BEC5",
                "#B0BEC5"
               ]
              ]
             }
            ],
            "label": "Topic 36",
            "method": "update"
           },
           {
            "args": [
             {
              "marker.color": [
               [
                "#B0BEC5",
                "#B0BEC5",
                "#B0BEC5",
                "#B0BEC5",
                "#B0BEC5",
                "#B0BEC5",
                "#B0BEC5",
                "#B0BEC5",
                "#B0BEC5",
                "#B0BEC5",
                "#B0BEC5",
                "#B0BEC5",
                "#B0BEC5",
                "#B0BEC5",
                "#B0BEC5",
                "#B0BEC5",
                "#B0BEC5",
                "#B0BEC5",
                "#B0BEC5",
                "#B0BEC5",
                "#B0BEC5",
                "#B0BEC5",
                "#B0BEC5",
                "#B0BEC5",
                "#B0BEC5",
                "#B0BEC5",
                "#B0BEC5",
                "#B0BEC5",
                "#B0BEC5",
                "#B0BEC5",
                "#B0BEC5",
                "#B0BEC5",
                "#B0BEC5",
                "#B0BEC5",
                "#B0BEC5",
                "#B0BEC5",
                "#B0BEC5",
                "red",
                "#B0BEC5",
                "#B0BEC5",
                "#B0BEC5",
                "#B0BEC5",
                "#B0BEC5",
                "#B0BEC5",
                "#B0BEC5",
                "#B0BEC5",
                "#B0BEC5",
                "#B0BEC5",
                "#B0BEC5",
                "#B0BEC5",
                "#B0BEC5",
                "#B0BEC5",
                "#B0BEC5",
                "#B0BEC5",
                "#B0BEC5",
                "#B0BEC5",
                "#B0BEC5",
                "#B0BEC5"
               ]
              ]
             }
            ],
            "label": "Topic 37",
            "method": "update"
           },
           {
            "args": [
             {
              "marker.color": [
               [
                "#B0BEC5",
                "#B0BEC5",
                "#B0BEC5",
                "#B0BEC5",
                "#B0BEC5",
                "#B0BEC5",
                "#B0BEC5",
                "#B0BEC5",
                "#B0BEC5",
                "#B0BEC5",
                "#B0BEC5",
                "#B0BEC5",
                "#B0BEC5",
                "#B0BEC5",
                "#B0BEC5",
                "#B0BEC5",
                "#B0BEC5",
                "#B0BEC5",
                "#B0BEC5",
                "#B0BEC5",
                "#B0BEC5",
                "#B0BEC5",
                "#B0BEC5",
                "#B0BEC5",
                "#B0BEC5",
                "#B0BEC5",
                "#B0BEC5",
                "#B0BEC5",
                "#B0BEC5",
                "#B0BEC5",
                "#B0BEC5",
                "#B0BEC5",
                "#B0BEC5",
                "#B0BEC5",
                "#B0BEC5",
                "#B0BEC5",
                "#B0BEC5",
                "#B0BEC5",
                "red",
                "#B0BEC5",
                "#B0BEC5",
                "#B0BEC5",
                "#B0BEC5",
                "#B0BEC5",
                "#B0BEC5",
                "#B0BEC5",
                "#B0BEC5",
                "#B0BEC5",
                "#B0BEC5",
                "#B0BEC5",
                "#B0BEC5",
                "#B0BEC5",
                "#B0BEC5",
                "#B0BEC5",
                "#B0BEC5",
                "#B0BEC5",
                "#B0BEC5",
                "#B0BEC5"
               ]
              ]
             }
            ],
            "label": "Topic 38",
            "method": "update"
           },
           {
            "args": [
             {
              "marker.color": [
               [
                "#B0BEC5",
                "#B0BEC5",
                "#B0BEC5",
                "#B0BEC5",
                "#B0BEC5",
                "#B0BEC5",
                "#B0BEC5",
                "#B0BEC5",
                "#B0BEC5",
                "#B0BEC5",
                "#B0BEC5",
                "#B0BEC5",
                "#B0BEC5",
                "#B0BEC5",
                "#B0BEC5",
                "#B0BEC5",
                "#B0BEC5",
                "#B0BEC5",
                "#B0BEC5",
                "#B0BEC5",
                "#B0BEC5",
                "#B0BEC5",
                "#B0BEC5",
                "#B0BEC5",
                "#B0BEC5",
                "#B0BEC5",
                "#B0BEC5",
                "#B0BEC5",
                "#B0BEC5",
                "#B0BEC5",
                "#B0BEC5",
                "#B0BEC5",
                "#B0BEC5",
                "#B0BEC5",
                "#B0BEC5",
                "#B0BEC5",
                "#B0BEC5",
                "#B0BEC5",
                "#B0BEC5",
                "red",
                "#B0BEC5",
                "#B0BEC5",
                "#B0BEC5",
                "#B0BEC5",
                "#B0BEC5",
                "#B0BEC5",
                "#B0BEC5",
                "#B0BEC5",
                "#B0BEC5",
                "#B0BEC5",
                "#B0BEC5",
                "#B0BEC5",
                "#B0BEC5",
                "#B0BEC5",
                "#B0BEC5",
                "#B0BEC5",
                "#B0BEC5",
                "#B0BEC5"
               ]
              ]
             }
            ],
            "label": "Topic 39",
            "method": "update"
           },
           {
            "args": [
             {
              "marker.color": [
               [
                "#B0BEC5",
                "#B0BEC5",
                "#B0BEC5",
                "#B0BEC5",
                "#B0BEC5",
                "#B0BEC5",
                "#B0BEC5",
                "#B0BEC5",
                "#B0BEC5",
                "#B0BEC5",
                "#B0BEC5",
                "#B0BEC5",
                "#B0BEC5",
                "#B0BEC5",
                "#B0BEC5",
                "#B0BEC5",
                "#B0BEC5",
                "#B0BEC5",
                "#B0BEC5",
                "#B0BEC5",
                "#B0BEC5",
                "#B0BEC5",
                "#B0BEC5",
                "#B0BEC5",
                "#B0BEC5",
                "#B0BEC5",
                "#B0BEC5",
                "#B0BEC5",
                "#B0BEC5",
                "#B0BEC5",
                "#B0BEC5",
                "#B0BEC5",
                "#B0BEC5",
                "#B0BEC5",
                "#B0BEC5",
                "#B0BEC5",
                "#B0BEC5",
                "#B0BEC5",
                "#B0BEC5",
                "#B0BEC5",
                "red",
                "#B0BEC5",
                "#B0BEC5",
                "#B0BEC5",
                "#B0BEC5",
                "#B0BEC5",
                "#B0BEC5",
                "#B0BEC5",
                "#B0BEC5",
                "#B0BEC5",
                "#B0BEC5",
                "#B0BEC5",
                "#B0BEC5",
                "#B0BEC5",
                "#B0BEC5",
                "#B0BEC5",
                "#B0BEC5",
                "#B0BEC5"
               ]
              ]
             }
            ],
            "label": "Topic 40",
            "method": "update"
           },
           {
            "args": [
             {
              "marker.color": [
               [
                "#B0BEC5",
                "#B0BEC5",
                "#B0BEC5",
                "#B0BEC5",
                "#B0BEC5",
                "#B0BEC5",
                "#B0BEC5",
                "#B0BEC5",
                "#B0BEC5",
                "#B0BEC5",
                "#B0BEC5",
                "#B0BEC5",
                "#B0BEC5",
                "#B0BEC5",
                "#B0BEC5",
                "#B0BEC5",
                "#B0BEC5",
                "#B0BEC5",
                "#B0BEC5",
                "#B0BEC5",
                "#B0BEC5",
                "#B0BEC5",
                "#B0BEC5",
                "#B0BEC5",
                "#B0BEC5",
                "#B0BEC5",
                "#B0BEC5",
                "#B0BEC5",
                "#B0BEC5",
                "#B0BEC5",
                "#B0BEC5",
                "#B0BEC5",
                "#B0BEC5",
                "#B0BEC5",
                "#B0BEC5",
                "#B0BEC5",
                "#B0BEC5",
                "#B0BEC5",
                "#B0BEC5",
                "#B0BEC5",
                "#B0BEC5",
                "red",
                "#B0BEC5",
                "#B0BEC5",
                "#B0BEC5",
                "#B0BEC5",
                "#B0BEC5",
                "#B0BEC5",
                "#B0BEC5",
                "#B0BEC5",
                "#B0BEC5",
                "#B0BEC5",
                "#B0BEC5",
                "#B0BEC5",
                "#B0BEC5",
                "#B0BEC5",
                "#B0BEC5",
                "#B0BEC5"
               ]
              ]
             }
            ],
            "label": "Topic 41",
            "method": "update"
           },
           {
            "args": [
             {
              "marker.color": [
               [
                "#B0BEC5",
                "#B0BEC5",
                "#B0BEC5",
                "#B0BEC5",
                "#B0BEC5",
                "#B0BEC5",
                "#B0BEC5",
                "#B0BEC5",
                "#B0BEC5",
                "#B0BEC5",
                "#B0BEC5",
                "#B0BEC5",
                "#B0BEC5",
                "#B0BEC5",
                "#B0BEC5",
                "#B0BEC5",
                "#B0BEC5",
                "#B0BEC5",
                "#B0BEC5",
                "#B0BEC5",
                "#B0BEC5",
                "#B0BEC5",
                "#B0BEC5",
                "#B0BEC5",
                "#B0BEC5",
                "#B0BEC5",
                "#B0BEC5",
                "#B0BEC5",
                "#B0BEC5",
                "#B0BEC5",
                "#B0BEC5",
                "#B0BEC5",
                "#B0BEC5",
                "#B0BEC5",
                "#B0BEC5",
                "#B0BEC5",
                "#B0BEC5",
                "#B0BEC5",
                "#B0BEC5",
                "#B0BEC5",
                "#B0BEC5",
                "#B0BEC5",
                "red",
                "#B0BEC5",
                "#B0BEC5",
                "#B0BEC5",
                "#B0BEC5",
                "#B0BEC5",
                "#B0BEC5",
                "#B0BEC5",
                "#B0BEC5",
                "#B0BEC5",
                "#B0BEC5",
                "#B0BEC5",
                "#B0BEC5",
                "#B0BEC5",
                "#B0BEC5",
                "#B0BEC5"
               ]
              ]
             }
            ],
            "label": "Topic 42",
            "method": "update"
           },
           {
            "args": [
             {
              "marker.color": [
               [
                "#B0BEC5",
                "#B0BEC5",
                "#B0BEC5",
                "#B0BEC5",
                "#B0BEC5",
                "#B0BEC5",
                "#B0BEC5",
                "#B0BEC5",
                "#B0BEC5",
                "#B0BEC5",
                "#B0BEC5",
                "#B0BEC5",
                "#B0BEC5",
                "#B0BEC5",
                "#B0BEC5",
                "#B0BEC5",
                "#B0BEC5",
                "#B0BEC5",
                "#B0BEC5",
                "#B0BEC5",
                "#B0BEC5",
                "#B0BEC5",
                "#B0BEC5",
                "#B0BEC5",
                "#B0BEC5",
                "#B0BEC5",
                "#B0BEC5",
                "#B0BEC5",
                "#B0BEC5",
                "#B0BEC5",
                "#B0BEC5",
                "#B0BEC5",
                "#B0BEC5",
                "#B0BEC5",
                "#B0BEC5",
                "#B0BEC5",
                "#B0BEC5",
                "#B0BEC5",
                "#B0BEC5",
                "#B0BEC5",
                "#B0BEC5",
                "#B0BEC5",
                "#B0BEC5",
                "red",
                "#B0BEC5",
                "#B0BEC5",
                "#B0BEC5",
                "#B0BEC5",
                "#B0BEC5",
                "#B0BEC5",
                "#B0BEC5",
                "#B0BEC5",
                "#B0BEC5",
                "#B0BEC5",
                "#B0BEC5",
                "#B0BEC5",
                "#B0BEC5",
                "#B0BEC5"
               ]
              ]
             }
            ],
            "label": "Topic 43",
            "method": "update"
           },
           {
            "args": [
             {
              "marker.color": [
               [
                "#B0BEC5",
                "#B0BEC5",
                "#B0BEC5",
                "#B0BEC5",
                "#B0BEC5",
                "#B0BEC5",
                "#B0BEC5",
                "#B0BEC5",
                "#B0BEC5",
                "#B0BEC5",
                "#B0BEC5",
                "#B0BEC5",
                "#B0BEC5",
                "#B0BEC5",
                "#B0BEC5",
                "#B0BEC5",
                "#B0BEC5",
                "#B0BEC5",
                "#B0BEC5",
                "#B0BEC5",
                "#B0BEC5",
                "#B0BEC5",
                "#B0BEC5",
                "#B0BEC5",
                "#B0BEC5",
                "#B0BEC5",
                "#B0BEC5",
                "#B0BEC5",
                "#B0BEC5",
                "#B0BEC5",
                "#B0BEC5",
                "#B0BEC5",
                "#B0BEC5",
                "#B0BEC5",
                "#B0BEC5",
                "#B0BEC5",
                "#B0BEC5",
                "#B0BEC5",
                "#B0BEC5",
                "#B0BEC5",
                "#B0BEC5",
                "#B0BEC5",
                "#B0BEC5",
                "#B0BEC5",
                "red",
                "#B0BEC5",
                "#B0BEC5",
                "#B0BEC5",
                "#B0BEC5",
                "#B0BEC5",
                "#B0BEC5",
                "#B0BEC5",
                "#B0BEC5",
                "#B0BEC5",
                "#B0BEC5",
                "#B0BEC5",
                "#B0BEC5",
                "#B0BEC5"
               ]
              ]
             }
            ],
            "label": "Topic 44",
            "method": "update"
           },
           {
            "args": [
             {
              "marker.color": [
               [
                "#B0BEC5",
                "#B0BEC5",
                "#B0BEC5",
                "#B0BEC5",
                "#B0BEC5",
                "#B0BEC5",
                "#B0BEC5",
                "#B0BEC5",
                "#B0BEC5",
                "#B0BEC5",
                "#B0BEC5",
                "#B0BEC5",
                "#B0BEC5",
                "#B0BEC5",
                "#B0BEC5",
                "#B0BEC5",
                "#B0BEC5",
                "#B0BEC5",
                "#B0BEC5",
                "#B0BEC5",
                "#B0BEC5",
                "#B0BEC5",
                "#B0BEC5",
                "#B0BEC5",
                "#B0BEC5",
                "#B0BEC5",
                "#B0BEC5",
                "#B0BEC5",
                "#B0BEC5",
                "#B0BEC5",
                "#B0BEC5",
                "#B0BEC5",
                "#B0BEC5",
                "#B0BEC5",
                "#B0BEC5",
                "#B0BEC5",
                "#B0BEC5",
                "#B0BEC5",
                "#B0BEC5",
                "#B0BEC5",
                "#B0BEC5",
                "#B0BEC5",
                "#B0BEC5",
                "#B0BEC5",
                "#B0BEC5",
                "red",
                "#B0BEC5",
                "#B0BEC5",
                "#B0BEC5",
                "#B0BEC5",
                "#B0BEC5",
                "#B0BEC5",
                "#B0BEC5",
                "#B0BEC5",
                "#B0BEC5",
                "#B0BEC5",
                "#B0BEC5",
                "#B0BEC5"
               ]
              ]
             }
            ],
            "label": "Topic 45",
            "method": "update"
           },
           {
            "args": [
             {
              "marker.color": [
               [
                "#B0BEC5",
                "#B0BEC5",
                "#B0BEC5",
                "#B0BEC5",
                "#B0BEC5",
                "#B0BEC5",
                "#B0BEC5",
                "#B0BEC5",
                "#B0BEC5",
                "#B0BEC5",
                "#B0BEC5",
                "#B0BEC5",
                "#B0BEC5",
                "#B0BEC5",
                "#B0BEC5",
                "#B0BEC5",
                "#B0BEC5",
                "#B0BEC5",
                "#B0BEC5",
                "#B0BEC5",
                "#B0BEC5",
                "#B0BEC5",
                "#B0BEC5",
                "#B0BEC5",
                "#B0BEC5",
                "#B0BEC5",
                "#B0BEC5",
                "#B0BEC5",
                "#B0BEC5",
                "#B0BEC5",
                "#B0BEC5",
                "#B0BEC5",
                "#B0BEC5",
                "#B0BEC5",
                "#B0BEC5",
                "#B0BEC5",
                "#B0BEC5",
                "#B0BEC5",
                "#B0BEC5",
                "#B0BEC5",
                "#B0BEC5",
                "#B0BEC5",
                "#B0BEC5",
                "#B0BEC5",
                "#B0BEC5",
                "#B0BEC5",
                "red",
                "#B0BEC5",
                "#B0BEC5",
                "#B0BEC5",
                "#B0BEC5",
                "#B0BEC5",
                "#B0BEC5",
                "#B0BEC5",
                "#B0BEC5",
                "#B0BEC5",
                "#B0BEC5",
                "#B0BEC5"
               ]
              ]
             }
            ],
            "label": "Topic 46",
            "method": "update"
           },
           {
            "args": [
             {
              "marker.color": [
               [
                "#B0BEC5",
                "#B0BEC5",
                "#B0BEC5",
                "#B0BEC5",
                "#B0BEC5",
                "#B0BEC5",
                "#B0BEC5",
                "#B0BEC5",
                "#B0BEC5",
                "#B0BEC5",
                "#B0BEC5",
                "#B0BEC5",
                "#B0BEC5",
                "#B0BEC5",
                "#B0BEC5",
                "#B0BEC5",
                "#B0BEC5",
                "#B0BEC5",
                "#B0BEC5",
                "#B0BEC5",
                "#B0BEC5",
                "#B0BEC5",
                "#B0BEC5",
                "#B0BEC5",
                "#B0BEC5",
                "#B0BEC5",
                "#B0BEC5",
                "#B0BEC5",
                "#B0BEC5",
                "#B0BEC5",
                "#B0BEC5",
                "#B0BEC5",
                "#B0BEC5",
                "#B0BEC5",
                "#B0BEC5",
                "#B0BEC5",
                "#B0BEC5",
                "#B0BEC5",
                "#B0BEC5",
                "#B0BEC5",
                "#B0BEC5",
                "#B0BEC5",
                "#B0BEC5",
                "#B0BEC5",
                "#B0BEC5",
                "#B0BEC5",
                "#B0BEC5",
                "red",
                "#B0BEC5",
                "#B0BEC5",
                "#B0BEC5",
                "#B0BEC5",
                "#B0BEC5",
                "#B0BEC5",
                "#B0BEC5",
                "#B0BEC5",
                "#B0BEC5",
                "#B0BEC5"
               ]
              ]
             }
            ],
            "label": "Topic 47",
            "method": "update"
           },
           {
            "args": [
             {
              "marker.color": [
               [
                "#B0BEC5",
                "#B0BEC5",
                "#B0BEC5",
                "#B0BEC5",
                "#B0BEC5",
                "#B0BEC5",
                "#B0BEC5",
                "#B0BEC5",
                "#B0BEC5",
                "#B0BEC5",
                "#B0BEC5",
                "#B0BEC5",
                "#B0BEC5",
                "#B0BEC5",
                "#B0BEC5",
                "#B0BEC5",
                "#B0BEC5",
                "#B0BEC5",
                "#B0BEC5",
                "#B0BEC5",
                "#B0BEC5",
                "#B0BEC5",
                "#B0BEC5",
                "#B0BEC5",
                "#B0BEC5",
                "#B0BEC5",
                "#B0BEC5",
                "#B0BEC5",
                "#B0BEC5",
                "#B0BEC5",
                "#B0BEC5",
                "#B0BEC5",
                "#B0BEC5",
                "#B0BEC5",
                "#B0BEC5",
                "#B0BEC5",
                "#B0BEC5",
                "#B0BEC5",
                "#B0BEC5",
                "#B0BEC5",
                "#B0BEC5",
                "#B0BEC5",
                "#B0BEC5",
                "#B0BEC5",
                "#B0BEC5",
                "#B0BEC5",
                "#B0BEC5",
                "#B0BEC5",
                "red",
                "#B0BEC5",
                "#B0BEC5",
                "#B0BEC5",
                "#B0BEC5",
                "#B0BEC5",
                "#B0BEC5",
                "#B0BEC5",
                "#B0BEC5",
                "#B0BEC5"
               ]
              ]
             }
            ],
            "label": "Topic 48",
            "method": "update"
           },
           {
            "args": [
             {
              "marker.color": [
               [
                "#B0BEC5",
                "#B0BEC5",
                "#B0BEC5",
                "#B0BEC5",
                "#B0BEC5",
                "#B0BEC5",
                "#B0BEC5",
                "#B0BEC5",
                "#B0BEC5",
                "#B0BEC5",
                "#B0BEC5",
                "#B0BEC5",
                "#B0BEC5",
                "#B0BEC5",
                "#B0BEC5",
                "#B0BEC5",
                "#B0BEC5",
                "#B0BEC5",
                "#B0BEC5",
                "#B0BEC5",
                "#B0BEC5",
                "#B0BEC5",
                "#B0BEC5",
                "#B0BEC5",
                "#B0BEC5",
                "#B0BEC5",
                "#B0BEC5",
                "#B0BEC5",
                "#B0BEC5",
                "#B0BEC5",
                "#B0BEC5",
                "#B0BEC5",
                "#B0BEC5",
                "#B0BEC5",
                "#B0BEC5",
                "#B0BEC5",
                "#B0BEC5",
                "#B0BEC5",
                "#B0BEC5",
                "#B0BEC5",
                "#B0BEC5",
                "#B0BEC5",
                "#B0BEC5",
                "#B0BEC5",
                "#B0BEC5",
                "#B0BEC5",
                "#B0BEC5",
                "#B0BEC5",
                "#B0BEC5",
                "red",
                "#B0BEC5",
                "#B0BEC5",
                "#B0BEC5",
                "#B0BEC5",
                "#B0BEC5",
                "#B0BEC5",
                "#B0BEC5",
                "#B0BEC5"
               ]
              ]
             }
            ],
            "label": "Topic 49",
            "method": "update"
           },
           {
            "args": [
             {
              "marker.color": [
               [
                "#B0BEC5",
                "#B0BEC5",
                "#B0BEC5",
                "#B0BEC5",
                "#B0BEC5",
                "#B0BEC5",
                "#B0BEC5",
                "#B0BEC5",
                "#B0BEC5",
                "#B0BEC5",
                "#B0BEC5",
                "#B0BEC5",
                "#B0BEC5",
                "#B0BEC5",
                "#B0BEC5",
                "#B0BEC5",
                "#B0BEC5",
                "#B0BEC5",
                "#B0BEC5",
                "#B0BEC5",
                "#B0BEC5",
                "#B0BEC5",
                "#B0BEC5",
                "#B0BEC5",
                "#B0BEC5",
                "#B0BEC5",
                "#B0BEC5",
                "#B0BEC5",
                "#B0BEC5",
                "#B0BEC5",
                "#B0BEC5",
                "#B0BEC5",
                "#B0BEC5",
                "#B0BEC5",
                "#B0BEC5",
                "#B0BEC5",
                "#B0BEC5",
                "#B0BEC5",
                "#B0BEC5",
                "#B0BEC5",
                "#B0BEC5",
                "#B0BEC5",
                "#B0BEC5",
                "#B0BEC5",
                "#B0BEC5",
                "#B0BEC5",
                "#B0BEC5",
                "#B0BEC5",
                "#B0BEC5",
                "#B0BEC5",
                "red",
                "#B0BEC5",
                "#B0BEC5",
                "#B0BEC5",
                "#B0BEC5",
                "#B0BEC5",
                "#B0BEC5",
                "#B0BEC5"
               ]
              ]
             }
            ],
            "label": "Topic 50",
            "method": "update"
           },
           {
            "args": [
             {
              "marker.color": [
               [
                "#B0BEC5",
                "#B0BEC5",
                "#B0BEC5",
                "#B0BEC5",
                "#B0BEC5",
                "#B0BEC5",
                "#B0BEC5",
                "#B0BEC5",
                "#B0BEC5",
                "#B0BEC5",
                "#B0BEC5",
                "#B0BEC5",
                "#B0BEC5",
                "#B0BEC5",
                "#B0BEC5",
                "#B0BEC5",
                "#B0BEC5",
                "#B0BEC5",
                "#B0BEC5",
                "#B0BEC5",
                "#B0BEC5",
                "#B0BEC5",
                "#B0BEC5",
                "#B0BEC5",
                "#B0BEC5",
                "#B0BEC5",
                "#B0BEC5",
                "#B0BEC5",
                "#B0BEC5",
                "#B0BEC5",
                "#B0BEC5",
                "#B0BEC5",
                "#B0BEC5",
                "#B0BEC5",
                "#B0BEC5",
                "#B0BEC5",
                "#B0BEC5",
                "#B0BEC5",
                "#B0BEC5",
                "#B0BEC5",
                "#B0BEC5",
                "#B0BEC5",
                "#B0BEC5",
                "#B0BEC5",
                "#B0BEC5",
                "#B0BEC5",
                "#B0BEC5",
                "#B0BEC5",
                "#B0BEC5",
                "#B0BEC5",
                "#B0BEC5",
                "red",
                "#B0BEC5",
                "#B0BEC5",
                "#B0BEC5",
                "#B0BEC5",
                "#B0BEC5",
                "#B0BEC5"
               ]
              ]
             }
            ],
            "label": "Topic 51",
            "method": "update"
           },
           {
            "args": [
             {
              "marker.color": [
               [
                "#B0BEC5",
                "#B0BEC5",
                "#B0BEC5",
                "#B0BEC5",
                "#B0BEC5",
                "#B0BEC5",
                "#B0BEC5",
                "#B0BEC5",
                "#B0BEC5",
                "#B0BEC5",
                "#B0BEC5",
                "#B0BEC5",
                "#B0BEC5",
                "#B0BEC5",
                "#B0BEC5",
                "#B0BEC5",
                "#B0BEC5",
                "#B0BEC5",
                "#B0BEC5",
                "#B0BEC5",
                "#B0BEC5",
                "#B0BEC5",
                "#B0BEC5",
                "#B0BEC5",
                "#B0BEC5",
                "#B0BEC5",
                "#B0BEC5",
                "#B0BEC5",
                "#B0BEC5",
                "#B0BEC5",
                "#B0BEC5",
                "#B0BEC5",
                "#B0BEC5",
                "#B0BEC5",
                "#B0BEC5",
                "#B0BEC5",
                "#B0BEC5",
                "#B0BEC5",
                "#B0BEC5",
                "#B0BEC5",
                "#B0BEC5",
                "#B0BEC5",
                "#B0BEC5",
                "#B0BEC5",
                "#B0BEC5",
                "#B0BEC5",
                "#B0BEC5",
                "#B0BEC5",
                "#B0BEC5",
                "#B0BEC5",
                "#B0BEC5",
                "#B0BEC5",
                "red",
                "#B0BEC5",
                "#B0BEC5",
                "#B0BEC5",
                "#B0BEC5",
                "#B0BEC5"
               ]
              ]
             }
            ],
            "label": "Topic 52",
            "method": "update"
           },
           {
            "args": [
             {
              "marker.color": [
               [
                "#B0BEC5",
                "#B0BEC5",
                "#B0BEC5",
                "#B0BEC5",
                "#B0BEC5",
                "#B0BEC5",
                "#B0BEC5",
                "#B0BEC5",
                "#B0BEC5",
                "#B0BEC5",
                "#B0BEC5",
                "#B0BEC5",
                "#B0BEC5",
                "#B0BEC5",
                "#B0BEC5",
                "#B0BEC5",
                "#B0BEC5",
                "#B0BEC5",
                "#B0BEC5",
                "#B0BEC5",
                "#B0BEC5",
                "#B0BEC5",
                "#B0BEC5",
                "#B0BEC5",
                "#B0BEC5",
                "#B0BEC5",
                "#B0BEC5",
                "#B0BEC5",
                "#B0BEC5",
                "#B0BEC5",
                "#B0BEC5",
                "#B0BEC5",
                "#B0BEC5",
                "#B0BEC5",
                "#B0BEC5",
                "#B0BEC5",
                "#B0BEC5",
                "#B0BEC5",
                "#B0BEC5",
                "#B0BEC5",
                "#B0BEC5",
                "#B0BEC5",
                "#B0BEC5",
                "#B0BEC5",
                "#B0BEC5",
                "#B0BEC5",
                "#B0BEC5",
                "#B0BEC5",
                "#B0BEC5",
                "#B0BEC5",
                "#B0BEC5",
                "#B0BEC5",
                "#B0BEC5",
                "red",
                "#B0BEC5",
                "#B0BEC5",
                "#B0BEC5",
                "#B0BEC5"
               ]
              ]
             }
            ],
            "label": "Topic 53",
            "method": "update"
           },
           {
            "args": [
             {
              "marker.color": [
               [
                "#B0BEC5",
                "#B0BEC5",
                "#B0BEC5",
                "#B0BEC5",
                "#B0BEC5",
                "#B0BEC5",
                "#B0BEC5",
                "#B0BEC5",
                "#B0BEC5",
                "#B0BEC5",
                "#B0BEC5",
                "#B0BEC5",
                "#B0BEC5",
                "#B0BEC5",
                "#B0BEC5",
                "#B0BEC5",
                "#B0BEC5",
                "#B0BEC5",
                "#B0BEC5",
                "#B0BEC5",
                "#B0BEC5",
                "#B0BEC5",
                "#B0BEC5",
                "#B0BEC5",
                "#B0BEC5",
                "#B0BEC5",
                "#B0BEC5",
                "#B0BEC5",
                "#B0BEC5",
                "#B0BEC5",
                "#B0BEC5",
                "#B0BEC5",
                "#B0BEC5",
                "#B0BEC5",
                "#B0BEC5",
                "#B0BEC5",
                "#B0BEC5",
                "#B0BEC5",
                "#B0BEC5",
                "#B0BEC5",
                "#B0BEC5",
                "#B0BEC5",
                "#B0BEC5",
                "#B0BEC5",
                "#B0BEC5",
                "#B0BEC5",
                "#B0BEC5",
                "#B0BEC5",
                "#B0BEC5",
                "#B0BEC5",
                "#B0BEC5",
                "#B0BEC5",
                "#B0BEC5",
                "#B0BEC5",
                "red",
                "#B0BEC5",
                "#B0BEC5",
                "#B0BEC5"
               ]
              ]
             }
            ],
            "label": "Topic 54",
            "method": "update"
           },
           {
            "args": [
             {
              "marker.color": [
               [
                "#B0BEC5",
                "#B0BEC5",
                "#B0BEC5",
                "#B0BEC5",
                "#B0BEC5",
                "#B0BEC5",
                "#B0BEC5",
                "#B0BEC5",
                "#B0BEC5",
                "#B0BEC5",
                "#B0BEC5",
                "#B0BEC5",
                "#B0BEC5",
                "#B0BEC5",
                "#B0BEC5",
                "#B0BEC5",
                "#B0BEC5",
                "#B0BEC5",
                "#B0BEC5",
                "#B0BEC5",
                "#B0BEC5",
                "#B0BEC5",
                "#B0BEC5",
                "#B0BEC5",
                "#B0BEC5",
                "#B0BEC5",
                "#B0BEC5",
                "#B0BEC5",
                "#B0BEC5",
                "#B0BEC5",
                "#B0BEC5",
                "#B0BEC5",
                "#B0BEC5",
                "#B0BEC5",
                "#B0BEC5",
                "#B0BEC5",
                "#B0BEC5",
                "#B0BEC5",
                "#B0BEC5",
                "#B0BEC5",
                "#B0BEC5",
                "#B0BEC5",
                "#B0BEC5",
                "#B0BEC5",
                "#B0BEC5",
                "#B0BEC5",
                "#B0BEC5",
                "#B0BEC5",
                "#B0BEC5",
                "#B0BEC5",
                "#B0BEC5",
                "#B0BEC5",
                "#B0BEC5",
                "#B0BEC5",
                "#B0BEC5",
                "red",
                "#B0BEC5",
                "#B0BEC5"
               ]
              ]
             }
            ],
            "label": "Topic 55",
            "method": "update"
           },
           {
            "args": [
             {
              "marker.color": [
               [
                "#B0BEC5",
                "#B0BEC5",
                "#B0BEC5",
                "#B0BEC5",
                "#B0BEC5",
                "#B0BEC5",
                "#B0BEC5",
                "#B0BEC5",
                "#B0BEC5",
                "#B0BEC5",
                "#B0BEC5",
                "#B0BEC5",
                "#B0BEC5",
                "#B0BEC5",
                "#B0BEC5",
                "#B0BEC5",
                "#B0BEC5",
                "#B0BEC5",
                "#B0BEC5",
                "#B0BEC5",
                "#B0BEC5",
                "#B0BEC5",
                "#B0BEC5",
                "#B0BEC5",
                "#B0BEC5",
                "#B0BEC5",
                "#B0BEC5",
                "#B0BEC5",
                "#B0BEC5",
                "#B0BEC5",
                "#B0BEC5",
                "#B0BEC5",
                "#B0BEC5",
                "#B0BEC5",
                "#B0BEC5",
                "#B0BEC5",
                "#B0BEC5",
                "#B0BEC5",
                "#B0BEC5",
                "#B0BEC5",
                "#B0BEC5",
                "#B0BEC5",
                "#B0BEC5",
                "#B0BEC5",
                "#B0BEC5",
                "#B0BEC5",
                "#B0BEC5",
                "#B0BEC5",
                "#B0BEC5",
                "#B0BEC5",
                "#B0BEC5",
                "#B0BEC5",
                "#B0BEC5",
                "#B0BEC5",
                "#B0BEC5",
                "#B0BEC5",
                "red",
                "#B0BEC5"
               ]
              ]
             }
            ],
            "label": "Topic 56",
            "method": "update"
           },
           {
            "args": [
             {
              "marker.color": [
               [
                "#B0BEC5",
                "#B0BEC5",
                "#B0BEC5",
                "#B0BEC5",
                "#B0BEC5",
                "#B0BEC5",
                "#B0BEC5",
                "#B0BEC5",
                "#B0BEC5",
                "#B0BEC5",
                "#B0BEC5",
                "#B0BEC5",
                "#B0BEC5",
                "#B0BEC5",
                "#B0BEC5",
                "#B0BEC5",
                "#B0BEC5",
                "#B0BEC5",
                "#B0BEC5",
                "#B0BEC5",
                "#B0BEC5",
                "#B0BEC5",
                "#B0BEC5",
                "#B0BEC5",
                "#B0BEC5",
                "#B0BEC5",
                "#B0BEC5",
                "#B0BEC5",
                "#B0BEC5",
                "#B0BEC5",
                "#B0BEC5",
                "#B0BEC5",
                "#B0BEC5",
                "#B0BEC5",
                "#B0BEC5",
                "#B0BEC5",
                "#B0BEC5",
                "#B0BEC5",
                "#B0BEC5",
                "#B0BEC5",
                "#B0BEC5",
                "#B0BEC5",
                "#B0BEC5",
                "#B0BEC5",
                "#B0BEC5",
                "#B0BEC5",
                "#B0BEC5",
                "#B0BEC5",
                "#B0BEC5",
                "#B0BEC5",
                "#B0BEC5",
                "#B0BEC5",
                "#B0BEC5",
                "#B0BEC5",
                "#B0BEC5",
                "#B0BEC5",
                "#B0BEC5",
                "red"
               ]
              ]
             }
            ],
            "label": "Topic 57",
            "method": "update"
           }
          ]
         }
        ],
        "template": {
         "data": {
          "bar": [
           {
            "error_x": {
             "color": "rgb(36,36,36)"
            },
            "error_y": {
             "color": "rgb(36,36,36)"
            },
            "marker": {
             "line": {
              "color": "white",
              "width": 0.5
             },
             "pattern": {
              "fillmode": "overlay",
              "size": 10,
              "solidity": 0.2
             }
            },
            "type": "bar"
           }
          ],
          "barpolar": [
           {
            "marker": {
             "line": {
              "color": "white",
              "width": 0.5
             },
             "pattern": {
              "fillmode": "overlay",
              "size": 10,
              "solidity": 0.2
             }
            },
            "type": "barpolar"
           }
          ],
          "carpet": [
           {
            "aaxis": {
             "endlinecolor": "rgb(36,36,36)",
             "gridcolor": "white",
             "linecolor": "white",
             "minorgridcolor": "white",
             "startlinecolor": "rgb(36,36,36)"
            },
            "baxis": {
             "endlinecolor": "rgb(36,36,36)",
             "gridcolor": "white",
             "linecolor": "white",
             "minorgridcolor": "white",
             "startlinecolor": "rgb(36,36,36)"
            },
            "type": "carpet"
           }
          ],
          "choropleth": [
           {
            "colorbar": {
             "outlinewidth": 1,
             "tickcolor": "rgb(36,36,36)",
             "ticks": "outside"
            },
            "type": "choropleth"
           }
          ],
          "contour": [
           {
            "colorbar": {
             "outlinewidth": 1,
             "tickcolor": "rgb(36,36,36)",
             "ticks": "outside"
            },
            "colorscale": [
             [
              0,
              "#440154"
             ],
             [
              0.1111111111111111,
              "#482878"
             ],
             [
              0.2222222222222222,
              "#3e4989"
             ],
             [
              0.3333333333333333,
              "#31688e"
             ],
             [
              0.4444444444444444,
              "#26828e"
             ],
             [
              0.5555555555555556,
              "#1f9e89"
             ],
             [
              0.6666666666666666,
              "#35b779"
             ],
             [
              0.7777777777777778,
              "#6ece58"
             ],
             [
              0.8888888888888888,
              "#b5de2b"
             ],
             [
              1,
              "#fde725"
             ]
            ],
            "type": "contour"
           }
          ],
          "contourcarpet": [
           {
            "colorbar": {
             "outlinewidth": 1,
             "tickcolor": "rgb(36,36,36)",
             "ticks": "outside"
            },
            "type": "contourcarpet"
           }
          ],
          "heatmap": [
           {
            "colorbar": {
             "outlinewidth": 1,
             "tickcolor": "rgb(36,36,36)",
             "ticks": "outside"
            },
            "colorscale": [
             [
              0,
              "#440154"
             ],
             [
              0.1111111111111111,
              "#482878"
             ],
             [
              0.2222222222222222,
              "#3e4989"
             ],
             [
              0.3333333333333333,
              "#31688e"
             ],
             [
              0.4444444444444444,
              "#26828e"
             ],
             [
              0.5555555555555556,
              "#1f9e89"
             ],
             [
              0.6666666666666666,
              "#35b779"
             ],
             [
              0.7777777777777778,
              "#6ece58"
             ],
             [
              0.8888888888888888,
              "#b5de2b"
             ],
             [
              1,
              "#fde725"
             ]
            ],
            "type": "heatmap"
           }
          ],
          "histogram": [
           {
            "marker": {
             "line": {
              "color": "white",
              "width": 0.6
             }
            },
            "type": "histogram"
           }
          ],
          "histogram2d": [
           {
            "colorbar": {
             "outlinewidth": 1,
             "tickcolor": "rgb(36,36,36)",
             "ticks": "outside"
            },
            "colorscale": [
             [
              0,
              "#440154"
             ],
             [
              0.1111111111111111,
              "#482878"
             ],
             [
              0.2222222222222222,
              "#3e4989"
             ],
             [
              0.3333333333333333,
              "#31688e"
             ],
             [
              0.4444444444444444,
              "#26828e"
             ],
             [
              0.5555555555555556,
              "#1f9e89"
             ],
             [
              0.6666666666666666,
              "#35b779"
             ],
             [
              0.7777777777777778,
              "#6ece58"
             ],
             [
              0.8888888888888888,
              "#b5de2b"
             ],
             [
              1,
              "#fde725"
             ]
            ],
            "type": "histogram2d"
           }
          ],
          "histogram2dcontour": [
           {
            "colorbar": {
             "outlinewidth": 1,
             "tickcolor": "rgb(36,36,36)",
             "ticks": "outside"
            },
            "colorscale": [
             [
              0,
              "#440154"
             ],
             [
              0.1111111111111111,
              "#482878"
             ],
             [
              0.2222222222222222,
              "#3e4989"
             ],
             [
              0.3333333333333333,
              "#31688e"
             ],
             [
              0.4444444444444444,
              "#26828e"
             ],
             [
              0.5555555555555556,
              "#1f9e89"
             ],
             [
              0.6666666666666666,
              "#35b779"
             ],
             [
              0.7777777777777778,
              "#6ece58"
             ],
             [
              0.8888888888888888,
              "#b5de2b"
             ],
             [
              1,
              "#fde725"
             ]
            ],
            "type": "histogram2dcontour"
           }
          ],
          "mesh3d": [
           {
            "colorbar": {
             "outlinewidth": 1,
             "tickcolor": "rgb(36,36,36)",
             "ticks": "outside"
            },
            "type": "mesh3d"
           }
          ],
          "parcoords": [
           {
            "line": {
             "colorbar": {
              "outlinewidth": 1,
              "tickcolor": "rgb(36,36,36)",
              "ticks": "outside"
             }
            },
            "type": "parcoords"
           }
          ],
          "pie": [
           {
            "automargin": true,
            "type": "pie"
           }
          ],
          "scatter": [
           {
            "fillpattern": {
             "fillmode": "overlay",
             "size": 10,
             "solidity": 0.2
            },
            "type": "scatter"
           }
          ],
          "scatter3d": [
           {
            "line": {
             "colorbar": {
              "outlinewidth": 1,
              "tickcolor": "rgb(36,36,36)",
              "ticks": "outside"
             }
            },
            "marker": {
             "colorbar": {
              "outlinewidth": 1,
              "tickcolor": "rgb(36,36,36)",
              "ticks": "outside"
             }
            },
            "type": "scatter3d"
           }
          ],
          "scattercarpet": [
           {
            "marker": {
             "colorbar": {
              "outlinewidth": 1,
              "tickcolor": "rgb(36,36,36)",
              "ticks": "outside"
             }
            },
            "type": "scattercarpet"
           }
          ],
          "scattergeo": [
           {
            "marker": {
             "colorbar": {
              "outlinewidth": 1,
              "tickcolor": "rgb(36,36,36)",
              "ticks": "outside"
             }
            },
            "type": "scattergeo"
           }
          ],
          "scattergl": [
           {
            "marker": {
             "colorbar": {
              "outlinewidth": 1,
              "tickcolor": "rgb(36,36,36)",
              "ticks": "outside"
             }
            },
            "type": "scattergl"
           }
          ],
          "scattermap": [
           {
            "marker": {
             "colorbar": {
              "outlinewidth": 1,
              "tickcolor": "rgb(36,36,36)",
              "ticks": "outside"
             }
            },
            "type": "scattermap"
           }
          ],
          "scattermapbox": [
           {
            "marker": {
             "colorbar": {
              "outlinewidth": 1,
              "tickcolor": "rgb(36,36,36)",
              "ticks": "outside"
             }
            },
            "type": "scattermapbox"
           }
          ],
          "scatterpolar": [
           {
            "marker": {
             "colorbar": {
              "outlinewidth": 1,
              "tickcolor": "rgb(36,36,36)",
              "ticks": "outside"
             }
            },
            "type": "scatterpolar"
           }
          ],
          "scatterpolargl": [
           {
            "marker": {
             "colorbar": {
              "outlinewidth": 1,
              "tickcolor": "rgb(36,36,36)",
              "ticks": "outside"
             }
            },
            "type": "scatterpolargl"
           }
          ],
          "scatterternary": [
           {
            "marker": {
             "colorbar": {
              "outlinewidth": 1,
              "tickcolor": "rgb(36,36,36)",
              "ticks": "outside"
             }
            },
            "type": "scatterternary"
           }
          ],
          "surface": [
           {
            "colorbar": {
             "outlinewidth": 1,
             "tickcolor": "rgb(36,36,36)",
             "ticks": "outside"
            },
            "colorscale": [
             [
              0,
              "#440154"
             ],
             [
              0.1111111111111111,
              "#482878"
             ],
             [
              0.2222222222222222,
              "#3e4989"
             ],
             [
              0.3333333333333333,
              "#31688e"
             ],
             [
              0.4444444444444444,
              "#26828e"
             ],
             [
              0.5555555555555556,
              "#1f9e89"
             ],
             [
              0.6666666666666666,
              "#35b779"
             ],
             [
              0.7777777777777778,
              "#6ece58"
             ],
             [
              0.8888888888888888,
              "#b5de2b"
             ],
             [
              1,
              "#fde725"
             ]
            ],
            "type": "surface"
           }
          ],
          "table": [
           {
            "cells": {
             "fill": {
              "color": "rgb(237,237,237)"
             },
             "line": {
              "color": "white"
             }
            },
            "header": {
             "fill": {
              "color": "rgb(217,217,217)"
             },
             "line": {
              "color": "white"
             }
            },
            "type": "table"
           }
          ]
         },
         "layout": {
          "annotationdefaults": {
           "arrowhead": 0,
           "arrowwidth": 1
          },
          "autotypenumbers": "strict",
          "coloraxis": {
           "colorbar": {
            "outlinewidth": 1,
            "tickcolor": "rgb(36,36,36)",
            "ticks": "outside"
           }
          },
          "colorscale": {
           "diverging": [
            [
             0,
             "rgb(103,0,31)"
            ],
            [
             0.1,
             "rgb(178,24,43)"
            ],
            [
             0.2,
             "rgb(214,96,77)"
            ],
            [
             0.3,
             "rgb(244,165,130)"
            ],
            [
             0.4,
             "rgb(253,219,199)"
            ],
            [
             0.5,
             "rgb(247,247,247)"
            ],
            [
             0.6,
             "rgb(209,229,240)"
            ],
            [
             0.7,
             "rgb(146,197,222)"
            ],
            [
             0.8,
             "rgb(67,147,195)"
            ],
            [
             0.9,
             "rgb(33,102,172)"
            ],
            [
             1,
             "rgb(5,48,97)"
            ]
           ],
           "sequential": [
            [
             0,
             "#440154"
            ],
            [
             0.1111111111111111,
             "#482878"
            ],
            [
             0.2222222222222222,
             "#3e4989"
            ],
            [
             0.3333333333333333,
             "#31688e"
            ],
            [
             0.4444444444444444,
             "#26828e"
            ],
            [
             0.5555555555555556,
             "#1f9e89"
            ],
            [
             0.6666666666666666,
             "#35b779"
            ],
            [
             0.7777777777777778,
             "#6ece58"
            ],
            [
             0.8888888888888888,
             "#b5de2b"
            ],
            [
             1,
             "#fde725"
            ]
           ],
           "sequentialminus": [
            [
             0,
             "#440154"
            ],
            [
             0.1111111111111111,
             "#482878"
            ],
            [
             0.2222222222222222,
             "#3e4989"
            ],
            [
             0.3333333333333333,
             "#31688e"
            ],
            [
             0.4444444444444444,
             "#26828e"
            ],
            [
             0.5555555555555556,
             "#1f9e89"
            ],
            [
             0.6666666666666666,
             "#35b779"
            ],
            [
             0.7777777777777778,
             "#6ece58"
            ],
            [
             0.8888888888888888,
             "#b5de2b"
            ],
            [
             1,
             "#fde725"
            ]
           ]
          },
          "colorway": [
           "#1F77B4",
           "#FF7F0E",
           "#2CA02C",
           "#D62728",
           "#9467BD",
           "#8C564B",
           "#E377C2",
           "#7F7F7F",
           "#BCBD22",
           "#17BECF"
          ],
          "font": {
           "color": "rgb(36,36,36)"
          },
          "geo": {
           "bgcolor": "white",
           "lakecolor": "white",
           "landcolor": "white",
           "showlakes": true,
           "showland": true,
           "subunitcolor": "white"
          },
          "hoverlabel": {
           "align": "left"
          },
          "hovermode": "closest",
          "mapbox": {
           "style": "light"
          },
          "paper_bgcolor": "white",
          "plot_bgcolor": "white",
          "polar": {
           "angularaxis": {
            "gridcolor": "rgb(232,232,232)",
            "linecolor": "rgb(36,36,36)",
            "showgrid": false,
            "showline": true,
            "ticks": "outside"
           },
           "bgcolor": "white",
           "radialaxis": {
            "gridcolor": "rgb(232,232,232)",
            "linecolor": "rgb(36,36,36)",
            "showgrid": false,
            "showline": true,
            "ticks": "outside"
           }
          },
          "scene": {
           "xaxis": {
            "backgroundcolor": "white",
            "gridcolor": "rgb(232,232,232)",
            "gridwidth": 2,
            "linecolor": "rgb(36,36,36)",
            "showbackground": true,
            "showgrid": false,
            "showline": true,
            "ticks": "outside",
            "zeroline": false,
            "zerolinecolor": "rgb(36,36,36)"
           },
           "yaxis": {
            "backgroundcolor": "white",
            "gridcolor": "rgb(232,232,232)",
            "gridwidth": 2,
            "linecolor": "rgb(36,36,36)",
            "showbackground": true,
            "showgrid": false,
            "showline": true,
            "ticks": "outside",
            "zeroline": false,
            "zerolinecolor": "rgb(36,36,36)"
           },
           "zaxis": {
            "backgroundcolor": "white",
            "gridcolor": "rgb(232,232,232)",
            "gridwidth": 2,
            "linecolor": "rgb(36,36,36)",
            "showbackground": true,
            "showgrid": false,
            "showline": true,
            "ticks": "outside",
            "zeroline": false,
            "zerolinecolor": "rgb(36,36,36)"
           }
          },
          "shapedefaults": {
           "fillcolor": "black",
           "line": {
            "width": 0
           },
           "opacity": 0.3
          },
          "ternary": {
           "aaxis": {
            "gridcolor": "rgb(232,232,232)",
            "linecolor": "rgb(36,36,36)",
            "showgrid": false,
            "showline": true,
            "ticks": "outside"
           },
           "baxis": {
            "gridcolor": "rgb(232,232,232)",
            "linecolor": "rgb(36,36,36)",
            "showgrid": false,
            "showline": true,
            "ticks": "outside"
           },
           "bgcolor": "white",
           "caxis": {
            "gridcolor": "rgb(232,232,232)",
            "linecolor": "rgb(36,36,36)",
            "showgrid": false,
            "showline": true,
            "ticks": "outside"
           }
          },
          "title": {
           "x": 0.05
          },
          "xaxis": {
           "automargin": true,
           "gridcolor": "rgb(232,232,232)",
           "linecolor": "rgb(36,36,36)",
           "showgrid": false,
           "showline": true,
           "ticks": "outside",
           "title": {
            "standoff": 15
           },
           "zeroline": false,
           "zerolinecolor": "rgb(36,36,36)"
          },
          "yaxis": {
           "automargin": true,
           "gridcolor": "rgb(232,232,232)",
           "linecolor": "rgb(36,36,36)",
           "showgrid": false,
           "showline": true,
           "ticks": "outside",
           "title": {
            "standoff": 15
           },
           "zeroline": false,
           "zerolinecolor": "rgb(36,36,36)"
          }
         }
        },
        "title": {
         "font": {
          "color": "Black",
          "size": 22
         },
         "text": "<b>Intertopic Distance Map</b>",
         "x": 0.5,
         "xanchor": "center",
         "y": 0.95,
         "yanchor": "top"
        },
        "width": 650,
        "xaxis": {
         "anchor": "y",
         "domain": [
          0,
          1
         ],
         "range": [
          -13.885014867782592,
          25.67724504470825
         ],
         "title": {
          "text": ""
         },
         "visible": false
        },
        "yaxis": {
         "anchor": "x",
         "domain": [
          0,
          1
         ],
         "range": [
          -14.079961109161378,
          19.20431432723999
         ],
         "title": {
          "text": ""
         },
         "visible": false
        }
       }
      },
      "image/png": "[encoded data removed]"
     },
     "metadata": {},
     "output_type": "display_data"
    }
   ],
   "source": [
    "topic_model.visualize_topics()"
   ]
  },
  {
   "cell_type": "code",
   "execution_count": 149,
   "id": "f70e637a",
   "metadata": {},
   "outputs": [
    {
     "data": {
      "application/vnd.plotly.v1+json": {
       "config": {
        "plotlyServerURL": "https://plot.ly"
       },
       "data": [
        {
         "marker": {
          "color": "#C8D2D7",
          "line": {
           "color": "#6E8484",
           "width": 1
          }
         },
         "orientation": "h",
         "type": "bar",
         "x": [
          0.8147685350845845,
          0.9786466937566762,
          0.554747921446723,
          0.7909716672389667,
          0.7459736077205363,
          0.9263667532918057,
          0.8505330701750152,
          1,
          1,
          1,
          1,
          1,
          1,
          1,
          1,
          1,
          1,
          1,
          1,
          1,
          1,
          1,
          1,
          1,
          1,
          1,
          1,
          1,
          1,
          1,
          1
         ],
         "y": [
          "<b>Topic 2</b>: taxas_complementar_taxa_...",
          "<b>Topic 4</b>: nacional_simples_regime_...",
          "<b>Topic 5</b>: desemprego_seguro_renda_...",
          "<b>Topic 6</b>: conta_danos_morais_valor...",
          "<b>Topic 9</b>: nome_danos_morais_seu_in...",
          "<b>Topic 10</b>: incapacidade_doença_aux...",
          "<b>Topic 12</b>: recurso_interposto_ordi...",
          "<b>Topic 14</b>: maternidade_salário_ins...",
          "<b>Topic 15</b>: juros_capitalização_ban...",
          "<b>Topic 16</b>: emergencial_auxílio_fam...",
          "<b>Topic 17</b>: plano_saúde_operadora_c...",
          "<b>Topic 18</b>: deficiência_assistencia...",
          "<b>Topic 21</b>: alvará_funcionamento_mu...",
          "<b>Topic 22</b>: crédito_cessão_valor_in...",
          "<b>Topic 23</b>: conselho_crmv_animais_m...",
          "<b>Topic 28</b>: acidente_danos_cessante...",
          "<b>Topic 30</b>: segurada_facultativa_ba...",
          "<b>Topic 31</b>: contador_propor_documen...",
          "<b>Topic 34</b>: 833_bens_exercício_impe...",
          "<b>Topic 35</b>: credor_microempresa_ext...",
          "<b>Topic 37</b>: epp_critérios_nos_enqua...",
          "<b>Topic 39</b>: juizado_especial_porte_...",
          "<b>Topic 41</b>: prisão_liberais_ceplemg...",
          "<b>Topic 42</b>: valores_conta_penhora_i...",
          "<b>Topic 43</b>: juizado_099_95_especial...",
          "<b>Topic 45</b>: me_jurídico_negócio_ins...",
          "<b>Topic 46</b>: 00_000_autor_serviço_pa...",
          "<b>Topic 47</b>: benefício_inss_deficiên...",
          "<b>Topic 48</b>: ciacaps_atualizacao_cap...",
          "<b>Topic 49</b>: rural_idade_aposentador...",
          "<b>Topic 55</b>: citação_endereço_entreg..."
         ]
        }
       ],
       "layout": {
        "height": 600,
        "hoverlabel": {
         "bgcolor": "white",
         "font": {
          "family": "Rockwell",
          "size": 16
         }
        },
        "template": {
         "data": {
          "bar": [
           {
            "error_x": {
             "color": "rgb(36,36,36)"
            },
            "error_y": {
             "color": "rgb(36,36,36)"
            },
            "marker": {
             "line": {
              "color": "white",
              "width": 0.5
             },
             "pattern": {
              "fillmode": "overlay",
              "size": 10,
              "solidity": 0.2
             }
            },
            "type": "bar"
           }
          ],
          "barpolar": [
           {
            "marker": {
             "line": {
              "color": "white",
              "width": 0.5
             },
             "pattern": {
              "fillmode": "overlay",
              "size": 10,
              "solidity": 0.2
             }
            },
            "type": "barpolar"
           }
          ],
          "carpet": [
           {
            "aaxis": {
             "endlinecolor": "rgb(36,36,36)",
             "gridcolor": "white",
             "linecolor": "white",
             "minorgridcolor": "white",
             "startlinecolor": "rgb(36,36,36)"
            },
            "baxis": {
             "endlinecolor": "rgb(36,36,36)",
             "gridcolor": "white",
             "linecolor": "white",
             "minorgridcolor": "white",
             "startlinecolor": "rgb(36,36,36)"
            },
            "type": "carpet"
           }
          ],
          "choropleth": [
           {
            "colorbar": {
             "outlinewidth": 1,
             "tickcolor": "rgb(36,36,36)",
             "ticks": "outside"
            },
            "type": "choropleth"
           }
          ],
          "contour": [
           {
            "colorbar": {
             "outlinewidth": 1,
             "tickcolor": "rgb(36,36,36)",
             "ticks": "outside"
            },
            "colorscale": [
             [
              0,
              "#440154"
             ],
             [
              0.1111111111111111,
              "#482878"
             ],
             [
              0.2222222222222222,
              "#3e4989"
             ],
             [
              0.3333333333333333,
              "#31688e"
             ],
             [
              0.4444444444444444,
              "#26828e"
             ],
             [
              0.5555555555555556,
              "#1f9e89"
             ],
             [
              0.6666666666666666,
              "#35b779"
             ],
             [
              0.7777777777777778,
              "#6ece58"
             ],
             [
              0.8888888888888888,
              "#b5de2b"
             ],
             [
              1,
              "#fde725"
             ]
            ],
            "type": "contour"
           }
          ],
          "contourcarpet": [
           {
            "colorbar": {
             "outlinewidth": 1,
             "tickcolor": "rgb(36,36,36)",
             "ticks": "outside"
            },
            "type": "contourcarpet"
           }
          ],
          "heatmap": [
           {
            "colorbar": {
             "outlinewidth": 1,
             "tickcolor": "rgb(36,36,36)",
             "ticks": "outside"
            },
            "colorscale": [
             [
              0,
              "#440154"
             ],
             [
              0.1111111111111111,
              "#482878"
             ],
             [
              0.2222222222222222,
              "#3e4989"
             ],
             [
              0.3333333333333333,
              "#31688e"
             ],
             [
              0.4444444444444444,
              "#26828e"
             ],
             [
              0.5555555555555556,
              "#1f9e89"
             ],
             [
              0.6666666666666666,
              "#35b779"
             ],
             [
              0.7777777777777778,
              "#6ece58"
             ],
             [
              0.8888888888888888,
              "#b5de2b"
             ],
             [
              1,
              "#fde725"
             ]
            ],
            "type": "heatmap"
           }
          ],
          "histogram": [
           {
            "marker": {
             "line": {
              "color": "white",
              "width": 0.6
             }
            },
            "type": "histogram"
           }
          ],
          "histogram2d": [
           {
            "colorbar": {
             "outlinewidth": 1,
             "tickcolor": "rgb(36,36,36)",
             "ticks": "outside"
            },
            "colorscale": [
             [
              0,
              "#440154"
             ],
             [
              0.1111111111111111,
              "#482878"
             ],
             [
              0.2222222222222222,
              "#3e4989"
             ],
             [
              0.3333333333333333,
              "#31688e"
             ],
             [
              0.4444444444444444,
              "#26828e"
             ],
             [
              0.5555555555555556,
              "#1f9e89"
             ],
             [
              0.6666666666666666,
              "#35b779"
             ],
             [
              0.7777777777777778,
              "#6ece58"
             ],
             [
              0.8888888888888888,
              "#b5de2b"
             ],
             [
              1,
              "#fde725"
             ]
            ],
            "type": "histogram2d"
           }
          ],
          "histogram2dcontour": [
           {
            "colorbar": {
             "outlinewidth": 1,
             "tickcolor": "rgb(36,36,36)",
             "ticks": "outside"
            },
            "colorscale": [
             [
              0,
              "#440154"
             ],
             [
              0.1111111111111111,
              "#482878"
             ],
             [
              0.2222222222222222,
              "#3e4989"
             ],
             [
              0.3333333333333333,
              "#31688e"
             ],
             [
              0.4444444444444444,
              "#26828e"
             ],
             [
              0.5555555555555556,
              "#1f9e89"
             ],
             [
              0.6666666666666666,
              "#35b779"
             ],
             [
              0.7777777777777778,
              "#6ece58"
             ],
             [
              0.8888888888888888,
              "#b5de2b"
             ],
             [
              1,
              "#fde725"
             ]
            ],
            "type": "histogram2dcontour"
           }
          ],
          "mesh3d": [
           {
            "colorbar": {
             "outlinewidth": 1,
             "tickcolor": "rgb(36,36,36)",
             "ticks": "outside"
            },
            "type": "mesh3d"
           }
          ],
          "parcoords": [
           {
            "line": {
             "colorbar": {
              "outlinewidth": 1,
              "tickcolor": "rgb(36,36,36)",
              "ticks": "outside"
             }
            },
            "type": "parcoords"
           }
          ],
          "pie": [
           {
            "automargin": true,
            "type": "pie"
           }
          ],
          "scatter": [
           {
            "fillpattern": {
             "fillmode": "overlay",
             "size": 10,
             "solidity": 0.2
            },
            "type": "scatter"
           }
          ],
          "scatter3d": [
           {
            "line": {
             "colorbar": {
              "outlinewidth": 1,
              "tickcolor": "rgb(36,36,36)",
              "ticks": "outside"
             }
            },
            "marker": {
             "colorbar": {
              "outlinewidth": 1,
              "tickcolor": "rgb(36,36,36)",
              "ticks": "outside"
             }
            },
            "type": "scatter3d"
           }
          ],
          "scattercarpet": [
           {
            "marker": {
             "colorbar": {
              "outlinewidth": 1,
              "tickcolor": "rgb(36,36,36)",
              "ticks": "outside"
             }
            },
            "type": "scattercarpet"
           }
          ],
          "scattergeo": [
           {
            "marker": {
             "colorbar": {
              "outlinewidth": 1,
              "tickcolor": "rgb(36,36,36)",
              "ticks": "outside"
             }
            },
            "type": "scattergeo"
           }
          ],
          "scattergl": [
           {
            "marker": {
             "colorbar": {
              "outlinewidth": 1,
              "tickcolor": "rgb(36,36,36)",
              "ticks": "outside"
             }
            },
            "type": "scattergl"
           }
          ],
          "scattermap": [
           {
            "marker": {
             "colorbar": {
              "outlinewidth": 1,
              "tickcolor": "rgb(36,36,36)",
              "ticks": "outside"
             }
            },
            "type": "scattermap"
           }
          ],
          "scattermapbox": [
           {
            "marker": {
             "colorbar": {
              "outlinewidth": 1,
              "tickcolor": "rgb(36,36,36)",
              "ticks": "outside"
             }
            },
            "type": "scattermapbox"
           }
          ],
          "scatterpolar": [
           {
            "marker": {
             "colorbar": {
              "outlinewidth": 1,
              "tickcolor": "rgb(36,36,36)",
              "ticks": "outside"
             }
            },
            "type": "scatterpolar"
           }
          ],
          "scatterpolargl": [
           {
            "marker": {
             "colorbar": {
              "outlinewidth": 1,
              "tickcolor": "rgb(36,36,36)",
              "ticks": "outside"
             }
            },
            "type": "scatterpolargl"
           }
          ],
          "scatterternary": [
           {
            "marker": {
             "colorbar": {
              "outlinewidth": 1,
              "tickcolor": "rgb(36,36,36)",
              "ticks": "outside"
             }
            },
            "type": "scatterternary"
           }
          ],
          "surface": [
           {
            "colorbar": {
             "outlinewidth": 1,
             "tickcolor": "rgb(36,36,36)",
             "ticks": "outside"
            },
            "colorscale": [
             [
              0,
              "#440154"
             ],
             [
              0.1111111111111111,
              "#482878"
             ],
             [
              0.2222222222222222,
              "#3e4989"
             ],
             [
              0.3333333333333333,
              "#31688e"
             ],
             [
              0.4444444444444444,
              "#26828e"
             ],
             [
              0.5555555555555556,
              "#1f9e89"
             ],
             [
              0.6666666666666666,
              "#35b779"
             ],
             [
              0.7777777777777778,
              "#6ece58"
             ],
             [
              0.8888888888888888,
              "#b5de2b"
             ],
             [
              1,
              "#fde725"
             ]
            ],
            "type": "surface"
           }
          ],
          "table": [
           {
            "cells": {
             "fill": {
              "color": "rgb(237,237,237)"
             },
             "line": {
              "color": "white"
             }
            },
            "header": {
             "fill": {
              "color": "rgb(217,217,217)"
             },
             "line": {
              "color": "white"
             }
            },
            "type": "table"
           }
          ]
         },
         "layout": {
          "annotationdefaults": {
           "arrowhead": 0,
           "arrowwidth": 1
          },
          "autotypenumbers": "strict",
          "coloraxis": {
           "colorbar": {
            "outlinewidth": 1,
            "tickcolor": "rgb(36,36,36)",
            "ticks": "outside"
           }
          },
          "colorscale": {
           "diverging": [
            [
             0,
             "rgb(103,0,31)"
            ],
            [
             0.1,
             "rgb(178,24,43)"
            ],
            [
             0.2,
             "rgb(214,96,77)"
            ],
            [
             0.3,
             "rgb(244,165,130)"
            ],
            [
             0.4,
             "rgb(253,219,199)"
            ],
            [
             0.5,
             "rgb(247,247,247)"
            ],
            [
             0.6,
             "rgb(209,229,240)"
            ],
            [
             0.7,
             "rgb(146,197,222)"
            ],
            [
             0.8,
             "rgb(67,147,195)"
            ],
            [
             0.9,
             "rgb(33,102,172)"
            ],
            [
             1,
             "rgb(5,48,97)"
            ]
           ],
           "sequential": [
            [
             0,
             "#440154"
            ],
            [
             0.1111111111111111,
             "#482878"
            ],
            [
             0.2222222222222222,
             "#3e4989"
            ],
            [
             0.3333333333333333,
             "#31688e"
            ],
            [
             0.4444444444444444,
             "#26828e"
            ],
            [
             0.5555555555555556,
             "#1f9e89"
            ],
            [
             0.6666666666666666,
             "#35b779"
            ],
            [
             0.7777777777777778,
             "#6ece58"
            ],
            [
             0.8888888888888888,
             "#b5de2b"
            ],
            [
             1,
             "#fde725"
            ]
           ],
           "sequentialminus": [
            [
             0,
             "#440154"
            ],
            [
             0.1111111111111111,
             "#482878"
            ],
            [
             0.2222222222222222,
             "#3e4989"
            ],
            [
             0.3333333333333333,
             "#31688e"
            ],
            [
             0.4444444444444444,
             "#26828e"
            ],
            [
             0.5555555555555556,
             "#1f9e89"
            ],
            [
             0.6666666666666666,
             "#35b779"
            ],
            [
             0.7777777777777778,
             "#6ece58"
            ],
            [
             0.8888888888888888,
             "#b5de2b"
            ],
            [
             1,
             "#fde725"
            ]
           ]
          },
          "colorway": [
           "#1F77B4",
           "#FF7F0E",
           "#2CA02C",
           "#D62728",
           "#9467BD",
           "#8C564B",
           "#E377C2",
           "#7F7F7F",
           "#BCBD22",
           "#17BECF"
          ],
          "font": {
           "color": "rgb(36,36,36)"
          },
          "geo": {
           "bgcolor": "white",
           "lakecolor": "white",
           "landcolor": "white",
           "showlakes": true,
           "showland": true,
           "subunitcolor": "white"
          },
          "hoverlabel": {
           "align": "left"
          },
          "hovermode": "closest",
          "mapbox": {
           "style": "light"
          },
          "paper_bgcolor": "white",
          "plot_bgcolor": "white",
          "polar": {
           "angularaxis": {
            "gridcolor": "rgb(232,232,232)",
            "linecolor": "rgb(36,36,36)",
            "showgrid": false,
            "showline": true,
            "ticks": "outside"
           },
           "bgcolor": "white",
           "radialaxis": {
            "gridcolor": "rgb(232,232,232)",
            "linecolor": "rgb(36,36,36)",
            "showgrid": false,
            "showline": true,
            "ticks": "outside"
           }
          },
          "scene": {
           "xaxis": {
            "backgroundcolor": "white",
            "gridcolor": "rgb(232,232,232)",
            "gridwidth": 2,
            "linecolor": "rgb(36,36,36)",
            "showbackground": true,
            "showgrid": false,
            "showline": true,
            "ticks": "outside",
            "zeroline": false,
            "zerolinecolor": "rgb(36,36,36)"
           },
           "yaxis": {
            "backgroundcolor": "white",
            "gridcolor": "rgb(232,232,232)",
            "gridwidth": 2,
            "linecolor": "rgb(36,36,36)",
            "showbackground": true,
            "showgrid": false,
            "showline": true,
            "ticks": "outside",
            "zeroline": false,
            "zerolinecolor": "rgb(36,36,36)"
           },
           "zaxis": {
            "backgroundcolor": "white",
            "gridcolor": "rgb(232,232,232)",
            "gridwidth": 2,
            "linecolor": "rgb(36,36,36)",
            "showbackground": true,
            "showgrid": false,
            "showline": true,
            "ticks": "outside",
            "zeroline": false,
            "zerolinecolor": "rgb(36,36,36)"
           }
          },
          "shapedefaults": {
           "fillcolor": "black",
           "line": {
            "width": 0
           },
           "opacity": 0.3
          },
          "ternary": {
           "aaxis": {
            "gridcolor": "rgb(232,232,232)",
            "linecolor": "rgb(36,36,36)",
            "showgrid": false,
            "showline": true,
            "ticks": "outside"
           },
           "baxis": {
            "gridcolor": "rgb(232,232,232)",
            "linecolor": "rgb(36,36,36)",
            "showgrid": false,
            "showline": true,
            "ticks": "outside"
           },
           "bgcolor": "white",
           "caxis": {
            "gridcolor": "rgb(232,232,232)",
            "linecolor": "rgb(36,36,36)",
            "showgrid": false,
            "showline": true,
            "ticks": "outside"
           }
          },
          "title": {
           "x": 0.05
          },
          "xaxis": {
           "automargin": true,
           "gridcolor": "rgb(232,232,232)",
           "linecolor": "rgb(36,36,36)",
           "showgrid": false,
           "showline": true,
           "ticks": "outside",
           "title": {
            "standoff": 15
           },
           "zeroline": false,
           "zerolinecolor": "rgb(36,36,36)"
          },
          "yaxis": {
           "automargin": true,
           "gridcolor": "rgb(232,232,232)",
           "linecolor": "rgb(36,36,36)",
           "showgrid": false,
           "showline": true,
           "ticks": "outside",
           "title": {
            "standoff": 15
           },
           "zeroline": false,
           "zerolinecolor": "rgb(36,36,36)"
          }
         }
        },
        "title": {
         "font": {
          "color": "Black",
          "size": 22
         },
         "text": "<b>Topic Probability Distribution</b>",
         "x": 0.5,
         "xanchor": "center",
         "y": 0.95,
         "yanchor": "top"
        },
        "width": 800,
        "xaxis": {
         "title": {
          "text": "Probability"
         }
        }
       }
      }
     },
     "metadata": {},
     "output_type": "display_data"
    }
   ],
   "source": [
    "topic_model.visualize_distribution(probabilities)"
   ]
  },
  {
   "cell_type": "code",
   "execution_count": 150,
   "id": "dd29f934",
   "metadata": {},
   "outputs": [
    {
     "data": {
      "application/vnd.plotly.v1+json": {
       "config": {
        "plotlyServerURL": "https://plot.ly"
       },
       "data": [
        {
         "marker": {
          "color": "#D55E00"
         },
         "orientation": "h",
         "type": "bar",
         "x": [
          0.014659141211816119,
          0.015126770358833721,
          0.015136349291110173,
          0.01584604177997225,
          0.01666754826682357,
          0.016703885458171423,
          0.016906096718884787,
          0.01797654244413242,
          0.021752388281839185,
          0.023269447254920313
         ],
         "xaxis": "x",
         "y": [
          "como  ",
          "que  ",
          "rescisórias  ",
          "de  ",
          "emprego  ",
          "trabalho  ",
          "empregatício  ",
          "verbas  ",
          "vínculo  ",
          "trabalhador  "
         ],
         "yaxis": "y"
        },
        {
         "marker": {
          "color": "#0072B2"
         },
         "orientation": "h",
         "type": "bar",
         "x": [
          0.017846078379440963,
          0.01841894286659493,
          0.0192330023065741,
          0.019348371195650232,
          0.02071599597386917,
          0.022682619434875494,
          0.022930976344379923,
          0.02453665563524932,
          0.0311347809370673,
          0.03305306006187605
         ],
         "xaxis": "x2",
         "y": [
          "concessão  ",
          "arcar  ",
          "processuais  ",
          "custas  ",
          "mei  ",
          "gratuidade  ",
          "financeira  ",
          "hipossuficiência  ",
          "gratuita  ",
          "justiça  "
         ],
         "yaxis": "y2"
        },
        {
         "marker": {
          "color": "#CC79A7"
         },
         "orientation": "h",
         "type": "bar",
         "x": [
          0.03362389280010778,
          0.03445659505244775,
          0.035263560247981655,
          0.03693624588366648,
          0.03751466404661065,
          0.038417166864897545,
          0.03953845101848041,
          0.0413896303334595,
          0.04331850037286088,
          0.05521291306282989
         ],
         "xaxis": "x3",
         "y": [
          "cobrança  ",
          "2006  ",
          "123  ",
          "funcionamento  ",
          "município  ",
          "isenção  ",
          "lei  ",
          "taxa  ",
          "complementar  ",
          "taxas  "
         ],
         "yaxis": "y3"
        },
        {
         "marker": {
          "color": "#E69F00"
         },
         "orientation": "h",
         "type": "bar",
         "x": [
          0.02326921805093046,
          0.023654857129335675,
          0.026079168000652145,
          0.026822240071279993,
          0.02906817888239111,
          0.029175873041074038,
          0.03255094198494632,
          0.038495031424145634,
          0.039536511343819886,
          0.04140642561979774
         ],
         "xaxis": "x4",
         "y": [
          "morais  ",
          "danos  ",
          "paulo  ",
          "união  ",
          "fraude  ",
          "estado  ",
          "comercial  ",
          "junta  ",
          "registro  ",
          "jucesp  "
         ],
         "yaxis": "y4"
        },
        {
         "marker": {
          "color": "#56B4E9"
         },
         "orientation": "h",
         "type": "bar",
         "x": [
          0.03472275084359217,
          0.035011869913638874,
          0.03502150553547217,
          0.03845259014572964,
          0.04247550355136766,
          0.04518907390748457,
          0.04780929948873554,
          0.049875467549855695,
          0.07639083424102466,
          0.08198261507432157
         ],
         "xaxis": "x5",
         "y": [
          "fiscais  ",
          "porte  ",
          "pequeno  ",
          "microempresas  ",
          "débitos  ",
          "tributário  ",
          "adesão  ",
          "regime  ",
          "simples  ",
          "nacional  "
         ],
         "yaxis": "y5"
        },
        {
         "marker": {
          "color": "#009E73"
         },
         "orientation": "h",
         "type": "bar",
         "x": [
          0.019432376787630008,
          0.02000940999791392,
          0.022235460498183975,
          0.025586084420611877,
          0.026233820607308316,
          0.02774416732658733,
          0.030269674091714143,
          0.04360656904224267,
          0.07246551474347207,
          0.08339005490431453
         ],
         "xaxis": "x6",
         "y": [
          "como  ",
          "sócio  ",
          "contribuinte  ",
          "suficiente  ",
          "benefício  ",
          "própria  ",
          "união  ",
          "renda  ",
          "seguro  ",
          "desemprego  "
         ],
         "yaxis": "y6"
        },
        {
         "marker": {
          "color": "#F0E442"
         },
         "orientation": "h",
         "type": "bar",
         "x": [
          0.01481189673979629,
          0.01720769219882633,
          0.01727650081304399,
          0.018202749398548844,
          0.02015734684538501,
          0.020238472883777833,
          0.021324959040392714,
          0.023019371310521026,
          0.02532832154944146,
          0.02663795574491233
         ],
         "xaxis": "x7",
         "y": [
          "uma  ",
          "mei  ",
          "consumidor  ",
          "por  ",
          "indenização  ",
          "banco  ",
          "valores  ",
          "morais  ",
          "danos  ",
          "conta  "
         ],
         "yaxis": "y7"
        },
        {
         "marker": {
          "color": "#D55E00"
         },
         "orientation": "h",
         "type": "bar",
         "x": [
          0.025988416575947932,
          0.026366369698105355,
          0.02992981275034629,
          0.0313525226030026,
          0.033421176268802325,
          0.042863653808690116,
          0.04347409875175265,
          0.05088586297001393,
          0.0516177942300452,
          0.05912550478636795
         ],
         "xaxis": "x8",
         "y": [
          "individual  ",
          "empresa  ",
          "empresário  ",
          "da  ",
          "execução  ",
          "patrimônio  ",
          "bens  ",
          "desconsideração  ",
          "jurídica  ",
          "personalidade  "
         ],
         "yaxis": "y8"
        },
        {
         "marker": {
          "color": "#0072B2"
         },
         "orientation": "h",
         "type": "bar",
         "x": [
          0.02197371582346607,
          0.024888774247395468,
          0.025094953852372537,
          0.025384083226884565,
          0.03944265386608772,
          0.047274591363859066,
          0.047612414672718116,
          0.06077784427723405,
          0.06391583080241732,
          0.06962590949312183
         ],
         "xaxis": "x9",
         "y": [
          "rural  ",
          "período  ",
          "idade  ",
          "ser  ",
          "inss  ",
          "contribuições  ",
          "períodos  ",
          "contribuição  ",
          "aposentadoria  ",
          "tempo  "
         ],
         "yaxis": "y9"
        },
        {
         "marker": {
          "color": "#CC79A7"
         },
         "orientation": "h",
         "type": "bar",
         "x": [
          0.02190631426722385,
          0.022797929141819967,
          0.023799645020933645,
          0.02528952179623551,
          0.027917667680134584,
          0.0280453133136216,
          0.028850498293874892,
          0.033595800319265935,
          0.033722753817318304,
          0.03824873882889892
         ],
         "xaxis": "x10",
         "y": [
          "autor  ",
          "protestos  ",
          "por  ",
          "cadastros  ",
          "indenização  ",
          "inadimplentes  ",
          "seu  ",
          "morais  ",
          "danos  ",
          "nome  "
         ],
         "yaxis": "y10"
        },
        {
         "marker": {
          "color": "#E69F00"
         },
         "orientation": "h",
         "type": "bar",
         "x": [
          0.025394999520458914,
          0.029224024267137827,
          0.02957480551850635,
          0.03159422017812914,
          0.035084803350458056,
          0.03537062703746187,
          0.03566568216579769,
          0.043407325382841415,
          0.05191843868853802,
          0.07324193536017695
         ],
         "xaxis": "x11",
         "y": [
          "autor  ",
          "invalidez  ",
          "carência  ",
          "qualidade  ",
          "inss  ",
          "benefício  ",
          "segurado  ",
          "auxílio  ",
          "doença  ",
          "incapacidade  "
         ],
         "yaxis": "y11"
        },
        {
         "marker": {
          "color": "#56B4E9"
         },
         "orientation": "h",
         "type": "bar",
         "x": [
          0.015849851909615496,
          0.016052725766102355,
          0.018143115381058596,
          0.019091724389012903,
          0.021329791871257543,
          0.022291726694039903,
          0.028812489660504433,
          0.029310030711269818,
          0.03790511961634531,
          0.04098260201235806
         ],
         "xaxis": "x12",
         "y": [
          "participação  ",
          "para  ",
          "presencial  ",
          "contratação  ",
          "de  ",
          "certame  ",
          "pregão  ",
          "licitatório  ",
          "edital  ",
          "licitação  "
         ],
         "yaxis": "y12"
        },
        {
         "marker": {
          "color": "#009E73"
         },
         "orientation": "h",
         "type": "bar",
         "x": [
          0.03541872603272946,
          0.036263827347980476,
          0.03646087442790962,
          0.0380259343060462,
          0.03910623836404732,
          0.041672121083488854,
          0.04369327604214123,
          0.04427256139660832,
          0.04893025319908312,
          0.05614372687782098
         ],
         "xaxis": "x13",
         "y": [
          "consolidação  ",
          "reclamante  ",
          "prolatada  ",
          "clt  ",
          "recursal  ",
          "depósito  ",
          "parte  ",
          "ordinário  ",
          "interposto  ",
          "recurso  "
         ],
         "yaxis": "y13"
        },
        {
         "marker": {
          "color": "#F0E442"
         },
         "orientation": "h",
         "type": "bar",
         "x": [
          0.027981196364423696,
          0.030500242748339765,
          0.037182504255140233,
          0.03880455817279991,
          0.03887657607032325,
          0.048438164723260076,
          0.049183424943419506,
          0.053239054350833086,
          0.07109556486557496,
          0.07451109444022268
         ],
         "xaxis": "x14",
         "y": [
          "porte  ",
          "conforme  ",
          "clt  ",
          "9º  ",
          "899  ",
          "valor  ",
          "redução  ",
          "metade  ",
          "recursal  ",
          "depósito  "
         ],
         "yaxis": "y14"
        },
        {
         "marker": {
          "color": "#D55E00"
         },
         "orientation": "h",
         "type": "bar",
         "x": [
          0.02512608453491037,
          0.029373806968463232,
          0.029452820281919225,
          0.031434384852110274,
          0.03480074206193883,
          0.044564749135065765,
          0.05175409819709498,
          0.06612229477303722,
          0.07600432489071285,
          0.11041740343930145
         ],
         "xaxis": "x15",
         "y": [
          "segurada  ",
          "ela  ",
          "nascimento  ",
          "parto  ",
          "autora  ",
          "mulher  ",
          "benefício  ",
          "inss  ",
          "salário  ",
          "maternidade  "
         ],
         "yaxis": "y15"
        },
        {
         "marker": {
          "color": "#0072B2"
         },
         "orientation": "h",
         "type": "bar",
         "x": [
          0.02433607808300462,
          0.024465277665461835,
          0.024538486838918457,
          0.025730631167545807,
          0.027128341753072893,
          0.028874254027997124,
          0.030596576414675346,
          0.031044540012505614,
          0.04330230616640423,
          0.09298992911398911
         ],
         "xaxis": "x16",
         "y": [
          "operações  ",
          "abusivos  ",
          "fundo  ",
          "cobrança  ",
          "fgo  ",
          "comissão  ",
          "bndes  ",
          "banco  ",
          "capitalização  ",
          "juros  "
         ],
         "yaxis": "y16"
        },
        {
         "marker": {
          "color": "#CC79A7"
         },
         "orientation": "h",
         "type": "bar",
         "x": [
          0.022297015966487484,
          0.022987434706442628,
          0.02357143048818674,
          0.02580122467324097,
          0.027740455464726643,
          0.028701961098740857,
          0.0321619529028871,
          0.033528191326141044,
          0.0887935880257802,
          0.109886166587435
         ],
         "xaxis": "x17",
         "y": [
          "renda  ",
          "982  ",
          "requisitos  ",
          "2020  ",
          "benefício  ",
          "receber  ",
          "união  ",
          "familiar  ",
          "auxílio  ",
          "emergencial  "
         ],
         "yaxis": "y17"
        },
        {
         "marker": {
          "color": "#E69F00"
         },
         "orientation": "h",
         "type": "bar",
         "x": [
          0.018650185541163624,
          0.019514309205437196,
          0.020110017654776585,
          0.022323523287558215,
          0.02267725022240936,
          0.02658137778984803,
          0.02991610425030373,
          0.03925285372243465,
          0.07924843990570159,
          0.08999043451857018
         ],
         "xaxis": "x18",
         "y": [
          "coletivo  ",
          "cláusula  ",
          "de  ",
          "seguradora  ",
          "rescisão  ",
          "cancelamento  ",
          "contrato  ",
          "operadora  ",
          "saúde  ",
          "plano  "
         ],
         "yaxis": "y18"
        },
        {
         "marker": {
          "color": "#56B4E9"
         },
         "orientation": "h",
         "type": "bar",
         "x": [
          0.026045940893460764,
          0.026776606481772887,
          0.027208821071993728,
          0.038212991349184725,
          0.041138812407316684,
          0.04688655905699344,
          0.04824505337156653,
          0.05736837572414797,
          0.06762466809893311,
          0.07587064332984093
         ],
         "xaxis": "x19",
         "y": [
          "social  ",
          "per  ",
          "pessoa  ",
          "miserabilidade  ",
          "familiar  ",
          "renda  ",
          "família  ",
          "benefício  ",
          "assistencial  ",
          "deficiência  "
         ],
         "yaxis": "y19"
        },
        {
         "marker": {
          "color": "#009E73"
         },
         "orientation": "h",
         "type": "bar",
         "x": [
          0.032081375895788446,
          0.03543951171328506,
          0.036400379003329285,
          0.037207102395709776,
          0.043689262850759365,
          0.043689262850759365,
          0.04729965114900142,
          0.0772323439011259,
          0.10985948219198947,
          0.14898199017758165
         ],
         "xaxis": "x20",
         "y": [
          "medidas  ",
          "cautelares  ",
          "fixa  ",
          "residência  ",
          "corpus  ",
          "habeas  ",
          "preso  ",
          "paciente  ",
          "preventiva  ",
          "prisão  "
         ],
         "yaxis": "y20"
        }
       ],
       "layout": {
        "annotations": [
         {
          "font": {
           "size": 16
          },
          "showarrow": false,
          "text": "Topic 0",
          "x": 0.0875,
          "xanchor": "center",
          "xref": "paper",
          "y": 0.9999999999999999,
          "yanchor": "bottom",
          "yref": "paper"
         },
         {
          "font": {
           "size": 16
          },
          "showarrow": false,
          "text": "Topic 1",
          "x": 0.36250000000000004,
          "xanchor": "center",
          "xref": "paper",
          "y": 0.9999999999999999,
          "yanchor": "bottom",
          "yref": "paper"
         },
         {
          "font": {
           "size": 16
          },
          "showarrow": false,
          "text": "Topic 2",
          "x": 0.6375000000000001,
          "xanchor": "center",
          "xref": "paper",
          "y": 0.9999999999999999,
          "yanchor": "bottom",
          "yref": "paper"
         },
         {
          "font": {
           "size": 16
          },
          "showarrow": false,
          "text": "Topic 3",
          "x": 0.9125,
          "xanchor": "center",
          "xref": "paper",
          "y": 0.9999999999999999,
          "yanchor": "bottom",
          "yref": "paper"
         },
         {
          "font": {
           "size": 16
          },
          "showarrow": false,
          "text": "Topic 4",
          "x": 0.0875,
          "xanchor": "center",
          "xref": "paper",
          "y": 0.7839999999999999,
          "yanchor": "bottom",
          "yref": "paper"
         },
         {
          "font": {
           "size": 16
          },
          "showarrow": false,
          "text": "Topic 5",
          "x": 0.36250000000000004,
          "xanchor": "center",
          "xref": "paper",
          "y": 0.7839999999999999,
          "yanchor": "bottom",
          "yref": "paper"
         },
         {
          "font": {
           "size": 16
          },
          "showarrow": false,
          "text": "Topic 6",
          "x": 0.6375000000000001,
          "xanchor": "center",
          "xref": "paper",
          "y": 0.7839999999999999,
          "yanchor": "bottom",
          "yref": "paper"
         },
         {
          "font": {
           "size": 16
          },
          "showarrow": false,
          "text": "Topic 7",
          "x": 0.9125,
          "xanchor": "center",
          "xref": "paper",
          "y": 0.7839999999999999,
          "yanchor": "bottom",
          "yref": "paper"
         },
         {
          "font": {
           "size": 16
          },
          "showarrow": false,
          "text": "Topic 8",
          "x": 0.0875,
          "xanchor": "center",
          "xref": "paper",
          "y": 0.568,
          "yanchor": "bottom",
          "yref": "paper"
         },
         {
          "font": {
           "size": 16
          },
          "showarrow": false,
          "text": "Topic 9",
          "x": 0.36250000000000004,
          "xanchor": "center",
          "xref": "paper",
          "y": 0.568,
          "yanchor": "bottom",
          "yref": "paper"
         },
         {
          "font": {
           "size": 16
          },
          "showarrow": false,
          "text": "Topic 10",
          "x": 0.6375000000000001,
          "xanchor": "center",
          "xref": "paper",
          "y": 0.568,
          "yanchor": "bottom",
          "yref": "paper"
         },
         {
          "font": {
           "size": 16
          },
          "showarrow": false,
          "text": "Topic 11",
          "x": 0.9125,
          "xanchor": "center",
          "xref": "paper",
          "y": 0.568,
          "yanchor": "bottom",
          "yref": "paper"
         },
         {
          "font": {
           "size": 16
          },
          "showarrow": false,
          "text": "Topic 12",
          "x": 0.0875,
          "xanchor": "center",
          "xref": "paper",
          "y": 0.352,
          "yanchor": "bottom",
          "yref": "paper"
         },
         {
          "font": {
           "size": 16
          },
          "showarrow": false,
          "text": "Topic 13",
          "x": 0.36250000000000004,
          "xanchor": "center",
          "xref": "paper",
          "y": 0.352,
          "yanchor": "bottom",
          "yref": "paper"
         },
         {
          "font": {
           "size": 16
          },
          "showarrow": false,
          "text": "Topic 14",
          "x": 0.6375000000000001,
          "xanchor": "center",
          "xref": "paper",
          "y": 0.352,
          "yanchor": "bottom",
          "yref": "paper"
         },
         {
          "font": {
           "size": 16
          },
          "showarrow": false,
          "text": "Topic 15",
          "x": 0.9125,
          "xanchor": "center",
          "xref": "paper",
          "y": 0.352,
          "yanchor": "bottom",
          "yref": "paper"
         },
         {
          "font": {
           "size": 16
          },
          "showarrow": false,
          "text": "Topic 16",
          "x": 0.0875,
          "xanchor": "center",
          "xref": "paper",
          "y": 0.13599999999999998,
          "yanchor": "bottom",
          "yref": "paper"
         },
         {
          "font": {
           "size": 16
          },
          "showarrow": false,
          "text": "Topic 17",
          "x": 0.36250000000000004,
          "xanchor": "center",
          "xref": "paper",
          "y": 0.13599999999999998,
          "yanchor": "bottom",
          "yref": "paper"
         },
         {
          "font": {
           "size": 16
          },
          "showarrow": false,
          "text": "Topic 18",
          "x": 0.6375000000000001,
          "xanchor": "center",
          "xref": "paper",
          "y": 0.13599999999999998,
          "yanchor": "bottom",
          "yref": "paper"
         },
         {
          "font": {
           "size": 16
          },
          "showarrow": false,
          "text": "Topic 19",
          "x": 0.9125,
          "xanchor": "center",
          "xref": "paper",
          "y": 0.13599999999999998,
          "yanchor": "bottom",
          "yref": "paper"
         }
        ],
        "height": 1250,
        "hoverlabel": {
         "bgcolor": "white",
         "font": {
          "family": "Rockwell",
          "size": 16
         }
        },
        "showlegend": false,
        "template": {
         "data": {
          "bar": [
           {
            "error_x": {
             "color": "#2a3f5f"
            },
            "error_y": {
             "color": "#2a3f5f"
            },
            "marker": {
             "line": {
              "color": "white",
              "width": 0.5
             },
             "pattern": {
              "fillmode": "overlay",
              "size": 10,
              "solidity": 0.2
             }
            },
            "type": "bar"
           }
          ],
          "barpolar": [
           {
            "marker": {
             "line": {
              "color": "white",
              "width": 0.5
             },
             "pattern": {
              "fillmode": "overlay",
              "size": 10,
              "solidity": 0.2
             }
            },
            "type": "barpolar"
           }
          ],
          "carpet": [
           {
            "aaxis": {
             "endlinecolor": "#2a3f5f",
             "gridcolor": "#C8D4E3",
             "linecolor": "#C8D4E3",
             "minorgridcolor": "#C8D4E3",
             "startlinecolor": "#2a3f5f"
            },
            "baxis": {
             "endlinecolor": "#2a3f5f",
             "gridcolor": "#C8D4E3",
             "linecolor": "#C8D4E3",
             "minorgridcolor": "#C8D4E3",
             "startlinecolor": "#2a3f5f"
            },
            "type": "carpet"
           }
          ],
          "choropleth": [
           {
            "colorbar": {
             "outlinewidth": 0,
             "ticks": ""
            },
            "type": "choropleth"
           }
          ],
          "contour": [
           {
            "colorbar": {
             "outlinewidth": 0,
             "ticks": ""
            },
            "colorscale": [
             [
              0,
              "#0d0887"
             ],
             [
              0.1111111111111111,
              "#46039f"
             ],
             [
              0.2222222222222222,
              "#7201a8"
             ],
             [
              0.3333333333333333,
              "#9c179e"
             ],
             [
              0.4444444444444444,
              "#bd3786"
             ],
             [
              0.5555555555555556,
              "#d8576b"
             ],
             [
              0.6666666666666666,
              "#ed7953"
             ],
             [
              0.7777777777777778,
              "#fb9f3a"
             ],
             [
              0.8888888888888888,
              "#fdca26"
             ],
             [
              1,
              "#f0f921"
             ]
            ],
            "type": "contour"
           }
          ],
          "contourcarpet": [
           {
            "colorbar": {
             "outlinewidth": 0,
             "ticks": ""
            },
            "type": "contourcarpet"
           }
          ],
          "heatmap": [
           {
            "colorbar": {
             "outlinewidth": 0,
             "ticks": ""
            },
            "colorscale": [
             [
              0,
              "#0d0887"
             ],
             [
              0.1111111111111111,
              "#46039f"
             ],
             [
              0.2222222222222222,
              "#7201a8"
             ],
             [
              0.3333333333333333,
              "#9c179e"
             ],
             [
              0.4444444444444444,
              "#bd3786"
             ],
             [
              0.5555555555555556,
              "#d8576b"
             ],
             [
              0.6666666666666666,
              "#ed7953"
             ],
             [
              0.7777777777777778,
              "#fb9f3a"
             ],
             [
              0.8888888888888888,
              "#fdca26"
             ],
             [
              1,
              "#f0f921"
             ]
            ],
            "type": "heatmap"
           }
          ],
          "histogram": [
           {
            "marker": {
             "pattern": {
              "fillmode": "overlay",
              "size": 10,
              "solidity": 0.2
             }
            },
            "type": "histogram"
           }
          ],
          "histogram2d": [
           {
            "colorbar": {
             "outlinewidth": 0,
             "ticks": ""
            },
            "colorscale": [
             [
              0,
              "#0d0887"
             ],
             [
              0.1111111111111111,
              "#46039f"
             ],
             [
              0.2222222222222222,
              "#7201a8"
             ],
             [
              0.3333333333333333,
              "#9c179e"
             ],
             [
              0.4444444444444444,
              "#bd3786"
             ],
             [
              0.5555555555555556,
              "#d8576b"
             ],
             [
              0.6666666666666666,
              "#ed7953"
             ],
             [
              0.7777777777777778,
              "#fb9f3a"
             ],
             [
              0.8888888888888888,
              "#fdca26"
             ],
             [
              1,
              "#f0f921"
             ]
            ],
            "type": "histogram2d"
           }
          ],
          "histogram2dcontour": [
           {
            "colorbar": {
             "outlinewidth": 0,
             "ticks": ""
            },
            "colorscale": [
             [
              0,
              "#0d0887"
             ],
             [
              0.1111111111111111,
              "#46039f"
             ],
             [
              0.2222222222222222,
              "#7201a8"
             ],
             [
              0.3333333333333333,
              "#9c179e"
             ],
             [
              0.4444444444444444,
              "#bd3786"
             ],
             [
              0.5555555555555556,
              "#d8576b"
             ],
             [
              0.6666666666666666,
              "#ed7953"
             ],
             [
              0.7777777777777778,
              "#fb9f3a"
             ],
             [
              0.8888888888888888,
              "#fdca26"
             ],
             [
              1,
              "#f0f921"
             ]
            ],
            "type": "histogram2dcontour"
           }
          ],
          "mesh3d": [
           {
            "colorbar": {
             "outlinewidth": 0,
             "ticks": ""
            },
            "type": "mesh3d"
           }
          ],
          "parcoords": [
           {
            "line": {
             "colorbar": {
              "outlinewidth": 0,
              "ticks": ""
             }
            },
            "type": "parcoords"
           }
          ],
          "pie": [
           {
            "automargin": true,
            "type": "pie"
           }
          ],
          "scatter": [
           {
            "fillpattern": {
             "fillmode": "overlay",
             "size": 10,
             "solidity": 0.2
            },
            "type": "scatter"
           }
          ],
          "scatter3d": [
           {
            "line": {
             "colorbar": {
              "outlinewidth": 0,
              "ticks": ""
             }
            },
            "marker": {
             "colorbar": {
              "outlinewidth": 0,
              "ticks": ""
             }
            },
            "type": "scatter3d"
           }
          ],
          "scattercarpet": [
           {
            "marker": {
             "colorbar": {
              "outlinewidth": 0,
              "ticks": ""
             }
            },
            "type": "scattercarpet"
           }
          ],
          "scattergeo": [
           {
            "marker": {
             "colorbar": {
              "outlinewidth": 0,
              "ticks": ""
             }
            },
            "type": "scattergeo"
           }
          ],
          "scattergl": [
           {
            "marker": {
             "colorbar": {
              "outlinewidth": 0,
              "ticks": ""
             }
            },
            "type": "scattergl"
           }
          ],
          "scattermap": [
           {
            "marker": {
             "colorbar": {
              "outlinewidth": 0,
              "ticks": ""
             }
            },
            "type": "scattermap"
           }
          ],
          "scattermapbox": [
           {
            "marker": {
             "colorbar": {
              "outlinewidth": 0,
              "ticks": ""
             }
            },
            "type": "scattermapbox"
           }
          ],
          "scatterpolar": [
           {
            "marker": {
             "colorbar": {
              "outlinewidth": 0,
              "ticks": ""
             }
            },
            "type": "scatterpolar"
           }
          ],
          "scatterpolargl": [
           {
            "marker": {
             "colorbar": {
              "outlinewidth": 0,
              "ticks": ""
             }
            },
            "type": "scatterpolargl"
           }
          ],
          "scatterternary": [
           {
            "marker": {
             "colorbar": {
              "outlinewidth": 0,
              "ticks": ""
             }
            },
            "type": "scatterternary"
           }
          ],
          "surface": [
           {
            "colorbar": {
             "outlinewidth": 0,
             "ticks": ""
            },
            "colorscale": [
             [
              0,
              "#0d0887"
             ],
             [
              0.1111111111111111,
              "#46039f"
             ],
             [
              0.2222222222222222,
              "#7201a8"
             ],
             [
              0.3333333333333333,
              "#9c179e"
             ],
             [
              0.4444444444444444,
              "#bd3786"
             ],
             [
              0.5555555555555556,
              "#d8576b"
             ],
             [
              0.6666666666666666,
              "#ed7953"
             ],
             [
              0.7777777777777778,
              "#fb9f3a"
             ],
             [
              0.8888888888888888,
              "#fdca26"
             ],
             [
              1,
              "#f0f921"
             ]
            ],
            "type": "surface"
           }
          ],
          "table": [
           {
            "cells": {
             "fill": {
              "color": "#EBF0F8"
             },
             "line": {
              "color": "white"
             }
            },
            "header": {
             "fill": {
              "color": "#C8D4E3"
             },
             "line": {
              "color": "white"
             }
            },
            "type": "table"
           }
          ]
         },
         "layout": {
          "annotationdefaults": {
           "arrowcolor": "#2a3f5f",
           "arrowhead": 0,
           "arrowwidth": 1
          },
          "autotypenumbers": "strict",
          "coloraxis": {
           "colorbar": {
            "outlinewidth": 0,
            "ticks": ""
           }
          },
          "colorscale": {
           "diverging": [
            [
             0,
             "#8e0152"
            ],
            [
             0.1,
             "#c51b7d"
            ],
            [
             0.2,
             "#de77ae"
            ],
            [
             0.3,
             "#f1b6da"
            ],
            [
             0.4,
             "#fde0ef"
            ],
            [
             0.5,
             "#f7f7f7"
            ],
            [
             0.6,
             "#e6f5d0"
            ],
            [
             0.7,
             "#b8e186"
            ],
            [
             0.8,
             "#7fbc41"
            ],
            [
             0.9,
             "#4d9221"
            ],
            [
             1,
             "#276419"
            ]
           ],
           "sequential": [
            [
             0,
             "#0d0887"
            ],
            [
             0.1111111111111111,
             "#46039f"
            ],
            [
             0.2222222222222222,
             "#7201a8"
            ],
            [
             0.3333333333333333,
             "#9c179e"
            ],
            [
             0.4444444444444444,
             "#bd3786"
            ],
            [
             0.5555555555555556,
             "#d8576b"
            ],
            [
             0.6666666666666666,
             "#ed7953"
            ],
            [
             0.7777777777777778,
             "#fb9f3a"
            ],
            [
             0.8888888888888888,
             "#fdca26"
            ],
            [
             1,
             "#f0f921"
            ]
           ],
           "sequentialminus": [
            [
             0,
             "#0d0887"
            ],
            [
             0.1111111111111111,
             "#46039f"
            ],
            [
             0.2222222222222222,
             "#7201a8"
            ],
            [
             0.3333333333333333,
             "#9c179e"
            ],
            [
             0.4444444444444444,
             "#bd3786"
            ],
            [
             0.5555555555555556,
             "#d8576b"
            ],
            [
             0.6666666666666666,
             "#ed7953"
            ],
            [
             0.7777777777777778,
             "#fb9f3a"
            ],
            [
             0.8888888888888888,
             "#fdca26"
            ],
            [
             1,
             "#f0f921"
            ]
           ]
          },
          "colorway": [
           "#636efa",
           "#EF553B",
           "#00cc96",
           "#ab63fa",
           "#FFA15A",
           "#19d3f3",
           "#FF6692",
           "#B6E880",
           "#FF97FF",
           "#FECB52"
          ],
          "font": {
           "color": "#2a3f5f"
          },
          "geo": {
           "bgcolor": "white",
           "lakecolor": "white",
           "landcolor": "white",
           "showlakes": true,
           "showland": true,
           "subunitcolor": "#C8D4E3"
          },
          "hoverlabel": {
           "align": "left"
          },
          "hovermode": "closest",
          "mapbox": {
           "style": "light"
          },
          "paper_bgcolor": "white",
          "plot_bgcolor": "white",
          "polar": {
           "angularaxis": {
            "gridcolor": "#EBF0F8",
            "linecolor": "#EBF0F8",
            "ticks": ""
           },
           "bgcolor": "white",
           "radialaxis": {
            "gridcolor": "#EBF0F8",
            "linecolor": "#EBF0F8",
            "ticks": ""
           }
          },
          "scene": {
           "xaxis": {
            "backgroundcolor": "white",
            "gridcolor": "#DFE8F3",
            "gridwidth": 2,
            "linecolor": "#EBF0F8",
            "showbackground": true,
            "ticks": "",
            "zerolinecolor": "#EBF0F8"
           },
           "yaxis": {
            "backgroundcolor": "white",
            "gridcolor": "#DFE8F3",
            "gridwidth": 2,
            "linecolor": "#EBF0F8",
            "showbackground": true,
            "ticks": "",
            "zerolinecolor": "#EBF0F8"
           },
           "zaxis": {
            "backgroundcolor": "white",
            "gridcolor": "#DFE8F3",
            "gridwidth": 2,
            "linecolor": "#EBF0F8",
            "showbackground": true,
            "ticks": "",
            "zerolinecolor": "#EBF0F8"
           }
          },
          "shapedefaults": {
           "line": {
            "color": "#2a3f5f"
           }
          },
          "ternary": {
           "aaxis": {
            "gridcolor": "#DFE8F3",
            "linecolor": "#A2B1C6",
            "ticks": ""
           },
           "baxis": {
            "gridcolor": "#DFE8F3",
            "linecolor": "#A2B1C6",
            "ticks": ""
           },
           "bgcolor": "white",
           "caxis": {
            "gridcolor": "#DFE8F3",
            "linecolor": "#A2B1C6",
            "ticks": ""
           }
          },
          "title": {
           "x": 0.05
          },
          "xaxis": {
           "automargin": true,
           "gridcolor": "#EBF0F8",
           "linecolor": "#EBF0F8",
           "ticks": "",
           "title": {
            "standoff": 15
           },
           "zerolinecolor": "#EBF0F8",
           "zerolinewidth": 2
          },
          "yaxis": {
           "automargin": true,
           "gridcolor": "#EBF0F8",
           "linecolor": "#EBF0F8",
           "ticks": "",
           "title": {
            "standoff": 15
           },
           "zerolinecolor": "#EBF0F8",
           "zerolinewidth": 2
          }
         }
        },
        "title": {
         "font": {
          "color": "Black",
          "size": 22
         },
         "text": "Topic Word Scores",
         "x": 0.5,
         "xanchor": "center",
         "yanchor": "top"
        },
        "width": 1000,
        "xaxis": {
         "anchor": "y",
         "domain": [
          0,
          0.175
         ],
         "showgrid": true
        },
        "xaxis10": {
         "anchor": "y10",
         "domain": [
          0.275,
          0.45
         ],
         "showgrid": true
        },
        "xaxis11": {
         "anchor": "y11",
         "domain": [
          0.55,
          0.7250000000000001
         ],
         "showgrid": true
        },
        "xaxis12": {
         "anchor": "y12",
         "domain": [
          0.825,
          1
         ],
         "showgrid": true
        },
        "xaxis13": {
         "anchor": "y13",
         "domain": [
          0,
          0.175
         ],
         "showgrid": true
        },
        "xaxis14": {
         "anchor": "y14",
         "domain": [
          0.275,
          0.45
         ],
         "showgrid": true
        },
        "xaxis15": {
         "anchor": "y15",
         "domain": [
          0.55,
          0.7250000000000001
         ],
         "showgrid": true
        },
        "xaxis16": {
         "anchor": "y16",
         "domain": [
          0.825,
          1
         ],
         "showgrid": true
        },
        "xaxis17": {
         "anchor": "y17",
         "domain": [
          0,
          0.175
         ],
         "showgrid": true
        },
        "xaxis18": {
         "anchor": "y18",
         "domain": [
          0.275,
          0.45
         ],
         "showgrid": true
        },
        "xaxis19": {
         "anchor": "y19",
         "domain": [
          0.55,
          0.7250000000000001
         ],
         "showgrid": true
        },
        "xaxis2": {
         "anchor": "y2",
         "domain": [
          0.275,
          0.45
         ],
         "showgrid": true
        },
        "xaxis20": {
         "anchor": "y20",
         "domain": [
          0.825,
          1
         ],
         "showgrid": true
        },
        "xaxis3": {
         "anchor": "y3",
         "domain": [
          0.55,
          0.7250000000000001
         ],
         "showgrid": true
        },
        "xaxis4": {
         "anchor": "y4",
         "domain": [
          0.825,
          1
         ],
         "showgrid": true
        },
        "xaxis5": {
         "anchor": "y5",
         "domain": [
          0,
          0.175
         ],
         "showgrid": true
        },
        "xaxis6": {
         "anchor": "y6",
         "domain": [
          0.275,
          0.45
         ],
         "showgrid": true
        },
        "xaxis7": {
         "anchor": "y7",
         "domain": [
          0.55,
          0.7250000000000001
         ],
         "showgrid": true
        },
        "xaxis8": {
         "anchor": "y8",
         "domain": [
          0.825,
          1
         ],
         "showgrid": true
        },
        "xaxis9": {
         "anchor": "y9",
         "domain": [
          0,
          0.175
         ],
         "showgrid": true
        },
        "yaxis": {
         "anchor": "x",
         "domain": [
          0.8639999999999999,
          0.9999999999999999
         ],
         "showgrid": true
        },
        "yaxis10": {
         "anchor": "x10",
         "domain": [
          0.43199999999999994,
          0.568
         ],
         "showgrid": true
        },
        "yaxis11": {
         "anchor": "x11",
         "domain": [
          0.43199999999999994,
          0.568
         ],
         "showgrid": true
        },
        "yaxis12": {
         "anchor": "x12",
         "domain": [
          0.43199999999999994,
          0.568
         ],
         "showgrid": true
        },
        "yaxis13": {
         "anchor": "x13",
         "domain": [
          0.21599999999999997,
          0.352
         ],
         "showgrid": true
        },
        "yaxis14": {
         "anchor": "x14",
         "domain": [
          0.21599999999999997,
          0.352
         ],
         "showgrid": true
        },
        "yaxis15": {
         "anchor": "x15",
         "domain": [
          0.21599999999999997,
          0.352
         ],
         "showgrid": true
        },
        "yaxis16": {
         "anchor": "x16",
         "domain": [
          0.21599999999999997,
          0.352
         ],
         "showgrid": true
        },
        "yaxis17": {
         "anchor": "x17",
         "domain": [
          0,
          0.13599999999999998
         ],
         "showgrid": true
        },
        "yaxis18": {
         "anchor": "x18",
         "domain": [
          0,
          0.13599999999999998
         ],
         "showgrid": true
        },
        "yaxis19": {
         "anchor": "x19",
         "domain": [
          0,
          0.13599999999999998
         ],
         "showgrid": true
        },
        "yaxis2": {
         "anchor": "x2",
         "domain": [
          0.8639999999999999,
          0.9999999999999999
         ],
         "showgrid": true
        },
        "yaxis20": {
         "anchor": "x20",
         "domain": [
          0,
          0.13599999999999998
         ],
         "showgrid": true
        },
        "yaxis3": {
         "anchor": "x3",
         "domain": [
          0.8639999999999999,
          0.9999999999999999
         ],
         "showgrid": true
        },
        "yaxis4": {
         "anchor": "x4",
         "domain": [
          0.8639999999999999,
          0.9999999999999999
         ],
         "showgrid": true
        },
        "yaxis5": {
         "anchor": "x5",
         "domain": [
          0.6479999999999999,
          0.7839999999999999
         ],
         "showgrid": true
        },
        "yaxis6": {
         "anchor": "x6",
         "domain": [
          0.6479999999999999,
          0.7839999999999999
         ],
         "showgrid": true
        },
        "yaxis7": {
         "anchor": "x7",
         "domain": [
          0.6479999999999999,
          0.7839999999999999
         ],
         "showgrid": true
        },
        "yaxis8": {
         "anchor": "x8",
         "domain": [
          0.6479999999999999,
          0.7839999999999999
         ],
         "showgrid": true
        },
        "yaxis9": {
         "anchor": "x9",
         "domain": [
          0.43199999999999994,
          0.568
         ],
         "showgrid": true
        }
       }
      }
     },
     "metadata": {},
     "output_type": "display_data"
    }
   ],
   "source": [
    "topic_model.visualize_barchart(top_n_topics=20, n_words = 10)"
   ]
  },
  {
   "cell_type": "code",
   "execution_count": 151,
   "id": "54dbb054",
   "metadata": {},
   "outputs": [
    {
     "data": {
      "application/vnd.plotly.v1+json": {
       "config": {
        "plotlyServerURL": "https://plot.ly"
       },
       "data": [
        {
         "hoverinfo": "text",
         "marker": {
          "color": "rgb(61,153,112)"
         },
         "mode": "lines",
         "type": "scatter",
         "x": {
          "bdata": "AAAAAAAAAACiq92xyYneP6Kr3bHJid4/AAAAAAAAAAA=",
          "dtype": "f8"
         },
         "xaxis": "x",
         "y": {
          "bdata": "AAAAAAAALsAAAAAAAAAuwAAAAAAAADnAAAAAAAAAOcA=",
          "dtype": "f8"
         },
         "yaxis": "y"
        },
        {
         "hoverinfo": "text",
         "marker": {
          "color": "rgb(61,153,112)"
         },
         "mode": "lines",
         "type": "scatter",
         "x": {
          "bdata": "AAAAAAAAAABxbHtpKq7oP3Fse2kqrug/oqvdscmJ3j8=",
          "dtype": "f8"
         },
         "xaxis": "x",
         "y": {
          "bdata": "AAAAAAAAFMAAAAAAAAAUwAAAAAAAADTAAAAAAAAANMA=",
          "dtype": "f8"
         },
         "yaxis": "y"
        },
        {
         "hoverinfo": "text",
         "marker": {
          "color": "rgb(255,65,54)"
         },
         "mode": "lines",
         "type": "scatter",
         "x": {
          "bdata": "AAAAAAAAAAC/NkLMEB/oP782QswQH+g/AAAAAAAAAAA=",
          "dtype": "f8"
         },
         "xaxis": "x",
         "y": {
          "bdata": "AAAAAACAQcAAAAAAAIBBwAAAAAAAgEbAAAAAAACARsA=",
          "dtype": "f8"
         },
         "yaxis": "y"
        },
        {
         "hoverinfo": "text",
         "marker": {
          "color": "rgb(255,65,54)"
         },
         "mode": "lines",
         "type": "scatter",
         "x": {
          "bdata": "AAAAAAAAAAAYP2TVRbTlPxg/ZNVFtOU/AAAAAAAAAAA=",
          "dtype": "f8"
         },
         "xaxis": "x",
         "y": {
          "bdata": "AAAAAACAS8AAAAAAAIBLwAAAAAAAQFDAAAAAAABAUMA=",
          "dtype": "f8"
         },
         "yaxis": "y"
        },
        {
         "hoverinfo": "text",
         "marker": {
          "color": "rgb(255,65,54)"
         },
         "mode": "lines",
         "type": "scatter",
         "x": {
          "bdata": "GD9k1UW05T/KRo4VaAnoP8pGjhVoCeg/AAAAAAAAAAA=",
          "dtype": "f8"
         },
         "xaxis": "x",
         "y": {
          "bdata": "AAAAAAAATsAAAAAAAABOwAAAAAAAwFLAAAAAAADAUsA=",
          "dtype": "f8"
         },
         "yaxis": "y"
        },
        {
         "hoverinfo": "text",
         "marker": {
          "color": "rgb(255,65,54)"
         },
         "mode": "lines",
         "type": "scatter",
         "x": {
          "bdata": "vzZCzBAf6D8biuaF7mLuPxuK5oXuYu4/ykaOFWgJ6D8=",
          "dtype": "f8"
         },
         "xaxis": "x",
         "y": {
          "bdata": "AAAAAAAARMAAAAAAAABEwAAAAAAA4FDAAAAAAADgUMA=",
          "dtype": "f8"
         },
         "yaxis": "y"
        },
        {
         "hoverinfo": "text",
         "marker": {
          "color": "rgb(0,116,217)"
         },
         "mode": "lines",
         "type": "scatter",
         "x": {
          "bdata": "cWx7aSqu6D/sDitf/GvxP+wOK1/8a/E/G4rmhe5i7j8=",
          "dtype": "f8"
         },
         "xaxis": "x",
         "y": {
          "bdata": "AAAAAAAAKcAAAAAAAAApwAAAAAAA4ErAAAAAAADgSsA=",
          "dtype": "f8"
         },
         "yaxis": "y"
        },
        {
         "hoverinfo": "text",
         "marker": {
          "color": "rgb(35,205,205)"
         },
         "mode": "lines",
         "type": "scatter",
         "x": {
          "bdata": "AAAAAAAAAABA6c5pCFPKP0DpzmkIU8o/AAAAAAAAAAA=",
          "dtype": "f8"
         },
         "xaxis": "x",
         "y": {
          "bdata": "AAAAAABAWsAAAAAAAEBawAAAAAAAwFzAAAAAAADAXMA=",
          "dtype": "f8"
         },
         "yaxis": "y"
        },
        {
         "hoverinfo": "text",
         "marker": {
          "color": "rgb(35,205,205)"
         },
         "mode": "lines",
         "type": "scatter",
         "x": {
          "bdata": "AAAAAAAAAACeh46HV4PZP56HjodXg9k/QOnOaQhTyj8=",
          "dtype": "f8"
         },
         "xaxis": "x",
         "y": {
          "bdata": "AAAAAADAV8AAAAAAAMBXwAAAAAAAgFvAAAAAAACAW8A=",
          "dtype": "f8"
         },
         "yaxis": "y"
        },
        {
         "hoverinfo": "text",
         "marker": {
          "color": "rgb(35,205,205)"
         },
         "mode": "lines",
         "type": "scatter",
         "x": {
          "bdata": "AAAAAAAAAABQCFtF1RDhP1AIW0XVEOE/noeOh1eD2T8=",
          "dtype": "f8"
         },
         "xaxis": "x",
         "y": {
          "bdata": "AAAAAABAVcAAAAAAAEBVwAAAAAAAoFnAAAAAAACgWcA=",
          "dtype": "f8"
         },
         "yaxis": "y"
        },
        {
         "hoverinfo": "text",
         "marker": {
          "color": "rgb(35,205,205)"
         },
         "mode": "lines",
         "type": "scatter",
         "x": {
          "bdata": "AAAAAAAAAAAAs2oZbT7VPwCzahltPtU/AAAAAAAAAAA=",
          "dtype": "f8"
         },
         "xaxis": "x",
         "y": {
          "bdata": "AAAAAABAX8AAAAAAAEBfwAAAAAAA4GDAAAAAAADgYMA=",
          "dtype": "f8"
         },
         "yaxis": "y"
        },
        {
         "hoverinfo": "text",
         "marker": {
          "color": "rgb(35,205,205)"
         },
         "mode": "lines",
         "type": "scatter",
         "x": {
          "bdata": "UAhbRdUQ4T/S0cXX2SPnP9LRxdfZI+c/ALNqGW0+1T8=",
          "dtype": "f8"
         },
         "xaxis": "x",
         "y": {
          "bdata": "AAAAAABwV8AAAAAAAHBXwAAAAAAAQGDAAAAAAABAYMA=",
          "dtype": "f8"
         },
         "yaxis": "y"
        },
        {
         "hoverinfo": "text",
         "marker": {
          "color": "rgb(0,116,217)"
         },
         "mode": "lines",
         "type": "scatter",
         "x": {
          "bdata": "7A4rX/xr8T/syWv2U+zzP+zJa/ZT7PM/0tHF19kj5z8=",
          "dtype": "f8"
         },
         "xaxis": "x",
         "y": {
          "bdata": "AAAAAACQQMAAAAAAAJBAwAAAAAAA+FvAAAAAAAD4W8A=",
          "dtype": "f8"
         },
         "yaxis": "y"
        },
        {
         "hoverinfo": "text",
         "marker": {
          "color": "rgb(133,20,75)"
         },
         "mode": "lines",
         "type": "scatter",
         "x": {
          "bdata": "AAAAAAAAAAB617sromLYP3rXuyuiYtg/AAAAAAAAAAA=",
          "dtype": "f8"
         },
         "xaxis": "x",
         "y": {
          "bdata": "AAAAAABgY8AAAAAAAGBjwAAAAAAAoGTAAAAAAACgZMA=",
          "dtype": "f8"
         },
         "yaxis": "y"
        },
        {
         "hoverinfo": "text",
         "marker": {
          "color": "rgb(133,20,75)"
         },
         "mode": "lines",
         "type": "scatter",
         "x": {
          "bdata": "AAAAAAAAAAD4CfT0M5LdP/gJ9PQzkt0/AAAAAAAAAAA=",
          "dtype": "f8"
         },
         "xaxis": "x",
         "y": {
          "bdata": "AAAAAADgZcAAAAAAAOBlwAAAAAAAIGfAAAAAAAAgZ8A=",
          "dtype": "f8"
         },
         "yaxis": "y"
        },
        {
         "hoverinfo": "text",
         "marker": {
          "color": "rgb(133,20,75)"
         },
         "mode": "lines",
         "type": "scatter",
         "x": {
          "bdata": "ete7K6Ji2D/kcJ0WjizoP+RwnRaOLOg/+An09DOS3T8=",
          "dtype": "f8"
         },
         "xaxis": "x",
         "y": {
          "bdata": "AAAAAAAAZMAAAAAAAABkwAAAAAAAgGbAAAAAAACAZsA=",
          "dtype": "f8"
         },
         "yaxis": "y"
        },
        {
         "hoverinfo": "text",
         "marker": {
          "color": "rgb(133,20,75)"
         },
         "mode": "lines",
         "type": "scatter",
         "x": {
          "bdata": "AAAAAAAAAAAamGiZzCvsPxqYaJnMK+w/5HCdFo4s6D8=",
          "dtype": "f8"
         },
         "xaxis": "x",
         "y": {
          "bdata": "AAAAAAAgYsAAAAAAACBiwAAAAAAAQGXAAAAAAABAZcA=",
          "dtype": "f8"
         },
         "yaxis": "y"
        },
        {
         "hoverinfo": "text",
         "marker": {
          "color": "rgb(255,220,0)"
         },
         "mode": "lines",
         "type": "scatter",
         "x": {
          "bdata": "AAAAAAAAAADcBO6IblrBP9wE7ohuWsE/AAAAAAAAAAA=",
          "dtype": "f8"
         },
         "xaxis": "x",
         "y": {
          "bdata": "AAAAAABgaMAAAAAAAGBowAAAAAAAoGnAAAAAAACgacA=",
          "dtype": "f8"
         },
         "yaxis": "y"
        },
        {
         "hoverinfo": "text",
         "marker": {
          "color": "rgb(40,35,35)"
         },
         "mode": "lines",
         "type": "scatter",
         "x": {
          "bdata": "AAAAAAAAAADNLMGZC63oP80swZkLreg/AAAAAAAAAAA=",
          "dtype": "f8"
         },
         "xaxis": "x",
         "y": {
          "bdata": "AAAAAADgasAAAAAAAOBqwAAAAAAAIGzAAAAAAAAgbMA=",
          "dtype": "f8"
         },
         "yaxis": "y"
        },
        {
         "hoverinfo": "text",
         "marker": {
          "color": "rgb(40,35,35)"
         },
         "mode": "lines",
         "type": "scatter",
         "x": {
          "bdata": "zSzBmQut6D8GogThfvPrPwaiBOF+8+s/AAAAAAAAAAA=",
          "dtype": "f8"
         },
         "xaxis": "x",
         "y": {
          "bdata": "AAAAAACAa8AAAAAAAIBrwAAAAAAAYG3AAAAAAABgbcA=",
          "dtype": "f8"
         },
         "yaxis": "y"
        },
        {
         "hoverinfo": "text",
         "marker": {
          "color": "rgb(61,153,112)"
         },
         "mode": "lines",
         "type": "scatter",
         "x": {
          "bdata": "AAAAAAAAAAAmRUUmzvrrPyZFRSbO+us/AAAAAAAAAAA=",
          "dtype": "f8"
         },
         "xaxis": "x",
         "y": {
          "bdata": "AAAAAACgbsAAAAAAAKBuwAAAAAAA4G/AAAAAAADgb8A=",
          "dtype": "f8"
         },
         "yaxis": "y"
        },
        {
         "hoverinfo": "text",
         "marker": {
          "color": "rgb(61,153,112)"
         },
         "mode": "lines",
         "type": "scatter",
         "x": {
          "bdata": "JkVFJs766z/Toi4JQIztP9OiLglAjO0/AAAAAAAAAAA=",
          "dtype": "f8"
         },
         "xaxis": "x",
         "y": {
          "bdata": "AAAAAABAb8AAAAAAAEBvwAAAAAAAkHDAAAAAAACQcMA=",
          "dtype": "f8"
         },
         "yaxis": "y"
        },
        {
         "hoverinfo": "text",
         "marker": {
          "color": "rgb(61,153,112)"
         },
         "mode": "lines",
         "type": "scatter",
         "x": {
          "bdata": "AAAAAAAAAABKQ49ZmsTrP0pDj1maxOs/AAAAAAAAAAA=",
          "dtype": "f8"
         },
         "xaxis": "x",
         "y": {
          "bdata": "AAAAAAAwccAAAAAAADBxwAAAAAAA0HHAAAAAAADQccA=",
          "dtype": "f8"
         },
         "yaxis": "y"
        },
        {
         "hoverinfo": "text",
         "marker": {
          "color": "rgb(61,153,112)"
         },
         "mode": "lines",
         "type": "scatter",
         "x": {
          "bdata": "06IuCUCM7T+nq4WvZCPuP6erha9kI+4/SkOPWZrE6z8=",
          "dtype": "f8"
         },
         "xaxis": "x",
         "y": {
          "bdata": "AAAAAAAYcMAAAAAAABhwwAAAAAAAgHHAAAAAAACAccA=",
          "dtype": "f8"
         },
         "yaxis": "y"
        },
        {
         "hoverinfo": "text",
         "marker": {
          "color": "rgb(255,65,54)"
         },
         "mode": "lines",
         "type": "scatter",
         "x": {
          "bdata": "AAAAAAAAAADAdGZ4bQ/jP8B0ZnhtD+M/AAAAAAAAAAA=",
          "dtype": "f8"
         },
         "xaxis": "x",
         "y": {
          "bdata": "AAAAAAAQc8AAAAAAABBzwAAAAAAAsHPAAAAAAACwc8A=",
          "dtype": "f8"
         },
         "yaxis": "y"
        },
        {
         "hoverinfo": "text",
         "marker": {
          "color": "rgb(255,65,54)"
         },
         "mode": "lines",
         "type": "scatter",
         "x": {
          "bdata": "AAAAAAAAAAASzSBtmPfmPxLNIG2Y9+Y/wHRmeG0P4z8=",
          "dtype": "f8"
         },
         "xaxis": "x",
         "y": {
          "bdata": "AAAAAABwcsAAAAAAAHBywAAAAAAAYHPAAAAAAABgc8A=",
          "dtype": "f8"
         },
         "yaxis": "y"
        },
        {
         "hoverinfo": "text",
         "marker": {
          "color": "rgb(255,65,54)"
         },
         "mode": "lines",
         "type": "scatter",
         "x": {
          "bdata": "AAAAAAAAAABEaxf6zNHpP0RrF/rM0ek/AAAAAAAAAAA=",
          "dtype": "f8"
         },
         "xaxis": "x",
         "y": {
          "bdata": "AAAAAABQdMAAAAAAAFB0wAAAAAAA8HTAAAAAAADwdMA=",
          "dtype": "f8"
         },
         "yaxis": "y"
        },
        {
         "hoverinfo": "text",
         "marker": {
          "color": "rgb(255,65,54)"
         },
         "mode": "lines",
         "type": "scatter",
         "x": {
          "bdata": "Es0gbZj35j/GkNNWIGfrP8aQ01YgZ+s/RGsX+szR6T8=",
          "dtype": "f8"
         },
         "xaxis": "x",
         "y": {
          "bdata": "AAAAAADocsAAAAAAAOhywAAAAAAAoHTAAAAAAACgdMA=",
          "dtype": "f8"
         },
         "yaxis": "y"
        },
        {
         "hoverinfo": "text",
         "marker": {
          "color": "rgb(0,116,217)"
         },
         "mode": "lines",
         "type": "scatter",
         "x": {
          "bdata": "p6uFr2Qj7j+N/xjYqQLwP43/GNipAvA/xpDTViBn6z8=",
          "dtype": "f8"
         },
         "xaxis": "x",
         "y": {
          "bdata": "AAAAAADMcMAAAAAAAMxwwAAAAAAAxHPAAAAAAADEc8A=",
          "dtype": "f8"
         },
         "yaxis": "y"
        },
        {
         "hoverinfo": "text",
         "marker": {
          "color": "rgb(35,205,205)"
         },
         "mode": "lines",
         "type": "scatter",
         "x": {
          "bdata": "AAAAAAAAAACOZyEwHaHjP45nITAdoeM/AAAAAAAAAAA=",
          "dtype": "f8"
         },
         "xaxis": "x",
         "y": {
          "bdata": "AAAAAAAwdsAAAAAAADB2wAAAAAAA0HbAAAAAAADQdsA=",
          "dtype": "f8"
         },
         "yaxis": "y"
        },
        {
         "hoverinfo": "text",
         "marker": {
          "color": "rgb(35,205,205)"
         },
         "mode": "lines",
         "type": "scatter",
         "x": {
          "bdata": "AAAAAAAAAADD8O+v8tToP8Pw76/y1Og/jmchMB2h4z8=",
          "dtype": "f8"
         },
         "xaxis": "x",
         "y": {
          "bdata": "AAAAAACQdcAAAAAAAJB1wAAAAAAAgHbAAAAAAACAdsA=",
          "dtype": "f8"
         },
         "yaxis": "y"
        },
        {
         "hoverinfo": "text",
         "marker": {
          "color": "rgb(0,116,217)"
         },
         "mode": "lines",
         "type": "scatter",
         "x": {
          "bdata": "jf8Y2KkC8D/DDjjaSzDxP8MOONpLMPE/w/Dvr/LU6D8=",
          "dtype": "f8"
         },
         "xaxis": "x",
         "y": {
          "bdata": "AAAAAABIcsAAAAAAAEhywAAAAAAACHbAAAAAAAAIdsA=",
          "dtype": "f8"
         },
         "yaxis": "y"
        },
        {
         "hoverinfo": "text",
         "marker": {
          "color": "rgb(0,116,217)"
         },
         "mode": "lines",
         "type": "scatter",
         "x": {
          "bdata": "BqIE4X7z6z8Uru18S7XxPxSu7XxLtfE/ww442ksw8T8=",
          "dtype": "f8"
         },
         "xaxis": "x",
         "y": {
          "bdata": "AAAAAABwbMAAAAAAAHBswAAAAAAAKHTAAAAAAAAodMA=",
          "dtype": "f8"
         },
         "yaxis": "y"
        },
        {
         "hoverinfo": "text",
         "marker": {
          "color": "rgb(61,153,112)"
         },
         "mode": "lines",
         "type": "scatter",
         "x": {
          "bdata": "AAAAAAAAAABKUKIjJNPmP0pQoiMk0+Y/AAAAAAAAAAA=",
          "dtype": "f8"
         },
         "xaxis": "x",
         "y": {
          "bdata": "AAAAAABwd8AAAAAAAHB3wAAAAAAAEHjAAAAAAAAQeMA=",
          "dtype": "f8"
         },
         "yaxis": "y"
        },
        {
         "hoverinfo": "text",
         "marker": {
          "color": "rgb(61,153,112)"
         },
         "mode": "lines",
         "type": "scatter",
         "x": {
          "bdata": "SlCiIyTT5j+KeBEn+WHqP4p4ESf5Yeo/AAAAAAAAAAA=",
          "dtype": "f8"
         },
         "xaxis": "x",
         "y": {
          "bdata": "AAAAAADAd8AAAAAAAMB3wAAAAAAAsHjAAAAAAACweMA=",
          "dtype": "f8"
         },
         "yaxis": "y"
        },
        {
         "hoverinfo": "text",
         "marker": {
          "color": "rgb(0,116,217)"
         },
         "mode": "lines",
         "type": "scatter",
         "x": {
          "bdata": "FK7tfEu18T8n89ZGJBDyPyfz1kYkEPI/ingRJ/lh6j8=",
          "dtype": "f8"
         },
         "xaxis": "x",
         "y": {
          "bdata": "AAAAAAAwccAAAAAAADBxwAAAAAAAOHjAAAAAAAA4eMA=",
          "dtype": "f8"
         },
         "yaxis": "y"
        },
        {
         "hoverinfo": "text",
         "marker": {
          "color": "rgb(0,116,217)"
         },
         "mode": "lines",
         "type": "scatter",
         "x": {
          "bdata": "3ATuiG5awT+sZiP9Wsj0P6xmI/1ayPQ/J/PWRiQQ8j8=",
          "dtype": "f8"
         },
         "xaxis": "x",
         "y": {
          "bdata": "AAAAAAAAacAAAAAAAABpwAAAAAAAtHTAAAAAAAC0dMA=",
          "dtype": "f8"
         },
         "yaxis": "y"
        },
        {
         "hoverinfo": "text",
         "marker": {
          "color": "rgb(0,116,217)"
         },
         "mode": "lines",
         "type": "scatter",
         "x": {
          "bdata": "Gphomcwr7D+gVMR693/1P6BUxHr3f/U/rGYj/VrI9D8=",
          "dtype": "f8"
         },
         "xaxis": "x",
         "y": {
          "bdata": "AAAAAACwY8AAAAAAALBjwAAAAAAAmnDAAAAAAACacMA=",
          "dtype": "f8"
         },
         "yaxis": "y"
        },
        {
         "hoverinfo": "text",
         "marker": {
          "color": "rgb(255,65,54)"
         },
         "mode": "lines",
         "type": "scatter",
         "x": {
          "bdata": "AAAAAAAAAACsbG1Qzt/YP6xsbVDO39g/AAAAAAAAAAA=",
          "dtype": "f8"
         },
         "xaxis": "x",
         "y": {
          "bdata": "AAAAAACQesAAAAAAAJB6wAAAAAAAMHvAAAAAAAAwe8A=",
          "dtype": "f8"
         },
         "yaxis": "y"
        },
        {
         "hoverinfo": "text",
         "marker": {
          "color": "rgb(255,65,54)"
         },
         "mode": "lines",
         "type": "scatter",
         "x": {
          "bdata": "rGxtUM7f2D/8vO5GRXzgP/y87kZFfOA/AAAAAAAAAAA=",
          "dtype": "f8"
         },
         "xaxis": "x",
         "y": {
          "bdata": "AAAAAADgesAAAAAAAOB6wAAAAAAA0HvAAAAAAADQe8A=",
          "dtype": "f8"
         },
         "yaxis": "y"
        },
        {
         "hoverinfo": "text",
         "marker": {
          "color": "rgb(255,65,54)"
         },
         "mode": "lines",
         "type": "scatter",
         "x": {
          "bdata": "AAAAAAAAAACebMpY31jjP55syljfWOM//LzuRkV84D8=",
          "dtype": "f8"
         },
         "xaxis": "x",
         "y": {
          "bdata": "AAAAAADwecAAAAAAAPB5wAAAAAAAWHvAAAAAAABYe8A=",
          "dtype": "f8"
         },
         "yaxis": "y"
        },
        {
         "hoverinfo": "text",
         "marker": {
          "color": "rgb(255,65,54)"
         },
         "mode": "lines",
         "type": "scatter",
         "x": {
          "bdata": "AAAAAAAAAAB9E+tv+RPnP30T62/5E+c/nmzKWN9Y4z8=",
          "dtype": "f8"
         },
         "xaxis": "x",
         "y": {
          "bdata": "AAAAAABQecAAAAAAAFB5wAAAAAAApHrAAAAAAACkesA=",
          "dtype": "f8"
         },
         "yaxis": "y"
        },
        {
         "hoverinfo": "text",
         "marker": {
          "color": "rgb(255,65,54)"
         },
         "mode": "lines",
         "type": "scatter",
         "x": {
          "bdata": "AAAAAAAAAABAkTDsKvPjP0CRMOwq8+M/AAAAAAAAAAA=",
          "dtype": "f8"
         },
         "xaxis": "x",
         "y": {
          "bdata": "AAAAAABwfMAAAAAAAHB8wAAAAAAAEH3AAAAAAAAQfcA=",
          "dtype": "f8"
         },
         "yaxis": "y"
        },
        {
         "hoverinfo": "text",
         "marker": {
          "color": "rgb(255,65,54)"
         },
         "mode": "lines",
         "type": "scatter",
         "x": {
          "bdata": "fRPrb/kT5z8021NKHSvoPzTbU0odK+g/QJEw7Crz4z8=",
          "dtype": "f8"
         },
         "xaxis": "x",
         "y": {
          "bdata": "AAAAAAD6ecAAAAAAAPp5wAAAAAAAwHzAAAAAAADAfMA=",
          "dtype": "f8"
         },
         "yaxis": "y"
        },
        {
         "hoverinfo": "text",
         "marker": {
          "color": "rgb(255,65,54)"
         },
         "mode": "lines",
         "type": "scatter",
         "x": {
          "bdata": "NNtTSh0r6D/s+NbRSnPoP+z41tFKc+g/AAAAAAAAAAA=",
          "dtype": "f8"
         },
         "xaxis": "x",
         "y": {
          "bdata": "AAAAAABde8AAAAAAAF17wAAAAAAAsH3AAAAAAACwfcA=",
          "dtype": "f8"
         },
         "yaxis": "y"
        },
        {
         "hoverinfo": "text",
         "marker": {
          "color": "rgb(0,116,217)"
         },
         "mode": "lines",
         "type": "scatter",
         "x": {
          "bdata": "oFTEevd/9T+2EmNu4dD2P7YSY27h0PY/7PjW0Upz6D8=",
          "dtype": "f8"
         },
         "xaxis": "x",
         "y": {
          "bdata": "AAAAAAByasAAAAAAAHJqwAAAAACAhnzAAAAAAICGfMA=",
          "dtype": "f8"
         },
         "yaxis": "y"
        },
        {
         "hoverinfo": "text",
         "marker": {
          "color": "rgb(35,205,205)"
         },
         "mode": "lines",
         "type": "scatter",
         "x": {
          "bdata": "AAAAAAAAAABeo2lLmGPlP16jaUuYY+U/AAAAAAAAAAA=",
          "dtype": "f8"
         },
         "xaxis": "x",
         "y": {
          "bdata": "AAAAAABQfsAAAAAAAFB+wAAAAAAA8H7AAAAAAADwfsA=",
          "dtype": "f8"
         },
         "yaxis": "y"
        },
        {
         "hoverinfo": "text",
         "marker": {
          "color": "rgb(35,205,205)"
         },
         "mode": "lines",
         "type": "scatter",
         "x": {
          "bdata": "AAAAAAAAAAB24z4rb2bYP3bjPitvZtg/AAAAAAAAAAA=",
          "dtype": "f8"
         },
         "xaxis": "x",
         "y": {
          "bdata": "AAAAAACQf8AAAAAAAJB/wAAAAAAAGIDAAAAAAAAYgMA=",
          "dtype": "f8"
         },
         "yaxis": "y"
        },
        {
         "hoverinfo": "text",
         "marker": {
          "color": "rgb(35,205,205)"
         },
         "mode": "lines",
         "type": "scatter",
         "x": {
          "bdata": "XqNpS5hj5T/5cvp5XVjoP/ly+nldWOg/duM+K29m2D8=",
          "dtype": "f8"
         },
         "xaxis": "x",
         "y": {
          "bdata": "AAAAAACgfsAAAAAAAKB+wAAAAAAA4H/AAAAAAADgf8A=",
          "dtype": "f8"
         },
         "yaxis": "y"
        },
        {
         "hoverinfo": "text",
         "marker": {
          "color": "rgb(35,205,205)"
         },
         "mode": "lines",
         "type": "scatter",
         "x": {
          "bdata": "AAAAAAAAAADIObxPOQ7iP8g5vE85DuI/AAAAAAAAAAA=",
          "dtype": "f8"
         },
         "xaxis": "x",
         "y": {
          "bdata": "AAAAAAC4gMAAAAAAALiAwAAAAAAACIHAAAAAAAAIgcA=",
          "dtype": "f8"
         },
         "yaxis": "y"
        },
        {
         "hoverinfo": "text",
         "marker": {
          "color": "rgb(35,205,205)"
         },
         "mode": "lines",
         "type": "scatter",
         "x": {
          "bdata": "yDm8TzkO4j918702BqTkP3XzvTYGpOQ/AAAAAAAAAAA=",
          "dtype": "f8"
         },
         "xaxis": "x",
         "y": {
          "bdata": "AAAAAADggMAAAAAAAOCAwAAAAAAAWIHAAAAAAABYgcA=",
          "dtype": "f8"
         },
         "yaxis": "y"
        },
        {
         "hoverinfo": "text",
         "marker": {
          "color": "rgb(35,205,205)"
         },
         "mode": "lines",
         "type": "scatter",
         "x": {
          "bdata": "AAAAAAAAAAAOPxHkY8ToPw4/EeRjxOg/dfO9Ngak5D8=",
          "dtype": "f8"
         },
         "xaxis": "x",
         "y": {
          "bdata": "AAAAAABogMAAAAAAAGiAwAAAAAAAHIHAAAAAAAAcgcA=",
          "dtype": "f8"
         },
         "yaxis": "y"
        },
        {
         "hoverinfo": "text",
         "marker": {
          "color": "rgb(35,205,205)"
         },
         "mode": "lines",
         "type": "scatter",
         "x": {
          "bdata": "AAAAAAAAAADEPa11OBHhP8Q9rXU4EeE/AAAAAAAAAAA=",
          "dtype": "f8"
         },
         "xaxis": "x",
         "y": {
          "bdata": "AAAAAACogcAAAAAAAKiBwAAAAAAA+IHAAAAAAAD4gcA=",
          "dtype": "f8"
         },
         "yaxis": "y"
        },
        {
         "hoverinfo": "text",
         "marker": {
          "color": "rgb(35,205,205)"
         },
         "mode": "lines",
         "type": "scatter",
         "x": {
          "bdata": "Dj8R5GPE6D+HkfBVmpDrP4eR8FWakOs/xD2tdTgR4T8=",
          "dtype": "f8"
         },
         "xaxis": "x",
         "y": {
          "bdata": "AAAAAADCgMAAAAAAAMKAwAAAAAAA0IHAAAAAAADQgcA=",
          "dtype": "f8"
         },
         "yaxis": "y"
        },
        {
         "hoverinfo": "text",
         "marker": {
          "color": "rgb(35,205,205)"
         },
         "mode": "lines",
         "type": "scatter",
         "x": {
          "bdata": "+XL6eV1Y6D87webM4SfvPzvB5szhJ+8/h5HwVZqQ6z8=",
          "dtype": "f8"
         },
         "xaxis": "x",
         "y": {
          "bdata": "AAAAAABAf8AAAAAAAEB/wAAAAAAASYHAAAAAAABJgcA=",
          "dtype": "f8"
         },
         "yaxis": "y"
        },
        {
         "hoverinfo": "text",
         "marker": {
          "color": "rgb(0,116,217)"
         },
         "mode": "lines",
         "type": "scatter",
         "x": {
          "bdata": "thJjbuHQ9j8wNrAc1W/6PzA2sBzVb/o/O8HmzOEn7z8=",
          "dtype": "f8"
         },
         "xaxis": "x",
         "y": {
          "bdata": "AAAAAMDfdMAAAAAAwN90wAAAAACAdIDAAAAAAIB0gMA=",
          "dtype": "f8"
         },
         "yaxis": "y"
        },
        {
         "hoverinfo": "text",
         "marker": {
          "color": "rgb(0,116,217)"
         },
         "mode": "lines",
         "type": "scatter",
         "x": {
          "bdata": "7Mlr9lPs8z/IpIbpVCn9P8ikhulUKf0/MDawHNVv+j8=",
          "dtype": "f8"
         },
         "xaxis": "x",
         "y": {
          "bdata": "AAAAAAAgUsAAAAAAACBSwAAAAABg5HrAAAAAAGDkesA=",
          "dtype": "f8"
         },
         "yaxis": "y"
        }
       ],
       "layout": {
        "autosize": false,
        "height": 1070,
        "hoverlabel": {
         "bgcolor": "white",
         "font": {
          "family": "Rockwell",
          "size": 16
         }
        },
        "hovermode": "closest",
        "plot_bgcolor": "#ECEFF1",
        "showlegend": false,
        "template": {
         "data": {
          "bar": [
           {
            "error_x": {
             "color": "#2a3f5f"
            },
            "error_y": {
             "color": "#2a3f5f"
            },
            "marker": {
             "line": {
              "color": "white",
              "width": 0.5
             },
             "pattern": {
              "fillmode": "overlay",
              "size": 10,
              "solidity": 0.2
             }
            },
            "type": "bar"
           }
          ],
          "barpolar": [
           {
            "marker": {
             "line": {
              "color": "white",
              "width": 0.5
             },
             "pattern": {
              "fillmode": "overlay",
              "size": 10,
              "solidity": 0.2
             }
            },
            "type": "barpolar"
           }
          ],
          "carpet": [
           {
            "aaxis": {
             "endlinecolor": "#2a3f5f",
             "gridcolor": "#C8D4E3",
             "linecolor": "#C8D4E3",
             "minorgridcolor": "#C8D4E3",
             "startlinecolor": "#2a3f5f"
            },
            "baxis": {
             "endlinecolor": "#2a3f5f",
             "gridcolor": "#C8D4E3",
             "linecolor": "#C8D4E3",
             "minorgridcolor": "#C8D4E3",
             "startlinecolor": "#2a3f5f"
            },
            "type": "carpet"
           }
          ],
          "choropleth": [
           {
            "colorbar": {
             "outlinewidth": 0,
             "ticks": ""
            },
            "type": "choropleth"
           }
          ],
          "contour": [
           {
            "colorbar": {
             "outlinewidth": 0,
             "ticks": ""
            },
            "colorscale": [
             [
              0,
              "#0d0887"
             ],
             [
              0.1111111111111111,
              "#46039f"
             ],
             [
              0.2222222222222222,
              "#7201a8"
             ],
             [
              0.3333333333333333,
              "#9c179e"
             ],
             [
              0.4444444444444444,
              "#bd3786"
             ],
             [
              0.5555555555555556,
              "#d8576b"
             ],
             [
              0.6666666666666666,
              "#ed7953"
             ],
             [
              0.7777777777777778,
              "#fb9f3a"
             ],
             [
              0.8888888888888888,
              "#fdca26"
             ],
             [
              1,
              "#f0f921"
             ]
            ],
            "type": "contour"
           }
          ],
          "contourcarpet": [
           {
            "colorbar": {
             "outlinewidth": 0,
             "ticks": ""
            },
            "type": "contourcarpet"
           }
          ],
          "heatmap": [
           {
            "colorbar": {
             "outlinewidth": 0,
             "ticks": ""
            },
            "colorscale": [
             [
              0,
              "#0d0887"
             ],
             [
              0.1111111111111111,
              "#46039f"
             ],
             [
              0.2222222222222222,
              "#7201a8"
             ],
             [
              0.3333333333333333,
              "#9c179e"
             ],
             [
              0.4444444444444444,
              "#bd3786"
             ],
             [
              0.5555555555555556,
              "#d8576b"
             ],
             [
              0.6666666666666666,
              "#ed7953"
             ],
             [
              0.7777777777777778,
              "#fb9f3a"
             ],
             [
              0.8888888888888888,
              "#fdca26"
             ],
             [
              1,
              "#f0f921"
             ]
            ],
            "type": "heatmap"
           }
          ],
          "histogram": [
           {
            "marker": {
             "pattern": {
              "fillmode": "overlay",
              "size": 10,
              "solidity": 0.2
             }
            },
            "type": "histogram"
           }
          ],
          "histogram2d": [
           {
            "colorbar": {
             "outlinewidth": 0,
             "ticks": ""
            },
            "colorscale": [
             [
              0,
              "#0d0887"
             ],
             [
              0.1111111111111111,
              "#46039f"
             ],
             [
              0.2222222222222222,
              "#7201a8"
             ],
             [
              0.3333333333333333,
              "#9c179e"
             ],
             [
              0.4444444444444444,
              "#bd3786"
             ],
             [
              0.5555555555555556,
              "#d8576b"
             ],
             [
              0.6666666666666666,
              "#ed7953"
             ],
             [
              0.7777777777777778,
              "#fb9f3a"
             ],
             [
              0.8888888888888888,
              "#fdca26"
             ],
             [
              1,
              "#f0f921"
             ]
            ],
            "type": "histogram2d"
           }
          ],
          "histogram2dcontour": [
           {
            "colorbar": {
             "outlinewidth": 0,
             "ticks": ""
            },
            "colorscale": [
             [
              0,
              "#0d0887"
             ],
             [
              0.1111111111111111,
              "#46039f"
             ],
             [
              0.2222222222222222,
              "#7201a8"
             ],
             [
              0.3333333333333333,
              "#9c179e"
             ],
             [
              0.4444444444444444,
              "#bd3786"
             ],
             [
              0.5555555555555556,
              "#d8576b"
             ],
             [
              0.6666666666666666,
              "#ed7953"
             ],
             [
              0.7777777777777778,
              "#fb9f3a"
             ],
             [
              0.8888888888888888,
              "#fdca26"
             ],
             [
              1,
              "#f0f921"
             ]
            ],
            "type": "histogram2dcontour"
           }
          ],
          "mesh3d": [
           {
            "colorbar": {
             "outlinewidth": 0,
             "ticks": ""
            },
            "type": "mesh3d"
           }
          ],
          "parcoords": [
           {
            "line": {
             "colorbar": {
              "outlinewidth": 0,
              "ticks": ""
             }
            },
            "type": "parcoords"
           }
          ],
          "pie": [
           {
            "automargin": true,
            "type": "pie"
           }
          ],
          "scatter": [
           {
            "fillpattern": {
             "fillmode": "overlay",
             "size": 10,
             "solidity": 0.2
            },
            "type": "scatter"
           }
          ],
          "scatter3d": [
           {
            "line": {
             "colorbar": {
              "outlinewidth": 0,
              "ticks": ""
             }
            },
            "marker": {
             "colorbar": {
              "outlinewidth": 0,
              "ticks": ""
             }
            },
            "type": "scatter3d"
           }
          ],
          "scattercarpet": [
           {
            "marker": {
             "colorbar": {
              "outlinewidth": 0,
              "ticks": ""
             }
            },
            "type": "scattercarpet"
           }
          ],
          "scattergeo": [
           {
            "marker": {
             "colorbar": {
              "outlinewidth": 0,
              "ticks": ""
             }
            },
            "type": "scattergeo"
           }
          ],
          "scattergl": [
           {
            "marker": {
             "colorbar": {
              "outlinewidth": 0,
              "ticks": ""
             }
            },
            "type": "scattergl"
           }
          ],
          "scattermap": [
           {
            "marker": {
             "colorbar": {
              "outlinewidth": 0,
              "ticks": ""
             }
            },
            "type": "scattermap"
           }
          ],
          "scattermapbox": [
           {
            "marker": {
             "colorbar": {
              "outlinewidth": 0,
              "ticks": ""
             }
            },
            "type": "scattermapbox"
           }
          ],
          "scatterpolar": [
           {
            "marker": {
             "colorbar": {
              "outlinewidth": 0,
              "ticks": ""
             }
            },
            "type": "scatterpolar"
           }
          ],
          "scatterpolargl": [
           {
            "marker": {
             "colorbar": {
              "outlinewidth": 0,
              "ticks": ""
             }
            },
            "type": "scatterpolargl"
           }
          ],
          "scatterternary": [
           {
            "marker": {
             "colorbar": {
              "outlinewidth": 0,
              "ticks": ""
             }
            },
            "type": "scatterternary"
           }
          ],
          "surface": [
           {
            "colorbar": {
             "outlinewidth": 0,
             "ticks": ""
            },
            "colorscale": [
             [
              0,
              "#0d0887"
             ],
             [
              0.1111111111111111,
              "#46039f"
             ],
             [
              0.2222222222222222,
              "#7201a8"
             ],
             [
              0.3333333333333333,
              "#9c179e"
             ],
             [
              0.4444444444444444,
              "#bd3786"
             ],
             [
              0.5555555555555556,
              "#d8576b"
             ],
             [
              0.6666666666666666,
              "#ed7953"
             ],
             [
              0.7777777777777778,
              "#fb9f3a"
             ],
             [
              0.8888888888888888,
              "#fdca26"
             ],
             [
              1,
              "#f0f921"
             ]
            ],
            "type": "surface"
           }
          ],
          "table": [
           {
            "cells": {
             "fill": {
              "color": "#EBF0F8"
             },
             "line": {
              "color": "white"
             }
            },
            "header": {
             "fill": {
              "color": "#C8D4E3"
             },
             "line": {
              "color": "white"
             }
            },
            "type": "table"
           }
          ]
         },
         "layout": {
          "annotationdefaults": {
           "arrowcolor": "#2a3f5f",
           "arrowhead": 0,
           "arrowwidth": 1
          },
          "autotypenumbers": "strict",
          "coloraxis": {
           "colorbar": {
            "outlinewidth": 0,
            "ticks": ""
           }
          },
          "colorscale": {
           "diverging": [
            [
             0,
             "#8e0152"
            ],
            [
             0.1,
             "#c51b7d"
            ],
            [
             0.2,
             "#de77ae"
            ],
            [
             0.3,
             "#f1b6da"
            ],
            [
             0.4,
             "#fde0ef"
            ],
            [
             0.5,
             "#f7f7f7"
            ],
            [
             0.6,
             "#e6f5d0"
            ],
            [
             0.7,
             "#b8e186"
            ],
            [
             0.8,
             "#7fbc41"
            ],
            [
             0.9,
             "#4d9221"
            ],
            [
             1,
             "#276419"
            ]
           ],
           "sequential": [
            [
             0,
             "#0d0887"
            ],
            [
             0.1111111111111111,
             "#46039f"
            ],
            [
             0.2222222222222222,
             "#7201a8"
            ],
            [
             0.3333333333333333,
             "#9c179e"
            ],
            [
             0.4444444444444444,
             "#bd3786"
            ],
            [
             0.5555555555555556,
             "#d8576b"
            ],
            [
             0.6666666666666666,
             "#ed7953"
            ],
            [
             0.7777777777777778,
             "#fb9f3a"
            ],
            [
             0.8888888888888888,
             "#fdca26"
            ],
            [
             1,
             "#f0f921"
            ]
           ],
           "sequentialminus": [
            [
             0,
             "#0d0887"
            ],
            [
             0.1111111111111111,
             "#46039f"
            ],
            [
             0.2222222222222222,
             "#7201a8"
            ],
            [
             0.3333333333333333,
             "#9c179e"
            ],
            [
             0.4444444444444444,
             "#bd3786"
            ],
            [
             0.5555555555555556,
             "#d8576b"
            ],
            [
             0.6666666666666666,
             "#ed7953"
            ],
            [
             0.7777777777777778,
             "#fb9f3a"
            ],
            [
             0.8888888888888888,
             "#fdca26"
            ],
            [
             1,
             "#f0f921"
            ]
           ]
          },
          "colorway": [
           "#636efa",
           "#EF553B",
           "#00cc96",
           "#ab63fa",
           "#FFA15A",
           "#19d3f3",
           "#FF6692",
           "#B6E880",
           "#FF97FF",
           "#FECB52"
          ],
          "font": {
           "color": "#2a3f5f"
          },
          "geo": {
           "bgcolor": "white",
           "lakecolor": "white",
           "landcolor": "white",
           "showlakes": true,
           "showland": true,
           "subunitcolor": "#C8D4E3"
          },
          "hoverlabel": {
           "align": "left"
          },
          "hovermode": "closest",
          "mapbox": {
           "style": "light"
          },
          "paper_bgcolor": "white",
          "plot_bgcolor": "white",
          "polar": {
           "angularaxis": {
            "gridcolor": "#EBF0F8",
            "linecolor": "#EBF0F8",
            "ticks": ""
           },
           "bgcolor": "white",
           "radialaxis": {
            "gridcolor": "#EBF0F8",
            "linecolor": "#EBF0F8",
            "ticks": ""
           }
          },
          "scene": {
           "xaxis": {
            "backgroundcolor": "white",
            "gridcolor": "#DFE8F3",
            "gridwidth": 2,
            "linecolor": "#EBF0F8",
            "showbackground": true,
            "ticks": "",
            "zerolinecolor": "#EBF0F8"
           },
           "yaxis": {
            "backgroundcolor": "white",
            "gridcolor": "#DFE8F3",
            "gridwidth": 2,
            "linecolor": "#EBF0F8",
            "showbackground": true,
            "ticks": "",
            "zerolinecolor": "#EBF0F8"
           },
           "zaxis": {
            "backgroundcolor": "white",
            "gridcolor": "#DFE8F3",
            "gridwidth": 2,
            "linecolor": "#EBF0F8",
            "showbackground": true,
            "ticks": "",
            "zerolinecolor": "#EBF0F8"
           }
          },
          "shapedefaults": {
           "line": {
            "color": "#2a3f5f"
           }
          },
          "ternary": {
           "aaxis": {
            "gridcolor": "#DFE8F3",
            "linecolor": "#A2B1C6",
            "ticks": ""
           },
           "baxis": {
            "gridcolor": "#DFE8F3",
            "linecolor": "#A2B1C6",
            "ticks": ""
           },
           "bgcolor": "white",
           "caxis": {
            "gridcolor": "#DFE8F3",
            "linecolor": "#A2B1C6",
            "ticks": ""
           }
          },
          "title": {
           "x": 0.05
          },
          "xaxis": {
           "automargin": true,
           "gridcolor": "#EBF0F8",
           "linecolor": "#EBF0F8",
           "ticks": "",
           "title": {
            "standoff": 15
           },
           "zerolinecolor": "#EBF0F8",
           "zerolinewidth": 2
          },
          "yaxis": {
           "automargin": true,
           "gridcolor": "#EBF0F8",
           "linecolor": "#EBF0F8",
           "ticks": "",
           "title": {
            "standoff": 15
           },
           "zerolinecolor": "#EBF0F8",
           "zerolinewidth": 2
          }
         }
        },
        "title": {
         "font": {
          "color": "Black",
          "size": 22
         },
         "text": "<b>Hierarchical Clustering</b>",
         "x": 0.5,
         "xanchor": "center",
         "yanchor": "top"
        },
        "width": 1000,
        "xaxis": {
         "mirror": "allticks",
         "rangemode": "tozero",
         "showgrid": false,
         "showline": true,
         "showticklabels": true,
         "ticks": "outside",
         "type": "linear",
         "zeroline": false
        },
        "yaxis": {
         "mirror": "allticks",
         "range": [
          -580,
          0
         ],
         "rangemode": "tozero",
         "showgrid": false,
         "showline": true,
         "showticklabels": true,
         "tickmode": "array",
         "ticks": "outside",
         "ticktext": [
          "45_me_jurídico_negócio",
          "24_fiscal_nota_documento",
          "31_contador_propor_documentos",
          "41_prisão_liberais_ceplemg",
          "40_extrajudicial_título_pro...",
          "22_crédito_cessão_valor",
          "35_credor_microempresa_exti...",
          "51_citado_réu_intimado",
          "37_epp_critérios_nos",
          "29_qualificação_juizado_esp...",
          "27_porte_pequeno_juizado",
          "39_juizado_especial_porte",
          "43_juizado_099_95",
          "44_propor_juizado_nesse",
          "53_inviabilidade_financeira...",
          "1_justiça_gratuita_hipossuf...",
          "56_depósito_recursal_custas",
          "13_depósito_recursal_metade",
          "12_recurso_interposto_ordin...",
          "32_diligências_executórias_...",
          "26_diligências_débito_execu...",
          "36_pena_semiaberto_regime",
          "19_prisão_preventiva_paciente",
          "54_crime_ministério_autoria",
          "23_conselho_crmv_animais",
          "38_alimentos_provisórios_mí...",
          "57_doação_eleitoral_doações",
          "52_embargos_omissão_declara...",
          "55_citação_endereço_entregue",
          "11_licitação_edital_licitat...",
          "21_alvará_funcionamento_mun...",
          "2_taxas_complementar_taxa",
          "50_proporcional_cobrança_tipo",
          "15_juros_capitalização_banco",
          "7_personalidade_jurídica_de...",
          "34_833_bens_exercício",
          "42_valores_conta_penhora",
          "25_icms_cobrança_difal",
          "4_nacional_simples_regime",
          "48_ciacaps_atualizacao_capa...",
          "17_plano_saúde_operadora",
          "33_linha_telefonia_operadora",
          "6_conta_danos_morais",
          "9_nome_danos_morais",
          "3_jucesp_registro_junta",
          "0_trabalhador_vínculo_verbas",
          "46_00_000_autor",
          "28_acidente_danos_cessantes",
          "5_desemprego_seguro_renda",
          "16_emergencial_auxílio_fami...",
          "18_deficiência_assistencial...",
          "47_benefício_inss_deficiência",
          "20_falecido_morte_pensão",
          "30_segurada_facultativa_baixa",
          "10_incapacidade_doença_auxí...",
          "14_maternidade_salário_inss",
          "8_tempo_aposentadoria_contr...",
          "49_rural_idade_aposentadoria"
         ],
         "tickvals": [
          -5,
          -15,
          -25,
          -35,
          -45,
          -55,
          -65,
          -75,
          -85,
          -95,
          -105,
          -115,
          -125,
          -135,
          -145,
          -155,
          -165,
          -175,
          -185,
          -195,
          -205,
          -215,
          -225,
          -235,
          -245,
          -255,
          -265,
          -275,
          -285,
          -295,
          -305,
          -315,
          -325,
          -335,
          -345,
          -355,
          -365,
          -375,
          -385,
          -395,
          -405,
          -415,
          -425,
          -435,
          -445,
          -455,
          -465,
          -475,
          -485,
          -495,
          -505,
          -515,
          -525,
          -535,
          -545,
          -555,
          -565,
          -575
         ],
         "type": "linear",
         "zeroline": false
        }
       }
      }
     },
     "metadata": {},
     "output_type": "display_data"
    }
   ],
   "source": [
    "topic_model.visualize_hierarchy()"
   ]
  },
  {
   "cell_type": "code",
   "execution_count": 152,
   "id": "280ac3b1-5491-4c30-9af7-235bd3c248a8",
   "metadata": {},
   "outputs": [
    {
     "data": {
      "text/html": [
       "<div>\n",
       "<style scoped>\n",
       "    .dataframe tbody tr th:only-of-type {\n",
       "        vertical-align: middle;\n",
       "    }\n",
       "\n",
       "    .dataframe tbody tr th {\n",
       "        vertical-align: top;\n",
       "    }\n",
       "\n",
       "    .dataframe thead th {\n",
       "        text-align: right;\n",
       "    }\n",
       "</style>\n",
       "<table border=\"1\" class=\"dataframe\">\n",
       "  <thead>\n",
       "    <tr style=\"text-align: right;\">\n",
       "      <th></th>\n",
       "      <th>Topic</th>\n",
       "      <th>Count</th>\n",
       "      <th>Name</th>\n",
       "      <th>CustomName</th>\n",
       "      <th>Representation</th>\n",
       "      <th>Representative_Docs</th>\n",
       "    </tr>\n",
       "  </thead>\n",
       "  <tbody>\n",
       "    <tr>\n",
       "      <th>0</th>\n",
       "      <td>-1</td>\n",
       "      <td>3779</td>\n",
       "      <td>-1_de_foi_se_do</td>\n",
       "      <td>Tópico indefinido</td>\n",
       "      <td>[de, foi, se, do, da, uma, que, para, um, mei]</td>\n",
       "      <td>[Um MEI entrou com uma ação contra um empregad...</td>\n",
       "    </tr>\n",
       "    <tr>\n",
       "      <th>1</th>\n",
       "      <td>0</td>\n",
       "      <td>2733</td>\n",
       "      <td>0_trabalhador_vínculo_verbas_empregatício</td>\n",
       "      <td>Vínculo Empregatício</td>\n",
       "      <td>[trabalhador, vínculo, verbas, empregatício, t...</td>\n",
       "      <td>[Um trabalhador entrou com uma ação trabalhist...</td>\n",
       "    </tr>\n",
       "    <tr>\n",
       "      <th>2</th>\n",
       "      <td>1</td>\n",
       "      <td>999</td>\n",
       "      <td>1_justiça_gratuita_hipossuficiência_financeira</td>\n",
       "      <td>Justiça Gratuita</td>\n",
       "      <td>[justiça, gratuita, hipossuficiência, financei...</td>\n",
       "      <td>[Um Microempreendedor Individual (MEI) entrou ...</td>\n",
       "    </tr>\n",
       "    <tr>\n",
       "      <th>3</th>\n",
       "      <td>2</td>\n",
       "      <td>456</td>\n",
       "      <td>2_taxas_complementar_taxa_lei</td>\n",
       "      <td>Isenção de Taxas para MEIs</td>\n",
       "      <td>[taxas, complementar, taxa, lei, isenção, muni...</td>\n",
       "      <td>[Um MEI (Microempreendedor Individual) entrou ...</td>\n",
       "    </tr>\n",
       "    <tr>\n",
       "      <th>4</th>\n",
       "      <td>3</td>\n",
       "      <td>364</td>\n",
       "      <td>3_jucesp_registro_junta_comercial</td>\n",
       "      <td>Fraude Empresarial</td>\n",
       "      <td>[jucesp, registro, junta, comercial, estado, f...</td>\n",
       "      <td>[Um indivíduo entrou com uma ação contra a Jun...</td>\n",
       "    </tr>\n",
       "    <tr>\n",
       "      <th>5</th>\n",
       "      <td>4</td>\n",
       "      <td>340</td>\n",
       "      <td>4_nacional_simples_regime_adesão</td>\n",
       "      <td>Adeção ao Simples Nacional</td>\n",
       "      <td>[nacional, simples, regime, adesão, tributário...</td>\n",
       "      <td>[A J &amp; E Aguiar Serviços e Equipamentos Ltda -...</td>\n",
       "    </tr>\n",
       "    <tr>\n",
       "      <th>6</th>\n",
       "      <td>5</td>\n",
       "      <td>275</td>\n",
       "      <td>5_desemprego_seguro_renda_união</td>\n",
       "      <td>Seguro-Desemprego e Renda</td>\n",
       "      <td>[desemprego, seguro, renda, união, própria, be...</td>\n",
       "      <td>[A União recorreu contra uma sentença que julg...</td>\n",
       "    </tr>\n",
       "    <tr>\n",
       "      <th>7</th>\n",
       "      <td>6</td>\n",
       "      <td>213</td>\n",
       "      <td>6_conta_danos_morais_valores</td>\n",
       "      <td>Problemas Bancários</td>\n",
       "      <td>[conta, danos, morais, valores, banco, indeniz...</td>\n",
       "      <td>[Um microempreendedor individual (MEI) entrou ...</td>\n",
       "    </tr>\n",
       "    <tr>\n",
       "      <th>8</th>\n",
       "      <td>7</td>\n",
       "      <td>203</td>\n",
       "      <td>7_personalidade_jurídica_desconsideração_bens</td>\n",
       "      <td>Confusão Patrimonial MEI</td>\n",
       "      <td>[personalidade, jurídica, desconsideração, ben...</td>\n",
       "      <td>[Um empresário individual (MEI) entrou com um ...</td>\n",
       "    </tr>\n",
       "    <tr>\n",
       "      <th>9</th>\n",
       "      <td>8</td>\n",
       "      <td>202</td>\n",
       "      <td>8_tempo_aposentadoria_contribuição_períodos</td>\n",
       "      <td>Contribuições e Aposentadoria</td>\n",
       "      <td>[tempo, aposentadoria, contribuição, períodos,...</td>\n",
       "      <td>[O autor, um MEI, entrou com um recurso contra...</td>\n",
       "    </tr>\n",
       "    <tr>\n",
       "      <th>10</th>\n",
       "      <td>9</td>\n",
       "      <td>202</td>\n",
       "      <td>9_nome_danos_morais_seu</td>\n",
       "      <td>Negativação Indevida</td>\n",
       "      <td>[nome, danos, morais, seu, inadimplentes, inde...</td>\n",
       "      <td>[Um profissional autônomo ajuizou uma ação con...</td>\n",
       "    </tr>\n",
       "    <tr>\n",
       "      <th>11</th>\n",
       "      <td>10</td>\n",
       "      <td>179</td>\n",
       "      <td>10_incapacidade_doença_auxílio_segurado</td>\n",
       "      <td>Benefícios Previdenciários</td>\n",
       "      <td>[incapacidade, doença, auxílio, segurado, bene...</td>\n",
       "      <td>[Uma pessoa entrou com uma ação contra o Insti...</td>\n",
       "    </tr>\n",
       "    <tr>\n",
       "      <th>12</th>\n",
       "      <td>11</td>\n",
       "      <td>133</td>\n",
       "      <td>11_licitação_edital_licitatório_pregão</td>\n",
       "      <td>Irregularidades em Licitações</td>\n",
       "      <td>[licitação, edital, licitatório, pregão, certa...</td>\n",
       "      <td>[A Prefeitura Municipal de Desterro do Melo pu...</td>\n",
       "    </tr>\n",
       "    <tr>\n",
       "      <th>13</th>\n",
       "      <td>12</td>\n",
       "      <td>106</td>\n",
       "      <td>12_recurso_interposto_ordinário_parte</td>\n",
       "      <td>Recursos Trabalhistas</td>\n",
       "      <td>[recurso, interposto, ordinário, parte, depósi...</td>\n",
       "      <td>[O processo trata de um recurso ordinário inte...</td>\n",
       "    </tr>\n",
       "    <tr>\n",
       "      <th>14</th>\n",
       "      <td>13</td>\n",
       "      <td>95</td>\n",
       "      <td>13_depósito_recursal_metade_redução</td>\n",
       "      <td>Redução de Depósito Recursal</td>\n",
       "      <td>[depósito, recursal, metade, redução, valor, 8...</td>\n",
       "      <td>[Uma empresa de pequeno porte entrou com um re...</td>\n",
       "    </tr>\n",
       "    <tr>\n",
       "      <th>15</th>\n",
       "      <td>14</td>\n",
       "      <td>91</td>\n",
       "      <td>14_maternidade_salário_inss_benefício</td>\n",
       "      <td>Salário-Maternidade INSS</td>\n",
       "      <td>[maternidade, salário, inss, benefício, mulher...</td>\n",
       "      <td>[Uma mulher, que trabalha como costureira e é ...</td>\n",
       "    </tr>\n",
       "    <tr>\n",
       "      <th>16</th>\n",
       "      <td>15</td>\n",
       "      <td>87</td>\n",
       "      <td>15_juros_capitalização_banco_bndes</td>\n",
       "      <td>Juros e Cobrança</td>\n",
       "      <td>[juros, capitalização, banco, bndes, comissão,...</td>\n",
       "      <td>[O caso envolveu uma ação de revisão de cláusu...</td>\n",
       "    </tr>\n",
       "    <tr>\n",
       "      <th>17</th>\n",
       "      <td>16</td>\n",
       "      <td>81</td>\n",
       "      <td>16_emergencial_auxílio_familiar_união</td>\n",
       "      <td>Auxílio Emergencial</td>\n",
       "      <td>[emergencial, auxílio, familiar, união, recebe...</td>\n",
       "      <td>[Uma pessoa entrou com um recurso contra uma s...</td>\n",
       "    </tr>\n",
       "    <tr>\n",
       "      <th>18</th>\n",
       "      <td>17</td>\n",
       "      <td>79</td>\n",
       "      <td>17_plano_saúde_operadora_contrato</td>\n",
       "      <td>Problemas com Planos de Saúde</td>\n",
       "      <td>[plano, saúde, operadora, contrato, cancelamen...</td>\n",
       "      <td>[Um microempreendedor individual (MEI) e sua e...</td>\n",
       "    </tr>\n",
       "    <tr>\n",
       "      <th>19</th>\n",
       "      <td>18</td>\n",
       "      <td>73</td>\n",
       "      <td>18_deficiência_assistencial_benefício_família</td>\n",
       "      <td>Benefícios para Deficientes</td>\n",
       "      <td>[deficiência, assistencial, benefício, família...</td>\n",
       "      <td>[Uma pessoa entrou com um recurso contra uma d...</td>\n",
       "    </tr>\n",
       "    <tr>\n",
       "      <th>20</th>\n",
       "      <td>19</td>\n",
       "      <td>67</td>\n",
       "      <td>19_prisão_preventiva_paciente_preso</td>\n",
       "      <td>Liberdade Provisória</td>\n",
       "      <td>[prisão, preventiva, paciente, preso, habeas, ...</td>\n",
       "      <td>[Um advogado impetrou um habeas corpus em favo...</td>\n",
       "    </tr>\n",
       "    <tr>\n",
       "      <th>21</th>\n",
       "      <td>20</td>\n",
       "      <td>58</td>\n",
       "      <td>20_falecido_morte_pensão_óbito</td>\n",
       "      <td>Pensão por Morte</td>\n",
       "      <td>[falecido, morte, pensão, óbito, segurado, qua...</td>\n",
       "      <td>[Uma pessoa entrou com uma ação previdenciária...</td>\n",
       "    </tr>\n",
       "    <tr>\n",
       "      <th>22</th>\n",
       "      <td>21</td>\n",
       "      <td>53</td>\n",
       "      <td>21_alvará_funcionamento_municipal_licença</td>\n",
       "      <td>Licenciamento MEI</td>\n",
       "      <td>[alvará, funcionamento, municipal, licença, es...</td>\n",
       "      <td>[Uma pessoa entrou com um mandado de segurança...</td>\n",
       "    </tr>\n",
       "    <tr>\n",
       "      <th>23</th>\n",
       "      <td>22</td>\n",
       "      <td>52</td>\n",
       "      <td>22_crédito_cessão_valor_instituição</td>\n",
       "      <td>Cobrança de Dívidas Escolares</td>\n",
       "      <td>[crédito, cessão, valor, instituição, escolare...</td>\n",
       "      <td>[Um microempreendedor individual (MEI) entrou ...</td>\n",
       "    </tr>\n",
       "    <tr>\n",
       "      <th>24</th>\n",
       "      <td>23</td>\n",
       "      <td>50</td>\n",
       "      <td>23_conselho_crmv_animais_medicina</td>\n",
       "      <td>Registro Veterinário</td>\n",
       "      <td>[conselho, crmv, animais, medicina, veterinári...</td>\n",
       "      <td>[Uma pessoa jurídica entrou com um processo pe...</td>\n",
       "    </tr>\n",
       "    <tr>\n",
       "      <th>25</th>\n",
       "      <td>24</td>\n",
       "      <td>48</td>\n",
       "      <td>24_fiscal_nota_documento_negócio</td>\n",
       "      <td>Documentação Judicial</td>\n",
       "      <td>[fiscal, nota, documento, negócio, jurídico, a...</td>\n",
       "      <td>[Uma microempresa (ME) ajuizou uma ação de cob...</td>\n",
       "    </tr>\n",
       "    <tr>\n",
       "      <th>26</th>\n",
       "      <td>25</td>\n",
       "      <td>47</td>\n",
       "      <td>25_icms_cobrança_difal_estadual</td>\n",
       "      <td>Cobrança de ICMS DIFAL</td>\n",
       "      <td>[icms, cobrança, difal, estadual, simples, dif...</td>\n",
       "      <td>[Uma empresa MEI (Microempreendedor Individual...</td>\n",
       "    </tr>\n",
       "    <tr>\n",
       "      <th>27</th>\n",
       "      <td>26</td>\n",
       "      <td>47</td>\n",
       "      <td>26_diligências_débito_executórias_confusão</td>\n",
       "      <td>Cobrança de Débitos</td>\n",
       "      <td>[diligências, débito, executórias, confusão, p...</td>\n",
       "      <td>[Um trabalhador entrou com uma reclamação trab...</td>\n",
       "    </tr>\n",
       "    <tr>\n",
       "      <th>28</th>\n",
       "      <td>27</td>\n",
       "      <td>45</td>\n",
       "      <td>27_porte_pequeno_juizado_especial</td>\n",
       "      <td>Competência Juizados Especiais</td>\n",
       "      <td>[porte, pequeno, juizado, especial, microempre...</td>\n",
       "      <td>[Uma empresa entrou com uma ação de cobrança c...</td>\n",
       "    </tr>\n",
       "    <tr>\n",
       "      <th>29</th>\n",
       "      <td>28</td>\n",
       "      <td>36</td>\n",
       "      <td>28_acidente_danos_cessantes_lucros</td>\n",
       "      <td>Acidentes de Trânsito</td>\n",
       "      <td>[acidente, danos, cessantes, lucros, materiais...</td>\n",
       "      <td>[Um microempreendedor individual (MEI) entrou ...</td>\n",
       "    </tr>\n",
       "    <tr>\n",
       "      <th>30</th>\n",
       "      <td>29</td>\n",
       "      <td>36</td>\n",
       "      <td>29_qualificação_juizado_especial_tributária</td>\n",
       "      <td>Legitimidade Judicial</td>\n",
       "      <td>[qualificação, juizado, especial, tributária, ...</td>\n",
       "      <td>[Um MEI entrou com uma ação de cobrança contra...</td>\n",
       "    </tr>\n",
       "    <tr>\n",
       "      <th>31</th>\n",
       "      <td>30</td>\n",
       "      <td>35</td>\n",
       "      <td>30_segurada_facultativa_baixa_renda</td>\n",
       "      <td>Classificação de Segurados</td>\n",
       "      <td>[segurada, facultativa, baixa, renda, autora, ...</td>\n",
       "      <td>[Uma pessoa entrou com um pedido de auxílio-do...</td>\n",
       "    </tr>\n",
       "    <tr>\n",
       "      <th>32</th>\n",
       "      <td>31</td>\n",
       "      <td>34</td>\n",
       "      <td>31_contador_propor_documentos_nota</td>\n",
       "      <td>Documentação Judicial</td>\n",
       "      <td>[contador, propor, documentos, nota, juizados,...</td>\n",
       "      <td>[Um MEI tentou propor uma ação judicial, mas n...</td>\n",
       "    </tr>\n",
       "    <tr>\n",
       "      <th>33</th>\n",
       "      <td>32</td>\n",
       "      <td>34</td>\n",
       "      <td>32_diligências_executórias_débito_expropriatórias</td>\n",
       "      <td>Cobrança de Débitos</td>\n",
       "      <td>[diligências, executórias, débito, expropriató...</td>\n",
       "      <td>[O processo envolve uma reclamação trabalhista...</td>\n",
       "    </tr>\n",
       "    <tr>\n",
       "      <th>34</th>\n",
       "      <td>33</td>\n",
       "      <td>31</td>\n",
       "      <td>33_linha_telefonia_operadora_danos</td>\n",
       "      <td>Problemas com Operadoras de Telefonia</td>\n",
       "      <td>[linha, telefonia, operadora, danos, morais, e...</td>\n",
       "      <td>[Um MEI entrou com uma ação contra uma empresa...</td>\n",
       "    </tr>\n",
       "    <tr>\n",
       "      <th>35</th>\n",
       "      <td>34</td>\n",
       "      <td>31</td>\n",
       "      <td>34_833_bens_exercício_impenhorabilidade</td>\n",
       "      <td>Impenhorabilidade de Bens Profissionais</td>\n",
       "      <td>[833, bens, exercício, impenhorabilidade, cpc,...</td>\n",
       "      <td>[Um agravo de petição foi apresentado question...</td>\n",
       "    </tr>\n",
       "    <tr>\n",
       "      <th>36</th>\n",
       "      <td>35</td>\n",
       "      <td>30</td>\n",
       "      <td>35_credor_microempresa_extinção_cessionário</td>\n",
       "      <td>Legitimidade em Execuções</td>\n",
       "      <td>[credor, microempresa, extinção, cessionário, ...</td>\n",
       "      <td>[Um credor, que alegava ser titular de uma mic...</td>\n",
       "    </tr>\n",
       "    <tr>\n",
       "      <th>37</th>\n",
       "      <td>36</td>\n",
       "      <td>27</td>\n",
       "      <td>36_pena_semiaberto_regime_apenado</td>\n",
       "      <td>Trabalho Externo em Regime Semiaberto</td>\n",
       "      <td>[pena, semiaberto, regime, apenado, externo, c...</td>\n",
       "      <td>[Um indivíduo chamado Antônio Neil Armstrong F...</td>\n",
       "    </tr>\n",
       "    <tr>\n",
       "      <th>38</th>\n",
       "      <td>37</td>\n",
       "      <td>26</td>\n",
       "      <td>37_epp_critérios_nos_enquadrava</td>\n",
       "      <td>Enquadramento para Juizado Especial</td>\n",
       "      <td>[epp, critérios, nos, enquadrava, cível, parte...</td>\n",
       "      <td>[A parte autora entrou com uma ação de obrigaç...</td>\n",
       "    </tr>\n",
       "    <tr>\n",
       "      <th>39</th>\n",
       "      <td>38</td>\n",
       "      <td>24</td>\n",
       "      <td>38_alimentos_provisórios_mínimo_pai</td>\n",
       "      <td>Redução de Alimentos</td>\n",
       "      <td>[alimentos, provisórios, mínimo, pai, filha, v...</td>\n",
       "      <td>[Um pai entrou com um agravo de instrumento co...</td>\n",
       "    </tr>\n",
       "    <tr>\n",
       "      <th>40</th>\n",
       "      <td>39</td>\n",
       "      <td>23</td>\n",
       "      <td>39_juizado_especial_porte_pequeno</td>\n",
       "      <td>Legitimidade nos Juizados Especiais</td>\n",
       "      <td>[juizado, especial, porte, pequeno, ltda, empr...</td>\n",
       "      <td>[Duas pessoas, incluindo uma empresa chamada R...</td>\n",
       "    </tr>\n",
       "    <tr>\n",
       "      <th>41</th>\n",
       "      <td>40</td>\n",
       "      <td>18</td>\n",
       "      <td>40_extrajudicial_título_protesto_execução</td>\n",
       "      <td>Execução de Títulos</td>\n",
       "      <td>[extrajudicial, título, protesto, execução, in...</td>\n",
       "      <td>[Um MEI (Microempreendedor Individual) entrou ...</td>\n",
       "    </tr>\n",
       "    <tr>\n",
       "      <th>42</th>\n",
       "      <td>41</td>\n",
       "      <td>17</td>\n",
       "      <td>41_prisão_liberais_ceplemg_preso</td>\n",
       "      <td>Processos de MEI Preso</td>\n",
       "      <td>[prisão, liberais, ceplemg, preso, convênio, p...</td>\n",
       "      <td>[Um MEI, sob o nome fantasia de CEPLEMG CONVÊN...</td>\n",
       "    </tr>\n",
       "    <tr>\n",
       "      <th>43</th>\n",
       "      <td>42</td>\n",
       "      <td>17</td>\n",
       "      <td>42_valores_conta_penhora_impenhoráveis</td>\n",
       "      <td>Impenhorabilidade de Valores</td>\n",
       "      <td>[valores, conta, penhora, impenhoráveis, bloqu...</td>\n",
       "      <td>[Um microempreendedor individual (MEI) entrou ...</td>\n",
       "    </tr>\n",
       "    <tr>\n",
       "      <th>44</th>\n",
       "      <td>43</td>\n",
       "      <td>17</td>\n",
       "      <td>43_juizado_099_95_especial</td>\n",
       "      <td>Competência Juizados Especiais</td>\n",
       "      <td>[juizado, 099, 95, especial, sociedades, oscip...</td>\n",
       "      <td>[Uma empresa entrou com um processo no Juizado...</td>\n",
       "    </tr>\n",
       "    <tr>\n",
       "      <th>45</th>\n",
       "      <td>44</td>\n",
       "      <td>15</td>\n",
       "      <td>44_propor_juizado_nesse_ações</td>\n",
       "      <td>Legitimidade no Juizado Especial</td>\n",
       "      <td>[propor, juizado, nesse, ações, lei, autorizad...</td>\n",
       "      <td>[Uma pessoa jurídica entrou com uma ação de co...</td>\n",
       "    </tr>\n",
       "    <tr>\n",
       "      <th>46</th>\n",
       "      <td>45</td>\n",
       "      <td>15</td>\n",
       "      <td>45_me_jurídico_negócio_instituição</td>\n",
       "      <td>Cobrança sem Nota Fiscal</td>\n",
       "      <td>[me, jurídico, negócio, instituição, nota, con...</td>\n",
       "      <td>[Uma microempresa (ME) entrou com uma ação de ...</td>\n",
       "    </tr>\n",
       "    <tr>\n",
       "      <th>47</th>\n",
       "      <td>46</td>\n",
       "      <td>15</td>\n",
       "      <td>46_00_000_autor_serviço</td>\n",
       "      <td>Desconto de Pagamento</td>\n",
       "      <td>[00, 000, autor, serviço, pagou, cliente, serv...</td>\n",
       "      <td>[Um microempreendedor individual (MEI) que atu...</td>\n",
       "    </tr>\n",
       "    <tr>\n",
       "      <th>48</th>\n",
       "      <td>47</td>\n",
       "      <td>15</td>\n",
       "      <td>47_benefício_inss_deficiência_assistencial</td>\n",
       "      <td>Benefícios Assistenciais</td>\n",
       "      <td>[benefício, inss, deficiência, assistencial, m...</td>\n",
       "      <td>[O autor, um MEI, entrou com uma ação contra o...</td>\n",
       "    </tr>\n",
       "    <tr>\n",
       "      <th>49</th>\n",
       "      <td>48</td>\n",
       "      <td>15</td>\n",
       "      <td>48_ciacaps_atualizacao_capacitacao_integrado</td>\n",
       "      <td>Legitimidade Judicial</td>\n",
       "      <td>[ciacaps, atualizacao, capacitacao, integrado,...</td>\n",
       "      <td>[A empresa CIACAPS - CENTRO INTEGRADO DE ATUAL...</td>\n",
       "    </tr>\n",
       "    <tr>\n",
       "      <th>50</th>\n",
       "      <td>49</td>\n",
       "      <td>13</td>\n",
       "      <td>49_rural_idade_aposentadoria_inss</td>\n",
       "      <td>Aposentadoria Rural</td>\n",
       "      <td>[rural, idade, aposentadoria, inss, agricultur...</td>\n",
       "      <td>[Um trabalhador rural entrou com um pedido de ...</td>\n",
       "    </tr>\n",
       "    <tr>\n",
       "      <th>51</th>\n",
       "      <td>50</td>\n",
       "      <td>13</td>\n",
       "      <td>50_proporcional_cobrança_tipo_previstas</td>\n",
       "      <td>Cobrança Indevida</td>\n",
       "      <td>[proporcional, cobrança, tipo, previstas, lega...</td>\n",
       "      <td>[Um MEI entrou com uma ação contra o município...</td>\n",
       "    </tr>\n",
       "    <tr>\n",
       "      <th>52</th>\n",
       "      <td>51</td>\n",
       "      <td>12</td>\n",
       "      <td>51_citado_réu_intimado_compareceu</td>\n",
       "      <td>Dívida e Conciliação</td>\n",
       "      <td>[citado, réu, intimado, compareceu, audiência,...</td>\n",
       "      <td>[Um Microempreendedor Individual (MEI) entrou ...</td>\n",
       "    </tr>\n",
       "    <tr>\n",
       "      <th>53</th>\n",
       "      <td>52</td>\n",
       "      <td>12</td>\n",
       "      <td>52_embargos_omissão_declaração_acórdão</td>\n",
       "      <td>Embargos de Declaração</td>\n",
       "      <td>[embargos, omissão, declaração, acórdão, contr...</td>\n",
       "      <td>[O caso trata de embargos de declaração interp...</td>\n",
       "    </tr>\n",
       "    <tr>\n",
       "      <th>54</th>\n",
       "      <td>53</td>\n",
       "      <td>12</td>\n",
       "      <td>53_inviabilidade_financeira_gratuidade_movimen...</td>\n",
       "      <td>Gratuidade de Justiça</td>\n",
       "      <td>[inviabilidade, financeira, gratuidade, movime...</td>\n",
       "      <td>[Um processo pediu a gratuidade de justiça par...</td>\n",
       "    </tr>\n",
       "    <tr>\n",
       "      <th>55</th>\n",
       "      <td>54</td>\n",
       "      <td>12</td>\n",
       "      <td>54_crime_ministério_autoria_público</td>\n",
       "      <td>Crimes e Provas</td>\n",
       "      <td>[crime, ministério, autoria, público, provas, ...</td>\n",
       "      <td>[O Ministério Público do Estado do Rio de Jane...</td>\n",
       "    </tr>\n",
       "    <tr>\n",
       "      <th>56</th>\n",
       "      <td>55</td>\n",
       "      <td>12</td>\n",
       "      <td>55_citação_endereço_entregue_postal</td>\n",
       "      <td>Citação Válida</td>\n",
       "      <td>[citação, endereço, entregue, postal, válida, ...</td>\n",
       "      <td>[Um Empresário Individual (EI) entrou com uma ...</td>\n",
       "    </tr>\n",
       "    <tr>\n",
       "      <th>57</th>\n",
       "      <td>56</td>\n",
       "      <td>11</td>\n",
       "      <td>56_depósito_recursal_custas_ordinário</td>\n",
       "      <td>Justiça Gratuita para Recursos</td>\n",
       "      <td>[depósito, recursal, custas, ordinário, recurs...</td>\n",
       "      <td>[Duas empresas, uma MEI e outra representada p...</td>\n",
       "    </tr>\n",
       "    <tr>\n",
       "      <th>58</th>\n",
       "      <td>57</td>\n",
       "      <td>10</td>\n",
       "      <td>57_doação_eleitoral_doações_limite</td>\n",
       "      <td>Doações Eleitorais</td>\n",
       "      <td>[doação, eleitoral, doações, limite, acima, ca...</td>\n",
       "      <td>[O Ministério Público Eleitoral recorreu contr...</td>\n",
       "    </tr>\n",
       "  </tbody>\n",
       "</table>\n",
       "</div>"
      ],
      "text/plain": [
       "    Topic  Count                                               Name  \\\n",
       "0      -1   3779                                    -1_de_foi_se_do   \n",
       "1       0   2733          0_trabalhador_vínculo_verbas_empregatício   \n",
       "2       1    999     1_justiça_gratuita_hipossuficiência_financeira   \n",
       "3       2    456                      2_taxas_complementar_taxa_lei   \n",
       "4       3    364                  3_jucesp_registro_junta_comercial   \n",
       "5       4    340                   4_nacional_simples_regime_adesão   \n",
       "6       5    275                    5_desemprego_seguro_renda_união   \n",
       "7       6    213                       6_conta_danos_morais_valores   \n",
       "8       7    203      7_personalidade_jurídica_desconsideração_bens   \n",
       "9       8    202        8_tempo_aposentadoria_contribuição_períodos   \n",
       "10      9    202                            9_nome_danos_morais_seu   \n",
       "11     10    179            10_incapacidade_doença_auxílio_segurado   \n",
       "12     11    133             11_licitação_edital_licitatório_pregão   \n",
       "13     12    106              12_recurso_interposto_ordinário_parte   \n",
       "14     13     95                13_depósito_recursal_metade_redução   \n",
       "15     14     91              14_maternidade_salário_inss_benefício   \n",
       "16     15     87                 15_juros_capitalização_banco_bndes   \n",
       "17     16     81              16_emergencial_auxílio_familiar_união   \n",
       "18     17     79                  17_plano_saúde_operadora_contrato   \n",
       "19     18     73      18_deficiência_assistencial_benefício_família   \n",
       "20     19     67                19_prisão_preventiva_paciente_preso   \n",
       "21     20     58                     20_falecido_morte_pensão_óbito   \n",
       "22     21     53          21_alvará_funcionamento_municipal_licença   \n",
       "23     22     52                22_crédito_cessão_valor_instituição   \n",
       "24     23     50                  23_conselho_crmv_animais_medicina   \n",
       "25     24     48                   24_fiscal_nota_documento_negócio   \n",
       "26     25     47                    25_icms_cobrança_difal_estadual   \n",
       "27     26     47         26_diligências_débito_executórias_confusão   \n",
       "28     27     45                  27_porte_pequeno_juizado_especial   \n",
       "29     28     36                 28_acidente_danos_cessantes_lucros   \n",
       "30     29     36        29_qualificação_juizado_especial_tributária   \n",
       "31     30     35                30_segurada_facultativa_baixa_renda   \n",
       "32     31     34                 31_contador_propor_documentos_nota   \n",
       "33     32     34  32_diligências_executórias_débito_expropriatórias   \n",
       "34     33     31                 33_linha_telefonia_operadora_danos   \n",
       "35     34     31            34_833_bens_exercício_impenhorabilidade   \n",
       "36     35     30        35_credor_microempresa_extinção_cessionário   \n",
       "37     36     27                  36_pena_semiaberto_regime_apenado   \n",
       "38     37     26                    37_epp_critérios_nos_enquadrava   \n",
       "39     38     24                38_alimentos_provisórios_mínimo_pai   \n",
       "40     39     23                  39_juizado_especial_porte_pequeno   \n",
       "41     40     18          40_extrajudicial_título_protesto_execução   \n",
       "42     41     17                   41_prisão_liberais_ceplemg_preso   \n",
       "43     42     17             42_valores_conta_penhora_impenhoráveis   \n",
       "44     43     17                         43_juizado_099_95_especial   \n",
       "45     44     15                      44_propor_juizado_nesse_ações   \n",
       "46     45     15                 45_me_jurídico_negócio_instituição   \n",
       "47     46     15                            46_00_000_autor_serviço   \n",
       "48     47     15         47_benefício_inss_deficiência_assistencial   \n",
       "49     48     15       48_ciacaps_atualizacao_capacitacao_integrado   \n",
       "50     49     13                  49_rural_idade_aposentadoria_inss   \n",
       "51     50     13            50_proporcional_cobrança_tipo_previstas   \n",
       "52     51     12                  51_citado_réu_intimado_compareceu   \n",
       "53     52     12             52_embargos_omissão_declaração_acórdão   \n",
       "54     53     12  53_inviabilidade_financeira_gratuidade_movimen...   \n",
       "55     54     12                54_crime_ministério_autoria_público   \n",
       "56     55     12                55_citação_endereço_entregue_postal   \n",
       "57     56     11              56_depósito_recursal_custas_ordinário   \n",
       "58     57     10                 57_doação_eleitoral_doações_limite   \n",
       "\n",
       "                                 CustomName  \\\n",
       "0                         Tópico indefinido   \n",
       "1                      Vínculo Empregatício   \n",
       "2                          Justiça Gratuita   \n",
       "3                Isenção de Taxas para MEIs   \n",
       "4                        Fraude Empresarial   \n",
       "5                Adeção ao Simples Nacional   \n",
       "6                 Seguro-Desemprego e Renda   \n",
       "7                       Problemas Bancários   \n",
       "8                  Confusão Patrimonial MEI   \n",
       "9             Contribuições e Aposentadoria   \n",
       "10                     Negativação Indevida   \n",
       "11               Benefícios Previdenciários   \n",
       "12            Irregularidades em Licitações   \n",
       "13                    Recursos Trabalhistas   \n",
       "14             Redução de Depósito Recursal   \n",
       "15                 Salário-Maternidade INSS   \n",
       "16                         Juros e Cobrança   \n",
       "17                      Auxílio Emergencial   \n",
       "18            Problemas com Planos de Saúde   \n",
       "19              Benefícios para Deficientes   \n",
       "20                     Liberdade Provisória   \n",
       "21                         Pensão por Morte   \n",
       "22                        Licenciamento MEI   \n",
       "23            Cobrança de Dívidas Escolares   \n",
       "24                     Registro Veterinário   \n",
       "25                    Documentação Judicial   \n",
       "26                   Cobrança de ICMS DIFAL   \n",
       "27                      Cobrança de Débitos   \n",
       "28           Competência Juizados Especiais   \n",
       "29                    Acidentes de Trânsito   \n",
       "30                    Legitimidade Judicial   \n",
       "31               Classificação de Segurados   \n",
       "32                    Documentação Judicial   \n",
       "33                      Cobrança de Débitos   \n",
       "34    Problemas com Operadoras de Telefonia   \n",
       "35  Impenhorabilidade de Bens Profissionais   \n",
       "36                Legitimidade em Execuções   \n",
       "37    Trabalho Externo em Regime Semiaberto   \n",
       "38      Enquadramento para Juizado Especial   \n",
       "39                     Redução de Alimentos   \n",
       "40      Legitimidade nos Juizados Especiais   \n",
       "41                      Execução de Títulos   \n",
       "42                   Processos de MEI Preso   \n",
       "43             Impenhorabilidade de Valores   \n",
       "44           Competência Juizados Especiais   \n",
       "45         Legitimidade no Juizado Especial   \n",
       "46                 Cobrança sem Nota Fiscal   \n",
       "47                    Desconto de Pagamento   \n",
       "48                 Benefícios Assistenciais   \n",
       "49                    Legitimidade Judicial   \n",
       "50                      Aposentadoria Rural   \n",
       "51                        Cobrança Indevida   \n",
       "52                     Dívida e Conciliação   \n",
       "53                   Embargos de Declaração   \n",
       "54                    Gratuidade de Justiça   \n",
       "55                          Crimes e Provas   \n",
       "56                           Citação Válida   \n",
       "57           Justiça Gratuita para Recursos   \n",
       "58                       Doações Eleitorais   \n",
       "\n",
       "                                       Representation  \\\n",
       "0      [de, foi, se, do, da, uma, que, para, um, mei]   \n",
       "1   [trabalhador, vínculo, verbas, empregatício, t...   \n",
       "2   [justiça, gratuita, hipossuficiência, financei...   \n",
       "3   [taxas, complementar, taxa, lei, isenção, muni...   \n",
       "4   [jucesp, registro, junta, comercial, estado, f...   \n",
       "5   [nacional, simples, regime, adesão, tributário...   \n",
       "6   [desemprego, seguro, renda, união, própria, be...   \n",
       "7   [conta, danos, morais, valores, banco, indeniz...   \n",
       "8   [personalidade, jurídica, desconsideração, ben...   \n",
       "9   [tempo, aposentadoria, contribuição, períodos,...   \n",
       "10  [nome, danos, morais, seu, inadimplentes, inde...   \n",
       "11  [incapacidade, doença, auxílio, segurado, bene...   \n",
       "12  [licitação, edital, licitatório, pregão, certa...   \n",
       "13  [recurso, interposto, ordinário, parte, depósi...   \n",
       "14  [depósito, recursal, metade, redução, valor, 8...   \n",
       "15  [maternidade, salário, inss, benefício, mulher...   \n",
       "16  [juros, capitalização, banco, bndes, comissão,...   \n",
       "17  [emergencial, auxílio, familiar, união, recebe...   \n",
       "18  [plano, saúde, operadora, contrato, cancelamen...   \n",
       "19  [deficiência, assistencial, benefício, família...   \n",
       "20  [prisão, preventiva, paciente, preso, habeas, ...   \n",
       "21  [falecido, morte, pensão, óbito, segurado, qua...   \n",
       "22  [alvará, funcionamento, municipal, licença, es...   \n",
       "23  [crédito, cessão, valor, instituição, escolare...   \n",
       "24  [conselho, crmv, animais, medicina, veterinári...   \n",
       "25  [fiscal, nota, documento, negócio, jurídico, a...   \n",
       "26  [icms, cobrança, difal, estadual, simples, dif...   \n",
       "27  [diligências, débito, executórias, confusão, p...   \n",
       "28  [porte, pequeno, juizado, especial, microempre...   \n",
       "29  [acidente, danos, cessantes, lucros, materiais...   \n",
       "30  [qualificação, juizado, especial, tributária, ...   \n",
       "31  [segurada, facultativa, baixa, renda, autora, ...   \n",
       "32  [contador, propor, documentos, nota, juizados,...   \n",
       "33  [diligências, executórias, débito, expropriató...   \n",
       "34  [linha, telefonia, operadora, danos, morais, e...   \n",
       "35  [833, bens, exercício, impenhorabilidade, cpc,...   \n",
       "36  [credor, microempresa, extinção, cessionário, ...   \n",
       "37  [pena, semiaberto, regime, apenado, externo, c...   \n",
       "38  [epp, critérios, nos, enquadrava, cível, parte...   \n",
       "39  [alimentos, provisórios, mínimo, pai, filha, v...   \n",
       "40  [juizado, especial, porte, pequeno, ltda, empr...   \n",
       "41  [extrajudicial, título, protesto, execução, in...   \n",
       "42  [prisão, liberais, ceplemg, preso, convênio, p...   \n",
       "43  [valores, conta, penhora, impenhoráveis, bloqu...   \n",
       "44  [juizado, 099, 95, especial, sociedades, oscip...   \n",
       "45  [propor, juizado, nesse, ações, lei, autorizad...   \n",
       "46  [me, jurídico, negócio, instituição, nota, con...   \n",
       "47  [00, 000, autor, serviço, pagou, cliente, serv...   \n",
       "48  [benefício, inss, deficiência, assistencial, m...   \n",
       "49  [ciacaps, atualizacao, capacitacao, integrado,...   \n",
       "50  [rural, idade, aposentadoria, inss, agricultur...   \n",
       "51  [proporcional, cobrança, tipo, previstas, lega...   \n",
       "52  [citado, réu, intimado, compareceu, audiência,...   \n",
       "53  [embargos, omissão, declaração, acórdão, contr...   \n",
       "54  [inviabilidade, financeira, gratuidade, movime...   \n",
       "55  [crime, ministério, autoria, público, provas, ...   \n",
       "56  [citação, endereço, entregue, postal, válida, ...   \n",
       "57  [depósito, recursal, custas, ordinário, recurs...   \n",
       "58  [doação, eleitoral, doações, limite, acima, ca...   \n",
       "\n",
       "                                  Representative_Docs  \n",
       "0   [Um MEI entrou com uma ação contra um empregad...  \n",
       "1   [Um trabalhador entrou com uma ação trabalhist...  \n",
       "2   [Um Microempreendedor Individual (MEI) entrou ...  \n",
       "3   [Um MEI (Microempreendedor Individual) entrou ...  \n",
       "4   [Um indivíduo entrou com uma ação contra a Jun...  \n",
       "5   [A J & E Aguiar Serviços e Equipamentos Ltda -...  \n",
       "6   [A União recorreu contra uma sentença que julg...  \n",
       "7   [Um microempreendedor individual (MEI) entrou ...  \n",
       "8   [Um empresário individual (MEI) entrou com um ...  \n",
       "9   [O autor, um MEI, entrou com um recurso contra...  \n",
       "10  [Um profissional autônomo ajuizou uma ação con...  \n",
       "11  [Uma pessoa entrou com uma ação contra o Insti...  \n",
       "12  [A Prefeitura Municipal de Desterro do Melo pu...  \n",
       "13  [O processo trata de um recurso ordinário inte...  \n",
       "14  [Uma empresa de pequeno porte entrou com um re...  \n",
       "15  [Uma mulher, que trabalha como costureira e é ...  \n",
       "16  [O caso envolveu uma ação de revisão de cláusu...  \n",
       "17  [Uma pessoa entrou com um recurso contra uma s...  \n",
       "18  [Um microempreendedor individual (MEI) e sua e...  \n",
       "19  [Uma pessoa entrou com um recurso contra uma d...  \n",
       "20  [Um advogado impetrou um habeas corpus em favo...  \n",
       "21  [Uma pessoa entrou com uma ação previdenciária...  \n",
       "22  [Uma pessoa entrou com um mandado de segurança...  \n",
       "23  [Um microempreendedor individual (MEI) entrou ...  \n",
       "24  [Uma pessoa jurídica entrou com um processo pe...  \n",
       "25  [Uma microempresa (ME) ajuizou uma ação de cob...  \n",
       "26  [Uma empresa MEI (Microempreendedor Individual...  \n",
       "27  [Um trabalhador entrou com uma reclamação trab...  \n",
       "28  [Uma empresa entrou com uma ação de cobrança c...  \n",
       "29  [Um microempreendedor individual (MEI) entrou ...  \n",
       "30  [Um MEI entrou com uma ação de cobrança contra...  \n",
       "31  [Uma pessoa entrou com um pedido de auxílio-do...  \n",
       "32  [Um MEI tentou propor uma ação judicial, mas n...  \n",
       "33  [O processo envolve uma reclamação trabalhista...  \n",
       "34  [Um MEI entrou com uma ação contra uma empresa...  \n",
       "35  [Um agravo de petição foi apresentado question...  \n",
       "36  [Um credor, que alegava ser titular de uma mic...  \n",
       "37  [Um indivíduo chamado Antônio Neil Armstrong F...  \n",
       "38  [A parte autora entrou com uma ação de obrigaç...  \n",
       "39  [Um pai entrou com um agravo de instrumento co...  \n",
       "40  [Duas pessoas, incluindo uma empresa chamada R...  \n",
       "41  [Um MEI (Microempreendedor Individual) entrou ...  \n",
       "42  [Um MEI, sob o nome fantasia de CEPLEMG CONVÊN...  \n",
       "43  [Um microempreendedor individual (MEI) entrou ...  \n",
       "44  [Uma empresa entrou com um processo no Juizado...  \n",
       "45  [Uma pessoa jurídica entrou com uma ação de co...  \n",
       "46  [Uma microempresa (ME) entrou com uma ação de ...  \n",
       "47  [Um microempreendedor individual (MEI) que atu...  \n",
       "48  [O autor, um MEI, entrou com uma ação contra o...  \n",
       "49  [A empresa CIACAPS - CENTRO INTEGRADO DE ATUAL...  \n",
       "50  [Um trabalhador rural entrou com um pedido de ...  \n",
       "51  [Um MEI entrou com uma ação contra o município...  \n",
       "52  [Um Microempreendedor Individual (MEI) entrou ...  \n",
       "53  [O caso trata de embargos de declaração interp...  \n",
       "54  [Um processo pediu a gratuidade de justiça par...  \n",
       "55  [O Ministério Público do Estado do Rio de Jane...  \n",
       "56  [Um Empresário Individual (EI) entrou com uma ...  \n",
       "57  [Duas empresas, uma MEI e outra representada p...  \n",
       "58  [O Ministério Público Eleitoral recorreu contr...  "
      ]
     },
     "execution_count": 152,
     "metadata": {},
     "output_type": "execute_result"
    }
   ],
   "source": [
    "topic_model.get_topic_info()"
   ]
  },
  {
   "cell_type": "code",
   "execution_count": 153,
   "id": "97ae0b06",
   "metadata": {},
   "outputs": [
    {
     "data": {
      "application/vnd.plotly.v1+json": {
       "config": {
        "plotlyServerURL": "https://plot.ly"
       },
       "data": [
        {
         "coloraxis": "coloraxis",
         "hovertemplate": "x: %{x}<br>y: %{y}<br>Similarity Score: %{z}<extra></extra>",
         "name": "0",
         "type": "heatmap",
         "x": [
          "0_trabalhador_vínculo_verbas",
          "1_justiça_gratuita_hipossuf...",
          "12_recurso_interposto_ordin...",
          "13_depósito_recursal_metade",
          "26_diligências_débito_execu...",
          "27_porte_pequeno_juizado",
          "32_diligências_executórias_...",
          "37_epp_critérios_nos",
          "39_juizado_especial_porte",
          "41_prisão_liberais_ceplemg",
          "43_juizado_099_95",
          "44_propor_juizado_nesse",
          "48_ciacaps_atualizacao_capa...",
          "53_inviabilidade_financeira...",
          "56_depósito_recursal_custas",
          "2_taxas_complementar_taxa",
          "3_jucesp_registro_junta",
          "4_nacional_simples_regime",
          "6_conta_danos_morais",
          "7_personalidade_jurídica_de...",
          "9_nome_danos_morais",
          "11_licitação_edital_licitat...",
          "15_juros_capitalização_banco",
          "17_plano_saúde_operadora",
          "21_alvará_funcionamento_mun...",
          "22_crédito_cessão_valor",
          "24_fiscal_nota_documento",
          "25_icms_cobrança_difal",
          "28_acidente_danos_cessantes",
          "29_qualificação_juizado_esp...",
          "31_contador_propor_documentos",
          "33_linha_telefonia_operadora",
          "34_833_bens_exercício",
          "35_credor_microempresa_exti...",
          "40_extrajudicial_título_pro...",
          "42_valores_conta_penhora",
          "46_00_000_autor",
          "50_proporcional_cobrança_tipo",
          "51_citado_réu_intimado",
          "52_embargos_omissão_declara...",
          "55_citação_endereço_entregue",
          "57_doação_eleitoral_doações",
          "5_desemprego_seguro_renda",
          "16_emergencial_auxílio_fami...",
          "38_alimentos_provisórios_mí...",
          "8_tempo_aposentadoria_contr...",
          "10_incapacidade_doença_auxí...",
          "14_maternidade_salário_inss",
          "18_deficiência_assistencial...",
          "20_falecido_morte_pensão",
          "30_segurada_facultativa_baixa",
          "47_benefício_inss_deficiência",
          "49_rural_idade_aposentadoria",
          "19_prisão_preventiva_paciente",
          "23_conselho_crmv_animais",
          "36_pena_semiaberto_regime",
          "45_me_jurídico_negócio",
          "54_crime_ministério_autoria"
         ],
         "xaxis": "x",
         "y": [
          "0_trabalhador_vínculo_verbas",
          "1_justiça_gratuita_hipossuf...",
          "12_recurso_interposto_ordin...",
          "13_depósito_recursal_metade",
          "26_diligências_débito_execu...",
          "27_porte_pequeno_juizado",
          "32_diligências_executórias_...",
          "37_epp_critérios_nos",
          "39_juizado_especial_porte",
          "41_prisão_liberais_ceplemg",
          "43_juizado_099_95",
          "44_propor_juizado_nesse",
          "48_ciacaps_atualizacao_capa...",
          "53_inviabilidade_financeira...",
          "56_depósito_recursal_custas",
          "2_taxas_complementar_taxa",
          "3_jucesp_registro_junta",
          "4_nacional_simples_regime",
          "6_conta_danos_morais",
          "7_personalidade_jurídica_de...",
          "9_nome_danos_morais",
          "11_licitação_edital_licitat...",
          "15_juros_capitalização_banco",
          "17_plano_saúde_operadora",
          "21_alvará_funcionamento_mun...",
          "22_crédito_cessão_valor",
          "24_fiscal_nota_documento",
          "25_icms_cobrança_difal",
          "28_acidente_danos_cessantes",
          "29_qualificação_juizado_esp...",
          "31_contador_propor_documentos",
          "33_linha_telefonia_operadora",
          "34_833_bens_exercício",
          "35_credor_microempresa_exti...",
          "40_extrajudicial_título_pro...",
          "42_valores_conta_penhora",
          "46_00_000_autor",
          "50_proporcional_cobrança_tipo",
          "51_citado_réu_intimado",
          "52_embargos_omissão_declara...",
          "55_citação_endereço_entregue",
          "57_doação_eleitoral_doações",
          "5_desemprego_seguro_renda",
          "16_emergencial_auxílio_fami...",
          "38_alimentos_provisórios_mí...",
          "8_tempo_aposentadoria_contr...",
          "10_incapacidade_doença_auxí...",
          "14_maternidade_salário_inss",
          "18_deficiência_assistencial...",
          "20_falecido_morte_pensão",
          "30_segurada_facultativa_baixa",
          "47_benefício_inss_deficiência",
          "49_rural_idade_aposentadoria",
          "19_prisão_preventiva_paciente",
          "23_conselho_crmv_animais",
          "36_pena_semiaberto_regime",
          "45_me_jurídico_negócio",
          "54_crime_ministério_autoria"
         ],
         "yaxis": "y",
         "z": {
          "bdata": "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",
          "dtype": "f4",
          "shape": "58, 58"
         }
        }
       ],
       "layout": {
        "coloraxis": {
         "colorbar": {
          "title": {
           "text": "Similarity Score"
          }
         },
         "colorscale": [
          [
           0,
           "rgb(247,252,240)"
          ],
          [
           0.125,
           "rgb(224,243,219)"
          ],
          [
           0.25,
           "rgb(204,235,197)"
          ],
          [
           0.375,
           "rgb(168,221,181)"
          ],
          [
           0.5,
           "rgb(123,204,196)"
          ],
          [
           0.625,
           "rgb(78,179,211)"
          ],
          [
           0.75,
           "rgb(43,140,190)"
          ],
          [
           0.875,
           "rgb(8,104,172)"
          ],
          [
           1,
           "rgb(8,64,129)"
          ]
         ]
        },
        "height": 800,
        "hoverlabel": {
         "bgcolor": "white",
         "font": {
          "family": "Rockwell",
          "size": 16
         }
        },
        "legend": {
         "title": {
          "text": "Trend"
         }
        },
        "margin": {
         "t": 60
        },
        "showlegend": true,
        "template": {
         "data": {
          "bar": [
           {
            "error_x": {
             "color": "#2a3f5f"
            },
            "error_y": {
             "color": "#2a3f5f"
            },
            "marker": {
             "line": {
              "color": "#E5ECF6",
              "width": 0.5
             },
             "pattern": {
              "fillmode": "overlay",
              "size": 10,
              "solidity": 0.2
             }
            },
            "type": "bar"
           }
          ],
          "barpolar": [
           {
            "marker": {
             "line": {
              "color": "#E5ECF6",
              "width": 0.5
             },
             "pattern": {
              "fillmode": "overlay",
              "size": 10,
              "solidity": 0.2
             }
            },
            "type": "barpolar"
           }
          ],
          "carpet": [
           {
            "aaxis": {
             "endlinecolor": "#2a3f5f",
             "gridcolor": "white",
             "linecolor": "white",
             "minorgridcolor": "white",
             "startlinecolor": "#2a3f5f"
            },
            "baxis": {
             "endlinecolor": "#2a3f5f",
             "gridcolor": "white",
             "linecolor": "white",
             "minorgridcolor": "white",
             "startlinecolor": "#2a3f5f"
            },
            "type": "carpet"
           }
          ],
          "choropleth": [
           {
            "colorbar": {
             "outlinewidth": 0,
             "ticks": ""
            },
            "type": "choropleth"
           }
          ],
          "contour": [
           {
            "colorbar": {
             "outlinewidth": 0,
             "ticks": ""
            },
            "colorscale": [
             [
              0,
              "#0d0887"
             ],
             [
              0.1111111111111111,
              "#46039f"
             ],
             [
              0.2222222222222222,
              "#7201a8"
             ],
             [
              0.3333333333333333,
              "#9c179e"
             ],
             [
              0.4444444444444444,
              "#bd3786"
             ],
             [
              0.5555555555555556,
              "#d8576b"
             ],
             [
              0.6666666666666666,
              "#ed7953"
             ],
             [
              0.7777777777777778,
              "#fb9f3a"
             ],
             [
              0.8888888888888888,
              "#fdca26"
             ],
             [
              1,
              "#f0f921"
             ]
            ],
            "type": "contour"
           }
          ],
          "contourcarpet": [
           {
            "colorbar": {
             "outlinewidth": 0,
             "ticks": ""
            },
            "type": "contourcarpet"
           }
          ],
          "heatmap": [
           {
            "colorbar": {
             "outlinewidth": 0,
             "ticks": ""
            },
            "colorscale": [
             [
              0,
              "#0d0887"
             ],
             [
              0.1111111111111111,
              "#46039f"
             ],
             [
              0.2222222222222222,
              "#7201a8"
             ],
             [
              0.3333333333333333,
              "#9c179e"
             ],
             [
              0.4444444444444444,
              "#bd3786"
             ],
             [
              0.5555555555555556,
              "#d8576b"
             ],
             [
              0.6666666666666666,
              "#ed7953"
             ],
             [
              0.7777777777777778,
              "#fb9f3a"
             ],
             [
              0.8888888888888888,
              "#fdca26"
             ],
             [
              1,
              "#f0f921"
             ]
            ],
            "type": "heatmap"
           }
          ],
          "histogram": [
           {
            "marker": {
             "pattern": {
              "fillmode": "overlay",
              "size": 10,
              "solidity": 0.2
             }
            },
            "type": "histogram"
           }
          ],
          "histogram2d": [
           {
            "colorbar": {
             "outlinewidth": 0,
             "ticks": ""
            },
            "colorscale": [
             [
              0,
              "#0d0887"
             ],
             [
              0.1111111111111111,
              "#46039f"
             ],
             [
              0.2222222222222222,
              "#7201a8"
             ],
             [
              0.3333333333333333,
              "#9c179e"
             ],
             [
              0.4444444444444444,
              "#bd3786"
             ],
             [
              0.5555555555555556,
              "#d8576b"
             ],
             [
              0.6666666666666666,
              "#ed7953"
             ],
             [
              0.7777777777777778,
              "#fb9f3a"
             ],
             [
              0.8888888888888888,
              "#fdca26"
             ],
             [
              1,
              "#f0f921"
             ]
            ],
            "type": "histogram2d"
           }
          ],
          "histogram2dcontour": [
           {
            "colorbar": {
             "outlinewidth": 0,
             "ticks": ""
            },
            "colorscale": [
             [
              0,
              "#0d0887"
             ],
             [
              0.1111111111111111,
              "#46039f"
             ],
             [
              0.2222222222222222,
              "#7201a8"
             ],
             [
              0.3333333333333333,
              "#9c179e"
             ],
             [
              0.4444444444444444,
              "#bd3786"
             ],
             [
              0.5555555555555556,
              "#d8576b"
             ],
             [
              0.6666666666666666,
              "#ed7953"
             ],
             [
              0.7777777777777778,
              "#fb9f3a"
             ],
             [
              0.8888888888888888,
              "#fdca26"
             ],
             [
              1,
              "#f0f921"
             ]
            ],
            "type": "histogram2dcontour"
           }
          ],
          "mesh3d": [
           {
            "colorbar": {
             "outlinewidth": 0,
             "ticks": ""
            },
            "type": "mesh3d"
           }
          ],
          "parcoords": [
           {
            "line": {
             "colorbar": {
              "outlinewidth": 0,
              "ticks": ""
             }
            },
            "type": "parcoords"
           }
          ],
          "pie": [
           {
            "automargin": true,
            "type": "pie"
           }
          ],
          "scatter": [
           {
            "fillpattern": {
             "fillmode": "overlay",
             "size": 10,
             "solidity": 0.2
            },
            "type": "scatter"
           }
          ],
          "scatter3d": [
           {
            "line": {
             "colorbar": {
              "outlinewidth": 0,
              "ticks": ""
             }
            },
            "marker": {
             "colorbar": {
              "outlinewidth": 0,
              "ticks": ""
             }
            },
            "type": "scatter3d"
           }
          ],
          "scattercarpet": [
           {
            "marker": {
             "colorbar": {
              "outlinewidth": 0,
              "ticks": ""
             }
            },
            "type": "scattercarpet"
           }
          ],
          "scattergeo": [
           {
            "marker": {
             "colorbar": {
              "outlinewidth": 0,
              "ticks": ""
             }
            },
            "type": "scattergeo"
           }
          ],
          "scattergl": [
           {
            "marker": {
             "colorbar": {
              "outlinewidth": 0,
              "ticks": ""
             }
            },
            "type": "scattergl"
           }
          ],
          "scattermap": [
           {
            "marker": {
             "colorbar": {
              "outlinewidth": 0,
              "ticks": ""
             }
            },
            "type": "scattermap"
           }
          ],
          "scattermapbox": [
           {
            "marker": {
             "colorbar": {
              "outlinewidth": 0,
              "ticks": ""
             }
            },
            "type": "scattermapbox"
           }
          ],
          "scatterpolar": [
           {
            "marker": {
             "colorbar": {
              "outlinewidth": 0,
              "ticks": ""
             }
            },
            "type": "scatterpolar"
           }
          ],
          "scatterpolargl": [
           {
            "marker": {
             "colorbar": {
              "outlinewidth": 0,
              "ticks": ""
             }
            },
            "type": "scatterpolargl"
           }
          ],
          "scatterternary": [
           {
            "marker": {
             "colorbar": {
              "outlinewidth": 0,
              "ticks": ""
             }
            },
            "type": "scatterternary"
           }
          ],
          "surface": [
           {
            "colorbar": {
             "outlinewidth": 0,
             "ticks": ""
            },
            "colorscale": [
             [
              0,
              "#0d0887"
             ],
             [
              0.1111111111111111,
              "#46039f"
             ],
             [
              0.2222222222222222,
              "#7201a8"
             ],
             [
              0.3333333333333333,
              "#9c179e"
             ],
             [
              0.4444444444444444,
              "#bd3786"
             ],
             [
              0.5555555555555556,
              "#d8576b"
             ],
             [
              0.6666666666666666,
              "#ed7953"
             ],
             [
              0.7777777777777778,
              "#fb9f3a"
             ],
             [
              0.8888888888888888,
              "#fdca26"
             ],
             [
              1,
              "#f0f921"
             ]
            ],
            "type": "surface"
           }
          ],
          "table": [
           {
            "cells": {
             "fill": {
              "color": "#EBF0F8"
             },
             "line": {
              "color": "white"
             }
            },
            "header": {
             "fill": {
              "color": "#C8D4E3"
             },
             "line": {
              "color": "white"
             }
            },
            "type": "table"
           }
          ]
         },
         "layout": {
          "annotationdefaults": {
           "arrowcolor": "#2a3f5f",
           "arrowhead": 0,
           "arrowwidth": 1
          },
          "autotypenumbers": "strict",
          "coloraxis": {
           "colorbar": {
            "outlinewidth": 0,
            "ticks": ""
           }
          },
          "colorscale": {
           "diverging": [
            [
             0,
             "#8e0152"
            ],
            [
             0.1,
             "#c51b7d"
            ],
            [
             0.2,
             "#de77ae"
            ],
            [
             0.3,
             "#f1b6da"
            ],
            [
             0.4,
             "#fde0ef"
            ],
            [
             0.5,
             "#f7f7f7"
            ],
            [
             0.6,
             "#e6f5d0"
            ],
            [
             0.7,
             "#b8e186"
            ],
            [
             0.8,
             "#7fbc41"
            ],
            [
             0.9,
             "#4d9221"
            ],
            [
             1,
             "#276419"
            ]
           ],
           "sequential": [
            [
             0,
             "#0d0887"
            ],
            [
             0.1111111111111111,
             "#46039f"
            ],
            [
             0.2222222222222222,
             "#7201a8"
            ],
            [
             0.3333333333333333,
             "#9c179e"
            ],
            [
             0.4444444444444444,
             "#bd3786"
            ],
            [
             0.5555555555555556,
             "#d8576b"
            ],
            [
             0.6666666666666666,
             "#ed7953"
            ],
            [
             0.7777777777777778,
             "#fb9f3a"
            ],
            [
             0.8888888888888888,
             "#fdca26"
            ],
            [
             1,
             "#f0f921"
            ]
           ],
           "sequentialminus": [
            [
             0,
             "#0d0887"
            ],
            [
             0.1111111111111111,
             "#46039f"
            ],
            [
             0.2222222222222222,
             "#7201a8"
            ],
            [
             0.3333333333333333,
             "#9c179e"
            ],
            [
             0.4444444444444444,
             "#bd3786"
            ],
            [
             0.5555555555555556,
             "#d8576b"
            ],
            [
             0.6666666666666666,
             "#ed7953"
            ],
            [
             0.7777777777777778,
             "#fb9f3a"
            ],
            [
             0.8888888888888888,
             "#fdca26"
            ],
            [
             1,
             "#f0f921"
            ]
           ]
          },
          "colorway": [
           "#636efa",
           "#EF553B",
           "#00cc96",
           "#ab63fa",
           "#FFA15A",
           "#19d3f3",
           "#FF6692",
           "#B6E880",
           "#FF97FF",
           "#FECB52"
          ],
          "font": {
           "color": "#2a3f5f"
          },
          "geo": {
           "bgcolor": "white",
           "lakecolor": "white",
           "landcolor": "#E5ECF6",
           "showlakes": true,
           "showland": true,
           "subunitcolor": "white"
          },
          "hoverlabel": {
           "align": "left"
          },
          "hovermode": "closest",
          "mapbox": {
           "style": "light"
          },
          "paper_bgcolor": "white",
          "plot_bgcolor": "#E5ECF6",
          "polar": {
           "angularaxis": {
            "gridcolor": "white",
            "linecolor": "white",
            "ticks": ""
           },
           "bgcolor": "#E5ECF6",
           "radialaxis": {
            "gridcolor": "white",
            "linecolor": "white",
            "ticks": ""
           }
          },
          "scene": {
           "xaxis": {
            "backgroundcolor": "#E5ECF6",
            "gridcolor": "white",
            "gridwidth": 2,
            "linecolor": "white",
            "showbackground": true,
            "ticks": "",
            "zerolinecolor": "white"
           },
           "yaxis": {
            "backgroundcolor": "#E5ECF6",
            "gridcolor": "white",
            "gridwidth": 2,
            "linecolor": "white",
            "showbackground": true,
            "ticks": "",
            "zerolinecolor": "white"
           },
           "zaxis": {
            "backgroundcolor": "#E5ECF6",
            "gridcolor": "white",
            "gridwidth": 2,
            "linecolor": "white",
            "showbackground": true,
            "ticks": "",
            "zerolinecolor": "white"
           }
          },
          "shapedefaults": {
           "line": {
            "color": "#2a3f5f"
           }
          },
          "ternary": {
           "aaxis": {
            "gridcolor": "white",
            "linecolor": "white",
            "ticks": ""
           },
           "baxis": {
            "gridcolor": "white",
            "linecolor": "white",
            "ticks": ""
           },
           "bgcolor": "#E5ECF6",
           "caxis": {
            "gridcolor": "white",
            "linecolor": "white",
            "ticks": ""
           }
          },
          "title": {
           "x": 0.05
          },
          "xaxis": {
           "automargin": true,
           "gridcolor": "white",
           "linecolor": "white",
           "ticks": "",
           "title": {
            "standoff": 15
           },
           "zerolinecolor": "white",
           "zerolinewidth": 2
          },
          "yaxis": {
           "automargin": true,
           "gridcolor": "white",
           "linecolor": "white",
           "ticks": "",
           "title": {
            "standoff": 15
           },
           "zerolinecolor": "white",
           "zerolinewidth": 2
          }
         }
        },
        "title": {
         "font": {
          "color": "Black",
          "size": 22
         },
         "text": "<b>Similarity Matrix</b>",
         "x": 0.55,
         "xanchor": "center",
         "y": 0.95,
         "yanchor": "top"
        },
        "width": 800,
        "xaxis": {
         "anchor": "y",
         "constrain": "domain",
         "domain": [
          0,
          1
         ],
         "scaleanchor": "y"
        },
        "yaxis": {
         "anchor": "x",
         "autorange": "reversed",
         "constrain": "domain",
         "domain": [
          0,
          1
         ]
        }
       }
      }
     },
     "metadata": {},
     "output_type": "display_data"
    }
   ],
   "source": [
    "topic_model.visualize_heatmap(n_clusters=5)"
   ]
  },
  {
   "cell_type": "code",
   "execution_count": 154,
   "id": "7e7cfaa4",
   "metadata": {},
   "outputs": [
    {
     "data": {
      "application/vnd.plotly.v1+json": {
       "config": {
        "plotlyServerURL": "https://plot.ly"
       },
       "data": [
        {
         "hovertext": "<b>Topic -1</b>:de_foi_se_do_da_uma_que_para_um_me",
         "line": {
          "color": "black",
          "width": 1.5
         },
         "mode": "lines+lines",
         "name": "",
         "opacity": 0.1,
         "type": "scatter",
         "x": {
          "bdata": "AQAAAAIAAAADAAAABAAAAAUAAAAGAAAABwAAAAgAAAAJAAAACgAAAA==",
          "dtype": "i4"
         },
         "y": {
          "bdata": "R33mT+v9jT8FANvqOfqKP3jCklMCyoo/evlIRH3Eij+cjZjujfKJPyVAvyPH0Yk/HbyN/SU9iT+nGFMcy9aHP0WIPfp7Noc/GN2iiynehj8=",
          "dtype": "f8"
         }
        },
        {
         "hovertext": "<b>Topic 0</b>:trabalhador_vínculo_verbas_empregat",
         "line": {
          "color": "black",
          "width": 1.5
         },
         "mode": "lines+lines",
         "name": "",
         "opacity": 0.1,
         "type": "scatter",
         "x": {
          "bdata": "AQAAAAIAAAADAAAABAAAAAUAAAAGAAAABwAAAAgAAAAJAAAACgAAAA==",
          "dtype": "i4"
         },
         "y": {
          "bdata": "ItLSK/LTlz9THx8RQkaWPyshkldxaJI/xuAK8tRPkT8RMQnH0hqRP5mP1zpMEZE/Fjfd3PE5kD+5PH1pzv+OP07h4b/I+o4/R9G8oJwFjj8=",
          "dtype": "f8"
         }
        },
        {
         "hovertext": "<b>Topic 1</b>:justiça_gratuita_hipossuficiência_f",
         "line": {
          "color": "black",
          "width": 1.5
         },
         "mode": "lines+lines",
         "name": "",
         "opacity": 0.1,
         "type": "scatter",
         "x": {
          "bdata": "AQAAAAIAAAADAAAABAAAAAUAAAAGAAAABwAAAAgAAAAJAAAACgAAAA==",
          "dtype": "i4"
         },
         "y": {
          "bdata": "8zj/p1TsoD+UQZLHy+GfP8HEBhYjIJk/xZvbxTd7lz8DQaTSHDqXP3nr2PSSNpU/G5MQNg/Qkz/Ae6Tv0LGTP9im9FRq3JI/v5YBDD5Gkj8=",
          "dtype": "f8"
         }
        },
        {
         "hovertext": "<b>Topic 2</b>:taxas_complementar_taxa_lei_isenção",
         "line": {
          "color": "black",
          "width": 1.5
         },
         "mode": "lines+lines",
         "name": "",
         "opacity": 0.1,
         "type": "scatter",
         "x": {
          "bdata": "AQAAAAIAAAADAAAABAAAAAUAAAAGAAAABwAAAAgAAAAJAAAACgAAAA==",
          "dtype": "i4"
         },
         "y": {
          "bdata": "Ce/X791ErD8ej9Os1y2mP1n6WYkFMaU/XyQeRGI+pD/YVJQ2aqujP6K3Zj4fNaM/LPg2wE7poj/n3gK8EA6iP3h4w3lLpKE/3Z/hnyY3oT8=",
          "dtype": "f8"
         }
        },
        {
         "hovertext": "<b>Topic 3</b>:jucesp_registro_junta_comercial_est",
         "line": {
          "color": "black",
          "width": 1.5
         },
         "mode": "lines+lines",
         "name": "",
         "opacity": 0.1,
         "type": "scatter",
         "x": {
          "bdata": "AQAAAAIAAAADAAAABAAAAAUAAAAGAAAABwAAAAgAAAAJAAAACgAAAA==",
          "dtype": "i4"
         },
         "y": {
          "bdata": "KDjDFzkzpT+UdHAuIT6kP7rmDOqetaM/XAWPXoSqoD98tSyyR+CdP+LYnXYMxJ0/pHylD0p3mz9kw61Wf7SaP55WDJf6OJg/TwMhyuLTlz8=",
          "dtype": "f8"
         }
        },
        {
         "hovertext": "<b>Topic 4</b>:nacional_simples_regime_adesão_trib",
         "line": {
          "color": "black",
          "width": 1.5
         },
         "mode": "lines+lines",
         "name": "",
         "opacity": 0.1,
         "type": "scatter",
         "x": {
          "bdata": "AQAAAAIAAAADAAAABAAAAAUAAAAGAAAABwAAAAgAAAAJAAAACgAAAA==",
          "dtype": "i4"
         },
         "y": {
          "bdata": "V7OVCtD8tD8AhMeGWY6zP2yp//tGiak/OmF/43V6qD+qaiO1BSOnPzK9RGVZv6U/Tas+0g6woz9H8ty5Vu6hPwp0gGgT7aE/CcyZLi7HoT8=",
          "dtype": "f8"
         }
        },
        {
         "hovertext": "<b>Topic 5</b>:desemprego_seguro_renda_união_própr",
         "line": {
          "color": "black",
          "width": 1.5
         },
         "mode": "lines+lines",
         "name": "",
         "opacity": 0.1,
         "type": "scatter",
         "x": {
          "bdata": "AQAAAAIAAAADAAAABAAAAAUAAAAGAAAABwAAAAgAAAAJAAAACgAAAA==",
          "dtype": "i4"
         },
         "y": {
          "bdata": "Qiyg9gxZtT+AOOmXGY2yP7252qeZU6Y/i1EjcQP/nj/ZLkqN92icP4vmOuYJ3Zo/beJGDz0zmj8v1Jp+5MSWPyeTNsZYfZQ/ZUsluxTmkz8=",
          "dtype": "f8"
         }
        },
        {
         "hovertext": "<b>Topic 6</b>:conta_danos_morais_valores_banco_in",
         "line": {
          "color": "black",
          "width": 1.5
         },
         "mode": "lines+lines",
         "name": "",
         "opacity": 0.1,
         "type": "scatter",
         "x": {
          "bdata": "AQAAAAIAAAADAAAABAAAAAUAAAAGAAAABwAAAAgAAAAJAAAACgAAAA==",
          "dtype": "i4"
         },
         "y": {
          "bdata": "vNoG8/pGmz8qpN7iqu+ZP2UL0Ntjkpc/7girxjXWlT9vkqDsZLmUP3J15qUgpJQ/xsl01b2jkj+/5OxX7rCRPx0z76zknpE/a5a2ILNVjj8=",
          "dtype": "f8"
         }
        },
        {
         "hovertext": "<b>Topic 7</b>:personalidade_jurídica_desconsidera",
         "line": {
          "color": "black",
          "width": 1.5
         },
         "mode": "lines+lines",
         "name": "",
         "opacity": 0.1,
         "type": "scatter",
         "x": {
          "bdata": "AQAAAAIAAAADAAAABAAAAAUAAAAGAAAABwAAAAgAAAAJAAAACgAAAA==",
          "dtype": "i4"
         },
         "y": {
          "bdata": "ZnnVurJFrj/QKjjEpW2qP5vkkTq2Dao/rES5sDxCpj9YPZeOOfKlP7r/IpaUHKE/8jh0FnANoD8RqMC766WePwE7RR7J/5o/FfcSHbWcmj8=",
          "dtype": "f8"
         }
        },
        {
         "hovertext": "<b>Topic 8</b>:tempo_aposentadoria_contribuição_pe",
         "line": {
          "color": "black",
          "width": 1.5
         },
         "mode": "lines+lines",
         "name": "",
         "opacity": 0.1,
         "type": "scatter",
         "x": {
          "bdata": "AQAAAAIAAAADAAAABAAAAAUAAAAGAAAABwAAAAgAAAAJAAAACgAAAA==",
          "dtype": "i4"
         },
         "y": {
          "bdata": "tio67ADTsT+lOP6yyVywP6r0+wpGHq8/20rOh6dgqD8F2K0PYDSoPwM32NjTMaQ/v5Ix/Uj+mT8wvlzYfbKZP6hpuF1xfJk/vmJVG0eAlj8=",
          "dtype": "f8"
         }
        },
        {
         "hovertext": "<b>Topic 9</b>:nome_danos_morais_seu_inadimplentes",
         "line": {
          "color": "black",
          "width": 1.5
         },
         "mode": "lines+lines",
         "name": "",
         "opacity": 0.1,
         "type": "scatter",
         "x": {
          "bdata": "AQAAAAIAAAADAAAABAAAAAUAAAAGAAAABwAAAAgAAAAJAAAACgAAAA==",
          "dtype": "i4"
         },
         "y": {
          "bdata": "k0jEtFaVoz+2iY3ZG0ShP3XyTv93M6E/Bv2UKvyKnT/DyvMd6becP93GqvZylpw/EmwvFH/lmT+21BUk716YP9iTUiBXWJc/lBxq3Ztulj8=",
          "dtype": "f8"
         }
        },
        {
         "hovertext": "<b>Topic 10</b>:incapacidade_doença_auxílio_segura",
         "line": {
          "color": "black",
          "width": 1.5
         },
         "mode": "lines+lines",
         "name": "",
         "opacity": 0.1,
         "type": "scatter",
         "x": {
          "bdata": "AQAAAAIAAAADAAAABAAAAAUAAAAGAAAABwAAAAgAAAAJAAAACgAAAA==",
          "dtype": "i4"
         },
         "y": {
          "bdata": "LlURxfu/sj+5C3S4DZWqP08u2iV8OaY/Ibf7tMVCoj/C1bpMGRyiP0Eg9KWi9qE/erzQHB4toD8GP/OZ20iePxCB8BHn7J0/LHGwkSUBmj8=",
          "dtype": "f8"
         }
        },
        {
         "hovertext": "<b>Topic 11</b>:licitação_edital_licitatório_pregã",
         "line": {
          "color": "black",
          "width": 1.5
         },
         "mode": "lines+lines",
         "name": "",
         "opacity": 0.1,
         "type": "scatter",
         "x": {
          "bdata": "AQAAAAIAAAADAAAABAAAAAUAAAAGAAAABwAAAAgAAAAJAAAACgAAAA==",
          "dtype": "i4"
         },
         "y": {
          "bdata": "IzWy7qv7pD/a0jTCTGijPyMNZt1yA54/Apo7cwWBnT/DNH10pNOWP231ERp615U/rg6A78eMkz/aONbcG5SSP9VQtTAgcJA/eZlkjvE6kD8=",
          "dtype": "f8"
         }
        },
        {
         "hovertext": "<b>Topic 12</b>:recurso_interposto_ordinário_parte",
         "line": {
          "color": "black",
          "width": 1.5
         },
         "mode": "lines+lines",
         "name": "",
         "opacity": 0.1,
         "type": "scatter",
         "x": {
          "bdata": "AQAAAAIAAAADAAAABAAAAAUAAAAGAAAABwAAAAgAAAAJAAAACgAAAA==",
          "dtype": "i4"
         },
         "y": {
          "bdata": "L7Ch3d6+rD/Y1IzaYg2pP9T+nabkqqY/7+tPD/depj9TxWpaDFalPyqzr527BaQ/lBZ9oCJ4oz8HvIDu/6qiPxyI+SAskaI/Q//zO2cioj8=",
          "dtype": "f8"
         }
        },
        {
         "hovertext": "<b>Topic 13</b>:depósito_recursal_metade_redução_v",
         "line": {
          "color": "black",
          "width": 1.5
         },
         "mode": "lines+lines",
         "name": "",
         "opacity": 0.1,
         "type": "scatter",
         "x": {
          "bdata": "AQAAAAIAAAADAAAABAAAAAUAAAAGAAAABwAAAAgAAAAJAAAACgAAAA==",
          "dtype": "i4"
         },
         "y": {
          "bdata": "K1fPuSgTsz+lAP2lUTOyPy8UnTomQqs/m0ZG45EuqT8Ztboa48yoP5Hgmm2h56M/TWiT6DDeoz/utoTPlQmjPykpf6R0O58/zxEnTRqnnD8=",
          "dtype": "f8"
         }
        },
        {
         "hovertext": "<b>Topic 14</b>:maternidade_salário_inss_benefício",
         "line": {
          "color": "black",
          "width": 1.5
         },
         "mode": "lines+lines",
         "name": "",
         "opacity": 0.1,
         "type": "scatter",
         "x": {
          "bdata": "AQAAAAIAAAADAAAABAAAAAUAAAAGAAAABwAAAAgAAAAJAAAACgAAAA==",
          "dtype": "i4"
         },
         "y": {
          "bdata": "fFiuoFBEvD+ImsL5BHWzP8gvlgVk7bA/oIhhXoN/qj+62S3YMNGmP4+rECJn0aE/E8PR7SoYoD9nEYtP4SieP/l9J9EqFJ4/e3dq/aa6mT8=",
          "dtype": "f8"
         }
        },
        {
         "hovertext": "<b>Topic 15</b>:juros_capitalização_banco_bndes_co",
         "line": {
          "color": "black",
          "width": 1.5
         },
         "mode": "lines+lines",
         "name": "",
         "opacity": 0.1,
         "type": "scatter",
         "x": {
          "bdata": "AQAAAAIAAAADAAAABAAAAAUAAAAGAAAABwAAAAgAAAAJAAAACgAAAA==",
          "dtype": "i4"
         },
         "y": {
          "bdata": "o+VmIDDOtz+n9KZJuCumPy/UStAjyp8/M0pIfLVUnz85kPxiNpGdP6MjfzKIx5s/vu16bSFZmj8/rd35nSCZP2nG1/1sDZk/uunqjY7rmD8=",
          "dtype": "f8"
         }
        },
        {
         "hovertext": "<b>Topic 16</b>:emergencial_auxílio_familiar_união",
         "line": {
          "color": "black",
          "width": 1.5
         },
         "mode": "lines+lines",
         "name": "",
         "opacity": 0.1,
         "type": "scatter",
         "x": {
          "bdata": "AQAAAAIAAAADAAAABAAAAAUAAAAGAAAABwAAAAgAAAAJAAAACgAAAA==",
          "dtype": "i4"
         },
         "y": {
          "bdata": "iJ3G838hvD8RTKo0Lbu2P/DHemqbKqE/uWrJD4h3oD/zKAABDGSdP7AT/XP+Z5w/n1us4KJrmj/WTETsGyOYP6jmIaEEipc/wnB/aQfVlj8=",
          "dtype": "f8"
         }
        },
        {
         "hovertext": "<b>Topic 17</b>:plano_saúde_operadora_contrato_can",
         "line": {
          "color": "black",
          "width": 1.5
         },
         "mode": "lines+lines",
         "name": "",
         "opacity": 0.1,
         "type": "scatter",
         "x": {
          "bdata": "AQAAAAIAAAADAAAABAAAAAUAAAAGAAAABwAAAAgAAAAJAAAACgAAAA==",
          "dtype": "i4"
         },
         "y": {
          "bdata": "W8g19ZwJtz8tbacxoEm0PylqBjbzGKQ/M9+DxVOinj9++igRJjibP5MZRoC0OJc/8WTOSfrblj971JhwuJeUP+aTXR+P+5M/x8HawwgZkz8=",
          "dtype": "f8"
         }
        },
        {
         "hovertext": "<b>Topic 18</b>:deficiência_assistencial_benefício",
         "line": {
          "color": "black",
          "width": 1.5
         },
         "mode": "lines+lines",
         "name": "",
         "opacity": 0.1,
         "type": "scatter",
         "x": {
          "bdata": "AQAAAAIAAAADAAAABAAAAAUAAAAGAAAABwAAAAgAAAAJAAAACgAAAA==",
          "dtype": "i4"
         },
         "y": {
          "bdata": "dwHUK0Jssz8KReOp2U+xP22lHkNjX60/F2zZXJOzqD8NJIvbgwGoPwV7xXslEKU/ihBBOKeQoz9d76oSodybP7JdjKRTa5s/9+dSgcmrmj8=",
          "dtype": "f8"
         }
        },
        {
         "hovertext": "<b>Topic 19</b>:prisão_preventiva_paciente_preso_h",
         "line": {
          "color": "black",
          "width": 1.5
         },
         "mode": "lines+lines",
         "name": "",
         "opacity": 0.1,
         "type": "scatter",
         "x": {
          "bdata": "AQAAAAIAAAADAAAABAAAAAUAAAAGAAAABwAAAAgAAAAJAAAACgAAAA==",
          "dtype": "i4"
         },
         "y": {
          "bdata": "/brAg9cRwz/3iitDwB+8P8quP7d/xbM/qCaY7ag3qD9xvkJmcF6mP3G+QmZwXqY/zt7vL88Moz9TOsMKEqOiP97rlq8gJaI/tfGQWPhsoD8=",
          "dtype": "f8"
         }
        },
        {
         "hovertext": "<b>Topic 20</b>:falecido_morte_pensão_óbito_segura",
         "line": {
          "color": "black",
          "width": 1.5
         },
         "mode": "lines+lines",
         "name": "",
         "opacity": 0.1,
         "type": "scatter",
         "x": {
          "bdata": "AQAAAAIAAAADAAAABAAAAAUAAAAGAAAABwAAAAgAAAAJAAAACgAAAA==",
          "dtype": "i4"
         },
         "y": {
          "bdata": "tQ0swUHhvD9fuj0hwjO2P0aenwIPfLQ/T3jGZYdssz8GL8YsC6OyP1NfOteubKw/akOQ9VrFoT+t/ruv8u6gP9lPydXXwZ0/js134ZxVmj8=",
          "dtype": "f8"
         }
        },
        {
         "hovertext": "<b>Topic 21</b>:alvará_funcionamento_municipal_lic",
         "line": {
          "color": "black",
          "width": 1.5
         },
         "mode": "lines+lines",
         "name": "",
         "opacity": 0.1,
         "type": "scatter",
         "x": {
          "bdata": "AQAAAAIAAAADAAAABAAAAAUAAAAGAAAABwAAAAgAAAAJAAAACgAAAA==",
          "dtype": "i4"
         },
         "y": {
          "bdata": "73xYLBoHpj+mJi/5VNuiP/5zpWT/1p4/gHHmHsg3mz9pw0iUGuWYP+YrV0qNyJc/8lwpWVfelj+CldN6t4eVP3u7VmiYuZQ/6Lv/TgihlD8=",
          "dtype": "f8"
         }
        },
        {
         "hovertext": "<b>Topic 22</b>:crédito_cessão_valor_instituição_e",
         "line": {
          "color": "black",
          "width": 1.5
         },
         "mode": "lines+lines",
         "name": "",
         "opacity": 0.1,
         "type": "scatter",
         "x": {
          "bdata": "AQAAAAIAAAADAAAABAAAAAUAAAAGAAAABwAAAAgAAAAJAAAACgAAAA==",
          "dtype": "i4"
         },
         "y": {
          "bdata": "dZQWhXDsrT9HK97HUVGrP+55roOWrqE/hKN+05GKmz8Y8PalSWqXPyjiBHzE8ZY/4UW1geNElj/nue8rqyWWP5OrzhC+/ZU/Kh7VE47clT8=",
          "dtype": "f8"
         }
        },
        {
         "hovertext": "<b>Topic 23</b>:conselho_crmv_animais_medicina_vet",
         "line": {
          "color": "black",
          "width": 1.5
         },
         "mode": "lines+lines",
         "name": "",
         "opacity": 0.1,
         "type": "scatter",
         "x": {
          "bdata": "AQAAAAIAAAADAAAABAAAAAUAAAAGAAAABwAAAAgAAAAJAAAACgAAAA==",
          "dtype": "i4"
         },
         "y": {
          "bdata": "MK/R960Etz8l3aHGrji2PwlsF5ImFbU/YY6hq2W0sj9KY3lZ6qmyP9lPWs6rGbA/Th1GLfGiqT/7IHZEu9mnPzNIW4MoEaY/7+ySB20epT8=",
          "dtype": "f8"
         }
        },
        {
         "hovertext": "<b>Topic 24</b>:fiscal_nota_documento_negócio_jurí",
         "line": {
          "color": "black",
          "width": 1.5
         },
         "mode": "lines+lines",
         "name": "",
         "opacity": 0.1,
         "type": "scatter",
         "x": {
          "bdata": "AQAAAAIAAAADAAAABAAAAAUAAAAGAAAABwAAAAgAAAAJAAAACgAAAA==",
          "dtype": "i4"
         },
         "y": {
          "bdata": "goUER8EMtD8HPYzJn2yyP6Ybvq7leao/bu1+kNSEpD+vKvWV9EahP2WVYf8CXJ8/Jq9viHwunz/FAiqXtHeeP1d9oMGaV50/qfQ3r70dnT8=",
          "dtype": "f8"
         }
        },
        {
         "hovertext": "<b>Topic 25</b>:icms_cobrança_difal_estadual_simpl",
         "line": {
          "color": "black",
          "width": 1.5
         },
         "mode": "lines+lines",
         "name": "",
         "opacity": 0.1,
         "type": "scatter",
         "x": {
          "bdata": "AQAAAAIAAAADAAAABAAAAAUAAAAGAAAABwAAAAgAAAAJAAAACgAAAA==",
          "dtype": "i4"
         },
         "y": {
          "bdata": "Vv5yiNX4uT8pLkOHL3+xP2l36wGqH7E/AUrhbyphqz89tpRdz1ikP2xo1f0jXqI/oVtAp7tLoj8MpR+YzCqfPyTbzlhb+50/hQetMlJ5nT8=",
          "dtype": "f8"
         }
        },
        {
         "hovertext": "<b>Topic 26</b>:diligências_débito_executórias_con",
         "line": {
          "color": "black",
          "width": 1.5
         },
         "mode": "lines+lines",
         "name": "",
         "opacity": 0.1,
         "type": "scatter",
         "x": {
          "bdata": "AQAAAAIAAAADAAAABAAAAAUAAAAGAAAABwAAAAgAAAAJAAAACgAAAA==",
          "dtype": "i4"
         },
         "y": {
          "bdata": "dlKcEzGJvT9QysVIN6e4P+nNeb13mbQ/2hY5WAGyrz87i3kyNwGuP5JW60VsJq0/tj1MRulHqj9gf7n7G7SjPwxIFibOPaM/RXNFByIZoj8=",
          "dtype": "f8"
         }
        },
        {
         "hovertext": "<b>Topic 27</b>:porte_pequeno_juizado_especial_mic",
         "line": {
          "color": "black",
          "width": 1.5
         },
         "mode": "lines+lines",
         "name": "",
         "opacity": 0.1,
         "type": "scatter",
         "x": {
          "bdata": "AQAAAAIAAAADAAAABAAAAAUAAAAGAAAABwAAAAgAAAAJAAAACgAAAA==",
          "dtype": "i4"
         },
         "y": {
          "bdata": "aI2eY8nSrD9S385c82usP0dV+7ohzKs/6SaunF+FqD/QEiM1rtqnPyo8HfvX0aU/STfIRTpRpT+EYxMpbIKjP1Cpcp/T6KI/XSbpuQLUnj8=",
          "dtype": "f8"
         }
        },
        {
         "hovertext": "<b>Topic 28</b>:acidente_danos_cessantes_lucros_ma",
         "line": {
          "color": "black",
          "width": 1.5
         },
         "mode": "lines+lines",
         "name": "",
         "opacity": 0.1,
         "type": "scatter",
         "x": {
          "bdata": "AQAAAAIAAAADAAAABAAAAAUAAAAGAAAABwAAAAgAAAAJAAAACgAAAA==",
          "dtype": "i4"
         },
         "y": {
          "bdata": "85C/1MwGtj90Dgo6iN+lPyGTkyrC0qU/Kf9VSwpEpT8dJvCleYWjPxPDceuddaM/1I8lZOFSnz8CDvzinSqdP8Bp/XItV5w/GJ2kbGapmj8=",
          "dtype": "f8"
         }
        },
        {
         "hovertext": "<b>Topic 29</b>:qualificação_juizado_especial_trib",
         "line": {
          "color": "black",
          "width": 1.5
         },
         "mode": "lines+lines",
         "name": "",
         "opacity": 0.1,
         "type": "scatter",
         "x": {
          "bdata": "AQAAAAIAAAADAAAABAAAAAUAAAAGAAAABwAAAAgAAAAJAAAACgAAAA==",
          "dtype": "i4"
         },
         "y": {
          "bdata": "ER6enGEgrT/aB1fyn42lP3VLDU1GLaQ/iZK8o7sjpD9DmqTy7g6jPyLxpXLmBKM/3vj+85iloD/TMeMJ18WdP665vDjyoJ0/f5Wh/S+QnT8=",
          "dtype": "f8"
         }
        },
        {
         "hovertext": "<b>Topic 30</b>:segurada_facultativa_baixa_renda_a",
         "line": {
          "color": "black",
          "width": 1.5
         },
         "mode": "lines+lines",
         "name": "",
         "opacity": 0.1,
         "type": "scatter",
         "x": {
          "bdata": "AQAAAAIAAAADAAAABAAAAAUAAAAGAAAABwAAAAgAAAAJAAAACgAAAA==",
          "dtype": "i4"
         },
         "y": {
          "bdata": "c9anfoQIuT8ZU98fCD60P70k/o/bu7E/TkmdmBTzrT+RxFundManP/dz1fsnhaI/M8bmf3OqoT+TPDdHgyGhPxfDGZJMxqA/NIHe+iWDoD8=",
          "dtype": "f8"
         }
        },
        {
         "hovertext": "<b>Topic 31</b>:contador_propor_documentos_nota_ju",
         "line": {
          "color": "black",
          "width": 1.5
         },
         "mode": "lines+lines",
         "name": "",
         "opacity": 0.1,
         "type": "scatter",
         "x": {
          "bdata": "AQAAAAIAAAADAAAABAAAAAUAAAAGAAAABwAAAAgAAAAJAAAACgAAAA==",
          "dtype": "i4"
         },
         "y": {
          "bdata": "s4DUUOLvsj+aQeULSsuyPwYFD4uTT7I/r5OeiuYcrz/a2cVBa5mtP+4y7lJ91aw/OhSrqqRJqj8Iw08V7O6nP1tlKb9J3ac/6iXqcxygpj8=",
          "dtype": "f8"
         }
        },
        {
         "hovertext": "<b>Topic 32</b>:diligências_executórias_débito_exp",
         "line": {
          "color": "black",
          "width": 1.5
         },
         "mode": "lines+lines",
         "name": "",
         "opacity": 0.1,
         "type": "scatter",
         "x": {
          "bdata": "AQAAAAIAAAADAAAABAAAAAUAAAAGAAAABwAAAAgAAAAJAAAACgAAAA==",
          "dtype": "i4"
         },
         "y": {
          "bdata": "1rMR1diNxD+XmVn48JW8P9kE/Ap+Grw/JmqhREzIsz9ysVJ2dXaxP4RxRCTVQbE/767bDDFWsD9A6bq3z4euPyVu7GGinaw/VowOfdGVrD8=",
          "dtype": "f8"
         }
        },
        {
         "hovertext": "<b>Topic 33</b>:linha_telefonia_operadora_danos_mo",
         "line": {
          "color": "black",
          "width": 1.5
         },
         "mode": "lines+lines",
         "name": "",
         "opacity": 0.1,
         "type": "scatter",
         "x": {
          "bdata": "AQAAAAIAAAADAAAABAAAAAUAAAAGAAAABwAAAAgAAAAJAAAACgAAAA==",
          "dtype": "i4"
         },
         "y": {
          "bdata": "lVTQFC7OsT/oarXPviytP9VVAGJTJ6A/c4NWCeUDnz/Ovm9ttKCePzpIhlZXPpo/v/b37SiwmT/456M9ALqYP+Zc7zOSNJY/Q7gN4QTklT8=",
          "dtype": "f8"
         }
        },
        {
         "hovertext": "<b>Topic 34</b>:833_bens_exercício_impenhorabilida",
         "line": {
          "color": "black",
          "width": 1.5
         },
         "mode": "lines+lines",
         "name": "",
         "opacity": 0.1,
         "type": "scatter",
         "x": {
          "bdata": "AQAAAAIAAAADAAAABAAAAAUAAAAGAAAABwAAAAgAAAAJAAAACgAAAA==",
          "dtype": "i4"
         },
         "y": {
          "bdata": "165w2nXfsz+pK2fiENuwP58CrmPSlq8/GMcmN6W9rj99GWLxtvCrP9BPUKcIIKo/AS/E1484qD89DCQ0pgClP4eH/pcNzqM/udKYAzz1oD8=",
          "dtype": "f8"
         }
        },
        {
         "hovertext": "<b>Topic 35</b>:credor_microempresa_extinção_cessi",
         "line": {
          "color": "black",
          "width": 1.5
         },
         "mode": "lines+lines",
         "name": "",
         "opacity": 0.1,
         "type": "scatter",
         "x": {
          "bdata": "AQAAAAIAAAADAAAABAAAAAUAAAAGAAAABwAAAAgAAAAJAAAACgAAAA==",
          "dtype": "i4"
         },
         "y": {
          "bdata": "/sgmPzCwqj8S7BDMv96nP/zpHOM2qac/05rOPysxpD+XiXarosedP1IgXkuAOJ0/Fb/uZJromz+L3vDpGN+YPyjyILpwVJg/i2y2fYr0lz8=",
          "dtype": "f8"
         }
        },
        {
         "hovertext": "<b>Topic 36</b>:pena_semiaberto_regime_apenado_ext",
         "line": {
          "color": "black",
          "width": 1.5
         },
         "mode": "lines+lines",
         "name": "",
         "opacity": 0.1,
         "type": "scatter",
         "x": {
          "bdata": "AQAAAAIAAAADAAAABAAAAAUAAAAGAAAABwAAAAgAAAAJAAAACgAAAA==",
          "dtype": "i4"
         },
         "y": {
          "bdata": "KaCWPZE9tj85yEQLB9i0PwB1uUygmbM/yTSDVGtMsT8XSL/+60moP2YekAf6iaY/DWND2NappT9dk8mJeNqfP8OrM22Hg5o/F8bjhb/7mD8=",
          "dtype": "f8"
         }
        },
        {
         "hovertext": "<b>Topic 37</b>:epp_critérios_nos_enquadrava_cível",
         "line": {
          "color": "black",
          "width": 1.5
         },
         "mode": "lines+lines",
         "name": "",
         "opacity": 0.1,
         "type": "scatter",
         "x": {
          "bdata": "AQAAAAIAAAADAAAABAAAAAUAAAAGAAAABwAAAAgAAAAJAAAACgAAAA==",
          "dtype": "i4"
         },
         "y": {
          "bdata": "MGngDHGusj+caAtDypmyP6hfyWV50bA//iDjCuXOsD80RkyfPfqpP9j5KTk2mKc/Sk2HrQfbpT/xSUK4W32lPxZyk0EwCKU/v5vMPOHBpD8=",
          "dtype": "f8"
         }
        },
        {
         "hovertext": "<b>Topic 38</b>:alimentos_provisórios_mínimo_pai_f",
         "line": {
          "color": "black",
          "width": 1.5
         },
         "mode": "lines+lines",
         "name": "",
         "opacity": 0.1,
         "type": "scatter",
         "x": {
          "bdata": "AQAAAAIAAAADAAAABAAAAAUAAAAGAAAABwAAAAgAAAAJAAAACgAAAA==",
          "dtype": "i4"
         },
         "y": {
          "bdata": "/fss5vsPuj+WsXq/YUywP6/Xm8xihK4/Z+innajXrD9BGsiIpyGnP/T05GguLKU/nLH0m1jXoz/bvh5blqOiP036jzatgKA/aB9+kzKwnD8=",
          "dtype": "f8"
         }
        },
        {
         "hovertext": "<b>Topic 39</b>:juizado_especial_porte_pequeno_ltd",
         "line": {
          "color": "black",
          "width": 1.5
         },
         "mode": "lines+lines",
         "name": "",
         "opacity": 0.1,
         "type": "scatter",
         "x": {
          "bdata": "AQAAAAIAAAADAAAABAAAAAUAAAAGAAAABwAAAAgAAAAJAAAACgAAAA==",
          "dtype": "i4"
         },
         "y": {
          "bdata": "abU0tdknpT9iSJXbnzekP9XfflqiyaM/wmjAkDe/oz9AZQpDTWKiP9d5p/bQE6E/16PZw1QDoD9buQ2gSrmeP0zDrfC3bJ0/WTyTPXnJmj8=",
          "dtype": "f8"
         }
        },
        {
         "hovertext": "<b>Topic 40</b>:extrajudicial_título_protesto_exec",
         "line": {
          "color": "black",
          "width": 1.5
         },
         "mode": "lines+lines",
         "name": "",
         "opacity": 0.1,
         "type": "scatter",
         "x": {
          "bdata": "AQAAAAIAAAADAAAABAAAAAUAAAAGAAAABwAAAAgAAAAJAAAACgAAAA==",
          "dtype": "i4"
         },
         "y": {
          "bdata": "hk0mreEntz9x6ncDXOy2P9tfi048oLU/IT5OOybKsz+JC15FLsSxP5k7t7fuOq8/uGkxx/RQrT/teE6B5o6sPzKdX8RHS6g/cQ8yWaHtpj8=",
          "dtype": "f8"
         }
        },
        {
         "hovertext": "<b>Topic 41</b>:prisão_liberais_ceplemg_preso_conv",
         "line": {
          "color": "black",
          "width": 1.5
         },
         "mode": "lines+lines",
         "name": "",
         "opacity": 0.1,
         "type": "scatter",
         "x": {
          "bdata": "AQAAAAIAAAADAAAABAAAAAUAAAAGAAAABwAAAAgAAAAJAAAACgAAAA==",
          "dtype": "i4"
         },
         "y": {
          "bdata": "57XIGraUsT8720W2psewP2hlp5FfprA/l1qFe7YwsD9BTONqt8qvPyiXcAamGq8/NuCkc8ohrj+LS8HuQoWsP1eKW+BwKao/u75jQ5MMqj8=",
          "dtype": "f8"
         }
        },
        {
         "hovertext": "<b>Topic 42</b>:valores_conta_penhora_impenhorávei",
         "line": {
          "color": "black",
          "width": 1.5
         },
         "mode": "lines+lines",
         "name": "",
         "opacity": 0.1,
         "type": "scatter",
         "x": {
          "bdata": "AQAAAAIAAAADAAAABAAAAAUAAAAGAAAABwAAAAgAAAAJAAAACgAAAA==",
          "dtype": "i4"
         },
         "y": {
          "bdata": "DKiFaSSeuD8i+mAO40qxP/ZB/U/4IbE/XulBnD1UsD+EF0NXKnGqP9VU+IMIIac/iJYNV7nIoz9khUncWKegP2I8LtpomZs/2JU8OLM5mz8=",
          "dtype": "f8"
         }
        },
        {
         "hovertext": "<b>Topic 43</b>:juizado_099_95_especial_sociedades",
         "line": {
          "color": "black",
          "width": 1.5
         },
         "mode": "lines+lines",
         "name": "",
         "opacity": 0.1,
         "type": "scatter",
         "x": {
          "bdata": "AQAAAAIAAAADAAAABAAAAAUAAAAGAAAABwAAAAgAAAAJAAAACgAAAA==",
          "dtype": "i4"
         },
         "y": {
          "bdata": "7XkGtSJgsj9xgpferVGyP34iSLGOtbA/9o9cXrSusD/2p5s1jBiwP2IZ1yKnB6w/emmamnPeqz/oUaYeOzurP5McFDNT3qo/xF2d3vQxpz8=",
          "dtype": "f8"
         }
        },
        {
         "hovertext": "<b>Topic 44</b>:propor_juizado_nesse_ações_lei_aut",
         "line": {
          "color": "black",
          "width": 1.5
         },
         "mode": "lines+lines",
         "name": "",
         "opacity": 0.1,
         "type": "scatter",
         "x": {
          "bdata": "AQAAAAIAAAADAAAABAAAAAUAAAAGAAAABwAAAAgAAAAJAAAACgAAAA==",
          "dtype": "i4"
         },
         "y": {
          "bdata": "qQx3DxgPvj/Gh/zMY0u9P5Dcg0qulLo/NciPEe2Jtj+O7AVJ0y60P7UFTVfxZbA/xa3Yd99urz9Alaj6hYCtPyRv72Dcp6w/NFzpWoN/rD8=",
          "dtype": "f8"
         }
        },
        {
         "hovertext": "<b>Topic 45</b>:me_jurídico_negócio_instituição_no",
         "line": {
          "color": "black",
          "width": 1.5
         },
         "mode": "lines+lines",
         "name": "",
         "opacity": 0.1,
         "type": "scatter",
         "x": {
          "bdata": "AQAAAAIAAAADAAAABAAAAAUAAAAGAAAABwAAAAgAAAAJAAAACgAAAA==",
          "dtype": "i4"
         },
         "y": {
          "bdata": "8uCJw0a6wz/zCdafLZPBP1R5FamS5cA/3SnU83ukwD/FWazZobW+P+Ib9ZfX47s/d2GFLCBFuj8olm5FcVm5P4AvJTJr6bc/9SszTl4mtz8=",
          "dtype": "f8"
         }
        },
        {
         "hovertext": "<b>Topic 46</b>:00_000_autor_serviço_pagou_cliente",
         "line": {
          "color": "black",
          "width": 1.5
         },
         "mode": "lines+lines",
         "name": "",
         "opacity": 0.1,
         "type": "scatter",
         "x": {
          "bdata": "AQAAAAIAAAADAAAABAAAAAUAAAAGAAAABwAAAAgAAAAJAAAACgAAAA==",
          "dtype": "i4"
         },
         "y": {
          "bdata": "WDTv47kWsD96Ud6wTGeiP+P3+si0OKA/J7ktlEzInj9DMb4QBFWaPwVurzsb95k/cd3+sfH3mD+bE/ShcrKYP7B8AxDD6pc/iGwxg6owlz8=",
          "dtype": "f8"
         }
        },
        {
         "hovertext": "<b>Topic 47</b>:benefício_inss_deficiência_assiste",
         "line": {
          "color": "black",
          "width": 1.5
         },
         "mode": "lines+lines",
         "name": "",
         "opacity": 0.1,
         "type": "scatter",
         "x": {
          "bdata": "AQAAAAIAAAADAAAABAAAAAUAAAAGAAAABwAAAAgAAAAJAAAACgAAAA==",
          "dtype": "i4"
         },
         "y": {
          "bdata": "7f1vfkbMrj9++9x2pFinP6NpOO3RjaU/MaBb+/K+oT8SMAs/qG6fP8n03elFJZ0/W1/6Ot6tmz/ywsPpJKSbP34ClBO8N5c/6TobxEWhlT8=",
          "dtype": "f8"
         }
        },
        {
         "hovertext": "<b>Topic 48</b>:ciacaps_atualizacao_capacitacao_in",
         "line": {
          "color": "black",
          "width": 1.5
         },
         "mode": "lines+lines",
         "name": "",
         "opacity": 0.1,
         "type": "scatter",
         "x": {
          "bdata": "AQAAAAIAAAADAAAABAAAAAUAAAAGAAAABwAAAAgAAAAJAAAACgAAAA==",
          "dtype": "i4"
         },
         "y": {
          "bdata": "Xqi9Lokevj+FACWz6HW5P4UAJbPodbk/g5zqN9HfuD8GuwH4bNy2PxZK9s1Dv7Y/8j5m/lmAtj/PUlW8Qkq2PzC44XIZRbY/4nfOs+Fasj8=",
          "dtype": "f8"
         }
        },
        {
         "hovertext": "<b>Topic 49</b>:rural_idade_aposentadoria_inss_agr",
         "line": {
          "color": "black",
          "width": 1.5
         },
         "mode": "lines+lines",
         "name": "",
         "opacity": 0.1,
         "type": "scatter",
         "x": {
          "bdata": "AQAAAAIAAAADAAAABAAAAAUAAAAGAAAABwAAAAgAAAAJAAAACgAAAA==",
          "dtype": "i4"
         },
         "y": {
          "bdata": "4heXL4jPxj+LuaMRJzO8P1eBCdM3PbI/pCQ+yL43pj9E0dWVeW6hP7eICvRZz6A/YcxN47ninz+BQUIg7JieP+oG/+ZcJpw/OluTdbesmz8=",
          "dtype": "f8"
         }
        },
        {
         "hovertext": "<b>Topic 50</b>:proporcional_cobrança_tipo_previst",
         "line": {
          "color": "black",
          "width": 1.5
         },
         "mode": "lines+lines",
         "name": "",
         "opacity": 0.1,
         "type": "scatter",
         "x": {
          "bdata": "AQAAAAIAAAADAAAABAAAAAUAAAAGAAAABwAAAAgAAAAJAAAACgAAAA==",
          "dtype": "i4"
         },
         "y": {
          "bdata": "+M0wnUo1wD9LUOxj1ES/P+uDd+DWIr0/LnO/ZnzGuD+rnHpnRSe2P0WBhatPkbU/Do1wgBn4tD8CyRwp4dW0P62l1rEpaLE/F3eSqs8HsT8=",
          "dtype": "f8"
         }
        },
        {
         "hovertext": "<b>Topic 51</b>:citado_réu_intimado_compareceu_aud",
         "line": {
          "color": "black",
          "width": 1.5
         },
         "mode": "lines+lines",
         "name": "",
         "opacity": 0.1,
         "type": "scatter",
         "x": {
          "bdata": "AQAAAAIAAAADAAAABAAAAAUAAAAGAAAABwAAAAgAAAAJAAAACgAAAA==",
          "dtype": "i4"
         },
         "y": {
          "bdata": "gg2TJ5QAvT+A2SMvuVq8P7J4GtydWbw/FpYOmcYtuj94ryialNy5P17XPPeQ1LY/uECqRBhqsj+6t87KHFGwPx+5FtcrPbA/snicmw4Wrj8=",
          "dtype": "f8"
         }
        },
        {
         "hovertext": "<b>Topic 52</b>:embargos_omissão_declaração_acórdã",
         "line": {
          "color": "black",
          "width": 1.5
         },
         "mode": "lines+lines",
         "name": "",
         "opacity": 0.1,
         "type": "scatter",
         "x": {
          "bdata": "AQAAAAIAAAADAAAABAAAAAUAAAAGAAAABwAAAAgAAAAJAAAACgAAAA==",
          "dtype": "i4"
         },
         "y": {
          "bdata": "L5hkqcJItj9Q9ySuYa6wPyh4siKYHrA/ZHgURBfupz8RbS+JQ4SnP9aTQfrarqQ/MoZuKQ7uoz8ajIVt7gKiP2ydm5aPH6A/bO3XOXCYmT8=",
          "dtype": "f8"
         }
        },
        {
         "hovertext": "<b>Topic 53</b>:inviabilidade_financeira_gratuidad",
         "line": {
          "color": "black",
          "width": 1.5
         },
         "mode": "lines+lines",
         "name": "",
         "opacity": 0.1,
         "type": "scatter",
         "x": {
          "bdata": "AQAAAAIAAAADAAAABAAAAAUAAAAGAAAABwAAAAgAAAAJAAAACgAAAA==",
          "dtype": "i4"
         },
         "y": {
          "bdata": "rSv2ALIexj9pcA2u+0i8P3LZ50UaTbs/6wz8oAd3tD+NMFM2f+SyPzaOLdch1bI/mJSe3e3Bsj+1STZg4LiyP8MMdRNPMrE/NWERQMHzsD8=",
          "dtype": "f8"
         }
        },
        {
         "hovertext": "<b>Topic 54</b>:crime_ministério_autoria_público_p",
         "line": {
          "color": "black",
          "width": 1.5
         },
         "mode": "lines+lines",
         "name": "",
         "opacity": 0.1,
         "type": "scatter",
         "x": {
          "bdata": "AQAAAAIAAAADAAAABAAAAAUAAAAGAAAABwAAAAgAAAAJAAAACgAAAA==",
          "dtype": "i4"
         },
         "y": {
          "bdata": "BX+HGu8EuD+dj2FWyVGuP+Bn+V5y7ao/62gNimroqj98WjSClj6nP40YVkUttaQ//fkBHymWoj8vqd/qgaKgP6wWIuJtJqA/tOdQdKI0nz8=",
          "dtype": "f8"
         }
        },
        {
         "hovertext": "<b>Topic 55</b>:citação_endereço_entregue_postal_v",
         "line": {
          "color": "black",
          "width": 1.5
         },
         "mode": "lines+lines",
         "name": "",
         "opacity": 0.1,
         "type": "scatter",
         "x": {
          "bdata": "AQAAAAIAAAADAAAABAAAAAUAAAAGAAAABwAAAAgAAAAJAAAACgAAAA==",
          "dtype": "i4"
         },
         "y": {
          "bdata": "52Tz9UTjxD8Lig0m33CxP8cO1sNYSaQ/MIQmGiX7oz+NhCWH0qKhP7QxrwYcSKE/bHIJ6T8LoT/CstzK0PugP9/sxELJapw/58pLl9Jdmz8=",
          "dtype": "f8"
         }
        },
        {
         "hovertext": "<b>Topic 56</b>:depósito_recursal_custas_ordinário",
         "line": {
          "color": "black",
          "width": 1.5
         },
         "mode": "lines+lines",
         "name": "",
         "opacity": 0.1,
         "type": "scatter",
         "x": {
          "bdata": "AQAAAAIAAAADAAAABAAAAAUAAAAGAAAABwAAAAgAAAAJAAAACgAAAA==",
          "dtype": "i4"
         },
         "y": {
          "bdata": "0pdp6/fisD+Qi9u3LpSvPyIQZsoQuqw/nVuzS/WUpz+nT/cVLxCmPzOJDhPRj6U/j75UsJNkpT9oq67+cp2jPyR1+yFqs6E/cszKRQIBoT8=",
          "dtype": "f8"
         }
        },
        {
         "hovertext": "<b>Topic 57</b>:doação_eleitoral_doações_limite_ac",
         "line": {
          "color": "black",
          "width": 1.5
         },
         "mode": "lines+lines",
         "name": "",
         "opacity": 0.1,
         "type": "scatter",
         "x": {
          "bdata": "AQAAAAIAAAADAAAABAAAAAUAAAAGAAAABwAAAAgAAAAJAAAACgAAAA==",
          "dtype": "i4"
         },
         "y": {
          "bdata": "mzY/smLtwj+5b83PYue7PzAgg27g6bo/LfuAfXZRuj99dGqXfwuwP+DOQzmNx6k/OzXc8TVBqT8gBrkWdOWmP9OJfmkGoKY/9cuz5biToT8=",
          "dtype": "f8"
         }
        }
       ],
       "layout": {
        "height": 500,
        "hoverlabel": {
         "bgcolor": "white",
         "font": {
          "family": "Rockwell",
          "size": 16
         }
        },
        "showlegend": false,
        "template": {
         "data": {
          "bar": [
           {
            "error_x": {
             "color": "#2a3f5f"
            },
            "error_y": {
             "color": "#2a3f5f"
            },
            "marker": {
             "line": {
              "color": "white",
              "width": 0.5
             },
             "pattern": {
              "fillmode": "overlay",
              "size": 10,
              "solidity": 0.2
             }
            },
            "type": "bar"
           }
          ],
          "barpolar": [
           {
            "marker": {
             "line": {
              "color": "white",
              "width": 0.5
             },
             "pattern": {
              "fillmode": "overlay",
              "size": 10,
              "solidity": 0.2
             }
            },
            "type": "barpolar"
           }
          ],
          "carpet": [
           {
            "aaxis": {
             "endlinecolor": "#2a3f5f",
             "gridcolor": "#C8D4E3",
             "linecolor": "#C8D4E3",
             "minorgridcolor": "#C8D4E3",
             "startlinecolor": "#2a3f5f"
            },
            "baxis": {
             "endlinecolor": "#2a3f5f",
             "gridcolor": "#C8D4E3",
             "linecolor": "#C8D4E3",
             "minorgridcolor": "#C8D4E3",
             "startlinecolor": "#2a3f5f"
            },
            "type": "carpet"
           }
          ],
          "choropleth": [
           {
            "colorbar": {
             "outlinewidth": 0,
             "ticks": ""
            },
            "type": "choropleth"
           }
          ],
          "contour": [
           {
            "colorbar": {
             "outlinewidth": 0,
             "ticks": ""
            },
            "colorscale": [
             [
              0,
              "#0d0887"
             ],
             [
              0.1111111111111111,
              "#46039f"
             ],
             [
              0.2222222222222222,
              "#7201a8"
             ],
             [
              0.3333333333333333,
              "#9c179e"
             ],
             [
              0.4444444444444444,
              "#bd3786"
             ],
             [
              0.5555555555555556,
              "#d8576b"
             ],
             [
              0.6666666666666666,
              "#ed7953"
             ],
             [
              0.7777777777777778,
              "#fb9f3a"
             ],
             [
              0.8888888888888888,
              "#fdca26"
             ],
             [
              1,
              "#f0f921"
             ]
            ],
            "type": "contour"
           }
          ],
          "contourcarpet": [
           {
            "colorbar": {
             "outlinewidth": 0,
             "ticks": ""
            },
            "type": "contourcarpet"
           }
          ],
          "heatmap": [
           {
            "colorbar": {
             "outlinewidth": 0,
             "ticks": ""
            },
            "colorscale": [
             [
              0,
              "#0d0887"
             ],
             [
              0.1111111111111111,
              "#46039f"
             ],
             [
              0.2222222222222222,
              "#7201a8"
             ],
             [
              0.3333333333333333,
              "#9c179e"
             ],
             [
              0.4444444444444444,
              "#bd3786"
             ],
             [
              0.5555555555555556,
              "#d8576b"
             ],
             [
              0.6666666666666666,
              "#ed7953"
             ],
             [
              0.7777777777777778,
              "#fb9f3a"
             ],
             [
              0.8888888888888888,
              "#fdca26"
             ],
             [
              1,
              "#f0f921"
             ]
            ],
            "type": "heatmap"
           }
          ],
          "histogram": [
           {
            "marker": {
             "pattern": {
              "fillmode": "overlay",
              "size": 10,
              "solidity": 0.2
             }
            },
            "type": "histogram"
           }
          ],
          "histogram2d": [
           {
            "colorbar": {
             "outlinewidth": 0,
             "ticks": ""
            },
            "colorscale": [
             [
              0,
              "#0d0887"
             ],
             [
              0.1111111111111111,
              "#46039f"
             ],
             [
              0.2222222222222222,
              "#7201a8"
             ],
             [
              0.3333333333333333,
              "#9c179e"
             ],
             [
              0.4444444444444444,
              "#bd3786"
             ],
             [
              0.5555555555555556,
              "#d8576b"
             ],
             [
              0.6666666666666666,
              "#ed7953"
             ],
             [
              0.7777777777777778,
              "#fb9f3a"
             ],
             [
              0.8888888888888888,
              "#fdca26"
             ],
             [
              1,
              "#f0f921"
             ]
            ],
            "type": "histogram2d"
           }
          ],
          "histogram2dcontour": [
           {
            "colorbar": {
             "outlinewidth": 0,
             "ticks": ""
            },
            "colorscale": [
             [
              0,
              "#0d0887"
             ],
             [
              0.1111111111111111,
              "#46039f"
             ],
             [
              0.2222222222222222,
              "#7201a8"
             ],
             [
              0.3333333333333333,
              "#9c179e"
             ],
             [
              0.4444444444444444,
              "#bd3786"
             ],
             [
              0.5555555555555556,
              "#d8576b"
             ],
             [
              0.6666666666666666,
              "#ed7953"
             ],
             [
              0.7777777777777778,
              "#fb9f3a"
             ],
             [
              0.8888888888888888,
              "#fdca26"
             ],
             [
              1,
              "#f0f921"
             ]
            ],
            "type": "histogram2dcontour"
           }
          ],
          "mesh3d": [
           {
            "colorbar": {
             "outlinewidth": 0,
             "ticks": ""
            },
            "type": "mesh3d"
           }
          ],
          "parcoords": [
           {
            "line": {
             "colorbar": {
              "outlinewidth": 0,
              "ticks": ""
             }
            },
            "type": "parcoords"
           }
          ],
          "pie": [
           {
            "automargin": true,
            "type": "pie"
           }
          ],
          "scatter": [
           {
            "fillpattern": {
             "fillmode": "overlay",
             "size": 10,
             "solidity": 0.2
            },
            "type": "scatter"
           }
          ],
          "scatter3d": [
           {
            "line": {
             "colorbar": {
              "outlinewidth": 0,
              "ticks": ""
             }
            },
            "marker": {
             "colorbar": {
              "outlinewidth": 0,
              "ticks": ""
             }
            },
            "type": "scatter3d"
           }
          ],
          "scattercarpet": [
           {
            "marker": {
             "colorbar": {
              "outlinewidth": 0,
              "ticks": ""
             }
            },
            "type": "scattercarpet"
           }
          ],
          "scattergeo": [
           {
            "marker": {
             "colorbar": {
              "outlinewidth": 0,
              "ticks": ""
             }
            },
            "type": "scattergeo"
           }
          ],
          "scattergl": [
           {
            "marker": {
             "colorbar": {
              "outlinewidth": 0,
              "ticks": ""
             }
            },
            "type": "scattergl"
           }
          ],
          "scattermap": [
           {
            "marker": {
             "colorbar": {
              "outlinewidth": 0,
              "ticks": ""
             }
            },
            "type": "scattermap"
           }
          ],
          "scattermapbox": [
           {
            "marker": {
             "colorbar": {
              "outlinewidth": 0,
              "ticks": ""
             }
            },
            "type": "scattermapbox"
           }
          ],
          "scatterpolar": [
           {
            "marker": {
             "colorbar": {
              "outlinewidth": 0,
              "ticks": ""
             }
            },
            "type": "scatterpolar"
           }
          ],
          "scatterpolargl": [
           {
            "marker": {
             "colorbar": {
              "outlinewidth": 0,
              "ticks": ""
             }
            },
            "type": "scatterpolargl"
           }
          ],
          "scatterternary": [
           {
            "marker": {
             "colorbar": {
              "outlinewidth": 0,
              "ticks": ""
             }
            },
            "type": "scatterternary"
           }
          ],
          "surface": [
           {
            "colorbar": {
             "outlinewidth": 0,
             "ticks": ""
            },
            "colorscale": [
             [
              0,
              "#0d0887"
             ],
             [
              0.1111111111111111,
              "#46039f"
             ],
             [
              0.2222222222222222,
              "#7201a8"
             ],
             [
              0.3333333333333333,
              "#9c179e"
             ],
             [
              0.4444444444444444,
              "#bd3786"
             ],
             [
              0.5555555555555556,
              "#d8576b"
             ],
             [
              0.6666666666666666,
              "#ed7953"
             ],
             [
              0.7777777777777778,
              "#fb9f3a"
             ],
             [
              0.8888888888888888,
              "#fdca26"
             ],
             [
              1,
              "#f0f921"
             ]
            ],
            "type": "surface"
           }
          ],
          "table": [
           {
            "cells": {
             "fill": {
              "color": "#EBF0F8"
             },
             "line": {
              "color": "white"
             }
            },
            "header": {
             "fill": {
              "color": "#C8D4E3"
             },
             "line": {
              "color": "white"
             }
            },
            "type": "table"
           }
          ]
         },
         "layout": {
          "annotationdefaults": {
           "arrowcolor": "#2a3f5f",
           "arrowhead": 0,
           "arrowwidth": 1
          },
          "autotypenumbers": "strict",
          "coloraxis": {
           "colorbar": {
            "outlinewidth": 0,
            "ticks": ""
           }
          },
          "colorscale": {
           "diverging": [
            [
             0,
             "#8e0152"
            ],
            [
             0.1,
             "#c51b7d"
            ],
            [
             0.2,
             "#de77ae"
            ],
            [
             0.3,
             "#f1b6da"
            ],
            [
             0.4,
             "#fde0ef"
            ],
            [
             0.5,
             "#f7f7f7"
            ],
            [
             0.6,
             "#e6f5d0"
            ],
            [
             0.7,
             "#b8e186"
            ],
            [
             0.8,
             "#7fbc41"
            ],
            [
             0.9,
             "#4d9221"
            ],
            [
             1,
             "#276419"
            ]
           ],
           "sequential": [
            [
             0,
             "#0d0887"
            ],
            [
             0.1111111111111111,
             "#46039f"
            ],
            [
             0.2222222222222222,
             "#7201a8"
            ],
            [
             0.3333333333333333,
             "#9c179e"
            ],
            [
             0.4444444444444444,
             "#bd3786"
            ],
            [
             0.5555555555555556,
             "#d8576b"
            ],
            [
             0.6666666666666666,
             "#ed7953"
            ],
            [
             0.7777777777777778,
             "#fb9f3a"
            ],
            [
             0.8888888888888888,
             "#fdca26"
            ],
            [
             1,
             "#f0f921"
            ]
           ],
           "sequentialminus": [
            [
             0,
             "#0d0887"
            ],
            [
             0.1111111111111111,
             "#46039f"
            ],
            [
             0.2222222222222222,
             "#7201a8"
            ],
            [
             0.3333333333333333,
             "#9c179e"
            ],
            [
             0.4444444444444444,
             "#bd3786"
            ],
            [
             0.5555555555555556,
             "#d8576b"
            ],
            [
             0.6666666666666666,
             "#ed7953"
            ],
            [
             0.7777777777777778,
             "#fb9f3a"
            ],
            [
             0.8888888888888888,
             "#fdca26"
            ],
            [
             1,
             "#f0f921"
            ]
           ]
          },
          "colorway": [
           "#636efa",
           "#EF553B",
           "#00cc96",
           "#ab63fa",
           "#FFA15A",
           "#19d3f3",
           "#FF6692",
           "#B6E880",
           "#FF97FF",
           "#FECB52"
          ],
          "font": {
           "color": "#2a3f5f"
          },
          "geo": {
           "bgcolor": "white",
           "lakecolor": "white",
           "landcolor": "white",
           "showlakes": true,
           "showland": true,
           "subunitcolor": "#C8D4E3"
          },
          "hoverlabel": {
           "align": "left"
          },
          "hovermode": "closest",
          "mapbox": {
           "style": "light"
          },
          "paper_bgcolor": "white",
          "plot_bgcolor": "white",
          "polar": {
           "angularaxis": {
            "gridcolor": "#EBF0F8",
            "linecolor": "#EBF0F8",
            "ticks": ""
           },
           "bgcolor": "white",
           "radialaxis": {
            "gridcolor": "#EBF0F8",
            "linecolor": "#EBF0F8",
            "ticks": ""
           }
          },
          "scene": {
           "xaxis": {
            "backgroundcolor": "white",
            "gridcolor": "#DFE8F3",
            "gridwidth": 2,
            "linecolor": "#EBF0F8",
            "showbackground": true,
            "ticks": "",
            "zerolinecolor": "#EBF0F8"
           },
           "yaxis": {
            "backgroundcolor": "white",
            "gridcolor": "#DFE8F3",
            "gridwidth": 2,
            "linecolor": "#EBF0F8",
            "showbackground": true,
            "ticks": "",
            "zerolinecolor": "#EBF0F8"
           },
           "zaxis": {
            "backgroundcolor": "white",
            "gridcolor": "#DFE8F3",
            "gridwidth": 2,
            "linecolor": "#EBF0F8",
            "showbackground": true,
            "ticks": "",
            "zerolinecolor": "#EBF0F8"
           }
          },
          "shapedefaults": {
           "line": {
            "color": "#2a3f5f"
           }
          },
          "ternary": {
           "aaxis": {
            "gridcolor": "#DFE8F3",
            "linecolor": "#A2B1C6",
            "ticks": ""
           },
           "baxis": {
            "gridcolor": "#DFE8F3",
            "linecolor": "#A2B1C6",
            "ticks": ""
           },
           "bgcolor": "white",
           "caxis": {
            "gridcolor": "#DFE8F3",
            "linecolor": "#A2B1C6",
            "ticks": ""
           }
          },
          "title": {
           "x": 0.05
          },
          "xaxis": {
           "automargin": true,
           "gridcolor": "#EBF0F8",
           "linecolor": "#EBF0F8",
           "ticks": "",
           "title": {
            "standoff": 15
           },
           "zerolinecolor": "#EBF0F8",
           "zerolinewidth": 2
          },
          "yaxis": {
           "automargin": true,
           "gridcolor": "#EBF0F8",
           "linecolor": "#EBF0F8",
           "ticks": "",
           "title": {
            "standoff": 15
           },
           "zerolinecolor": "#EBF0F8",
           "zerolinewidth": 2
          }
         }
        },
        "title": {
         "font": {
          "color": "Black",
          "size": 22
         },
         "text": "<b>Term score decline per Topic</b>",
         "x": 0.5,
         "xanchor": "center",
         "y": 0.9,
         "yanchor": "top"
        },
        "width": 800,
        "xaxis": {
         "dtick": 2,
         "range": [
          0,
          10
         ],
         "tick0": 1,
         "title": {
          "text": "Term Rank"
         }
        },
        "yaxis": {
         "title": {
          "text": "c-TF-IDF score"
         }
        }
       }
      }
     },
     "metadata": {},
     "output_type": "display_data"
    }
   ],
   "source": [
    "topic_model.visualize_term_rank()"
   ]
  },
  {
   "cell_type": "code",
   "execution_count": 155,
   "id": "683cdaad-1302-41cb-ada9-aa41058a348a",
   "metadata": {},
   "outputs": [
    {
     "data": {
      "application/vnd.plotly.v1+json": {
       "config": {
        "plotlyServerURL": "https://plot.ly"
       },
       "data": [
        {
         "branchvalues": "total",
         "customdata": {
          "bdata": "AAAAAABapUAAAAAAADiPQAAAAAAAgHxAAAAAAADAdkAAAAAAAEB1QAAAAAAAMHFAAAAAAACgakAAAAAAAGBpQAAAAAAAQGlAAAAAAABAaUAAAAAAAGBmQAAAAAAAoGBAAAAAAACAWkAAAAAAAMBXQAAAAAAAwFZAAAAAAADAVUAAAAAAAIBUQAAAAAAAQFRAAAAAAABAVEAAAAAAAMBTQA==",
          "dtype": "f8",
          "shape": "20, 1"
         },
         "domain": {
          "x": [
           0,
           1
          ],
          "y": [
           0,
           1
          ]
         },
         "hovertemplate": "<b>%{label}</b><br>Quantidade: %{value}<extra></extra>",
         "ids": [
          "0 - Vínculo Empregatício...",
          "3 - Justiça Gratuita...",
          "13 - Isenção de Taxas para MEIs...",
          "12 - Fraude Empresarial...",
          "22 - Adeção ao Simples Nacional...",
          "10 - Seguro-Desemprego e Renda...",
          "9 - Problemas Bancários...",
          "2 - Confusão Patrimonial MEI...",
          "14 - Contribuições e Aposentadoria...",
          "4 - Negativação Indevida...",
          "24 - Benefícios Previdenciários...",
          "6 - Irregularidades em Licitações...",
          "1 - Recursos Trabalhistas...",
          "20 - Redução de Depósito Recursal...",
          "16 - Salário-Maternidade INSS...",
          "5 - Juros e Cobrança...",
          "29 - Documentação Judicial...",
          "23 - Auxílio Emergencial...",
          "32 - Cobrança de Débitos...",
          "18 - Problemas com Planos de Saúde..."
         ],
         "labels": [
          "0 - Vínculo Empregatício...",
          "3 - Justiça Gratuita...",
          "13 - Isenção de Taxas para MEIs...",
          "12 - Fraude Empresarial...",
          "22 - Adeção ao Simples Nacional...",
          "10 - Seguro-Desemprego e Renda...",
          "9 - Problemas Bancários...",
          "2 - Confusão Patrimonial MEI...",
          "14 - Contribuições e Aposentadoria...",
          "4 - Negativação Indevida...",
          "24 - Benefícios Previdenciários...",
          "6 - Irregularidades em Licitações...",
          "1 - Recursos Trabalhistas...",
          "20 - Redução de Depósito Recursal...",
          "16 - Salário-Maternidade INSS...",
          "5 - Juros e Cobrança...",
          "29 - Documentação Judicial...",
          "23 - Auxílio Emergencial...",
          "32 - Cobrança de Débitos...",
          "18 - Problemas com Planos de Saúde..."
         ],
         "marker": {
          "coloraxis": "coloraxis",
          "colors": {
           "bdata": "AAAAAABapUAAAAAAADiPQAAAAAAAgHxAAAAAAADAdkAAAAAAAEB1QAAAAAAAMHFAAAAAAACgakAAAAAAAGBpQAAAAAAAQGlAAAAAAABAaUAAAAAAAGBmQAAAAAAAoGBAAAAAAACAWkAAAAAAAMBXQAAAAAAAwFZAAAAAAADAVUAAAAAAAIBUQAAAAAAAQFRAAAAAAABAVEAAAAAAAMBTQA==",
           "dtype": "f8"
          }
         },
         "name": "",
         "parents": [
          "",
          "",
          "",
          "",
          "",
          "",
          "",
          "",
          "",
          "",
          "",
          "",
          "",
          "",
          "",
          "",
          "",
          "",
          "",
          ""
         ],
         "textinfo": "label+value",
         "type": "treemap",
         "values": {
          "bdata": "AAAAAABapUAAAAAAADiPQAAAAAAAgHxAAAAAAADAdkAAAAAAAEB1QAAAAAAAMHFAAAAAAACgakAAAAAAAGBpQAAAAAAAQGlAAAAAAABAaUAAAAAAAGBmQAAAAAAAoGBAAAAAAACAWkAAAAAAAMBXQAAAAAAAwFZAAAAAAADAVUAAAAAAAIBUQAAAAAAAQFRAAAAAAABAVEAAAAAAAMBTQA==",
          "dtype": "f8"
         }
        }
       ],
       "layout": {
        "coloraxis": {
         "colorbar": {
          "title": {
           "text": "quantidade"
          }
         },
         "colorscale": [
          [
           0,
           "rgb(103,0,31)"
          ],
          [
           0.1,
           "rgb(178,24,43)"
          ],
          [
           0.2,
           "rgb(214,96,77)"
          ],
          [
           0.3,
           "rgb(244,165,130)"
          ],
          [
           0.4,
           "rgb(253,219,199)"
          ],
          [
           0.5,
           "rgb(247,247,247)"
          ],
          [
           0.6,
           "rgb(209,229,240)"
          ],
          [
           0.7,
           "rgb(146,197,222)"
          ],
          [
           0.8,
           "rgb(67,147,195)"
          ],
          [
           0.9,
           "rgb(33,102,172)"
          ],
          [
           1,
           "rgb(5,48,97)"
          ]
         ]
        },
        "legend": {
         "tracegroupgap": 0
        },
        "template": {
         "data": {
          "bar": [
           {
            "error_x": {
             "color": "#2a3f5f"
            },
            "error_y": {
             "color": "#2a3f5f"
            },
            "marker": {
             "line": {
              "color": "#E5ECF6",
              "width": 0.5
             },
             "pattern": {
              "fillmode": "overlay",
              "size": 10,
              "solidity": 0.2
             }
            },
            "type": "bar"
           }
          ],
          "barpolar": [
           {
            "marker": {
             "line": {
              "color": "#E5ECF6",
              "width": 0.5
             },
             "pattern": {
              "fillmode": "overlay",
              "size": 10,
              "solidity": 0.2
             }
            },
            "type": "barpolar"
           }
          ],
          "carpet": [
           {
            "aaxis": {
             "endlinecolor": "#2a3f5f",
             "gridcolor": "white",
             "linecolor": "white",
             "minorgridcolor": "white",
             "startlinecolor": "#2a3f5f"
            },
            "baxis": {
             "endlinecolor": "#2a3f5f",
             "gridcolor": "white",
             "linecolor": "white",
             "minorgridcolor": "white",
             "startlinecolor": "#2a3f5f"
            },
            "type": "carpet"
           }
          ],
          "choropleth": [
           {
            "colorbar": {
             "outlinewidth": 0,
             "ticks": ""
            },
            "type": "choropleth"
           }
          ],
          "contour": [
           {
            "colorbar": {
             "outlinewidth": 0,
             "ticks": ""
            },
            "colorscale": [
             [
              0,
              "#0d0887"
             ],
             [
              0.1111111111111111,
              "#46039f"
             ],
             [
              0.2222222222222222,
              "#7201a8"
             ],
             [
              0.3333333333333333,
              "#9c179e"
             ],
             [
              0.4444444444444444,
              "#bd3786"
             ],
             [
              0.5555555555555556,
              "#d8576b"
             ],
             [
              0.6666666666666666,
              "#ed7953"
             ],
             [
              0.7777777777777778,
              "#fb9f3a"
             ],
             [
              0.8888888888888888,
              "#fdca26"
             ],
             [
              1,
              "#f0f921"
             ]
            ],
            "type": "contour"
           }
          ],
          "contourcarpet": [
           {
            "colorbar": {
             "outlinewidth": 0,
             "ticks": ""
            },
            "type": "contourcarpet"
           }
          ],
          "heatmap": [
           {
            "colorbar": {
             "outlinewidth": 0,
             "ticks": ""
            },
            "colorscale": [
             [
              0,
              "#0d0887"
             ],
             [
              0.1111111111111111,
              "#46039f"
             ],
             [
              0.2222222222222222,
              "#7201a8"
             ],
             [
              0.3333333333333333,
              "#9c179e"
             ],
             [
              0.4444444444444444,
              "#bd3786"
             ],
             [
              0.5555555555555556,
              "#d8576b"
             ],
             [
              0.6666666666666666,
              "#ed7953"
             ],
             [
              0.7777777777777778,
              "#fb9f3a"
             ],
             [
              0.8888888888888888,
              "#fdca26"
             ],
             [
              1,
              "#f0f921"
             ]
            ],
            "type": "heatmap"
           }
          ],
          "histogram": [
           {
            "marker": {
             "pattern": {
              "fillmode": "overlay",
              "size": 10,
              "solidity": 0.2
             }
            },
            "type": "histogram"
           }
          ],
          "histogram2d": [
           {
            "colorbar": {
             "outlinewidth": 0,
             "ticks": ""
            },
            "colorscale": [
             [
              0,
              "#0d0887"
             ],
             [
              0.1111111111111111,
              "#46039f"
             ],
             [
              0.2222222222222222,
              "#7201a8"
             ],
             [
              0.3333333333333333,
              "#9c179e"
             ],
             [
              0.4444444444444444,
              "#bd3786"
             ],
             [
              0.5555555555555556,
              "#d8576b"
             ],
             [
              0.6666666666666666,
              "#ed7953"
             ],
             [
              0.7777777777777778,
              "#fb9f3a"
             ],
             [
              0.8888888888888888,
              "#fdca26"
             ],
             [
              1,
              "#f0f921"
             ]
            ],
            "type": "histogram2d"
           }
          ],
          "histogram2dcontour": [
           {
            "colorbar": {
             "outlinewidth": 0,
             "ticks": ""
            },
            "colorscale": [
             [
              0,
              "#0d0887"
             ],
             [
              0.1111111111111111,
              "#46039f"
             ],
             [
              0.2222222222222222,
              "#7201a8"
             ],
             [
              0.3333333333333333,
              "#9c179e"
             ],
             [
              0.4444444444444444,
              "#bd3786"
             ],
             [
              0.5555555555555556,
              "#d8576b"
             ],
             [
              0.6666666666666666,
              "#ed7953"
             ],
             [
              0.7777777777777778,
              "#fb9f3a"
             ],
             [
              0.8888888888888888,
              "#fdca26"
             ],
             [
              1,
              "#f0f921"
             ]
            ],
            "type": "histogram2dcontour"
           }
          ],
          "mesh3d": [
           {
            "colorbar": {
             "outlinewidth": 0,
             "ticks": ""
            },
            "type": "mesh3d"
           }
          ],
          "parcoords": [
           {
            "line": {
             "colorbar": {
              "outlinewidth": 0,
              "ticks": ""
             }
            },
            "type": "parcoords"
           }
          ],
          "pie": [
           {
            "automargin": true,
            "type": "pie"
           }
          ],
          "scatter": [
           {
            "fillpattern": {
             "fillmode": "overlay",
             "size": 10,
             "solidity": 0.2
            },
            "type": "scatter"
           }
          ],
          "scatter3d": [
           {
            "line": {
             "colorbar": {
              "outlinewidth": 0,
              "ticks": ""
             }
            },
            "marker": {
             "colorbar": {
              "outlinewidth": 0,
              "ticks": ""
             }
            },
            "type": "scatter3d"
           }
          ],
          "scattercarpet": [
           {
            "marker": {
             "colorbar": {
              "outlinewidth": 0,
              "ticks": ""
             }
            },
            "type": "scattercarpet"
           }
          ],
          "scattergeo": [
           {
            "marker": {
             "colorbar": {
              "outlinewidth": 0,
              "ticks": ""
             }
            },
            "type": "scattergeo"
           }
          ],
          "scattergl": [
           {
            "marker": {
             "colorbar": {
              "outlinewidth": 0,
              "ticks": ""
             }
            },
            "type": "scattergl"
           }
          ],
          "scattermap": [
           {
            "marker": {
             "colorbar": {
              "outlinewidth": 0,
              "ticks": ""
             }
            },
            "type": "scattermap"
           }
          ],
          "scattermapbox": [
           {
            "marker": {
             "colorbar": {
              "outlinewidth": 0,
              "ticks": ""
             }
            },
            "type": "scattermapbox"
           }
          ],
          "scatterpolar": [
           {
            "marker": {
             "colorbar": {
              "outlinewidth": 0,
              "ticks": ""
             }
            },
            "type": "scatterpolar"
           }
          ],
          "scatterpolargl": [
           {
            "marker": {
             "colorbar": {
              "outlinewidth": 0,
              "ticks": ""
             }
            },
            "type": "scatterpolargl"
           }
          ],
          "scatterternary": [
           {
            "marker": {
             "colorbar": {
              "outlinewidth": 0,
              "ticks": ""
             }
            },
            "type": "scatterternary"
           }
          ],
          "surface": [
           {
            "colorbar": {
             "outlinewidth": 0,
             "ticks": ""
            },
            "colorscale": [
             [
              0,
              "#0d0887"
             ],
             [
              0.1111111111111111,
              "#46039f"
             ],
             [
              0.2222222222222222,
              "#7201a8"
             ],
             [
              0.3333333333333333,
              "#9c179e"
             ],
             [
              0.4444444444444444,
              "#bd3786"
             ],
             [
              0.5555555555555556,
              "#d8576b"
             ],
             [
              0.6666666666666666,
              "#ed7953"
             ],
             [
              0.7777777777777778,
              "#fb9f3a"
             ],
             [
              0.8888888888888888,
              "#fdca26"
             ],
             [
              1,
              "#f0f921"
             ]
            ],
            "type": "surface"
           }
          ],
          "table": [
           {
            "cells": {
             "fill": {
              "color": "#EBF0F8"
             },
             "line": {
              "color": "white"
             }
            },
            "header": {
             "fill": {
              "color": "#C8D4E3"
             },
             "line": {
              "color": "white"
             }
            },
            "type": "table"
           }
          ]
         },
         "layout": {
          "annotationdefaults": {
           "arrowcolor": "#2a3f5f",
           "arrowhead": 0,
           "arrowwidth": 1
          },
          "autotypenumbers": "strict",
          "coloraxis": {
           "colorbar": {
            "outlinewidth": 0,
            "ticks": ""
           }
          },
          "colorscale": {
           "diverging": [
            [
             0,
             "#8e0152"
            ],
            [
             0.1,
             "#c51b7d"
            ],
            [
             0.2,
             "#de77ae"
            ],
            [
             0.3,
             "#f1b6da"
            ],
            [
             0.4,
             "#fde0ef"
            ],
            [
             0.5,
             "#f7f7f7"
            ],
            [
             0.6,
             "#e6f5d0"
            ],
            [
             0.7,
             "#b8e186"
            ],
            [
             0.8,
             "#7fbc41"
            ],
            [
             0.9,
             "#4d9221"
            ],
            [
             1,
             "#276419"
            ]
           ],
           "sequential": [
            [
             0,
             "#0d0887"
            ],
            [
             0.1111111111111111,
             "#46039f"
            ],
            [
             0.2222222222222222,
             "#7201a8"
            ],
            [
             0.3333333333333333,
             "#9c179e"
            ],
            [
             0.4444444444444444,
             "#bd3786"
            ],
            [
             0.5555555555555556,
             "#d8576b"
            ],
            [
             0.6666666666666666,
             "#ed7953"
            ],
            [
             0.7777777777777778,
             "#fb9f3a"
            ],
            [
             0.8888888888888888,
             "#fdca26"
            ],
            [
             1,
             "#f0f921"
            ]
           ],
           "sequentialminus": [
            [
             0,
             "#0d0887"
            ],
            [
             0.1111111111111111,
             "#46039f"
            ],
            [
             0.2222222222222222,
             "#7201a8"
            ],
            [
             0.3333333333333333,
             "#9c179e"
            ],
            [
             0.4444444444444444,
             "#bd3786"
            ],
            [
             0.5555555555555556,
             "#d8576b"
            ],
            [
             0.6666666666666666,
             "#ed7953"
            ],
            [
             0.7777777777777778,
             "#fb9f3a"
            ],
            [
             0.8888888888888888,
             "#fdca26"
            ],
            [
             1,
             "#f0f921"
            ]
           ]
          },
          "colorway": [
           "#636efa",
           "#EF553B",
           "#00cc96",
           "#ab63fa",
           "#FFA15A",
           "#19d3f3",
           "#FF6692",
           "#B6E880",
           "#FF97FF",
           "#FECB52"
          ],
          "font": {
           "color": "#2a3f5f"
          },
          "geo": {
           "bgcolor": "white",
           "lakecolor": "white",
           "landcolor": "#E5ECF6",
           "showlakes": true,
           "showland": true,
           "subunitcolor": "white"
          },
          "hoverlabel": {
           "align": "left"
          },
          "hovermode": "closest",
          "mapbox": {
           "style": "light"
          },
          "paper_bgcolor": "white",
          "plot_bgcolor": "#E5ECF6",
          "polar": {
           "angularaxis": {
            "gridcolor": "white",
            "linecolor": "white",
            "ticks": ""
           },
           "bgcolor": "#E5ECF6",
           "radialaxis": {
            "gridcolor": "white",
            "linecolor": "white",
            "ticks": ""
           }
          },
          "scene": {
           "xaxis": {
            "backgroundcolor": "#E5ECF6",
            "gridcolor": "white",
            "gridwidth": 2,
            "linecolor": "white",
            "showbackground": true,
            "ticks": "",
            "zerolinecolor": "white"
           },
           "yaxis": {
            "backgroundcolor": "#E5ECF6",
            "gridcolor": "white",
            "gridwidth": 2,
            "linecolor": "white",
            "showbackground": true,
            "ticks": "",
            "zerolinecolor": "white"
           },
           "zaxis": {
            "backgroundcolor": "#E5ECF6",
            "gridcolor": "white",
            "gridwidth": 2,
            "linecolor": "white",
            "showbackground": true,
            "ticks": "",
            "zerolinecolor": "white"
           }
          },
          "shapedefaults": {
           "line": {
            "color": "#2a3f5f"
           }
          },
          "ternary": {
           "aaxis": {
            "gridcolor": "white",
            "linecolor": "white",
            "ticks": ""
           },
           "baxis": {
            "gridcolor": "white",
            "linecolor": "white",
            "ticks": ""
           },
           "bgcolor": "#E5ECF6",
           "caxis": {
            "gridcolor": "white",
            "linecolor": "white",
            "ticks": ""
           }
          },
          "title": {
           "x": 0.05
          },
          "xaxis": {
           "automargin": true,
           "gridcolor": "white",
           "linecolor": "white",
           "ticks": "",
           "title": {
            "standoff": 15
           },
           "zerolinecolor": "white",
           "zerolinewidth": 2
          },
          "yaxis": {
           "automargin": true,
           "gridcolor": "white",
           "linecolor": "white",
           "ticks": "",
           "title": {
            "standoff": 15
           },
           "zerolinecolor": "white",
           "zerolinewidth": 2
          }
         }
        },
        "title": {
         "text": "Distribuição dos Tópicos (Treemap)<br><sup>Total de documentos considerados: 7996</sup>"
        }
       }
      }
     },
     "metadata": {},
     "output_type": "display_data"
    }
   ],
   "source": [
    "plot_treemap_topicos(df_with_topics, top_n=20, incluir_noise=False)"
   ]
  },
  {
   "cell_type": "code",
   "execution_count": null,
   "id": "695c3905-6595-4547-adc6-6aca9d02a899",
   "metadata": {},
   "outputs": [],
   "source": []
  }
 ],
 "metadata": {
  "kernelspec": {
   "display_name": "Python (processos_judiciais)",
   "language": "python",
   "name": "processos_judiciais"
  },
  "language_info": {
   "codemirror_mode": {
    "name": "ipython",
    "version": 3
   },
   "file_extension": ".py",
   "mimetype": "text/x-python",
   "name": "python",
   "nbconvert_exporter": "python",
   "pygments_lexer": "ipython3",
   "version": "3.9.23"
  }
 },
 "nbformat": 4,
 "nbformat_minor": 5
}
