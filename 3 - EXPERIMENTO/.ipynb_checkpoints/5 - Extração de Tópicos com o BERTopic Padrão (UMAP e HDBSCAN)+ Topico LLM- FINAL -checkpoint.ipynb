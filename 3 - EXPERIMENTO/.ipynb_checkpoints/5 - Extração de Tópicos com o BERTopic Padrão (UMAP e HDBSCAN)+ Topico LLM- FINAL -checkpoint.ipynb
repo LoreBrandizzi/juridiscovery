{
 "cells": [
  {
   "cell_type": "markdown",
   "id": "f32b13c8-12fe-48af-b8c7-277daac11190",
   "metadata": {},
   "source": [
    "# 🔎 Extração de Tópicos com BERTopic Padrão\n",
    "\n",
    "Este notebook implementa um pipeline para clusterização de processos judiciais e consulta a LLM dos rotulos dos clusters , utilizando o modelo de tópicos **BERTopic** com redução de dimensionalidade via **UMAP** e clusterização com **HDBSCAN**.\n",
    "\n",
    "---\n",
    "\n",
    "## 📋 Etapas do Processo\n",
    "\n",
    "### 1. **Consulta aos de Dados**\n",
    "Consulta os dados dos processos judiciais que envolvem **Microempreendedores Individuais (MEI)**.\n",
    "\n",
    "### 2. **Modelagem com BERTopic**\n",
    "Para os dados de cada ramo:\n",
    "- Foi utilizado o vetor `vetor_descricao_questoes` a como embeddings já calculados.\n",
    "- Aplicou-se o modelo **BERTopic** com UMAP para redução para 2 dimensões.\n",
    "- Tópicos foram extraídos automaticamente por meio do agrupamento com HDBSCAN.\n",
    "- Cada documento foi rotulado com um número de tópico e os principais termos do grupo.\n",
    "- \n",
    "### 3. **Visualizações diversas**\n",
    "- Apresentadas várioas visualizações nativas ou não do BERTopic para o conjunto de tópicos sema distinção de ramo da justiça, sao \n",
    "\n",
    "\n",
    "## 📌 Objetivo\n",
    "Identificar **temas recorrentes** nos processos judiciais envolvendo MEIs, com o intuito de auxiliar na análise da judicialização de políticas públicas e na tomada de decisão por gestores públicos.\n",
    "\n",
    "### !IMPORTANTE! \n",
    "Necessário usar as bibliotecas nas versões do requirements.txt, leia o README antes.\n"
   ]
  },
  {
   "cell_type": "code",
   "execution_count": 1,
   "id": "5a889806",
   "metadata": {},
   "outputs": [],
   "source": [
    "import psycopg2\n",
    "import pandas as pd\n",
    "import numpy as np\n",
    "from bertopic import BERTopic\n",
    "from sklearn.preprocessing import normalize\n",
    "from umap import UMAP\n",
    "import matplotlib.pyplot as plt\n",
    "import seaborn as sns\n",
    "from collections import Counter\n",
    "import plotly.express as px\n",
    "from hdbscan import HDBSCAN\n",
    "from IPython.display import clear_output\n",
    "import requests\n",
    "import json\n",
    "from psycopg2.extras import Json\n",
    "from sklearn.cluster import KMeans\n",
    "import colorsys\n",
    "import ast\n",
    "from sklearn.metrics.pairwise import cosine_distances\n",
    "import hashlib, colorsys\n",
    "from typing import List, Dict\n",
    "import math\n",
    "np.random.seed(42)"
   ]
  },
  {
   "cell_type": "code",
   "execution_count": 2,
   "id": "19297106",
   "metadata": {},
   "outputs": [],
   "source": [
    "# Função para conectar ao PostgreSQL\n",
    "def get_connection():\n",
    "    return psycopg2.connect(\n",
    "        dbname=\"PROCESSOS\",\n",
    "        user=\"\",\n",
    "        password=\"\",\n",
    "        host=\"\",\n",
    "        port=\"5432\"\n",
    "    )\n",
    "\n",
    "# Função para extrair os dados do banco com filtro opcional por ramo da justiça\n",
    "def get_data():\n",
    "    conn = get_connection()\n",
    "    \n",
    "    # Parte base da query\n",
    "    query = \"\"\"\n",
    "        SELECT proc.id, descricao_caso, questoes_em_discussao, vetor_descricao_questoes, tese, dataajuizamento, ramo_justica, \n",
    "        vetor_descricao_questoes_testes_extracao, vetor_descricao_questoes_teste_plotagem\n",
    "        FROM processos AS proc\n",
    "        LEFT JOIN metadados_datajud AS meta \n",
    "        ON proc.numero_processo_tribunal = meta.numero_processo_tribunal\n",
    "        WHERE descricao_caso IS NOT NULL \n",
    "          AND questoes_em_discussao IS NOT NULL \n",
    "          AND envolve_mei = 'Sim' \n",
    "    \"\"\"\n",
    "    df = pd.read_sql(query, conn)\n",
    "    conn.close()\n",
    "    return df\n",
    "\n",
    "# Função para converter a string dos embeddings para vetor NumPy\n",
    "def convert_embedding_string_to_vector(embedding_string):\n",
    "    return np.array([float(x) for x in embedding_string[1:-1].split(',')])\n",
    "\n",
    "# Variáveis globais para armazenar o token e o horário em que foi gerado\n",
    "token = None\n",
    "last_token_time = 0\n",
    "\n",
    "# Função para obter o token da API\n",
    "def get_token():\n",
    "    client_id = ''\n",
    "    client_secret = ''\n",
    "    result = requests.request('POST', \n",
    "        \"...\", \n",
    "        data={\"grant_type\":\"client_credentials\"}, \n",
    "        auth=(client_id, client_secret))\n",
    "\n",
    "    if result.ok:\n",
    "        return result.json()['access_token']\n",
    "    else:\n",
    "        raise Exception(\"Erro ao obter o token\")\n",
    "\n",
    "# Função para verificar se o token está expirado (renova se necessário)\n",
    "def get_valid_token():\n",
    "    global token, last_token_time\n",
    "    current_time = time.time()\n",
    "    \n",
    "    # Se o token não existe ou já passaram mais de 20 minutos, obtemos um novo\n",
    "    if token is None or (current_time - last_token_time) > 20 * 60:  # 20 minutos em segundos\n",
    "        token = get_token()\n",
    "        last_token_time = current_time\n",
    "        print(\"Novo token obtido.\")\n",
    "\n",
    "    return token\n",
    "\n",
    "# Função para invocar o LLM\n",
    "def invoke(prompt, modelo,token, temperature=0, max_tokens=10000, stream=False):\n",
    "    # Obtém o token válido (renova se necessário)\n",
    "    \n",
    "\n",
    "    payload_data = {\n",
    "        \"model\": modelo,\n",
    "        \"messages\": [{\"role\": \"user\", \"content\": prompt}],\n",
    "        \"temperature\": temperature,\n",
    "        \"max_tokens\": max_tokens,\n",
    "        \"stream\": stream\n",
    "    }\n",
    "\n",
    "    result = requests.request(\"POST\", \n",
    "        '...', \n",
    "\n",
    "        data=json.dumps(payload_data), \n",
    "        headers={\n",
    "            \"Authorization\": f\"Bearer {token}\", \n",
    "            \"Content-Type\":\"application/json\"})\n",
    "\n",
    "    if result.ok:\n",
    "        res = result.json()\n",
    "        resposta = res[\"choices\"][0][\"message\"]['content']\n",
    "        return resposta\n",
    "    else:\n",
    "        print(result.text)\n",
    "\n"
   ]
  },
  {
   "cell_type": "markdown",
   "id": "93212f84-ea74-4b0d-af3e-971d2893e54d",
   "metadata": {},
   "source": [
    "# 📈 Funções de Visualização dos Tópicos\n",
    "\n",
    "Este módulo define funções auxiliares para **visualizar a distribuição e a importância dos tópicos** identificados nos processos judiciais. São utilizadas diferentes formas gráficas para facilitar a análise exploratória dos clusters.\n",
    "\n",
    "---\n",
    "\n",
    "## 📊 `plot_topicos_barras`\n",
    "\n",
    "- Gera um **gráfico de barras (histograma)** com a quantidade de processos por tópico.\n",
    "- Tópicos com maior frequência aparecem no topo.\n",
    "---\n",
    "\n",
    "## 🌳 `plot_treemap_topicos`\n",
    "\n",
    "- Cria um **gráfico de treemap**, onde cada área representa um tópico.\n",
    "- A **área de cada bloco** é proporcional à **quantidade de processos** associados ao tópico.\n",
    "---\n"
   ]
  },
  {
   "cell_type": "code",
   "execution_count": 3,
   "id": "2ad8341c-a888-4759-9dc6-ad908f427bd3",
   "metadata": {},
   "outputs": [],
   "source": [
    "def plot_topicos_barras(\n",
    "    df_topicos,\n",
    "    coluna_topico_num='numero_topico_LLM',\n",
    "    coluna_topico_nome='Tópico LLM',\n",
    "    top_n=10,\n",
    "    incluir_noise=True\n",
    "):\n",
    "    \"\"\"\n",
    "    Plota os top N tópicos mais frequentes em um gráfico de barras.\n",
    "\n",
    "    Parâmetros:\n",
    "    - df_topicos: DataFrame com as colunas dos tópicos (nome e número)\n",
    "    - coluna_topico_num: Nome da coluna com os números dos tópicos\n",
    "    - coluna_topico_nome: Nome da coluna com os nomes/textos dos tópicos\n",
    "    - top_n: Quantidade de tópicos mais frequentes a mostrar\n",
    "    - incluir_noise: Se False, exclui o tópico -1 (ruído)\n",
    "\n",
    "    Retorna:\n",
    "    - None (apenas exibe o gráfico)\n",
    "    \"\"\"\n",
    "\n",
    "    df = df_topicos.copy()\n",
    "\n",
    "    if not incluir_noise:\n",
    "        df = df[df[coluna_topico_num] != -1]\n",
    "\n",
    "    # Agrupa e conta por número e nome\n",
    "    contagem = df.groupby(\n",
    "        [coluna_topico_num, coluna_topico_nome]\n",
    "    ).size().reset_index(name='quantidade')\n",
    "\n",
    "    # Ordena e filtra top N\n",
    "    contagem = contagem.sort_values(by='quantidade', ascending=False).head(top_n)\n",
    "\n",
    "    # Gera rótulo combinando número + nome do tópico\n",
    "    contagem['label'] = contagem[coluna_topico_num].astype(str) + ' - ' + contagem[coluna_topico_nome]\n",
    "\n",
    "    # Plot\n",
    "    plt.figure(figsize=(12, 6))\n",
    "    bars = plt.bar(contagem['label'], contagem['quantidade'], color='skyblue')\n",
    "\n",
    "    # Rótulo em cima das barras\n",
    "    for bar in bars:\n",
    "        height = bar.get_height()\n",
    "        plt.text(bar.get_x() + bar.get_width()/2, height + 1, f'{int(height)}',\n",
    "                 ha='center', va='bottom', fontsize=9, fontweight='bold')\n",
    "\n",
    "    total = df.shape[0]\n",
    "    plt.title(f'Tópicos Mais Frequentes (Top {top_n}) - Total de Registros: {total}', fontsize=14)\n",
    "    plt.xlabel('Tópicos')\n",
    "    plt.ylabel('Quantidade de Documentos')\n",
    "    plt.xticks(rotation=45, ha='right')\n",
    "    plt.tight_layout()\n",
    "    plt.grid(axis='y', linestyle='--', alpha=0.5)\n",
    "    plt.show()\n",
    "\n",
    "\n",
    "\n",
    "def plot_treemap_topicos(\n",
    "    df_topicos,\n",
    "    coluna_topico_num='numero_topico_LLM',\n",
    "    coluna_topico_nome='Tópico LLM',\n",
    "    top_n=15,\n",
    "    incluir_noise=False,\n",
    "    titulo=\"Distribuição dos Tópicos (Treemap)\"\n",
    "):\n",
    "    \"\"\"\n",
    "    Gera um gráfico de árvore (Treemap) para os tópicos mais frequentes.\n",
    "\n",
    "    Parâmetros:\n",
    "    - df_topicos: DataFrame com colunas dos tópicos\n",
    "    - coluna_topico_num: Nome da coluna com número do tópico\n",
    "    - coluna_topico_nome: Nome da coluna com nome/texto do tópico\n",
    "    - top_n: Número de tópicos mais frequentes a exibir\n",
    "    - incluir_noise: Se False, remove o tópico -1 (ruído)\n",
    "    - titulo: Título do gráfico\n",
    "\n",
    "    Retorna:\n",
    "    - Figura do plotly (interativa)\n",
    "    \"\"\"\n",
    "    df = df_topicos.copy()\n",
    "\n",
    "    if not incluir_noise:\n",
    "        df = df[df[coluna_topico_num] != -1]\n",
    "\n",
    "    # Agrupamento e contagem\n",
    "    contagem = df.groupby(\n",
    "        [coluna_topico_num, coluna_topico_nome]\n",
    "    ).size().reset_index(name='quantidade')\n",
    "\n",
    "    # Ordenar pelos mais frequentes\n",
    "    contagem = contagem.sort_values(by='quantidade', ascending=False).head(top_n)\n",
    "\n",
    "    # Nome de exibição: número + descrição resumida\n",
    "    contagem['topico'] = contagem.apply(\n",
    "        lambda row: f\"{row[coluna_topico_num]} - {row[coluna_topico_nome][:40]}...\", axis=1\n",
    "    )\n",
    "\n",
    "    fig = px.treemap(\n",
    "        contagem,\n",
    "        path=['topico'],\n",
    "        values='quantidade',\n",
    "        color='quantidade',\n",
    "        color_continuous_scale='RdBu',\n",
    "        title=f\"{titulo}<br><sup>Total de documentos considerados: {df.shape[0]}</sup>\"\n",
    "    )\n",
    "    \n",
    "    fig.update_traces(\n",
    "        textinfo=\"label+value\",\n",
    "        hovertemplate=\"<b>%{label}</b><br>Quantidade: %{value}<extra></extra>\"\n",
    "    )\n",
    "    fig.show()\n"
   ]
  },
  {
   "cell_type": "markdown",
   "id": "22b07715-9591-499c-9532-70496b481652",
   "metadata": {},
   "source": [
    "# Funções para clusterização e rotulagem\n",
    "\n",
    "Prompt padrão do bertopic, listado abaixo, foi alterado para um prompt mais adequado ao contexto, que será consultado no modelo PixTral 12B\n",
    "\n",
    "\"I have a topic that is described by\n",
    "the following keywords: [KEYWORDS]\n",
    "In this topic, the following\n",
    "documents are a small but\n",
    "representative subset of all\n",
    "documents in the topic: [DOCUMENTS]\n",
    "Based on the information above,\n",
    "please give a description of this\n",
    "topic in the following format:\n",
    "topic: <description>\""
   ]
  },
  {
   "cell_type": "code",
   "execution_count": 4,
   "id": "e2c01dc0-c454-4c85-bf57-60d6daa4b5d0",
   "metadata": {},
   "outputs": [],
   "source": [
    "def rotular_com_llm(documentos, keywords, token, rotulos_existentes):\n",
    "    modelo = 'pixtral-12b'\n",
    "\n",
    "    \n",
    "    prompt = \"\"\"Você é um assistente inteligente de extração de tópicos, especializado em nomear tópicos de forma curta, clara e amigável, com base em textos representativos e palavras-chave. \n",
    "Seu objetivo é criar um **rótulo conciso** que represente o problema central em comum dos conteúdos discutidos no tópico, facilitando a identificação do assunto por usuários finais. \n",
    "\n",
    "Siga as diretrizes abaixo:\n",
    "- Não inclua o termo \"MEI\" no nome do tópico.\n",
    "- O nome deve ter de 1 a 3 palavras.\n",
    "- Não cite nome de pessoas, locais ou instituições.\n",
    "\"\"\"\n",
    "    prompt += \"\\n### Textos amostrados deste tópico:\\n\"\n",
    "    for doc in documentos:\n",
    "        prompt += f\"- {doc}\\n\"\n",
    "\n",
    "    prompt += f\"\\n### Palavras-chave: {keywords}\\n\\n\"\n",
    "    prompt += \"Retorne apenas o nome curto do novo tópico, sem explicações ou pontuação adicional.\\n\"\n",
    "    print(prompt)\n",
    "    resposta = invoke(prompt, modelo, token)\n",
    "   \n",
    "    print(resposta)\n",
    "    \n",
    "    clear_output(wait=True)\n",
    "    return resposta.strip()\n"
   ]
  },
  {
   "cell_type": "code",
   "execution_count": 5,
   "id": "9d561488-892c-4695-a858-dc9aaf2cb681",
   "metadata": {},
   "outputs": [],
   "source": [
    "#Antes de iniciar,limpar todos os dados dos clusters antigos \n",
    "def limpar_clusters(conn):\n",
    "    # Limpa todos os dados de cluster antes de reprocessar\n",
    "    cur_limpa = conn.cursor()\n",
    "    cur_limpa.execute(\"\"\"\n",
    "        UPDATE processos SET \n",
    "            numero_topico_BERTopic_Padrao = NULL,\n",
    "            descricao_topico_BERTopic_Padrao = NULL,\n",
    "            descricao_topico_llm = NULL,\n",
    "            numero_topico_llm = NULL,\n",
    "            proximo_do_centroid = NULL,\n",
    "            coordenadas_umap = NULL,\n",
    "            descricao_curta_cluster = NULL,\n",
    "            descricao_longa_cluster = NULL,\n",
    "            questoes_discussao_cluster = NULL,\n",
    "            solucoes_propostas_cluster = NULL,\n",
    "            teses_cluster = NULL,\n",
    "            descricao_topico_llm_ingles  = NULL,\n",
    "            cor_cluster = NULL\n",
    "    \"\"\")\n",
    "    conn.commit()\n",
    "    cur_limpa.close()\n",
    "    print(\"🧹 Campos de cluster anteriores limpos.\")\n"
   ]
  },
  {
   "cell_type": "markdown",
   "id": "d64ca01f-01e4-43ea-8134-ca599920e876",
   "metadata": {},
   "source": [
    "# Pipeline de Extração de Tópicos — Resumo\n",
    "\n",
    "1. **Preparação dos dados**\n",
    "   - Limpa clusters/atributos anteriores no banco (`limpar_clusters`).\n",
    "   - Concatena `descricao_caso` + `questoes_em_discussao` → **corpus**.\n",
    "   - Lê **embeddings** (`vetor_descricao_questoes_testes_extracao`) e **coordenadas 2D** (`vetor_descricao_questoes_teste_plotagem`) já do banco.\n",
    "   - Converte strings de vetores para `np.ndarray` e aplica **máscara de linhas válidas**.\n",
    "\n",
    "2. **Modelagem BERTopic (sem UMAP interno)**\n",
    "   - Usa `BaseDimensionalityReduction`/`_IdentityDim` para **não reduzir novamente**.\n",
    "   - Treinamento do Bertopic: `fit_transform(corpus_ok, X)` → `topics` (+ `probabilities`).\n",
    "\n",
    "3. **Documentos representativos por tópico**\n",
    "   - Para cada tópico ≠ `-1`:\n",
    "     - Calcula **centróide** no espaço dos embeddings.\n",
    "     - Distância cosseno documento–centróide.\n",
    "     - Marca **N mais próximos** (`é próximo do centroid = 1`).\n",
    "\n",
    "4. **Rotulagem via LLM**\n",
    "   - Coleta textos dos docs mais próximos + **palavras-chave** do BERTopic.\n",
    "   - Chama `rotular_com_llm(...)` → **“Tópico LLM”**.\n",
    "   - Propaga o rótulo LLM a todos os docs do tópico.\n",
    "\n",
    "5. **Mapeamentos finais**\n",
    "   - `numero_topico_BERTopic_Padrao` (ID do BERTopic).\n",
    "   - `descricao_topico_BERTopic_Padrao` (top-5 termos).\n",
    "   - `numero_topico_LLM` a partir do rótulo LLM.\n",
    "   - Define labels no modelo: `topic_model.set_topic_labels(...)`.\n",
    "\n",
    "6. **Persistência no banco (opcional)**\n",
    "   - Se `salvar == 'Sim'`, atualiza por linha válida:\n",
    "     - `numero_topico_BERTopic_Padrao`, `descricao_topico_BERTopic_Padrao`\n",
    "     - `descricao_topico_llm`, `numero_topico_llm`\n",
    "     - `proximo_do_centroid`, `coordenadas_umap`\n",
    "     - `cor_cluster` (usa a existente ou *fallback* do código)\n",
    "   - **Commit** por registro + log progressivo.\n",
    "\n",
    "7. **Saídas**\n",
    "   - Retorna: `df` (atualizado), `topic_model`, `probabilities`, `corpus`, `timestamps`,\n",
    "     `topics`, `reduced_embeddings (Xp)`, `embeddings`.\n",
    "\n",
    "> **Notas**\n",
    "> - As coordenadas de plotagem já vêm do banco: **não há UMAP adicional**.\n",
    "> - Há um gerador de **cores distintas** (HLS + razão áurea) para consistência visual quando necessário.\n"
   ]
  },
  {
   "cell_type": "code",
   "execution_count": 6,
   "id": "b56d5cfd-f39a-46c5-b6e4-c4602349c55e",
   "metadata": {},
   "outputs": [],
   "source": [
    "# # Função usada na redução de dimencionalidade\n",
    "class _IdentityDim:\n",
    "    def fit(self, X, y=None): return self\n",
    "    def transform(self, X): return X\n",
    "\n",
    "# Função principal para extrair tópicos e atualizar o banco\n",
    "def extract_topics_and_update_db(df, salvar='Não'):\n",
    "    conn = get_connection()\n",
    "    limpar_clusters(conn)\n",
    "    n_clusters = 20\n",
    "    frac_docs_por_topico = 0.30  # 30% por tópico\n",
    "    timestamps = pd.to_datetime(df['dataajuizamento'], format=\"%Y-%m-%d\", errors='coerce')\n",
    "\n",
    "    # concatena descrição + questões (vetorizado, seguro p/ NaN)\n",
    "    desc = df['descricao_caso'].astype('string').fillna('').str.strip()\n",
    "    ques = df['questoes_em_discussao'].astype('string').fillna('').str.strip()\n",
    "    \n",
    "    # se ambos existem, junta com quebra de linha; senão usa o que tiver\n",
    "    corpus = pd.Series(\n",
    "        np.where((desc != '') & (ques != ''), desc + '\\n\\n' + ques, desc + ques),\n",
    "        index=df.index,\n",
    "        dtype='object'\n",
    "    )\n",
    "\n",
    "    #-------------RECEBER OS EMBEDDINGS DO BANCO, SEM CALCULAR ------------------\n",
    "    # --- Converte inputs para Series para facilitar filtragem/alinhamento ---\n",
    "    if not isinstance(corpus, (pd.Series, list)):\n",
    "        raise ValueError(\"Passe 'corpus' como pandas Series ou lista de strings.\")\n",
    "    corpus = pd.Series(corpus, dtype=\"object\")\n",
    "\n",
    "    emb_col  = pd.Series(df['vetor_descricao_questoes_testes_extracao'], dtype=\"object\")\n",
    "    plot_col = pd.Series(df['vetor_descricao_questoes_teste_plotagem'], dtype=\"object\")\n",
    "\n",
    "    # >>> Parse: string \"[...]\" -> np.array <<<\n",
    "    def _to_arr(v):\n",
    "        if isinstance(v, (np.ndarray, list, tuple)):\n",
    "            return np.asarray(v, dtype=np.float32)\n",
    "        if isinstance(v, str):\n",
    "            s = v.strip()\n",
    "            if not s:\n",
    "                return None\n",
    "            # tenta lista Python\n",
    "            try:\n",
    "                return np.asarray(ast.literal_eval(s), dtype=np.float32)\n",
    "            except Exception:\n",
    "                # tenta JSON\n",
    "                try:\n",
    "                    return np.asarray(json.loads(s), dtype=np.float32)\n",
    "                except Exception:\n",
    "                    return None\n",
    "        return None\n",
    "\n",
    "    emb_col  = emb_col.apply(_to_arr)\n",
    "    plot_col = plot_col.apply(_to_arr)\n",
    "\n",
    "    # --- Máscaras de validade ---\n",
    "    mask_texto = corpus.fillna(\"\").str.strip().ne(\"\")\n",
    "\n",
    "    def _ok_vec(v, min_len=1):\n",
    "        return isinstance(v, np.ndarray) and v.size >= min_len\n",
    "\n",
    "    mask_emb  = emb_col.apply(lambda v: _ok_vec(v, 1))\n",
    "    mask_plot = plot_col.apply(lambda v: _ok_vec(v, 2) and (np.asarray(v).shape[-1] >= 2))\n",
    "\n",
    "    mask = mask_texto & mask_emb & mask_plot\n",
    "    if mask.sum() == 0:\n",
    "        raise ValueError(\"Nenhuma linha válida após filtrar texto/embeddings/plotagem.\")\n",
    "\n",
    "    if mask.sum() < len(corpus):\n",
    "        print(f\"ℹ️ Removidas {len(corpus) - mask.sum()} linhas inválidas (texto vazio/vetores ausentes).\")\n",
    "\n",
    "    # índices originais que passaram no filtro (para mapear de/para df)\n",
    "    idx_valid = np.flatnonzero(mask.values)\n",
    "\n",
    "    corpus_ok = corpus[mask].tolist()\n",
    "\n",
    "    # Empilha embeddings (N, D) e plotagem (N, 2+)\n",
    "    X  = np.vstack([np.asarray(v, dtype=np.float32) for v in emb_col[mask]])\n",
    "    Xp = np.vstack([np.asarray(v, dtype=np.float32) for v in plot_col[mask]])\n",
    "\n",
    "    # você usa 'embeddings' abaixo; prenda em X\n",
    "    embeddings = X\n",
    "\n",
    "    # --- BERTopic sem UMAP interno (não reduz de novo) ---\n",
    "    try:\n",
    "        dim_model = BaseDimensionalityReduction()   # oficial (não faz nada)\n",
    "    except Exception:\n",
    "        dim_model = _IdentityDim()                  # fallback compatível\n",
    "\n",
    "    topic_model = BERTopic(\n",
    "        verbose=True,\n",
    "        language=\"portuguese\",\n",
    "        umap_model=dim_model,          # NÃO reduz dimensionalidade\n",
    "        calculate_probabilities=False,\n",
    "    )\n",
    "    topics, probabilities = topic_model.fit_transform(corpus_ok, X)\n",
    "    \n",
    "    # =========================\n",
    "    # CORES: utilitários e gerador estável e bem separado por RÓTULO\n",
    "    # =========================\n",
    "\n",
    "    \n",
    "    # Paletas qualitativas consagradas (hex), ordenadas por distinção\n",
    "    PALETTE_KELLY_22 = [\n",
    "        \"#F2F3F4\", \"#222222\", \"#F3C300\", \"#875692\", \"#F38400\", \"#A1CAF1\",\n",
    "        \"#BE0032\", \"#C2B280\", \"#848482\", \"#008856\", \"#E68FAC\", \"#0067A5\",\n",
    "        \"#F99379\", \"#604E97\", \"#F6A600\", \"#B3446C\", \"#DCD300\", \"#882D17\",\n",
    "        \"#8DB600\", \"#654522\", \"#E25822\", \"#2B3D26\"\n",
    "    ]\n",
    "    # Wong 18 (colorblind-friendly)\n",
    "    PALETTE_WONG_18 = [\n",
    "        \"#000000\",\"#E69F00\",\"#56B4E9\",\"#009E73\",\"#F0E442\",\"#0072B2\",\n",
    "        \"#D55E00\",\"#CC79A7\",\"#999999\",\"#117733\",\"#44AA99\",\"#88CCEE\",\n",
    "        \"#DDCC77\",\"#661100\",\"#6699CC\",\"#AA4466\",\"#882255\",\"#DDDDDD\"\n",
    "    ]\n",
    "    # Okabe–Ito 8 (super seguras)\n",
    "    PALETTE_OKABE_ITO_8 = [\n",
    "        \"#000000\",\"#E69F00\",\"#56B4E9\",\"#009E73\",\"#F0E442\",\"#0072B2\",\n",
    "        \"#D55E00\",\"#CC79A7\"\n",
    "    ]\n",
    "    \n",
    "    def _hash_key(s: str) -> int:\n",
    "        return int(hashlib.md5(s.encode(\"utf-8\")).hexdigest(), 16)\n",
    "    \n",
    "    def _golden_fallback(n_needed: int, seed: float = 0.11):\n",
    "        \"\"\"Gera n_needed cores extras em HLS com espaçamento por ângulo áureo.\"\"\"\n",
    "        phi = 0.6180339887498949\n",
    "        L_SEQ = (0.50, 0.65, 0.40)\n",
    "        S_SEQ = (0.90, 0.75)\n",
    "        out = []\n",
    "        for k in range(n_needed):\n",
    "            h = (seed + k * phi) % 1.0\n",
    "            l = L_SEQ[k % len(L_SEQ)]\n",
    "            s = S_SEQ[(k // len(L_SEQ)) % len(S_SEQ)]\n",
    "            r, g, b = colorsys.hls_to_rgb(h, l, s)\n",
    "            out.append(\"#{:02X}{:02X}{:02X}\".format(int(r*255), int(g*255), int(b*255)))\n",
    "        return out\n",
    "    \n",
    "    def build_distinct_color_map(labels: List[str], palette: str = \"kelly\") -> Dict[str, str]:\n",
    "        \"\"\"\n",
    "        Retorna {rótulo: cor_hex} usando paletas qualitativas muito distintas.\n",
    "        palette: \"kelly\" | \"wong\" | \"okabe\"\n",
    "        \"\"\"\n",
    "        # normaliza rótulos\n",
    "        norm = [(lab if lab and str(lab).strip() else \"Tópico indefinido\") for lab in labels]\n",
    "        uniq = sorted(set(norm), key=lambda x: (_hash_key(x), x))  # ordem estável por hash\n",
    "    \n",
    "        # escolhe paleta base\n",
    "        base = PALETTE_KELLY_22 if palette == \"kelly\" else (\n",
    "            PALETTE_WONG_18 if palette == \"wong\" else PALETTE_OKABE_ITO_8\n",
    "        )\n",
    "    \n",
    "        # se precisar de mais cores que a paleta, completa com fallback\n",
    "        if len(uniq) > len(base):\n",
    "            seed = (_hash_key(\"|\".join(uniq)) % 360) / 360.0\n",
    "            extra = _golden_fallback(len(uniq) - len(base), seed=seed)\n",
    "            palette_full = base + extra\n",
    "        else:\n",
    "            palette_full = base\n",
    "    \n",
    "        # mapeia na ordem estável\n",
    "        cmap = {lab: palette_full[i] for i, lab in enumerate(uniq)}\n",
    "        return cmap\n",
    "    # ================== FIM PALLETES + MAPA DE CORES DISTINTAS ==================\n",
    "\n",
    "    # -------------- inicio extração do nome do topico via llm\n",
    "    # Configurar número de documentos mais próximos do centro por tópico\n",
    "    token = get_token()\n",
    "    n_docs_por_topico = 30\n",
    "\n",
    "    # Inicializar as colunas que serão preenchidas\n",
    "    if 'Tópico LLM' not in df.columns:\n",
    "        df['Tópico LLM'] = None\n",
    "    if 'é próximo do centroid' not in df.columns:\n",
    "        df['é próximo do centroid'] = 0\n",
    "\n",
    "    # Para cada tópico válido\n",
    "    topicos_unicos = set(topics)\n",
    "    topicos_validos = [t for t in topicos_unicos if t != -1]\n",
    "\n",
    "    for topico_id in topicos_validos:\n",
    "        idx_topico = np.where(np.array(topics) == topico_id)[0]\n",
    "        embeddings_topico = embeddings[idx_topico]\n",
    "    \n",
    "        # Centroide e distâncias\n",
    "        centroide = np.mean(embeddings_topico, axis=0).reshape(1, -1)\n",
    "        distancias = cosine_distances(embeddings_topico, centroide).flatten()\n",
    "    \n",
    "        # --- NOVO: número de docs por tópico baseado em porcentagem, com limites ---\n",
    "        tam_topico = len(idx_topico)\n",
    "        # candidato pela fração\n",
    "        n_cand = int(math.ceil(frac_docs_por_topico * tam_topico))\n",
    "        # aplica limites: mínimo 15 (ou menos, se o tópico for menor), máximo 100\n",
    "        n_docs_por_topico = min(max(n_cand, 15), 150, tam_topico)\n",
    "    \n",
    "        # Índices dos N documentos mais próximos ao centroide\n",
    "        indices_relativos_proximos = np.argsort(distancias)[:n_docs_por_topico]\n",
    "        indices_absolutos = idx_topico[indices_relativos_proximos]\n",
    "    \n",
    "        # Mapear para índices originais do df\n",
    "        indices_orig = [idx_valid[i] for i in indices_absolutos]\n",
    "    \n",
    "        # Marcar os documentos mais próximos no DataFrame\n",
    "        df.loc[indices_orig, 'é próximo do centroid'] = 1\n",
    "    \n",
    "        # Textos + palavras-chave\n",
    "        docs_topico = corpus.iloc[indices_orig].tolist()\n",
    "        topic_words = topic_model.get_topic(topico_id) or []\n",
    "        palavras_chave = [palavra for palavra, _ in topic_words]\n",
    "    \n",
    "        # Rótulo LLM\n",
    "        rotulo = rotular_com_llm(docs_topico, palavras_chave, token, df['Tópico LLM'])\n",
    "    \n",
    "        # Propaga o rótulo ao tópico\n",
    "        df.loc[[idx_valid[i] for i in idx_topico], 'Tópico LLM'] = rotulo\n",
    "\n",
    "\n",
    "    # =========================\n",
    "    # >>> AQUI: Atribuição de CORES POR RÓTULO LLM (NOVO)\n",
    "    # =========================\n",
    "    # rótulos da execução atual (somente linhas válidas)\n",
    "    rotulos_exec = (\n",
    "        df.loc[idx_valid, \"Tópico LLM\"]\n",
    "          .fillna(\"\")\n",
    "          .astype(str)\n",
    "          .str.strip()\n",
    "          .replace(\"\", \"Tópico indefinido\")\n",
    "    )\n",
    "    # gera mapa determinístico e bem separado\n",
    "    mapa_cor_por_rotulo = build_distinct_color_map(rotulos_exec.tolist())\n",
    "    # aplica a cor do rótulo em cada linha válida\n",
    "    df.loc[idx_valid, \"cor_cluster\"] = rotulos_exec.map(mapa_cor_por_rotulo).values\n",
    "    # =========================\n",
    "    # FIM: cores por rótulo\n",
    "    # =========================\n",
    "\n",
    "    # Tópico numérico e descrição (somente nas linhas válidas)\n",
    "    df.loc[idx_valid, 'numero_topico_BERTopic_Padrao'] = topics\n",
    "    df.loc[idx_valid, 'descricao_topico_BERTopic_Padrao'] = [\n",
    "        ', '.join([word for word, _ in (topic_model.get_topic(topic) or [])[:5]]) if topic != -1 else \"Tópico indefinido\"\n",
    "        for topic in topics\n",
    "    ]\n",
    "\n",
    "    # Geração da coluna numero_topico_LLM\n",
    "    rotulos_validos = df['Tópico LLM'].dropna().unique()\n",
    "    rotulos_validos = [r for r in rotulos_validos if str(r).strip() != '']\n",
    "    mapa_rotulos = {rotulo: i for i, rotulo in enumerate(rotulos_validos)}\n",
    "    df['numero_topico_LLM'] = df['Tópico LLM'].apply(\n",
    "        lambda x: mapa_rotulos.get(x, -1) if pd.notnull(x) and str(x).strip() != '' else -1\n",
    "    )\n",
    "\n",
    "    # Atualiza os rótulos no BERTopic para visualizações futuras\n",
    "    mapa_rotulos_llm = {\n",
    "        topico: df.loc[df['numero_topico_BERTopic_Padrao'] == topico, 'Tópico LLM'].dropna().unique()[0]\n",
    "        for topico in topicos_validos\n",
    "        if len(df.loc[df['numero_topico_BERTopic_Padrao'] == topico, 'Tópico LLM'].dropna().unique()) > 0\n",
    "    }\n",
    "    mapa_rotulos_llm[-1] = \"Tópico indefinido\"\n",
    "    topic_model.set_topic_labels(mapa_rotulos_llm)\n",
    "\n",
    "    # >>> NÃO calcular UMAP: vamos usar as coordenadas já fornecidas em Xp <<<\n",
    "    reduced_embeddings = Xp  # (N_válidas, 2)\n",
    "\n",
    "    if (salvar == 'Sim'):\n",
    "        # Atualizar no banco (apenas linhas válidas, alinhadas ao reduced_embeddings)\n",
    "        conn = get_connection()\n",
    "        total = len(idx_valid)\n",
    "        for j, i_abs in enumerate(idx_valid):\n",
    "            row = df.iloc[i_abs]\n",
    "            cur = conn.cursor()\n",
    "            sql = \"\"\"\n",
    "                UPDATE processos \n",
    "                SET numero_topico_BERTopic_Padrao = %s,\n",
    "                    descricao_topico_BERTopic_Padrao = %s,\n",
    "                    descricao_topico_llm = %s,\n",
    "                    numero_topico_llm = %s,\n",
    "                    proximo_do_centroid = %s,\n",
    "                    coordenadas_umap = %s,\n",
    "                    cor_cluster = %s\n",
    "                WHERE id = %s\n",
    "            \"\"\"\n",
    "\n",
    "            x, y = reduced_embeddings[j]\n",
    "            # sempre tipos nativos\n",
    "            num_top_padrao = None\n",
    "            if pd.notna(row['numero_topico_BERTopic_Padrao']) and int(row['numero_topico_BERTopic_Padrao']) != -1:\n",
    "                num_top_padrao = int(row['numero_topico_BERTopic_Padrao'])\n",
    "\n",
    "            desc_top = str(row['descricao_topico_BERTopic_Padrao']) if pd.notna(row['descricao_topico_BERTopic_Padrao']) else None\n",
    "            desc_llm = (str(row['Tópico LLM']).strip() or None) if pd.notna(row['Tópico LLM']) else None\n",
    "\n",
    "            num_top_llm = None\n",
    "            if pd.notna(row['numero_topico_LLM']) and int(row['numero_topico_LLM']) != -1:\n",
    "                num_top_llm = int(row['numero_topico_LLM'])\n",
    "\n",
    "            prox_centroid = int(row['é próximo do centroid']) if pd.notna(row['é próximo do centroid']) else 0\n",
    "\n",
    "            coordenadas = [float(x), float(y)]\n",
    "            coord_param = coordenadas  # se sua coluna for JSONB, use psycopg2.extras.Json(coordenadas)\n",
    "\n",
    "            # pega a cor já aplicada; se faltar, refaz pelo rótulo (fallback)\n",
    "            if pd.notna(row.get('cor_cluster', None)) and str(row.get('cor_cluster')).strip():\n",
    "                cor_hex = str(row['cor_cluster'])\n",
    "            else:\n",
    "                rotulo_txt = (str(row.get('Tópico LLM', '')).strip() or \"Tópico indefinido\")\n",
    "                cor_hex = mapa_cor_por_rotulo.get(rotulo_txt, \"#B0B0B0\")\n",
    "\n",
    "            params = (\n",
    "                num_top_padrao,\n",
    "                desc_top,\n",
    "                desc_llm,\n",
    "                num_top_llm,\n",
    "                prox_centroid,\n",
    "                coord_param,\n",
    "                cor_hex,              # <-- usa a cor por rótulo\n",
    "                int(row['id'])\n",
    "            )\n",
    "            cur.execute(sql, params)\n",
    "            conn.commit()\n",
    "            cur.close()\n",
    "            clear_output(wait=True)\n",
    "            print(f\"📦 Processo {j+1} de {len(idx_valid)} salvo (ID {int(row['id'])})\")\n",
    "\n",
    "        conn.close()\n",
    "\n",
    "    # Retorno usando as coordenadas já recebidas\n",
    "    reduced_embeddings = Xp\n",
    "    return df, topic_model, probabilities, corpus, timestamps, topics, reduced_embeddings, embeddings\n"
   ]
  },
  {
   "cell_type": "code",
   "execution_count": 7,
   "id": "27ebc29c-0c62-47ed-805c-cddff253801f",
   "metadata": {},
   "outputs": [
    {
     "name": "stdout",
     "output_type": "stream",
     "text": [
      "📦 Processo 11775 de 11775 salvo (ID 37348)\n"
     ]
    }
   ],
   "source": [
    "df =  get_data()\n",
    "df_with_topics, topic_model, probabilities,corpus,timestamps,topics,reduced_embeddings,embeddings = extract_topics_and_update_db(df, salvar = 'Sim')"
   ]
  },
  {
   "cell_type": "code",
   "execution_count": 8,
   "id": "39e63165-c373-43e7-990b-d0c48fe2a1a8",
   "metadata": {},
   "outputs": [
    {
     "name": "stdout",
     "output_type": "stream",
     "text": [
      "Quantidade total de tópicos BERTopic (incluindo -1): 59\n",
      "Quantidade de tópicos BERTopic (válidos): 58\n",
      "Quantidade total de tópicos LLM (incluindo -1): 56\n",
      "Quantidade de tópicos LLM (válidos): 55\n"
     ]
    }
   ],
   "source": [
    "# Conta tópicos válidos (diferentes de -1) do BERTopic\n",
    "n_topicos_bertopic = df_with_topics['numero_topico_BERTopic_Padrao'].nunique()\n",
    "n_topicos_bertopic_validos = df_with_topics[df_with_topics['numero_topico_BERTopic_Padrao'] != -1]['numero_topico_BERTopic_Padrao'].nunique()\n",
    "\n",
    "# Conta tópicos válidos do LLM\n",
    "n_topicos_llm = df_with_topics['numero_topico_LLM'].nunique()\n",
    "n_topicos_llm_validos = df_with_topics[df_with_topics['numero_topico_LLM'] != -1]['numero_topico_LLM'].nunique()\n",
    "\n",
    "# Imprime o resultado\n",
    "print(f\"Quantidade total de tópicos BERTopic (incluindo -1): {n_topicos_bertopic}\")\n",
    "print(f\"Quantidade de tópicos BERTopic (válidos): {n_topicos_bertopic_validos}\")\n",
    "print(f\"Quantidade total de tópicos LLM (incluindo -1): {n_topicos_llm}\")\n",
    "print(f\"Quantidade de tópicos LLM (válidos): {n_topicos_llm_validos}\")\n"
   ]
  },
  {
   "cell_type": "code",
   "execution_count": 9,
   "id": "7b78a9ad-1ea1-40b8-b498-f3d52d65e908",
   "metadata": {},
   "outputs": [
    {
     "data": {
      "text/html": [
       "<div>\n",
       "<style scoped>\n",
       "    .dataframe tbody tr th:only-of-type {\n",
       "        vertical-align: middle;\n",
       "    }\n",
       "\n",
       "    .dataframe tbody tr th {\n",
       "        vertical-align: top;\n",
       "    }\n",
       "\n",
       "    .dataframe thead th {\n",
       "        text-align: right;\n",
       "    }\n",
       "</style>\n",
       "<table border=\"1\" class=\"dataframe\">\n",
       "  <thead>\n",
       "    <tr style=\"text-align: right;\">\n",
       "      <th></th>\n",
       "      <th>id</th>\n",
       "      <th>descricao_caso</th>\n",
       "      <th>questoes_em_discussao</th>\n",
       "      <th>vetor_descricao_questoes</th>\n",
       "      <th>tese</th>\n",
       "      <th>dataajuizamento</th>\n",
       "      <th>ramo_justica</th>\n",
       "      <th>vetor_descricao_questoes_testes_extracao</th>\n",
       "      <th>vetor_descricao_questoes_teste_plotagem</th>\n",
       "      <th>Tópico LLM</th>\n",
       "      <th>é próximo do centroid</th>\n",
       "      <th>cor_cluster</th>\n",
       "      <th>numero_topico_BERTopic_Padrao</th>\n",
       "      <th>descricao_topico_BERTopic_Padrao</th>\n",
       "      <th>numero_topico_LLM</th>\n",
       "    </tr>\n",
       "  </thead>\n",
       "  <tbody>\n",
       "    <tr>\n",
       "      <th>0</th>\n",
       "      <td>11426</td>\n",
       "      <td>Um MEI, dono de um comércio chamado 'Lanches B...</td>\n",
       "      <td>Foi discutido se as cobranças pelas empresas d...</td>\n",
       "      <td>[-0.3860904,-0.2644815,0.25244266,0.13011281,0...</td>\n",
       "      <td>A decisão destacou a importância de comprovar ...</td>\n",
       "      <td>None</td>\n",
       "      <td>Justiça Estadual</td>\n",
       "      <td>[8.131022,1.3194913,8.344668,6.1913657,4.9481025]</td>\n",
       "      <td>[4.3301435,5.9466076]</td>\n",
       "      <td>Pagamentos de Serviços</td>\n",
       "      <td>0</td>\n",
       "      <td>#E862E4</td>\n",
       "      <td>44.0</td>\n",
       "      <td>00, 000, autor, serviço, pagou</td>\n",
       "      <td>0</td>\n",
       "    </tr>\n",
       "    <tr>\n",
       "      <th>1</th>\n",
       "      <td>12341</td>\n",
       "      <td>Um trabalhador autônomo (MEI) entrou com uma a...</td>\n",
       "      <td>Foram discutidos se a Justiça do Trabalho era ...</td>\n",
       "      <td>[-0.20745817,-0.31532314,0.48320457,0.02721039...</td>\n",
       "      <td>A Justiça do Trabalho é competente para julgar...</td>\n",
       "      <td>None</td>\n",
       "      <td>Justiça do Trabalho</td>\n",
       "      <td>[8.146229,1.4455769,8.441563,5.926097,4.8528953]</td>\n",
       "      <td>[3.76093,5.652655]</td>\n",
       "      <td>Pagamentos de Serviços</td>\n",
       "      <td>1</td>\n",
       "      <td>#E862E4</td>\n",
       "      <td>44.0</td>\n",
       "      <td>00, 000, autor, serviço, pagou</td>\n",
       "      <td>0</td>\n",
       "    </tr>\n",
       "    <tr>\n",
       "      <th>2</th>\n",
       "      <td>4786</td>\n",
       "      <td>Um MEI entrou com um recurso ordinário contra ...</td>\n",
       "      <td>Foi discutido se o MEI tem direito à justiça g...</td>\n",
       "      <td>[-0.36164555,-0.22168711,0.52457535,0.06074060...</td>\n",
       "      <td>Para a concessão da justiça gratuita a uma pes...</td>\n",
       "      <td>2023-01-12</td>\n",
       "      <td>Justiça do Trabalho</td>\n",
       "      <td>[10.350624,0.88333714,6.0324874,4.933345,3.039...</td>\n",
       "      <td>[2.729847,1.7577055]</td>\n",
       "      <td>Justiça Gratuita</td>\n",
       "      <td>1</td>\n",
       "      <td>#55B4F6</td>\n",
       "      <td>1.0</td>\n",
       "      <td>justiça, gratuita, hipossuficiência, financeir...</td>\n",
       "      <td>1</td>\n",
       "    </tr>\n",
       "    <tr>\n",
       "      <th>3</th>\n",
       "      <td>5239</td>\n",
       "      <td>Um microempreendedor individual (MEI) que exer...</td>\n",
       "      <td>Foram discutidos a competência da 31ª Zona Ele...</td>\n",
       "      <td>[-0.3285317,-0.15938553,0.39240426,0.1120051,0...</td>\n",
       "      <td>A competência para analisar doações acima do l...</td>\n",
       "      <td>None</td>\n",
       "      <td>Justiça Eleitoral</td>\n",
       "      <td>[8.103116,-0.06757025,6.5230775,6.4412637,5.63...</td>\n",
       "      <td>[6.2702327,5.190193]</td>\n",
       "      <td>Doações Eleitorais</td>\n",
       "      <td>1</td>\n",
       "      <td>#0CF239</td>\n",
       "      <td>57.0</td>\n",
       "      <td>doação, eleitoral, doações, limite, acima</td>\n",
       "      <td>2</td>\n",
       "    </tr>\n",
       "    <tr>\n",
       "      <th>4</th>\n",
       "      <td>38411</td>\n",
       "      <td>Um indivíduo entrou com um apelo judicial aleg...</td>\n",
       "      <td>Foi discutido se o apelo era tempestivo e se a...</td>\n",
       "      <td>[-0.27052268,-0.26302758,0.35968584,0.15171902...</td>\n",
       "      <td>A documentação apresentada pelo apelante foi c...</td>\n",
       "      <td>2017-10-18</td>\n",
       "      <td>Justiça Estadual</td>\n",
       "      <td>[9.883066,0.81827223,6.215637,4.5117927,3.00673]</td>\n",
       "      <td>[2.0176992,2.1295416]</td>\n",
       "      <td>Justiça Gratuita</td>\n",
       "      <td>0</td>\n",
       "      <td>#55B4F6</td>\n",
       "      <td>1.0</td>\n",
       "      <td>justiça, gratuita, hipossuficiência, financeir...</td>\n",
       "      <td>1</td>\n",
       "    </tr>\n",
       "    <tr>\n",
       "      <th>...</th>\n",
       "      <td>...</td>\n",
       "      <td>...</td>\n",
       "      <td>...</td>\n",
       "      <td>...</td>\n",
       "      <td>...</td>\n",
       "      <td>...</td>\n",
       "      <td>...</td>\n",
       "      <td>...</td>\n",
       "      <td>...</td>\n",
       "      <td>...</td>\n",
       "      <td>...</td>\n",
       "      <td>...</td>\n",
       "      <td>...</td>\n",
       "      <td>...</td>\n",
       "      <td>...</td>\n",
       "    </tr>\n",
       "    <tr>\n",
       "      <th>11770</th>\n",
       "      <td>61530</td>\n",
       "      <td>Um profissional autônomo ajuizou uma ação cont...</td>\n",
       "      <td>Foi discutido se o banco e as empresas de prot...</td>\n",
       "      <td>[-0.5018269,-0.27606696,0.3865625,0.01998547,0...</td>\n",
       "      <td>A inclusão indevida de nome em cadastros de in...</td>\n",
       "      <td>2016-02-15</td>\n",
       "      <td>Justiça Estadual</td>\n",
       "      <td>[9.011285,1.4097906,7.673286,6.959938,5.1007614]</td>\n",
       "      <td>[3.867455,7.7672653]</td>\n",
       "      <td>Negativação Indevida</td>\n",
       "      <td>0</td>\n",
       "      <td>#A1DF1F</td>\n",
       "      <td>7.0</td>\n",
       "      <td>nome, danos, morais, seu, indenização</td>\n",
       "      <td>27</td>\n",
       "    </tr>\n",
       "    <tr>\n",
       "      <th>11771</th>\n",
       "      <td>53177</td>\n",
       "      <td>Um ente público recorreu contra uma decisão qu...</td>\n",
       "      <td>Foi discutido se a competência para legislar s...</td>\n",
       "      <td>[-0.14748938,-0.18664095,0.35048386,0.24197538...</td>\n",
       "      <td>A competência para dispor sobre normas gerais ...</td>\n",
       "      <td>2021-08-03</td>\n",
       "      <td>Justiça Estadual</td>\n",
       "      <td>[6.684796,-0.82282513,5.998983,6.8757267,6.338...</td>\n",
       "      <td>[4.353615,-2.3441699]</td>\n",
       "      <td>None</td>\n",
       "      <td>0</td>\n",
       "      <td>#0CC4F2</td>\n",
       "      <td>-1.0</td>\n",
       "      <td>Tópico indefinido</td>\n",
       "      <td>-1</td>\n",
       "    </tr>\n",
       "    <tr>\n",
       "      <th>11772</th>\n",
       "      <td>10611</td>\n",
       "      <td>Um trabalhador ajuizou uma ação trabalhista co...</td>\n",
       "      <td>Foi discutido se o trabalhador tinha direito à...</td>\n",
       "      <td>[-0.34767058,-0.11751458,0.4107636,0.16524306,...</td>\n",
       "      <td>Para a concessão da gratuidade de justiça, bas...</td>\n",
       "      <td>2024-05-03</td>\n",
       "      <td>Justiça do Trabalho</td>\n",
       "      <td>[10.2216215,2.9292345,8.431978,1.8662965,3.972...</td>\n",
       "      <td>[-1.8563257,4.917801]</td>\n",
       "      <td>Vínculo Empregatício</td>\n",
       "      <td>0</td>\n",
       "      <td>#0AC1A9</td>\n",
       "      <td>0.0</td>\n",
       "      <td>trabalhador, vínculo, verbas, empregatício, tr...</td>\n",
       "      <td>7</td>\n",
       "    </tr>\n",
       "    <tr>\n",
       "      <th>11773</th>\n",
       "      <td>43212</td>\n",
       "      <td>No processo, a reclamante e as duas reclamadas...</td>\n",
       "      <td>Foram discutidos a concessão dos benefícios da...</td>\n",
       "      <td>[-0.42331433,-0.15626356,0.541942,0.2120762,0....</td>\n",
       "      <td>A justiça gratuita para MEI e empresário indiv...</td>\n",
       "      <td>2021-09-30</td>\n",
       "      <td>Justiça do Trabalho</td>\n",
       "      <td>[10.045128,2.584021,8.070438,2.1363807,3.358148]</td>\n",
       "      <td>[-0.56846344,4.692244]</td>\n",
       "      <td>Vínculo Empregatício</td>\n",
       "      <td>0</td>\n",
       "      <td>#0AC1A9</td>\n",
       "      <td>0.0</td>\n",
       "      <td>trabalhador, vínculo, verbas, empregatício, tr...</td>\n",
       "      <td>7</td>\n",
       "    </tr>\n",
       "    <tr>\n",
       "      <th>11774</th>\n",
       "      <td>37348</td>\n",
       "      <td>Duas pessoas, representadas pela Defensoria Pú...</td>\n",
       "      <td>Foram discutidos a necessidade de apresentação...</td>\n",
       "      <td>[-0.39817378,-0.15497033,0.53751695,0.17409141...</td>\n",
       "      <td>A falta de apresentação dos contratos originai...</td>\n",
       "      <td>None</td>\n",
       "      <td>Justiça Federal</td>\n",
       "      <td>[7.647195,1.0402157,7.6570067,5.871002,3.8685396]</td>\n",
       "      <td>[2.1031792,6.128561]</td>\n",
       "      <td>Juros e Cobrança</td>\n",
       "      <td>1</td>\n",
       "      <td>#604E97</td>\n",
       "      <td>15.0</td>\n",
       "      <td>juros, capitalização, banco, bndes, comissão</td>\n",
       "      <td>50</td>\n",
       "    </tr>\n",
       "  </tbody>\n",
       "</table>\n",
       "<p>11775 rows × 15 columns</p>\n",
       "</div>"
      ],
      "text/plain": [
       "          id                                     descricao_caso  \\\n",
       "0      11426  Um MEI, dono de um comércio chamado 'Lanches B...   \n",
       "1      12341  Um trabalhador autônomo (MEI) entrou com uma a...   \n",
       "2       4786  Um MEI entrou com um recurso ordinário contra ...   \n",
       "3       5239  Um microempreendedor individual (MEI) que exer...   \n",
       "4      38411  Um indivíduo entrou com um apelo judicial aleg...   \n",
       "...      ...                                                ...   \n",
       "11770  61530  Um profissional autônomo ajuizou uma ação cont...   \n",
       "11771  53177  Um ente público recorreu contra uma decisão qu...   \n",
       "11772  10611  Um trabalhador ajuizou uma ação trabalhista co...   \n",
       "11773  43212  No processo, a reclamante e as duas reclamadas...   \n",
       "11774  37348  Duas pessoas, representadas pela Defensoria Pú...   \n",
       "\n",
       "                                   questoes_em_discussao  \\\n",
       "0      Foi discutido se as cobranças pelas empresas d...   \n",
       "1      Foram discutidos se a Justiça do Trabalho era ...   \n",
       "2      Foi discutido se o MEI tem direito à justiça g...   \n",
       "3      Foram discutidos a competência da 31ª Zona Ele...   \n",
       "4      Foi discutido se o apelo era tempestivo e se a...   \n",
       "...                                                  ...   \n",
       "11770  Foi discutido se o banco e as empresas de prot...   \n",
       "11771  Foi discutido se a competência para legislar s...   \n",
       "11772  Foi discutido se o trabalhador tinha direito à...   \n",
       "11773  Foram discutidos a concessão dos benefícios da...   \n",
       "11774  Foram discutidos a necessidade de apresentação...   \n",
       "\n",
       "                                vetor_descricao_questoes  \\\n",
       "0      [-0.3860904,-0.2644815,0.25244266,0.13011281,0...   \n",
       "1      [-0.20745817,-0.31532314,0.48320457,0.02721039...   \n",
       "2      [-0.36164555,-0.22168711,0.52457535,0.06074060...   \n",
       "3      [-0.3285317,-0.15938553,0.39240426,0.1120051,0...   \n",
       "4      [-0.27052268,-0.26302758,0.35968584,0.15171902...   \n",
       "...                                                  ...   \n",
       "11770  [-0.5018269,-0.27606696,0.3865625,0.01998547,0...   \n",
       "11771  [-0.14748938,-0.18664095,0.35048386,0.24197538...   \n",
       "11772  [-0.34767058,-0.11751458,0.4107636,0.16524306,...   \n",
       "11773  [-0.42331433,-0.15626356,0.541942,0.2120762,0....   \n",
       "11774  [-0.39817378,-0.15497033,0.53751695,0.17409141...   \n",
       "\n",
       "                                                    tese dataajuizamento  \\\n",
       "0      A decisão destacou a importância de comprovar ...            None   \n",
       "1      A Justiça do Trabalho é competente para julgar...            None   \n",
       "2      Para a concessão da justiça gratuita a uma pes...      2023-01-12   \n",
       "3      A competência para analisar doações acima do l...            None   \n",
       "4      A documentação apresentada pelo apelante foi c...      2017-10-18   \n",
       "...                                                  ...             ...   \n",
       "11770  A inclusão indevida de nome em cadastros de in...      2016-02-15   \n",
       "11771  A competência para dispor sobre normas gerais ...      2021-08-03   \n",
       "11772  Para a concessão da gratuidade de justiça, bas...      2024-05-03   \n",
       "11773  A justiça gratuita para MEI e empresário indiv...      2021-09-30   \n",
       "11774  A falta de apresentação dos contratos originai...            None   \n",
       "\n",
       "              ramo_justica           vetor_descricao_questoes_testes_extracao  \\\n",
       "0         Justiça Estadual  [8.131022,1.3194913,8.344668,6.1913657,4.9481025]   \n",
       "1      Justiça do Trabalho   [8.146229,1.4455769,8.441563,5.926097,4.8528953]   \n",
       "2      Justiça do Trabalho  [10.350624,0.88333714,6.0324874,4.933345,3.039...   \n",
       "3        Justiça Eleitoral  [8.103116,-0.06757025,6.5230775,6.4412637,5.63...   \n",
       "4         Justiça Estadual   [9.883066,0.81827223,6.215637,4.5117927,3.00673]   \n",
       "...                    ...                                                ...   \n",
       "11770     Justiça Estadual   [9.011285,1.4097906,7.673286,6.959938,5.1007614]   \n",
       "11771     Justiça Estadual  [6.684796,-0.82282513,5.998983,6.8757267,6.338...   \n",
       "11772  Justiça do Trabalho  [10.2216215,2.9292345,8.431978,1.8662965,3.972...   \n",
       "11773  Justiça do Trabalho   [10.045128,2.584021,8.070438,2.1363807,3.358148]   \n",
       "11774      Justiça Federal  [7.647195,1.0402157,7.6570067,5.871002,3.8685396]   \n",
       "\n",
       "      vetor_descricao_questoes_teste_plotagem              Tópico LLM  \\\n",
       "0                       [4.3301435,5.9466076]  Pagamentos de Serviços   \n",
       "1                          [3.76093,5.652655]  Pagamentos de Serviços   \n",
       "2                        [2.729847,1.7577055]        Justiça Gratuita   \n",
       "3                        [6.2702327,5.190193]      Doações Eleitorais   \n",
       "4                       [2.0176992,2.1295416]        Justiça Gratuita   \n",
       "...                                       ...                     ...   \n",
       "11770                    [3.867455,7.7672653]    Negativação Indevida   \n",
       "11771                   [4.353615,-2.3441699]                    None   \n",
       "11772                   [-1.8563257,4.917801]    Vínculo Empregatício   \n",
       "11773                  [-0.56846344,4.692244]    Vínculo Empregatício   \n",
       "11774                    [2.1031792,6.128561]        Juros e Cobrança   \n",
       "\n",
       "       é próximo do centroid cor_cluster  numero_topico_BERTopic_Padrao  \\\n",
       "0                          0     #E862E4                           44.0   \n",
       "1                          1     #E862E4                           44.0   \n",
       "2                          1     #55B4F6                            1.0   \n",
       "3                          1     #0CF239                           57.0   \n",
       "4                          0     #55B4F6                            1.0   \n",
       "...                      ...         ...                            ...   \n",
       "11770                      0     #A1DF1F                            7.0   \n",
       "11771                      0     #0CC4F2                           -1.0   \n",
       "11772                      0     #0AC1A9                            0.0   \n",
       "11773                      0     #0AC1A9                            0.0   \n",
       "11774                      1     #604E97                           15.0   \n",
       "\n",
       "                        descricao_topico_BERTopic_Padrao  numero_topico_LLM  \n",
       "0                         00, 000, autor, serviço, pagou                  0  \n",
       "1                         00, 000, autor, serviço, pagou                  0  \n",
       "2      justiça, gratuita, hipossuficiência, financeir...                  1  \n",
       "3              doação, eleitoral, doações, limite, acima                  2  \n",
       "4      justiça, gratuita, hipossuficiência, financeir...                  1  \n",
       "...                                                  ...                ...  \n",
       "11770              nome, danos, morais, seu, indenização                 27  \n",
       "11771                                  Tópico indefinido                 -1  \n",
       "11772  trabalhador, vínculo, verbas, empregatício, tr...                  7  \n",
       "11773  trabalhador, vínculo, verbas, empregatício, tr...                  7  \n",
       "11774       juros, capitalização, banco, bndes, comissão                 50  \n",
       "\n",
       "[11775 rows x 15 columns]"
      ]
     },
     "execution_count": 9,
     "metadata": {},
     "output_type": "execute_result"
    }
   ],
   "source": [
    "df_with_topics"
   ]
  },
  {
   "cell_type": "code",
   "execution_count": 10,
   "id": "fe5d4176",
   "metadata": {},
   "outputs": [
    {
     "data": {
      "application/vnd.plotly.v1+json": {
       "config": {
        "plotlyServerURL": "https://plot.ly"
       },
       "data": [
        {
         "customdata": [
          [
           0,
           "trabalhador | vínculo | verbas | empregatício | trabalho",
           2733
          ],
          [
           1,
           "justiça | gratuita | hipossuficiência | financeira | gratuidade",
           999
          ],
          [
           2,
           "taxas | complementar | taxa | lei | isenção",
           457
          ],
          [
           3,
           "jucesp | registro | junta | comercial | estado",
           363
          ],
          [
           4,
           "nacional | simples | regime | adesão | tributário",
           340
          ],
          [
           5,
           "desemprego | seguro | renda | união | própria",
           275
          ],
          [
           6,
           "conta | danos | morais | valores | banco",
           213
          ],
          [
           7,
           "nome | danos | morais | seu | indenização",
           203
          ],
          [
           8,
           "personalidade | jurídica | desconsideração | bens | patrimônio",
           203
          ],
          [
           9,
           "tempo | aposentadoria | contribuição | períodos | contribuições",
           202
          ],
          [
           10,
           "incapacidade | doença | auxílio | segurado | benefício",
           179
          ],
          [
           11,
           "licitação | edital | licitatório | pregão | certame",
           133
          ],
          [
           12,
           "recurso | interposto | ordinário | parte | depósito",
           107
          ],
          [
           13,
           "depósito | recursal | metade | redução | valor",
           93
          ],
          [
           14,
           "maternidade | salário | inss | benefício | mulher",
           91
          ],
          [
           15,
           "juros | capitalização | banco | bndes | comissão",
           87
          ],
          [
           16,
           "emergencial | auxílio | familiar | união | receber",
           81
          ],
          [
           17,
           "plano | saúde | operadora | contrato | cancelamento",
           79
          ],
          [
           18,
           "deficiência | assistencial | benefício | família | renda",
           74
          ],
          [
           19,
           "prisão | preventiva | paciente | preso | habeas",
           67
          ],
          [
           20,
           "falecido | morte | pensão | óbito | segurado",
           58
          ],
          [
           21,
           "crédito | cessão | valor | instituição | escolares",
           53
          ],
          [
           22,
           "alvará | funcionamento | municipal | licença | estabelecimento",
           52
          ],
          [
           23,
           "fiscal | nota | documento | negócio | jurídico",
           49
          ],
          [
           24,
           "conselho | crmv | animais | medicina | veterinária",
           49
          ],
          [
           25,
           "icms | cobrança | difal | estadual | simples",
           47
          ],
          [
           26,
           "diligências | débito | executórias | confusão | patrimonial",
           46
          ],
          [
           27,
           "porte | juizado | pequeno | especial | microempresa",
           46
          ],
          [
           28,
           "acidente | danos | cessantes | lucros | materiais",
           36
          ],
          [
           29,
           "qualificação | juizado | especial | tributária | porte",
           36
          ],
          [
           30,
           "diligências | executórias | débito | expropriatórias | confusão",
           35
          ],
          [
           31,
           "segurada | facultativa | baixa | renda | autora",
           35
          ],
          [
           32,
           "contador | propor | documentos | nota | juizados",
           34
          ],
          [
           33,
           "linha | telefonia | operadora | danos | morais",
           31
          ],
          [
           34,
           "credor | microempresa | extinção | cessionário | processo",
           30
          ],
          [
           35,
           "833 | bens | exercício | impenhorabilidade | veículo",
           30
          ],
          [
           36,
           "pena | semiaberto | regime | apenado | externo",
           27
          ],
          [
           37,
           "epp | critérios | enquadrava | nos | cível",
           25
          ],
          [
           38,
           "alimentos | provisórios | mínimo | pai | filha",
           24
          ],
          [
           39,
           "juizado | especial | porte | pequeno | ltda",
           23
          ],
          [
           40,
           "extrajudicial | título | protesto | execução | interesse",
           18
          ],
          [
           41,
           "prisão | liberais | ceplemg | preso | convênio",
           18
          ],
          [
           42,
           "valores | impenhoráveis | penhora | conta | bloqueados",
           18
          ],
          [
           43,
           "juizado | 099 | 95 | especial | sociedades",
           17
          ],
          [
           44,
           "00 | 000 | autor | serviço | pagou",
           16
          ],
          [
           45,
           "ciacaps | atualizacao | capacitacao | integrado | juizados",
           15
          ],
          [
           46,
           "propor | juizado | nesse | ações | lei",
           15
          ],
          [
           47,
           "me | jurídico | negócio | instituição | nota",
           15
          ],
          [
           48,
           "benefício | inss | deficiência | assistencial | mora",
           14
          ],
          [
           49,
           "rural | idade | aposentadoria | inss | agricultura",
           13
          ],
          [
           50,
           "inviabilidade | gratuidade | financeira | movimentação | entidade",
           13
          ],
          [
           51,
           "proporcional | cobrança | tipo | previstas | legal",
           13
          ],
          [
           52,
           "crime | ministério | autoria | público | provas",
           12
          ],
          [
           53,
           "embargos | omissão | declaração | acórdão | contradição",
           12
          ],
          [
           54,
           "citado | réu | intimado | compareceu | audiência",
           12
          ],
          [
           55,
           "citação | endereço | entregue | postal | válida",
           12
          ],
          [
           56,
           "depósito | recursal | custas | ordinário | recurso",
           11
          ],
          [
           57,
           "doação | eleitoral | doações | limite | acima",
           10
          ]
         ],
         "hovertemplate": "<b>Topic %{customdata[0]}</b><br>%{customdata[1]}<br>Size: %{customdata[2]}",
         "legendgroup": "",
         "marker": {
          "color": "#B0BEC5",
          "line": {
           "color": "DarkSlateGrey",
           "width": 2
          },
          "size": {
           "bdata": "rQrnA8kBawFUARMB1QDLAMsAygCzAIUAawBdAFsAVwBRAE8ASgBDADoANQA0ADEAMQAvAC4ALgAkACQAIwAjACIAHwAeAB4AGwAZABgAFwASABIAEgARABAADwAPAA8ADgANAA0ADQAMAAwADAAMAAsACgA=",
           "dtype": "i2"
          },
          "sizemode": "area",
          "sizeref": 1.708125,
          "symbol": "circle"
         },
         "mode": "markers",
         "name": "",
         "orientation": "v",
         "showlegend": false,
         "type": "scatter",
         "x": {
          "bdata": "SmVXwW56IEEHEo5ByToUQfz8hUGS2h5By5gYQUHWFUFigK2/tmIcQbLhFUEbOIlBPcNZwYI9WcH6nx5Bs3IbQb1AJEGz2iNBHmopQTZf5D97ERNBG5OSQNCVi0Hm4qy/NcyOQcf8hkEmbvjAVZFawDW7GEFDHbe/fWv4wB6SG0GYZaW/5IgfQQO6k0DnZsK/kZ7ePzFxVcAvwClBG02APyV2UMA8Loc/OAe9v9R9y8BThxlBxhaOP1R9y8BlkxhBd6AlQRbFHEFmLBxBs7COQaBN6D/tIodABo2ZQG0jh0AHAiFBjD6JQQ==",
          "dtype": "f4"
         },
         "xaxis": "x",
         "y": {
          "bdata": "xyYOQatch0GBY23AJ7RMQZYxiMCwkC5ABc9OQVDTTUFuYwjAtNlmQMdoSUBMWnLADckLQVhODEHSFjFA6P9NQUEqYsCxVU5BA7N2wIQCXsGevE5A0cZLP7Y5Z8BEp0lBBSxewGYLhsD6vH1Bd85TQUUaWEFY7UpB7rt9QYNYS0BaskhBgaxPQcSpVT8h1xLAGEpdweSRUkGcBHjApUuSvXZcUUHdbpK8lCYQwLl6CkGlxFVBmlwUPQd7CkFifoNBi6lnwI6HXUCxOoVBWVdxwBKAXsFqGzdB1RuCP2EbN0HqnodB+7RxwA==",
          "dtype": "f4"
         },
         "yaxis": "y"
        }
       ],
       "layout": {
        "annotations": [
         {
          "showarrow": false,
          "text": "D1",
          "x": -15.651690435409545,
          "y": 1.7516383647918712,
          "yshift": 10
         },
         {
          "showarrow": false,
          "text": "D2",
          "x": 2.437738299369812,
          "xshift": 10,
          "y": 19.49548397064209
         }
        ],
        "height": 650,
        "hoverlabel": {
         "bgcolor": "white",
         "font": {
          "family": "Rockwell",
          "size": 16
         }
        },
        "legend": {
         "itemsizing": "constant",
         "tracegroupgap": 0
        },
        "margin": {
         "t": 60
        },
        "shapes": [
         {
          "line": {
           "color": "#CFD8DC",
           "width": 2
          },
          "type": "line",
          "x0": 2.437738299369812,
          "x1": 2.437738299369812,
          "y0": -15.992207241058349,
          "y1": 19.49548397064209
         },
         {
          "line": {
           "color": "#9E9E9E",
           "width": 2
          },
          "type": "line",
          "x0": -15.651690435409545,
          "x1": 20.52716703414917,
          "y0": 1.7516383647918712,
          "y1": 1.7516383647918712
         }
        ],
        "sliders": [
         {
          "active": 0,
          "pad": {
           "t": 50
          },
          "steps": [
           {
            "args": [
             {
              "marker.color": [
               [
                "red",
                "#B0BEC5",
                "#B0BEC5",
                "#B0BEC5",
                "#B0BEC5",
                "#B0BEC5",
                "#B0BEC5",
                "#B0BEC5",
                "#B0BEC5",
                "#B0BEC5",
                "#B0BEC5",
                "#B0BEC5",
                "#B0BEC5",
                "#B0BEC5",
                "#B0BEC5",
                "#B0BEC5",
                "#B0BEC5",
                "#B0BEC5",
                "#B0BEC5",
                "#B0BEC5",
                "#B0BEC5",
                "#B0BEC5",
                "#B0BEC5",
                "#B0BEC5",
                "#B0BEC5",
                "#B0BEC5",
                "#B0BEC5",
                "#B0BEC5",
                "#B0BEC5",
                "#B0BEC5",
                "#B0BEC5",
                "#B0BEC5",
                "#B0BEC5",
                "#B0BEC5",
                "#B0BEC5",
                "#B0BEC5",
                "#B0BEC5",
                "#B0BEC5",
                "#B0BEC5",
                "#B0BEC5",
                "#B0BEC5",
                "#B0BEC5",
                "#B0BEC5",
                "#B0BEC5",
                "#B0BEC5",
                "#B0BEC5",
                "#B0BEC5",
                "#B0BEC5",
                "#B0BEC5",
                "#B0BEC5",
                "#B0BEC5",
                "#B0BEC5",
                "#B0BEC5",
                "#B0BEC5",
                "#B0BEC5",
                "#B0BEC5",
                "#B0BEC5",
                "#B0BEC5"
               ]
              ]
             }
            ],
            "label": "Topic 0",
            "method": "update"
           },
           {
            "args": [
             {
              "marker.color": [
               [
                "#B0BEC5",
                "red",
                "#B0BEC5",
                "#B0BEC5",
                "#B0BEC5",
                "#B0BEC5",
                "#B0BEC5",
                "#B0BEC5",
                "#B0BEC5",
                "#B0BEC5",
                "#B0BEC5",
                "#B0BEC5",
                "#B0BEC5",
                "#B0BEC5",
                "#B0BEC5",
                "#B0BEC5",
                "#B0BEC5",
                "#B0BEC5",
                "#B0BEC5",
                "#B0BEC5",
                "#B0BEC5",
                "#B0BEC5",
                "#B0BEC5",
                "#B0BEC5",
                "#B0BEC5",
                "#B0BEC5",
                "#B0BEC5",
                "#B0BEC5",
                "#B0BEC5",
                "#B0BEC5",
                "#B0BEC5",
                "#B0BEC5",
                "#B0BEC5",
                "#B0BEC5",
                "#B0BEC5",
                "#B0BEC5",
                "#B0BEC5",
                "#B0BEC5",
                "#B0BEC5",
                "#B0BEC5",
                "#B0BEC5",
                "#B0BEC5",
                "#B0BEC5",
                "#B0BEC5",
                "#B0BEC5",
                "#B0BEC5",
                "#B0BEC5",
                "#B0BEC5",
                "#B0BEC5",
                "#B0BEC5",
                "#B0BEC5",
                "#B0BEC5",
                "#B0BEC5",
                "#B0BEC5",
                "#B0BEC5",
                "#B0BEC5",
                "#B0BEC5",
                "#B0BEC5"
               ]
              ]
             }
            ],
            "label": "Topic 1",
            "method": "update"
           },
           {
            "args": [
             {
              "marker.color": [
               [
                "#B0BEC5",
                "#B0BEC5",
                "red",
                "#B0BEC5",
                "#B0BEC5",
                "#B0BEC5",
                "#B0BEC5",
                "#B0BEC5",
                "#B0BEC5",
                "#B0BEC5",
                "#B0BEC5",
                "#B0BEC5",
                "#B0BEC5",
                "#B0BEC5",
                "#B0BEC5",
                "#B0BEC5",
                "#B0BEC5",
                "#B0BEC5",
                "#B0BEC5",
                "#B0BEC5",
                "#B0BEC5",
                "#B0BEC5",
                "#B0BEC5",
                "#B0BEC5",
                "#B0BEC5",
                "#B0BEC5",
                "#B0BEC5",
                "#B0BEC5",
                "#B0BEC5",
                "#B0BEC5",
                "#B0BEC5",
                "#B0BEC5",
                "#B0BEC5",
                "#B0BEC5",
                "#B0BEC5",
                "#B0BEC5",
                "#B0BEC5",
                "#B0BEC5",
                "#B0BEC5",
                "#B0BEC5",
                "#B0BEC5",
                "#B0BEC5",
                "#B0BEC5",
                "#B0BEC5",
                "#B0BEC5",
                "#B0BEC5",
                "#B0BEC5",
                "#B0BEC5",
                "#B0BEC5",
                "#B0BEC5",
                "#B0BEC5",
                "#B0BEC5",
                "#B0BEC5",
                "#B0BEC5",
                "#B0BEC5",
                "#B0BEC5",
                "#B0BEC5",
                "#B0BEC5"
               ]
              ]
             }
            ],
            "label": "Topic 2",
            "method": "update"
           },
           {
            "args": [
             {
              "marker.color": [
               [
                "#B0BEC5",
                "#B0BEC5",
                "#B0BEC5",
                "red",
                "#B0BEC5",
                "#B0BEC5",
                "#B0BEC5",
                "#B0BEC5",
                "#B0BEC5",
                "#B0BEC5",
                "#B0BEC5",
                "#B0BEC5",
                "#B0BEC5",
                "#B0BEC5",
                "#B0BEC5",
                "#B0BEC5",
                "#B0BEC5",
                "#B0BEC5",
                "#B0BEC5",
                "#B0BEC5",
                "#B0BEC5",
                "#B0BEC5",
                "#B0BEC5",
                "#B0BEC5",
                "#B0BEC5",
                "#B0BEC5",
                "#B0BEC5",
                "#B0BEC5",
                "#B0BEC5",
                "#B0BEC5",
                "#B0BEC5",
                "#B0BEC5",
                "#B0BEC5",
                "#B0BEC5",
                "#B0BEC5",
                "#B0BEC5",
                "#B0BEC5",
                "#B0BEC5",
                "#B0BEC5",
                "#B0BEC5",
                "#B0BEC5",
                "#B0BEC5",
                "#B0BEC5",
                "#B0BEC5",
                "#B0BEC5",
                "#B0BEC5",
                "#B0BEC5",
                "#B0BEC5",
                "#B0BEC5",
                "#B0BEC5",
                "#B0BEC5",
                "#B0BEC5",
                "#B0BEC5",
                "#B0BEC5",
                "#B0BEC5",
                "#B0BEC5",
                "#B0BEC5",
                "#B0BEC5"
               ]
              ]
             }
            ],
            "label": "Topic 3",
            "method": "update"
           },
           {
            "args": [
             {
              "marker.color": [
               [
                "#B0BEC5",
                "#B0BEC5",
                "#B0BEC5",
                "#B0BEC5",
                "red",
                "#B0BEC5",
                "#B0BEC5",
                "#B0BEC5",
                "#B0BEC5",
                "#B0BEC5",
                "#B0BEC5",
                "#B0BEC5",
                "#B0BEC5",
                "#B0BEC5",
                "#B0BEC5",
                "#B0BEC5",
                "#B0BEC5",
                "#B0BEC5",
                "#B0BEC5",
                "#B0BEC5",
                "#B0BEC5",
                "#B0BEC5",
                "#B0BEC5",
                "#B0BEC5",
                "#B0BEC5",
                "#B0BEC5",
                "#B0BEC5",
                "#B0BEC5",
                "#B0BEC5",
                "#B0BEC5",
                "#B0BEC5",
                "#B0BEC5",
                "#B0BEC5",
                "#B0BEC5",
                "#B0BEC5",
                "#B0BEC5",
                "#B0BEC5",
                "#B0BEC5",
                "#B0BEC5",
                "#B0BEC5",
                "#B0BEC5",
                "#B0BEC5",
                "#B0BEC5",
                "#B0BEC5",
                "#B0BEC5",
                "#B0BEC5",
                "#B0BEC5",
                "#B0BEC5",
                "#B0BEC5",
                "#B0BEC5",
                "#B0BEC5",
                "#B0BEC5",
                "#B0BEC5",
                "#B0BEC5",
                "#B0BEC5",
                "#B0BEC5",
                "#B0BEC5",
                "#B0BEC5"
               ]
              ]
             }
            ],
            "label": "Topic 4",
            "method": "update"
           },
           {
            "args": [
             {
              "marker.color": [
               [
                "#B0BEC5",
                "#B0BEC5",
                "#B0BEC5",
                "#B0BEC5",
                "#B0BEC5",
                "red",
                "#B0BEC5",
                "#B0BEC5",
                "#B0BEC5",
                "#B0BEC5",
                "#B0BEC5",
                "#B0BEC5",
                "#B0BEC5",
                "#B0BEC5",
                "#B0BEC5",
                "#B0BEC5",
                "#B0BEC5",
                "#B0BEC5",
                "#B0BEC5",
                "#B0BEC5",
                "#B0BEC5",
                "#B0BEC5",
                "#B0BEC5",
                "#B0BEC5",
                "#B0BEC5",
                "#B0BEC5",
                "#B0BEC5",
                "#B0BEC5",
                "#B0BEC5",
                "#B0BEC5",
                "#B0BEC5",
                "#B0BEC5",
                "#B0BEC5",
                "#B0BEC5",
                "#B0BEC5",
                "#B0BEC5",
                "#B0BEC5",
                "#B0BEC5",
                "#B0BEC5",
                "#B0BEC5",
                "#B0BEC5",
                "#B0BEC5",
                "#B0BEC5",
                "#B0BEC5",
                "#B0BEC5",
                "#B0BEC5",
                "#B0BEC5",
                "#B0BEC5",
                "#B0BEC5",
                "#B0BEC5",
                "#B0BEC5",
                "#B0BEC5",
                "#B0BEC5",
                "#B0BEC5",
                "#B0BEC5",
                "#B0BEC5",
                "#B0BEC5",
                "#B0BEC5"
               ]
              ]
             }
            ],
            "label": "Topic 5",
            "method": "update"
           },
           {
            "args": [
             {
              "marker.color": [
               [
                "#B0BEC5",
                "#B0BEC5",
                "#B0BEC5",
                "#B0BEC5",
                "#B0BEC5",
                "#B0BEC5",
                "red",
                "#B0BEC5",
                "#B0BEC5",
                "#B0BEC5",
                "#B0BEC5",
                "#B0BEC5",
                "#B0BEC5",
                "#B0BEC5",
                "#B0BEC5",
                "#B0BEC5",
                "#B0BEC5",
                "#B0BEC5",
                "#B0BEC5",
                "#B0BEC5",
                "#B0BEC5",
                "#B0BEC5",
                "#B0BEC5",
                "#B0BEC5",
                "#B0BEC5",
                "#B0BEC5",
                "#B0BEC5",
                "#B0BEC5",
                "#B0BEC5",
                "#B0BEC5",
                "#B0BEC5",
                "#B0BEC5",
                "#B0BEC5",
                "#B0BEC5",
                "#B0BEC5",
                "#B0BEC5",
                "#B0BEC5",
                "#B0BEC5",
                "#B0BEC5",
                "#B0BEC5",
                "#B0BEC5",
                "#B0BEC5",
                "#B0BEC5",
                "#B0BEC5",
                "#B0BEC5",
                "#B0BEC5",
                "#B0BEC5",
                "#B0BEC5",
                "#B0BEC5",
                "#B0BEC5",
                "#B0BEC5",
                "#B0BEC5",
                "#B0BEC5",
                "#B0BEC5",
                "#B0BEC5",
                "#B0BEC5",
                "#B0BEC5",
                "#B0BEC5"
               ]
              ]
             }
            ],
            "label": "Topic 6",
            "method": "update"
           },
           {
            "args": [
             {
              "marker.color": [
               [
                "#B0BEC5",
                "#B0BEC5",
                "#B0BEC5",
                "#B0BEC5",
                "#B0BEC5",
                "#B0BEC5",
                "#B0BEC5",
                "red",
                "#B0BEC5",
                "#B0BEC5",
                "#B0BEC5",
                "#B0BEC5",
                "#B0BEC5",
                "#B0BEC5",
                "#B0BEC5",
                "#B0BEC5",
                "#B0BEC5",
                "#B0BEC5",
                "#B0BEC5",
                "#B0BEC5",
                "#B0BEC5",
                "#B0BEC5",
                "#B0BEC5",
                "#B0BEC5",
                "#B0BEC5",
                "#B0BEC5",
                "#B0BEC5",
                "#B0BEC5",
                "#B0BEC5",
                "#B0BEC5",
                "#B0BEC5",
                "#B0BEC5",
                "#B0BEC5",
                "#B0BEC5",
                "#B0BEC5",
                "#B0BEC5",
                "#B0BEC5",
                "#B0BEC5",
                "#B0BEC5",
                "#B0BEC5",
                "#B0BEC5",
                "#B0BEC5",
                "#B0BEC5",
                "#B0BEC5",
                "#B0BEC5",
                "#B0BEC5",
                "#B0BEC5",
                "#B0BEC5",
                "#B0BEC5",
                "#B0BEC5",
                "#B0BEC5",
                "#B0BEC5",
                "#B0BEC5",
                "#B0BEC5",
                "#B0BEC5",
                "#B0BEC5",
                "#B0BEC5",
                "#B0BEC5"
               ]
              ]
             }
            ],
            "label": "Topic 7",
            "method": "update"
           },
           {
            "args": [
             {
              "marker.color": [
               [
                "#B0BEC5",
                "#B0BEC5",
                "#B0BEC5",
                "#B0BEC5",
                "#B0BEC5",
                "#B0BEC5",
                "#B0BEC5",
                "#B0BEC5",
                "red",
                "#B0BEC5",
                "#B0BEC5",
                "#B0BEC5",
                "#B0BEC5",
                "#B0BEC5",
                "#B0BEC5",
                "#B0BEC5",
                "#B0BEC5",
                "#B0BEC5",
                "#B0BEC5",
                "#B0BEC5",
                "#B0BEC5",
                "#B0BEC5",
                "#B0BEC5",
                "#B0BEC5",
                "#B0BEC5",
                "#B0BEC5",
                "#B0BEC5",
                "#B0BEC5",
                "#B0BEC5",
                "#B0BEC5",
                "#B0BEC5",
                "#B0BEC5",
                "#B0BEC5",
                "#B0BEC5",
                "#B0BEC5",
                "#B0BEC5",
                "#B0BEC5",
                "#B0BEC5",
                "#B0BEC5",
                "#B0BEC5",
                "#B0BEC5",
                "#B0BEC5",
                "#B0BEC5",
                "#B0BEC5",
                "#B0BEC5",
                "#B0BEC5",
                "#B0BEC5",
                "#B0BEC5",
                "#B0BEC5",
                "#B0BEC5",
                "#B0BEC5",
                "#B0BEC5",
                "#B0BEC5",
                "#B0BEC5",
                "#B0BEC5",
                "#B0BEC5",
                "#B0BEC5",
                "#B0BEC5"
               ]
              ]
             }
            ],
            "label": "Topic 8",
            "method": "update"
           },
           {
            "args": [
             {
              "marker.color": [
               [
                "#B0BEC5",
                "#B0BEC5",
                "#B0BEC5",
                "#B0BEC5",
                "#B0BEC5",
                "#B0BEC5",
                "#B0BEC5",
                "#B0BEC5",
                "#B0BEC5",
                "red",
                "#B0BEC5",
                "#B0BEC5",
                "#B0BEC5",
                "#B0BEC5",
                "#B0BEC5",
                "#B0BEC5",
                "#B0BEC5",
                "#B0BEC5",
                "#B0BEC5",
                "#B0BEC5",
                "#B0BEC5",
                "#B0BEC5",
                "#B0BEC5",
                "#B0BEC5",
                "#B0BEC5",
                "#B0BEC5",
                "#B0BEC5",
                "#B0BEC5",
                "#B0BEC5",
                "#B0BEC5",
                "#B0BEC5",
                "#B0BEC5",
                "#B0BEC5",
                "#B0BEC5",
                "#B0BEC5",
                "#B0BEC5",
                "#B0BEC5",
                "#B0BEC5",
                "#B0BEC5",
                "#B0BEC5",
                "#B0BEC5",
                "#B0BEC5",
                "#B0BEC5",
                "#B0BEC5",
                "#B0BEC5",
                "#B0BEC5",
                "#B0BEC5",
                "#B0BEC5",
                "#B0BEC5",
                "#B0BEC5",
                "#B0BEC5",
                "#B0BEC5",
                "#B0BEC5",
                "#B0BEC5",
                "#B0BEC5",
                "#B0BEC5",
                "#B0BEC5",
                "#B0BEC5"
               ]
              ]
             }
            ],
            "label": "Topic 9",
            "method": "update"
           },
           {
            "args": [
             {
              "marker.color": [
               [
                "#B0BEC5",
                "#B0BEC5",
                "#B0BEC5",
                "#B0BEC5",
                "#B0BEC5",
                "#B0BEC5",
                "#B0BEC5",
                "#B0BEC5",
                "#B0BEC5",
                "#B0BEC5",
                "red",
                "#B0BEC5",
                "#B0BEC5",
                "#B0BEC5",
                "#B0BEC5",
                "#B0BEC5",
                "#B0BEC5",
                "#B0BEC5",
                "#B0BEC5",
                "#B0BEC5",
                "#B0BEC5",
                "#B0BEC5",
                "#B0BEC5",
                "#B0BEC5",
                "#B0BEC5",
                "#B0BEC5",
                "#B0BEC5",
                "#B0BEC5",
                "#B0BEC5",
                "#B0BEC5",
                "#B0BEC5",
                "#B0BEC5",
                "#B0BEC5",
                "#B0BEC5",
                "#B0BEC5",
                "#B0BEC5",
                "#B0BEC5",
                "#B0BEC5",
                "#B0BEC5",
                "#B0BEC5",
                "#B0BEC5",
                "#B0BEC5",
                "#B0BEC5",
                "#B0BEC5",
                "#B0BEC5",
                "#B0BEC5",
                "#B0BEC5",
                "#B0BEC5",
                "#B0BEC5",
                "#B0BEC5",
                "#B0BEC5",
                "#B0BEC5",
                "#B0BEC5",
                "#B0BEC5",
                "#B0BEC5",
                "#B0BEC5",
                "#B0BEC5",
                "#B0BEC5"
               ]
              ]
             }
            ],
            "label": "Topic 10",
            "method": "update"
           },
           {
            "args": [
             {
              "marker.color": [
               [
                "#B0BEC5",
                "#B0BEC5",
                "#B0BEC5",
                "#B0BEC5",
                "#B0BEC5",
                "#B0BEC5",
                "#B0BEC5",
                "#B0BEC5",
                "#B0BEC5",
                "#B0BEC5",
                "#B0BEC5",
                "red",
                "#B0BEC5",
                "#B0BEC5",
                "#B0BEC5",
                "#B0BEC5",
                "#B0BEC5",
                "#B0BEC5",
                "#B0BEC5",
                "#B0BEC5",
                "#B0BEC5",
                "#B0BEC5",
                "#B0BEC5",
                "#B0BEC5",
                "#B0BEC5",
                "#B0BEC5",
                "#B0BEC5",
                "#B0BEC5",
                "#B0BEC5",
                "#B0BEC5",
                "#B0BEC5",
                "#B0BEC5",
                "#B0BEC5",
                "#B0BEC5",
                "#B0BEC5",
                "#B0BEC5",
                "#B0BEC5",
                "#B0BEC5",
                "#B0BEC5",
                "#B0BEC5",
                "#B0BEC5",
                "#B0BEC5",
                "#B0BEC5",
                "#B0BEC5",
                "#B0BEC5",
                "#B0BEC5",
                "#B0BEC5",
                "#B0BEC5",
                "#B0BEC5",
                "#B0BEC5",
                "#B0BEC5",
                "#B0BEC5",
                "#B0BEC5",
                "#B0BEC5",
                "#B0BEC5",
                "#B0BEC5",
                "#B0BEC5",
                "#B0BEC5"
               ]
              ]
             }
            ],
            "label": "Topic 11",
            "method": "update"
           },
           {
            "args": [
             {
              "marker.color": [
               [
                "#B0BEC5",
                "#B0BEC5",
                "#B0BEC5",
                "#B0BEC5",
                "#B0BEC5",
                "#B0BEC5",
                "#B0BEC5",
                "#B0BEC5",
                "#B0BEC5",
                "#B0BEC5",
                "#B0BEC5",
                "#B0BEC5",
                "red",
                "#B0BEC5",
                "#B0BEC5",
                "#B0BEC5",
                "#B0BEC5",
                "#B0BEC5",
                "#B0BEC5",
                "#B0BEC5",
                "#B0BEC5",
                "#B0BEC5",
                "#B0BEC5",
                "#B0BEC5",
                "#B0BEC5",
                "#B0BEC5",
                "#B0BEC5",
                "#B0BEC5",
                "#B0BEC5",
                "#B0BEC5",
                "#B0BEC5",
                "#B0BEC5",
                "#B0BEC5",
                "#B0BEC5",
                "#B0BEC5",
                "#B0BEC5",
                "#B0BEC5",
                "#B0BEC5",
                "#B0BEC5",
                "#B0BEC5",
                "#B0BEC5",
                "#B0BEC5",
                "#B0BEC5",
                "#B0BEC5",
                "#B0BEC5",
                "#B0BEC5",
                "#B0BEC5",
                "#B0BEC5",
                "#B0BEC5",
                "#B0BEC5",
                "#B0BEC5",
                "#B0BEC5",
                "#B0BEC5",
                "#B0BEC5",
                "#B0BEC5",
                "#B0BEC5",
                "#B0BEC5",
                "#B0BEC5"
               ]
              ]
             }
            ],
            "label": "Topic 12",
            "method": "update"
           },
           {
            "args": [
             {
              "marker.color": [
               [
                "#B0BEC5",
                "#B0BEC5",
                "#B0BEC5",
                "#B0BEC5",
                "#B0BEC5",
                "#B0BEC5",
                "#B0BEC5",
                "#B0BEC5",
                "#B0BEC5",
                "#B0BEC5",
                "#B0BEC5",
                "#B0BEC5",
                "#B0BEC5",
                "red",
                "#B0BEC5",
                "#B0BEC5",
                "#B0BEC5",
                "#B0BEC5",
                "#B0BEC5",
                "#B0BEC5",
                "#B0BEC5",
                "#B0BEC5",
                "#B0BEC5",
                "#B0BEC5",
                "#B0BEC5",
                "#B0BEC5",
                "#B0BEC5",
                "#B0BEC5",
                "#B0BEC5",
                "#B0BEC5",
                "#B0BEC5",
                "#B0BEC5",
                "#B0BEC5",
                "#B0BEC5",
                "#B0BEC5",
                "#B0BEC5",
                "#B0BEC5",
                "#B0BEC5",
                "#B0BEC5",
                "#B0BEC5",
                "#B0BEC5",
                "#B0BEC5",
                "#B0BEC5",
                "#B0BEC5",
                "#B0BEC5",
                "#B0BEC5",
                "#B0BEC5",
                "#B0BEC5",
                "#B0BEC5",
                "#B0BEC5",
                "#B0BEC5",
                "#B0BEC5",
                "#B0BEC5",
                "#B0BEC5",
                "#B0BEC5",
                "#B0BEC5",
                "#B0BEC5",
                "#B0BEC5"
               ]
              ]
             }
            ],
            "label": "Topic 13",
            "method": "update"
           },
           {
            "args": [
             {
              "marker.color": [
               [
                "#B0BEC5",
                "#B0BEC5",
                "#B0BEC5",
                "#B0BEC5",
                "#B0BEC5",
                "#B0BEC5",
                "#B0BEC5",
                "#B0BEC5",
                "#B0BEC5",
                "#B0BEC5",
                "#B0BEC5",
                "#B0BEC5",
                "#B0BEC5",
                "#B0BEC5",
                "red",
                "#B0BEC5",
                "#B0BEC5",
                "#B0BEC5",
                "#B0BEC5",
                "#B0BEC5",
                "#B0BEC5",
                "#B0BEC5",
                "#B0BEC5",
                "#B0BEC5",
                "#B0BEC5",
                "#B0BEC5",
                "#B0BEC5",
                "#B0BEC5",
                "#B0BEC5",
                "#B0BEC5",
                "#B0BEC5",
                "#B0BEC5",
                "#B0BEC5",
                "#B0BEC5",
                "#B0BEC5",
                "#B0BEC5",
                "#B0BEC5",
                "#B0BEC5",
                "#B0BEC5",
                "#B0BEC5",
                "#B0BEC5",
                "#B0BEC5",
                "#B0BEC5",
                "#B0BEC5",
                "#B0BEC5",
                "#B0BEC5",
                "#B0BEC5",
                "#B0BEC5",
                "#B0BEC5",
                "#B0BEC5",
                "#B0BEC5",
                "#B0BEC5",
                "#B0BEC5",
                "#B0BEC5",
                "#B0BEC5",
                "#B0BEC5",
                "#B0BEC5",
                "#B0BEC5"
               ]
              ]
             }
            ],
            "label": "Topic 14",
            "method": "update"
           },
           {
            "args": [
             {
              "marker.color": [
               [
                "#B0BEC5",
                "#B0BEC5",
                "#B0BEC5",
                "#B0BEC5",
                "#B0BEC5",
                "#B0BEC5",
                "#B0BEC5",
                "#B0BEC5",
                "#B0BEC5",
                "#B0BEC5",
                "#B0BEC5",
                "#B0BEC5",
                "#B0BEC5",
                "#B0BEC5",
                "#B0BEC5",
                "red",
                "#B0BEC5",
                "#B0BEC5",
                "#B0BEC5",
                "#B0BEC5",
                "#B0BEC5",
                "#B0BEC5",
                "#B0BEC5",
                "#B0BEC5",
                "#B0BEC5",
                "#B0BEC5",
                "#B0BEC5",
                "#B0BEC5",
                "#B0BEC5",
                "#B0BEC5",
                "#B0BEC5",
                "#B0BEC5",
                "#B0BEC5",
                "#B0BEC5",
                "#B0BEC5",
                "#B0BEC5",
                "#B0BEC5",
                "#B0BEC5",
                "#B0BEC5",
                "#B0BEC5",
                "#B0BEC5",
                "#B0BEC5",
                "#B0BEC5",
                "#B0BEC5",
                "#B0BEC5",
                "#B0BEC5",
                "#B0BEC5",
                "#B0BEC5",
                "#B0BEC5",
                "#B0BEC5",
                "#B0BEC5",
                "#B0BEC5",
                "#B0BEC5",
                "#B0BEC5",
                "#B0BEC5",
                "#B0BEC5",
                "#B0BEC5",
                "#B0BEC5"
               ]
              ]
             }
            ],
            "label": "Topic 15",
            "method": "update"
           },
           {
            "args": [
             {
              "marker.color": [
               [
                "#B0BEC5",
                "#B0BEC5",
                "#B0BEC5",
                "#B0BEC5",
                "#B0BEC5",
                "#B0BEC5",
                "#B0BEC5",
                "#B0BEC5",
                "#B0BEC5",
                "#B0BEC5",
                "#B0BEC5",
                "#B0BEC5",
                "#B0BEC5",
                "#B0BEC5",
                "#B0BEC5",
                "#B0BEC5",
                "red",
                "#B0BEC5",
                "#B0BEC5",
                "#B0BEC5",
                "#B0BEC5",
                "#B0BEC5",
                "#B0BEC5",
                "#B0BEC5",
                "#B0BEC5",
                "#B0BEC5",
                "#B0BEC5",
                "#B0BEC5",
                "#B0BEC5",
                "#B0BEC5",
                "#B0BEC5",
                "#B0BEC5",
                "#B0BEC5",
                "#B0BEC5",
                "#B0BEC5",
                "#B0BEC5",
                "#B0BEC5",
                "#B0BEC5",
                "#B0BEC5",
                "#B0BEC5",
                "#B0BEC5",
                "#B0BEC5",
                "#B0BEC5",
                "#B0BEC5",
                "#B0BEC5",
                "#B0BEC5",
                "#B0BEC5",
                "#B0BEC5",
                "#B0BEC5",
                "#B0BEC5",
                "#B0BEC5",
                "#B0BEC5",
                "#B0BEC5",
                "#B0BEC5",
                "#B0BEC5",
                "#B0BEC5",
                "#B0BEC5",
                "#B0BEC5"
               ]
              ]
             }
            ],
            "label": "Topic 16",
            "method": "update"
           },
           {
            "args": [
             {
              "marker.color": [
               [
                "#B0BEC5",
                "#B0BEC5",
                "#B0BEC5",
                "#B0BEC5",
                "#B0BEC5",
                "#B0BEC5",
                "#B0BEC5",
                "#B0BEC5",
                "#B0BEC5",
                "#B0BEC5",
                "#B0BEC5",
                "#B0BEC5",
                "#B0BEC5",
                "#B0BEC5",
                "#B0BEC5",
                "#B0BEC5",
                "#B0BEC5",
                "red",
                "#B0BEC5",
                "#B0BEC5",
                "#B0BEC5",
                "#B0BEC5",
                "#B0BEC5",
                "#B0BEC5",
                "#B0BEC5",
                "#B0BEC5",
                "#B0BEC5",
                "#B0BEC5",
                "#B0BEC5",
                "#B0BEC5",
                "#B0BEC5",
                "#B0BEC5",
                "#B0BEC5",
                "#B0BEC5",
                "#B0BEC5",
                "#B0BEC5",
                "#B0BEC5",
                "#B0BEC5",
                "#B0BEC5",
                "#B0BEC5",
                "#B0BEC5",
                "#B0BEC5",
                "#B0BEC5",
                "#B0BEC5",
                "#B0BEC5",
                "#B0BEC5",
                "#B0BEC5",
                "#B0BEC5",
                "#B0BEC5",
                "#B0BEC5",
                "#B0BEC5",
                "#B0BEC5",
                "#B0BEC5",
                "#B0BEC5",
                "#B0BEC5",
                "#B0BEC5",
                "#B0BEC5",
                "#B0BEC5"
               ]
              ]
             }
            ],
            "label": "Topic 17",
            "method": "update"
           },
           {
            "args": [
             {
              "marker.color": [
               [
                "#B0BEC5",
                "#B0BEC5",
                "#B0BEC5",
                "#B0BEC5",
                "#B0BEC5",
                "#B0BEC5",
                "#B0BEC5",
                "#B0BEC5",
                "#B0BEC5",
                "#B0BEC5",
                "#B0BEC5",
                "#B0BEC5",
                "#B0BEC5",
                "#B0BEC5",
                "#B0BEC5",
                "#B0BEC5",
                "#B0BEC5",
                "#B0BEC5",
                "red",
                "#B0BEC5",
                "#B0BEC5",
                "#B0BEC5",
                "#B0BEC5",
                "#B0BEC5",
                "#B0BEC5",
                "#B0BEC5",
                "#B0BEC5",
                "#B0BEC5",
                "#B0BEC5",
                "#B0BEC5",
                "#B0BEC5",
                "#B0BEC5",
                "#B0BEC5",
                "#B0BEC5",
                "#B0BEC5",
                "#B0BEC5",
                "#B0BEC5",
                "#B0BEC5",
                "#B0BEC5",
                "#B0BEC5",
                "#B0BEC5",
                "#B0BEC5",
                "#B0BEC5",
                "#B0BEC5",
                "#B0BEC5",
                "#B0BEC5",
                "#B0BEC5",
                "#B0BEC5",
                "#B0BEC5",
                "#B0BEC5",
                "#B0BEC5",
                "#B0BEC5",
                "#B0BEC5",
                "#B0BEC5",
                "#B0BEC5",
                "#B0BEC5",
                "#B0BEC5",
                "#B0BEC5"
               ]
              ]
             }
            ],
            "label": "Topic 18",
            "method": "update"
           },
           {
            "args": [
             {
              "marker.color": [
               [
                "#B0BEC5",
                "#B0BEC5",
                "#B0BEC5",
                "#B0BEC5",
                "#B0BEC5",
                "#B0BEC5",
                "#B0BEC5",
                "#B0BEC5",
                "#B0BEC5",
                "#B0BEC5",
                "#B0BEC5",
                "#B0BEC5",
                "#B0BEC5",
                "#B0BEC5",
                "#B0BEC5",
                "#B0BEC5",
                "#B0BEC5",
                "#B0BEC5",
                "#B0BEC5",
                "red",
                "#B0BEC5",
                "#B0BEC5",
                "#B0BEC5",
                "#B0BEC5",
                "#B0BEC5",
                "#B0BEC5",
                "#B0BEC5",
                "#B0BEC5",
                "#B0BEC5",
                "#B0BEC5",
                "#B0BEC5",
                "#B0BEC5",
                "#B0BEC5",
                "#B0BEC5",
                "#B0BEC5",
                "#B0BEC5",
                "#B0BEC5",
                "#B0BEC5",
                "#B0BEC5",
                "#B0BEC5",
                "#B0BEC5",
                "#B0BEC5",
                "#B0BEC5",
                "#B0BEC5",
                "#B0BEC5",
                "#B0BEC5",
                "#B0BEC5",
                "#B0BEC5",
                "#B0BEC5",
                "#B0BEC5",
                "#B0BEC5",
                "#B0BEC5",
                "#B0BEC5",
                "#B0BEC5",
                "#B0BEC5",
                "#B0BEC5",
                "#B0BEC5",
                "#B0BEC5"
               ]
              ]
             }
            ],
            "label": "Topic 19",
            "method": "update"
           },
           {
            "args": [
             {
              "marker.color": [
               [
                "#B0BEC5",
                "#B0BEC5",
                "#B0BEC5",
                "#B0BEC5",
                "#B0BEC5",
                "#B0BEC5",
                "#B0BEC5",
                "#B0BEC5",
                "#B0BEC5",
                "#B0BEC5",
                "#B0BEC5",
                "#B0BEC5",
                "#B0BEC5",
                "#B0BEC5",
                "#B0BEC5",
                "#B0BEC5",
                "#B0BEC5",
                "#B0BEC5",
                "#B0BEC5",
                "#B0BEC5",
                "red",
                "#B0BEC5",
                "#B0BEC5",
                "#B0BEC5",
                "#B0BEC5",
                "#B0BEC5",
                "#B0BEC5",
                "#B0BEC5",
                "#B0BEC5",
                "#B0BEC5",
                "#B0BEC5",
                "#B0BEC5",
                "#B0BEC5",
                "#B0BEC5",
                "#B0BEC5",
                "#B0BEC5",
                "#B0BEC5",
                "#B0BEC5",
                "#B0BEC5",
                "#B0BEC5",
                "#B0BEC5",
                "#B0BEC5",
                "#B0BEC5",
                "#B0BEC5",
                "#B0BEC5",
                "#B0BEC5",
                "#B0BEC5",
                "#B0BEC5",
                "#B0BEC5",
                "#B0BEC5",
                "#B0BEC5",
                "#B0BEC5",
                "#B0BEC5",
                "#B0BEC5",
                "#B0BEC5",
                "#B0BEC5",
                "#B0BEC5",
                "#B0BEC5"
               ]
              ]
             }
            ],
            "label": "Topic 20",
            "method": "update"
           },
           {
            "args": [
             {
              "marker.color": [
               [
                "#B0BEC5",
                "#B0BEC5",
                "#B0BEC5",
                "#B0BEC5",
                "#B0BEC5",
                "#B0BEC5",
                "#B0BEC5",
                "#B0BEC5",
                "#B0BEC5",
                "#B0BEC5",
                "#B0BEC5",
                "#B0BEC5",
                "#B0BEC5",
                "#B0BEC5",
                "#B0BEC5",
                "#B0BEC5",
                "#B0BEC5",
                "#B0BEC5",
                "#B0BEC5",
                "#B0BEC5",
                "#B0BEC5",
                "red",
                "#B0BEC5",
                "#B0BEC5",
                "#B0BEC5",
                "#B0BEC5",
                "#B0BEC5",
                "#B0BEC5",
                "#B0BEC5",
                "#B0BEC5",
                "#B0BEC5",
                "#B0BEC5",
                "#B0BEC5",
                "#B0BEC5",
                "#B0BEC5",
                "#B0BEC5",
                "#B0BEC5",
                "#B0BEC5",
                "#B0BEC5",
                "#B0BEC5",
                "#B0BEC5",
                "#B0BEC5",
                "#B0BEC5",
                "#B0BEC5",
                "#B0BEC5",
                "#B0BEC5",
                "#B0BEC5",
                "#B0BEC5",
                "#B0BEC5",
                "#B0BEC5",
                "#B0BEC5",
                "#B0BEC5",
                "#B0BEC5",
                "#B0BEC5",
                "#B0BEC5",
                "#B0BEC5",
                "#B0BEC5",
                "#B0BEC5"
               ]
              ]
             }
            ],
            "label": "Topic 21",
            "method": "update"
           },
           {
            "args": [
             {
              "marker.color": [
               [
                "#B0BEC5",
                "#B0BEC5",
                "#B0BEC5",
                "#B0BEC5",
                "#B0BEC5",
                "#B0BEC5",
                "#B0BEC5",
                "#B0BEC5",
                "#B0BEC5",
                "#B0BEC5",
                "#B0BEC5",
                "#B0BEC5",
                "#B0BEC5",
                "#B0BEC5",
                "#B0BEC5",
                "#B0BEC5",
                "#B0BEC5",
                "#B0BEC5",
                "#B0BEC5",
                "#B0BEC5",
                "#B0BEC5",
                "#B0BEC5",
                "red",
                "#B0BEC5",
                "#B0BEC5",
                "#B0BEC5",
                "#B0BEC5",
                "#B0BEC5",
                "#B0BEC5",
                "#B0BEC5",
                "#B0BEC5",
                "#B0BEC5",
                "#B0BEC5",
                "#B0BEC5",
                "#B0BEC5",
                "#B0BEC5",
                "#B0BEC5",
                "#B0BEC5",
                "#B0BEC5",
                "#B0BEC5",
                "#B0BEC5",
                "#B0BEC5",
                "#B0BEC5",
                "#B0BEC5",
                "#B0BEC5",
                "#B0BEC5",
                "#B0BEC5",
                "#B0BEC5",
                "#B0BEC5",
                "#B0BEC5",
                "#B0BEC5",
                "#B0BEC5",
                "#B0BEC5",
                "#B0BEC5",
                "#B0BEC5",
                "#B0BEC5",
                "#B0BEC5",
                "#B0BEC5"
               ]
              ]
             }
            ],
            "label": "Topic 22",
            "method": "update"
           },
           {
            "args": [
             {
              "marker.color": [
               [
                "#B0BEC5",
                "#B0BEC5",
                "#B0BEC5",
                "#B0BEC5",
                "#B0BEC5",
                "#B0BEC5",
                "#B0BEC5",
                "#B0BEC5",
                "#B0BEC5",
                "#B0BEC5",
                "#B0BEC5",
                "#B0BEC5",
                "#B0BEC5",
                "#B0BEC5",
                "#B0BEC5",
                "#B0BEC5",
                "#B0BEC5",
                "#B0BEC5",
                "#B0BEC5",
                "#B0BEC5",
                "#B0BEC5",
                "#B0BEC5",
                "#B0BEC5",
                "red",
                "#B0BEC5",
                "#B0BEC5",
                "#B0BEC5",
                "#B0BEC5",
                "#B0BEC5",
                "#B0BEC5",
                "#B0BEC5",
                "#B0BEC5",
                "#B0BEC5",
                "#B0BEC5",
                "#B0BEC5",
                "#B0BEC5",
                "#B0BEC5",
                "#B0BEC5",
                "#B0BEC5",
                "#B0BEC5",
                "#B0BEC5",
                "#B0BEC5",
                "#B0BEC5",
                "#B0BEC5",
                "#B0BEC5",
                "#B0BEC5",
                "#B0BEC5",
                "#B0BEC5",
                "#B0BEC5",
                "#B0BEC5",
                "#B0BEC5",
                "#B0BEC5",
                "#B0BEC5",
                "#B0BEC5",
                "#B0BEC5",
                "#B0BEC5",
                "#B0BEC5",
                "#B0BEC5"
               ]
              ]
             }
            ],
            "label": "Topic 23",
            "method": "update"
           },
           {
            "args": [
             {
              "marker.color": [
               [
                "#B0BEC5",
                "#B0BEC5",
                "#B0BEC5",
                "#B0BEC5",
                "#B0BEC5",
                "#B0BEC5",
                "#B0BEC5",
                "#B0BEC5",
                "#B0BEC5",
                "#B0BEC5",
                "#B0BEC5",
                "#B0BEC5",
                "#B0BEC5",
                "#B0BEC5",
                "#B0BEC5",
                "#B0BEC5",
                "#B0BEC5",
                "#B0BEC5",
                "#B0BEC5",
                "#B0BEC5",
                "#B0BEC5",
                "#B0BEC5",
                "#B0BEC5",
                "#B0BEC5",
                "red",
                "#B0BEC5",
                "#B0BEC5",
                "#B0BEC5",
                "#B0BEC5",
                "#B0BEC5",
                "#B0BEC5",
                "#B0BEC5",
                "#B0BEC5",
                "#B0BEC5",
                "#B0BEC5",
                "#B0BEC5",
                "#B0BEC5",
                "#B0BEC5",
                "#B0BEC5",
                "#B0BEC5",
                "#B0BEC5",
                "#B0BEC5",
                "#B0BEC5",
                "#B0BEC5",
                "#B0BEC5",
                "#B0BEC5",
                "#B0BEC5",
                "#B0BEC5",
                "#B0BEC5",
                "#B0BEC5",
                "#B0BEC5",
                "#B0BEC5",
                "#B0BEC5",
                "#B0BEC5",
                "#B0BEC5",
                "#B0BEC5",
                "#B0BEC5",
                "#B0BEC5"
               ]
              ]
             }
            ],
            "label": "Topic 24",
            "method": "update"
           },
           {
            "args": [
             {
              "marker.color": [
               [
                "#B0BEC5",
                "#B0BEC5",
                "#B0BEC5",
                "#B0BEC5",
                "#B0BEC5",
                "#B0BEC5",
                "#B0BEC5",
                "#B0BEC5",
                "#B0BEC5",
                "#B0BEC5",
                "#B0BEC5",
                "#B0BEC5",
                "#B0BEC5",
                "#B0BEC5",
                "#B0BEC5",
                "#B0BEC5",
                "#B0BEC5",
                "#B0BEC5",
                "#B0BEC5",
                "#B0BEC5",
                "#B0BEC5",
                "#B0BEC5",
                "#B0BEC5",
                "#B0BEC5",
                "#B0BEC5",
                "red",
                "#B0BEC5",
                "#B0BEC5",
                "#B0BEC5",
                "#B0BEC5",
                "#B0BEC5",
                "#B0BEC5",
                "#B0BEC5",
                "#B0BEC5",
                "#B0BEC5",
                "#B0BEC5",
                "#B0BEC5",
                "#B0BEC5",
                "#B0BEC5",
                "#B0BEC5",
                "#B0BEC5",
                "#B0BEC5",
                "#B0BEC5",
                "#B0BEC5",
                "#B0BEC5",
                "#B0BEC5",
                "#B0BEC5",
                "#B0BEC5",
                "#B0BEC5",
                "#B0BEC5",
                "#B0BEC5",
                "#B0BEC5",
                "#B0BEC5",
                "#B0BEC5",
                "#B0BEC5",
                "#B0BEC5",
                "#B0BEC5",
                "#B0BEC5"
               ]
              ]
             }
            ],
            "label": "Topic 25",
            "method": "update"
           },
           {
            "args": [
             {
              "marker.color": [
               [
                "#B0BEC5",
                "#B0BEC5",
                "#B0BEC5",
                "#B0BEC5",
                "#B0BEC5",
                "#B0BEC5",
                "#B0BEC5",
                "#B0BEC5",
                "#B0BEC5",
                "#B0BEC5",
                "#B0BEC5",
                "#B0BEC5",
                "#B0BEC5",
                "#B0BEC5",
                "#B0BEC5",
                "#B0BEC5",
                "#B0BEC5",
                "#B0BEC5",
                "#B0BEC5",
                "#B0BEC5",
                "#B0BEC5",
                "#B0BEC5",
                "#B0BEC5",
                "#B0BEC5",
                "#B0BEC5",
                "#B0BEC5",
                "red",
                "#B0BEC5",
                "#B0BEC5",
                "#B0BEC5",
                "#B0BEC5",
                "#B0BEC5",
                "#B0BEC5",
                "#B0BEC5",
                "#B0BEC5",
                "#B0BEC5",
                "#B0BEC5",
                "#B0BEC5",
                "#B0BEC5",
                "#B0BEC5",
                "#B0BEC5",
                "#B0BEC5",
                "#B0BEC5",
                "#B0BEC5",
                "#B0BEC5",
                "#B0BEC5",
                "#B0BEC5",
                "#B0BEC5",
                "#B0BEC5",
                "#B0BEC5",
                "#B0BEC5",
                "#B0BEC5",
                "#B0BEC5",
                "#B0BEC5",
                "#B0BEC5",
                "#B0BEC5",
                "#B0BEC5",
                "#B0BEC5"
               ]
              ]
             }
            ],
            "label": "Topic 26",
            "method": "update"
           },
           {
            "args": [
             {
              "marker.color": [
               [
                "#B0BEC5",
                "#B0BEC5",
                "#B0BEC5",
                "#B0BEC5",
                "#B0BEC5",
                "#B0BEC5",
                "#B0BEC5",
                "#B0BEC5",
                "#B0BEC5",
                "#B0BEC5",
                "#B0BEC5",
                "#B0BEC5",
                "#B0BEC5",
                "#B0BEC5",
                "#B0BEC5",
                "#B0BEC5",
                "#B0BEC5",
                "#B0BEC5",
                "#B0BEC5",
                "#B0BEC5",
                "#B0BEC5",
                "#B0BEC5",
                "#B0BEC5",
                "#B0BEC5",
                "#B0BEC5",
                "#B0BEC5",
                "#B0BEC5",
                "red",
                "#B0BEC5",
                "#B0BEC5",
                "#B0BEC5",
                "#B0BEC5",
                "#B0BEC5",
                "#B0BEC5",
                "#B0BEC5",
                "#B0BEC5",
                "#B0BEC5",
                "#B0BEC5",
                "#B0BEC5",
                "#B0BEC5",
                "#B0BEC5",
                "#B0BEC5",
                "#B0BEC5",
                "#B0BEC5",
                "#B0BEC5",
                "#B0BEC5",
                "#B0BEC5",
                "#B0BEC5",
                "#B0BEC5",
                "#B0BEC5",
                "#B0BEC5",
                "#B0BEC5",
                "#B0BEC5",
                "#B0BEC5",
                "#B0BEC5",
                "#B0BEC5",
                "#B0BEC5",
                "#B0BEC5"
               ]
              ]
             }
            ],
            "label": "Topic 27",
            "method": "update"
           },
           {
            "args": [
             {
              "marker.color": [
               [
                "#B0BEC5",
                "#B0BEC5",
                "#B0BEC5",
                "#B0BEC5",
                "#B0BEC5",
                "#B0BEC5",
                "#B0BEC5",
                "#B0BEC5",
                "#B0BEC5",
                "#B0BEC5",
                "#B0BEC5",
                "#B0BEC5",
                "#B0BEC5",
                "#B0BEC5",
                "#B0BEC5",
                "#B0BEC5",
                "#B0BEC5",
                "#B0BEC5",
                "#B0BEC5",
                "#B0BEC5",
                "#B0BEC5",
                "#B0BEC5",
                "#B0BEC5",
                "#B0BEC5",
                "#B0BEC5",
                "#B0BEC5",
                "#B0BEC5",
                "#B0BEC5",
                "red",
                "#B0BEC5",
                "#B0BEC5",
                "#B0BEC5",
                "#B0BEC5",
                "#B0BEC5",
                "#B0BEC5",
                "#B0BEC5",
                "#B0BEC5",
                "#B0BEC5",
                "#B0BEC5",
                "#B0BEC5",
                "#B0BEC5",
                "#B0BEC5",
                "#B0BEC5",
                "#B0BEC5",
                "#B0BEC5",
                "#B0BEC5",
                "#B0BEC5",
                "#B0BEC5",
                "#B0BEC5",
                "#B0BEC5",
                "#B0BEC5",
                "#B0BEC5",
                "#B0BEC5",
                "#B0BEC5",
                "#B0BEC5",
                "#B0BEC5",
                "#B0BEC5",
                "#B0BEC5"
               ]
              ]
             }
            ],
            "label": "Topic 28",
            "method": "update"
           },
           {
            "args": [
             {
              "marker.color": [
               [
                "#B0BEC5",
                "#B0BEC5",
                "#B0BEC5",
                "#B0BEC5",
                "#B0BEC5",
                "#B0BEC5",
                "#B0BEC5",
                "#B0BEC5",
                "#B0BEC5",
                "#B0BEC5",
                "#B0BEC5",
                "#B0BEC5",
                "#B0BEC5",
                "#B0BEC5",
                "#B0BEC5",
                "#B0BEC5",
                "#B0BEC5",
                "#B0BEC5",
                "#B0BEC5",
                "#B0BEC5",
                "#B0BEC5",
                "#B0BEC5",
                "#B0BEC5",
                "#B0BEC5",
                "#B0BEC5",
                "#B0BEC5",
                "#B0BEC5",
                "#B0BEC5",
                "#B0BEC5",
                "red",
                "#B0BEC5",
                "#B0BEC5",
                "#B0BEC5",
                "#B0BEC5",
                "#B0BEC5",
                "#B0BEC5",
                "#B0BEC5",
                "#B0BEC5",
                "#B0BEC5",
                "#B0BEC5",
                "#B0BEC5",
                "#B0BEC5",
                "#B0BEC5",
                "#B0BEC5",
                "#B0BEC5",
                "#B0BEC5",
                "#B0BEC5",
                "#B0BEC5",
                "#B0BEC5",
                "#B0BEC5",
                "#B0BEC5",
                "#B0BEC5",
                "#B0BEC5",
                "#B0BEC5",
                "#B0BEC5",
                "#B0BEC5",
                "#B0BEC5",
                "#B0BEC5"
               ]
              ]
             }
            ],
            "label": "Topic 29",
            "method": "update"
           },
           {
            "args": [
             {
              "marker.color": [
               [
                "#B0BEC5",
                "#B0BEC5",
                "#B0BEC5",
                "#B0BEC5",
                "#B0BEC5",
                "#B0BEC5",
                "#B0BEC5",
                "#B0BEC5",
                "#B0BEC5",
                "#B0BEC5",
                "#B0BEC5",
                "#B0BEC5",
                "#B0BEC5",
                "#B0BEC5",
                "#B0BEC5",
                "#B0BEC5",
                "#B0BEC5",
                "#B0BEC5",
                "#B0BEC5",
                "#B0BEC5",
                "#B0BEC5",
                "#B0BEC5",
                "#B0BEC5",
                "#B0BEC5",
                "#B0BEC5",
                "#B0BEC5",
                "#B0BEC5",
                "#B0BEC5",
                "#B0BEC5",
                "#B0BEC5",
                "red",
                "#B0BEC5",
                "#B0BEC5",
                "#B0BEC5",
                "#B0BEC5",
                "#B0BEC5",
                "#B0BEC5",
                "#B0BEC5",
                "#B0BEC5",
                "#B0BEC5",
                "#B0BEC5",
                "#B0BEC5",
                "#B0BEC5",
                "#B0BEC5",
                "#B0BEC5",
                "#B0BEC5",
                "#B0BEC5",
                "#B0BEC5",
                "#B0BEC5",
                "#B0BEC5",
                "#B0BEC5",
                "#B0BEC5",
                "#B0BEC5",
                "#B0BEC5",
                "#B0BEC5",
                "#B0BEC5",
                "#B0BEC5",
                "#B0BEC5"
               ]
              ]
             }
            ],
            "label": "Topic 30",
            "method": "update"
           },
           {
            "args": [
             {
              "marker.color": [
               [
                "#B0BEC5",
                "#B0BEC5",
                "#B0BEC5",
                "#B0BEC5",
                "#B0BEC5",
                "#B0BEC5",
                "#B0BEC5",
                "#B0BEC5",
                "#B0BEC5",
                "#B0BEC5",
                "#B0BEC5",
                "#B0BEC5",
                "#B0BEC5",
                "#B0BEC5",
                "#B0BEC5",
                "#B0BEC5",
                "#B0BEC5",
                "#B0BEC5",
                "#B0BEC5",
                "#B0BEC5",
                "#B0BEC5",
                "#B0BEC5",
                "#B0BEC5",
                "#B0BEC5",
                "#B0BEC5",
                "#B0BEC5",
                "#B0BEC5",
                "#B0BEC5",
                "#B0BEC5",
                "#B0BEC5",
                "#B0BEC5",
                "red",
                "#B0BEC5",
                "#B0BEC5",
                "#B0BEC5",
                "#B0BEC5",
                "#B0BEC5",
                "#B0BEC5",
                "#B0BEC5",
                "#B0BEC5",
                "#B0BEC5",
                "#B0BEC5",
                "#B0BEC5",
                "#B0BEC5",
                "#B0BEC5",
                "#B0BEC5",
                "#B0BEC5",
                "#B0BEC5",
                "#B0BEC5",
                "#B0BEC5",
                "#B0BEC5",
                "#B0BEC5",
                "#B0BEC5",
                "#B0BEC5",
                "#B0BEC5",
                "#B0BEC5",
                "#B0BEC5",
                "#B0BEC5"
               ]
              ]
             }
            ],
            "label": "Topic 31",
            "method": "update"
           },
           {
            "args": [
             {
              "marker.color": [
               [
                "#B0BEC5",
                "#B0BEC5",
                "#B0BEC5",
                "#B0BEC5",
                "#B0BEC5",
                "#B0BEC5",
                "#B0BEC5",
                "#B0BEC5",
                "#B0BEC5",
                "#B0BEC5",
                "#B0BEC5",
                "#B0BEC5",
                "#B0BEC5",
                "#B0BEC5",
                "#B0BEC5",
                "#B0BEC5",
                "#B0BEC5",
                "#B0BEC5",
                "#B0BEC5",
                "#B0BEC5",
                "#B0BEC5",
                "#B0BEC5",
                "#B0BEC5",
                "#B0BEC5",
                "#B0BEC5",
                "#B0BEC5",
                "#B0BEC5",
                "#B0BEC5",
                "#B0BEC5",
                "#B0BEC5",
                "#B0BEC5",
                "#B0BEC5",
                "red",
                "#B0BEC5",
                "#B0BEC5",
                "#B0BEC5",
                "#B0BEC5",
                "#B0BEC5",
                "#B0BEC5",
                "#B0BEC5",
                "#B0BEC5",
                "#B0BEC5",
                "#B0BEC5",
                "#B0BEC5",
                "#B0BEC5",
                "#B0BEC5",
                "#B0BEC5",
                "#B0BEC5",
                "#B0BEC5",
                "#B0BEC5",
                "#B0BEC5",
                "#B0BEC5",
                "#B0BEC5",
                "#B0BEC5",
                "#B0BEC5",
                "#B0BEC5",
                "#B0BEC5",
                "#B0BEC5"
               ]
              ]
             }
            ],
            "label": "Topic 32",
            "method": "update"
           },
           {
            "args": [
             {
              "marker.color": [
               [
                "#B0BEC5",
                "#B0BEC5",
                "#B0BEC5",
                "#B0BEC5",
                "#B0BEC5",
                "#B0BEC5",
                "#B0BEC5",
                "#B0BEC5",
                "#B0BEC5",
                "#B0BEC5",
                "#B0BEC5",
                "#B0BEC5",
                "#B0BEC5",
                "#B0BEC5",
                "#B0BEC5",
                "#B0BEC5",
                "#B0BEC5",
                "#B0BEC5",
                "#B0BEC5",
                "#B0BEC5",
                "#B0BEC5",
                "#B0BEC5",
                "#B0BEC5",
                "#B0BEC5",
                "#B0BEC5",
                "#B0BEC5",
                "#B0BEC5",
                "#B0BEC5",
                "#B0BEC5",
                "#B0BEC5",
                "#B0BEC5",
                "#B0BEC5",
                "#B0BEC5",
                "red",
                "#B0BEC5",
                "#B0BEC5",
                "#B0BEC5",
                "#B0BEC5",
                "#B0BEC5",
                "#B0BEC5",
                "#B0BEC5",
                "#B0BEC5",
                "#B0BEC5",
                "#B0BEC5",
                "#B0BEC5",
                "#B0BEC5",
                "#B0BEC5",
                "#B0BEC5",
                "#B0BEC5",
                "#B0BEC5",
                "#B0BEC5",
                "#B0BEC5",
                "#B0BEC5",
                "#B0BEC5",
                "#B0BEC5",
                "#B0BEC5",
                "#B0BEC5",
                "#B0BEC5"
               ]
              ]
             }
            ],
            "label": "Topic 33",
            "method": "update"
           },
           {
            "args": [
             {
              "marker.color": [
               [
                "#B0BEC5",
                "#B0BEC5",
                "#B0BEC5",
                "#B0BEC5",
                "#B0BEC5",
                "#B0BEC5",
                "#B0BEC5",
                "#B0BEC5",
                "#B0BEC5",
                "#B0BEC5",
                "#B0BEC5",
                "#B0BEC5",
                "#B0BEC5",
                "#B0BEC5",
                "#B0BEC5",
                "#B0BEC5",
                "#B0BEC5",
                "#B0BEC5",
                "#B0BEC5",
                "#B0BEC5",
                "#B0BEC5",
                "#B0BEC5",
                "#B0BEC5",
                "#B0BEC5",
                "#B0BEC5",
                "#B0BEC5",
                "#B0BEC5",
                "#B0BEC5",
                "#B0BEC5",
                "#B0BEC5",
                "#B0BEC5",
                "#B0BEC5",
                "#B0BEC5",
                "#B0BEC5",
                "red",
                "#B0BEC5",
                "#B0BEC5",
                "#B0BEC5",
                "#B0BEC5",
                "#B0BEC5",
                "#B0BEC5",
                "#B0BEC5",
                "#B0BEC5",
                "#B0BEC5",
                "#B0BEC5",
                "#B0BEC5",
                "#B0BEC5",
                "#B0BEC5",
                "#B0BEC5",
                "#B0BEC5",
                "#B0BEC5",
                "#B0BEC5",
                "#B0BEC5",
                "#B0BEC5",
                "#B0BEC5",
                "#B0BEC5",
                "#B0BEC5",
                "#B0BEC5"
               ]
              ]
             }
            ],
            "label": "Topic 34",
            "method": "update"
           },
           {
            "args": [
             {
              "marker.color": [
               [
                "#B0BEC5",
                "#B0BEC5",
                "#B0BEC5",
                "#B0BEC5",
                "#B0BEC5",
                "#B0BEC5",
                "#B0BEC5",
                "#B0BEC5",
                "#B0BEC5",
                "#B0BEC5",
                "#B0BEC5",
                "#B0BEC5",
                "#B0BEC5",
                "#B0BEC5",
                "#B0BEC5",
                "#B0BEC5",
                "#B0BEC5",
                "#B0BEC5",
                "#B0BEC5",
                "#B0BEC5",
                "#B0BEC5",
                "#B0BEC5",
                "#B0BEC5",
                "#B0BEC5",
                "#B0BEC5",
                "#B0BEC5",
                "#B0BEC5",
                "#B0BEC5",
                "#B0BEC5",
                "#B0BEC5",
                "#B0BEC5",
                "#B0BEC5",
                "#B0BEC5",
                "#B0BEC5",
                "#B0BEC5",
                "red",
                "#B0BEC5",
                "#B0BEC5",
                "#B0BEC5",
                "#B0BEC5",
                "#B0BEC5",
                "#B0BEC5",
                "#B0BEC5",
                "#B0BEC5",
                "#B0BEC5",
                "#B0BEC5",
                "#B0BEC5",
                "#B0BEC5",
                "#B0BEC5",
                "#B0BEC5",
                "#B0BEC5",
                "#B0BEC5",
                "#B0BEC5",
                "#B0BEC5",
                "#B0BEC5",
                "#B0BEC5",
                "#B0BEC5",
                "#B0BEC5"
               ]
              ]
             }
            ],
            "label": "Topic 35",
            "method": "update"
           },
           {
            "args": [
             {
              "marker.color": [
               [
                "#B0BEC5",
                "#B0BEC5",
                "#B0BEC5",
                "#B0BEC5",
                "#B0BEC5",
                "#B0BEC5",
                "#B0BEC5",
                "#B0BEC5",
                "#B0BEC5",
                "#B0BEC5",
                "#B0BEC5",
                "#B0BEC5",
                "#B0BEC5",
                "#B0BEC5",
                "#B0BEC5",
                "#B0BEC5",
                "#B0BEC5",
                "#B0BEC5",
                "#B0BEC5",
                "#B0BEC5",
                "#B0BEC5",
                "#B0BEC5",
                "#B0BEC5",
                "#B0BEC5",
                "#B0BEC5",
                "#B0BEC5",
                "#B0BEC5",
                "#B0BEC5",
                "#B0BEC5",
                "#B0BEC5",
                "#B0BEC5",
                "#B0BEC5",
                "#B0BEC5",
                "#B0BEC5",
                "#B0BEC5",
                "#B0BEC5",
                "red",
                "#B0BEC5",
                "#B0BEC5",
                "#B0BEC5",
                "#B0BEC5",
                "#B0BEC5",
                "#B0BEC5",
                "#B0BEC5",
                "#B0BEC5",
                "#B0BEC5",
                "#B0BEC5",
                "#B0BEC5",
                "#B0BEC5",
                "#B0BEC5",
                "#B0BEC5",
                "#B0BEC5",
                "#B0BEC5",
                "#B0BEC5",
                "#B0BEC5",
                "#B0BEC5",
                "#B0BEC5",
                "#B0BEC5"
               ]
              ]
             }
            ],
            "label": "Topic 36",
            "method": "update"
           },
           {
            "args": [
             {
              "marker.color": [
               [
                "#B0BEC5",
                "#B0BEC5",
                "#B0BEC5",
                "#B0BEC5",
                "#B0BEC5",
                "#B0BEC5",
                "#B0BEC5",
                "#B0BEC5",
                "#B0BEC5",
                "#B0BEC5",
                "#B0BEC5",
                "#B0BEC5",
                "#B0BEC5",
                "#B0BEC5",
                "#B0BEC5",
                "#B0BEC5",
                "#B0BEC5",
                "#B0BEC5",
                "#B0BEC5",
                "#B0BEC5",
                "#B0BEC5",
                "#B0BEC5",
                "#B0BEC5",
                "#B0BEC5",
                "#B0BEC5",
                "#B0BEC5",
                "#B0BEC5",
                "#B0BEC5",
                "#B0BEC5",
                "#B0BEC5",
                "#B0BEC5",
                "#B0BEC5",
                "#B0BEC5",
                "#B0BEC5",
                "#B0BEC5",
                "#B0BEC5",
                "#B0BEC5",
                "red",
                "#B0BEC5",
                "#B0BEC5",
                "#B0BEC5",
                "#B0BEC5",
                "#B0BEC5",
                "#B0BEC5",
                "#B0BEC5",
                "#B0BEC5",
                "#B0BEC5",
                "#B0BEC5",
                "#B0BEC5",
                "#B0BEC5",
                "#B0BEC5",
                "#B0BEC5",
                "#B0BEC5",
                "#B0BEC5",
                "#B0BEC5",
                "#B0BEC5",
                "#B0BEC5",
                "#B0BEC5"
               ]
              ]
             }
            ],
            "label": "Topic 37",
            "method": "update"
           },
           {
            "args": [
             {
              "marker.color": [
               [
                "#B0BEC5",
                "#B0BEC5",
                "#B0BEC5",
                "#B0BEC5",
                "#B0BEC5",
                "#B0BEC5",
                "#B0BEC5",
                "#B0BEC5",
                "#B0BEC5",
                "#B0BEC5",
                "#B0BEC5",
                "#B0BEC5",
                "#B0BEC5",
                "#B0BEC5",
                "#B0BEC5",
                "#B0BEC5",
                "#B0BEC5",
                "#B0BEC5",
                "#B0BEC5",
                "#B0BEC5",
                "#B0BEC5",
                "#B0BEC5",
                "#B0BEC5",
                "#B0BEC5",
                "#B0BEC5",
                "#B0BEC5",
                "#B0BEC5",
                "#B0BEC5",
                "#B0BEC5",
                "#B0BEC5",
                "#B0BEC5",
                "#B0BEC5",
                "#B0BEC5",
                "#B0BEC5",
                "#B0BEC5",
                "#B0BEC5",
                "#B0BEC5",
                "#B0BEC5",
                "red",
                "#B0BEC5",
                "#B0BEC5",
                "#B0BEC5",
                "#B0BEC5",
                "#B0BEC5",
                "#B0BEC5",
                "#B0BEC5",
                "#B0BEC5",
                "#B0BEC5",
                "#B0BEC5",
                "#B0BEC5",
                "#B0BEC5",
                "#B0BEC5",
                "#B0BEC5",
                "#B0BEC5",
                "#B0BEC5",
                "#B0BEC5",
                "#B0BEC5",
                "#B0BEC5"
               ]
              ]
             }
            ],
            "label": "Topic 38",
            "method": "update"
           },
           {
            "args": [
             {
              "marker.color": [
               [
                "#B0BEC5",
                "#B0BEC5",
                "#B0BEC5",
                "#B0BEC5",
                "#B0BEC5",
                "#B0BEC5",
                "#B0BEC5",
                "#B0BEC5",
                "#B0BEC5",
                "#B0BEC5",
                "#B0BEC5",
                "#B0BEC5",
                "#B0BEC5",
                "#B0BEC5",
                "#B0BEC5",
                "#B0BEC5",
                "#B0BEC5",
                "#B0BEC5",
                "#B0BEC5",
                "#B0BEC5",
                "#B0BEC5",
                "#B0BEC5",
                "#B0BEC5",
                "#B0BEC5",
                "#B0BEC5",
                "#B0BEC5",
                "#B0BEC5",
                "#B0BEC5",
                "#B0BEC5",
                "#B0BEC5",
                "#B0BEC5",
                "#B0BEC5",
                "#B0BEC5",
                "#B0BEC5",
                "#B0BEC5",
                "#B0BEC5",
                "#B0BEC5",
                "#B0BEC5",
                "#B0BEC5",
                "red",
                "#B0BEC5",
                "#B0BEC5",
                "#B0BEC5",
                "#B0BEC5",
                "#B0BEC5",
                "#B0BEC5",
                "#B0BEC5",
                "#B0BEC5",
                "#B0BEC5",
                "#B0BEC5",
                "#B0BEC5",
                "#B0BEC5",
                "#B0BEC5",
                "#B0BEC5",
                "#B0BEC5",
                "#B0BEC5",
                "#B0BEC5",
                "#B0BEC5"
               ]
              ]
             }
            ],
            "label": "Topic 39",
            "method": "update"
           },
           {
            "args": [
             {
              "marker.color": [
               [
                "#B0BEC5",
                "#B0BEC5",
                "#B0BEC5",
                "#B0BEC5",
                "#B0BEC5",
                "#B0BEC5",
                "#B0BEC5",
                "#B0BEC5",
                "#B0BEC5",
                "#B0BEC5",
                "#B0BEC5",
                "#B0BEC5",
                "#B0BEC5",
                "#B0BEC5",
                "#B0BEC5",
                "#B0BEC5",
                "#B0BEC5",
                "#B0BEC5",
                "#B0BEC5",
                "#B0BEC5",
                "#B0BEC5",
                "#B0BEC5",
                "#B0BEC5",
                "#B0BEC5",
                "#B0BEC5",
                "#B0BEC5",
                "#B0BEC5",
                "#B0BEC5",
                "#B0BEC5",
                "#B0BEC5",
                "#B0BEC5",
                "#B0BEC5",
                "#B0BEC5",
                "#B0BEC5",
                "#B0BEC5",
                "#B0BEC5",
                "#B0BEC5",
                "#B0BEC5",
                "#B0BEC5",
                "#B0BEC5",
                "red",
                "#B0BEC5",
                "#B0BEC5",
                "#B0BEC5",
                "#B0BEC5",
                "#B0BEC5",
                "#B0BEC5",
                "#B0BEC5",
                "#B0BEC5",
                "#B0BEC5",
                "#B0BEC5",
                "#B0BEC5",
                "#B0BEC5",
                "#B0BEC5",
                "#B0BEC5",
                "#B0BEC5",
                "#B0BEC5",
                "#B0BEC5"
               ]
              ]
             }
            ],
            "label": "Topic 40",
            "method": "update"
           },
           {
            "args": [
             {
              "marker.color": [
               [
                "#B0BEC5",
                "#B0BEC5",
                "#B0BEC5",
                "#B0BEC5",
                "#B0BEC5",
                "#B0BEC5",
                "#B0BEC5",
                "#B0BEC5",
                "#B0BEC5",
                "#B0BEC5",
                "#B0BEC5",
                "#B0BEC5",
                "#B0BEC5",
                "#B0BEC5",
                "#B0BEC5",
                "#B0BEC5",
                "#B0BEC5",
                "#B0BEC5",
                "#B0BEC5",
                "#B0BEC5",
                "#B0BEC5",
                "#B0BEC5",
                "#B0BEC5",
                "#B0BEC5",
                "#B0BEC5",
                "#B0BEC5",
                "#B0BEC5",
                "#B0BEC5",
                "#B0BEC5",
                "#B0BEC5",
                "#B0BEC5",
                "#B0BEC5",
                "#B0BEC5",
                "#B0BEC5",
                "#B0BEC5",
                "#B0BEC5",
                "#B0BEC5",
                "#B0BEC5",
                "#B0BEC5",
                "#B0BEC5",
                "#B0BEC5",
                "red",
                "#B0BEC5",
                "#B0BEC5",
                "#B0BEC5",
                "#B0BEC5",
                "#B0BEC5",
                "#B0BEC5",
                "#B0BEC5",
                "#B0BEC5",
                "#B0BEC5",
                "#B0BEC5",
                "#B0BEC5",
                "#B0BEC5",
                "#B0BEC5",
                "#B0BEC5",
                "#B0BEC5",
                "#B0BEC5"
               ]
              ]
             }
            ],
            "label": "Topic 41",
            "method": "update"
           },
           {
            "args": [
             {
              "marker.color": [
               [
                "#B0BEC5",
                "#B0BEC5",
                "#B0BEC5",
                "#B0BEC5",
                "#B0BEC5",
                "#B0BEC5",
                "#B0BEC5",
                "#B0BEC5",
                "#B0BEC5",
                "#B0BEC5",
                "#B0BEC5",
                "#B0BEC5",
                "#B0BEC5",
                "#B0BEC5",
                "#B0BEC5",
                "#B0BEC5",
                "#B0BEC5",
                "#B0BEC5",
                "#B0BEC5",
                "#B0BEC5",
                "#B0BEC5",
                "#B0BEC5",
                "#B0BEC5",
                "#B0BEC5",
                "#B0BEC5",
                "#B0BEC5",
                "#B0BEC5",
                "#B0BEC5",
                "#B0BEC5",
                "#B0BEC5",
                "#B0BEC5",
                "#B0BEC5",
                "#B0BEC5",
                "#B0BEC5",
                "#B0BEC5",
                "#B0BEC5",
                "#B0BEC5",
                "#B0BEC5",
                "#B0BEC5",
                "#B0BEC5",
                "#B0BEC5",
                "#B0BEC5",
                "red",
                "#B0BEC5",
                "#B0BEC5",
                "#B0BEC5",
                "#B0BEC5",
                "#B0BEC5",
                "#B0BEC5",
                "#B0BEC5",
                "#B0BEC5",
                "#B0BEC5",
                "#B0BEC5",
                "#B0BEC5",
                "#B0BEC5",
                "#B0BEC5",
                "#B0BEC5",
                "#B0BEC5"
               ]
              ]
             }
            ],
            "label": "Topic 42",
            "method": "update"
           },
           {
            "args": [
             {
              "marker.color": [
               [
                "#B0BEC5",
                "#B0BEC5",
                "#B0BEC5",
                "#B0BEC5",
                "#B0BEC5",
                "#B0BEC5",
                "#B0BEC5",
                "#B0BEC5",
                "#B0BEC5",
                "#B0BEC5",
                "#B0BEC5",
                "#B0BEC5",
                "#B0BEC5",
                "#B0BEC5",
                "#B0BEC5",
                "#B0BEC5",
                "#B0BEC5",
                "#B0BEC5",
                "#B0BEC5",
                "#B0BEC5",
                "#B0BEC5",
                "#B0BEC5",
                "#B0BEC5",
                "#B0BEC5",
                "#B0BEC5",
                "#B0BEC5",
                "#B0BEC5",
                "#B0BEC5",
                "#B0BEC5",
                "#B0BEC5",
                "#B0BEC5",
                "#B0BEC5",
                "#B0BEC5",
                "#B0BEC5",
                "#B0BEC5",
                "#B0BEC5",
                "#B0BEC5",
                "#B0BEC5",
                "#B0BEC5",
                "#B0BEC5",
                "#B0BEC5",
                "#B0BEC5",
                "#B0BEC5",
                "red",
                "#B0BEC5",
                "#B0BEC5",
                "#B0BEC5",
                "#B0BEC5",
                "#B0BEC5",
                "#B0BEC5",
                "#B0BEC5",
                "#B0BEC5",
                "#B0BEC5",
                "#B0BEC5",
                "#B0BEC5",
                "#B0BEC5",
                "#B0BEC5",
                "#B0BEC5"
               ]
              ]
             }
            ],
            "label": "Topic 43",
            "method": "update"
           },
           {
            "args": [
             {
              "marker.color": [
               [
                "#B0BEC5",
                "#B0BEC5",
                "#B0BEC5",
                "#B0BEC5",
                "#B0BEC5",
                "#B0BEC5",
                "#B0BEC5",
                "#B0BEC5",
                "#B0BEC5",
                "#B0BEC5",
                "#B0BEC5",
                "#B0BEC5",
                "#B0BEC5",
                "#B0BEC5",
                "#B0BEC5",
                "#B0BEC5",
                "#B0BEC5",
                "#B0BEC5",
                "#B0BEC5",
                "#B0BEC5",
                "#B0BEC5",
                "#B0BEC5",
                "#B0BEC5",
                "#B0BEC5",
                "#B0BEC5",
                "#B0BEC5",
                "#B0BEC5",
                "#B0BEC5",
                "#B0BEC5",
                "#B0BEC5",
                "#B0BEC5",
                "#B0BEC5",
                "#B0BEC5",
                "#B0BEC5",
                "#B0BEC5",
                "#B0BEC5",
                "#B0BEC5",
                "#B0BEC5",
                "#B0BEC5",
                "#B0BEC5",
                "#B0BEC5",
                "#B0BEC5",
                "#B0BEC5",
                "#B0BEC5",
                "red",
                "#B0BEC5",
                "#B0BEC5",
                "#B0BEC5",
                "#B0BEC5",
                "#B0BEC5",
                "#B0BEC5",
                "#B0BEC5",
                "#B0BEC5",
                "#B0BEC5",
                "#B0BEC5",
                "#B0BEC5",
                "#B0BEC5",
                "#B0BEC5"
               ]
              ]
             }
            ],
            "label": "Topic 44",
            "method": "update"
           },
           {
            "args": [
             {
              "marker.color": [
               [
                "#B0BEC5",
                "#B0BEC5",
                "#B0BEC5",
                "#B0BEC5",
                "#B0BEC5",
                "#B0BEC5",
                "#B0BEC5",
                "#B0BEC5",
                "#B0BEC5",
                "#B0BEC5",
                "#B0BEC5",
                "#B0BEC5",
                "#B0BEC5",
                "#B0BEC5",
                "#B0BEC5",
                "#B0BEC5",
                "#B0BEC5",
                "#B0BEC5",
                "#B0BEC5",
                "#B0BEC5",
                "#B0BEC5",
                "#B0BEC5",
                "#B0BEC5",
                "#B0BEC5",
                "#B0BEC5",
                "#B0BEC5",
                "#B0BEC5",
                "#B0BEC5",
                "#B0BEC5",
                "#B0BEC5",
                "#B0BEC5",
                "#B0BEC5",
                "#B0BEC5",
                "#B0BEC5",
                "#B0BEC5",
                "#B0BEC5",
                "#B0BEC5",
                "#B0BEC5",
                "#B0BEC5",
                "#B0BEC5",
                "#B0BEC5",
                "#B0BEC5",
                "#B0BEC5",
                "#B0BEC5",
                "#B0BEC5",
                "red",
                "#B0BEC5",
                "#B0BEC5",
                "#B0BEC5",
                "#B0BEC5",
                "#B0BEC5",
                "#B0BEC5",
                "#B0BEC5",
                "#B0BEC5",
                "#B0BEC5",
                "#B0BEC5",
                "#B0BEC5",
                "#B0BEC5"
               ]
              ]
             }
            ],
            "label": "Topic 45",
            "method": "update"
           },
           {
            "args": [
             {
              "marker.color": [
               [
                "#B0BEC5",
                "#B0BEC5",
                "#B0BEC5",
                "#B0BEC5",
                "#B0BEC5",
                "#B0BEC5",
                "#B0BEC5",
                "#B0BEC5",
                "#B0BEC5",
                "#B0BEC5",
                "#B0BEC5",
                "#B0BEC5",
                "#B0BEC5",
                "#B0BEC5",
                "#B0BEC5",
                "#B0BEC5",
                "#B0BEC5",
                "#B0BEC5",
                "#B0BEC5",
                "#B0BEC5",
                "#B0BEC5",
                "#B0BEC5",
                "#B0BEC5",
                "#B0BEC5",
                "#B0BEC5",
                "#B0BEC5",
                "#B0BEC5",
                "#B0BEC5",
                "#B0BEC5",
                "#B0BEC5",
                "#B0BEC5",
                "#B0BEC5",
                "#B0BEC5",
                "#B0BEC5",
                "#B0BEC5",
                "#B0BEC5",
                "#B0BEC5",
                "#B0BEC5",
                "#B0BEC5",
                "#B0BEC5",
                "#B0BEC5",
                "#B0BEC5",
                "#B0BEC5",
                "#B0BEC5",
                "#B0BEC5",
                "#B0BEC5",
                "red",
                "#B0BEC5",
                "#B0BEC5",
                "#B0BEC5",
                "#B0BEC5",
                "#B0BEC5",
                "#B0BEC5",
                "#B0BEC5",
                "#B0BEC5",
                "#B0BEC5",
                "#B0BEC5",
                "#B0BEC5"
               ]
              ]
             }
            ],
            "label": "Topic 46",
            "method": "update"
           },
           {
            "args": [
             {
              "marker.color": [
               [
                "#B0BEC5",
                "#B0BEC5",
                "#B0BEC5",
                "#B0BEC5",
                "#B0BEC5",
                "#B0BEC5",
                "#B0BEC5",
                "#B0BEC5",
                "#B0BEC5",
                "#B0BEC5",
                "#B0BEC5",
                "#B0BEC5",
                "#B0BEC5",
                "#B0BEC5",
                "#B0BEC5",
                "#B0BEC5",
                "#B0BEC5",
                "#B0BEC5",
                "#B0BEC5",
                "#B0BEC5",
                "#B0BEC5",
                "#B0BEC5",
                "#B0BEC5",
                "#B0BEC5",
                "#B0BEC5",
                "#B0BEC5",
                "#B0BEC5",
                "#B0BEC5",
                "#B0BEC5",
                "#B0BEC5",
                "#B0BEC5",
                "#B0BEC5",
                "#B0BEC5",
                "#B0BEC5",
                "#B0BEC5",
                "#B0BEC5",
                "#B0BEC5",
                "#B0BEC5",
                "#B0BEC5",
                "#B0BEC5",
                "#B0BEC5",
                "#B0BEC5",
                "#B0BEC5",
                "#B0BEC5",
                "#B0BEC5",
                "#B0BEC5",
                "#B0BEC5",
                "red",
                "#B0BEC5",
                "#B0BEC5",
                "#B0BEC5",
                "#B0BEC5",
                "#B0BEC5",
                "#B0BEC5",
                "#B0BEC5",
                "#B0BEC5",
                "#B0BEC5",
                "#B0BEC5"
               ]
              ]
             }
            ],
            "label": "Topic 47",
            "method": "update"
           },
           {
            "args": [
             {
              "marker.color": [
               [
                "#B0BEC5",
                "#B0BEC5",
                "#B0BEC5",
                "#B0BEC5",
                "#B0BEC5",
                "#B0BEC5",
                "#B0BEC5",
                "#B0BEC5",
                "#B0BEC5",
                "#B0BEC5",
                "#B0BEC5",
                "#B0BEC5",
                "#B0BEC5",
                "#B0BEC5",
                "#B0BEC5",
                "#B0BEC5",
                "#B0BEC5",
                "#B0BEC5",
                "#B0BEC5",
                "#B0BEC5",
                "#B0BEC5",
                "#B0BEC5",
                "#B0BEC5",
                "#B0BEC5",
                "#B0BEC5",
                "#B0BEC5",
                "#B0BEC5",
                "#B0BEC5",
                "#B0BEC5",
                "#B0BEC5",
                "#B0BEC5",
                "#B0BEC5",
                "#B0BEC5",
                "#B0BEC5",
                "#B0BEC5",
                "#B0BEC5",
                "#B0BEC5",
                "#B0BEC5",
                "#B0BEC5",
                "#B0BEC5",
                "#B0BEC5",
                "#B0BEC5",
                "#B0BEC5",
                "#B0BEC5",
                "#B0BEC5",
                "#B0BEC5",
                "#B0BEC5",
                "#B0BEC5",
                "red",
                "#B0BEC5",
                "#B0BEC5",
                "#B0BEC5",
                "#B0BEC5",
                "#B0BEC5",
                "#B0BEC5",
                "#B0BEC5",
                "#B0BEC5",
                "#B0BEC5"
               ]
              ]
             }
            ],
            "label": "Topic 48",
            "method": "update"
           },
           {
            "args": [
             {
              "marker.color": [
               [
                "#B0BEC5",
                "#B0BEC5",
                "#B0BEC5",
                "#B0BEC5",
                "#B0BEC5",
                "#B0BEC5",
                "#B0BEC5",
                "#B0BEC5",
                "#B0BEC5",
                "#B0BEC5",
                "#B0BEC5",
                "#B0BEC5",
                "#B0BEC5",
                "#B0BEC5",
                "#B0BEC5",
                "#B0BEC5",
                "#B0BEC5",
                "#B0BEC5",
                "#B0BEC5",
                "#B0BEC5",
                "#B0BEC5",
                "#B0BEC5",
                "#B0BEC5",
                "#B0BEC5",
                "#B0BEC5",
                "#B0BEC5",
                "#B0BEC5",
                "#B0BEC5",
                "#B0BEC5",
                "#B0BEC5",
                "#B0BEC5",
                "#B0BEC5",
                "#B0BEC5",
                "#B0BEC5",
                "#B0BEC5",
                "#B0BEC5",
                "#B0BEC5",
                "#B0BEC5",
                "#B0BEC5",
                "#B0BEC5",
                "#B0BEC5",
                "#B0BEC5",
                "#B0BEC5",
                "#B0BEC5",
                "#B0BEC5",
                "#B0BEC5",
                "#B0BEC5",
                "#B0BEC5",
                "#B0BEC5",
                "red",
                "#B0BEC5",
                "#B0BEC5",
                "#B0BEC5",
                "#B0BEC5",
                "#B0BEC5",
                "#B0BEC5",
                "#B0BEC5",
                "#B0BEC5"
               ]
              ]
             }
            ],
            "label": "Topic 49",
            "method": "update"
           },
           {
            "args": [
             {
              "marker.color": [
               [
                "#B0BEC5",
                "#B0BEC5",
                "#B0BEC5",
                "#B0BEC5",
                "#B0BEC5",
                "#B0BEC5",
                "#B0BEC5",
                "#B0BEC5",
                "#B0BEC5",
                "#B0BEC5",
                "#B0BEC5",
                "#B0BEC5",
                "#B0BEC5",
                "#B0BEC5",
                "#B0BEC5",
                "#B0BEC5",
                "#B0BEC5",
                "#B0BEC5",
                "#B0BEC5",
                "#B0BEC5",
                "#B0BEC5",
                "#B0BEC5",
                "#B0BEC5",
                "#B0BEC5",
                "#B0BEC5",
                "#B0BEC5",
                "#B0BEC5",
                "#B0BEC5",
                "#B0BEC5",
                "#B0BEC5",
                "#B0BEC5",
                "#B0BEC5",
                "#B0BEC5",
                "#B0BEC5",
                "#B0BEC5",
                "#B0BEC5",
                "#B0BEC5",
                "#B0BEC5",
                "#B0BEC5",
                "#B0BEC5",
                "#B0BEC5",
                "#B0BEC5",
                "#B0BEC5",
                "#B0BEC5",
                "#B0BEC5",
                "#B0BEC5",
                "#B0BEC5",
                "#B0BEC5",
                "#B0BEC5",
                "#B0BEC5",
                "red",
                "#B0BEC5",
                "#B0BEC5",
                "#B0BEC5",
                "#B0BEC5",
                "#B0BEC5",
                "#B0BEC5",
                "#B0BEC5"
               ]
              ]
             }
            ],
            "label": "Topic 50",
            "method": "update"
           },
           {
            "args": [
             {
              "marker.color": [
               [
                "#B0BEC5",
                "#B0BEC5",
                "#B0BEC5",
                "#B0BEC5",
                "#B0BEC5",
                "#B0BEC5",
                "#B0BEC5",
                "#B0BEC5",
                "#B0BEC5",
                "#B0BEC5",
                "#B0BEC5",
                "#B0BEC5",
                "#B0BEC5",
                "#B0BEC5",
                "#B0BEC5",
                "#B0BEC5",
                "#B0BEC5",
                "#B0BEC5",
                "#B0BEC5",
                "#B0BEC5",
                "#B0BEC5",
                "#B0BEC5",
                "#B0BEC5",
                "#B0BEC5",
                "#B0BEC5",
                "#B0BEC5",
                "#B0BEC5",
                "#B0BEC5",
                "#B0BEC5",
                "#B0BEC5",
                "#B0BEC5",
                "#B0BEC5",
                "#B0BEC5",
                "#B0BEC5",
                "#B0BEC5",
                "#B0BEC5",
                "#B0BEC5",
                "#B0BEC5",
                "#B0BEC5",
                "#B0BEC5",
                "#B0BEC5",
                "#B0BEC5",
                "#B0BEC5",
                "#B0BEC5",
                "#B0BEC5",
                "#B0BEC5",
                "#B0BEC5",
                "#B0BEC5",
                "#B0BEC5",
                "#B0BEC5",
                "#B0BEC5",
                "red",
                "#B0BEC5",
                "#B0BEC5",
                "#B0BEC5",
                "#B0BEC5",
                "#B0BEC5",
                "#B0BEC5"
               ]
              ]
             }
            ],
            "label": "Topic 51",
            "method": "update"
           },
           {
            "args": [
             {
              "marker.color": [
               [
                "#B0BEC5",
                "#B0BEC5",
                "#B0BEC5",
                "#B0BEC5",
                "#B0BEC5",
                "#B0BEC5",
                "#B0BEC5",
                "#B0BEC5",
                "#B0BEC5",
                "#B0BEC5",
                "#B0BEC5",
                "#B0BEC5",
                "#B0BEC5",
                "#B0BEC5",
                "#B0BEC5",
                "#B0BEC5",
                "#B0BEC5",
                "#B0BEC5",
                "#B0BEC5",
                "#B0BEC5",
                "#B0BEC5",
                "#B0BEC5",
                "#B0BEC5",
                "#B0BEC5",
                "#B0BEC5",
                "#B0BEC5",
                "#B0BEC5",
                "#B0BEC5",
                "#B0BEC5",
                "#B0BEC5",
                "#B0BEC5",
                "#B0BEC5",
                "#B0BEC5",
                "#B0BEC5",
                "#B0BEC5",
                "#B0BEC5",
                "#B0BEC5",
                "#B0BEC5",
                "#B0BEC5",
                "#B0BEC5",
                "#B0BEC5",
                "#B0BEC5",
                "#B0BEC5",
                "#B0BEC5",
                "#B0BEC5",
                "#B0BEC5",
                "#B0BEC5",
                "#B0BEC5",
                "#B0BEC5",
                "#B0BEC5",
                "#B0BEC5",
                "#B0BEC5",
                "red",
                "#B0BEC5",
                "#B0BEC5",
                "#B0BEC5",
                "#B0BEC5",
                "#B0BEC5"
               ]
              ]
             }
            ],
            "label": "Topic 52",
            "method": "update"
           },
           {
            "args": [
             {
              "marker.color": [
               [
                "#B0BEC5",
                "#B0BEC5",
                "#B0BEC5",
                "#B0BEC5",
                "#B0BEC5",
                "#B0BEC5",
                "#B0BEC5",
                "#B0BEC5",
                "#B0BEC5",
                "#B0BEC5",
                "#B0BEC5",
                "#B0BEC5",
                "#B0BEC5",
                "#B0BEC5",
                "#B0BEC5",
                "#B0BEC5",
                "#B0BEC5",
                "#B0BEC5",
                "#B0BEC5",
                "#B0BEC5",
                "#B0BEC5",
                "#B0BEC5",
                "#B0BEC5",
                "#B0BEC5",
                "#B0BEC5",
                "#B0BEC5",
                "#B0BEC5",
                "#B0BEC5",
                "#B0BEC5",
                "#B0BEC5",
                "#B0BEC5",
                "#B0BEC5",
                "#B0BEC5",
                "#B0BEC5",
                "#B0BEC5",
                "#B0BEC5",
                "#B0BEC5",
                "#B0BEC5",
                "#B0BEC5",
                "#B0BEC5",
                "#B0BEC5",
                "#B0BEC5",
                "#B0BEC5",
                "#B0BEC5",
                "#B0BEC5",
                "#B0BEC5",
                "#B0BEC5",
                "#B0BEC5",
                "#B0BEC5",
                "#B0BEC5",
                "#B0BEC5",
                "#B0BEC5",
                "#B0BEC5",
                "red",
                "#B0BEC5",
                "#B0BEC5",
                "#B0BEC5",
                "#B0BEC5"
               ]
              ]
             }
            ],
            "label": "Topic 53",
            "method": "update"
           },
           {
            "args": [
             {
              "marker.color": [
               [
                "#B0BEC5",
                "#B0BEC5",
                "#B0BEC5",
                "#B0BEC5",
                "#B0BEC5",
                "#B0BEC5",
                "#B0BEC5",
                "#B0BEC5",
                "#B0BEC5",
                "#B0BEC5",
                "#B0BEC5",
                "#B0BEC5",
                "#B0BEC5",
                "#B0BEC5",
                "#B0BEC5",
                "#B0BEC5",
                "#B0BEC5",
                "#B0BEC5",
                "#B0BEC5",
                "#B0BEC5",
                "#B0BEC5",
                "#B0BEC5",
                "#B0BEC5",
                "#B0BEC5",
                "#B0BEC5",
                "#B0BEC5",
                "#B0BEC5",
                "#B0BEC5",
                "#B0BEC5",
                "#B0BEC5",
                "#B0BEC5",
                "#B0BEC5",
                "#B0BEC5",
                "#B0BEC5",
                "#B0BEC5",
                "#B0BEC5",
                "#B0BEC5",
                "#B0BEC5",
                "#B0BEC5",
                "#B0BEC5",
                "#B0BEC5",
                "#B0BEC5",
                "#B0BEC5",
                "#B0BEC5",
                "#B0BEC5",
                "#B0BEC5",
                "#B0BEC5",
                "#B0BEC5",
                "#B0BEC5",
                "#B0BEC5",
                "#B0BEC5",
                "#B0BEC5",
                "#B0BEC5",
                "#B0BEC5",
                "red",
                "#B0BEC5",
                "#B0BEC5",
                "#B0BEC5"
               ]
              ]
             }
            ],
            "label": "Topic 54",
            "method": "update"
           },
           {
            "args": [
             {
              "marker.color": [
               [
                "#B0BEC5",
                "#B0BEC5",
                "#B0BEC5",
                "#B0BEC5",
                "#B0BEC5",
                "#B0BEC5",
                "#B0BEC5",
                "#B0BEC5",
                "#B0BEC5",
                "#B0BEC5",
                "#B0BEC5",
                "#B0BEC5",
                "#B0BEC5",
                "#B0BEC5",
                "#B0BEC5",
                "#B0BEC5",
                "#B0BEC5",
                "#B0BEC5",
                "#B0BEC5",
                "#B0BEC5",
                "#B0BEC5",
                "#B0BEC5",
                "#B0BEC5",
                "#B0BEC5",
                "#B0BEC5",
                "#B0BEC5",
                "#B0BEC5",
                "#B0BEC5",
                "#B0BEC5",
                "#B0BEC5",
                "#B0BEC5",
                "#B0BEC5",
                "#B0BEC5",
                "#B0BEC5",
                "#B0BEC5",
                "#B0BEC5",
                "#B0BEC5",
                "#B0BEC5",
                "#B0BEC5",
                "#B0BEC5",
                "#B0BEC5",
                "#B0BEC5",
                "#B0BEC5",
                "#B0BEC5",
                "#B0BEC5",
                "#B0BEC5",
                "#B0BEC5",
                "#B0BEC5",
                "#B0BEC5",
                "#B0BEC5",
                "#B0BEC5",
                "#B0BEC5",
                "#B0BEC5",
                "#B0BEC5",
                "#B0BEC5",
                "red",
                "#B0BEC5",
                "#B0BEC5"
               ]
              ]
             }
            ],
            "label": "Topic 55",
            "method": "update"
           },
           {
            "args": [
             {
              "marker.color": [
               [
                "#B0BEC5",
                "#B0BEC5",
                "#B0BEC5",
                "#B0BEC5",
                "#B0BEC5",
                "#B0BEC5",
                "#B0BEC5",
                "#B0BEC5",
                "#B0BEC5",
                "#B0BEC5",
                "#B0BEC5",
                "#B0BEC5",
                "#B0BEC5",
                "#B0BEC5",
                "#B0BEC5",
                "#B0BEC5",
                "#B0BEC5",
                "#B0BEC5",
                "#B0BEC5",
                "#B0BEC5",
                "#B0BEC5",
                "#B0BEC5",
                "#B0BEC5",
                "#B0BEC5",
                "#B0BEC5",
                "#B0BEC5",
                "#B0BEC5",
                "#B0BEC5",
                "#B0BEC5",
                "#B0BEC5",
                "#B0BEC5",
                "#B0BEC5",
                "#B0BEC5",
                "#B0BEC5",
                "#B0BEC5",
                "#B0BEC5",
                "#B0BEC5",
                "#B0BEC5",
                "#B0BEC5",
                "#B0BEC5",
                "#B0BEC5",
                "#B0BEC5",
                "#B0BEC5",
                "#B0BEC5",
                "#B0BEC5",
                "#B0BEC5",
                "#B0BEC5",
                "#B0BEC5",
                "#B0BEC5",
                "#B0BEC5",
                "#B0BEC5",
                "#B0BEC5",
                "#B0BEC5",
                "#B0BEC5",
                "#B0BEC5",
                "#B0BEC5",
                "red",
                "#B0BEC5"
               ]
              ]
             }
            ],
            "label": "Topic 56",
            "method": "update"
           },
           {
            "args": [
             {
              "marker.color": [
               [
                "#B0BEC5",
                "#B0BEC5",
                "#B0BEC5",
                "#B0BEC5",
                "#B0BEC5",
                "#B0BEC5",
                "#B0BEC5",
                "#B0BEC5",
                "#B0BEC5",
                "#B0BEC5",
                "#B0BEC5",
                "#B0BEC5",
                "#B0BEC5",
                "#B0BEC5",
                "#B0BEC5",
                "#B0BEC5",
                "#B0BEC5",
                "#B0BEC5",
                "#B0BEC5",
                "#B0BEC5",
                "#B0BEC5",
                "#B0BEC5",
                "#B0BEC5",
                "#B0BEC5",
                "#B0BEC5",
                "#B0BEC5",
                "#B0BEC5",
                "#B0BEC5",
                "#B0BEC5",
                "#B0BEC5",
                "#B0BEC5",
                "#B0BEC5",
                "#B0BEC5",
                "#B0BEC5",
                "#B0BEC5",
                "#B0BEC5",
                "#B0BEC5",
                "#B0BEC5",
                "#B0BEC5",
                "#B0BEC5",
                "#B0BEC5",
                "#B0BEC5",
                "#B0BEC5",
                "#B0BEC5",
                "#B0BEC5",
                "#B0BEC5",
                "#B0BEC5",
                "#B0BEC5",
                "#B0BEC5",
                "#B0BEC5",
                "#B0BEC5",
                "#B0BEC5",
                "#B0BEC5",
                "#B0BEC5",
                "#B0BEC5",
                "#B0BEC5",
                "#B0BEC5",
                "red"
               ]
              ]
             }
            ],
            "label": "Topic 57",
            "method": "update"
           }
          ]
         }
        ],
        "template": {
         "data": {
          "bar": [
           {
            "error_x": {
             "color": "rgb(36,36,36)"
            },
            "error_y": {
             "color": "rgb(36,36,36)"
            },
            "marker": {
             "line": {
              "color": "white",
              "width": 0.5
             },
             "pattern": {
              "fillmode": "overlay",
              "size": 10,
              "solidity": 0.2
             }
            },
            "type": "bar"
           }
          ],
          "barpolar": [
           {
            "marker": {
             "line": {
              "color": "white",
              "width": 0.5
             },
             "pattern": {
              "fillmode": "overlay",
              "size": 10,
              "solidity": 0.2
             }
            },
            "type": "barpolar"
           }
          ],
          "carpet": [
           {
            "aaxis": {
             "endlinecolor": "rgb(36,36,36)",
             "gridcolor": "white",
             "linecolor": "white",
             "minorgridcolor": "white",
             "startlinecolor": "rgb(36,36,36)"
            },
            "baxis": {
             "endlinecolor": "rgb(36,36,36)",
             "gridcolor": "white",
             "linecolor": "white",
             "minorgridcolor": "white",
             "startlinecolor": "rgb(36,36,36)"
            },
            "type": "carpet"
           }
          ],
          "choropleth": [
           {
            "colorbar": {
             "outlinewidth": 1,
             "tickcolor": "rgb(36,36,36)",
             "ticks": "outside"
            },
            "type": "choropleth"
           }
          ],
          "contour": [
           {
            "colorbar": {
             "outlinewidth": 1,
             "tickcolor": "rgb(36,36,36)",
             "ticks": "outside"
            },
            "colorscale": [
             [
              0,
              "#440154"
             ],
             [
              0.1111111111111111,
              "#482878"
             ],
             [
              0.2222222222222222,
              "#3e4989"
             ],
             [
              0.3333333333333333,
              "#31688e"
             ],
             [
              0.4444444444444444,
              "#26828e"
             ],
             [
              0.5555555555555556,
              "#1f9e89"
             ],
             [
              0.6666666666666666,
              "#35b779"
             ],
             [
              0.7777777777777778,
              "#6ece58"
             ],
             [
              0.8888888888888888,
              "#b5de2b"
             ],
             [
              1,
              "#fde725"
             ]
            ],
            "type": "contour"
           }
          ],
          "contourcarpet": [
           {
            "colorbar": {
             "outlinewidth": 1,
             "tickcolor": "rgb(36,36,36)",
             "ticks": "outside"
            },
            "type": "contourcarpet"
           }
          ],
          "heatmap": [
           {
            "colorbar": {
             "outlinewidth": 1,
             "tickcolor": "rgb(36,36,36)",
             "ticks": "outside"
            },
            "colorscale": [
             [
              0,
              "#440154"
             ],
             [
              0.1111111111111111,
              "#482878"
             ],
             [
              0.2222222222222222,
              "#3e4989"
             ],
             [
              0.3333333333333333,
              "#31688e"
             ],
             [
              0.4444444444444444,
              "#26828e"
             ],
             [
              0.5555555555555556,
              "#1f9e89"
             ],
             [
              0.6666666666666666,
              "#35b779"
             ],
             [
              0.7777777777777778,
              "#6ece58"
             ],
             [
              0.8888888888888888,
              "#b5de2b"
             ],
             [
              1,
              "#fde725"
             ]
            ],
            "type": "heatmap"
           }
          ],
          "histogram": [
           {
            "marker": {
             "line": {
              "color": "white",
              "width": 0.6
             }
            },
            "type": "histogram"
           }
          ],
          "histogram2d": [
           {
            "colorbar": {
             "outlinewidth": 1,
             "tickcolor": "rgb(36,36,36)",
             "ticks": "outside"
            },
            "colorscale": [
             [
              0,
              "#440154"
             ],
             [
              0.1111111111111111,
              "#482878"
             ],
             [
              0.2222222222222222,
              "#3e4989"
             ],
             [
              0.3333333333333333,
              "#31688e"
             ],
             [
              0.4444444444444444,
              "#26828e"
             ],
             [
              0.5555555555555556,
              "#1f9e89"
             ],
             [
              0.6666666666666666,
              "#35b779"
             ],
             [
              0.7777777777777778,
              "#6ece58"
             ],
             [
              0.8888888888888888,
              "#b5de2b"
             ],
             [
              1,
              "#fde725"
             ]
            ],
            "type": "histogram2d"
           }
          ],
          "histogram2dcontour": [
           {
            "colorbar": {
             "outlinewidth": 1,
             "tickcolor": "rgb(36,36,36)",
             "ticks": "outside"
            },
            "colorscale": [
             [
              0,
              "#440154"
             ],
             [
              0.1111111111111111,
              "#482878"
             ],
             [
              0.2222222222222222,
              "#3e4989"
             ],
             [
              0.3333333333333333,
              "#31688e"
             ],
             [
              0.4444444444444444,
              "#26828e"
             ],
             [
              0.5555555555555556,
              "#1f9e89"
             ],
             [
              0.6666666666666666,
              "#35b779"
             ],
             [
              0.7777777777777778,
              "#6ece58"
             ],
             [
              0.8888888888888888,
              "#b5de2b"
             ],
             [
              1,
              "#fde725"
             ]
            ],
            "type": "histogram2dcontour"
           }
          ],
          "mesh3d": [
           {
            "colorbar": {
             "outlinewidth": 1,
             "tickcolor": "rgb(36,36,36)",
             "ticks": "outside"
            },
            "type": "mesh3d"
           }
          ],
          "parcoords": [
           {
            "line": {
             "colorbar": {
              "outlinewidth": 1,
              "tickcolor": "rgb(36,36,36)",
              "ticks": "outside"
             }
            },
            "type": "parcoords"
           }
          ],
          "pie": [
           {
            "automargin": true,
            "type": "pie"
           }
          ],
          "scatter": [
           {
            "fillpattern": {
             "fillmode": "overlay",
             "size": 10,
             "solidity": 0.2
            },
            "type": "scatter"
           }
          ],
          "scatter3d": [
           {
            "line": {
             "colorbar": {
              "outlinewidth": 1,
              "tickcolor": "rgb(36,36,36)",
              "ticks": "outside"
             }
            },
            "marker": {
             "colorbar": {
              "outlinewidth": 1,
              "tickcolor": "rgb(36,36,36)",
              "ticks": "outside"
             }
            },
            "type": "scatter3d"
           }
          ],
          "scattercarpet": [
           {
            "marker": {
             "colorbar": {
              "outlinewidth": 1,
              "tickcolor": "rgb(36,36,36)",
              "ticks": "outside"
             }
            },
            "type": "scattercarpet"
           }
          ],
          "scattergeo": [
           {
            "marker": {
             "colorbar": {
              "outlinewidth": 1,
              "tickcolor": "rgb(36,36,36)",
              "ticks": "outside"
             }
            },
            "type": "scattergeo"
           }
          ],
          "scattergl": [
           {
            "marker": {
             "colorbar": {
              "outlinewidth": 1,
              "tickcolor": "rgb(36,36,36)",
              "ticks": "outside"
             }
            },
            "type": "scattergl"
           }
          ],
          "scattermap": [
           {
            "marker": {
             "colorbar": {
              "outlinewidth": 1,
              "tickcolor": "rgb(36,36,36)",
              "ticks": "outside"
             }
            },
            "type": "scattermap"
           }
          ],
          "scattermapbox": [
           {
            "marker": {
             "colorbar": {
              "outlinewidth": 1,
              "tickcolor": "rgb(36,36,36)",
              "ticks": "outside"
             }
            },
            "type": "scattermapbox"
           }
          ],
          "scatterpolar": [
           {
            "marker": {
             "colorbar": {
              "outlinewidth": 1,
              "tickcolor": "rgb(36,36,36)",
              "ticks": "outside"
             }
            },
            "type": "scatterpolar"
           }
          ],
          "scatterpolargl": [
           {
            "marker": {
             "colorbar": {
              "outlinewidth": 1,
              "tickcolor": "rgb(36,36,36)",
              "ticks": "outside"
             }
            },
            "type": "scatterpolargl"
           }
          ],
          "scatterternary": [
           {
            "marker": {
             "colorbar": {
              "outlinewidth": 1,
              "tickcolor": "rgb(36,36,36)",
              "ticks": "outside"
             }
            },
            "type": "scatterternary"
           }
          ],
          "surface": [
           {
            "colorbar": {
             "outlinewidth": 1,
             "tickcolor": "rgb(36,36,36)",
             "ticks": "outside"
            },
            "colorscale": [
             [
              0,
              "#440154"
             ],
             [
              0.1111111111111111,
              "#482878"
             ],
             [
              0.2222222222222222,
              "#3e4989"
             ],
             [
              0.3333333333333333,
              "#31688e"
             ],
             [
              0.4444444444444444,
              "#26828e"
             ],
             [
              0.5555555555555556,
              "#1f9e89"
             ],
             [
              0.6666666666666666,
              "#35b779"
             ],
             [
              0.7777777777777778,
              "#6ece58"
             ],
             [
              0.8888888888888888,
              "#b5de2b"
             ],
             [
              1,
              "#fde725"
             ]
            ],
            "type": "surface"
           }
          ],
          "table": [
           {
            "cells": {
             "fill": {
              "color": "rgb(237,237,237)"
             },
             "line": {
              "color": "white"
             }
            },
            "header": {
             "fill": {
              "color": "rgb(217,217,217)"
             },
             "line": {
              "color": "white"
             }
            },
            "type": "table"
           }
          ]
         },
         "layout": {
          "annotationdefaults": {
           "arrowhead": 0,
           "arrowwidth": 1
          },
          "autotypenumbers": "strict",
          "coloraxis": {
           "colorbar": {
            "outlinewidth": 1,
            "tickcolor": "rgb(36,36,36)",
            "ticks": "outside"
           }
          },
          "colorscale": {
           "diverging": [
            [
             0,
             "rgb(103,0,31)"
            ],
            [
             0.1,
             "rgb(178,24,43)"
            ],
            [
             0.2,
             "rgb(214,96,77)"
            ],
            [
             0.3,
             "rgb(244,165,130)"
            ],
            [
             0.4,
             "rgb(253,219,199)"
            ],
            [
             0.5,
             "rgb(247,247,247)"
            ],
            [
             0.6,
             "rgb(209,229,240)"
            ],
            [
             0.7,
             "rgb(146,197,222)"
            ],
            [
             0.8,
             "rgb(67,147,195)"
            ],
            [
             0.9,
             "rgb(33,102,172)"
            ],
            [
             1,
             "rgb(5,48,97)"
            ]
           ],
           "sequential": [
            [
             0,
             "#440154"
            ],
            [
             0.1111111111111111,
             "#482878"
            ],
            [
             0.2222222222222222,
             "#3e4989"
            ],
            [
             0.3333333333333333,
             "#31688e"
            ],
            [
             0.4444444444444444,
             "#26828e"
            ],
            [
             0.5555555555555556,
             "#1f9e89"
            ],
            [
             0.6666666666666666,
             "#35b779"
            ],
            [
             0.7777777777777778,
             "#6ece58"
            ],
            [
             0.8888888888888888,
             "#b5de2b"
            ],
            [
             1,
             "#fde725"
            ]
           ],
           "sequentialminus": [
            [
             0,
             "#440154"
            ],
            [
             0.1111111111111111,
             "#482878"
            ],
            [
             0.2222222222222222,
             "#3e4989"
            ],
            [
             0.3333333333333333,
             "#31688e"
            ],
            [
             0.4444444444444444,
             "#26828e"
            ],
            [
             0.5555555555555556,
             "#1f9e89"
            ],
            [
             0.6666666666666666,
             "#35b779"
            ],
            [
             0.7777777777777778,
             "#6ece58"
            ],
            [
             0.8888888888888888,
             "#b5de2b"
            ],
            [
             1,
             "#fde725"
            ]
           ]
          },
          "colorway": [
           "#1F77B4",
           "#FF7F0E",
           "#2CA02C",
           "#D62728",
           "#9467BD",
           "#8C564B",
           "#E377C2",
           "#7F7F7F",
           "#BCBD22",
           "#17BECF"
          ],
          "font": {
           "color": "rgb(36,36,36)"
          },
          "geo": {
           "bgcolor": "white",
           "lakecolor": "white",
           "landcolor": "white",
           "showlakes": true,
           "showland": true,
           "subunitcolor": "white"
          },
          "hoverlabel": {
           "align": "left"
          },
          "hovermode": "closest",
          "mapbox": {
           "style": "light"
          },
          "paper_bgcolor": "white",
          "plot_bgcolor": "white",
          "polar": {
           "angularaxis": {
            "gridcolor": "rgb(232,232,232)",
            "linecolor": "rgb(36,36,36)",
            "showgrid": false,
            "showline": true,
            "ticks": "outside"
           },
           "bgcolor": "white",
           "radialaxis": {
            "gridcolor": "rgb(232,232,232)",
            "linecolor": "rgb(36,36,36)",
            "showgrid": false,
            "showline": true,
            "ticks": "outside"
           }
          },
          "scene": {
           "xaxis": {
            "backgroundcolor": "white",
            "gridcolor": "rgb(232,232,232)",
            "gridwidth": 2,
            "linecolor": "rgb(36,36,36)",
            "showbackground": true,
            "showgrid": false,
            "showline": true,
            "ticks": "outside",
            "zeroline": false,
            "zerolinecolor": "rgb(36,36,36)"
           },
           "yaxis": {
            "backgroundcolor": "white",
            "gridcolor": "rgb(232,232,232)",
            "gridwidth": 2,
            "linecolor": "rgb(36,36,36)",
            "showbackground": true,
            "showgrid": false,
            "showline": true,
            "ticks": "outside",
            "zeroline": false,
            "zerolinecolor": "rgb(36,36,36)"
           },
           "zaxis": {
            "backgroundcolor": "white",
            "gridcolor": "rgb(232,232,232)",
            "gridwidth": 2,
            "linecolor": "rgb(36,36,36)",
            "showbackground": true,
            "showgrid": false,
            "showline": true,
            "ticks": "outside",
            "zeroline": false,
            "zerolinecolor": "rgb(36,36,36)"
           }
          },
          "shapedefaults": {
           "fillcolor": "black",
           "line": {
            "width": 0
           },
           "opacity": 0.3
          },
          "ternary": {
           "aaxis": {
            "gridcolor": "rgb(232,232,232)",
            "linecolor": "rgb(36,36,36)",
            "showgrid": false,
            "showline": true,
            "ticks": "outside"
           },
           "baxis": {
            "gridcolor": "rgb(232,232,232)",
            "linecolor": "rgb(36,36,36)",
            "showgrid": false,
            "showline": true,
            "ticks": "outside"
           },
           "bgcolor": "white",
           "caxis": {
            "gridcolor": "rgb(232,232,232)",
            "linecolor": "rgb(36,36,36)",
            "showgrid": false,
            "showline": true,
            "ticks": "outside"
           }
          },
          "title": {
           "x": 0.05
          },
          "xaxis": {
           "automargin": true,
           "gridcolor": "rgb(232,232,232)",
           "linecolor": "rgb(36,36,36)",
           "showgrid": false,
           "showline": true,
           "ticks": "outside",
           "title": {
            "standoff": 15
           },
           "zeroline": false,
           "zerolinecolor": "rgb(36,36,36)"
          },
          "yaxis": {
           "automargin": true,
           "gridcolor": "rgb(232,232,232)",
           "linecolor": "rgb(36,36,36)",
           "showgrid": false,
           "showline": true,
           "ticks": "outside",
           "title": {
            "standoff": 15
           },
           "zeroline": false,
           "zerolinecolor": "rgb(36,36,36)"
          }
         }
        },
        "title": {
         "font": {
          "color": "Black",
          "size": 22
         },
         "text": "<b>Intertopic Distance Map</b>",
         "x": 0.5,
         "xanchor": "center",
         "y": 0.95,
         "yanchor": "top"
        },
        "width": 650,
        "xaxis": {
         "anchor": "y",
         "domain": [
          0,
          1
         ],
         "range": [
          -15.651690435409545,
          20.52716703414917
         ],
         "title": {
          "text": ""
         },
         "visible": false
        },
        "yaxis": {
         "anchor": "x",
         "domain": [
          0,
          1
         ],
         "range": [
          -15.992207241058349,
          19.49548397064209
         ],
         "title": {
          "text": ""
         },
         "visible": false
        }
       }
      },
      "image/png": "[encoded data removed]"
     },
     "metadata": {},
     "output_type": "display_data"
    }
   ],
   "source": [
    "topic_model.visualize_topics()"
   ]
  },
  {
   "cell_type": "code",
   "execution_count": 11,
   "id": "f70e637a",
   "metadata": {},
   "outputs": [
    {
     "data": {
      "application/vnd.plotly.v1+json": {
       "config": {
        "plotlyServerURL": "https://plot.ly"
       },
       "data": [
        {
         "marker": {
          "color": "#C8D2D7",
          "line": {
           "color": "#6E8484",
           "width": 1
          }
         },
         "orientation": "h",
         "type": "bar",
         "x": [
          0.8962127772531114,
          0.842013964107671,
          0.7357446130231184,
          0.7456886119786283,
          0.8270628999274414,
          0.9049644414419551,
          0.6366577517683961,
          0.853356303012909,
          0.9292080983181887,
          0.4753724588666085,
          0.9864269713405229,
          0.7648732600310656,
          0.6903215640773368,
          0.7103502385483442,
          0.8728925871795361,
          0.9356347673393499,
          0.6801239065515935,
          0.7967892156926231,
          0.920903200059808,
          0.9692205688187432,
          0.8859487330412045,
          0.7222568672933687,
          0.8225242901260729,
          0.9667592202982237,
          0.9606142650725811,
          0.9397084345576847,
          0.9602909771632827,
          0.6539221538031119,
          0.9214732400244512,
          0.663484055950181,
          0.8940720061312718,
          0.7804389142643856,
          1,
          1,
          1,
          1,
          1,
          1,
          1,
          1,
          1,
          1,
          1,
          1,
          1,
          1,
          1,
          1,
          1,
          1,
          1,
          1,
          1,
          1,
          1,
          1,
          1,
          1
         ],
         "y": [
          "<b>Topic 0</b>: trabalhador_vínculo_verb...",
          "<b>Topic 1</b>: justiça_gratuita_hipossu...",
          "<b>Topic 2</b>: taxas_complementar_taxa_...",
          "<b>Topic 3</b>: jucesp_registro_junta_co...",
          "<b>Topic 4</b>: nacional_simples_regime_...",
          "<b>Topic 5</b>: desemprego_seguro_renda_...",
          "<b>Topic 6</b>: conta_danos_morais_valor...",
          "<b>Topic 7</b>: nome_danos_morais_seu_in...",
          "<b>Topic 8</b>: personalidade_jurídica_d...",
          "<b>Topic 9</b>: tempo_aposentadoria_cont...",
          "<b>Topic 10</b>: incapacidade_doença_aux...",
          "<b>Topic 11</b>: licitação_edital_licita...",
          "<b>Topic 12</b>: recurso_interposto_ordi...",
          "<b>Topic 13</b>: depósito_recursal_metad...",
          "<b>Topic 14</b>: maternidade_salário_ins...",
          "<b>Topic 15</b>: juros_capitalização_ban...",
          "<b>Topic 16</b>: emergencial_auxílio_fam...",
          "<b>Topic 17</b>: plano_saúde_operadora_c...",
          "<b>Topic 18</b>: deficiência_assistencia...",
          "<b>Topic 19</b>: prisão_preventiva_pacie...",
          "<b>Topic 20</b>: falecido_morte_pensão_ó...",
          "<b>Topic 21</b>: crédito_cessão_valor_in...",
          "<b>Topic 22</b>: alvará_funcionamento_mu...",
          "<b>Topic 23</b>: fiscal_nota_documento_n...",
          "<b>Topic 24</b>: conselho_crmv_animais_m...",
          "<b>Topic 25</b>: icms_cobrança_difal_est...",
          "<b>Topic 26</b>: diligências_débito_exec...",
          "<b>Topic 27</b>: porte_juizado_pequeno_e...",
          "<b>Topic 28</b>: acidente_danos_cessante...",
          "<b>Topic 29</b>: qualificação_juizado_es...",
          "<b>Topic 30</b>: diligências_executórias...",
          "<b>Topic 31</b>: segurada_facultativa_ba...",
          "<b>Topic 32</b>: contador_propor_documen...",
          "<b>Topic 33</b>: linha_telefonia_operado...",
          "<b>Topic 34</b>: credor_microempresa_ext...",
          "<b>Topic 35</b>: 833_bens_exercício_impe...",
          "<b>Topic 36</b>: pena_semiaberto_regime_...",
          "<b>Topic 37</b>: epp_critérios_enquadrav...",
          "<b>Topic 38</b>: alimentos_provisórios_m...",
          "<b>Topic 39</b>: juizado_especial_porte_...",
          "<b>Topic 40</b>: extrajudicial_título_pr...",
          "<b>Topic 41</b>: prisão_liberais_ceplemg...",
          "<b>Topic 42</b>: valores_impenhoráveis_p...",
          "<b>Topic 43</b>: juizado_099_95_especial...",
          "<b>Topic 44</b>: 00_000_autor_serviço_pa...",
          "<b>Topic 45</b>: ciacaps_atualizacao_cap...",
          "<b>Topic 46</b>: propor_juizado_nesse_aç...",
          "<b>Topic 47</b>: me_jurídico_negócio_ins...",
          "<b>Topic 48</b>: benefício_inss_deficiên...",
          "<b>Topic 49</b>: rural_idade_aposentador...",
          "<b>Topic 50</b>: inviabilidade_gratuidad...",
          "<b>Topic 51</b>: proporcional_cobrança_t...",
          "<b>Topic 52</b>: crime_ministério_autori...",
          "<b>Topic 53</b>: embargos_omissão_declar...",
          "<b>Topic 54</b>: citado_réu_intimado_com...",
          "<b>Topic 55</b>: citação_endereço_entreg...",
          "<b>Topic 56</b>: depósito_recursal_custa...",
          "<b>Topic 57</b>: doação_eleitoral_doaçõe..."
         ]
        }
       ],
       "layout": {
        "height": 600,
        "hoverlabel": {
         "bgcolor": "white",
         "font": {
          "family": "Rockwell",
          "size": 16
         }
        },
        "template": {
         "data": {
          "bar": [
           {
            "error_x": {
             "color": "rgb(36,36,36)"
            },
            "error_y": {
             "color": "rgb(36,36,36)"
            },
            "marker": {
             "line": {
              "color": "white",
              "width": 0.5
             },
             "pattern": {
              "fillmode": "overlay",
              "size": 10,
              "solidity": 0.2
             }
            },
            "type": "bar"
           }
          ],
          "barpolar": [
           {
            "marker": {
             "line": {
              "color": "white",
              "width": 0.5
             },
             "pattern": {
              "fillmode": "overlay",
              "size": 10,
              "solidity": 0.2
             }
            },
            "type": "barpolar"
           }
          ],
          "carpet": [
           {
            "aaxis": {
             "endlinecolor": "rgb(36,36,36)",
             "gridcolor": "white",
             "linecolor": "white",
             "minorgridcolor": "white",
             "startlinecolor": "rgb(36,36,36)"
            },
            "baxis": {
             "endlinecolor": "rgb(36,36,36)",
             "gridcolor": "white",
             "linecolor": "white",
             "minorgridcolor": "white",
             "startlinecolor": "rgb(36,36,36)"
            },
            "type": "carpet"
           }
          ],
          "choropleth": [
           {
            "colorbar": {
             "outlinewidth": 1,
             "tickcolor": "rgb(36,36,36)",
             "ticks": "outside"
            },
            "type": "choropleth"
           }
          ],
          "contour": [
           {
            "colorbar": {
             "outlinewidth": 1,
             "tickcolor": "rgb(36,36,36)",
             "ticks": "outside"
            },
            "colorscale": [
             [
              0,
              "#440154"
             ],
             [
              0.1111111111111111,
              "#482878"
             ],
             [
              0.2222222222222222,
              "#3e4989"
             ],
             [
              0.3333333333333333,
              "#31688e"
             ],
             [
              0.4444444444444444,
              "#26828e"
             ],
             [
              0.5555555555555556,
              "#1f9e89"
             ],
             [
              0.6666666666666666,
              "#35b779"
             ],
             [
              0.7777777777777778,
              "#6ece58"
             ],
             [
              0.8888888888888888,
              "#b5de2b"
             ],
             [
              1,
              "#fde725"
             ]
            ],
            "type": "contour"
           }
          ],
          "contourcarpet": [
           {
            "colorbar": {
             "outlinewidth": 1,
             "tickcolor": "rgb(36,36,36)",
             "ticks": "outside"
            },
            "type": "contourcarpet"
           }
          ],
          "heatmap": [
           {
            "colorbar": {
             "outlinewidth": 1,
             "tickcolor": "rgb(36,36,36)",
             "ticks": "outside"
            },
            "colorscale": [
             [
              0,
              "#440154"
             ],
             [
              0.1111111111111111,
              "#482878"
             ],
             [
              0.2222222222222222,
              "#3e4989"
             ],
             [
              0.3333333333333333,
              "#31688e"
             ],
             [
              0.4444444444444444,
              "#26828e"
             ],
             [
              0.5555555555555556,
              "#1f9e89"
             ],
             [
              0.6666666666666666,
              "#35b779"
             ],
             [
              0.7777777777777778,
              "#6ece58"
             ],
             [
              0.8888888888888888,
              "#b5de2b"
             ],
             [
              1,
              "#fde725"
             ]
            ],
            "type": "heatmap"
           }
          ],
          "histogram": [
           {
            "marker": {
             "line": {
              "color": "white",
              "width": 0.6
             }
            },
            "type": "histogram"
           }
          ],
          "histogram2d": [
           {
            "colorbar": {
             "outlinewidth": 1,
             "tickcolor": "rgb(36,36,36)",
             "ticks": "outside"
            },
            "colorscale": [
             [
              0,
              "#440154"
             ],
             [
              0.1111111111111111,
              "#482878"
             ],
             [
              0.2222222222222222,
              "#3e4989"
             ],
             [
              0.3333333333333333,
              "#31688e"
             ],
             [
              0.4444444444444444,
              "#26828e"
             ],
             [
              0.5555555555555556,
              "#1f9e89"
             ],
             [
              0.6666666666666666,
              "#35b779"
             ],
             [
              0.7777777777777778,
              "#6ece58"
             ],
             [
              0.8888888888888888,
              "#b5de2b"
             ],
             [
              1,
              "#fde725"
             ]
            ],
            "type": "histogram2d"
           }
          ],
          "histogram2dcontour": [
           {
            "colorbar": {
             "outlinewidth": 1,
             "tickcolor": "rgb(36,36,36)",
             "ticks": "outside"
            },
            "colorscale": [
             [
              0,
              "#440154"
             ],
             [
              0.1111111111111111,
              "#482878"
             ],
             [
              0.2222222222222222,
              "#3e4989"
             ],
             [
              0.3333333333333333,
              "#31688e"
             ],
             [
              0.4444444444444444,
              "#26828e"
             ],
             [
              0.5555555555555556,
              "#1f9e89"
             ],
             [
              0.6666666666666666,
              "#35b779"
             ],
             [
              0.7777777777777778,
              "#6ece58"
             ],
             [
              0.8888888888888888,
              "#b5de2b"
             ],
             [
              1,
              "#fde725"
             ]
            ],
            "type": "histogram2dcontour"
           }
          ],
          "mesh3d": [
           {
            "colorbar": {
             "outlinewidth": 1,
             "tickcolor": "rgb(36,36,36)",
             "ticks": "outside"
            },
            "type": "mesh3d"
           }
          ],
          "parcoords": [
           {
            "line": {
             "colorbar": {
              "outlinewidth": 1,
              "tickcolor": "rgb(36,36,36)",
              "ticks": "outside"
             }
            },
            "type": "parcoords"
           }
          ],
          "pie": [
           {
            "automargin": true,
            "type": "pie"
           }
          ],
          "scatter": [
           {
            "fillpattern": {
             "fillmode": "overlay",
             "size": 10,
             "solidity": 0.2
            },
            "type": "scatter"
           }
          ],
          "scatter3d": [
           {
            "line": {
             "colorbar": {
              "outlinewidth": 1,
              "tickcolor": "rgb(36,36,36)",
              "ticks": "outside"
             }
            },
            "marker": {
             "colorbar": {
              "outlinewidth": 1,
              "tickcolor": "rgb(36,36,36)",
              "ticks": "outside"
             }
            },
            "type": "scatter3d"
           }
          ],
          "scattercarpet": [
           {
            "marker": {
             "colorbar": {
              "outlinewidth": 1,
              "tickcolor": "rgb(36,36,36)",
              "ticks": "outside"
             }
            },
            "type": "scattercarpet"
           }
          ],
          "scattergeo": [
           {
            "marker": {
             "colorbar": {
              "outlinewidth": 1,
              "tickcolor": "rgb(36,36,36)",
              "ticks": "outside"
             }
            },
            "type": "scattergeo"
           }
          ],
          "scattergl": [
           {
            "marker": {
             "colorbar": {
              "outlinewidth": 1,
              "tickcolor": "rgb(36,36,36)",
              "ticks": "outside"
             }
            },
            "type": "scattergl"
           }
          ],
          "scattermap": [
           {
            "marker": {
             "colorbar": {
              "outlinewidth": 1,
              "tickcolor": "rgb(36,36,36)",
              "ticks": "outside"
             }
            },
            "type": "scattermap"
           }
          ],
          "scattermapbox": [
           {
            "marker": {
             "colorbar": {
              "outlinewidth": 1,
              "tickcolor": "rgb(36,36,36)",
              "ticks": "outside"
             }
            },
            "type": "scattermapbox"
           }
          ],
          "scatterpolar": [
           {
            "marker": {
             "colorbar": {
              "outlinewidth": 1,
              "tickcolor": "rgb(36,36,36)",
              "ticks": "outside"
             }
            },
            "type": "scatterpolar"
           }
          ],
          "scatterpolargl": [
           {
            "marker": {
             "colorbar": {
              "outlinewidth": 1,
              "tickcolor": "rgb(36,36,36)",
              "ticks": "outside"
             }
            },
            "type": "scatterpolargl"
           }
          ],
          "scatterternary": [
           {
            "marker": {
             "colorbar": {
              "outlinewidth": 1,
              "tickcolor": "rgb(36,36,36)",
              "ticks": "outside"
             }
            },
            "type": "scatterternary"
           }
          ],
          "surface": [
           {
            "colorbar": {
             "outlinewidth": 1,
             "tickcolor": "rgb(36,36,36)",
             "ticks": "outside"
            },
            "colorscale": [
             [
              0,
              "#440154"
             ],
             [
              0.1111111111111111,
              "#482878"
             ],
             [
              0.2222222222222222,
              "#3e4989"
             ],
             [
              0.3333333333333333,
              "#31688e"
             ],
             [
              0.4444444444444444,
              "#26828e"
             ],
             [
              0.5555555555555556,
              "#1f9e89"
             ],
             [
              0.6666666666666666,
              "#35b779"
             ],
             [
              0.7777777777777778,
              "#6ece58"
             ],
             [
              0.8888888888888888,
              "#b5de2b"
             ],
             [
              1,
              "#fde725"
             ]
            ],
            "type": "surface"
           }
          ],
          "table": [
           {
            "cells": {
             "fill": {
              "color": "rgb(237,237,237)"
             },
             "line": {
              "color": "white"
             }
            },
            "header": {
             "fill": {
              "color": "rgb(217,217,217)"
             },
             "line": {
              "color": "white"
             }
            },
            "type": "table"
           }
          ]
         },
         "layout": {
          "annotationdefaults": {
           "arrowhead": 0,
           "arrowwidth": 1
          },
          "autotypenumbers": "strict",
          "coloraxis": {
           "colorbar": {
            "outlinewidth": 1,
            "tickcolor": "rgb(36,36,36)",
            "ticks": "outside"
           }
          },
          "colorscale": {
           "diverging": [
            [
             0,
             "rgb(103,0,31)"
            ],
            [
             0.1,
             "rgb(178,24,43)"
            ],
            [
             0.2,
             "rgb(214,96,77)"
            ],
            [
             0.3,
             "rgb(244,165,130)"
            ],
            [
             0.4,
             "rgb(253,219,199)"
            ],
            [
             0.5,
             "rgb(247,247,247)"
            ],
            [
             0.6,
             "rgb(209,229,240)"
            ],
            [
             0.7,
             "rgb(146,197,222)"
            ],
            [
             0.8,
             "rgb(67,147,195)"
            ],
            [
             0.9,
             "rgb(33,102,172)"
            ],
            [
             1,
             "rgb(5,48,97)"
            ]
           ],
           "sequential": [
            [
             0,
             "#440154"
            ],
            [
             0.1111111111111111,
             "#482878"
            ],
            [
             0.2222222222222222,
             "#3e4989"
            ],
            [
             0.3333333333333333,
             "#31688e"
            ],
            [
             0.4444444444444444,
             "#26828e"
            ],
            [
             0.5555555555555556,
             "#1f9e89"
            ],
            [
             0.6666666666666666,
             "#35b779"
            ],
            [
             0.7777777777777778,
             "#6ece58"
            ],
            [
             0.8888888888888888,
             "#b5de2b"
            ],
            [
             1,
             "#fde725"
            ]
           ],
           "sequentialminus": [
            [
             0,
             "#440154"
            ],
            [
             0.1111111111111111,
             "#482878"
            ],
            [
             0.2222222222222222,
             "#3e4989"
            ],
            [
             0.3333333333333333,
             "#31688e"
            ],
            [
             0.4444444444444444,
             "#26828e"
            ],
            [
             0.5555555555555556,
             "#1f9e89"
            ],
            [
             0.6666666666666666,
             "#35b779"
            ],
            [
             0.7777777777777778,
             "#6ece58"
            ],
            [
             0.8888888888888888,
             "#b5de2b"
            ],
            [
             1,
             "#fde725"
            ]
           ]
          },
          "colorway": [
           "#1F77B4",
           "#FF7F0E",
           "#2CA02C",
           "#D62728",
           "#9467BD",
           "#8C564B",
           "#E377C2",
           "#7F7F7F",
           "#BCBD22",
           "#17BECF"
          ],
          "font": {
           "color": "rgb(36,36,36)"
          },
          "geo": {
           "bgcolor": "white",
           "lakecolor": "white",
           "landcolor": "white",
           "showlakes": true,
           "showland": true,
           "subunitcolor": "white"
          },
          "hoverlabel": {
           "align": "left"
          },
          "hovermode": "closest",
          "mapbox": {
           "style": "light"
          },
          "paper_bgcolor": "white",
          "plot_bgcolor": "white",
          "polar": {
           "angularaxis": {
            "gridcolor": "rgb(232,232,232)",
            "linecolor": "rgb(36,36,36)",
            "showgrid": false,
            "showline": true,
            "ticks": "outside"
           },
           "bgcolor": "white",
           "radialaxis": {
            "gridcolor": "rgb(232,232,232)",
            "linecolor": "rgb(36,36,36)",
            "showgrid": false,
            "showline": true,
            "ticks": "outside"
           }
          },
          "scene": {
           "xaxis": {
            "backgroundcolor": "white",
            "gridcolor": "rgb(232,232,232)",
            "gridwidth": 2,
            "linecolor": "rgb(36,36,36)",
            "showbackground": true,
            "showgrid": false,
            "showline": true,
            "ticks": "outside",
            "zeroline": false,
            "zerolinecolor": "rgb(36,36,36)"
           },
           "yaxis": {
            "backgroundcolor": "white",
            "gridcolor": "rgb(232,232,232)",
            "gridwidth": 2,
            "linecolor": "rgb(36,36,36)",
            "showbackground": true,
            "showgrid": false,
            "showline": true,
            "ticks": "outside",
            "zeroline": false,
            "zerolinecolor": "rgb(36,36,36)"
           },
           "zaxis": {
            "backgroundcolor": "white",
            "gridcolor": "rgb(232,232,232)",
            "gridwidth": 2,
            "linecolor": "rgb(36,36,36)",
            "showbackground": true,
            "showgrid": false,
            "showline": true,
            "ticks": "outside",
            "zeroline": false,
            "zerolinecolor": "rgb(36,36,36)"
           }
          },
          "shapedefaults": {
           "fillcolor": "black",
           "line": {
            "width": 0
           },
           "opacity": 0.3
          },
          "ternary": {
           "aaxis": {
            "gridcolor": "rgb(232,232,232)",
            "linecolor": "rgb(36,36,36)",
            "showgrid": false,
            "showline": true,
            "ticks": "outside"
           },
           "baxis": {
            "gridcolor": "rgb(232,232,232)",
            "linecolor": "rgb(36,36,36)",
            "showgrid": false,
            "showline": true,
            "ticks": "outside"
           },
           "bgcolor": "white",
           "caxis": {
            "gridcolor": "rgb(232,232,232)",
            "linecolor": "rgb(36,36,36)",
            "showgrid": false,
            "showline": true,
            "ticks": "outside"
           }
          },
          "title": {
           "x": 0.05
          },
          "xaxis": {
           "automargin": true,
           "gridcolor": "rgb(232,232,232)",
           "linecolor": "rgb(36,36,36)",
           "showgrid": false,
           "showline": true,
           "ticks": "outside",
           "title": {
            "standoff": 15
           },
           "zeroline": false,
           "zerolinecolor": "rgb(36,36,36)"
          },
          "yaxis": {
           "automargin": true,
           "gridcolor": "rgb(232,232,232)",
           "linecolor": "rgb(36,36,36)",
           "showgrid": false,
           "showline": true,
           "ticks": "outside",
           "title": {
            "standoff": 15
           },
           "zeroline": false,
           "zerolinecolor": "rgb(36,36,36)"
          }
         }
        },
        "title": {
         "font": {
          "color": "Black",
          "size": 22
         },
         "text": "<b>Topic Probability Distribution</b>",
         "x": 0.5,
         "xanchor": "center",
         "y": 0.95,
         "yanchor": "top"
        },
        "width": 800,
        "xaxis": {
         "title": {
          "text": "Probability"
         }
        }
       }
      },
      "image/png": "[encoded data removed]"
     },
     "metadata": {},
     "output_type": "display_data"
    }
   ],
   "source": [
    "topic_model.visualize_distribution(probabilities)"
   ]
  },
  {
   "cell_type": "code",
   "execution_count": 12,
   "id": "dd29f934",
   "metadata": {},
   "outputs": [
    {
     "data": {
      "application/vnd.plotly.v1+json": {
       "config": {
        "plotlyServerURL": "https://plot.ly"
       },
       "data": [
        {
         "marker": {
          "color": "#D55E00"
         },
         "orientation": "h",
         "type": "bar",
         "x": [
          0.014659141211816119,
          0.015126770358833721,
          0.015136349291110173,
          0.01584604177997225,
          0.01666754826682357,
          0.016703885458171423,
          0.016906096718884787,
          0.01797654244413242,
          0.021752388281839185,
          0.023269447254920313
         ],
         "xaxis": "x",
         "y": [
          "como  ",
          "que  ",
          "rescisórias  ",
          "de  ",
          "emprego  ",
          "trabalho  ",
          "empregatício  ",
          "verbas  ",
          "vínculo  ",
          "trabalhador  "
         ],
         "yaxis": "y"
        },
        {
         "marker": {
          "color": "#0072B2"
         },
         "orientation": "h",
         "type": "bar",
         "x": [
          0.017846078379440963,
          0.01841894286659493,
          0.0192330023065741,
          0.019348371195650232,
          0.02071599597386917,
          0.022682619434875494,
          0.022930976344379923,
          0.02453665563524932,
          0.0311347809370673,
          0.03305306006187605
         ],
         "xaxis": "x2",
         "y": [
          "concessão  ",
          "arcar  ",
          "processuais  ",
          "custas  ",
          "mei  ",
          "gratuidade  ",
          "financeira  ",
          "hipossuficiência  ",
          "gratuita  ",
          "justiça  "
         ],
         "yaxis": "y2"
        },
        {
         "marker": {
          "color": "#CC79A7"
         },
         "orientation": "h",
         "type": "bar",
         "x": [
          0.0335441610969041,
          0.034374888778089106,
          0.03517994043226572,
          0.03692133946212272,
          0.03742570623088919,
          0.038326068961254796,
          0.039444694234859905,
          0.04129148388322317,
          0.043215780029458334,
          0.05508198772281922
         ],
         "xaxis": "x3",
         "y": [
          "cobrança  ",
          "2006  ",
          "123  ",
          "funcionamento  ",
          "município  ",
          "isenção  ",
          "lei  ",
          "taxa  ",
          "complementar  ",
          "taxas  "
         ],
         "yaxis": "y3"
        },
        {
         "marker": {
          "color": "#E69F00"
         },
         "orientation": "h",
         "type": "bar",
         "x": [
          0.023335502180310917,
          0.023611903781847937,
          0.026153456485211724,
          0.026898645252892338,
          0.029150981790751748,
          0.029258982724399436,
          0.03264366580769205,
          0.03860468743569867,
          0.03964913408977679,
          0.04152437495814499
         ],
         "xaxis": "x4",
         "y": [
          "morais  ",
          "danos  ",
          "paulo  ",
          "união  ",
          "fraude  ",
          "estado  ",
          "comercial  ",
          "junta  ",
          "registro  ",
          "jucesp  "
         ],
         "yaxis": "y4"
        },
        {
         "marker": {
          "color": "#56B4E9"
         },
         "orientation": "h",
         "type": "bar",
         "x": [
          0.03472275084359217,
          0.035011869913638874,
          0.03502150553547217,
          0.03845259014572964,
          0.04247550355136766,
          0.04518907390748457,
          0.04780929948873554,
          0.049875467549855695,
          0.07639083424102466,
          0.08198261507432157
         ],
         "xaxis": "x5",
         "y": [
          "fiscais  ",
          "porte  ",
          "pequeno  ",
          "microempresas  ",
          "débitos  ",
          "tributário  ",
          "adesão  ",
          "regime  ",
          "simples  ",
          "nacional  "
         ],
         "yaxis": "y5"
        },
        {
         "marker": {
          "color": "#009E73"
         },
         "orientation": "h",
         "type": "bar",
         "x": [
          0.019432376787630008,
          0.02000940999791392,
          0.022235460498183975,
          0.025586084420611877,
          0.026233820607308316,
          0.02774416732658733,
          0.030269674091714143,
          0.04360656904224267,
          0.07246551474347207,
          0.08339005490431453
         ],
         "xaxis": "x6",
         "y": [
          "como  ",
          "sócio  ",
          "contribuinte  ",
          "suficiente  ",
          "benefício  ",
          "própria  ",
          "união  ",
          "renda  ",
          "seguro  ",
          "desemprego  "
         ],
         "yaxis": "y6"
        },
        {
         "marker": {
          "color": "#F0E442"
         },
         "orientation": "h",
         "type": "bar",
         "x": [
          0.01481189673979629,
          0.01720769219882633,
          0.01727650081304399,
          0.018202749398548844,
          0.02015734684538501,
          0.020238472883777833,
          0.021324959040392714,
          0.023019371310521026,
          0.02532832154944146,
          0.02663795574491233
         ],
         "xaxis": "x7",
         "y": [
          "uma  ",
          "mei  ",
          "consumidor  ",
          "por  ",
          "indenização  ",
          "banco  ",
          "valores  ",
          "morais  ",
          "danos  ",
          "conta  "
         ],
         "yaxis": "y7"
        },
        {
         "marker": {
          "color": "#D55E00"
         },
         "orientation": "h",
         "type": "bar",
         "x": [
          0.02180586538917644,
          0.022693391866577522,
          0.02380095978204757,
          0.025173559610182687,
          0.02791671476333711,
          0.02798604775173965,
          0.028930935124863028,
          0.03344175065084571,
          0.033745731129479595,
          0.038487194447990807
         ],
         "xaxis": "x8",
         "y": [
          "autor  ",
          "protestos  ",
          "por  ",
          "cadastros  ",
          "inadimplentes  ",
          "indenização  ",
          "seu  ",
          "morais  ",
          "danos  ",
          "nome  "
         ],
         "yaxis": "y8"
        },
        {
         "marker": {
          "color": "#0072B2"
         },
         "orientation": "h",
         "type": "bar",
         "x": [
          0.025988416575947932,
          0.026366369698105355,
          0.02992981275034629,
          0.0313525226030026,
          0.033421176268802325,
          0.042863653808690116,
          0.04347409875175265,
          0.05088586297001393,
          0.0516177942300452,
          0.05912550478636795
         ],
         "xaxis": "x9",
         "y": [
          "individual  ",
          "empresa  ",
          "empresário  ",
          "da  ",
          "execução  ",
          "patrimônio  ",
          "bens  ",
          "desconsideração  ",
          "jurídica  ",
          "personalidade  "
         ],
         "yaxis": "y9"
        },
        {
         "marker": {
          "color": "#CC79A7"
         },
         "orientation": "h",
         "type": "bar",
         "x": [
          0.02197371582346607,
          0.024888774247395468,
          0.025094953852372537,
          0.025384083226884565,
          0.03944265386608772,
          0.047274591363859066,
          0.047612414672718116,
          0.06077784427723405,
          0.06391583080241732,
          0.06962590949312183
         ],
         "xaxis": "x10",
         "y": [
          "rural  ",
          "período  ",
          "idade  ",
          "ser  ",
          "inss  ",
          "contribuições  ",
          "períodos  ",
          "contribuição  ",
          "aposentadoria  ",
          "tempo  "
         ],
         "yaxis": "y10"
        },
        {
         "marker": {
          "color": "#E69F00"
         },
         "orientation": "h",
         "type": "bar",
         "x": [
          0.025394999520458914,
          0.029224024267137827,
          0.02957480551850635,
          0.03159422017812914,
          0.035084803350458056,
          0.03537062703746187,
          0.03566568216579769,
          0.043407325382841415,
          0.05191843868853802,
          0.07324193536017695
         ],
         "xaxis": "x11",
         "y": [
          "autor  ",
          "invalidez  ",
          "carência  ",
          "qualidade  ",
          "inss  ",
          "benefício  ",
          "segurado  ",
          "auxílio  ",
          "doença  ",
          "incapacidade  "
         ],
         "yaxis": "y11"
        },
        {
         "marker": {
          "color": "#56B4E9"
         },
         "orientation": "h",
         "type": "bar",
         "x": [
          0.015849851909615496,
          0.016052725766102355,
          0.018143115381058596,
          0.019091724389012903,
          0.021329791871257543,
          0.022291726694039903,
          0.028812489660504433,
          0.029310030711269818,
          0.03790511961634531,
          0.04098260201235806
         ],
         "xaxis": "x12",
         "y": [
          "participação  ",
          "para  ",
          "presencial  ",
          "contratação  ",
          "de  ",
          "certame  ",
          "pregão  ",
          "licitatório  ",
          "edital  ",
          "licitação  "
         ],
         "yaxis": "y12"
        },
        {
         "marker": {
          "color": "#009E73"
         },
         "orientation": "h",
         "type": "bar",
         "x": [
          0.03514636159031181,
          0.03618049602795133,
          0.03665758036257195,
          0.03773352084134094,
          0.039075000291374985,
          0.04162734680835269,
          0.0433572816092635,
          0.043932112350303094,
          0.048553987234078944,
          0.05571199043274963
         ],
         "xaxis": "x13",
         "y": [
          "consolidação  ",
          "prolatada  ",
          "reclamante  ",
          "clt  ",
          "recursal  ",
          "depósito  ",
          "parte  ",
          "ordinário  ",
          "interposto  ",
          "recurso  "
         ],
         "yaxis": "y13"
        },
        {
         "marker": {
          "color": "#F0E442"
         },
         "orientation": "h",
         "type": "bar",
         "x": [
          0.02785354790750329,
          0.031021126529046,
          0.03781750783699197,
          0.03946726322523047,
          0.0395405110459072,
          0.048980621652821084,
          0.049122058327511625,
          0.05414827202953488,
          0.07112916927769951,
          0.07457588974594584
         ],
         "xaxis": "x14",
         "y": [
          "porte  ",
          "conforme  ",
          "clt  ",
          "9º  ",
          "899  ",
          "valor  ",
          "redução  ",
          "metade  ",
          "recursal  ",
          "depósito  "
         ],
         "yaxis": "y14"
        },
        {
         "marker": {
          "color": "#D55E00"
         },
         "orientation": "h",
         "type": "bar",
         "x": [
          0.02512608453491037,
          0.029373806968463232,
          0.029452820281919225,
          0.031434384852110274,
          0.03480074206193883,
          0.044564749135065765,
          0.05175409819709498,
          0.06612229477303722,
          0.07600432489071285,
          0.11041740343930145
         ],
         "xaxis": "x15",
         "y": [
          "segurada  ",
          "ela  ",
          "nascimento  ",
          "parto  ",
          "autora  ",
          "mulher  ",
          "benefício  ",
          "inss  ",
          "salário  ",
          "maternidade  "
         ],
         "yaxis": "y15"
        },
        {
         "marker": {
          "color": "#0072B2"
         },
         "orientation": "h",
         "type": "bar",
         "x": [
          0.02433607808300462,
          0.024465277665461835,
          0.024538486838918457,
          0.025730631167545807,
          0.027128341753072893,
          0.028874254027997124,
          0.030596576414675346,
          0.031044540012505614,
          0.04330230616640423,
          0.09298992911398911
         ],
         "xaxis": "x16",
         "y": [
          "operações  ",
          "abusivos  ",
          "fundo  ",
          "cobrança  ",
          "fgo  ",
          "comissão  ",
          "bndes  ",
          "banco  ",
          "capitalização  ",
          "juros  "
         ],
         "yaxis": "y16"
        },
        {
         "marker": {
          "color": "#CC79A7"
         },
         "orientation": "h",
         "type": "bar",
         "x": [
          0.022297015966487484,
          0.022987434706442628,
          0.02357143048818674,
          0.02580122467324097,
          0.027740455464726643,
          0.028701961098740857,
          0.0321619529028871,
          0.033528191326141044,
          0.0887935880257802,
          0.109886166587435
         ],
         "xaxis": "x17",
         "y": [
          "renda  ",
          "982  ",
          "requisitos  ",
          "2020  ",
          "benefício  ",
          "receber  ",
          "união  ",
          "familiar  ",
          "auxílio  ",
          "emergencial  "
         ],
         "yaxis": "y17"
        },
        {
         "marker": {
          "color": "#E69F00"
         },
         "orientation": "h",
         "type": "bar",
         "x": [
          0.018650185541163624,
          0.019514309205437196,
          0.020110017654776585,
          0.022323523287558215,
          0.02267725022240936,
          0.02658137778984803,
          0.02991610425030373,
          0.03925285372243465,
          0.07924843990570159,
          0.08999043451857018
         ],
         "xaxis": "x18",
         "y": [
          "coletivo  ",
          "cláusula  ",
          "de  ",
          "seguradora  ",
          "rescisão  ",
          "cancelamento  ",
          "contrato  ",
          "operadora  ",
          "saúde  ",
          "plano  "
         ],
         "yaxis": "y18"
        },
        {
         "marker": {
          "color": "#56B4E9"
         },
         "orientation": "h",
         "type": "bar",
         "x": [
          0.026476251950289173,
          0.026681613287845168,
          0.02690361836787714,
          0.03778435431778613,
          0.04067735629506412,
          0.04636063018366766,
          0.047703886199703754,
          0.05819442805404883,
          0.06816449006057208,
          0.07637130301459519
         ],
         "xaxis": "x19",
         "y": [
          "per  ",
          "tem  ",
          "pessoa  ",
          "miserabilidade  ",
          "familiar  ",
          "renda  ",
          "família  ",
          "benefício  ",
          "assistencial  ",
          "deficiência  "
         ],
         "yaxis": "y19"
        },
        {
         "marker": {
          "color": "#009E73"
         },
         "orientation": "h",
         "type": "bar",
         "x": [
          0.032081375895788446,
          0.03543951171328506,
          0.036400379003329285,
          0.037207102395709776,
          0.043689262850759365,
          0.043689262850759365,
          0.04729965114900142,
          0.0772323439011259,
          0.10985948219198947,
          0.14898199017758165
         ],
         "xaxis": "x20",
         "y": [
          "medidas  ",
          "cautelares  ",
          "fixa  ",
          "residência  ",
          "corpus  ",
          "habeas  ",
          "preso  ",
          "paciente  ",
          "preventiva  ",
          "prisão  "
         ],
         "yaxis": "y20"
        }
       ],
       "layout": {
        "annotations": [
         {
          "font": {
           "size": 16
          },
          "showarrow": false,
          "text": "Topic 0",
          "x": 0.0875,
          "xanchor": "center",
          "xref": "paper",
          "y": 0.9999999999999999,
          "yanchor": "bottom",
          "yref": "paper"
         },
         {
          "font": {
           "size": 16
          },
          "showarrow": false,
          "text": "Topic 1",
          "x": 0.36250000000000004,
          "xanchor": "center",
          "xref": "paper",
          "y": 0.9999999999999999,
          "yanchor": "bottom",
          "yref": "paper"
         },
         {
          "font": {
           "size": 16
          },
          "showarrow": false,
          "text": "Topic 2",
          "x": 0.6375000000000001,
          "xanchor": "center",
          "xref": "paper",
          "y": 0.9999999999999999,
          "yanchor": "bottom",
          "yref": "paper"
         },
         {
          "font": {
           "size": 16
          },
          "showarrow": false,
          "text": "Topic 3",
          "x": 0.9125,
          "xanchor": "center",
          "xref": "paper",
          "y": 0.9999999999999999,
          "yanchor": "bottom",
          "yref": "paper"
         },
         {
          "font": {
           "size": 16
          },
          "showarrow": false,
          "text": "Topic 4",
          "x": 0.0875,
          "xanchor": "center",
          "xref": "paper",
          "y": 0.7839999999999999,
          "yanchor": "bottom",
          "yref": "paper"
         },
         {
          "font": {
           "size": 16
          },
          "showarrow": false,
          "text": "Topic 5",
          "x": 0.36250000000000004,
          "xanchor": "center",
          "xref": "paper",
          "y": 0.7839999999999999,
          "yanchor": "bottom",
          "yref": "paper"
         },
         {
          "font": {
           "size": 16
          },
          "showarrow": false,
          "text": "Topic 6",
          "x": 0.6375000000000001,
          "xanchor": "center",
          "xref": "paper",
          "y": 0.7839999999999999,
          "yanchor": "bottom",
          "yref": "paper"
         },
         {
          "font": {
           "size": 16
          },
          "showarrow": false,
          "text": "Topic 7",
          "x": 0.9125,
          "xanchor": "center",
          "xref": "paper",
          "y": 0.7839999999999999,
          "yanchor": "bottom",
          "yref": "paper"
         },
         {
          "font": {
           "size": 16
          },
          "showarrow": false,
          "text": "Topic 8",
          "x": 0.0875,
          "xanchor": "center",
          "xref": "paper",
          "y": 0.568,
          "yanchor": "bottom",
          "yref": "paper"
         },
         {
          "font": {
           "size": 16
          },
          "showarrow": false,
          "text": "Topic 9",
          "x": 0.36250000000000004,
          "xanchor": "center",
          "xref": "paper",
          "y": 0.568,
          "yanchor": "bottom",
          "yref": "paper"
         },
         {
          "font": {
           "size": 16
          },
          "showarrow": false,
          "text": "Topic 10",
          "x": 0.6375000000000001,
          "xanchor": "center",
          "xref": "paper",
          "y": 0.568,
          "yanchor": "bottom",
          "yref": "paper"
         },
         {
          "font": {
           "size": 16
          },
          "showarrow": false,
          "text": "Topic 11",
          "x": 0.9125,
          "xanchor": "center",
          "xref": "paper",
          "y": 0.568,
          "yanchor": "bottom",
          "yref": "paper"
         },
         {
          "font": {
           "size": 16
          },
          "showarrow": false,
          "text": "Topic 12",
          "x": 0.0875,
          "xanchor": "center",
          "xref": "paper",
          "y": 0.352,
          "yanchor": "bottom",
          "yref": "paper"
         },
         {
          "font": {
           "size": 16
          },
          "showarrow": false,
          "text": "Topic 13",
          "x": 0.36250000000000004,
          "xanchor": "center",
          "xref": "paper",
          "y": 0.352,
          "yanchor": "bottom",
          "yref": "paper"
         },
         {
          "font": {
           "size": 16
          },
          "showarrow": false,
          "text": "Topic 14",
          "x": 0.6375000000000001,
          "xanchor": "center",
          "xref": "paper",
          "y": 0.352,
          "yanchor": "bottom",
          "yref": "paper"
         },
         {
          "font": {
           "size": 16
          },
          "showarrow": false,
          "text": "Topic 15",
          "x": 0.9125,
          "xanchor": "center",
          "xref": "paper",
          "y": 0.352,
          "yanchor": "bottom",
          "yref": "paper"
         },
         {
          "font": {
           "size": 16
          },
          "showarrow": false,
          "text": "Topic 16",
          "x": 0.0875,
          "xanchor": "center",
          "xref": "paper",
          "y": 0.13599999999999998,
          "yanchor": "bottom",
          "yref": "paper"
         },
         {
          "font": {
           "size": 16
          },
          "showarrow": false,
          "text": "Topic 17",
          "x": 0.36250000000000004,
          "xanchor": "center",
          "xref": "paper",
          "y": 0.13599999999999998,
          "yanchor": "bottom",
          "yref": "paper"
         },
         {
          "font": {
           "size": 16
          },
          "showarrow": false,
          "text": "Topic 18",
          "x": 0.6375000000000001,
          "xanchor": "center",
          "xref": "paper",
          "y": 0.13599999999999998,
          "yanchor": "bottom",
          "yref": "paper"
         },
         {
          "font": {
           "size": 16
          },
          "showarrow": false,
          "text": "Topic 19",
          "x": 0.9125,
          "xanchor": "center",
          "xref": "paper",
          "y": 0.13599999999999998,
          "yanchor": "bottom",
          "yref": "paper"
         }
        ],
        "height": 1250,
        "hoverlabel": {
         "bgcolor": "white",
         "font": {
          "family": "Rockwell",
          "size": 16
         }
        },
        "showlegend": false,
        "template": {
         "data": {
          "bar": [
           {
            "error_x": {
             "color": "#2a3f5f"
            },
            "error_y": {
             "color": "#2a3f5f"
            },
            "marker": {
             "line": {
              "color": "white",
              "width": 0.5
             },
             "pattern": {
              "fillmode": "overlay",
              "size": 10,
              "solidity": 0.2
             }
            },
            "type": "bar"
           }
          ],
          "barpolar": [
           {
            "marker": {
             "line": {
              "color": "white",
              "width": 0.5
             },
             "pattern": {
              "fillmode": "overlay",
              "size": 10,
              "solidity": 0.2
             }
            },
            "type": "barpolar"
           }
          ],
          "carpet": [
           {
            "aaxis": {
             "endlinecolor": "#2a3f5f",
             "gridcolor": "#C8D4E3",
             "linecolor": "#C8D4E3",
             "minorgridcolor": "#C8D4E3",
             "startlinecolor": "#2a3f5f"
            },
            "baxis": {
             "endlinecolor": "#2a3f5f",
             "gridcolor": "#C8D4E3",
             "linecolor": "#C8D4E3",
             "minorgridcolor": "#C8D4E3",
             "startlinecolor": "#2a3f5f"
            },
            "type": "carpet"
           }
          ],
          "choropleth": [
           {
            "colorbar": {
             "outlinewidth": 0,
             "ticks": ""
            },
            "type": "choropleth"
           }
          ],
          "contour": [
           {
            "colorbar": {
             "outlinewidth": 0,
             "ticks": ""
            },
            "colorscale": [
             [
              0,
              "#0d0887"
             ],
             [
              0.1111111111111111,
              "#46039f"
             ],
             [
              0.2222222222222222,
              "#7201a8"
             ],
             [
              0.3333333333333333,
              "#9c179e"
             ],
             [
              0.4444444444444444,
              "#bd3786"
             ],
             [
              0.5555555555555556,
              "#d8576b"
             ],
             [
              0.6666666666666666,
              "#ed7953"
             ],
             [
              0.7777777777777778,
              "#fb9f3a"
             ],
             [
              0.8888888888888888,
              "#fdca26"
             ],
             [
              1,
              "#f0f921"
             ]
            ],
            "type": "contour"
           }
          ],
          "contourcarpet": [
           {
            "colorbar": {
             "outlinewidth": 0,
             "ticks": ""
            },
            "type": "contourcarpet"
           }
          ],
          "heatmap": [
           {
            "colorbar": {
             "outlinewidth": 0,
             "ticks": ""
            },
            "colorscale": [
             [
              0,
              "#0d0887"
             ],
             [
              0.1111111111111111,
              "#46039f"
             ],
             [
              0.2222222222222222,
              "#7201a8"
             ],
             [
              0.3333333333333333,
              "#9c179e"
             ],
             [
              0.4444444444444444,
              "#bd3786"
             ],
             [
              0.5555555555555556,
              "#d8576b"
             ],
             [
              0.6666666666666666,
              "#ed7953"
             ],
             [
              0.7777777777777778,
              "#fb9f3a"
             ],
             [
              0.8888888888888888,
              "#fdca26"
             ],
             [
              1,
              "#f0f921"
             ]
            ],
            "type": "heatmap"
           }
          ],
          "histogram": [
           {
            "marker": {
             "pattern": {
              "fillmode": "overlay",
              "size": 10,
              "solidity": 0.2
             }
            },
            "type": "histogram"
           }
          ],
          "histogram2d": [
           {
            "colorbar": {
             "outlinewidth": 0,
             "ticks": ""
            },
            "colorscale": [
             [
              0,
              "#0d0887"
             ],
             [
              0.1111111111111111,
              "#46039f"
             ],
             [
              0.2222222222222222,
              "#7201a8"
             ],
             [
              0.3333333333333333,
              "#9c179e"
             ],
             [
              0.4444444444444444,
              "#bd3786"
             ],
             [
              0.5555555555555556,
              "#d8576b"
             ],
             [
              0.6666666666666666,
              "#ed7953"
             ],
             [
              0.7777777777777778,
              "#fb9f3a"
             ],
             [
              0.8888888888888888,
              "#fdca26"
             ],
             [
              1,
              "#f0f921"
             ]
            ],
            "type": "histogram2d"
           }
          ],
          "histogram2dcontour": [
           {
            "colorbar": {
             "outlinewidth": 0,
             "ticks": ""
            },
            "colorscale": [
             [
              0,
              "#0d0887"
             ],
             [
              0.1111111111111111,
              "#46039f"
             ],
             [
              0.2222222222222222,
              "#7201a8"
             ],
             [
              0.3333333333333333,
              "#9c179e"
             ],
             [
              0.4444444444444444,
              "#bd3786"
             ],
             [
              0.5555555555555556,
              "#d8576b"
             ],
             [
              0.6666666666666666,
              "#ed7953"
             ],
             [
              0.7777777777777778,
              "#fb9f3a"
             ],
             [
              0.8888888888888888,
              "#fdca26"
             ],
             [
              1,
              "#f0f921"
             ]
            ],
            "type": "histogram2dcontour"
           }
          ],
          "mesh3d": [
           {
            "colorbar": {
             "outlinewidth": 0,
             "ticks": ""
            },
            "type": "mesh3d"
           }
          ],
          "parcoords": [
           {
            "line": {
             "colorbar": {
              "outlinewidth": 0,
              "ticks": ""
             }
            },
            "type": "parcoords"
           }
          ],
          "pie": [
           {
            "automargin": true,
            "type": "pie"
           }
          ],
          "scatter": [
           {
            "fillpattern": {
             "fillmode": "overlay",
             "size": 10,
             "solidity": 0.2
            },
            "type": "scatter"
           }
          ],
          "scatter3d": [
           {
            "line": {
             "colorbar": {
              "outlinewidth": 0,
              "ticks": ""
             }
            },
            "marker": {
             "colorbar": {
              "outlinewidth": 0,
              "ticks": ""
             }
            },
            "type": "scatter3d"
           }
          ],
          "scattercarpet": [
           {
            "marker": {
             "colorbar": {
              "outlinewidth": 0,
              "ticks": ""
             }
            },
            "type": "scattercarpet"
           }
          ],
          "scattergeo": [
           {
            "marker": {
             "colorbar": {
              "outlinewidth": 0,
              "ticks": ""
             }
            },
            "type": "scattergeo"
           }
          ],
          "scattergl": [
           {
            "marker": {
             "colorbar": {
              "outlinewidth": 0,
              "ticks": ""
             }
            },
            "type": "scattergl"
           }
          ],
          "scattermap": [
           {
            "marker": {
             "colorbar": {
              "outlinewidth": 0,
              "ticks": ""
             }
            },
            "type": "scattermap"
           }
          ],
          "scattermapbox": [
           {
            "marker": {
             "colorbar": {
              "outlinewidth": 0,
              "ticks": ""
             }
            },
            "type": "scattermapbox"
           }
          ],
          "scatterpolar": [
           {
            "marker": {
             "colorbar": {
              "outlinewidth": 0,
              "ticks": ""
             }
            },
            "type": "scatterpolar"
           }
          ],
          "scatterpolargl": [
           {
            "marker": {
             "colorbar": {
              "outlinewidth": 0,
              "ticks": ""
             }
            },
            "type": "scatterpolargl"
           }
          ],
          "scatterternary": [
           {
            "marker": {
             "colorbar": {
              "outlinewidth": 0,
              "ticks": ""
             }
            },
            "type": "scatterternary"
           }
          ],
          "surface": [
           {
            "colorbar": {
             "outlinewidth": 0,
             "ticks": ""
            },
            "colorscale": [
             [
              0,
              "#0d0887"
             ],
             [
              0.1111111111111111,
              "#46039f"
             ],
             [
              0.2222222222222222,
              "#7201a8"
             ],
             [
              0.3333333333333333,
              "#9c179e"
             ],
             [
              0.4444444444444444,
              "#bd3786"
             ],
             [
              0.5555555555555556,
              "#d8576b"
             ],
             [
              0.6666666666666666,
              "#ed7953"
             ],
             [
              0.7777777777777778,
              "#fb9f3a"
             ],
             [
              0.8888888888888888,
              "#fdca26"
             ],
             [
              1,
              "#f0f921"
             ]
            ],
            "type": "surface"
           }
          ],
          "table": [
           {
            "cells": {
             "fill": {
              "color": "#EBF0F8"
             },
             "line": {
              "color": "white"
             }
            },
            "header": {
             "fill": {
              "color": "#C8D4E3"
             },
             "line": {
              "color": "white"
             }
            },
            "type": "table"
           }
          ]
         },
         "layout": {
          "annotationdefaults": {
           "arrowcolor": "#2a3f5f",
           "arrowhead": 0,
           "arrowwidth": 1
          },
          "autotypenumbers": "strict",
          "coloraxis": {
           "colorbar": {
            "outlinewidth": 0,
            "ticks": ""
           }
          },
          "colorscale": {
           "diverging": [
            [
             0,
             "#8e0152"
            ],
            [
             0.1,
             "#c51b7d"
            ],
            [
             0.2,
             "#de77ae"
            ],
            [
             0.3,
             "#f1b6da"
            ],
            [
             0.4,
             "#fde0ef"
            ],
            [
             0.5,
             "#f7f7f7"
            ],
            [
             0.6,
             "#e6f5d0"
            ],
            [
             0.7,
             "#b8e186"
            ],
            [
             0.8,
             "#7fbc41"
            ],
            [
             0.9,
             "#4d9221"
            ],
            [
             1,
             "#276419"
            ]
           ],
           "sequential": [
            [
             0,
             "#0d0887"
            ],
            [
             0.1111111111111111,
             "#46039f"
            ],
            [
             0.2222222222222222,
             "#7201a8"
            ],
            [
             0.3333333333333333,
             "#9c179e"
            ],
            [
             0.4444444444444444,
             "#bd3786"
            ],
            [
             0.5555555555555556,
             "#d8576b"
            ],
            [
             0.6666666666666666,
             "#ed7953"
            ],
            [
             0.7777777777777778,
             "#fb9f3a"
            ],
            [
             0.8888888888888888,
             "#fdca26"
            ],
            [
             1,
             "#f0f921"
            ]
           ],
           "sequentialminus": [
            [
             0,
             "#0d0887"
            ],
            [
             0.1111111111111111,
             "#46039f"
            ],
            [
             0.2222222222222222,
             "#7201a8"
            ],
            [
             0.3333333333333333,
             "#9c179e"
            ],
            [
             0.4444444444444444,
             "#bd3786"
            ],
            [
             0.5555555555555556,
             "#d8576b"
            ],
            [
             0.6666666666666666,
             "#ed7953"
            ],
            [
             0.7777777777777778,
             "#fb9f3a"
            ],
            [
             0.8888888888888888,
             "#fdca26"
            ],
            [
             1,
             "#f0f921"
            ]
           ]
          },
          "colorway": [
           "#636efa",
           "#EF553B",
           "#00cc96",
           "#ab63fa",
           "#FFA15A",
           "#19d3f3",
           "#FF6692",
           "#B6E880",
           "#FF97FF",
           "#FECB52"
          ],
          "font": {
           "color": "#2a3f5f"
          },
          "geo": {
           "bgcolor": "white",
           "lakecolor": "white",
           "landcolor": "white",
           "showlakes": true,
           "showland": true,
           "subunitcolor": "#C8D4E3"
          },
          "hoverlabel": {
           "align": "left"
          },
          "hovermode": "closest",
          "mapbox": {
           "style": "light"
          },
          "paper_bgcolor": "white",
          "plot_bgcolor": "white",
          "polar": {
           "angularaxis": {
            "gridcolor": "#EBF0F8",
            "linecolor": "#EBF0F8",
            "ticks": ""
           },
           "bgcolor": "white",
           "radialaxis": {
            "gridcolor": "#EBF0F8",
            "linecolor": "#EBF0F8",
            "ticks": ""
           }
          },
          "scene": {
           "xaxis": {
            "backgroundcolor": "white",
            "gridcolor": "#DFE8F3",
            "gridwidth": 2,
            "linecolor": "#EBF0F8",
            "showbackground": true,
            "ticks": "",
            "zerolinecolor": "#EBF0F8"
           },
           "yaxis": {
            "backgroundcolor": "white",
            "gridcolor": "#DFE8F3",
            "gridwidth": 2,
            "linecolor": "#EBF0F8",
            "showbackground": true,
            "ticks": "",
            "zerolinecolor": "#EBF0F8"
           },
           "zaxis": {
            "backgroundcolor": "white",
            "gridcolor": "#DFE8F3",
            "gridwidth": 2,
            "linecolor": "#EBF0F8",
            "showbackground": true,
            "ticks": "",
            "zerolinecolor": "#EBF0F8"
           }
          },
          "shapedefaults": {
           "line": {
            "color": "#2a3f5f"
           }
          },
          "ternary": {
           "aaxis": {
            "gridcolor": "#DFE8F3",
            "linecolor": "#A2B1C6",
            "ticks": ""
           },
           "baxis": {
            "gridcolor": "#DFE8F3",
            "linecolor": "#A2B1C6",
            "ticks": ""
           },
           "bgcolor": "white",
           "caxis": {
            "gridcolor": "#DFE8F3",
            "linecolor": "#A2B1C6",
            "ticks": ""
           }
          },
          "title": {
           "x": 0.05
          },
          "xaxis": {
           "automargin": true,
           "gridcolor": "#EBF0F8",
           "linecolor": "#EBF0F8",
           "ticks": "",
           "title": {
            "standoff": 15
           },
           "zerolinecolor": "#EBF0F8",
           "zerolinewidth": 2
          },
          "yaxis": {
           "automargin": true,
           "gridcolor": "#EBF0F8",
           "linecolor": "#EBF0F8",
           "ticks": "",
           "title": {
            "standoff": 15
           },
           "zerolinecolor": "#EBF0F8",
           "zerolinewidth": 2
          }
         }
        },
        "title": {
         "font": {
          "color": "Black",
          "size": 22
         },
         "text": "Topic Word Scores",
         "x": 0.5,
         "xanchor": "center",
         "yanchor": "top"
        },
        "width": 1000,
        "xaxis": {
         "anchor": "y",
         "domain": [
          0,
          0.175
         ],
         "showgrid": true
        },
        "xaxis10": {
         "anchor": "y10",
         "domain": [
          0.275,
          0.45
         ],
         "showgrid": true
        },
        "xaxis11": {
         "anchor": "y11",
         "domain": [
          0.55,
          0.7250000000000001
         ],
         "showgrid": true
        },
        "xaxis12": {
         "anchor": "y12",
         "domain": [
          0.825,
          1
         ],
         "showgrid": true
        },
        "xaxis13": {
         "anchor": "y13",
         "domain": [
          0,
          0.175
         ],
         "showgrid": true
        },
        "xaxis14": {
         "anchor": "y14",
         "domain": [
          0.275,
          0.45
         ],
         "showgrid": true
        },
        "xaxis15": {
         "anchor": "y15",
         "domain": [
          0.55,
          0.7250000000000001
         ],
         "showgrid": true
        },
        "xaxis16": {
         "anchor": "y16",
         "domain": [
          0.825,
          1
         ],
         "showgrid": true
        },
        "xaxis17": {
         "anchor": "y17",
         "domain": [
          0,
          0.175
         ],
         "showgrid": true
        },
        "xaxis18": {
         "anchor": "y18",
         "domain": [
          0.275,
          0.45
         ],
         "showgrid": true
        },
        "xaxis19": {
         "anchor": "y19",
         "domain": [
          0.55,
          0.7250000000000001
         ],
         "showgrid": true
        },
        "xaxis2": {
         "anchor": "y2",
         "domain": [
          0.275,
          0.45
         ],
         "showgrid": true
        },
        "xaxis20": {
         "anchor": "y20",
         "domain": [
          0.825,
          1
         ],
         "showgrid": true
        },
        "xaxis3": {
         "anchor": "y3",
         "domain": [
          0.55,
          0.7250000000000001
         ],
         "showgrid": true
        },
        "xaxis4": {
         "anchor": "y4",
         "domain": [
          0.825,
          1
         ],
         "showgrid": true
        },
        "xaxis5": {
         "anchor": "y5",
         "domain": [
          0,
          0.175
         ],
         "showgrid": true
        },
        "xaxis6": {
         "anchor": "y6",
         "domain": [
          0.275,
          0.45
         ],
         "showgrid": true
        },
        "xaxis7": {
         "anchor": "y7",
         "domain": [
          0.55,
          0.7250000000000001
         ],
         "showgrid": true
        },
        "xaxis8": {
         "anchor": "y8",
         "domain": [
          0.825,
          1
         ],
         "showgrid": true
        },
        "xaxis9": {
         "anchor": "y9",
         "domain": [
          0,
          0.175
         ],
         "showgrid": true
        },
        "yaxis": {
         "anchor": "x",
         "domain": [
          0.8639999999999999,
          0.9999999999999999
         ],
         "showgrid": true
        },
        "yaxis10": {
         "anchor": "x10",
         "domain": [
          0.43199999999999994,
          0.568
         ],
         "showgrid": true
        },
        "yaxis11": {
         "anchor": "x11",
         "domain": [
          0.43199999999999994,
          0.568
         ],
         "showgrid": true
        },
        "yaxis12": {
         "anchor": "x12",
         "domain": [
          0.43199999999999994,
          0.568
         ],
         "showgrid": true
        },
        "yaxis13": {
         "anchor": "x13",
         "domain": [
          0.21599999999999997,
          0.352
         ],
         "showgrid": true
        },
        "yaxis14": {
         "anchor": "x14",
         "domain": [
          0.21599999999999997,
          0.352
         ],
         "showgrid": true
        },
        "yaxis15": {
         "anchor": "x15",
         "domain": [
          0.21599999999999997,
          0.352
         ],
         "showgrid": true
        },
        "yaxis16": {
         "anchor": "x16",
         "domain": [
          0.21599999999999997,
          0.352
         ],
         "showgrid": true
        },
        "yaxis17": {
         "anchor": "x17",
         "domain": [
          0,
          0.13599999999999998
         ],
         "showgrid": true
        },
        "yaxis18": {
         "anchor": "x18",
         "domain": [
          0,
          0.13599999999999998
         ],
         "showgrid": true
        },
        "yaxis19": {
         "anchor": "x19",
         "domain": [
          0,
          0.13599999999999998
         ],
         "showgrid": true
        },
        "yaxis2": {
         "anchor": "x2",
         "domain": [
          0.8639999999999999,
          0.9999999999999999
         ],
         "showgrid": true
        },
        "yaxis20": {
         "anchor": "x20",
         "domain": [
          0,
          0.13599999999999998
         ],
         "showgrid": true
        },
        "yaxis3": {
         "anchor": "x3",
         "domain": [
          0.8639999999999999,
          0.9999999999999999
         ],
         "showgrid": true
        },
        "yaxis4": {
         "anchor": "x4",
         "domain": [
          0.8639999999999999,
          0.9999999999999999
         ],
         "showgrid": true
        },
        "yaxis5": {
         "anchor": "x5",
         "domain": [
          0.6479999999999999,
          0.7839999999999999
         ],
         "showgrid": true
        },
        "yaxis6": {
         "anchor": "x6",
         "domain": [
          0.6479999999999999,
          0.7839999999999999
         ],
         "showgrid": true
        },
        "yaxis7": {
         "anchor": "x7",
         "domain": [
          0.6479999999999999,
          0.7839999999999999
         ],
         "showgrid": true
        },
        "yaxis8": {
         "anchor": "x8",
         "domain": [
          0.6479999999999999,
          0.7839999999999999
         ],
         "showgrid": true
        },
        "yaxis9": {
         "anchor": "x9",
         "domain": [
          0.43199999999999994,
          0.568
         ],
         "showgrid": true
        }
       }
      }
     },
     "metadata": {},
     "output_type": "display_data"
    }
   ],
   "source": [
    "topic_model.visualize_barchart(top_n_topics=20, n_words = 10)"
   ]
  },
  {
   "cell_type": "code",
   "execution_count": 13,
   "id": "54dbb054",
   "metadata": {},
   "outputs": [
    {
     "data": {
      "application/vnd.plotly.v1+json": {
       "config": {
        "plotlyServerURL": "https://plot.ly"
       },
       "data": [
        {
         "hoverinfo": "text",
         "marker": {
          "color": "rgb(61,153,112)"
         },
         "mode": "lines",
         "type": "scatter",
         "x": {
          "bdata": "AAAAAAAAAADmJHOHO5XeP+Ykc4c7ld4/AAAAAAAAAAA=",
          "dtype": "f8"
         },
         "xaxis": "x",
         "y": {
          "bdata": "AAAAAAAALsAAAAAAAAAuwAAAAAAAADnAAAAAAAAAOcA=",
          "dtype": "f8"
         },
         "yaxis": "y"
        },
        {
         "hoverinfo": "text",
         "marker": {
          "color": "rgb(61,153,112)"
         },
         "mode": "lines",
         "type": "scatter",
         "x": {
          "bdata": "AAAAAAAAAABpJ1A4HbjoP2knUDgduOg/5iRzhzuV3j8=",
          "dtype": "f8"
         },
         "xaxis": "x",
         "y": {
          "bdata": "AAAAAAAAFMAAAAAAAAAUwAAAAAAAADTAAAAAAAAANMA=",
          "dtype": "f8"
         },
         "yaxis": "y"
        },
        {
         "hoverinfo": "text",
         "marker": {
          "color": "rgb(255,65,54)"
         },
         "mode": "lines",
         "type": "scatter",
         "x": {
          "bdata": "AAAAAAAAAACJKNUM6R3oP4ko1QzpHeg/AAAAAAAAAAA=",
          "dtype": "f8"
         },
         "xaxis": "x",
         "y": {
          "bdata": "AAAAAACAQcAAAAAAAIBBwAAAAAAAgEbAAAAAAACARsA=",
          "dtype": "f8"
         },
         "yaxis": "y"
        },
        {
         "hoverinfo": "text",
         "marker": {
          "color": "rgb(255,65,54)"
         },
         "mode": "lines",
         "type": "scatter",
         "x": {
          "bdata": "AAAAAAAAAAD3viS34aDlP/e+JLfhoOU/AAAAAAAAAAA=",
          "dtype": "f8"
         },
         "xaxis": "x",
         "y": {
          "bdata": "AAAAAACAS8AAAAAAAIBLwAAAAAAAQFDAAAAAAABAUMA=",
          "dtype": "f8"
         },
         "yaxis": "y"
        },
        {
         "hoverinfo": "text",
         "marker": {
          "color": "rgb(255,65,54)"
         },
         "mode": "lines",
         "type": "scatter",
         "x": {
          "bdata": "974kt+Gg5T8bVwfotAvoPxtXB+i0C+g/AAAAAAAAAAA=",
          "dtype": "f8"
         },
         "xaxis": "x",
         "y": {
          "bdata": "AAAAAAAATsAAAAAAAABOwAAAAAAAwFLAAAAAAADAUsA=",
          "dtype": "f8"
         },
         "yaxis": "y"
        },
        {
         "hoverinfo": "text",
         "marker": {
          "color": "rgb(255,65,54)"
         },
         "mode": "lines",
         "type": "scatter",
         "x": {
          "bdata": "iSjVDOkd6D9FZMs6mi7uP0VkyzqaLu4/G1cH6LQL6D8=",
          "dtype": "f8"
         },
         "xaxis": "x",
         "y": {
          "bdata": "AAAAAAAARMAAAAAAAABEwAAAAAAA4FDAAAAAAADgUMA=",
          "dtype": "f8"
         },
         "yaxis": "y"
        },
        {
         "hoverinfo": "text",
         "marker": {
          "color": "rgb(0,116,217)"
         },
         "mode": "lines",
         "type": "scatter",
         "x": {
          "bdata": "aSdQOB246D8W8i+etVrxPxbyL561WvE/RWTLOpou7j8=",
          "dtype": "f8"
         },
         "xaxis": "x",
         "y": {
          "bdata": "AAAAAAAAKcAAAAAAAAApwAAAAAAA4ErAAAAAAADgSsA=",
          "dtype": "f8"
         },
         "yaxis": "y"
        },
        {
         "hoverinfo": "text",
         "marker": {
          "color": "rgb(35,205,205)"
         },
         "mode": "lines",
         "type": "scatter",
         "x": {
          "bdata": "AAAAAAAAAAAAs2oZbT7VPwCzahltPtU/AAAAAAAAAAA=",
          "dtype": "f8"
         },
         "xaxis": "x",
         "y": {
          "bdata": "AAAAAABAVcAAAAAAAEBVwAAAAAAAwFfAAAAAAADAV8A=",
          "dtype": "f8"
         },
         "yaxis": "y"
        },
        {
         "hoverinfo": "text",
         "marker": {
          "color": "rgb(35,205,205)"
         },
         "mode": "lines",
         "type": "scatter",
         "x": {
          "bdata": "AAAAAAAAAACcCW5Hzk7KP5wJbkfOTso/AAAAAAAAAAA=",
          "dtype": "f8"
         },
         "xaxis": "x",
         "y": {
          "bdata": "AAAAAADAXMAAAAAAAMBcwAAAAAAAQF/AAAAAAABAX8A=",
          "dtype": "f8"
         },
         "yaxis": "y"
        },
        {
         "hoverinfo": "text",
         "marker": {
          "color": "rgb(35,205,205)"
         },
         "mode": "lines",
         "type": "scatter",
         "x": {
          "bdata": "AAAAAAAAAABXfLvl8XHZP1d8u+Xxcdk/nAluR85Oyj8=",
          "dtype": "f8"
         },
         "xaxis": "x",
         "y": {
          "bdata": "AAAAAABAWsAAAAAAAEBawAAAAAAAAF7AAAAAAAAAXsA=",
          "dtype": "f8"
         },
         "yaxis": "y"
        },
        {
         "hoverinfo": "text",
         "marker": {
          "color": "rgb(35,205,205)"
         },
         "mode": "lines",
         "type": "scatter",
         "x": {
          "bdata": "V3y75fFx2T9Z6MbYhknhP1noxtiGSeE/AAAAAAAAAAA=",
          "dtype": "f8"
         },
         "xaxis": "x",
         "y": {
          "bdata": "AAAAAAAgXMAAAAAAACBcwAAAAAAA4GDAAAAAAADgYMA=",
          "dtype": "f8"
         },
         "yaxis": "y"
        },
        {
         "hoverinfo": "text",
         "marker": {
          "color": "rgb(35,205,205)"
         },
         "mode": "lines",
         "type": "scatter",
         "x": {
          "bdata": "ALNqGW0+1T/2C5ahEh7nP/YLlqESHuc/WejG2IZJ4T8=",
          "dtype": "f8"
         },
         "xaxis": "x",
         "y": {
          "bdata": "AAAAAACAVsAAAAAAAIBWwAAAAAAA8F7AAAAAAADwXsA=",
          "dtype": "f8"
         },
         "yaxis": "y"
        },
        {
         "hoverinfo": "text",
         "marker": {
          "color": "rgb(0,116,217)"
         },
         "mode": "lines",
         "type": "scatter",
         "x": {
          "bdata": "FvIvnrVa8T96oCr7I+jzP3qgKvsj6PM/9guWoRIe5z8=",
          "dtype": "f8"
         },
         "xaxis": "x",
         "y": {
          "bdata": "AAAAAACQQMAAAAAAAJBAwAAAAAAAuFrAAAAAAAC4WsA=",
          "dtype": "f8"
         },
         "yaxis": "y"
        },
        {
         "hoverinfo": "text",
         "marker": {
          "color": "rgb(133,20,75)"
         },
         "mode": "lines",
         "type": "scatter",
         "x": {
          "bdata": "AAAAAAAAAAB617sromLYP3rXuyuiYtg/AAAAAAAAAAA=",
          "dtype": "f8"
         },
         "xaxis": "x",
         "y": {
          "bdata": "AAAAAABgY8AAAAAAAGBjwAAAAAAAoGTAAAAAAACgZMA=",
          "dtype": "f8"
         },
         "yaxis": "y"
        },
        {
         "hoverinfo": "text",
         "marker": {
          "color": "rgb(133,20,75)"
         },
         "mode": "lines",
         "type": "scatter",
         "x": {
          "bdata": "AAAAAAAAAABkuqc1cbTdP2S6pzVxtN0/AAAAAAAAAAA=",
          "dtype": "f8"
         },
         "xaxis": "x",
         "y": {
          "bdata": "AAAAAADgZcAAAAAAAOBlwAAAAAAAIGfAAAAAAAAgZ8A=",
          "dtype": "f8"
         },
         "yaxis": "y"
        },
        {
         "hoverinfo": "text",
         "marker": {
          "color": "rgb(133,20,75)"
         },
         "mode": "lines",
         "type": "scatter",
         "x": {
          "bdata": "ete7K6Ji2D+BUQFbRi7oP4FRAVtGLug/ZLqnNXG03T8=",
          "dtype": "f8"
         },
         "xaxis": "x",
         "y": {
          "bdata": "AAAAAAAAZMAAAAAAAABkwAAAAAAAgGbAAAAAAACAZsA=",
          "dtype": "f8"
         },
         "yaxis": "y"
        },
        {
         "hoverinfo": "text",
         "marker": {
          "color": "rgb(133,20,75)"
         },
         "mode": "lines",
         "type": "scatter",
         "x": {
          "bdata": "AAAAAAAAAACQd9JJD6PrP5B30kkPo+s/gVEBW0Yu6D8=",
          "dtype": "f8"
         },
         "xaxis": "x",
         "y": {
          "bdata": "AAAAAAAgYsAAAAAAACBiwAAAAAAAQGXAAAAAAABAZcA=",
          "dtype": "f8"
         },
         "yaxis": "y"
        },
        {
         "hoverinfo": "text",
         "marker": {
          "color": "rgb(255,220,0)"
         },
         "mode": "lines",
         "type": "scatter",
         "x": {
          "bdata": "AAAAAAAAAADsdzM1lBHCP+x3MzWUEcI/AAAAAAAAAAA=",
          "dtype": "f8"
         },
         "xaxis": "x",
         "y": {
          "bdata": "AAAAAABgaMAAAAAAAGBowAAAAAAAoGnAAAAAAACgacA=",
          "dtype": "f8"
         },
         "yaxis": "y"
        },
        {
         "hoverinfo": "text",
         "marker": {
          "color": "rgb(40,35,35)"
         },
         "mode": "lines",
         "type": "scatter",
         "x": {
          "bdata": "AAAAAAAAAADNLMGZC63oP80swZkLreg/AAAAAAAAAAA=",
          "dtype": "f8"
         },
         "xaxis": "x",
         "y": {
          "bdata": "AAAAAADgasAAAAAAAOBqwAAAAAAAIGzAAAAAAAAgbMA=",
          "dtype": "f8"
         },
         "yaxis": "y"
        },
        {
         "hoverinfo": "text",
         "marker": {
          "color": "rgb(40,35,35)"
         },
         "mode": "lines",
         "type": "scatter",
         "x": {
          "bdata": "zSzBmQut6D8GogThfvPrPwaiBOF+8+s/AAAAAAAAAAA=",
          "dtype": "f8"
         },
         "xaxis": "x",
         "y": {
          "bdata": "AAAAAACAa8AAAAAAAIBrwAAAAAAAYG3AAAAAAABgbcA=",
          "dtype": "f8"
         },
         "yaxis": "y"
        },
        {
         "hoverinfo": "text",
         "marker": {
          "color": "rgb(61,153,112)"
         },
         "mode": "lines",
         "type": "scatter",
         "x": {
          "bdata": "AAAAAAAAAADujeZeJBDsP+6N5l4kEOw/AAAAAAAAAAA=",
          "dtype": "f8"
         },
         "xaxis": "x",
         "y": {
          "bdata": "AAAAAACgbsAAAAAAAKBuwAAAAAAA4G/AAAAAAADgb8A=",
          "dtype": "f8"
         },
         "yaxis": "y"
        },
        {
         "hoverinfo": "text",
         "marker": {
          "color": "rgb(61,153,112)"
         },
         "mode": "lines",
         "type": "scatter",
         "x": {
          "bdata": "7o3mXiQQ7D96AYtCkJLtP3oBi0KQku0/AAAAAAAAAAA=",
          "dtype": "f8"
         },
         "xaxis": "x",
         "y": {
          "bdata": "AAAAAABAb8AAAAAAAEBvwAAAAAAAkHDAAAAAAACQcMA=",
          "dtype": "f8"
         },
         "yaxis": "y"
        },
        {
         "hoverinfo": "text",
         "marker": {
          "color": "rgb(61,153,112)"
         },
         "mode": "lines",
         "type": "scatter",
         "x": {
          "bdata": "AAAAAAAAAABKQ49ZmsTrP0pDj1maxOs/AAAAAAAAAAA=",
          "dtype": "f8"
         },
         "xaxis": "x",
         "y": {
          "bdata": "AAAAAAAwccAAAAAAADBxwAAAAAAA0HHAAAAAAADQccA=",
          "dtype": "f8"
         },
         "yaxis": "y"
        },
        {
         "hoverinfo": "text",
         "marker": {
          "color": "rgb(61,153,112)"
         },
         "mode": "lines",
         "type": "scatter",
         "x": {
          "bdata": "egGLQpCS7T+gCuyr3SLuP6AK7KvdIu4/SkOPWZrE6z8=",
          "dtype": "f8"
         },
         "xaxis": "x",
         "y": {
          "bdata": "AAAAAAAYcMAAAAAAABhwwAAAAAAAgHHAAAAAAACAccA=",
          "dtype": "f8"
         },
         "yaxis": "y"
        },
        {
         "hoverinfo": "text",
         "marker": {
          "color": "rgb(255,65,54)"
         },
         "mode": "lines",
         "type": "scatter",
         "x": {
          "bdata": "AAAAAAAAAACI3eJrfRTjP4jd4mt9FOM/AAAAAAAAAAA=",
          "dtype": "f8"
         },
         "xaxis": "x",
         "y": {
          "bdata": "AAAAAAAQc8AAAAAAABBzwAAAAAAAsHPAAAAAAACwc8A=",
          "dtype": "f8"
         },
         "yaxis": "y"
        },
        {
         "hoverinfo": "text",
         "marker": {
          "color": "rgb(255,65,54)"
         },
         "mode": "lines",
         "type": "scatter",
         "x": {
          "bdata": "AAAAAAAAAABwyVO6CP3mP3DJU7oI/eY/iN3ia30U4z8=",
          "dtype": "f8"
         },
         "xaxis": "x",
         "y": {
          "bdata": "AAAAAABwcsAAAAAAAHBywAAAAAAAYHPAAAAAAABgc8A=",
          "dtype": "f8"
         },
         "yaxis": "y"
        },
        {
         "hoverinfo": "text",
         "marker": {
          "color": "rgb(255,65,54)"
         },
         "mode": "lines",
         "type": "scatter",
         "x": {
          "bdata": "AAAAAAAAAABEaxf6zNHpP0RrF/rM0ek/AAAAAAAAAAA=",
          "dtype": "f8"
         },
         "xaxis": "x",
         "y": {
          "bdata": "AAAAAABQdMAAAAAAAFB0wAAAAAAA8HTAAAAAAADwdMA=",
          "dtype": "f8"
         },
         "yaxis": "y"
        },
        {
         "hoverinfo": "text",
         "marker": {
          "color": "rgb(255,65,54)"
         },
         "mode": "lines",
         "type": "scatter",
         "x": {
          "bdata": "cMlTugj95j9LV9BPD2jrP0tX0E8PaOs/RGsX+szR6T8=",
          "dtype": "f8"
         },
         "xaxis": "x",
         "y": {
          "bdata": "AAAAAADocsAAAAAAAOhywAAAAAAAoHTAAAAAAACgdMA=",
          "dtype": "f8"
         },
         "yaxis": "y"
        },
        {
         "hoverinfo": "text",
         "marker": {
          "color": "rgb(0,116,217)"
         },
         "mode": "lines",
         "type": "scatter",
         "x": {
          "bdata": "oArsq90i7j+lHM39iAXwP6Uczf2IBfA/S1fQTw9o6z8=",
          "dtype": "f8"
         },
         "xaxis": "x",
         "y": {
          "bdata": "AAAAAADMcMAAAAAAAMxwwAAAAAAAxHPAAAAAAADEc8A=",
          "dtype": "f8"
         },
         "yaxis": "y"
        },
        {
         "hoverinfo": "text",
         "marker": {
          "color": "rgb(35,205,205)"
         },
         "mode": "lines",
         "type": "scatter",
         "x": {
          "bdata": "AAAAAAAAAACUcn9rWEPjP5Ryf2tYQ+M/AAAAAAAAAAA=",
          "dtype": "f8"
         },
         "xaxis": "x",
         "y": {
          "bdata": "AAAAAAAwdsAAAAAAADB2wAAAAAAA0HbAAAAAAADQdsA=",
          "dtype": "f8"
         },
         "yaxis": "y"
        },
        {
         "hoverinfo": "text",
         "marker": {
          "color": "rgb(35,205,205)"
         },
         "mode": "lines",
         "type": "scatter",
         "x": {
          "bdata": "AAAAAAAAAAAkocfcu9foPyShx9y71+g/lHJ/a1hD4z8=",
          "dtype": "f8"
         },
         "xaxis": "x",
         "y": {
          "bdata": "AAAAAACQdcAAAAAAAJB1wAAAAAAAgHbAAAAAAACAdsA=",
          "dtype": "f8"
         },
         "yaxis": "y"
        },
        {
         "hoverinfo": "text",
         "marker": {
          "color": "rgb(0,116,217)"
         },
         "mode": "lines",
         "type": "scatter",
         "x": {
          "bdata": "pRzN/YgF8D9eCL3jez7xP14IveN7PvE/JKHH3LvX6D8=",
          "dtype": "f8"
         },
         "xaxis": "x",
         "y": {
          "bdata": "AAAAAABIcsAAAAAAAEhywAAAAAAACHbAAAAAAAAIdsA=",
          "dtype": "f8"
         },
         "yaxis": "y"
        },
        {
         "hoverinfo": "text",
         "marker": {
          "color": "rgb(0,116,217)"
         },
         "mode": "lines",
         "type": "scatter",
         "x": {
          "bdata": "BqIE4X7z6z+830DTmbXxP7zfQNOZtfE/Xgi943s+8T8=",
          "dtype": "f8"
         },
         "xaxis": "x",
         "y": {
          "bdata": "AAAAAABwbMAAAAAAAHBswAAAAAAAKHTAAAAAAAAodMA=",
          "dtype": "f8"
         },
         "yaxis": "y"
        },
        {
         "hoverinfo": "text",
         "marker": {
          "color": "rgb(61,153,112)"
         },
         "mode": "lines",
         "type": "scatter",
         "x": {
          "bdata": "AAAAAAAAAABKUKIjJNPmP0pQoiMk0+Y/AAAAAAAAAAA=",
          "dtype": "f8"
         },
         "xaxis": "x",
         "y": {
          "bdata": "AAAAAABwd8AAAAAAAHB3wAAAAAAAEHjAAAAAAAAQeMA=",
          "dtype": "f8"
         },
         "yaxis": "y"
        },
        {
         "hoverinfo": "text",
         "marker": {
          "color": "rgb(61,153,112)"
         },
         "mode": "lines",
         "type": "scatter",
         "x": {
          "bdata": "SlCiIyTT5j+KeBEn+WHqP4p4ESf5Yeo/AAAAAAAAAAA=",
          "dtype": "f8"
         },
         "xaxis": "x",
         "y": {
          "bdata": "AAAAAADAd8AAAAAAAMB3wAAAAAAAsHjAAAAAAACweMA=",
          "dtype": "f8"
         },
         "yaxis": "y"
        },
        {
         "hoverinfo": "text",
         "marker": {
          "color": "rgb(0,116,217)"
         },
         "mode": "lines",
         "type": "scatter",
         "x": {
          "bdata": "vN9A05m18T8jhpxpwxDyPyOGnGnDEPI/ingRJ/lh6j8=",
          "dtype": "f8"
         },
         "xaxis": "x",
         "y": {
          "bdata": "AAAAAAAwccAAAAAAADBxwAAAAAAAOHjAAAAAAAA4eMA=",
          "dtype": "f8"
         },
         "yaxis": "y"
        },
        {
         "hoverinfo": "text",
         "marker": {
          "color": "rgb(0,116,217)"
         },
         "mode": "lines",
         "type": "scatter",
         "x": {
          "bdata": "7HczNZQRwj/F0zJwLcP0P8XTMnAtw/Q/I4acacMQ8j8=",
          "dtype": "f8"
         },
         "xaxis": "x",
         "y": {
          "bdata": "AAAAAAAAacAAAAAAAABpwAAAAAAAtHTAAAAAAAC0dMA=",
          "dtype": "f8"
         },
         "yaxis": "y"
        },
        {
         "hoverinfo": "text",
         "marker": {
          "color": "rgb(0,116,217)"
         },
         "mode": "lines",
         "type": "scatter",
         "x": {
          "bdata": "kHfSSQ+j6z9V6e6FeJb1P1Xp7oV4lvU/xdMycC3D9D8=",
          "dtype": "f8"
         },
         "xaxis": "x",
         "y": {
          "bdata": "AAAAAACwY8AAAAAAALBjwAAAAAAAmnDAAAAAAACacMA=",
          "dtype": "f8"
         },
         "yaxis": "y"
        },
        {
         "hoverinfo": "text",
         "marker": {
          "color": "rgb(255,65,54)"
         },
         "mode": "lines",
         "type": "scatter",
         "x": {
          "bdata": "AAAAAAAAAAA82+bdO9bYPzzb5t071tg/AAAAAAAAAAA=",
          "dtype": "f8"
         },
         "xaxis": "x",
         "y": {
          "bdata": "AAAAAACQesAAAAAAAJB6wAAAAAAAMHvAAAAAAAAwe8A=",
          "dtype": "f8"
         },
         "yaxis": "y"
        },
        {
         "hoverinfo": "text",
         "marker": {
          "color": "rgb(255,65,54)"
         },
         "mode": "lines",
         "type": "scatter",
         "x": {
          "bdata": "PNvm3TvW2D8dDxixzITgPx0PGLHMhOA/AAAAAAAAAAA=",
          "dtype": "f8"
         },
         "xaxis": "x",
         "y": {
          "bdata": "AAAAAADgesAAAAAAAOB6wAAAAAAA0HvAAAAAAADQe8A=",
          "dtype": "f8"
         },
         "yaxis": "y"
        },
        {
         "hoverinfo": "text",
         "marker": {
          "color": "rgb(255,65,54)"
         },
         "mode": "lines",
         "type": "scatter",
         "x": {
          "bdata": "AAAAAAAAAAD5XuU4HlnjP/le5TgeWeM/HQ8YscyE4D8=",
          "dtype": "f8"
         },
         "xaxis": "x",
         "y": {
          "bdata": "AAAAAADwecAAAAAAAPB5wAAAAAAAWHvAAAAAAABYe8A=",
          "dtype": "f8"
         },
         "yaxis": "y"
        },
        {
         "hoverinfo": "text",
         "marker": {
          "color": "rgb(255,65,54)"
         },
         "mode": "lines",
         "type": "scatter",
         "x": {
          "bdata": "AAAAAAAAAABd88W7+RPnP13zxbv5E+c/+V7lOB5Z4z8=",
          "dtype": "f8"
         },
         "xaxis": "x",
         "y": {
          "bdata": "AAAAAABQecAAAAAAAFB5wAAAAAAApHrAAAAAAACkesA=",
          "dtype": "f8"
         },
         "yaxis": "y"
        },
        {
         "hoverinfo": "text",
         "marker": {
          "color": "rgb(255,65,54)"
         },
         "mode": "lines",
         "type": "scatter",
         "x": {
          "bdata": "AAAAAAAAAABhuNETBOnjP2G40RME6eM/AAAAAAAAAAA=",
          "dtype": "f8"
         },
         "xaxis": "x",
         "y": {
          "bdata": "AAAAAABwfMAAAAAAAHB8wAAAAAAAEH3AAAAAAAAQfcA=",
          "dtype": "f8"
         },
         "yaxis": "y"
        },
        {
         "hoverinfo": "text",
         "marker": {
          "color": "rgb(255,65,54)"
         },
         "mode": "lines",
         "type": "scatter",
         "x": {
          "bdata": "XfPFu/kT5z/ghuWEIOXnP+CG5YQg5ec/YbjREwTp4z8=",
          "dtype": "f8"
         },
         "xaxis": "x",
         "y": {
          "bdata": "AAAAAAD6ecAAAAAAAPp5wAAAAAAAwHzAAAAAAADAfMA=",
          "dtype": "f8"
         },
         "yaxis": "y"
        },
        {
         "hoverinfo": "text",
         "marker": {
          "color": "rgb(255,65,54)"
         },
         "mode": "lines",
         "type": "scatter",
         "x": {
          "bdata": "4IblhCDl5z9cwJC9QXDoP1zAkL1BcOg/AAAAAAAAAAA=",
          "dtype": "f8"
         },
         "xaxis": "x",
         "y": {
          "bdata": "AAAAAABde8AAAAAAAF17wAAAAAAAsH3AAAAAAACwfcA=",
          "dtype": "f8"
         },
         "yaxis": "y"
        },
        {
         "hoverinfo": "text",
         "marker": {
          "color": "rgb(0,116,217)"
         },
         "mode": "lines",
         "type": "scatter",
         "x": {
          "bdata": "VenuhXiW9T9u8iV49dz2P27yJXj13PY/XMCQvUFw6D8=",
          "dtype": "f8"
         },
         "xaxis": "x",
         "y": {
          "bdata": "AAAAAAByasAAAAAAAHJqwAAAAACAhnzAAAAAAICGfMA=",
          "dtype": "f8"
         },
         "yaxis": "y"
        },
        {
         "hoverinfo": "text",
         "marker": {
          "color": "rgb(35,205,205)"
         },
         "mode": "lines",
         "type": "scatter",
         "x": {
          "bdata": "AAAAAAAAAABeo2lLmGPlP16jaUuYY+U/AAAAAAAAAAA=",
          "dtype": "f8"
         },
         "xaxis": "x",
         "y": {
          "bdata": "AAAAAABQfsAAAAAAAFB+wAAAAAAA8H7AAAAAAADwfsA=",
          "dtype": "f8"
         },
         "yaxis": "y"
        },
        {
         "hoverinfo": "text",
         "marker": {
          "color": "rgb(35,205,205)"
         },
         "mode": "lines",
         "type": "scatter",
         "x": {
          "bdata": "AAAAAAAAAAA0XxkNj0bZPzRfGQ2PRtk/AAAAAAAAAAA=",
          "dtype": "f8"
         },
         "xaxis": "x",
         "y": {
          "bdata": "AAAAAACQf8AAAAAAAJB/wAAAAAAAGIDAAAAAAAAYgMA=",
          "dtype": "f8"
         },
         "yaxis": "y"
        },
        {
         "hoverinfo": "text",
         "marker": {
          "color": "rgb(35,205,205)"
         },
         "mode": "lines",
         "type": "scatter",
         "x": {
          "bdata": "XqNpS5hj5T9bFBHICkLoP1sUEcgKQug/NF8ZDY9G2T8=",
          "dtype": "f8"
         },
         "xaxis": "x",
         "y": {
          "bdata": "AAAAAACgfsAAAAAAAKB+wAAAAAAA4H/AAAAAAADgf8A=",
          "dtype": "f8"
         },
         "yaxis": "y"
        },
        {
         "hoverinfo": "text",
         "marker": {
          "color": "rgb(35,205,205)"
         },
         "mode": "lines",
         "type": "scatter",
         "x": {
          "bdata": "AAAAAAAAAADIObxPOQ7iP8g5vE85DuI/AAAAAAAAAAA=",
          "dtype": "f8"
         },
         "xaxis": "x",
         "y": {
          "bdata": "AAAAAAC4gMAAAAAAALiAwAAAAAAACIHAAAAAAAAIgcA=",
          "dtype": "f8"
         },
         "yaxis": "y"
        },
        {
         "hoverinfo": "text",
         "marker": {
          "color": "rgb(35,205,205)"
         },
         "mode": "lines",
         "type": "scatter",
         "x": {
          "bdata": "yDm8TzkO4j918702BqTkP3XzvTYGpOQ/AAAAAAAAAAA=",
          "dtype": "f8"
         },
         "xaxis": "x",
         "y": {
          "bdata": "AAAAAADggMAAAAAAAOCAwAAAAAAAWIHAAAAAAABYgcA=",
          "dtype": "f8"
         },
         "yaxis": "y"
        },
        {
         "hoverinfo": "text",
         "marker": {
          "color": "rgb(35,205,205)"
         },
         "mode": "lines",
         "type": "scatter",
         "x": {
          "bdata": "AAAAAAAAAAAOPxHkY8ToPw4/EeRjxOg/dfO9Ngak5D8=",
          "dtype": "f8"
         },
         "xaxis": "x",
         "y": {
          "bdata": "AAAAAABogMAAAAAAAGiAwAAAAAAAHIHAAAAAAAAcgcA=",
          "dtype": "f8"
         },
         "yaxis": "y"
        },
        {
         "hoverinfo": "text",
         "marker": {
          "color": "rgb(35,205,205)"
         },
         "mode": "lines",
         "type": "scatter",
         "x": {
          "bdata": "AAAAAAAAAADEPa11OBHhP8Q9rXU4EeE/AAAAAAAAAAA=",
          "dtype": "f8"
         },
         "xaxis": "x",
         "y": {
          "bdata": "AAAAAACogcAAAAAAAKiBwAAAAAAA+IHAAAAAAAD4gcA=",
          "dtype": "f8"
         },
         "yaxis": "y"
        },
        {
         "hoverinfo": "text",
         "marker": {
          "color": "rgb(35,205,205)"
         },
         "mode": "lines",
         "type": "scatter",
         "x": {
          "bdata": "Dj8R5GPE6D+HkfBVmpDrP4eR8FWakOs/xD2tdTgR4T8=",
          "dtype": "f8"
         },
         "xaxis": "x",
         "y": {
          "bdata": "AAAAAADCgMAAAAAAAMKAwAAAAAAA0IHAAAAAAADQgcA=",
          "dtype": "f8"
         },
         "yaxis": "y"
        },
        {
         "hoverinfo": "text",
         "marker": {
          "color": "rgb(35,205,205)"
         },
         "mode": "lines",
         "type": "scatter",
         "x": {
          "bdata": "WxQRyApC6D/vL7gpTwzvP+8vuClPDO8/h5HwVZqQ6z8=",
          "dtype": "f8"
         },
         "xaxis": "x",
         "y": {
          "bdata": "AAAAAABAf8AAAAAAAEB/wAAAAAAASYHAAAAAAABJgcA=",
          "dtype": "f8"
         },
         "yaxis": "y"
        },
        {
         "hoverinfo": "text",
         "marker": {
          "color": "rgb(0,116,217)"
         },
         "mode": "lines",
         "type": "scatter",
         "x": {
          "bdata": "bvIlePXc9j8fcxUfQ2v6Px9zFR9Da/o/7y+4KU8M7z8=",
          "dtype": "f8"
         },
         "xaxis": "x",
         "y": {
          "bdata": "AAAAAMDfdMAAAAAAwN90wAAAAACAdIDAAAAAAIB0gMA=",
          "dtype": "f8"
         },
         "yaxis": "y"
        },
        {
         "hoverinfo": "text",
         "marker": {
          "color": "rgb(0,116,217)"
         },
         "mode": "lines",
         "type": "scatter",
         "x": {
          "bdata": "eqAq+yPo8z+erVvHzDT9P56tW8fMNP0/H3MVH0Nr+j8=",
          "dtype": "f8"
         },
         "xaxis": "x",
         "y": {
          "bdata": "AAAAAACAUcAAAAAAAIBRwAAAAABg5HrAAAAAAGDkesA=",
          "dtype": "f8"
         },
         "yaxis": "y"
        }
       ],
       "layout": {
        "autosize": false,
        "height": 1070,
        "hoverlabel": {
         "bgcolor": "white",
         "font": {
          "family": "Rockwell",
          "size": 16
         }
        },
        "hovermode": "closest",
        "plot_bgcolor": "#ECEFF1",
        "showlegend": false,
        "template": {
         "data": {
          "bar": [
           {
            "error_x": {
             "color": "#2a3f5f"
            },
            "error_y": {
             "color": "#2a3f5f"
            },
            "marker": {
             "line": {
              "color": "white",
              "width": 0.5
             },
             "pattern": {
              "fillmode": "overlay",
              "size": 10,
              "solidity": 0.2
             }
            },
            "type": "bar"
           }
          ],
          "barpolar": [
           {
            "marker": {
             "line": {
              "color": "white",
              "width": 0.5
             },
             "pattern": {
              "fillmode": "overlay",
              "size": 10,
              "solidity": 0.2
             }
            },
            "type": "barpolar"
           }
          ],
          "carpet": [
           {
            "aaxis": {
             "endlinecolor": "#2a3f5f",
             "gridcolor": "#C8D4E3",
             "linecolor": "#C8D4E3",
             "minorgridcolor": "#C8D4E3",
             "startlinecolor": "#2a3f5f"
            },
            "baxis": {
             "endlinecolor": "#2a3f5f",
             "gridcolor": "#C8D4E3",
             "linecolor": "#C8D4E3",
             "minorgridcolor": "#C8D4E3",
             "startlinecolor": "#2a3f5f"
            },
            "type": "carpet"
           }
          ],
          "choropleth": [
           {
            "colorbar": {
             "outlinewidth": 0,
             "ticks": ""
            },
            "type": "choropleth"
           }
          ],
          "contour": [
           {
            "colorbar": {
             "outlinewidth": 0,
             "ticks": ""
            },
            "colorscale": [
             [
              0,
              "#0d0887"
             ],
             [
              0.1111111111111111,
              "#46039f"
             ],
             [
              0.2222222222222222,
              "#7201a8"
             ],
             [
              0.3333333333333333,
              "#9c179e"
             ],
             [
              0.4444444444444444,
              "#bd3786"
             ],
             [
              0.5555555555555556,
              "#d8576b"
             ],
             [
              0.6666666666666666,
              "#ed7953"
             ],
             [
              0.7777777777777778,
              "#fb9f3a"
             ],
             [
              0.8888888888888888,
              "#fdca26"
             ],
             [
              1,
              "#f0f921"
             ]
            ],
            "type": "contour"
           }
          ],
          "contourcarpet": [
           {
            "colorbar": {
             "outlinewidth": 0,
             "ticks": ""
            },
            "type": "contourcarpet"
           }
          ],
          "heatmap": [
           {
            "colorbar": {
             "outlinewidth": 0,
             "ticks": ""
            },
            "colorscale": [
             [
              0,
              "#0d0887"
             ],
             [
              0.1111111111111111,
              "#46039f"
             ],
             [
              0.2222222222222222,
              "#7201a8"
             ],
             [
              0.3333333333333333,
              "#9c179e"
             ],
             [
              0.4444444444444444,
              "#bd3786"
             ],
             [
              0.5555555555555556,
              "#d8576b"
             ],
             [
              0.6666666666666666,
              "#ed7953"
             ],
             [
              0.7777777777777778,
              "#fb9f3a"
             ],
             [
              0.8888888888888888,
              "#fdca26"
             ],
             [
              1,
              "#f0f921"
             ]
            ],
            "type": "heatmap"
           }
          ],
          "histogram": [
           {
            "marker": {
             "pattern": {
              "fillmode": "overlay",
              "size": 10,
              "solidity": 0.2
             }
            },
            "type": "histogram"
           }
          ],
          "histogram2d": [
           {
            "colorbar": {
             "outlinewidth": 0,
             "ticks": ""
            },
            "colorscale": [
             [
              0,
              "#0d0887"
             ],
             [
              0.1111111111111111,
              "#46039f"
             ],
             [
              0.2222222222222222,
              "#7201a8"
             ],
             [
              0.3333333333333333,
              "#9c179e"
             ],
             [
              0.4444444444444444,
              "#bd3786"
             ],
             [
              0.5555555555555556,
              "#d8576b"
             ],
             [
              0.6666666666666666,
              "#ed7953"
             ],
             [
              0.7777777777777778,
              "#fb9f3a"
             ],
             [
              0.8888888888888888,
              "#fdca26"
             ],
             [
              1,
              "#f0f921"
             ]
            ],
            "type": "histogram2d"
           }
          ],
          "histogram2dcontour": [
           {
            "colorbar": {
             "outlinewidth": 0,
             "ticks": ""
            },
            "colorscale": [
             [
              0,
              "#0d0887"
             ],
             [
              0.1111111111111111,
              "#46039f"
             ],
             [
              0.2222222222222222,
              "#7201a8"
             ],
             [
              0.3333333333333333,
              "#9c179e"
             ],
             [
              0.4444444444444444,
              "#bd3786"
             ],
             [
              0.5555555555555556,
              "#d8576b"
             ],
             [
              0.6666666666666666,
              "#ed7953"
             ],
             [
              0.7777777777777778,
              "#fb9f3a"
             ],
             [
              0.8888888888888888,
              "#fdca26"
             ],
             [
              1,
              "#f0f921"
             ]
            ],
            "type": "histogram2dcontour"
           }
          ],
          "mesh3d": [
           {
            "colorbar": {
             "outlinewidth": 0,
             "ticks": ""
            },
            "type": "mesh3d"
           }
          ],
          "parcoords": [
           {
            "line": {
             "colorbar": {
              "outlinewidth": 0,
              "ticks": ""
             }
            },
            "type": "parcoords"
           }
          ],
          "pie": [
           {
            "automargin": true,
            "type": "pie"
           }
          ],
          "scatter": [
           {
            "fillpattern": {
             "fillmode": "overlay",
             "size": 10,
             "solidity": 0.2
            },
            "type": "scatter"
           }
          ],
          "scatter3d": [
           {
            "line": {
             "colorbar": {
              "outlinewidth": 0,
              "ticks": ""
             }
            },
            "marker": {
             "colorbar": {
              "outlinewidth": 0,
              "ticks": ""
             }
            },
            "type": "scatter3d"
           }
          ],
          "scattercarpet": [
           {
            "marker": {
             "colorbar": {
              "outlinewidth": 0,
              "ticks": ""
             }
            },
            "type": "scattercarpet"
           }
          ],
          "scattergeo": [
           {
            "marker": {
             "colorbar": {
              "outlinewidth": 0,
              "ticks": ""
             }
            },
            "type": "scattergeo"
           }
          ],
          "scattergl": [
           {
            "marker": {
             "colorbar": {
              "outlinewidth": 0,
              "ticks": ""
             }
            },
            "type": "scattergl"
           }
          ],
          "scattermap": [
           {
            "marker": {
             "colorbar": {
              "outlinewidth": 0,
              "ticks": ""
             }
            },
            "type": "scattermap"
           }
          ],
          "scattermapbox": [
           {
            "marker": {
             "colorbar": {
              "outlinewidth": 0,
              "ticks": ""
             }
            },
            "type": "scattermapbox"
           }
          ],
          "scatterpolar": [
           {
            "marker": {
             "colorbar": {
              "outlinewidth": 0,
              "ticks": ""
             }
            },
            "type": "scatterpolar"
           }
          ],
          "scatterpolargl": [
           {
            "marker": {
             "colorbar": {
              "outlinewidth": 0,
              "ticks": ""
             }
            },
            "type": "scatterpolargl"
           }
          ],
          "scatterternary": [
           {
            "marker": {
             "colorbar": {
              "outlinewidth": 0,
              "ticks": ""
             }
            },
            "type": "scatterternary"
           }
          ],
          "surface": [
           {
            "colorbar": {
             "outlinewidth": 0,
             "ticks": ""
            },
            "colorscale": [
             [
              0,
              "#0d0887"
             ],
             [
              0.1111111111111111,
              "#46039f"
             ],
             [
              0.2222222222222222,
              "#7201a8"
             ],
             [
              0.3333333333333333,
              "#9c179e"
             ],
             [
              0.4444444444444444,
              "#bd3786"
             ],
             [
              0.5555555555555556,
              "#d8576b"
             ],
             [
              0.6666666666666666,
              "#ed7953"
             ],
             [
              0.7777777777777778,
              "#fb9f3a"
             ],
             [
              0.8888888888888888,
              "#fdca26"
             ],
             [
              1,
              "#f0f921"
             ]
            ],
            "type": "surface"
           }
          ],
          "table": [
           {
            "cells": {
             "fill": {
              "color": "#EBF0F8"
             },
             "line": {
              "color": "white"
             }
            },
            "header": {
             "fill": {
              "color": "#C8D4E3"
             },
             "line": {
              "color": "white"
             }
            },
            "type": "table"
           }
          ]
         },
         "layout": {
          "annotationdefaults": {
           "arrowcolor": "#2a3f5f",
           "arrowhead": 0,
           "arrowwidth": 1
          },
          "autotypenumbers": "strict",
          "coloraxis": {
           "colorbar": {
            "outlinewidth": 0,
            "ticks": ""
           }
          },
          "colorscale": {
           "diverging": [
            [
             0,
             "#8e0152"
            ],
            [
             0.1,
             "#c51b7d"
            ],
            [
             0.2,
             "#de77ae"
            ],
            [
             0.3,
             "#f1b6da"
            ],
            [
             0.4,
             "#fde0ef"
            ],
            [
             0.5,
             "#f7f7f7"
            ],
            [
             0.6,
             "#e6f5d0"
            ],
            [
             0.7,
             "#b8e186"
            ],
            [
             0.8,
             "#7fbc41"
            ],
            [
             0.9,
             "#4d9221"
            ],
            [
             1,
             "#276419"
            ]
           ],
           "sequential": [
            [
             0,
             "#0d0887"
            ],
            [
             0.1111111111111111,
             "#46039f"
            ],
            [
             0.2222222222222222,
             "#7201a8"
            ],
            [
             0.3333333333333333,
             "#9c179e"
            ],
            [
             0.4444444444444444,
             "#bd3786"
            ],
            [
             0.5555555555555556,
             "#d8576b"
            ],
            [
             0.6666666666666666,
             "#ed7953"
            ],
            [
             0.7777777777777778,
             "#fb9f3a"
            ],
            [
             0.8888888888888888,
             "#fdca26"
            ],
            [
             1,
             "#f0f921"
            ]
           ],
           "sequentialminus": [
            [
             0,
             "#0d0887"
            ],
            [
             0.1111111111111111,
             "#46039f"
            ],
            [
             0.2222222222222222,
             "#7201a8"
            ],
            [
             0.3333333333333333,
             "#9c179e"
            ],
            [
             0.4444444444444444,
             "#bd3786"
            ],
            [
             0.5555555555555556,
             "#d8576b"
            ],
            [
             0.6666666666666666,
             "#ed7953"
            ],
            [
             0.7777777777777778,
             "#fb9f3a"
            ],
            [
             0.8888888888888888,
             "#fdca26"
            ],
            [
             1,
             "#f0f921"
            ]
           ]
          },
          "colorway": [
           "#636efa",
           "#EF553B",
           "#00cc96",
           "#ab63fa",
           "#FFA15A",
           "#19d3f3",
           "#FF6692",
           "#B6E880",
           "#FF97FF",
           "#FECB52"
          ],
          "font": {
           "color": "#2a3f5f"
          },
          "geo": {
           "bgcolor": "white",
           "lakecolor": "white",
           "landcolor": "white",
           "showlakes": true,
           "showland": true,
           "subunitcolor": "#C8D4E3"
          },
          "hoverlabel": {
           "align": "left"
          },
          "hovermode": "closest",
          "mapbox": {
           "style": "light"
          },
          "paper_bgcolor": "white",
          "plot_bgcolor": "white",
          "polar": {
           "angularaxis": {
            "gridcolor": "#EBF0F8",
            "linecolor": "#EBF0F8",
            "ticks": ""
           },
           "bgcolor": "white",
           "radialaxis": {
            "gridcolor": "#EBF0F8",
            "linecolor": "#EBF0F8",
            "ticks": ""
           }
          },
          "scene": {
           "xaxis": {
            "backgroundcolor": "white",
            "gridcolor": "#DFE8F3",
            "gridwidth": 2,
            "linecolor": "#EBF0F8",
            "showbackground": true,
            "ticks": "",
            "zerolinecolor": "#EBF0F8"
           },
           "yaxis": {
            "backgroundcolor": "white",
            "gridcolor": "#DFE8F3",
            "gridwidth": 2,
            "linecolor": "#EBF0F8",
            "showbackground": true,
            "ticks": "",
            "zerolinecolor": "#EBF0F8"
           },
           "zaxis": {
            "backgroundcolor": "white",
            "gridcolor": "#DFE8F3",
            "gridwidth": 2,
            "linecolor": "#EBF0F8",
            "showbackground": true,
            "ticks": "",
            "zerolinecolor": "#EBF0F8"
           }
          },
          "shapedefaults": {
           "line": {
            "color": "#2a3f5f"
           }
          },
          "ternary": {
           "aaxis": {
            "gridcolor": "#DFE8F3",
            "linecolor": "#A2B1C6",
            "ticks": ""
           },
           "baxis": {
            "gridcolor": "#DFE8F3",
            "linecolor": "#A2B1C6",
            "ticks": ""
           },
           "bgcolor": "white",
           "caxis": {
            "gridcolor": "#DFE8F3",
            "linecolor": "#A2B1C6",
            "ticks": ""
           }
          },
          "title": {
           "x": 0.05
          },
          "xaxis": {
           "automargin": true,
           "gridcolor": "#EBF0F8",
           "linecolor": "#EBF0F8",
           "ticks": "",
           "title": {
            "standoff": 15
           },
           "zerolinecolor": "#EBF0F8",
           "zerolinewidth": 2
          },
          "yaxis": {
           "automargin": true,
           "gridcolor": "#EBF0F8",
           "linecolor": "#EBF0F8",
           "ticks": "",
           "title": {
            "standoff": 15
           },
           "zerolinecolor": "#EBF0F8",
           "zerolinewidth": 2
          }
         }
        },
        "title": {
         "font": {
          "color": "Black",
          "size": 22
         },
         "text": "<b>Hierarchical Clustering</b>",
         "x": 0.5,
         "xanchor": "center",
         "yanchor": "top"
        },
        "width": 1000,
        "xaxis": {
         "mirror": "allticks",
         "rangemode": "tozero",
         "showgrid": false,
         "showline": true,
         "showticklabels": true,
         "ticks": "outside",
         "type": "linear",
         "zeroline": false
        },
        "yaxis": {
         "mirror": "allticks",
         "range": [
          -580,
          0
         ],
         "rangemode": "tozero",
         "showgrid": false,
         "showline": true,
         "showticklabels": true,
         "tickmode": "array",
         "ticks": "outside",
         "ticktext": [
          "47_me_jurídico_negócio",
          "23_fiscal_nota_documento",
          "32_contador_propor_documentos",
          "41_prisão_liberais_ceplemg",
          "40_extrajudicial_título_pro...",
          "21_crédito_cessão_valor",
          "34_credor_microempresa_exti...",
          "54_citado_réu_intimado",
          "46_propor_juizado_nesse",
          "43_juizado_099_95",
          "29_qualificação_juizado_esp...",
          "27_porte_juizado_pequeno",
          "39_juizado_especial_porte",
          "37_epp_critérios_enquadrava",
          "50_inviabilidade_gratuidade...",
          "1_justiça_gratuita_hipossuf...",
          "56_depósito_recursal_custas",
          "13_depósito_recursal_metade",
          "12_recurso_interposto_ordin...",
          "30_diligências_executórias_...",
          "26_diligências_débito_execu...",
          "36_pena_semiaberto_regime",
          "19_prisão_preventiva_paciente",
          "52_crime_ministério_autoria",
          "24_conselho_crmv_animais",
          "38_alimentos_provisórios_mí...",
          "57_doação_eleitoral_doações",
          "53_embargos_omissão_declara...",
          "55_citação_endereço_entregue",
          "11_licitação_edital_licitat...",
          "22_alvará_funcionamento_mun...",
          "2_taxas_complementar_taxa",
          "51_proporcional_cobrança_tipo",
          "15_juros_capitalização_banco",
          "8_personalidade_jurídica_de...",
          "35_833_bens_exercício",
          "42_valores_impenhoráveis_pe...",
          "25_icms_cobrança_difal",
          "4_nacional_simples_regime",
          "45_ciacaps_atualizacao_capa...",
          "17_plano_saúde_operadora",
          "33_linha_telefonia_operadora",
          "6_conta_danos_morais",
          "7_nome_danos_morais",
          "3_jucesp_registro_junta",
          "0_trabalhador_vínculo_verbas",
          "44_00_000_autor",
          "28_acidente_danos_cessantes",
          "5_desemprego_seguro_renda",
          "16_emergencial_auxílio_fami...",
          "18_deficiência_assistencial...",
          "48_benefício_inss_deficiência",
          "20_falecido_morte_pensão",
          "31_segurada_facultativa_baixa",
          "10_incapacidade_doença_auxí...",
          "14_maternidade_salário_inss",
          "9_tempo_aposentadoria_contr...",
          "49_rural_idade_aposentadoria"
         ],
         "tickvals": [
          -5,
          -15,
          -25,
          -35,
          -45,
          -55,
          -65,
          -75,
          -85,
          -95,
          -105,
          -115,
          -125,
          -135,
          -145,
          -155,
          -165,
          -175,
          -185,
          -195,
          -205,
          -215,
          -225,
          -235,
          -245,
          -255,
          -265,
          -275,
          -285,
          -295,
          -305,
          -315,
          -325,
          -335,
          -345,
          -355,
          -365,
          -375,
          -385,
          -395,
          -405,
          -415,
          -425,
          -435,
          -445,
          -455,
          -465,
          -475,
          -485,
          -495,
          -505,
          -515,
          -525,
          -535,
          -545,
          -555,
          -565,
          -575
         ],
         "type": "linear",
         "zeroline": false
        }
       }
      }
     },
     "metadata": {},
     "output_type": "display_data"
    }
   ],
   "source": [
    "topic_model.visualize_hierarchy()"
   ]
  },
  {
   "cell_type": "code",
   "execution_count": 14,
   "id": "280ac3b1-5491-4c30-9af7-235bd3c248a8",
   "metadata": {},
   "outputs": [
    {
     "data": {
      "text/html": [
       "<div>\n",
       "<style scoped>\n",
       "    .dataframe tbody tr th:only-of-type {\n",
       "        vertical-align: middle;\n",
       "    }\n",
       "\n",
       "    .dataframe tbody tr th {\n",
       "        vertical-align: top;\n",
       "    }\n",
       "\n",
       "    .dataframe thead th {\n",
       "        text-align: right;\n",
       "    }\n",
       "</style>\n",
       "<table border=\"1\" class=\"dataframe\">\n",
       "  <thead>\n",
       "    <tr style=\"text-align: right;\">\n",
       "      <th></th>\n",
       "      <th>Topic</th>\n",
       "      <th>Count</th>\n",
       "      <th>Name</th>\n",
       "      <th>CustomName</th>\n",
       "      <th>Representation</th>\n",
       "      <th>Representative_Docs</th>\n",
       "    </tr>\n",
       "  </thead>\n",
       "  <tbody>\n",
       "    <tr>\n",
       "      <th>0</th>\n",
       "      <td>-1</td>\n",
       "      <td>3776</td>\n",
       "      <td>-1_de_foi_do_se</td>\n",
       "      <td>Tópico indefinido</td>\n",
       "      <td>[de, foi, do, se, da, uma, que, para, um, mei]</td>\n",
       "      <td>[Uma microempresa (MEI) entrou com um recurso ...</td>\n",
       "    </tr>\n",
       "    <tr>\n",
       "      <th>1</th>\n",
       "      <td>0</td>\n",
       "      <td>2733</td>\n",
       "      <td>0_trabalhador_vínculo_verbas_empregatício</td>\n",
       "      <td>Vínculo Empregatício</td>\n",
       "      <td>[trabalhador, vínculo, verbas, empregatício, t...</td>\n",
       "      <td>[Um trabalhador entrou com uma reclamação trab...</td>\n",
       "    </tr>\n",
       "    <tr>\n",
       "      <th>2</th>\n",
       "      <td>1</td>\n",
       "      <td>999</td>\n",
       "      <td>1_justiça_gratuita_hipossuficiência_financeira</td>\n",
       "      <td>Justiça Gratuita</td>\n",
       "      <td>[justiça, gratuita, hipossuficiência, financei...</td>\n",
       "      <td>[Um microempreendedor individual (MEI) entrou ...</td>\n",
       "    </tr>\n",
       "    <tr>\n",
       "      <th>3</th>\n",
       "      <td>2</td>\n",
       "      <td>457</td>\n",
       "      <td>2_taxas_complementar_taxa_lei</td>\n",
       "      <td>Isenção de Taxas para MEIs</td>\n",
       "      <td>[taxas, complementar, taxa, lei, isenção, muni...</td>\n",
       "      <td>[Um MEI (Microempreendedor Individual) entrou ...</td>\n",
       "    </tr>\n",
       "    <tr>\n",
       "      <th>4</th>\n",
       "      <td>3</td>\n",
       "      <td>363</td>\n",
       "      <td>3_jucesp_registro_junta_comercial</td>\n",
       "      <td>Fraude Empresarial</td>\n",
       "      <td>[jucesp, registro, junta, comercial, estado, f...</td>\n",
       "      <td>[Um indivíduo ajuizou uma ação declaratória de...</td>\n",
       "    </tr>\n",
       "    <tr>\n",
       "      <th>5</th>\n",
       "      <td>4</td>\n",
       "      <td>340</td>\n",
       "      <td>4_nacional_simples_regime_adesão</td>\n",
       "      <td>Adeção ao Simples Nacional</td>\n",
       "      <td>[nacional, simples, regime, adesão, tributário...</td>\n",
       "      <td>[A J &amp; E Aguiar Serviços e Equipamentos Ltda -...</td>\n",
       "    </tr>\n",
       "    <tr>\n",
       "      <th>6</th>\n",
       "      <td>5</td>\n",
       "      <td>275</td>\n",
       "      <td>5_desemprego_seguro_renda_união</td>\n",
       "      <td>Seguro-Desemprego e Renda</td>\n",
       "      <td>[desemprego, seguro, renda, união, própria, be...</td>\n",
       "      <td>[Um MEI entrou com um recurso contra uma sente...</td>\n",
       "    </tr>\n",
       "    <tr>\n",
       "      <th>7</th>\n",
       "      <td>6</td>\n",
       "      <td>213</td>\n",
       "      <td>6_conta_danos_morais_valores</td>\n",
       "      <td>Problemas Bancários</td>\n",
       "      <td>[conta, danos, morais, valores, banco, indeniz...</td>\n",
       "      <td>[Um microempreendedor individual do ramo de ve...</td>\n",
       "    </tr>\n",
       "    <tr>\n",
       "      <th>8</th>\n",
       "      <td>7</td>\n",
       "      <td>203</td>\n",
       "      <td>7_nome_danos_morais_seu</td>\n",
       "      <td>Negativação Indevida</td>\n",
       "      <td>[nome, danos, morais, seu, indenização, inadim...</td>\n",
       "      <td>[Um profissional autônomo ajuizou uma ação con...</td>\n",
       "    </tr>\n",
       "    <tr>\n",
       "      <th>9</th>\n",
       "      <td>8</td>\n",
       "      <td>203</td>\n",
       "      <td>8_personalidade_jurídica_desconsideração_bens</td>\n",
       "      <td>Confusão Patrimonial</td>\n",
       "      <td>[personalidade, jurídica, desconsideração, ben...</td>\n",
       "      <td>[Um empresário individual, que é um MEI, teve ...</td>\n",
       "    </tr>\n",
       "    <tr>\n",
       "      <th>10</th>\n",
       "      <td>9</td>\n",
       "      <td>202</td>\n",
       "      <td>9_tempo_aposentadoria_contribuição_períodos</td>\n",
       "      <td>Contribuições e Aposentadoria</td>\n",
       "      <td>[tempo, aposentadoria, contribuição, períodos,...</td>\n",
       "      <td>[Um contribuinte individual entrou com um pedi...</td>\n",
       "    </tr>\n",
       "    <tr>\n",
       "      <th>11</th>\n",
       "      <td>10</td>\n",
       "      <td>179</td>\n",
       "      <td>10_incapacidade_doença_auxílio_segurado</td>\n",
       "      <td>Benefícios Previdenciários</td>\n",
       "      <td>[incapacidade, doença, auxílio, segurado, bene...</td>\n",
       "      <td>[Uma pessoa entrou com uma ação contra o Insti...</td>\n",
       "    </tr>\n",
       "    <tr>\n",
       "      <th>12</th>\n",
       "      <td>11</td>\n",
       "      <td>133</td>\n",
       "      <td>11_licitação_edital_licitatório_pregão</td>\n",
       "      <td>Irregularidades em Licitações</td>\n",
       "      <td>[licitação, edital, licitatório, pregão, certa...</td>\n",
       "      <td>[A Prefeitura Municipal de Desterro do Melo pu...</td>\n",
       "    </tr>\n",
       "    <tr>\n",
       "      <th>13</th>\n",
       "      <td>12</td>\n",
       "      <td>107</td>\n",
       "      <td>12_recurso_interposto_ordinário_parte</td>\n",
       "      <td>Recursos Trabalhistas</td>\n",
       "      <td>[recurso, interposto, ordinário, parte, depósi...</td>\n",
       "      <td>[Trata-se de um processo em que a parte reclam...</td>\n",
       "    </tr>\n",
       "    <tr>\n",
       "      <th>14</th>\n",
       "      <td>13</td>\n",
       "      <td>93</td>\n",
       "      <td>13_depósito_recursal_metade_redução</td>\n",
       "      <td>Redução de Depósito Recursal</td>\n",
       "      <td>[depósito, recursal, metade, redução, valor, 8...</td>\n",
       "      <td>[Uma empresa de pequeno porte entrou com um re...</td>\n",
       "    </tr>\n",
       "    <tr>\n",
       "      <th>15</th>\n",
       "      <td>14</td>\n",
       "      <td>91</td>\n",
       "      <td>14_maternidade_salário_inss_benefício</td>\n",
       "      <td>Salário-Maternidade INSS</td>\n",
       "      <td>[maternidade, salário, inss, benefício, mulher...</td>\n",
       "      <td>[Uma mulher, que trabalha como costureira e é ...</td>\n",
       "    </tr>\n",
       "    <tr>\n",
       "      <th>16</th>\n",
       "      <td>15</td>\n",
       "      <td>87</td>\n",
       "      <td>15_juros_capitalização_banco_bndes</td>\n",
       "      <td>Juros e Cobrança</td>\n",
       "      <td>[juros, capitalização, banco, bndes, comissão,...</td>\n",
       "      <td>[O caso envolveu uma ação de revisão de cláusu...</td>\n",
       "    </tr>\n",
       "    <tr>\n",
       "      <th>17</th>\n",
       "      <td>16</td>\n",
       "      <td>81</td>\n",
       "      <td>16_emergencial_auxílio_familiar_união</td>\n",
       "      <td>Auxílio Emergencial</td>\n",
       "      <td>[emergencial, auxílio, familiar, união, recebe...</td>\n",
       "      <td>[Uma pessoa entrou com um recurso contra uma s...</td>\n",
       "    </tr>\n",
       "    <tr>\n",
       "      <th>18</th>\n",
       "      <td>17</td>\n",
       "      <td>79</td>\n",
       "      <td>17_plano_saúde_operadora_contrato</td>\n",
       "      <td>Problemas com Planos de Saúde</td>\n",
       "      <td>[plano, saúde, operadora, contrato, cancelamen...</td>\n",
       "      <td>[Um microempreendedor individual (MEI) e sua e...</td>\n",
       "    </tr>\n",
       "    <tr>\n",
       "      <th>19</th>\n",
       "      <td>18</td>\n",
       "      <td>74</td>\n",
       "      <td>18_deficiência_assistencial_benefício_família</td>\n",
       "      <td>Benefícios para Deficientes</td>\n",
       "      <td>[deficiência, assistencial, benefício, família...</td>\n",
       "      <td>[Uma pessoa entrou com um recurso contra uma d...</td>\n",
       "    </tr>\n",
       "    <tr>\n",
       "      <th>20</th>\n",
       "      <td>19</td>\n",
       "      <td>67</td>\n",
       "      <td>19_prisão_preventiva_paciente_preso</td>\n",
       "      <td>Liberdade Provisória</td>\n",
       "      <td>[prisão, preventiva, paciente, preso, habeas, ...</td>\n",
       "      <td>[Um advogado impetrou um habeas corpus em favo...</td>\n",
       "    </tr>\n",
       "    <tr>\n",
       "      <th>21</th>\n",
       "      <td>20</td>\n",
       "      <td>58</td>\n",
       "      <td>20_falecido_morte_pensão_óbito</td>\n",
       "      <td>Pensão por Morte</td>\n",
       "      <td>[falecido, morte, pensão, óbito, segurado, qua...</td>\n",
       "      <td>[Uma pessoa entrou com uma ação previdenciária...</td>\n",
       "    </tr>\n",
       "    <tr>\n",
       "      <th>22</th>\n",
       "      <td>21</td>\n",
       "      <td>53</td>\n",
       "      <td>21_crédito_cessão_valor_instituição</td>\n",
       "      <td>Cobrança de Dívidas Escolares</td>\n",
       "      <td>[crédito, cessão, valor, instituição, escolare...</td>\n",
       "      <td>[Um microempreendedor individual (MEI) entrou ...</td>\n",
       "    </tr>\n",
       "    <tr>\n",
       "      <th>23</th>\n",
       "      <td>22</td>\n",
       "      <td>52</td>\n",
       "      <td>22_alvará_funcionamento_municipal_licença</td>\n",
       "      <td>Licenciamento MEI</td>\n",
       "      <td>[alvará, funcionamento, municipal, licença, es...</td>\n",
       "      <td>[Uma pessoa entrou com um mandado de segurança...</td>\n",
       "    </tr>\n",
       "    <tr>\n",
       "      <th>24</th>\n",
       "      <td>23</td>\n",
       "      <td>49</td>\n",
       "      <td>23_fiscal_nota_documento_negócio</td>\n",
       "      <td>Documentação Judicial</td>\n",
       "      <td>[fiscal, nota, documento, negócio, jurídico, a...</td>\n",
       "      <td>[Uma microempresa (ME) ajuizou uma ação de cob...</td>\n",
       "    </tr>\n",
       "    <tr>\n",
       "      <th>25</th>\n",
       "      <td>24</td>\n",
       "      <td>49</td>\n",
       "      <td>24_conselho_crmv_animais_medicina</td>\n",
       "      <td>Registro Veterinário</td>\n",
       "      <td>[conselho, crmv, animais, medicina, veterinári...</td>\n",
       "      <td>[Uma pessoa jurídica entrou com um processo pe...</td>\n",
       "    </tr>\n",
       "    <tr>\n",
       "      <th>26</th>\n",
       "      <td>25</td>\n",
       "      <td>47</td>\n",
       "      <td>25_icms_cobrança_difal_estadual</td>\n",
       "      <td>Cobrança de ICMS DIFAL</td>\n",
       "      <td>[icms, cobrança, difal, estadual, simples, dif...</td>\n",
       "      <td>[Uma empresa MEI (Microempreendedor Individual...</td>\n",
       "    </tr>\n",
       "    <tr>\n",
       "      <th>27</th>\n",
       "      <td>26</td>\n",
       "      <td>46</td>\n",
       "      <td>26_diligências_débito_executórias_confusão</td>\n",
       "      <td>Cobrança de Débitos</td>\n",
       "      <td>[diligências, débito, executórias, confusão, p...</td>\n",
       "      <td>[Um trabalhador entrou com uma reclamação trab...</td>\n",
       "    </tr>\n",
       "    <tr>\n",
       "      <th>28</th>\n",
       "      <td>27</td>\n",
       "      <td>46</td>\n",
       "      <td>27_porte_juizado_pequeno_especial</td>\n",
       "      <td>Competência Juizados Especiais</td>\n",
       "      <td>[porte, juizado, pequeno, especial, microempre...</td>\n",
       "      <td>[Uma empresa entrou com uma ação de cobrança c...</td>\n",
       "    </tr>\n",
       "    <tr>\n",
       "      <th>29</th>\n",
       "      <td>28</td>\n",
       "      <td>36</td>\n",
       "      <td>28_acidente_danos_cessantes_lucros</td>\n",
       "      <td>Acidentes de Trânsito</td>\n",
       "      <td>[acidente, danos, cessantes, lucros, materiais...</td>\n",
       "      <td>[Um microempreendedor individual (MEI) entrou ...</td>\n",
       "    </tr>\n",
       "    <tr>\n",
       "      <th>30</th>\n",
       "      <td>29</td>\n",
       "      <td>36</td>\n",
       "      <td>29_qualificação_juizado_especial_tributária</td>\n",
       "      <td>Legitimidade Judicial</td>\n",
       "      <td>[qualificação, juizado, especial, tributária, ...</td>\n",
       "      <td>[Um MEI entrou com uma ação de cobrança contra...</td>\n",
       "    </tr>\n",
       "    <tr>\n",
       "      <th>31</th>\n",
       "      <td>30</td>\n",
       "      <td>35</td>\n",
       "      <td>30_diligências_executórias_débito_expropriatórias</td>\n",
       "      <td>Cobrança de Débitos</td>\n",
       "      <td>[diligências, executórias, débito, expropriató...</td>\n",
       "      <td>[O processo envolve uma reclamação trabalhista...</td>\n",
       "    </tr>\n",
       "    <tr>\n",
       "      <th>32</th>\n",
       "      <td>31</td>\n",
       "      <td>35</td>\n",
       "      <td>31_segurada_facultativa_baixa_renda</td>\n",
       "      <td>Classificação de Segurados</td>\n",
       "      <td>[segurada, facultativa, baixa, renda, autora, ...</td>\n",
       "      <td>[Uma pessoa entrou com um pedido de auxílio-do...</td>\n",
       "    </tr>\n",
       "    <tr>\n",
       "      <th>33</th>\n",
       "      <td>32</td>\n",
       "      <td>34</td>\n",
       "      <td>32_contador_propor_documentos_nota</td>\n",
       "      <td>Documentação Judicial</td>\n",
       "      <td>[contador, propor, documentos, nota, juizados,...</td>\n",
       "      <td>[Um MEI tentou propor uma ação judicial, mas n...</td>\n",
       "    </tr>\n",
       "    <tr>\n",
       "      <th>34</th>\n",
       "      <td>33</td>\n",
       "      <td>31</td>\n",
       "      <td>33_linha_telefonia_operadora_danos</td>\n",
       "      <td>Problemas com Operadoras de Telefonia</td>\n",
       "      <td>[linha, telefonia, operadora, danos, morais, e...</td>\n",
       "      <td>[Um MEI entrou com uma ação contra uma empresa...</td>\n",
       "    </tr>\n",
       "    <tr>\n",
       "      <th>35</th>\n",
       "      <td>34</td>\n",
       "      <td>30</td>\n",
       "      <td>34_credor_microempresa_extinção_cessionário</td>\n",
       "      <td>Legitimidade em Execuções</td>\n",
       "      <td>[credor, microempresa, extinção, cessionário, ...</td>\n",
       "      <td>[Um credor, que alegava ser titular de uma mic...</td>\n",
       "    </tr>\n",
       "    <tr>\n",
       "      <th>36</th>\n",
       "      <td>35</td>\n",
       "      <td>30</td>\n",
       "      <td>35_833_bens_exercício_impenhorabilidade</td>\n",
       "      <td>Impenhorabilidade de Bens Profissionais</td>\n",
       "      <td>[833, bens, exercício, impenhorabilidade, veíc...</td>\n",
       "      <td>[Um agravo de petição foi apresentado question...</td>\n",
       "    </tr>\n",
       "    <tr>\n",
       "      <th>37</th>\n",
       "      <td>36</td>\n",
       "      <td>27</td>\n",
       "      <td>36_pena_semiaberto_regime_apenado</td>\n",
       "      <td>Trabalho Externo em Regime Semiaberto</td>\n",
       "      <td>[pena, semiaberto, regime, apenado, externo, c...</td>\n",
       "      <td>[Um indivíduo chamado Antônio Neil Armstrong F...</td>\n",
       "    </tr>\n",
       "    <tr>\n",
       "      <th>38</th>\n",
       "      <td>37</td>\n",
       "      <td>25</td>\n",
       "      <td>37_epp_critérios_enquadrava_nos</td>\n",
       "      <td>Enquadramento Judicial</td>\n",
       "      <td>[epp, critérios, enquadrava, nos, cível, parte...</td>\n",
       "      <td>[A parte autora entrou com uma ação de obrigaç...</td>\n",
       "    </tr>\n",
       "    <tr>\n",
       "      <th>39</th>\n",
       "      <td>38</td>\n",
       "      <td>24</td>\n",
       "      <td>38_alimentos_provisórios_mínimo_pai</td>\n",
       "      <td>Redução de Alimentos</td>\n",
       "      <td>[alimentos, provisórios, mínimo, pai, filha, v...</td>\n",
       "      <td>[Um pai entrou com um agravo de instrumento co...</td>\n",
       "    </tr>\n",
       "    <tr>\n",
       "      <th>40</th>\n",
       "      <td>39</td>\n",
       "      <td>23</td>\n",
       "      <td>39_juizado_especial_porte_pequeno</td>\n",
       "      <td>Legitimidade nos Juizados Especiais</td>\n",
       "      <td>[juizado, especial, porte, pequeno, ltda, empr...</td>\n",
       "      <td>[Duas pessoas, incluindo uma empresa chamada R...</td>\n",
       "    </tr>\n",
       "    <tr>\n",
       "      <th>41</th>\n",
       "      <td>40</td>\n",
       "      <td>18</td>\n",
       "      <td>40_extrajudicial_título_protesto_execução</td>\n",
       "      <td>Execução de Títulos</td>\n",
       "      <td>[extrajudicial, título, protesto, execução, in...</td>\n",
       "      <td>[Um MEI (Microempreendedor Individual) entrou ...</td>\n",
       "    </tr>\n",
       "    <tr>\n",
       "      <th>42</th>\n",
       "      <td>41</td>\n",
       "      <td>18</td>\n",
       "      <td>41_prisão_liberais_ceplemg_preso</td>\n",
       "      <td>Prisão em Processos</td>\n",
       "      <td>[prisão, liberais, ceplemg, preso, convênio, p...</td>\n",
       "      <td>[Um MEI, sob o nome fantasia de CEPLEMG CONVÊN...</td>\n",
       "    </tr>\n",
       "    <tr>\n",
       "      <th>43</th>\n",
       "      <td>42</td>\n",
       "      <td>18</td>\n",
       "      <td>42_valores_impenhoráveis_penhora_conta</td>\n",
       "      <td>Impenhorabilidade de Valores</td>\n",
       "      <td>[valores, impenhoráveis, penhora, conta, bloqu...</td>\n",
       "      <td>[Um microempreendedor individual (MEI) entrou ...</td>\n",
       "    </tr>\n",
       "    <tr>\n",
       "      <th>44</th>\n",
       "      <td>43</td>\n",
       "      <td>17</td>\n",
       "      <td>43_juizado_099_95_especial</td>\n",
       "      <td>Competência Juizado Especial</td>\n",
       "      <td>[juizado, 099, 95, especial, sociedades, oscip...</td>\n",
       "      <td>[Uma empresa entrou com um processo no Juizado...</td>\n",
       "    </tr>\n",
       "    <tr>\n",
       "      <th>45</th>\n",
       "      <td>44</td>\n",
       "      <td>16</td>\n",
       "      <td>44_00_000_autor_serviço</td>\n",
       "      <td>Pagamentos de Serviços</td>\n",
       "      <td>[00, 000, autor, serviço, pagou, valor, serviç...</td>\n",
       "      <td>[Um MEI ajuizou ação contra um condomínio aleg...</td>\n",
       "    </tr>\n",
       "    <tr>\n",
       "      <th>46</th>\n",
       "      <td>45</td>\n",
       "      <td>15</td>\n",
       "      <td>45_ciacaps_atualizacao_capacitacao_integrado</td>\n",
       "      <td>Legitimidade Judicial</td>\n",
       "      <td>[ciacaps, atualizacao, capacitacao, integrado,...</td>\n",
       "      <td>[A empresa CIACAPS - CENTRO INTEGRADO DE ATUAL...</td>\n",
       "    </tr>\n",
       "    <tr>\n",
       "      <th>47</th>\n",
       "      <td>46</td>\n",
       "      <td>15</td>\n",
       "      <td>46_propor_juizado_nesse_ações</td>\n",
       "      <td>Legitimidade no Juizado Especial</td>\n",
       "      <td>[propor, juizado, nesse, ações, lei, autorizad...</td>\n",
       "      <td>[Uma pessoa jurídica entrou com uma ação de co...</td>\n",
       "    </tr>\n",
       "    <tr>\n",
       "      <th>48</th>\n",
       "      <td>47</td>\n",
       "      <td>15</td>\n",
       "      <td>47_me_jurídico_negócio_instituição</td>\n",
       "      <td>Cobrança sem Nota Fiscal</td>\n",
       "      <td>[me, jurídico, negócio, instituição, nota, con...</td>\n",
       "      <td>[Uma microempresa (ME) entrou com uma ação de ...</td>\n",
       "    </tr>\n",
       "    <tr>\n",
       "      <th>49</th>\n",
       "      <td>48</td>\n",
       "      <td>14</td>\n",
       "      <td>48_benefício_inss_deficiência_assistencial</td>\n",
       "      <td>Benefícios Assistenciais</td>\n",
       "      <td>[benefício, inss, deficiência, assistencial, m...</td>\n",
       "      <td>[O autor entrou com uma ação pedindo a concess...</td>\n",
       "    </tr>\n",
       "    <tr>\n",
       "      <th>50</th>\n",
       "      <td>49</td>\n",
       "      <td>13</td>\n",
       "      <td>49_rural_idade_aposentadoria_inss</td>\n",
       "      <td>Aposentadoria Rural</td>\n",
       "      <td>[rural, idade, aposentadoria, inss, agricultur...</td>\n",
       "      <td>[Um trabalhador rural entrou com um pedido de ...</td>\n",
       "    </tr>\n",
       "    <tr>\n",
       "      <th>51</th>\n",
       "      <td>50</td>\n",
       "      <td>13</td>\n",
       "      <td>50_inviabilidade_gratuidade_financeira_movimen...</td>\n",
       "      <td>Gratuidade Financeira</td>\n",
       "      <td>[inviabilidade, gratuidade, financeira, movime...</td>\n",
       "      <td>[Um processo pediu a gratuidade de justiça par...</td>\n",
       "    </tr>\n",
       "    <tr>\n",
       "      <th>52</th>\n",
       "      <td>51</td>\n",
       "      <td>13</td>\n",
       "      <td>51_proporcional_cobrança_tipo_previstas</td>\n",
       "      <td>Cobrança Indevida</td>\n",
       "      <td>[proporcional, cobrança, tipo, previstas, lega...</td>\n",
       "      <td>[Um MEI entrou com uma ação contra o município...</td>\n",
       "    </tr>\n",
       "    <tr>\n",
       "      <th>53</th>\n",
       "      <td>52</td>\n",
       "      <td>12</td>\n",
       "      <td>52_crime_ministério_autoria_público</td>\n",
       "      <td>Crimes e Provas</td>\n",
       "      <td>[crime, ministério, autoria, público, provas, ...</td>\n",
       "      <td>[O Ministério Público do Estado do Rio de Jane...</td>\n",
       "    </tr>\n",
       "    <tr>\n",
       "      <th>54</th>\n",
       "      <td>53</td>\n",
       "      <td>12</td>\n",
       "      <td>53_embargos_omissão_declaração_acórdão</td>\n",
       "      <td>Embargos de Declaração</td>\n",
       "      <td>[embargos, omissão, declaração, acórdão, contr...</td>\n",
       "      <td>[O caso trata de embargos de declaração interp...</td>\n",
       "    </tr>\n",
       "    <tr>\n",
       "      <th>55</th>\n",
       "      <td>54</td>\n",
       "      <td>12</td>\n",
       "      <td>54_citado_réu_intimado_compareceu</td>\n",
       "      <td>Dívida e Conciliação</td>\n",
       "      <td>[citado, réu, intimado, compareceu, audiência,...</td>\n",
       "      <td>[Um Microempreendedor Individual (MEI) entrou ...</td>\n",
       "    </tr>\n",
       "    <tr>\n",
       "      <th>56</th>\n",
       "      <td>55</td>\n",
       "      <td>12</td>\n",
       "      <td>55_citação_endereço_entregue_postal</td>\n",
       "      <td>Citação Válida</td>\n",
       "      <td>[citação, endereço, entregue, postal, válida, ...</td>\n",
       "      <td>[Um Empresário Individual (EI) entrou com uma ...</td>\n",
       "    </tr>\n",
       "    <tr>\n",
       "      <th>57</th>\n",
       "      <td>56</td>\n",
       "      <td>11</td>\n",
       "      <td>56_depósito_recursal_custas_ordinário</td>\n",
       "      <td>Justiça Gratuita para Recursos</td>\n",
       "      <td>[depósito, recursal, custas, ordinário, recurs...</td>\n",
       "      <td>[Duas empresas, uma MEI e outra representada p...</td>\n",
       "    </tr>\n",
       "    <tr>\n",
       "      <th>58</th>\n",
       "      <td>57</td>\n",
       "      <td>10</td>\n",
       "      <td>57_doação_eleitoral_doações_limite</td>\n",
       "      <td>Doações Eleitorais</td>\n",
       "      <td>[doação, eleitoral, doações, limite, acima, ca...</td>\n",
       "      <td>[O Ministério Público Eleitoral recorreu contr...</td>\n",
       "    </tr>\n",
       "  </tbody>\n",
       "</table>\n",
       "</div>"
      ],
      "text/plain": [
       "    Topic  Count                                               Name  \\\n",
       "0      -1   3776                                    -1_de_foi_do_se   \n",
       "1       0   2733          0_trabalhador_vínculo_verbas_empregatício   \n",
       "2       1    999     1_justiça_gratuita_hipossuficiência_financeira   \n",
       "3       2    457                      2_taxas_complementar_taxa_lei   \n",
       "4       3    363                  3_jucesp_registro_junta_comercial   \n",
       "5       4    340                   4_nacional_simples_regime_adesão   \n",
       "6       5    275                    5_desemprego_seguro_renda_união   \n",
       "7       6    213                       6_conta_danos_morais_valores   \n",
       "8       7    203                            7_nome_danos_morais_seu   \n",
       "9       8    203      8_personalidade_jurídica_desconsideração_bens   \n",
       "10      9    202        9_tempo_aposentadoria_contribuição_períodos   \n",
       "11     10    179            10_incapacidade_doença_auxílio_segurado   \n",
       "12     11    133             11_licitação_edital_licitatório_pregão   \n",
       "13     12    107              12_recurso_interposto_ordinário_parte   \n",
       "14     13     93                13_depósito_recursal_metade_redução   \n",
       "15     14     91              14_maternidade_salário_inss_benefício   \n",
       "16     15     87                 15_juros_capitalização_banco_bndes   \n",
       "17     16     81              16_emergencial_auxílio_familiar_união   \n",
       "18     17     79                  17_plano_saúde_operadora_contrato   \n",
       "19     18     74      18_deficiência_assistencial_benefício_família   \n",
       "20     19     67                19_prisão_preventiva_paciente_preso   \n",
       "21     20     58                     20_falecido_morte_pensão_óbito   \n",
       "22     21     53                21_crédito_cessão_valor_instituição   \n",
       "23     22     52          22_alvará_funcionamento_municipal_licença   \n",
       "24     23     49                   23_fiscal_nota_documento_negócio   \n",
       "25     24     49                  24_conselho_crmv_animais_medicina   \n",
       "26     25     47                    25_icms_cobrança_difal_estadual   \n",
       "27     26     46         26_diligências_débito_executórias_confusão   \n",
       "28     27     46                  27_porte_juizado_pequeno_especial   \n",
       "29     28     36                 28_acidente_danos_cessantes_lucros   \n",
       "30     29     36        29_qualificação_juizado_especial_tributária   \n",
       "31     30     35  30_diligências_executórias_débito_expropriatórias   \n",
       "32     31     35                31_segurada_facultativa_baixa_renda   \n",
       "33     32     34                 32_contador_propor_documentos_nota   \n",
       "34     33     31                 33_linha_telefonia_operadora_danos   \n",
       "35     34     30        34_credor_microempresa_extinção_cessionário   \n",
       "36     35     30            35_833_bens_exercício_impenhorabilidade   \n",
       "37     36     27                  36_pena_semiaberto_regime_apenado   \n",
       "38     37     25                    37_epp_critérios_enquadrava_nos   \n",
       "39     38     24                38_alimentos_provisórios_mínimo_pai   \n",
       "40     39     23                  39_juizado_especial_porte_pequeno   \n",
       "41     40     18          40_extrajudicial_título_protesto_execução   \n",
       "42     41     18                   41_prisão_liberais_ceplemg_preso   \n",
       "43     42     18             42_valores_impenhoráveis_penhora_conta   \n",
       "44     43     17                         43_juizado_099_95_especial   \n",
       "45     44     16                            44_00_000_autor_serviço   \n",
       "46     45     15       45_ciacaps_atualizacao_capacitacao_integrado   \n",
       "47     46     15                      46_propor_juizado_nesse_ações   \n",
       "48     47     15                 47_me_jurídico_negócio_instituição   \n",
       "49     48     14         48_benefício_inss_deficiência_assistencial   \n",
       "50     49     13                  49_rural_idade_aposentadoria_inss   \n",
       "51     50     13  50_inviabilidade_gratuidade_financeira_movimen...   \n",
       "52     51     13            51_proporcional_cobrança_tipo_previstas   \n",
       "53     52     12                52_crime_ministério_autoria_público   \n",
       "54     53     12             53_embargos_omissão_declaração_acórdão   \n",
       "55     54     12                  54_citado_réu_intimado_compareceu   \n",
       "56     55     12                55_citação_endereço_entregue_postal   \n",
       "57     56     11              56_depósito_recursal_custas_ordinário   \n",
       "58     57     10                 57_doação_eleitoral_doações_limite   \n",
       "\n",
       "                                 CustomName  \\\n",
       "0                         Tópico indefinido   \n",
       "1                      Vínculo Empregatício   \n",
       "2                          Justiça Gratuita   \n",
       "3                Isenção de Taxas para MEIs   \n",
       "4                        Fraude Empresarial   \n",
       "5                Adeção ao Simples Nacional   \n",
       "6                 Seguro-Desemprego e Renda   \n",
       "7                       Problemas Bancários   \n",
       "8                      Negativação Indevida   \n",
       "9                      Confusão Patrimonial   \n",
       "10            Contribuições e Aposentadoria   \n",
       "11               Benefícios Previdenciários   \n",
       "12            Irregularidades em Licitações   \n",
       "13                    Recursos Trabalhistas   \n",
       "14             Redução de Depósito Recursal   \n",
       "15                 Salário-Maternidade INSS   \n",
       "16                         Juros e Cobrança   \n",
       "17                      Auxílio Emergencial   \n",
       "18            Problemas com Planos de Saúde   \n",
       "19              Benefícios para Deficientes   \n",
       "20                     Liberdade Provisória   \n",
       "21                         Pensão por Morte   \n",
       "22            Cobrança de Dívidas Escolares   \n",
       "23                        Licenciamento MEI   \n",
       "24                    Documentação Judicial   \n",
       "25                     Registro Veterinário   \n",
       "26                   Cobrança de ICMS DIFAL   \n",
       "27                      Cobrança de Débitos   \n",
       "28           Competência Juizados Especiais   \n",
       "29                    Acidentes de Trânsito   \n",
       "30                    Legitimidade Judicial   \n",
       "31                      Cobrança de Débitos   \n",
       "32               Classificação de Segurados   \n",
       "33                    Documentação Judicial   \n",
       "34    Problemas com Operadoras de Telefonia   \n",
       "35                Legitimidade em Execuções   \n",
       "36  Impenhorabilidade de Bens Profissionais   \n",
       "37    Trabalho Externo em Regime Semiaberto   \n",
       "38                   Enquadramento Judicial   \n",
       "39                     Redução de Alimentos   \n",
       "40      Legitimidade nos Juizados Especiais   \n",
       "41                      Execução de Títulos   \n",
       "42                      Prisão em Processos   \n",
       "43             Impenhorabilidade de Valores   \n",
       "44             Competência Juizado Especial   \n",
       "45                   Pagamentos de Serviços   \n",
       "46                    Legitimidade Judicial   \n",
       "47         Legitimidade no Juizado Especial   \n",
       "48                 Cobrança sem Nota Fiscal   \n",
       "49                 Benefícios Assistenciais   \n",
       "50                      Aposentadoria Rural   \n",
       "51                    Gratuidade Financeira   \n",
       "52                        Cobrança Indevida   \n",
       "53                          Crimes e Provas   \n",
       "54                   Embargos de Declaração   \n",
       "55                     Dívida e Conciliação   \n",
       "56                           Citação Válida   \n",
       "57           Justiça Gratuita para Recursos   \n",
       "58                       Doações Eleitorais   \n",
       "\n",
       "                                       Representation  \\\n",
       "0      [de, foi, do, se, da, uma, que, para, um, mei]   \n",
       "1   [trabalhador, vínculo, verbas, empregatício, t...   \n",
       "2   [justiça, gratuita, hipossuficiência, financei...   \n",
       "3   [taxas, complementar, taxa, lei, isenção, muni...   \n",
       "4   [jucesp, registro, junta, comercial, estado, f...   \n",
       "5   [nacional, simples, regime, adesão, tributário...   \n",
       "6   [desemprego, seguro, renda, união, própria, be...   \n",
       "7   [conta, danos, morais, valores, banco, indeniz...   \n",
       "8   [nome, danos, morais, seu, indenização, inadim...   \n",
       "9   [personalidade, jurídica, desconsideração, ben...   \n",
       "10  [tempo, aposentadoria, contribuição, períodos,...   \n",
       "11  [incapacidade, doença, auxílio, segurado, bene...   \n",
       "12  [licitação, edital, licitatório, pregão, certa...   \n",
       "13  [recurso, interposto, ordinário, parte, depósi...   \n",
       "14  [depósito, recursal, metade, redução, valor, 8...   \n",
       "15  [maternidade, salário, inss, benefício, mulher...   \n",
       "16  [juros, capitalização, banco, bndes, comissão,...   \n",
       "17  [emergencial, auxílio, familiar, união, recebe...   \n",
       "18  [plano, saúde, operadora, contrato, cancelamen...   \n",
       "19  [deficiência, assistencial, benefício, família...   \n",
       "20  [prisão, preventiva, paciente, preso, habeas, ...   \n",
       "21  [falecido, morte, pensão, óbito, segurado, qua...   \n",
       "22  [crédito, cessão, valor, instituição, escolare...   \n",
       "23  [alvará, funcionamento, municipal, licença, es...   \n",
       "24  [fiscal, nota, documento, negócio, jurídico, a...   \n",
       "25  [conselho, crmv, animais, medicina, veterinári...   \n",
       "26  [icms, cobrança, difal, estadual, simples, dif...   \n",
       "27  [diligências, débito, executórias, confusão, p...   \n",
       "28  [porte, juizado, pequeno, especial, microempre...   \n",
       "29  [acidente, danos, cessantes, lucros, materiais...   \n",
       "30  [qualificação, juizado, especial, tributária, ...   \n",
       "31  [diligências, executórias, débito, expropriató...   \n",
       "32  [segurada, facultativa, baixa, renda, autora, ...   \n",
       "33  [contador, propor, documentos, nota, juizados,...   \n",
       "34  [linha, telefonia, operadora, danos, morais, e...   \n",
       "35  [credor, microempresa, extinção, cessionário, ...   \n",
       "36  [833, bens, exercício, impenhorabilidade, veíc...   \n",
       "37  [pena, semiaberto, regime, apenado, externo, c...   \n",
       "38  [epp, critérios, enquadrava, nos, cível, parte...   \n",
       "39  [alimentos, provisórios, mínimo, pai, filha, v...   \n",
       "40  [juizado, especial, porte, pequeno, ltda, empr...   \n",
       "41  [extrajudicial, título, protesto, execução, in...   \n",
       "42  [prisão, liberais, ceplemg, preso, convênio, p...   \n",
       "43  [valores, impenhoráveis, penhora, conta, bloqu...   \n",
       "44  [juizado, 099, 95, especial, sociedades, oscip...   \n",
       "45  [00, 000, autor, serviço, pagou, valor, serviç...   \n",
       "46  [ciacaps, atualizacao, capacitacao, integrado,...   \n",
       "47  [propor, juizado, nesse, ações, lei, autorizad...   \n",
       "48  [me, jurídico, negócio, instituição, nota, con...   \n",
       "49  [benefício, inss, deficiência, assistencial, m...   \n",
       "50  [rural, idade, aposentadoria, inss, agricultur...   \n",
       "51  [inviabilidade, gratuidade, financeira, movime...   \n",
       "52  [proporcional, cobrança, tipo, previstas, lega...   \n",
       "53  [crime, ministério, autoria, público, provas, ...   \n",
       "54  [embargos, omissão, declaração, acórdão, contr...   \n",
       "55  [citado, réu, intimado, compareceu, audiência,...   \n",
       "56  [citação, endereço, entregue, postal, válida, ...   \n",
       "57  [depósito, recursal, custas, ordinário, recurs...   \n",
       "58  [doação, eleitoral, doações, limite, acima, ca...   \n",
       "\n",
       "                                  Representative_Docs  \n",
       "0   [Uma microempresa (MEI) entrou com um recurso ...  \n",
       "1   [Um trabalhador entrou com uma reclamação trab...  \n",
       "2   [Um microempreendedor individual (MEI) entrou ...  \n",
       "3   [Um MEI (Microempreendedor Individual) entrou ...  \n",
       "4   [Um indivíduo ajuizou uma ação declaratória de...  \n",
       "5   [A J & E Aguiar Serviços e Equipamentos Ltda -...  \n",
       "6   [Um MEI entrou com um recurso contra uma sente...  \n",
       "7   [Um microempreendedor individual do ramo de ve...  \n",
       "8   [Um profissional autônomo ajuizou uma ação con...  \n",
       "9   [Um empresário individual, que é um MEI, teve ...  \n",
       "10  [Um contribuinte individual entrou com um pedi...  \n",
       "11  [Uma pessoa entrou com uma ação contra o Insti...  \n",
       "12  [A Prefeitura Municipal de Desterro do Melo pu...  \n",
       "13  [Trata-se de um processo em que a parte reclam...  \n",
       "14  [Uma empresa de pequeno porte entrou com um re...  \n",
       "15  [Uma mulher, que trabalha como costureira e é ...  \n",
       "16  [O caso envolveu uma ação de revisão de cláusu...  \n",
       "17  [Uma pessoa entrou com um recurso contra uma s...  \n",
       "18  [Um microempreendedor individual (MEI) e sua e...  \n",
       "19  [Uma pessoa entrou com um recurso contra uma d...  \n",
       "20  [Um advogado impetrou um habeas corpus em favo...  \n",
       "21  [Uma pessoa entrou com uma ação previdenciária...  \n",
       "22  [Um microempreendedor individual (MEI) entrou ...  \n",
       "23  [Uma pessoa entrou com um mandado de segurança...  \n",
       "24  [Uma microempresa (ME) ajuizou uma ação de cob...  \n",
       "25  [Uma pessoa jurídica entrou com um processo pe...  \n",
       "26  [Uma empresa MEI (Microempreendedor Individual...  \n",
       "27  [Um trabalhador entrou com uma reclamação trab...  \n",
       "28  [Uma empresa entrou com uma ação de cobrança c...  \n",
       "29  [Um microempreendedor individual (MEI) entrou ...  \n",
       "30  [Um MEI entrou com uma ação de cobrança contra...  \n",
       "31  [O processo envolve uma reclamação trabalhista...  \n",
       "32  [Uma pessoa entrou com um pedido de auxílio-do...  \n",
       "33  [Um MEI tentou propor uma ação judicial, mas n...  \n",
       "34  [Um MEI entrou com uma ação contra uma empresa...  \n",
       "35  [Um credor, que alegava ser titular de uma mic...  \n",
       "36  [Um agravo de petição foi apresentado question...  \n",
       "37  [Um indivíduo chamado Antônio Neil Armstrong F...  \n",
       "38  [A parte autora entrou com uma ação de obrigaç...  \n",
       "39  [Um pai entrou com um agravo de instrumento co...  \n",
       "40  [Duas pessoas, incluindo uma empresa chamada R...  \n",
       "41  [Um MEI (Microempreendedor Individual) entrou ...  \n",
       "42  [Um MEI, sob o nome fantasia de CEPLEMG CONVÊN...  \n",
       "43  [Um microempreendedor individual (MEI) entrou ...  \n",
       "44  [Uma empresa entrou com um processo no Juizado...  \n",
       "45  [Um MEI ajuizou ação contra um condomínio aleg...  \n",
       "46  [A empresa CIACAPS - CENTRO INTEGRADO DE ATUAL...  \n",
       "47  [Uma pessoa jurídica entrou com uma ação de co...  \n",
       "48  [Uma microempresa (ME) entrou com uma ação de ...  \n",
       "49  [O autor entrou com uma ação pedindo a concess...  \n",
       "50  [Um trabalhador rural entrou com um pedido de ...  \n",
       "51  [Um processo pediu a gratuidade de justiça par...  \n",
       "52  [Um MEI entrou com uma ação contra o município...  \n",
       "53  [O Ministério Público do Estado do Rio de Jane...  \n",
       "54  [O caso trata de embargos de declaração interp...  \n",
       "55  [Um Microempreendedor Individual (MEI) entrou ...  \n",
       "56  [Um Empresário Individual (EI) entrou com uma ...  \n",
       "57  [Duas empresas, uma MEI e outra representada p...  \n",
       "58  [O Ministério Público Eleitoral recorreu contr...  "
      ]
     },
     "execution_count": 14,
     "metadata": {},
     "output_type": "execute_result"
    }
   ],
   "source": [
    "topic_model.get_topic_info()"
   ]
  },
  {
   "cell_type": "code",
   "execution_count": 15,
   "id": "97ae0b06",
   "metadata": {},
   "outputs": [
    {
     "data": {
      "application/vnd.plotly.v1+json": {
       "config": {
        "plotlyServerURL": "https://plot.ly"
       },
       "data": [
        {
         "coloraxis": "coloraxis",
         "hovertemplate": "x: %{x}<br>y: %{y}<br>Similarity Score: %{z}<extra></extra>",
         "name": "0",
         "type": "heatmap",
         "x": [
          "0_trabalhador_vínculo_verbas",
          "1_justiça_gratuita_hipossuf...",
          "12_recurso_interposto_ordin...",
          "13_depósito_recursal_metade",
          "26_diligências_débito_execu...",
          "27_porte_juizado_pequeno",
          "30_diligências_executórias_...",
          "37_epp_critérios_enquadrava",
          "39_juizado_especial_porte",
          "41_prisão_liberais_ceplemg",
          "43_juizado_099_95",
          "45_ciacaps_atualizacao_capa...",
          "46_propor_juizado_nesse",
          "50_inviabilidade_gratuidade...",
          "56_depósito_recursal_custas",
          "2_taxas_complementar_taxa",
          "3_jucesp_registro_junta",
          "4_nacional_simples_regime",
          "6_conta_danos_morais",
          "7_nome_danos_morais",
          "8_personalidade_jurídica_de...",
          "11_licitação_edital_licitat...",
          "15_juros_capitalização_banco",
          "17_plano_saúde_operadora",
          "21_crédito_cessão_valor",
          "22_alvará_funcionamento_mun...",
          "23_fiscal_nota_documento",
          "25_icms_cobrança_difal",
          "28_acidente_danos_cessantes",
          "29_qualificação_juizado_esp...",
          "32_contador_propor_documentos",
          "33_linha_telefonia_operadora",
          "34_credor_microempresa_exti...",
          "35_833_bens_exercício",
          "40_extrajudicial_título_pro...",
          "42_valores_impenhoráveis_pe...",
          "44_00_000_autor",
          "51_proporcional_cobrança_tipo",
          "53_embargos_omissão_declara...",
          "54_citado_réu_intimado",
          "55_citação_endereço_entregue",
          "57_doação_eleitoral_doações",
          "5_desemprego_seguro_renda",
          "16_emergencial_auxílio_fami...",
          "38_alimentos_provisórios_mí...",
          "9_tempo_aposentadoria_contr...",
          "10_incapacidade_doença_auxí...",
          "14_maternidade_salário_inss",
          "18_deficiência_assistencial...",
          "20_falecido_morte_pensão",
          "31_segurada_facultativa_baixa",
          "48_benefício_inss_deficiência",
          "49_rural_idade_aposentadoria",
          "19_prisão_preventiva_paciente",
          "24_conselho_crmv_animais",
          "36_pena_semiaberto_regime",
          "47_me_jurídico_negócio",
          "52_crime_ministério_autoria"
         ],
         "xaxis": "x",
         "y": [
          "0_trabalhador_vínculo_verbas",
          "1_justiça_gratuita_hipossuf...",
          "12_recurso_interposto_ordin...",
          "13_depósito_recursal_metade",
          "26_diligências_débito_execu...",
          "27_porte_juizado_pequeno",
          "30_diligências_executórias_...",
          "37_epp_critérios_enquadrava",
          "39_juizado_especial_porte",
          "41_prisão_liberais_ceplemg",
          "43_juizado_099_95",
          "45_ciacaps_atualizacao_capa...",
          "46_propor_juizado_nesse",
          "50_inviabilidade_gratuidade...",
          "56_depósito_recursal_custas",
          "2_taxas_complementar_taxa",
          "3_jucesp_registro_junta",
          "4_nacional_simples_regime",
          "6_conta_danos_morais",
          "7_nome_danos_morais",
          "8_personalidade_jurídica_de...",
          "11_licitação_edital_licitat...",
          "15_juros_capitalização_banco",
          "17_plano_saúde_operadora",
          "21_crédito_cessão_valor",
          "22_alvará_funcionamento_mun...",
          "23_fiscal_nota_documento",
          "25_icms_cobrança_difal",
          "28_acidente_danos_cessantes",
          "29_qualificação_juizado_esp...",
          "32_contador_propor_documentos",
          "33_linha_telefonia_operadora",
          "34_credor_microempresa_exti...",
          "35_833_bens_exercício",
          "40_extrajudicial_título_pro...",
          "42_valores_impenhoráveis_pe...",
          "44_00_000_autor",
          "51_proporcional_cobrança_tipo",
          "53_embargos_omissão_declara...",
          "54_citado_réu_intimado",
          "55_citação_endereço_entregue",
          "57_doação_eleitoral_doações",
          "5_desemprego_seguro_renda",
          "16_emergencial_auxílio_fami...",
          "38_alimentos_provisórios_mí...",
          "9_tempo_aposentadoria_contr...",
          "10_incapacidade_doença_auxí...",
          "14_maternidade_salário_inss",
          "18_deficiência_assistencial...",
          "20_falecido_morte_pensão",
          "31_segurada_facultativa_baixa",
          "48_benefício_inss_deficiência",
          "49_rural_idade_aposentadoria",
          "19_prisão_preventiva_paciente",
          "24_conselho_crmv_animais",
          "36_pena_semiaberto_regime",
          "47_me_jurídico_negócio",
          "52_crime_ministério_autoria"
         ],
         "yaxis": "y",
         "z": {
          "bdata": "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",
          "dtype": "f4",
          "shape": "58, 58"
         }
        }
       ],
       "layout": {
        "coloraxis": {
         "colorbar": {
          "title": {
           "text": "Similarity Score"
          }
         },
         "colorscale": [
          [
           0,
           "rgb(247,252,240)"
          ],
          [
           0.125,
           "rgb(224,243,219)"
          ],
          [
           0.25,
           "rgb(204,235,197)"
          ],
          [
           0.375,
           "rgb(168,221,181)"
          ],
          [
           0.5,
           "rgb(123,204,196)"
          ],
          [
           0.625,
           "rgb(78,179,211)"
          ],
          [
           0.75,
           "rgb(43,140,190)"
          ],
          [
           0.875,
           "rgb(8,104,172)"
          ],
          [
           1,
           "rgb(8,64,129)"
          ]
         ]
        },
        "height": 800,
        "hoverlabel": {
         "bgcolor": "white",
         "font": {
          "family": "Rockwell",
          "size": 16
         }
        },
        "legend": {
         "title": {
          "text": "Trend"
         }
        },
        "margin": {
         "t": 60
        },
        "showlegend": true,
        "template": {
         "data": {
          "bar": [
           {
            "error_x": {
             "color": "#2a3f5f"
            },
            "error_y": {
             "color": "#2a3f5f"
            },
            "marker": {
             "line": {
              "color": "#E5ECF6",
              "width": 0.5
             },
             "pattern": {
              "fillmode": "overlay",
              "size": 10,
              "solidity": 0.2
             }
            },
            "type": "bar"
           }
          ],
          "barpolar": [
           {
            "marker": {
             "line": {
              "color": "#E5ECF6",
              "width": 0.5
             },
             "pattern": {
              "fillmode": "overlay",
              "size": 10,
              "solidity": 0.2
             }
            },
            "type": "barpolar"
           }
          ],
          "carpet": [
           {
            "aaxis": {
             "endlinecolor": "#2a3f5f",
             "gridcolor": "white",
             "linecolor": "white",
             "minorgridcolor": "white",
             "startlinecolor": "#2a3f5f"
            },
            "baxis": {
             "endlinecolor": "#2a3f5f",
             "gridcolor": "white",
             "linecolor": "white",
             "minorgridcolor": "white",
             "startlinecolor": "#2a3f5f"
            },
            "type": "carpet"
           }
          ],
          "choropleth": [
           {
            "colorbar": {
             "outlinewidth": 0,
             "ticks": ""
            },
            "type": "choropleth"
           }
          ],
          "contour": [
           {
            "colorbar": {
             "outlinewidth": 0,
             "ticks": ""
            },
            "colorscale": [
             [
              0,
              "#0d0887"
             ],
             [
              0.1111111111111111,
              "#46039f"
             ],
             [
              0.2222222222222222,
              "#7201a8"
             ],
             [
              0.3333333333333333,
              "#9c179e"
             ],
             [
              0.4444444444444444,
              "#bd3786"
             ],
             [
              0.5555555555555556,
              "#d8576b"
             ],
             [
              0.6666666666666666,
              "#ed7953"
             ],
             [
              0.7777777777777778,
              "#fb9f3a"
             ],
             [
              0.8888888888888888,
              "#fdca26"
             ],
             [
              1,
              "#f0f921"
             ]
            ],
            "type": "contour"
           }
          ],
          "contourcarpet": [
           {
            "colorbar": {
             "outlinewidth": 0,
             "ticks": ""
            },
            "type": "contourcarpet"
           }
          ],
          "heatmap": [
           {
            "colorbar": {
             "outlinewidth": 0,
             "ticks": ""
            },
            "colorscale": [
             [
              0,
              "#0d0887"
             ],
             [
              0.1111111111111111,
              "#46039f"
             ],
             [
              0.2222222222222222,
              "#7201a8"
             ],
             [
              0.3333333333333333,
              "#9c179e"
             ],
             [
              0.4444444444444444,
              "#bd3786"
             ],
             [
              0.5555555555555556,
              "#d8576b"
             ],
             [
              0.6666666666666666,
              "#ed7953"
             ],
             [
              0.7777777777777778,
              "#fb9f3a"
             ],
             [
              0.8888888888888888,
              "#fdca26"
             ],
             [
              1,
              "#f0f921"
             ]
            ],
            "type": "heatmap"
           }
          ],
          "histogram": [
           {
            "marker": {
             "pattern": {
              "fillmode": "overlay",
              "size": 10,
              "solidity": 0.2
             }
            },
            "type": "histogram"
           }
          ],
          "histogram2d": [
           {
            "colorbar": {
             "outlinewidth": 0,
             "ticks": ""
            },
            "colorscale": [
             [
              0,
              "#0d0887"
             ],
             [
              0.1111111111111111,
              "#46039f"
             ],
             [
              0.2222222222222222,
              "#7201a8"
             ],
             [
              0.3333333333333333,
              "#9c179e"
             ],
             [
              0.4444444444444444,
              "#bd3786"
             ],
             [
              0.5555555555555556,
              "#d8576b"
             ],
             [
              0.6666666666666666,
              "#ed7953"
             ],
             [
              0.7777777777777778,
              "#fb9f3a"
             ],
             [
              0.8888888888888888,
              "#fdca26"
             ],
             [
              1,
              "#f0f921"
             ]
            ],
            "type": "histogram2d"
           }
          ],
          "histogram2dcontour": [
           {
            "colorbar": {
             "outlinewidth": 0,
             "ticks": ""
            },
            "colorscale": [
             [
              0,
              "#0d0887"
             ],
             [
              0.1111111111111111,
              "#46039f"
             ],
             [
              0.2222222222222222,
              "#7201a8"
             ],
             [
              0.3333333333333333,
              "#9c179e"
             ],
             [
              0.4444444444444444,
              "#bd3786"
             ],
             [
              0.5555555555555556,
              "#d8576b"
             ],
             [
              0.6666666666666666,
              "#ed7953"
             ],
             [
              0.7777777777777778,
              "#fb9f3a"
             ],
             [
              0.8888888888888888,
              "#fdca26"
             ],
             [
              1,
              "#f0f921"
             ]
            ],
            "type": "histogram2dcontour"
           }
          ],
          "mesh3d": [
           {
            "colorbar": {
             "outlinewidth": 0,
             "ticks": ""
            },
            "type": "mesh3d"
           }
          ],
          "parcoords": [
           {
            "line": {
             "colorbar": {
              "outlinewidth": 0,
              "ticks": ""
             }
            },
            "type": "parcoords"
           }
          ],
          "pie": [
           {
            "automargin": true,
            "type": "pie"
           }
          ],
          "scatter": [
           {
            "fillpattern": {
             "fillmode": "overlay",
             "size": 10,
             "solidity": 0.2
            },
            "type": "scatter"
           }
          ],
          "scatter3d": [
           {
            "line": {
             "colorbar": {
              "outlinewidth": 0,
              "ticks": ""
             }
            },
            "marker": {
             "colorbar": {
              "outlinewidth": 0,
              "ticks": ""
             }
            },
            "type": "scatter3d"
           }
          ],
          "scattercarpet": [
           {
            "marker": {
             "colorbar": {
              "outlinewidth": 0,
              "ticks": ""
             }
            },
            "type": "scattercarpet"
           }
          ],
          "scattergeo": [
           {
            "marker": {
             "colorbar": {
              "outlinewidth": 0,
              "ticks": ""
             }
            },
            "type": "scattergeo"
           }
          ],
          "scattergl": [
           {
            "marker": {
             "colorbar": {
              "outlinewidth": 0,
              "ticks": ""
             }
            },
            "type": "scattergl"
           }
          ],
          "scattermap": [
           {
            "marker": {
             "colorbar": {
              "outlinewidth": 0,
              "ticks": ""
             }
            },
            "type": "scattermap"
           }
          ],
          "scattermapbox": [
           {
            "marker": {
             "colorbar": {
              "outlinewidth": 0,
              "ticks": ""
             }
            },
            "type": "scattermapbox"
           }
          ],
          "scatterpolar": [
           {
            "marker": {
             "colorbar": {
              "outlinewidth": 0,
              "ticks": ""
             }
            },
            "type": "scatterpolar"
           }
          ],
          "scatterpolargl": [
           {
            "marker": {
             "colorbar": {
              "outlinewidth": 0,
              "ticks": ""
             }
            },
            "type": "scatterpolargl"
           }
          ],
          "scatterternary": [
           {
            "marker": {
             "colorbar": {
              "outlinewidth": 0,
              "ticks": ""
             }
            },
            "type": "scatterternary"
           }
          ],
          "surface": [
           {
            "colorbar": {
             "outlinewidth": 0,
             "ticks": ""
            },
            "colorscale": [
             [
              0,
              "#0d0887"
             ],
             [
              0.1111111111111111,
              "#46039f"
             ],
             [
              0.2222222222222222,
              "#7201a8"
             ],
             [
              0.3333333333333333,
              "#9c179e"
             ],
             [
              0.4444444444444444,
              "#bd3786"
             ],
             [
              0.5555555555555556,
              "#d8576b"
             ],
             [
              0.6666666666666666,
              "#ed7953"
             ],
             [
              0.7777777777777778,
              "#fb9f3a"
             ],
             [
              0.8888888888888888,
              "#fdca26"
             ],
             [
              1,
              "#f0f921"
             ]
            ],
            "type": "surface"
           }
          ],
          "table": [
           {
            "cells": {
             "fill": {
              "color": "#EBF0F8"
             },
             "line": {
              "color": "white"
             }
            },
            "header": {
             "fill": {
              "color": "#C8D4E3"
             },
             "line": {
              "color": "white"
             }
            },
            "type": "table"
           }
          ]
         },
         "layout": {
          "annotationdefaults": {
           "arrowcolor": "#2a3f5f",
           "arrowhead": 0,
           "arrowwidth": 1
          },
          "autotypenumbers": "strict",
          "coloraxis": {
           "colorbar": {
            "outlinewidth": 0,
            "ticks": ""
           }
          },
          "colorscale": {
           "diverging": [
            [
             0,
             "#8e0152"
            ],
            [
             0.1,
             "#c51b7d"
            ],
            [
             0.2,
             "#de77ae"
            ],
            [
             0.3,
             "#f1b6da"
            ],
            [
             0.4,
             "#fde0ef"
            ],
            [
             0.5,
             "#f7f7f7"
            ],
            [
             0.6,
             "#e6f5d0"
            ],
            [
             0.7,
             "#b8e186"
            ],
            [
             0.8,
             "#7fbc41"
            ],
            [
             0.9,
             "#4d9221"
            ],
            [
             1,
             "#276419"
            ]
           ],
           "sequential": [
            [
             0,
             "#0d0887"
            ],
            [
             0.1111111111111111,
             "#46039f"
            ],
            [
             0.2222222222222222,
             "#7201a8"
            ],
            [
             0.3333333333333333,
             "#9c179e"
            ],
            [
             0.4444444444444444,
             "#bd3786"
            ],
            [
             0.5555555555555556,
             "#d8576b"
            ],
            [
             0.6666666666666666,
             "#ed7953"
            ],
            [
             0.7777777777777778,
             "#fb9f3a"
            ],
            [
             0.8888888888888888,
             "#fdca26"
            ],
            [
             1,
             "#f0f921"
            ]
           ],
           "sequentialminus": [
            [
             0,
             "#0d0887"
            ],
            [
             0.1111111111111111,
             "#46039f"
            ],
            [
             0.2222222222222222,
             "#7201a8"
            ],
            [
             0.3333333333333333,
             "#9c179e"
            ],
            [
             0.4444444444444444,
             "#bd3786"
            ],
            [
             0.5555555555555556,
             "#d8576b"
            ],
            [
             0.6666666666666666,
             "#ed7953"
            ],
            [
             0.7777777777777778,
             "#fb9f3a"
            ],
            [
             0.8888888888888888,
             "#fdca26"
            ],
            [
             1,
             "#f0f921"
            ]
           ]
          },
          "colorway": [
           "#636efa",
           "#EF553B",
           "#00cc96",
           "#ab63fa",
           "#FFA15A",
           "#19d3f3",
           "#FF6692",
           "#B6E880",
           "#FF97FF",
           "#FECB52"
          ],
          "font": {
           "color": "#2a3f5f"
          },
          "geo": {
           "bgcolor": "white",
           "lakecolor": "white",
           "landcolor": "#E5ECF6",
           "showlakes": true,
           "showland": true,
           "subunitcolor": "white"
          },
          "hoverlabel": {
           "align": "left"
          },
          "hovermode": "closest",
          "mapbox": {
           "style": "light"
          },
          "paper_bgcolor": "white",
          "plot_bgcolor": "#E5ECF6",
          "polar": {
           "angularaxis": {
            "gridcolor": "white",
            "linecolor": "white",
            "ticks": ""
           },
           "bgcolor": "#E5ECF6",
           "radialaxis": {
            "gridcolor": "white",
            "linecolor": "white",
            "ticks": ""
           }
          },
          "scene": {
           "xaxis": {
            "backgroundcolor": "#E5ECF6",
            "gridcolor": "white",
            "gridwidth": 2,
            "linecolor": "white",
            "showbackground": true,
            "ticks": "",
            "zerolinecolor": "white"
           },
           "yaxis": {
            "backgroundcolor": "#E5ECF6",
            "gridcolor": "white",
            "gridwidth": 2,
            "linecolor": "white",
            "showbackground": true,
            "ticks": "",
            "zerolinecolor": "white"
           },
           "zaxis": {
            "backgroundcolor": "#E5ECF6",
            "gridcolor": "white",
            "gridwidth": 2,
            "linecolor": "white",
            "showbackground": true,
            "ticks": "",
            "zerolinecolor": "white"
           }
          },
          "shapedefaults": {
           "line": {
            "color": "#2a3f5f"
           }
          },
          "ternary": {
           "aaxis": {
            "gridcolor": "white",
            "linecolor": "white",
            "ticks": ""
           },
           "baxis": {
            "gridcolor": "white",
            "linecolor": "white",
            "ticks": ""
           },
           "bgcolor": "#E5ECF6",
           "caxis": {
            "gridcolor": "white",
            "linecolor": "white",
            "ticks": ""
           }
          },
          "title": {
           "x": 0.05
          },
          "xaxis": {
           "automargin": true,
           "gridcolor": "white",
           "linecolor": "white",
           "ticks": "",
           "title": {
            "standoff": 15
           },
           "zerolinecolor": "white",
           "zerolinewidth": 2
          },
          "yaxis": {
           "automargin": true,
           "gridcolor": "white",
           "linecolor": "white",
           "ticks": "",
           "title": {
            "standoff": 15
           },
           "zerolinecolor": "white",
           "zerolinewidth": 2
          }
         }
        },
        "title": {
         "font": {
          "color": "Black",
          "size": 22
         },
         "text": "<b>Similarity Matrix</b>",
         "x": 0.55,
         "xanchor": "center",
         "y": 0.95,
         "yanchor": "top"
        },
        "width": 800,
        "xaxis": {
         "anchor": "y",
         "constrain": "domain",
         "domain": [
          0,
          1
         ],
         "scaleanchor": "y"
        },
        "yaxis": {
         "anchor": "x",
         "autorange": "reversed",
         "constrain": "domain",
         "domain": [
          0,
          1
         ]
        }
       }
      }
     },
     "metadata": {},
     "output_type": "display_data"
    }
   ],
   "source": [
    "topic_model.visualize_heatmap(n_clusters=5)"
   ]
  },
  {
   "cell_type": "code",
   "execution_count": 16,
   "id": "7e7cfaa4",
   "metadata": {},
   "outputs": [
    {
     "data": {
      "application/vnd.plotly.v1+json": {
       "config": {
        "plotlyServerURL": "https://plot.ly"
       },
       "data": [
        {
         "hovertext": "<b>Topic -1</b>:de_foi_do_se_da_uma_que_para_um_me",
         "line": {
          "color": "black",
          "width": 1.5
         },
         "mode": "lines+lines",
         "name": "",
         "opacity": 0.1,
         "type": "scatter",
         "x": {
          "bdata": "AQAAAAIAAAADAAAABAAAAAUAAAAGAAAABwAAAAgAAAAJAAAACgAAAA==",
          "dtype": "i4"
         },
         "y": {
          "bdata": "CK9CrEv6jT8+Qm48nPqKP2Q5EkbZyIo/NkTnf67Iij/b9/8Y1/SJPzIdJ4H+yYk/KnQTLWxAiT+GwfNksdiHPyY86iNzO4c/t8Z3pvPahj8=",
          "dtype": "f8"
         }
        },
        {
         "hovertext": "<b>Topic 0</b>:trabalhador_vínculo_verbas_empregat",
         "line": {
          "color": "black",
          "width": 1.5
         },
         "mode": "lines+lines",
         "name": "",
         "opacity": 0.1,
         "type": "scatter",
         "x": {
          "bdata": "AQAAAAIAAAADAAAABAAAAAUAAAAGAAAABwAAAAgAAAAJAAAACgAAAA==",
          "dtype": "i4"
         },
         "y": {
          "bdata": "ItLSK/LTlz9THx8RQkaWPyshkldxaJI/xuAK8tRPkT8RMQnH0hqRP5mP1zpMEZE/Fjfd3PE5kD+5PH1pzv+OP07h4b/I+o4/R9G8oJwFjj8=",
          "dtype": "f8"
         }
        },
        {
         "hovertext": "<b>Topic 1</b>:justiça_gratuita_hipossuficiência_f",
         "line": {
          "color": "black",
          "width": 1.5
         },
         "mode": "lines+lines",
         "name": "",
         "opacity": 0.1,
         "type": "scatter",
         "x": {
          "bdata": "AQAAAAIAAAADAAAABAAAAAUAAAAGAAAABwAAAAgAAAAJAAAACgAAAA==",
          "dtype": "i4"
         },
         "y": {
          "bdata": "8zj/p1TsoD+UQZLHy+GfP8HEBhYjIJk/xZvbxTd7lz8DQaTSHDqXP3nr2PSSNpU/G5MQNg/Qkz/Ae6Tv0LGTP9im9FRq3JI/v5YBDD5Gkj8=",
          "dtype": "f8"
         }
        },
        {
         "hovertext": "<b>Topic 2</b>:taxas_complementar_taxa_lei_isenção",
         "line": {
          "color": "black",
          "width": 1.5
         },
         "mode": "lines+lines",
         "name": "",
         "opacity": 0.1,
         "type": "scatter",
         "x": {
          "bdata": "AQAAAAIAAAADAAAABAAAAAUAAAAGAAAABwAAAAgAAAAJAAAACgAAAA==",
          "dtype": "i4"
         },
         "y": {
          "bdata": "XIK8z7QzrD88mcvzYCCmP1d1w0koJKU/R5h6TxgypD9hsIt5eZ+jP8culVB2KaM/b1YHk1rnoj+FfEPrGgOiPwsINt6VmaE/JhPERbMsoT8=",
          "dtype": "f8"
         }
        },
        {
         "hovertext": "<b>Topic 3</b>:jucesp_registro_junta_comercial_est",
         "line": {
          "color": "black",
          "width": 1.5
         },
         "mode": "lines+lines",
         "name": "",
         "opacity": 0.1,
         "type": "scatter",
         "x": {
          "bdata": "AQAAAAIAAAADAAAABAAAAAUAAAAGAAAABwAAAAgAAAAJAAAACgAAAA==",
          "dtype": "i4"
         },
         "y": {
          "bdata": "0Tjd0K5CpT8z63Us5EykP+BqBFz+w6M/HZUhqqu2oD9Ff6kXEfadP2wSwEXB2Z0/RuirhlGLmz+AGCDB+MeaP5hHKAq4LZg/6fnMCkPllz8=",
          "dtype": "f8"
         }
        },
        {
         "hovertext": "<b>Topic 4</b>:nacional_simples_regime_adesão_trib",
         "line": {
          "color": "black",
          "width": 1.5
         },
         "mode": "lines+lines",
         "name": "",
         "opacity": 0.1,
         "type": "scatter",
         "x": {
          "bdata": "AQAAAAIAAAADAAAABAAAAAUAAAAGAAAABwAAAAgAAAAJAAAACgAAAA==",
          "dtype": "i4"
         },
         "y": {
          "bdata": "V7OVCtD8tD8AhMeGWY6zP2yp//tGiak/OmF/43V6qD+qaiO1BSOnPzK9RGVZv6U/Tas+0g6woz9H8ty5Vu6hPwp0gGgT7aE/CcyZLi7HoT8=",
          "dtype": "f8"
         }
        },
        {
         "hovertext": "<b>Topic 5</b>:desemprego_seguro_renda_união_própr",
         "line": {
          "color": "black",
          "width": 1.5
         },
         "mode": "lines+lines",
         "name": "",
         "opacity": 0.1,
         "type": "scatter",
         "x": {
          "bdata": "AQAAAAIAAAADAAAABAAAAAUAAAAGAAAABwAAAAgAAAAJAAAACgAAAA==",
          "dtype": "i4"
         },
         "y": {
          "bdata": "Qiyg9gxZtT+AOOmXGY2yP7252qeZU6Y/i1EjcQP/nj/ZLkqN92icP4vmOuYJ3Zo/beJGDz0zmj8v1Jp+5MSWPyeTNsZYfZQ/ZUsluxTmkz8=",
          "dtype": "f8"
         }
        },
        {
         "hovertext": "<b>Topic 6</b>:conta_danos_morais_valores_banco_in",
         "line": {
          "color": "black",
          "width": 1.5
         },
         "mode": "lines+lines",
         "name": "",
         "opacity": 0.1,
         "type": "scatter",
         "x": {
          "bdata": "AQAAAAIAAAADAAAABAAAAAUAAAAGAAAABwAAAAgAAAAJAAAACgAAAA==",
          "dtype": "i4"
         },
         "y": {
          "bdata": "vNoG8/pGmz8qpN7iqu+ZP2UL0Ntjkpc/7girxjXWlT9vkqDsZLmUP3J15qUgpJQ/xsl01b2jkj+/5OxX7rCRPx0z76zknpE/a5a2ILNVjj8=",
          "dtype": "f8"
         }
        },
        {
         "hovertext": "<b>Topic 7</b>:nome_danos_morais_seu_indenização_i",
         "line": {
          "color": "black",
          "width": 1.5
         },
         "mode": "lines+lines",
         "name": "",
         "opacity": 0.1,
         "type": "scatter",
         "x": {
          "bdata": "AQAAAAIAAAADAAAABAAAAAUAAAAGAAAABwAAAAgAAAAJAAAACgAAAA==",
          "dtype": "i4"
         },
         "y": {
          "bdata": "ZxXw8pe0oz+oVCnXHkehP7mUu/JGH6E/SOHQMBKgnT/mIFrfX6icP1xhrgMzlpw/7qH//BjHmT9mXIJfR1+YP8vqm7/vPJc/jXjU2kZUlj8=",
          "dtype": "f8"
         }
        },
        {
         "hovertext": "<b>Topic 8</b>:personalidade_jurídica_desconsidera",
         "line": {
          "color": "black",
          "width": 1.5
         },
         "mode": "lines+lines",
         "name": "",
         "opacity": 0.1,
         "type": "scatter",
         "x": {
          "bdata": "AQAAAAIAAAADAAAABAAAAAUAAAAGAAAABwAAAAgAAAAJAAAACgAAAA==",
          "dtype": "i4"
         },
         "y": {
          "bdata": "ZnnVurJFrj/QKjjEpW2qP5vkkTq2Dao/rES5sDxCpj9YPZeOOfKlP7r/IpaUHKE/8jh0FnANoD8RqMC766WePwE7RR7J/5o/FfcSHbWcmj8=",
          "dtype": "f8"
         }
        },
        {
         "hovertext": "<b>Topic 9</b>:tempo_aposentadoria_contribuição_pe",
         "line": {
          "color": "black",
          "width": 1.5
         },
         "mode": "lines+lines",
         "name": "",
         "opacity": 0.1,
         "type": "scatter",
         "x": {
          "bdata": "AQAAAAIAAAADAAAABAAAAAUAAAAGAAAABwAAAAgAAAAJAAAACgAAAA==",
          "dtype": "i4"
         },
         "y": {
          "bdata": "tio67ADTsT+lOP6yyVywP6r0+wpGHq8/20rOh6dgqD8F2K0PYDSoPwM32NjTMaQ/v5Ix/Uj+mT8wvlzYfbKZP6hpuF1xfJk/vmJVG0eAlj8=",
          "dtype": "f8"
         }
        },
        {
         "hovertext": "<b>Topic 10</b>:incapacidade_doença_auxílio_segura",
         "line": {
          "color": "black",
          "width": 1.5
         },
         "mode": "lines+lines",
         "name": "",
         "opacity": 0.1,
         "type": "scatter",
         "x": {
          "bdata": "AQAAAAIAAAADAAAABAAAAAUAAAAGAAAABwAAAAgAAAAJAAAACgAAAA==",
          "dtype": "i4"
         },
         "y": {
          "bdata": "LlURxfu/sj+5C3S4DZWqP08u2iV8OaY/Ibf7tMVCoj/C1bpMGRyiP0Eg9KWi9qE/erzQHB4toD8GP/OZ20iePxCB8BHn7J0/LHGwkSUBmj8=",
          "dtype": "f8"
         }
        },
        {
         "hovertext": "<b>Topic 11</b>:licitação_edital_licitatório_pregã",
         "line": {
          "color": "black",
          "width": 1.5
         },
         "mode": "lines+lines",
         "name": "",
         "opacity": 0.1,
         "type": "scatter",
         "x": {
          "bdata": "AQAAAAIAAAADAAAABAAAAAUAAAAGAAAABwAAAAgAAAAJAAAACgAAAA==",
          "dtype": "i4"
         },
         "y": {
          "bdata": "IzWy7qv7pD/a0jTCTGijPyMNZt1yA54/Apo7cwWBnT/DNH10pNOWP231ERp615U/rg6A78eMkz/aONbcG5SSP9VQtTAgcJA/eZlkjvE6kD8=",
          "dtype": "f8"
         }
        },
        {
         "hovertext": "<b>Topic 12</b>:recurso_interposto_ordinário_parte",
         "line": {
          "color": "black",
          "width": 1.5
         },
         "mode": "lines+lines",
         "name": "",
         "opacity": 0.1,
         "type": "scatter",
         "x": {
          "bdata": "AQAAAAIAAAADAAAABAAAAAUAAAAGAAAABwAAAAgAAAAJAAAACgAAAA==",
          "dtype": "i4"
         },
         "y": {
          "bdata": "/LTOMUiGrD+4g4V2EdyoP/nWkxNFfqY/mEkc9ewypj/zflL6LVClP01vr3CjAaQ//fbz285Roz/hj51JyMSiPyrfYv4/hqI/nyI1M7T+oT8=",
          "dtype": "f8"
         }
        },
        {
         "hovertext": "<b>Topic 13</b>:depósito_recursal_metade_redução_v",
         "line": {
          "color": "black",
          "width": 1.5
         },
         "mode": "lines+lines",
         "name": "",
         "opacity": 0.1,
         "type": "scatter",
         "x": {
          "bdata": "AQAAAAIAAAADAAAABAAAAAUAAAAGAAAABwAAAAgAAAAJAAAACgAAAA==",
          "dtype": "i4"
         },
         "y": {
          "bdata": "jmiHz2cXsz/H4NZvhTWyPzHnAINSuas/pMcOxIYmqT+J8kXw/BOpP1VcnmOnPqQ/J0ahmQ01pD+7kMD+0FyjPyWWtY8AxJ8/hXZc9aOFnD8=",
          "dtype": "f8"
         }
        },
        {
         "hovertext": "<b>Topic 14</b>:maternidade_salário_inss_benefício",
         "line": {
          "color": "black",
          "width": 1.5
         },
         "mode": "lines+lines",
         "name": "",
         "opacity": 0.1,
         "type": "scatter",
         "x": {
          "bdata": "AQAAAAIAAAADAAAABAAAAAUAAAAGAAAABwAAAAgAAAAJAAAACgAAAA==",
          "dtype": "i4"
         },
         "y": {
          "bdata": "fFiuoFBEvD+ImsL5BHWzP8gvlgVk7bA/oIhhXoN/qj+62S3YMNGmP4+rECJn0aE/E8PR7SoYoD9nEYtP4SieP/l9J9EqFJ4/e3dq/aa6mT8=",
          "dtype": "f8"
         }
        },
        {
         "hovertext": "<b>Topic 15</b>:juros_capitalização_banco_bndes_co",
         "line": {
          "color": "black",
          "width": 1.5
         },
         "mode": "lines+lines",
         "name": "",
         "opacity": 0.1,
         "type": "scatter",
         "x": {
          "bdata": "AQAAAAIAAAADAAAABAAAAAUAAAAGAAAABwAAAAgAAAAJAAAACgAAAA==",
          "dtype": "i4"
         },
         "y": {
          "bdata": "o+VmIDDOtz+n9KZJuCumPy/UStAjyp8/M0pIfLVUnz85kPxiNpGdP6MjfzKIx5s/vu16bSFZmj8/rd35nSCZP2nG1/1sDZk/uunqjY7rmD8=",
          "dtype": "f8"
         }
        },
        {
         "hovertext": "<b>Topic 16</b>:emergencial_auxílio_familiar_união",
         "line": {
          "color": "black",
          "width": 1.5
         },
         "mode": "lines+lines",
         "name": "",
         "opacity": 0.1,
         "type": "scatter",
         "x": {
          "bdata": "AQAAAAIAAAADAAAABAAAAAUAAAAGAAAABwAAAAgAAAAJAAAACgAAAA==",
          "dtype": "i4"
         },
         "y": {
          "bdata": "iJ3G838hvD8RTKo0Lbu2P/DHemqbKqE/uWrJD4h3oD/zKAABDGSdP7AT/XP+Z5w/n1us4KJrmj/WTETsGyOYP6jmIaEEipc/wnB/aQfVlj8=",
          "dtype": "f8"
         }
        },
        {
         "hovertext": "<b>Topic 17</b>:plano_saúde_operadora_contrato_can",
         "line": {
          "color": "black",
          "width": 1.5
         },
         "mode": "lines+lines",
         "name": "",
         "opacity": 0.1,
         "type": "scatter",
         "x": {
          "bdata": "AQAAAAIAAAADAAAABAAAAAUAAAAGAAAABwAAAAgAAAAJAAAACgAAAA==",
          "dtype": "i4"
         },
         "y": {
          "bdata": "W8g19ZwJtz8tbacxoEm0PylqBjbzGKQ/M9+DxVOinj9++igRJjibP5MZRoC0OJc/8WTOSfrblj971JhwuJeUP+aTXR+P+5M/x8HawwgZkz8=",
          "dtype": "f8"
         }
        },
        {
         "hovertext": "<b>Topic 18</b>:deficiência_assistencial_benefício",
         "line": {
          "color": "black",
          "width": 1.5
         },
         "mode": "lines+lines",
         "name": "",
         "opacity": 0.1,
         "type": "scatter",
         "x": {
          "bdata": "AQAAAAIAAAADAAAABAAAAAUAAAAGAAAABwAAAAgAAAAJAAAACgAAAA==",
          "dtype": "i4"
         },
         "y": {
          "bdata": "ovPM2BGNsz9FBY9fOnOxP65mmvqoy60/zFo9zqRsqD9h7uuclLynP3U485Wp06Q/DdQwjHhYoz9h6iJEn4ybP8s758FsUps/bBT9MJccmz8=",
          "dtype": "f8"
         }
        },
        {
         "hovertext": "<b>Topic 19</b>:prisão_preventiva_paciente_preso_h",
         "line": {
          "color": "black",
          "width": 1.5
         },
         "mode": "lines+lines",
         "name": "",
         "opacity": 0.1,
         "type": "scatter",
         "x": {
          "bdata": "AQAAAAIAAAADAAAABAAAAAUAAAAGAAAABwAAAAgAAAAJAAAACgAAAA==",
          "dtype": "i4"
         },
         "y": {
          "bdata": "/brAg9cRwz/3iitDwB+8P8quP7d/xbM/qCaY7ag3qD9xvkJmcF6mP3G+QmZwXqY/zt7vL88Moz9TOsMKEqOiP97rlq8gJaI/tfGQWPhsoD8=",
          "dtype": "f8"
         }
        },
        {
         "hovertext": "<b>Topic 20</b>:falecido_morte_pensão_óbito_segura",
         "line": {
          "color": "black",
          "width": 1.5
         },
         "mode": "lines+lines",
         "name": "",
         "opacity": 0.1,
         "type": "scatter",
         "x": {
          "bdata": "AQAAAAIAAAADAAAABAAAAAUAAAAGAAAABwAAAAgAAAAJAAAACgAAAA==",
          "dtype": "i4"
         },
         "y": {
          "bdata": "tQ0swUHhvD9fuj0hwjO2P0aenwIPfLQ/T3jGZYdssz8GL8YsC6OyP1NfOteubKw/akOQ9VrFoT+t/ruv8u6gP9lPydXXwZ0/js134ZxVmj8=",
          "dtype": "f8"
         }
        },
        {
         "hovertext": "<b>Topic 21</b>:crédito_cessão_valor_instituição_e",
         "line": {
          "color": "black",
          "width": 1.5
         },
         "mode": "lines+lines",
         "name": "",
         "opacity": 0.1,
         "type": "scatter",
         "x": {
          "bdata": "AQAAAAIAAAADAAAABAAAAAUAAAAGAAAABwAAAAgAAAAJAAAACgAAAA==",
          "dtype": "i4"
         },
         "y": {
          "bdata": "SOGyUA9YrT8SQRiS3MmqP5abIePoVqE/uib4uwACmz/RO7JBLvaWPweP2bT+f5Y/qcY+mEpplj8ZAA34dtaVP9tfrFCykJU/UiwS5CZwlT8=",
          "dtype": "f8"
         }
        },
        {
         "hovertext": "<b>Topic 22</b>:alvará_funcionamento_municipal_lic",
         "line": {
          "color": "black",
          "width": 1.5
         },
         "mode": "lines+lines",
         "name": "",
         "opacity": 0.1,
         "type": "scatter",
         "x": {
          "bdata": "AQAAAAIAAAADAAAABAAAAAUAAAAGAAAABwAAAAgAAAAJAAAACgAAAA==",
          "dtype": "i4"
         },
         "y": {
          "bdata": "rtq0aqxvpj+IT/IeWuqiP7fqPPFmaZ8/sTsO8f24mz+dOO6+XZyYP8JQaS91OZg/TyG6YudKlz83uvv97O2VP5P33Wj7G5U/+QBVtPYClT8=",
          "dtype": "f8"
         }
        },
        {
         "hovertext": "<b>Topic 23</b>:fiscal_nota_documento_negócio_jurí",
         "line": {
          "color": "black",
          "width": 1.5
         },
         "mode": "lines+lines",
         "name": "",
         "opacity": 0.1,
         "type": "scatter",
         "x": {
          "bdata": "AQAAAAIAAAADAAAABAAAAAUAAAAGAAAABwAAAAgAAAAJAAAACgAAAA==",
          "dtype": "i4"
         },
         "y": {
          "bdata": "s2vZXC2tsz+/VPKSyxSyP0A0VA2JAKs/AIe3PwQjpD+V+6hLmPSgP+CRiFqFxp4/fY6V6NeZnj8fcQ73rYKeP3XvB9aT9Z0/90Q2cjoonT8=",
          "dtype": "f8"
         }
        },
        {
         "hovertext": "<b>Topic 24</b>:conselho_crmv_animais_medicina_vet",
         "line": {
          "color": "black",
          "width": 1.5
         },
         "mode": "lines+lines",
         "name": "",
         "opacity": 0.1,
         "type": "scatter",
         "x": {
          "bdata": "AQAAAAIAAAADAAAABAAAAAUAAAAGAAAABwAAAAgAAAAJAAAACgAAAA==",
          "dtype": "i4"
         },
         "y": {
          "bdata": "UInUszw9tz+JKheOYay2P9RzaXTrgrU/iHdtAskVsz80o0AdFwuzPzV2ccJ/bbA/pCNC42soqj/C7n116VWoP8E564ANhKY/SH7JNGKMpT8=",
          "dtype": "f8"
         }
        },
        {
         "hovertext": "<b>Topic 25</b>:icms_cobrança_difal_estadual_simpl",
         "line": {
          "color": "black",
          "width": 1.5
         },
         "mode": "lines+lines",
         "name": "",
         "opacity": 0.1,
         "type": "scatter",
         "x": {
          "bdata": "AQAAAAIAAAADAAAABAAAAAUAAAAGAAAABwAAAAgAAAAJAAAACgAAAA==",
          "dtype": "i4"
         },
         "y": {
          "bdata": "Vv5yiNX4uT8pLkOHL3+xP2l36wGqH7E/AUrhbyphqz89tpRdz1ikP2xo1f0jXqI/oVtAp7tLoj8MpR+YzCqfPyTbzlhb+50/hQetMlJ5nT8=",
          "dtype": "f8"
         }
        },
        {
         "hovertext": "<b>Topic 26</b>:diligências_débito_executórias_con",
         "line": {
          "color": "black",
          "width": 1.5
         },
         "mode": "lines+lines",
         "name": "",
         "opacity": 0.1,
         "type": "scatter",
         "x": {
          "bdata": "AQAAAAIAAAADAAAABAAAAAUAAAAGAAAABwAAAAgAAAAJAAAACgAAAA==",
          "dtype": "i4"
         },
         "y": {
          "bdata": "yhSBPPjovD9c8XtWatO4P+RabgE7WbQ/WvwbDYI1rz87uq7fW4utP5cc0i36Kaw//6vFQeJ6qT+rnesEQJijP5R58IWAHaM/ax43iyyUoj8=",
          "dtype": "f8"
         }
        },
        {
         "hovertext": "<b>Topic 27</b>:porte_juizado_pequeno_especial_mic",
         "line": {
          "color": "black",
          "width": 1.5
         },
         "mode": "lines+lines",
         "name": "",
         "opacity": 0.1,
         "type": "scatter",
         "x": {
          "bdata": "AQAAAAIAAAADAAAABAAAAAUAAAAGAAAABwAAAAgAAAAJAAAACgAAAA==",
          "dtype": "i4"
         },
         "y": {
          "bdata": "BiyjILSlrD+93wZIRVqsP3rIP1qFQKw/VWFIPIUWqT9XGKYm922nPxqVP1RvPaY/zVskFRPwpD90t8lQ6GOjP9l5cPskDqM/tpVYlTFqnz8=",
          "dtype": "f8"
         }
        },
        {
         "hovertext": "<b>Topic 28</b>:acidente_danos_cessantes_lucros_ma",
         "line": {
          "color": "black",
          "width": 1.5
         },
         "mode": "lines+lines",
         "name": "",
         "opacity": 0.1,
         "type": "scatter",
         "x": {
          "bdata": "AQAAAAIAAAADAAAABAAAAAUAAAAGAAAABwAAAAgAAAAJAAAACgAAAA==",
          "dtype": "i4"
         },
         "y": {
          "bdata": "85C/1MwGtj90Dgo6iN+lPyGTkyrC0qU/Kf9VSwpEpT8dJvCleYWjPxPDceuddaM/1I8lZOFSnz8CDvzinSqdP8Bp/XItV5w/GJ2kbGapmj8=",
          "dtype": "f8"
         }
        },
        {
         "hovertext": "<b>Topic 29</b>:qualificação_juizado_especial_trib",
         "line": {
          "color": "black",
          "width": 1.5
         },
         "mode": "lines+lines",
         "name": "",
         "opacity": 0.1,
         "type": "scatter",
         "x": {
          "bdata": "AQAAAAIAAAADAAAABAAAAAUAAAAGAAAABwAAAAgAAAAJAAAACgAAAA==",
          "dtype": "i4"
         },
         "y": {
          "bdata": "ER6enGEgrT/aB1fyn42lP3VLDU1GLaQ/iZK8o7sjpD9DmqTy7g6jPyLxpXLmBKM/3vj+85iloD/TMeMJ18WdP665vDjyoJ0/f5Wh/S+QnT8=",
          "dtype": "f8"
         }
        },
        {
         "hovertext": "<b>Topic 30</b>:diligências_executórias_débito_exp",
         "line": {
          "color": "black",
          "width": 1.5
         },
         "mode": "lines+lines",
         "name": "",
         "opacity": 0.1,
         "type": "scatter",
         "x": {
          "bdata": "AQAAAAIAAAADAAAABAAAAAUAAAAGAAAABwAAAAgAAAAJAAAACgAAAA==",
          "dtype": "i4"
         },
         "y": {
          "bdata": "pIWQ5xDFxD8T5moHaKO8P/cSZ+Ldvrs/OopVQ0tDtD++sgQ/KImxP+9/2gxkTbE/NwtgPbaZsD8YHNdYWXavPxvveHUqlqs/CcQOh6GOqz8=",
          "dtype": "f8"
         }
        },
        {
         "hovertext": "<b>Topic 31</b>:segurada_facultativa_baixa_renda_a",
         "line": {
          "color": "black",
          "width": 1.5
         },
         "mode": "lines+lines",
         "name": "",
         "opacity": 0.1,
         "type": "scatter",
         "x": {
          "bdata": "AQAAAAIAAAADAAAABAAAAAUAAAAGAAAABwAAAAgAAAAJAAAACgAAAA==",
          "dtype": "i4"
         },
         "y": {
          "bdata": "c9anfoQIuT8ZU98fCD60P70k/o/bu7E/TkmdmBTzrT+RxFundManP/dz1fsnhaI/M8bmf3OqoT+TPDdHgyGhPxfDGZJMxqA/NIHe+iWDoD8=",
          "dtype": "f8"
         }
        },
        {
         "hovertext": "<b>Topic 32</b>:contador_propor_documentos_nota_ju",
         "line": {
          "color": "black",
          "width": 1.5
         },
         "mode": "lines+lines",
         "name": "",
         "opacity": 0.1,
         "type": "scatter",
         "x": {
          "bdata": "AQAAAAIAAAADAAAABAAAAAUAAAAGAAAABwAAAAgAAAAJAAAACgAAAA==",
          "dtype": "i4"
         },
         "y": {
          "bdata": "s4DUUOLvsj+aQeULSsuyPwYFD4uTT7I/r5OeiuYcrz/a2cVBa5mtP+4y7lJ91aw/OhSrqqRJqj8Iw08V7O6nP1tlKb9J3ac/6iXqcxygpj8=",
          "dtype": "f8"
         }
        },
        {
         "hovertext": "<b>Topic 33</b>:linha_telefonia_operadora_danos_mo",
         "line": {
          "color": "black",
          "width": 1.5
         },
         "mode": "lines+lines",
         "name": "",
         "opacity": 0.1,
         "type": "scatter",
         "x": {
          "bdata": "AQAAAAIAAAADAAAABAAAAAUAAAAGAAAABwAAAAgAAAAJAAAACgAAAA==",
          "dtype": "i4"
         },
         "y": {
          "bdata": "lVTQFC7OsT/oarXPviytP9VVAGJTJ6A/c4NWCeUDnz/Ovm9ttKCePzpIhlZXPpo/v/b37SiwmT/456M9ALqYP+Zc7zOSNJY/Q7gN4QTklT8=",
          "dtype": "f8"
         }
        },
        {
         "hovertext": "<b>Topic 34</b>:credor_microempresa_extinção_cessi",
         "line": {
          "color": "black",
          "width": 1.5
         },
         "mode": "lines+lines",
         "name": "",
         "opacity": 0.1,
         "type": "scatter",
         "x": {
          "bdata": "AQAAAAIAAAADAAAABAAAAAUAAAAGAAAABwAAAAgAAAAJAAAACgAAAA==",
          "dtype": "i4"
         },
         "y": {
          "bdata": "/sgmPzCwqj8S7BDMv96nP/zpHOM2qac/05rOPysxpD+XiXarosedP1IgXkuAOJ0/Fb/uZJromz+L3vDpGN+YPyjyILpwVJg/i2y2fYr0lz8=",
          "dtype": "f8"
         }
        },
        {
         "hovertext": "<b>Topic 35</b>:833_bens_exercício_impenhorabilida",
         "line": {
          "color": "black",
          "width": 1.5
         },
         "mode": "lines+lines",
         "name": "",
         "opacity": 0.1,
         "type": "scatter",
         "x": {
          "bdata": "AQAAAAIAAAADAAAABAAAAAUAAAAGAAAABwAAAAgAAAAJAAAACgAAAA==",
          "dtype": "i4"
         },
         "y": {
          "bdata": "l8FPzdh/tD+ScROIsaWwPx+i7ATiSrA/i9zFHb61rz/Hdww44fKqP8DhMQKwu6k/do1oNQr8qD++/A/Q1tSkP2X0GA7kbaQ/1DtYdRh+oT8=",
          "dtype": "f8"
         }
        },
        {
         "hovertext": "<b>Topic 36</b>:pena_semiaberto_regime_apenado_ext",
         "line": {
          "color": "black",
          "width": 1.5
         },
         "mode": "lines+lines",
         "name": "",
         "opacity": 0.1,
         "type": "scatter",
         "x": {
          "bdata": "AQAAAAIAAAADAAAABAAAAAUAAAAGAAAABwAAAAgAAAAJAAAACgAAAA==",
          "dtype": "i4"
         },
         "y": {
          "bdata": "KaCWPZE9tj85yEQLB9i0PwB1uUygmbM/yTSDVGtMsT8XSL/+60moP2YekAf6iaY/DWND2NappT9dk8mJeNqfP8OrM22Hg5o/F8bjhb/7mD8=",
          "dtype": "f8"
         }
        },
        {
         "hovertext": "<b>Topic 37</b>:epp_critérios_enquadrava_nos_cível",
         "line": {
          "color": "black",
          "width": 1.5
         },
         "mode": "lines+lines",
         "name": "",
         "opacity": 0.1,
         "type": "scatter",
         "x": {
          "bdata": "AQAAAAIAAAADAAAABAAAAAUAAAAGAAAABwAAAAgAAAAJAAAACgAAAA==",
          "dtype": "i4"
         },
         "y": {
          "bdata": "RIKnSI5/sz/RhhRUAGqzP+ygwV4Ki7E/AV9nIwYysT+bHP1xBh2rPwYYwN4ddKc/2NHtyKzPpj8OHx5L6G2mPw+EG0Sd86U/kuCmOzuqpT8=",
          "dtype": "f8"
         }
        },
        {
         "hovertext": "<b>Topic 38</b>:alimentos_provisórios_mínimo_pai_f",
         "line": {
          "color": "black",
          "width": 1.5
         },
         "mode": "lines+lines",
         "name": "",
         "opacity": 0.1,
         "type": "scatter",
         "x": {
          "bdata": "AQAAAAIAAAADAAAABAAAAAUAAAAGAAAABwAAAAgAAAAJAAAACgAAAA==",
          "dtype": "i4"
         },
         "y": {
          "bdata": "/fss5vsPuj+WsXq/YUywP6/Xm8xihK4/Z+innajXrD9BGsiIpyGnP/T05GguLKU/nLH0m1jXoz/bvh5blqOiP036jzatgKA/aB9+kzKwnD8=",
          "dtype": "f8"
         }
        },
        {
         "hovertext": "<b>Topic 39</b>:juizado_especial_porte_pequeno_ltd",
         "line": {
          "color": "black",
          "width": 1.5
         },
         "mode": "lines+lines",
         "name": "",
         "opacity": 0.1,
         "type": "scatter",
         "x": {
          "bdata": "AQAAAAIAAAADAAAABAAAAAUAAAAGAAAABwAAAAgAAAAJAAAACgAAAA==",
          "dtype": "i4"
         },
         "y": {
          "bdata": "abU0tdknpT9iSJXbnzekP9XfflqiyaM/wmjAkDe/oz9AZQpDTWKiP9d5p/bQE6E/16PZw1QDoD9buQ2gSrmeP0zDrfC3bJ0/WTyTPXnJmj8=",
          "dtype": "f8"
         }
        },
        {
         "hovertext": "<b>Topic 40</b>:extrajudicial_título_protesto_exec",
         "line": {
          "color": "black",
          "width": 1.5
         },
         "mode": "lines+lines",
         "name": "",
         "opacity": 0.1,
         "type": "scatter",
         "x": {
          "bdata": "AQAAAAIAAAADAAAABAAAAAUAAAAGAAAABwAAAAgAAAAJAAAACgAAAA==",
          "dtype": "i4"
         },
         "y": {
          "bdata": "hk0mreEntz9x6ncDXOy2P9tfi048oLU/IT5OOybKsz+JC15FLsSxP5k7t7fuOq8/uGkxx/RQrT/teE6B5o6sPzKdX8RHS6g/cQ8yWaHtpj8=",
          "dtype": "f8"
         }
        },
        {
         "hovertext": "<b>Topic 41</b>:prisão_liberais_ceplemg_preso_conv",
         "line": {
          "color": "black",
          "width": 1.5
         },
         "mode": "lines+lines",
         "name": "",
         "opacity": 0.1,
         "type": "scatter",
         "x": {
          "bdata": "AQAAAAIAAAADAAAABAAAAAUAAAAGAAAABwAAAAgAAAAJAAAACgAAAA==",
          "dtype": "i4"
         },
         "y": {
          "bdata": "AMqL79IHsT/tkT7TLkGwPwFlI1zyILA/8ttHVPBdrz/nUoSD8suuP8D65BFkIa4/ObbowVIwrT8K+bsbtaCrP622RN3JV6k/CC0lktM7qT8=",
          "dtype": "f8"
         }
        },
        {
         "hovertext": "<b>Topic 42</b>:valores_impenhoráveis_penhora_cont",
         "line": {
          "color": "black",
          "width": 1.5
         },
         "mode": "lines+lines",
         "name": "",
         "opacity": 0.1,
         "type": "scatter",
         "x": {
          "bdata": "AQAAAAIAAAADAAAABAAAAAUAAAAGAAAABwAAAAgAAAAJAAAACgAAAA==",
          "dtype": "i4"
         },
         "y": {
          "bdata": "ejabBWh9tz/jPH936U+xP9eGlIAG9LA/NmCjGxGAsD+bkqRXCDupP2GbxBDCEaY/OMuxWK7goj95dDsRCsifP1OC6g31tpw/XXHv8wQGmz8=",
          "dtype": "f8"
         }
        },
        {
         "hovertext": "<b>Topic 43</b>:juizado_099_95_especial_sociedades",
         "line": {
          "color": "black",
          "width": 1.5
         },
         "mode": "lines+lines",
         "name": "",
         "opacity": 0.1,
         "type": "scatter",
         "x": {
          "bdata": "AQAAAAIAAAADAAAABAAAAAUAAAAGAAAABwAAAAgAAAAJAAAACgAAAA==",
          "dtype": "i4"
         },
         "y": {
          "bdata": "7XkGtSJgsj9xgpferVGyP34iSLGOtbA/9o9cXrSusD/2p5s1jBiwP2IZ1yKnB6w/emmamnPeqz/oUaYeOzurP5McFDNT3qo/xF2d3vQxpz8=",
          "dtype": "f8"
         }
        },
        {
         "hovertext": "<b>Topic 44</b>:00_000_autor_serviço_pagou_valor_s",
         "line": {
          "color": "black",
          "width": 1.5
         },
         "mode": "lines+lines",
         "name": "",
         "opacity": 0.1,
         "type": "scatter",
         "x": {
          "bdata": "AQAAAAIAAAADAAAABAAAAAUAAAAGAAAABwAAAAgAAAAJAAAACgAAAA==",
          "dtype": "i4"
         },
         "y": {
          "bdata": "RCE5UIOjsD+9Nd+J6pqhPzpHiwv/BKE/oRnAjXBynT8LIcozcLWbP5Y3jc/1V5o/Il4AX9MFmT94UrykvtaYP8ZiXZgroJc/whKnqyXhlj8=",
          "dtype": "f8"
         }
        },
        {
         "hovertext": "<b>Topic 45</b>:ciacaps_atualizacao_capacitacao_in",
         "line": {
          "color": "black",
          "width": 1.5
         },
         "mode": "lines+lines",
         "name": "",
         "opacity": 0.1,
         "type": "scatter",
         "x": {
          "bdata": "AQAAAAIAAAADAAAABAAAAAUAAAAGAAAABwAAAAgAAAAJAAAACgAAAA==",
          "dtype": "i4"
         },
         "y": {
          "bdata": "Xqi9Lokevj+FACWz6HW5P4UAJbPodbk/g5zqN9HfuD8GuwH4bNy2PxZK9s1Dv7Y/8j5m/lmAtj/PUlW8Qkq2PzC44XIZRbY/4nfOs+Fasj8=",
          "dtype": "f8"
         }
        },
        {
         "hovertext": "<b>Topic 46</b>:propor_juizado_nesse_ações_lei_aut",
         "line": {
          "color": "black",
          "width": 1.5
         },
         "mode": "lines+lines",
         "name": "",
         "opacity": 0.1,
         "type": "scatter",
         "x": {
          "bdata": "AQAAAAIAAAADAAAABAAAAAUAAAAGAAAABwAAAAgAAAAJAAAACgAAAA==",
          "dtype": "i4"
         },
         "y": {
          "bdata": "qQx3DxgPvj/Gh/zMY0u9P5Dcg0qulLo/NciPEe2Jtj+O7AVJ0y60P7UFTVfxZbA/xa3Yd99urz9Alaj6hYCtPyRv72Dcp6w/NFzpWoN/rD8=",
          "dtype": "f8"
         }
        },
        {
         "hovertext": "<b>Topic 47</b>:me_jurídico_negócio_instituição_no",
         "line": {
          "color": "black",
          "width": 1.5
         },
         "mode": "lines+lines",
         "name": "",
         "opacity": 0.1,
         "type": "scatter",
         "x": {
          "bdata": "AQAAAAIAAAADAAAABAAAAAUAAAAGAAAABwAAAAgAAAAJAAAACgAAAA==",
          "dtype": "i4"
         },
         "y": {
          "bdata": "8uCJw0a6wz/zCdafLZPBP1R5FamS5cA/3SnU83ukwD/FWazZobW+P+Ib9ZfX47s/d2GFLCBFuj8olm5FcVm5P4AvJTJr6bc/9SszTl4mtz8=",
          "dtype": "f8"
         }
        },
        {
         "hovertext": "<b>Topic 48</b>:benefício_inss_deficiência_assiste",
         "line": {
          "color": "black",
          "width": 1.5
         },
         "mode": "lines+lines",
         "name": "",
         "opacity": 0.1,
         "type": "scatter",
         "x": {
          "bdata": "AQAAAAIAAAADAAAABAAAAAUAAAAGAAAABwAAAAgAAAAJAAAACgAAAA==",
          "dtype": "i4"
         },
         "y": {
          "bdata": "Ht8s7WrkrD+qqp9uQdGmP0iEfHD+caM/b3/aHk0hnz9FDC7sZcadP9gEGWNF45s/g5VMV5G0mj/7X4BPw3KaP5QR0VTyb5g/G+cRRCLElj8=",
          "dtype": "f8"
         }
        },
        {
         "hovertext": "<b>Topic 49</b>:rural_idade_aposentadoria_inss_agr",
         "line": {
          "color": "black",
          "width": 1.5
         },
         "mode": "lines+lines",
         "name": "",
         "opacity": 0.1,
         "type": "scatter",
         "x": {
          "bdata": "AQAAAAIAAAADAAAABAAAAAUAAAAGAAAABwAAAAgAAAAJAAAACgAAAA==",
          "dtype": "i4"
         },
         "y": {
          "bdata": "4heXL4jPxj+LuaMRJzO8P1eBCdM3PbI/pCQ+yL43pj9E0dWVeW6hP7eICvRZz6A/YcxN47ninz+BQUIg7JieP+oG/+ZcJpw/OluTdbesmz8=",
          "dtype": "f8"
         }
        },
        {
         "hovertext": "<b>Topic 50</b>:inviabilidade_gratuidade_financeir",
         "line": {
          "color": "black",
          "width": 1.5
         },
         "mode": "lines+lines",
         "name": "",
         "opacity": 0.1,
         "type": "scatter",
         "x": {
          "bdata": "AQAAAAIAAAADAAAABAAAAAUAAAAGAAAABwAAAAgAAAAJAAAACgAAAA==",
          "dtype": "i4"
         },
         "y": {
          "bdata": "CSxPVNqNxD8TVtNOB4u7P9C+QldQDrs/pFVSWC0Esz8tccI9vdiyPxvSREnvJ7I/AcfpXSOOsT+lpMNs3H+xP+kzPpte9a8/DEWxFB6Brz8=",
          "dtype": "f8"
         }
        },
        {
         "hovertext": "<b>Topic 51</b>:proporcional_cobrança_tipo_previst",
         "line": {
          "color": "black",
          "width": 1.5
         },
         "mode": "lines+lines",
         "name": "",
         "opacity": 0.1,
         "type": "scatter",
         "x": {
          "bdata": "AQAAAAIAAAADAAAABAAAAAUAAAAGAAAABwAAAAgAAAAJAAAACgAAAA==",
          "dtype": "i4"
         },
         "y": {
          "bdata": "+M0wnUo1wD9LUOxj1ES/P+uDd+DWIr0/LnO/ZnzGuD+rnHpnRSe2P0WBhatPkbU/Do1wgBn4tD8CyRwp4dW0P62l1rEpaLE/F3eSqs8HsT8=",
          "dtype": "f8"
         }
        },
        {
         "hovertext": "<b>Topic 52</b>:crime_ministério_autoria_público_p",
         "line": {
          "color": "black",
          "width": 1.5
         },
         "mode": "lines+lines",
         "name": "",
         "opacity": 0.1,
         "type": "scatter",
         "x": {
          "bdata": "AQAAAAIAAAADAAAABAAAAAUAAAAGAAAABwAAAAgAAAAJAAAACgAAAA==",
          "dtype": "i4"
         },
         "y": {
          "bdata": "BX+HGu8EuD+dj2FWyVGuP+Bn+V5y7ao/62gNimroqj98WjSClj6nP40YVkUttaQ//fkBHymWoj8vqd/qgaKgP6wWIuJtJqA/tOdQdKI0nz8=",
          "dtype": "f8"
         }
        },
        {
         "hovertext": "<b>Topic 53</b>:embargos_omissão_declaração_acórdã",
         "line": {
          "color": "black",
          "width": 1.5
         },
         "mode": "lines+lines",
         "name": "",
         "opacity": 0.1,
         "type": "scatter",
         "x": {
          "bdata": "AQAAAAIAAAADAAAABAAAAAUAAAAGAAAABwAAAAgAAAAJAAAACgAAAA==",
          "dtype": "i4"
         },
         "y": {
          "bdata": "L5hkqcJItj9Q9ySuYa6wPyh4siKYHrA/ZHgURBfupz8RbS+JQ4SnP9aTQfrarqQ/MoZuKQ7uoz8ajIVt7gKiP2ydm5aPH6A/bO3XOXCYmT8=",
          "dtype": "f8"
         }
        },
        {
         "hovertext": "<b>Topic 54</b>:citado_réu_intimado_compareceu_aud",
         "line": {
          "color": "black",
          "width": 1.5
         },
         "mode": "lines+lines",
         "name": "",
         "opacity": 0.1,
         "type": "scatter",
         "x": {
          "bdata": "AQAAAAIAAAADAAAABAAAAAUAAAAGAAAABwAAAAgAAAAJAAAACgAAAA==",
          "dtype": "i4"
         },
         "y": {
          "bdata": "gg2TJ5QAvT+A2SMvuVq8P7J4GtydWbw/FpYOmcYtuj94ryialNy5P17XPPeQ1LY/uECqRBhqsj+6t87KHFGwPx+5FtcrPbA/snicmw4Wrj8=",
          "dtype": "f8"
         }
        },
        {
         "hovertext": "<b>Topic 55</b>:citação_endereço_entregue_postal_v",
         "line": {
          "color": "black",
          "width": 1.5
         },
         "mode": "lines+lines",
         "name": "",
         "opacity": 0.1,
         "type": "scatter",
         "x": {
          "bdata": "AQAAAAIAAAADAAAABAAAAAUAAAAGAAAABwAAAAgAAAAJAAAACgAAAA==",
          "dtype": "i4"
         },
         "y": {
          "bdata": "52Tz9UTjxD8Lig0m33CxP8cO1sNYSaQ/MIQmGiX7oz+NhCWH0qKhP7QxrwYcSKE/bHIJ6T8LoT/CstzK0PugP9/sxELJapw/58pLl9Jdmz8=",
          "dtype": "f8"
         }
        },
        {
         "hovertext": "<b>Topic 56</b>:depósito_recursal_custas_ordinário",
         "line": {
          "color": "black",
          "width": 1.5
         },
         "mode": "lines+lines",
         "name": "",
         "opacity": 0.1,
         "type": "scatter",
         "x": {
          "bdata": "AQAAAAIAAAADAAAABAAAAAUAAAAGAAAABwAAAAgAAAAJAAAACgAAAA==",
          "dtype": "i4"
         },
         "y": {
          "bdata": "0pdp6/fisD+Qi9u3LpSvPyIQZsoQuqw/nVuzS/WUpz+nT/cVLxCmPzOJDhPRj6U/j75UsJNkpT9oq67+cp2jPyR1+yFqs6E/cszKRQIBoT8=",
          "dtype": "f8"
         }
        },
        {
         "hovertext": "<b>Topic 57</b>:doação_eleitoral_doações_limite_ac",
         "line": {
          "color": "black",
          "width": 1.5
         },
         "mode": "lines+lines",
         "name": "",
         "opacity": 0.1,
         "type": "scatter",
         "x": {
          "bdata": "AQAAAAIAAAADAAAABAAAAAUAAAAGAAAABwAAAAgAAAAJAAAACgAAAA==",
          "dtype": "i4"
         },
         "y": {
          "bdata": "mzY/smLtwj+5b83PYue7PzAgg27g6bo/LfuAfXZRuj99dGqXfwuwP+DOQzmNx6k/OzXc8TVBqT8gBrkWdOWmP9OJfmkGoKY/9cuz5biToT8=",
          "dtype": "f8"
         }
        }
       ],
       "layout": {
        "height": 500,
        "hoverlabel": {
         "bgcolor": "white",
         "font": {
          "family": "Rockwell",
          "size": 16
         }
        },
        "showlegend": false,
        "template": {
         "data": {
          "bar": [
           {
            "error_x": {
             "color": "#2a3f5f"
            },
            "error_y": {
             "color": "#2a3f5f"
            },
            "marker": {
             "line": {
              "color": "white",
              "width": 0.5
             },
             "pattern": {
              "fillmode": "overlay",
              "size": 10,
              "solidity": 0.2
             }
            },
            "type": "bar"
           }
          ],
          "barpolar": [
           {
            "marker": {
             "line": {
              "color": "white",
              "width": 0.5
             },
             "pattern": {
              "fillmode": "overlay",
              "size": 10,
              "solidity": 0.2
             }
            },
            "type": "barpolar"
           }
          ],
          "carpet": [
           {
            "aaxis": {
             "endlinecolor": "#2a3f5f",
             "gridcolor": "#C8D4E3",
             "linecolor": "#C8D4E3",
             "minorgridcolor": "#C8D4E3",
             "startlinecolor": "#2a3f5f"
            },
            "baxis": {
             "endlinecolor": "#2a3f5f",
             "gridcolor": "#C8D4E3",
             "linecolor": "#C8D4E3",
             "minorgridcolor": "#C8D4E3",
             "startlinecolor": "#2a3f5f"
            },
            "type": "carpet"
           }
          ],
          "choropleth": [
           {
            "colorbar": {
             "outlinewidth": 0,
             "ticks": ""
            },
            "type": "choropleth"
           }
          ],
          "contour": [
           {
            "colorbar": {
             "outlinewidth": 0,
             "ticks": ""
            },
            "colorscale": [
             [
              0,
              "#0d0887"
             ],
             [
              0.1111111111111111,
              "#46039f"
             ],
             [
              0.2222222222222222,
              "#7201a8"
             ],
             [
              0.3333333333333333,
              "#9c179e"
             ],
             [
              0.4444444444444444,
              "#bd3786"
             ],
             [
              0.5555555555555556,
              "#d8576b"
             ],
             [
              0.6666666666666666,
              "#ed7953"
             ],
             [
              0.7777777777777778,
              "#fb9f3a"
             ],
             [
              0.8888888888888888,
              "#fdca26"
             ],
             [
              1,
              "#f0f921"
             ]
            ],
            "type": "contour"
           }
          ],
          "contourcarpet": [
           {
            "colorbar": {
             "outlinewidth": 0,
             "ticks": ""
            },
            "type": "contourcarpet"
           }
          ],
          "heatmap": [
           {
            "colorbar": {
             "outlinewidth": 0,
             "ticks": ""
            },
            "colorscale": [
             [
              0,
              "#0d0887"
             ],
             [
              0.1111111111111111,
              "#46039f"
             ],
             [
              0.2222222222222222,
              "#7201a8"
             ],
             [
              0.3333333333333333,
              "#9c179e"
             ],
             [
              0.4444444444444444,
              "#bd3786"
             ],
             [
              0.5555555555555556,
              "#d8576b"
             ],
             [
              0.6666666666666666,
              "#ed7953"
             ],
             [
              0.7777777777777778,
              "#fb9f3a"
             ],
             [
              0.8888888888888888,
              "#fdca26"
             ],
             [
              1,
              "#f0f921"
             ]
            ],
            "type": "heatmap"
           }
          ],
          "histogram": [
           {
            "marker": {
             "pattern": {
              "fillmode": "overlay",
              "size": 10,
              "solidity": 0.2
             }
            },
            "type": "histogram"
           }
          ],
          "histogram2d": [
           {
            "colorbar": {
             "outlinewidth": 0,
             "ticks": ""
            },
            "colorscale": [
             [
              0,
              "#0d0887"
             ],
             [
              0.1111111111111111,
              "#46039f"
             ],
             [
              0.2222222222222222,
              "#7201a8"
             ],
             [
              0.3333333333333333,
              "#9c179e"
             ],
             [
              0.4444444444444444,
              "#bd3786"
             ],
             [
              0.5555555555555556,
              "#d8576b"
             ],
             [
              0.6666666666666666,
              "#ed7953"
             ],
             [
              0.7777777777777778,
              "#fb9f3a"
             ],
             [
              0.8888888888888888,
              "#fdca26"
             ],
             [
              1,
              "#f0f921"
             ]
            ],
            "type": "histogram2d"
           }
          ],
          "histogram2dcontour": [
           {
            "colorbar": {
             "outlinewidth": 0,
             "ticks": ""
            },
            "colorscale": [
             [
              0,
              "#0d0887"
             ],
             [
              0.1111111111111111,
              "#46039f"
             ],
             [
              0.2222222222222222,
              "#7201a8"
             ],
             [
              0.3333333333333333,
              "#9c179e"
             ],
             [
              0.4444444444444444,
              "#bd3786"
             ],
             [
              0.5555555555555556,
              "#d8576b"
             ],
             [
              0.6666666666666666,
              "#ed7953"
             ],
             [
              0.7777777777777778,
              "#fb9f3a"
             ],
             [
              0.8888888888888888,
              "#fdca26"
             ],
             [
              1,
              "#f0f921"
             ]
            ],
            "type": "histogram2dcontour"
           }
          ],
          "mesh3d": [
           {
            "colorbar": {
             "outlinewidth": 0,
             "ticks": ""
            },
            "type": "mesh3d"
           }
          ],
          "parcoords": [
           {
            "line": {
             "colorbar": {
              "outlinewidth": 0,
              "ticks": ""
             }
            },
            "type": "parcoords"
           }
          ],
          "pie": [
           {
            "automargin": true,
            "type": "pie"
           }
          ],
          "scatter": [
           {
            "fillpattern": {
             "fillmode": "overlay",
             "size": 10,
             "solidity": 0.2
            },
            "type": "scatter"
           }
          ],
          "scatter3d": [
           {
            "line": {
             "colorbar": {
              "outlinewidth": 0,
              "ticks": ""
             }
            },
            "marker": {
             "colorbar": {
              "outlinewidth": 0,
              "ticks": ""
             }
            },
            "type": "scatter3d"
           }
          ],
          "scattercarpet": [
           {
            "marker": {
             "colorbar": {
              "outlinewidth": 0,
              "ticks": ""
             }
            },
            "type": "scattercarpet"
           }
          ],
          "scattergeo": [
           {
            "marker": {
             "colorbar": {
              "outlinewidth": 0,
              "ticks": ""
             }
            },
            "type": "scattergeo"
           }
          ],
          "scattergl": [
           {
            "marker": {
             "colorbar": {
              "outlinewidth": 0,
              "ticks": ""
             }
            },
            "type": "scattergl"
           }
          ],
          "scattermap": [
           {
            "marker": {
             "colorbar": {
              "outlinewidth": 0,
              "ticks": ""
             }
            },
            "type": "scattermap"
           }
          ],
          "scattermapbox": [
           {
            "marker": {
             "colorbar": {
              "outlinewidth": 0,
              "ticks": ""
             }
            },
            "type": "scattermapbox"
           }
          ],
          "scatterpolar": [
           {
            "marker": {
             "colorbar": {
              "outlinewidth": 0,
              "ticks": ""
             }
            },
            "type": "scatterpolar"
           }
          ],
          "scatterpolargl": [
           {
            "marker": {
             "colorbar": {
              "outlinewidth": 0,
              "ticks": ""
             }
            },
            "type": "scatterpolargl"
           }
          ],
          "scatterternary": [
           {
            "marker": {
             "colorbar": {
              "outlinewidth": 0,
              "ticks": ""
             }
            },
            "type": "scatterternary"
           }
          ],
          "surface": [
           {
            "colorbar": {
             "outlinewidth": 0,
             "ticks": ""
            },
            "colorscale": [
             [
              0,
              "#0d0887"
             ],
             [
              0.1111111111111111,
              "#46039f"
             ],
             [
              0.2222222222222222,
              "#7201a8"
             ],
             [
              0.3333333333333333,
              "#9c179e"
             ],
             [
              0.4444444444444444,
              "#bd3786"
             ],
             [
              0.5555555555555556,
              "#d8576b"
             ],
             [
              0.6666666666666666,
              "#ed7953"
             ],
             [
              0.7777777777777778,
              "#fb9f3a"
             ],
             [
              0.8888888888888888,
              "#fdca26"
             ],
             [
              1,
              "#f0f921"
             ]
            ],
            "type": "surface"
           }
          ],
          "table": [
           {
            "cells": {
             "fill": {
              "color": "#EBF0F8"
             },
             "line": {
              "color": "white"
             }
            },
            "header": {
             "fill": {
              "color": "#C8D4E3"
             },
             "line": {
              "color": "white"
             }
            },
            "type": "table"
           }
          ]
         },
         "layout": {
          "annotationdefaults": {
           "arrowcolor": "#2a3f5f",
           "arrowhead": 0,
           "arrowwidth": 1
          },
          "autotypenumbers": "strict",
          "coloraxis": {
           "colorbar": {
            "outlinewidth": 0,
            "ticks": ""
           }
          },
          "colorscale": {
           "diverging": [
            [
             0,
             "#8e0152"
            ],
            [
             0.1,
             "#c51b7d"
            ],
            [
             0.2,
             "#de77ae"
            ],
            [
             0.3,
             "#f1b6da"
            ],
            [
             0.4,
             "#fde0ef"
            ],
            [
             0.5,
             "#f7f7f7"
            ],
            [
             0.6,
             "#e6f5d0"
            ],
            [
             0.7,
             "#b8e186"
            ],
            [
             0.8,
             "#7fbc41"
            ],
            [
             0.9,
             "#4d9221"
            ],
            [
             1,
             "#276419"
            ]
           ],
           "sequential": [
            [
             0,
             "#0d0887"
            ],
            [
             0.1111111111111111,
             "#46039f"
            ],
            [
             0.2222222222222222,
             "#7201a8"
            ],
            [
             0.3333333333333333,
             "#9c179e"
            ],
            [
             0.4444444444444444,
             "#bd3786"
            ],
            [
             0.5555555555555556,
             "#d8576b"
            ],
            [
             0.6666666666666666,
             "#ed7953"
            ],
            [
             0.7777777777777778,
             "#fb9f3a"
            ],
            [
             0.8888888888888888,
             "#fdca26"
            ],
            [
             1,
             "#f0f921"
            ]
           ],
           "sequentialminus": [
            [
             0,
             "#0d0887"
            ],
            [
             0.1111111111111111,
             "#46039f"
            ],
            [
             0.2222222222222222,
             "#7201a8"
            ],
            [
             0.3333333333333333,
             "#9c179e"
            ],
            [
             0.4444444444444444,
             "#bd3786"
            ],
            [
             0.5555555555555556,
             "#d8576b"
            ],
            [
             0.6666666666666666,
             "#ed7953"
            ],
            [
             0.7777777777777778,
             "#fb9f3a"
            ],
            [
             0.8888888888888888,
             "#fdca26"
            ],
            [
             1,
             "#f0f921"
            ]
           ]
          },
          "colorway": [
           "#636efa",
           "#EF553B",
           "#00cc96",
           "#ab63fa",
           "#FFA15A",
           "#19d3f3",
           "#FF6692",
           "#B6E880",
           "#FF97FF",
           "#FECB52"
          ],
          "font": {
           "color": "#2a3f5f"
          },
          "geo": {
           "bgcolor": "white",
           "lakecolor": "white",
           "landcolor": "white",
           "showlakes": true,
           "showland": true,
           "subunitcolor": "#C8D4E3"
          },
          "hoverlabel": {
           "align": "left"
          },
          "hovermode": "closest",
          "mapbox": {
           "style": "light"
          },
          "paper_bgcolor": "white",
          "plot_bgcolor": "white",
          "polar": {
           "angularaxis": {
            "gridcolor": "#EBF0F8",
            "linecolor": "#EBF0F8",
            "ticks": ""
           },
           "bgcolor": "white",
           "radialaxis": {
            "gridcolor": "#EBF0F8",
            "linecolor": "#EBF0F8",
            "ticks": ""
           }
          },
          "scene": {
           "xaxis": {
            "backgroundcolor": "white",
            "gridcolor": "#DFE8F3",
            "gridwidth": 2,
            "linecolor": "#EBF0F8",
            "showbackground": true,
            "ticks": "",
            "zerolinecolor": "#EBF0F8"
           },
           "yaxis": {
            "backgroundcolor": "white",
            "gridcolor": "#DFE8F3",
            "gridwidth": 2,
            "linecolor": "#EBF0F8",
            "showbackground": true,
            "ticks": "",
            "zerolinecolor": "#EBF0F8"
           },
           "zaxis": {
            "backgroundcolor": "white",
            "gridcolor": "#DFE8F3",
            "gridwidth": 2,
            "linecolor": "#EBF0F8",
            "showbackground": true,
            "ticks": "",
            "zerolinecolor": "#EBF0F8"
           }
          },
          "shapedefaults": {
           "line": {
            "color": "#2a3f5f"
           }
          },
          "ternary": {
           "aaxis": {
            "gridcolor": "#DFE8F3",
            "linecolor": "#A2B1C6",
            "ticks": ""
           },
           "baxis": {
            "gridcolor": "#DFE8F3",
            "linecolor": "#A2B1C6",
            "ticks": ""
           },
           "bgcolor": "white",
           "caxis": {
            "gridcolor": "#DFE8F3",
            "linecolor": "#A2B1C6",
            "ticks": ""
           }
          },
          "title": {
           "x": 0.05
          },
          "xaxis": {
           "automargin": true,
           "gridcolor": "#EBF0F8",
           "linecolor": "#EBF0F8",
           "ticks": "",
           "title": {
            "standoff": 15
           },
           "zerolinecolor": "#EBF0F8",
           "zerolinewidth": 2
          },
          "yaxis": {
           "automargin": true,
           "gridcolor": "#EBF0F8",
           "linecolor": "#EBF0F8",
           "ticks": "",
           "title": {
            "standoff": 15
           },
           "zerolinecolor": "#EBF0F8",
           "zerolinewidth": 2
          }
         }
        },
        "title": {
         "font": {
          "color": "Black",
          "size": 22
         },
         "text": "<b>Term score decline per Topic</b>",
         "x": 0.5,
         "xanchor": "center",
         "y": 0.9,
         "yanchor": "top"
        },
        "width": 800,
        "xaxis": {
         "dtick": 2,
         "range": [
          0,
          10
         ],
         "tick0": 1,
         "title": {
          "text": "Term Rank"
         }
        },
        "yaxis": {
         "title": {
          "text": "c-TF-IDF score"
         }
        }
       }
      }
     },
     "metadata": {},
     "output_type": "display_data"
    }
   ],
   "source": [
    "topic_model.visualize_term_rank()"
   ]
  },
  {
   "cell_type": "code",
   "execution_count": 17,
   "id": "683cdaad-1302-41cb-ada9-aa41058a348a",
   "metadata": {},
   "outputs": [
    {
     "data": {
      "application/vnd.plotly.v1+json": {
       "config": {
        "plotlyServerURL": "https://plot.ly"
       },
       "data": [
        {
         "branchvalues": "total",
         "customdata": {
          "bdata": "AAAAAABapUAAAAAAADiPQAAAAAAAkHxAAAAAAACwdkAAAAAAAEB1QAAAAAAAMHFAAAAAAACgakAAAAAAAGBpQAAAAAAAYGlAAAAAAABAaUAAAAAAAGBmQAAAAAAAoGBAAAAAAADAWkAAAAAAAEBXQAAAAAAAwFZAAAAAAADAVUAAAAAAAMBUQAAAAAAAQFRAAAAAAABAVEAAAAAAAMBTQA==",
          "dtype": "f8",
          "shape": "20, 1"
         },
         "domain": {
          "x": [
           0,
           1
          ],
          "y": [
           0,
           1
          ]
         },
         "hovertemplate": "<b>%{label}</b><br>Quantidade: %{value}<extra></extra>",
         "ids": [
          "7 - Vínculo Empregatício...",
          "1 - Justiça Gratuita...",
          "12 - Isenção de Taxas para MEIs...",
          "5 - Fraude Empresarial...",
          "39 - Adeção ao Simples Nacional...",
          "34 - Seguro-Desemprego e Renda...",
          "23 - Problemas Bancários...",
          "6 - Confusão Patrimonial...",
          "27 - Negativação Indevida...",
          "26 - Contribuições e Aposentadoria...",
          "37 - Benefícios Previdenciários...",
          "10 - Irregularidades em Licitações...",
          "31 - Recursos Trabalhistas...",
          "14 - Redução de Depósito Recursal...",
          "33 - Salário-Maternidade INSS...",
          "50 - Juros e Cobrança...",
          "18 - Documentação Judicial...",
          "48 - Auxílio Emergencial...",
          "51 - Cobrança de Débitos...",
          "30 - Problemas com Planos de Saúde..."
         ],
         "labels": [
          "7 - Vínculo Empregatício...",
          "1 - Justiça Gratuita...",
          "12 - Isenção de Taxas para MEIs...",
          "5 - Fraude Empresarial...",
          "39 - Adeção ao Simples Nacional...",
          "34 - Seguro-Desemprego e Renda...",
          "23 - Problemas Bancários...",
          "6 - Confusão Patrimonial...",
          "27 - Negativação Indevida...",
          "26 - Contribuições e Aposentadoria...",
          "37 - Benefícios Previdenciários...",
          "10 - Irregularidades em Licitações...",
          "31 - Recursos Trabalhistas...",
          "14 - Redução de Depósito Recursal...",
          "33 - Salário-Maternidade INSS...",
          "50 - Juros e Cobrança...",
          "18 - Documentação Judicial...",
          "48 - Auxílio Emergencial...",
          "51 - Cobrança de Débitos...",
          "30 - Problemas com Planos de Saúde..."
         ],
         "marker": {
          "coloraxis": "coloraxis",
          "colors": {
           "bdata": "AAAAAABapUAAAAAAADiPQAAAAAAAkHxAAAAAAACwdkAAAAAAAEB1QAAAAAAAMHFAAAAAAACgakAAAAAAAGBpQAAAAAAAYGlAAAAAAABAaUAAAAAAAGBmQAAAAAAAoGBAAAAAAADAWkAAAAAAAEBXQAAAAAAAwFZAAAAAAADAVUAAAAAAAMBUQAAAAAAAQFRAAAAAAABAVEAAAAAAAMBTQA==",
           "dtype": "f8"
          }
         },
         "name": "",
         "parents": [
          "",
          "",
          "",
          "",
          "",
          "",
          "",
          "",
          "",
          "",
          "",
          "",
          "",
          "",
          "",
          "",
          "",
          "",
          "",
          ""
         ],
         "textinfo": "label+value",
         "type": "treemap",
         "values": {
          "bdata": "AAAAAABapUAAAAAAADiPQAAAAAAAkHxAAAAAAACwdkAAAAAAAEB1QAAAAAAAMHFAAAAAAACgakAAAAAAAGBpQAAAAAAAYGlAAAAAAABAaUAAAAAAAGBmQAAAAAAAoGBAAAAAAADAWkAAAAAAAEBXQAAAAAAAwFZAAAAAAADAVUAAAAAAAMBUQAAAAAAAQFRAAAAAAABAVEAAAAAAAMBTQA==",
          "dtype": "f8"
         }
        }
       ],
       "layout": {
        "coloraxis": {
         "colorbar": {
          "title": {
           "text": "quantidade"
          }
         },
         "colorscale": [
          [
           0,
           "rgb(103,0,31)"
          ],
          [
           0.1,
           "rgb(178,24,43)"
          ],
          [
           0.2,
           "rgb(214,96,77)"
          ],
          [
           0.3,
           "rgb(244,165,130)"
          ],
          [
           0.4,
           "rgb(253,219,199)"
          ],
          [
           0.5,
           "rgb(247,247,247)"
          ],
          [
           0.6,
           "rgb(209,229,240)"
          ],
          [
           0.7,
           "rgb(146,197,222)"
          ],
          [
           0.8,
           "rgb(67,147,195)"
          ],
          [
           0.9,
           "rgb(33,102,172)"
          ],
          [
           1,
           "rgb(5,48,97)"
          ]
         ]
        },
        "legend": {
         "tracegroupgap": 0
        },
        "template": {
         "data": {
          "bar": [
           {
            "error_x": {
             "color": "#2a3f5f"
            },
            "error_y": {
             "color": "#2a3f5f"
            },
            "marker": {
             "line": {
              "color": "#E5ECF6",
              "width": 0.5
             },
             "pattern": {
              "fillmode": "overlay",
              "size": 10,
              "solidity": 0.2
             }
            },
            "type": "bar"
           }
          ],
          "barpolar": [
           {
            "marker": {
             "line": {
              "color": "#E5ECF6",
              "width": 0.5
             },
             "pattern": {
              "fillmode": "overlay",
              "size": 10,
              "solidity": 0.2
             }
            },
            "type": "barpolar"
           }
          ],
          "carpet": [
           {
            "aaxis": {
             "endlinecolor": "#2a3f5f",
             "gridcolor": "white",
             "linecolor": "white",
             "minorgridcolor": "white",
             "startlinecolor": "#2a3f5f"
            },
            "baxis": {
             "endlinecolor": "#2a3f5f",
             "gridcolor": "white",
             "linecolor": "white",
             "minorgridcolor": "white",
             "startlinecolor": "#2a3f5f"
            },
            "type": "carpet"
           }
          ],
          "choropleth": [
           {
            "colorbar": {
             "outlinewidth": 0,
             "ticks": ""
            },
            "type": "choropleth"
           }
          ],
          "contour": [
           {
            "colorbar": {
             "outlinewidth": 0,
             "ticks": ""
            },
            "colorscale": [
             [
              0,
              "#0d0887"
             ],
             [
              0.1111111111111111,
              "#46039f"
             ],
             [
              0.2222222222222222,
              "#7201a8"
             ],
             [
              0.3333333333333333,
              "#9c179e"
             ],
             [
              0.4444444444444444,
              "#bd3786"
             ],
             [
              0.5555555555555556,
              "#d8576b"
             ],
             [
              0.6666666666666666,
              "#ed7953"
             ],
             [
              0.7777777777777778,
              "#fb9f3a"
             ],
             [
              0.8888888888888888,
              "#fdca26"
             ],
             [
              1,
              "#f0f921"
             ]
            ],
            "type": "contour"
           }
          ],
          "contourcarpet": [
           {
            "colorbar": {
             "outlinewidth": 0,
             "ticks": ""
            },
            "type": "contourcarpet"
           }
          ],
          "heatmap": [
           {
            "colorbar": {
             "outlinewidth": 0,
             "ticks": ""
            },
            "colorscale": [
             [
              0,
              "#0d0887"
             ],
             [
              0.1111111111111111,
              "#46039f"
             ],
             [
              0.2222222222222222,
              "#7201a8"
             ],
             [
              0.3333333333333333,
              "#9c179e"
             ],
             [
              0.4444444444444444,
              "#bd3786"
             ],
             [
              0.5555555555555556,
              "#d8576b"
             ],
             [
              0.6666666666666666,
              "#ed7953"
             ],
             [
              0.7777777777777778,
              "#fb9f3a"
             ],
             [
              0.8888888888888888,
              "#fdca26"
             ],
             [
              1,
              "#f0f921"
             ]
            ],
            "type": "heatmap"
           }
          ],
          "histogram": [
           {
            "marker": {
             "pattern": {
              "fillmode": "overlay",
              "size": 10,
              "solidity": 0.2
             }
            },
            "type": "histogram"
           }
          ],
          "histogram2d": [
           {
            "colorbar": {
             "outlinewidth": 0,
             "ticks": ""
            },
            "colorscale": [
             [
              0,
              "#0d0887"
             ],
             [
              0.1111111111111111,
              "#46039f"
             ],
             [
              0.2222222222222222,
              "#7201a8"
             ],
             [
              0.3333333333333333,
              "#9c179e"
             ],
             [
              0.4444444444444444,
              "#bd3786"
             ],
             [
              0.5555555555555556,
              "#d8576b"
             ],
             [
              0.6666666666666666,
              "#ed7953"
             ],
             [
              0.7777777777777778,
              "#fb9f3a"
             ],
             [
              0.8888888888888888,
              "#fdca26"
             ],
             [
              1,
              "#f0f921"
             ]
            ],
            "type": "histogram2d"
           }
          ],
          "histogram2dcontour": [
           {
            "colorbar": {
             "outlinewidth": 0,
             "ticks": ""
            },
            "colorscale": [
             [
              0,
              "#0d0887"
             ],
             [
              0.1111111111111111,
              "#46039f"
             ],
             [
              0.2222222222222222,
              "#7201a8"
             ],
             [
              0.3333333333333333,
              "#9c179e"
             ],
             [
              0.4444444444444444,
              "#bd3786"
             ],
             [
              0.5555555555555556,
              "#d8576b"
             ],
             [
              0.6666666666666666,
              "#ed7953"
             ],
             [
              0.7777777777777778,
              "#fb9f3a"
             ],
             [
              0.8888888888888888,
              "#fdca26"
             ],
             [
              1,
              "#f0f921"
             ]
            ],
            "type": "histogram2dcontour"
           }
          ],
          "mesh3d": [
           {
            "colorbar": {
             "outlinewidth": 0,
             "ticks": ""
            },
            "type": "mesh3d"
           }
          ],
          "parcoords": [
           {
            "line": {
             "colorbar": {
              "outlinewidth": 0,
              "ticks": ""
             }
            },
            "type": "parcoords"
           }
          ],
          "pie": [
           {
            "automargin": true,
            "type": "pie"
           }
          ],
          "scatter": [
           {
            "fillpattern": {
             "fillmode": "overlay",
             "size": 10,
             "solidity": 0.2
            },
            "type": "scatter"
           }
          ],
          "scatter3d": [
           {
            "line": {
             "colorbar": {
              "outlinewidth": 0,
              "ticks": ""
             }
            },
            "marker": {
             "colorbar": {
              "outlinewidth": 0,
              "ticks": ""
             }
            },
            "type": "scatter3d"
           }
          ],
          "scattercarpet": [
           {
            "marker": {
             "colorbar": {
              "outlinewidth": 0,
              "ticks": ""
             }
            },
            "type": "scattercarpet"
           }
          ],
          "scattergeo": [
           {
            "marker": {
             "colorbar": {
              "outlinewidth": 0,
              "ticks": ""
             }
            },
            "type": "scattergeo"
           }
          ],
          "scattergl": [
           {
            "marker": {
             "colorbar": {
              "outlinewidth": 0,
              "ticks": ""
             }
            },
            "type": "scattergl"
           }
          ],
          "scattermap": [
           {
            "marker": {
             "colorbar": {
              "outlinewidth": 0,
              "ticks": ""
             }
            },
            "type": "scattermap"
           }
          ],
          "scattermapbox": [
           {
            "marker": {
             "colorbar": {
              "outlinewidth": 0,
              "ticks": ""
             }
            },
            "type": "scattermapbox"
           }
          ],
          "scatterpolar": [
           {
            "marker": {
             "colorbar": {
              "outlinewidth": 0,
              "ticks": ""
             }
            },
            "type": "scatterpolar"
           }
          ],
          "scatterpolargl": [
           {
            "marker": {
             "colorbar": {
              "outlinewidth": 0,
              "ticks": ""
             }
            },
            "type": "scatterpolargl"
           }
          ],
          "scatterternary": [
           {
            "marker": {
             "colorbar": {
              "outlinewidth": 0,
              "ticks": ""
             }
            },
            "type": "scatterternary"
           }
          ],
          "surface": [
           {
            "colorbar": {
             "outlinewidth": 0,
             "ticks": ""
            },
            "colorscale": [
             [
              0,
              "#0d0887"
             ],
             [
              0.1111111111111111,
              "#46039f"
             ],
             [
              0.2222222222222222,
              "#7201a8"
             ],
             [
              0.3333333333333333,
              "#9c179e"
             ],
             [
              0.4444444444444444,
              "#bd3786"
             ],
             [
              0.5555555555555556,
              "#d8576b"
             ],
             [
              0.6666666666666666,
              "#ed7953"
             ],
             [
              0.7777777777777778,
              "#fb9f3a"
             ],
             [
              0.8888888888888888,
              "#fdca26"
             ],
             [
              1,
              "#f0f921"
             ]
            ],
            "type": "surface"
           }
          ],
          "table": [
           {
            "cells": {
             "fill": {
              "color": "#EBF0F8"
             },
             "line": {
              "color": "white"
             }
            },
            "header": {
             "fill": {
              "color": "#C8D4E3"
             },
             "line": {
              "color": "white"
             }
            },
            "type": "table"
           }
          ]
         },
         "layout": {
          "annotationdefaults": {
           "arrowcolor": "#2a3f5f",
           "arrowhead": 0,
           "arrowwidth": 1
          },
          "autotypenumbers": "strict",
          "coloraxis": {
           "colorbar": {
            "outlinewidth": 0,
            "ticks": ""
           }
          },
          "colorscale": {
           "diverging": [
            [
             0,
             "#8e0152"
            ],
            [
             0.1,
             "#c51b7d"
            ],
            [
             0.2,
             "#de77ae"
            ],
            [
             0.3,
             "#f1b6da"
            ],
            [
             0.4,
             "#fde0ef"
            ],
            [
             0.5,
             "#f7f7f7"
            ],
            [
             0.6,
             "#e6f5d0"
            ],
            [
             0.7,
             "#b8e186"
            ],
            [
             0.8,
             "#7fbc41"
            ],
            [
             0.9,
             "#4d9221"
            ],
            [
             1,
             "#276419"
            ]
           ],
           "sequential": [
            [
             0,
             "#0d0887"
            ],
            [
             0.1111111111111111,
             "#46039f"
            ],
            [
             0.2222222222222222,
             "#7201a8"
            ],
            [
             0.3333333333333333,
             "#9c179e"
            ],
            [
             0.4444444444444444,
             "#bd3786"
            ],
            [
             0.5555555555555556,
             "#d8576b"
            ],
            [
             0.6666666666666666,
             "#ed7953"
            ],
            [
             0.7777777777777778,
             "#fb9f3a"
            ],
            [
             0.8888888888888888,
             "#fdca26"
            ],
            [
             1,
             "#f0f921"
            ]
           ],
           "sequentialminus": [
            [
             0,
             "#0d0887"
            ],
            [
             0.1111111111111111,
             "#46039f"
            ],
            [
             0.2222222222222222,
             "#7201a8"
            ],
            [
             0.3333333333333333,
             "#9c179e"
            ],
            [
             0.4444444444444444,
             "#bd3786"
            ],
            [
             0.5555555555555556,
             "#d8576b"
            ],
            [
             0.6666666666666666,
             "#ed7953"
            ],
            [
             0.7777777777777778,
             "#fb9f3a"
            ],
            [
             0.8888888888888888,
             "#fdca26"
            ],
            [
             1,
             "#f0f921"
            ]
           ]
          },
          "colorway": [
           "#636efa",
           "#EF553B",
           "#00cc96",
           "#ab63fa",
           "#FFA15A",
           "#19d3f3",
           "#FF6692",
           "#B6E880",
           "#FF97FF",
           "#FECB52"
          ],
          "font": {
           "color": "#2a3f5f"
          },
          "geo": {
           "bgcolor": "white",
           "lakecolor": "white",
           "landcolor": "#E5ECF6",
           "showlakes": true,
           "showland": true,
           "subunitcolor": "white"
          },
          "hoverlabel": {
           "align": "left"
          },
          "hovermode": "closest",
          "mapbox": {
           "style": "light"
          },
          "paper_bgcolor": "white",
          "plot_bgcolor": "#E5ECF6",
          "polar": {
           "angularaxis": {
            "gridcolor": "white",
            "linecolor": "white",
            "ticks": ""
           },
           "bgcolor": "#E5ECF6",
           "radialaxis": {
            "gridcolor": "white",
            "linecolor": "white",
            "ticks": ""
           }
          },
          "scene": {
           "xaxis": {
            "backgroundcolor": "#E5ECF6",
            "gridcolor": "white",
            "gridwidth": 2,
            "linecolor": "white",
            "showbackground": true,
            "ticks": "",
            "zerolinecolor": "white"
           },
           "yaxis": {
            "backgroundcolor": "#E5ECF6",
            "gridcolor": "white",
            "gridwidth": 2,
            "linecolor": "white",
            "showbackground": true,
            "ticks": "",
            "zerolinecolor": "white"
           },
           "zaxis": {
            "backgroundcolor": "#E5ECF6",
            "gridcolor": "white",
            "gridwidth": 2,
            "linecolor": "white",
            "showbackground": true,
            "ticks": "",
            "zerolinecolor": "white"
           }
          },
          "shapedefaults": {
           "line": {
            "color": "#2a3f5f"
           }
          },
          "ternary": {
           "aaxis": {
            "gridcolor": "white",
            "linecolor": "white",
            "ticks": ""
           },
           "baxis": {
            "gridcolor": "white",
            "linecolor": "white",
            "ticks": ""
           },
           "bgcolor": "#E5ECF6",
           "caxis": {
            "gridcolor": "white",
            "linecolor": "white",
            "ticks": ""
           }
          },
          "title": {
           "x": 0.05
          },
          "xaxis": {
           "automargin": true,
           "gridcolor": "white",
           "linecolor": "white",
           "ticks": "",
           "title": {
            "standoff": 15
           },
           "zerolinecolor": "white",
           "zerolinewidth": 2
          },
          "yaxis": {
           "automargin": true,
           "gridcolor": "white",
           "linecolor": "white",
           "ticks": "",
           "title": {
            "standoff": 15
           },
           "zerolinecolor": "white",
           "zerolinewidth": 2
          }
         }
        },
        "title": {
         "text": "Distribuição dos Tópicos (Treemap)<br><sup>Total de documentos considerados: 7999</sup>"
        }
       }
      }
     },
     "metadata": {},
     "output_type": "display_data"
    }
   ],
   "source": [
    "plot_treemap_topicos(df_with_topics, top_n=20, incluir_noise=False)"
   ]
  },
  {
   "cell_type": "code",
   "execution_count": null,
   "id": "695c3905-6595-4547-adc6-6aca9d02a899",
   "metadata": {},
   "outputs": [],
   "source": []
  }
 ],
 "metadata": {
  "kernelspec": {
   "display_name": "Python (processos_judiciais)",
   "language": "python",
   "name": "processos_judiciais"
  },
  "language_info": {
   "codemirror_mode": {
    "name": "ipython",
    "version": 3
   },
   "file_extension": ".py",
   "mimetype": "text/x-python",
   "name": "python",
   "nbconvert_exporter": "python",
   "pygments_lexer": "ipython3",
   "version": "3.9.23"
  }
 },
 "nbformat": 4,
 "nbformat_minor": 5
}
