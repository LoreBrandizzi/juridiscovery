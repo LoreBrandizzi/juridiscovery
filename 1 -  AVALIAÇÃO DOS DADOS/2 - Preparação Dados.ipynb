{
 "cells": [
  {
   "cell_type": "code",
   "execution_count": 2,
   "id": "8cfe95c6",
   "metadata": {},
   "outputs": [],
   "source": [
    "import psycopg2\n",
    "import pandas as pd\n",
    "import re\n",
    "from IPython.display import clear_output\n",
    "from transformers import AutoTokenizer, AutoModel\n",
    "import matplotlib.pyplot as plt\n",
    "from math import ceil\n",
    "\n",
    "\n",
    "# Função para se conectar ao banco\n",
    "def get_connection():\n",
    "    return psycopg2.connect(\n",
    "        dbname=\"PROCESSOS\",\n",
    "        user=\"\",\n",
    "        password=\"\",\n",
    "        host=\"\",\n",
    "        port=\"5432\"\n",
    "    )\n"
   ]
  },
  {
   "cell_type": "markdown",
   "id": "6e735356",
   "metadata": {},
   "source": [
    "## 1 - Limpando o número do processo e criando um campo novo, que contem o numero do processo e o tribunal, e permitirá a identificação unívoca do processo"
   ]
  },
  {
   "cell_type": "code",
   "execution_count": 3,
   "id": "794ab798",
   "metadata": {},
   "outputs": [],
   "source": [
    "\n",
    "# Função para limpar o número do processo\n",
    "def limpar_numero(numero):\n",
    "    if numero:\n",
    "        return re.sub(r'\\D', '', numero)\n",
    "    return ''\n",
    "\n",
    "# Função para buscar, processar e atualizar os dados com feedback de progresso\n",
    "def atualizar_processos():\n",
    "    conn = get_connection()\n",
    "    cursor = conn.cursor()\n",
    "\n",
    "    # Carrega os dados\n",
    "    query = \"SELECT numero_processo, tribunal FROM processos_jusbrasil_chave_dia where numero_processo_tribunal is null\"\n",
    "    df = pd.read_sql_query(query, conn)\n",
    "\n",
    "    # Limpa e cria os novos campos\n",
    "    df['numero_processo_limpo'] = df['numero_processo'].apply(limpar_numero)\n",
    "    df['numero_processo_tribunal'] = df['numero_processo_limpo'] + '_' + df['tribunal']\n",
    "\n",
    "    total = len(df)\n",
    "\n",
    "    # Atualiza linha por linha com contador\n",
    "    for i, (_, row) in enumerate(df.iterrows(), start=1):\n",
    "        print(f\"{i}/{total}\")\n",
    "\n",
    "        cursor.execute(\"\"\"\n",
    "            UPDATE processos_jusbrasil_chave_dia\n",
    "            SET numero_processo_limpo = %s,\n",
    "                numero_processo_tribunal = %s\n",
    "            WHERE numero_processo = %s AND tribunal = %s\n",
    "        \"\"\", (\n",
    "            row['numero_processo_limpo'],\n",
    "            row['numero_processo_tribunal'],\n",
    "            row['numero_processo'],\n",
    "            row['tribunal']\n",
    "        ))\n",
    "        conn.commit()\n",
    "        clear_output(wait=True)\n",
    "        \n",
    "    cursor.close()\n",
    "    conn.close()\n",
    "    print(\"Atualização concluída com sucesso.\")"
   ]
  },
  {
   "cell_type": "code",
   "execution_count": null,
   "id": "94910574",
   "metadata": {},
   "outputs": [
    {
     "name": "stdout",
     "output_type": "stream",
     "text": [
      "3294/24166\n"
     ]
    }
   ],
   "source": [
    "atualizar_processos()"
   ]
  },
  {
   "cell_type": "markdown",
   "id": "a837995b",
   "metadata": {},
   "source": [
    "# Copiando os processos únicos para a tabela que será utilizada"
   ]
  },
  {
   "cell_type": "code",
   "execution_count": null,
   "id": "023f42d5",
   "metadata": {},
   "outputs": [],
   "source": [
    "def criar_tabela_unicos():\n",
    "    conn = get_connection()\n",
    "    cursor = conn.cursor()\n",
    "\n",
    "    cursor.execute(\"\"\"\n",
    "        CREATE TABLE IF NOT EXISTS processos (\n",
    "            id SERIAL PRIMARY KEY,\n",
    "            tribunal TEXT,\n",
    "            apelacao TEXT,\n",
    "            resumo_ementa TEXT,\n",
    "            titulo TEXT,\n",
    "            ementa_completa TEXT,\n",
    "            numero_processo TEXT,\n",
    "            apelante TEXT,\n",
    "            reu TEXT,\n",
    "            numero_processo_limpo TEXT,\n",
    "            numero_processo_tribunal TEXT UNIQUE,\n",
    "            start_date DATE,\n",
    "            end_date DATE\n",
    "        )\n",
    "    \"\"\")\n",
    "\n",
    "    conn.commit()\n",
    "    cursor.close()\n",
    "    conn.close()\n",
    "\n",
    "def inserir_processos_unicos():\n",
    "    conn = get_connection()\n",
    "    cursor = conn.cursor()\n",
    "\n",
    "    query = \"\"\"\n",
    "        SELECT DISTINCT ON (numero_processo_tribunal)\n",
    "            tribunal, apelacao, resumo_ementa, titulo, ementa_completa,\n",
    "            numero_processo, apelante, reu,\n",
    "            numero_processo_limpo, numero_processo_tribunal,\n",
    "            start_date, end_date\n",
    "        FROM public.processos_jusbrasil_chave_dia\n",
    "        WHERE numero_processo_tribunal IS NOT NULL\n",
    "        ORDER BY numero_processo_tribunal, LENGTH(ementa_completa) DESC;\n",
    "\n",
    "    \"\"\"\n",
    "\n",
    "    df = pd.read_sql_query(query, conn)\n",
    "\n",
    "    for _, row in df.iterrows():\n",
    "        try:\n",
    "            cursor.execute(\"\"\"\n",
    "                INSERT INTO processos (\n",
    "                    tribunal, apelacao, resumo_ementa, titulo, ementa_completa,\n",
    "                    numero_processo, apelante, reu,\n",
    "                    numero_processo_limpo, numero_processo_tribunal,\n",
    "                    start_date, end_date\n",
    "                ) VALUES (%s, %s, %s, %s, %s, %s, %s, %s, %s, %s, %s, %s)\n",
    "                ON CONFLICT (numero_processo_tribunal) DO NOTHING\n",
    "            \"\"\", (\n",
    "                row['tribunal'], row['apelacao'], row['resumo_ementa'], row['titulo'], row['ementa_completa'],\n",
    "                row['numero_processo'], row['apelante'], row['reu'],\n",
    "                row['numero_processo_limpo'], row['numero_processo_tribunal'],\n",
    "                row['start_date'], row['end_date']\n",
    "            ))\n",
    "        except Exception as e:\n",
    "            print(f\"Erro ao inserir: {e}\")\n",
    "\n",
    "    conn.commit()\n",
    "    cursor.close()\n",
    "    conn.close()\n",
    "    print(\"Inserção concluída.\")\n",
    "\n",
    "\n"
   ]
  },
  {
   "cell_type": "code",
   "execution_count": null,
   "id": "1534b36f",
   "metadata": {},
   "outputs": [],
   "source": [
    "# Executa\n",
    "criar_tabela_unicos()\n",
    "inserir_processos_unicos()"
   ]
  },
  {
   "cell_type": "markdown",
   "id": "0708853e",
   "metadata": {},
   "source": [
    "## Contando a qtd de tokens de cada ementa_completa e armazenando no banco (este campo será útil para posteriormente avaliar o tamanho das ementas"
   ]
  },
  {
   "cell_type": "code",
   "execution_count": null,
   "id": "45c4bfed",
   "metadata": {},
   "outputs": [],
   "source": [
    "# Tokenizador e modelo carregados localmente\n",
    "tokenizer = AutoTokenizer.from_pretrained(\"C:/Users/Loreane/Documents/bert\")\n",
    "model = AutoModel.from_pretrained(\"C:/Users/Loreane/Documents/bert\")\n",
    "\n",
    "\n",
    "# Atualiza o campo qtd_tokens_ementa\n",
    "def atualizar_qtd_tokens():\n",
    "    conn = get_connection()\n",
    "    cursor = conn.cursor()\n",
    "\n",
    "    # Seleciona todos os registros\n",
    "    df = pd.read_sql_query(\"SELECT numero_processo_tribunal, ementa_completa FROM processos where qtd_tokens_ementa is null\", conn)\n",
    "\n",
    "    for i, row in df.iterrows():\n",
    "        #atribuindo o conteúdo da ementa na variavel texto, e vazio caso ela seja nula\n",
    "        texto = row[\"ementa_completa\"] or \"\"\n",
    "        #Remover os espaços em branco do início e final e sequencias em branco\n",
    "        texto_limpo = re.sub(r'\\s+', ' ', texto.strip())\n",
    "        qtd_tokens = len(tokenizer.tokenize(texto_limpo))\n",
    "        clear_output(wait=True)\n",
    "        cursor.execute(\"\"\"\n",
    "            UPDATE processos\n",
    "            SET qtd_tokens_ementa = %s\n",
    "            WHERE numero_processo_tribunal = %s\n",
    "        \"\"\", (qtd_tokens, row[\"numero_processo_tribunal\"]))\n",
    "\n",
    "        print(f\"{i+1}/{len(df)} - Processo {row['numero_processo_tribunal']}: {qtd_tokens} tokens\")\n",
    "\n",
    "    conn.commit()\n",
    "    cursor.close()\n",
    "    conn.close()\n",
    "    print(\"Atualização concluída com sucesso.\")\n",
    "\n",
    "\n",
    "atualizar_qtd_tokens()\n"
   ]
  },
  {
   "cell_type": "code",
   "execution_count": null,
   "id": "2321ca86",
   "metadata": {},
   "outputs": [],
   "source": []
  }
 ],
 "metadata": {
  "kernelspec": {
   "display_name": "Python 3 (ipykernel)",
   "language": "python",
   "name": "python3"
  },
  "language_info": {
   "codemirror_mode": {
    "name": "ipython",
    "version": 3
   },
   "file_extension": ".py",
   "mimetype": "text/x-python",
   "name": "python",
   "nbconvert_exporter": "python",
   "pygments_lexer": "ipython3",
   "version": "3.9.23"
  }
 },
 "nbformat": 4,
 "nbformat_minor": 5
}
